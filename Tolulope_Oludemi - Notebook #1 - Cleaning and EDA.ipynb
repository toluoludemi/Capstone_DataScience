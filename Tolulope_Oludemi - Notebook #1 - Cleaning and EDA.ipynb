{
 "cells": [
  {
   "cell_type": "markdown",
   "metadata": {
    "id": "OtmJQP1x-OcA"
   },
   "source": [
    "# Capstone Project: Predicting Fraudulent Transactions Using Machine Learning - Data Preparation and Exploratory Data Analysis (EDA)\n",
    "\n",
    "## Author: Tolulope Oludemi\n",
    "\n",
    "## Date: August 8, 2022\n",
    "\n",
    "---"
   ]
  },
  {
   "cell_type": "markdown",
   "metadata": {},
   "source": [
    "\n",
    "# Table of Contents\n",
    "\n",
    "---\n",
    "\n",
    "[I. Problem Statement](#Problem-Statement) <br>\n",
    "\n",
    "\n",
    "[II. The Data](#Source-of-Data) <br>\n",
    "\n",
    "\n",
    "[III. Data Preparation](#Data-Preparation)<br>\n",
    "\n",
    "- [Data Dictionary](#Data-Dictionary)<br>\n",
    "\n",
    "- [Data Cleaning](#Data-Cleaning)<br>\n",
    "    - [Importing Libraries and Dataset](#Import-Libraries-and-Dataset)<br>\n",
    "    - [Inspecting the Data](#Explore-The-Data)<br>\n",
    "    - [Formatting Date Columns Appropriately](#Converting-Date-Columns-to-DateTime)<br>\n",
    "\n",
    "[IV. Data Exploration and Visualization](#Data-Exploration-and-Visualization)<br>\n",
    "- [Categorical Columns](#Categorical-Columns)<br>\n",
    "    - [Findings from Categorical Columns](#Findings-From-Categorical-Columns)<br>\n",
    "- [Univariate Analysis](#Univariate-Analysis---Numeric-Variables)<br>\n",
    "- [Bi-variate Analysis](#Bi-variate-Analysis)<br>\n",
    "    - [Findings from Bi-variate Analysis](#Findings-from-Bi-variate-Analysis)<br>\n",
    "\n",
    "[V. Preprocessing and Feature Engineering](#Preprocessing-and-Feature-Engineering-on-Each-Column)<br>\n",
    "- [`merchant` Column](#merchant-Column-Preprocessing)<br>\n",
    "- [`category` Column](#category-Column-Preprocessing)<br>\n",
    "- [`first` and `last` Column](#first-and-last-Columns-Preprocessing)<br>\n",
    "- [`gender` Column](#gender-Column-Preprocessing)<br>\n",
    "- [`street` Column](#street-Column-Preprocessing)<br>\n",
    "- [`city` Column](#city-Column-Preprocessing)<br>\n",
    "- [`state` Column](#state-Column-Preprocessing)<br>\n",
    "- [`job` Column](#job-Column-Preprocessing)<br>\n",
    "\n",
    "[VI. Saving Cleaned Dataset](#Saving-Cleaned-Dataset-into-csv-File)<br>\n",
    "\n",
    "[VII. Summary of Notebook](#Summary)<br>"
   ]
  },
  {
   "cell_type": "markdown",
   "metadata": {
    "id": "Beyis4oB9HI2"
   },
   "source": [
    "# Problem Statement\n",
    "\n",
    "---\n",
    "\n",
    "**Using machine learning on credit card transactions, can I create a model that predicts fraudulent transactions to allow financial institutions to provide protection to their customer's finances, improving their service, and overall business growth?**\n",
    "\n"
   ]
  },
  {
   "cell_type": "markdown",
   "metadata": {
    "id": "ApLpzVpR9c02"
   },
   "source": [
    "# Source of Data\n",
    "\n",
    "---\n",
    "\n",
    "The dataset is a simulated credit card transaction dataset generated using Sparkov Data Generation tool from Github. The tool was created by Brandon Harris. The simulator has pre-defined list of merchants, customers, and transaction categories. It also had profiles of different categories of people (i.e. adult females in the range of 25-50) with their transactions.\n",
    "\n",
    "Using this tool, a Kaggle user generated transactions across all profiles and merged them together to create a more realistic representation of the simulated transactions. I downloaded the dataset from the Kaggle user.\n",
    "\n",
    "Links of generator and dataset on Kaggle:\n",
    "- Sparkov Data Generation: https://github.com/namebrandon/Sparkov_Data_Generation\n",
    "- Kaggle Dataset: https://www.kaggle.com/datasets/kartik2112/fraud-detection"
   ]
  },
  {
   "cell_type": "markdown",
   "metadata": {
    "id": "JFiJ5pZzCctc"
   },
   "source": [
    "# Data Preparation\n",
    "\n",
    "---\n",
    "In this notebook, I will be loading the raw dataset from the source, conduct data cleaning where applicable, and dive into exploratory data analysis to see if I can get any insights from the data prior to preprocessing and modeling.\n",
    "\n"
   ]
  },
  {
   "cell_type": "markdown",
   "metadata": {
    "id": "-pULPNxtDPHb"
   },
   "source": [
    "## Data Dictionary\n",
    "\n",
    "---\n",
    "\n",
    "Before moving forward with the purpose of this notebook, I will take some time to understand the data dictionary.\n",
    "\n",
    "**Customer Data :**\n",
    "\n",
    "Information Type | Data Description | Data Type | Column Name\n",
    "---------------- |-----------       |-------    | ----------\n",
    "Credit Card Number | The credit card number of the customer       | Numeric    | `cc_num`\n",
    "First Name    | The first name of the customer      | Categorical    | `first`\n",
    "Last Name | The last name of the customer | Categorical | `last`\n",
    "Gender | The gender of the customer (male or female) | Categorical | `gender`\n",
    "Street | The street address of the customer | Categorical | `street`\n",
    "City | The city where the customer lives | Categorical | `city`\n",
    "State | The state where the customer lives | Categorical | `state`\n",
    "Zip Code | The zip code of the customer's location | Numeric | `zip`\n",
    "Latitude | The latitude of the customer's location | Numeric | `lat`\n",
    "Longitude | The longitude of the customer's location | Numeric | `long`\n",
    "City Population | The city population of the customer's location | Numeric | `city_pop`\n",
    "Job Title | The job title of the customer | Categorical | `job`\n",
    "Date of Birth | The customer's date of birth | Categorical | `dob`\n",
    "\n",
    "**Transaction Data :**\n",
    "\n",
    "Information Type    | Data Description          | Data Type   | Column Name\n",
    "----------------    |-----------                |-------      | ----------\n",
    "Transaction Date and Time  | The date and time stamp when the transaction was made       | Categorical    | `trans_date_trans_time`\n",
    "Amount | The amount spent on the transaction | Numeric | `amt`\n",
    "Transaction Number | Unique number for each transaction | Categorical | `trans_num`\n",
    "Fraud Identification | Identifying if the transaction was fraudulent or not | Nuneric | `is_fraud`\n",
    "\n",
    "\n",
    "**Merchant Data:**\n",
    "\n",
    "Information Type    | Data Description          | Data Type   | Column Name\n",
    "----------------    |-----------                |-------      | ----------\n",
    "Merchant Name  | The store where the transaction was made       | Categorical    | `merchant`\n",
    "Category | The category of the item(s) bought (i.e. online shopping, groceries using the POS machine, etc.) | Categorical | `category`\n",
    "Latitude of Merchant | The latitude of where the store is located | Numeric | `merch_lat`\n",
    "Longitude of Merchant | The longitude of where the store is located | Numeric | `merch_long`\n",
    "\n",
    "\n",
    "**The target of interest is the `is_fraud` column, identifying if the transaction made was fraudulent or not**"
   ]
  },
  {
   "cell_type": "markdown",
   "metadata": {
    "id": "MAg5CNQfL3B0"
   },
   "source": [
    "## Data Cleaning"
   ]
  },
  {
   "cell_type": "markdown",
   "metadata": {
    "id": "Tzpr6lt94DW0"
   },
   "source": [
    "### Import Libraries and Dataset"
   ]
  },
  {
   "cell_type": "code",
   "execution_count": 1,
   "metadata": {
    "executionInfo": {
     "elapsed": 320,
     "status": "ok",
     "timestamp": 1659819875867,
     "user": {
      "displayName": "Tolu O.",
      "userId": "04888393322604891463"
     },
     "user_tz": 240
    },
    "id": "kIV6nN_O32_F"
   },
   "outputs": [],
   "source": [
    "# import necessary libraries\n",
    "\n",
    "import seaborn as sns\n",
    "import numpy as np\n",
    "import matplotlib.pyplot as plt\n",
    "import pandas as pd\n",
    "\n",
    "import warnings\n",
    "warnings.filterwarnings('ignore')"
   ]
  },
  {
   "cell_type": "code",
   "execution_count": 2,
   "metadata": {
    "colab": {
     "base_uri": "https://localhost:8080/"
    },
    "executionInfo": {
     "elapsed": 20622,
     "status": "ok",
     "timestamp": 1659819897004,
     "user": {
      "displayName": "Tolu O.",
      "userId": "04888393322604891463"
     },
     "user_tz": 240
    },
    "id": "cD3NydYvPWRC",
    "outputId": "d3407689-f057-48a6-98b1-a928639f4080"
   },
   "outputs": [
    {
     "name": "stdout",
     "output_type": "stream",
     "text": [
      "Mounted at /content/drive\n"
     ]
    }
   ],
   "source": [
    "# Using GoogleColab so I need to set a path for where the data is located\n",
    "\n",
    "from google.colab import drive\n",
    "\n",
    "drive.mount('/content/drive')"
   ]
  },
  {
   "cell_type": "code",
   "execution_count": 3,
   "metadata": {
    "colab": {
     "base_uri": "https://localhost:8080/",
     "height": 577
    },
    "executionInfo": {
     "elapsed": 12310,
     "status": "ok",
     "timestamp": 1659819909310,
     "user": {
      "displayName": "Tolu O.",
      "userId": "04888393322604891463"
     },
     "user_tz": 240
    },
    "id": "2pRqVhMMQTCG",
    "outputId": "b0c91da3-06ad-494a-c481-66d966816595"
   },
   "outputs": [
    {
     "data": {
      "text/html": [
       "\n",
       "  <div id=\"df-fb1e03e8-a5b8-4802-882a-fc9b801a22fc\">\n",
       "    <div class=\"colab-df-container\">\n",
       "      <div>\n",
       "<style scoped>\n",
       "    .dataframe tbody tr th:only-of-type {\n",
       "        vertical-align: middle;\n",
       "    }\n",
       "\n",
       "    .dataframe tbody tr th {\n",
       "        vertical-align: top;\n",
       "    }\n",
       "\n",
       "    .dataframe thead th {\n",
       "        text-align: right;\n",
       "    }\n",
       "</style>\n",
       "<table border=\"1\" class=\"dataframe\">\n",
       "  <thead>\n",
       "    <tr style=\"text-align: right;\">\n",
       "      <th></th>\n",
       "      <th>trans_date_trans_time</th>\n",
       "      <th>cc_num</th>\n",
       "      <th>merchant</th>\n",
       "      <th>category</th>\n",
       "      <th>amt</th>\n",
       "      <th>first</th>\n",
       "      <th>last</th>\n",
       "      <th>gender</th>\n",
       "      <th>street</th>\n",
       "      <th>city</th>\n",
       "      <th>...</th>\n",
       "      <th>lat</th>\n",
       "      <th>long</th>\n",
       "      <th>city_pop</th>\n",
       "      <th>job</th>\n",
       "      <th>dob</th>\n",
       "      <th>trans_num</th>\n",
       "      <th>unix_time</th>\n",
       "      <th>merch_lat</th>\n",
       "      <th>merch_long</th>\n",
       "      <th>is_fraud</th>\n",
       "    </tr>\n",
       "  </thead>\n",
       "  <tbody>\n",
       "    <tr>\n",
       "      <th>0</th>\n",
       "      <td>2019-01-01 00:00:18</td>\n",
       "      <td>2703186189652095</td>\n",
       "      <td>fraud_Rippin, Kub and Mann</td>\n",
       "      <td>misc_net</td>\n",
       "      <td>4.97</td>\n",
       "      <td>Jennifer</td>\n",
       "      <td>Banks</td>\n",
       "      <td>F</td>\n",
       "      <td>561 Perry Cove</td>\n",
       "      <td>Moravian Falls</td>\n",
       "      <td>...</td>\n",
       "      <td>36.0788</td>\n",
       "      <td>-81.1781</td>\n",
       "      <td>3495</td>\n",
       "      <td>Psychologist, counselling</td>\n",
       "      <td>1988-03-09</td>\n",
       "      <td>0b242abb623afc578575680df30655b9</td>\n",
       "      <td>1325376018</td>\n",
       "      <td>36.011293</td>\n",
       "      <td>-82.048315</td>\n",
       "      <td>0</td>\n",
       "    </tr>\n",
       "    <tr>\n",
       "      <th>1</th>\n",
       "      <td>2019-01-01 00:00:44</td>\n",
       "      <td>630423337322</td>\n",
       "      <td>fraud_Heller, Gutmann and Zieme</td>\n",
       "      <td>grocery_pos</td>\n",
       "      <td>107.23</td>\n",
       "      <td>Stephanie</td>\n",
       "      <td>Gill</td>\n",
       "      <td>F</td>\n",
       "      <td>43039 Riley Greens Suite 393</td>\n",
       "      <td>Orient</td>\n",
       "      <td>...</td>\n",
       "      <td>48.8878</td>\n",
       "      <td>-118.2105</td>\n",
       "      <td>149</td>\n",
       "      <td>Special educational needs teacher</td>\n",
       "      <td>1978-06-21</td>\n",
       "      <td>1f76529f8574734946361c461b024d99</td>\n",
       "      <td>1325376044</td>\n",
       "      <td>49.159047</td>\n",
       "      <td>-118.186462</td>\n",
       "      <td>0</td>\n",
       "    </tr>\n",
       "    <tr>\n",
       "      <th>2</th>\n",
       "      <td>2019-01-01 00:00:51</td>\n",
       "      <td>38859492057661</td>\n",
       "      <td>fraud_Lind-Buckridge</td>\n",
       "      <td>entertainment</td>\n",
       "      <td>220.11</td>\n",
       "      <td>Edward</td>\n",
       "      <td>Sanchez</td>\n",
       "      <td>M</td>\n",
       "      <td>594 White Dale Suite 530</td>\n",
       "      <td>Malad City</td>\n",
       "      <td>...</td>\n",
       "      <td>42.1808</td>\n",
       "      <td>-112.2620</td>\n",
       "      <td>4154</td>\n",
       "      <td>Nature conservation officer</td>\n",
       "      <td>1962-01-19</td>\n",
       "      <td>a1a22d70485983eac12b5b88dad1cf95</td>\n",
       "      <td>1325376051</td>\n",
       "      <td>43.150704</td>\n",
       "      <td>-112.154481</td>\n",
       "      <td>0</td>\n",
       "    </tr>\n",
       "    <tr>\n",
       "      <th>3</th>\n",
       "      <td>2019-01-01 00:01:16</td>\n",
       "      <td>3534093764340240</td>\n",
       "      <td>fraud_Kutch, Hermiston and Farrell</td>\n",
       "      <td>gas_transport</td>\n",
       "      <td>45.00</td>\n",
       "      <td>Jeremy</td>\n",
       "      <td>White</td>\n",
       "      <td>M</td>\n",
       "      <td>9443 Cynthia Court Apt. 038</td>\n",
       "      <td>Boulder</td>\n",
       "      <td>...</td>\n",
       "      <td>46.2306</td>\n",
       "      <td>-112.1138</td>\n",
       "      <td>1939</td>\n",
       "      <td>Patent attorney</td>\n",
       "      <td>1967-01-12</td>\n",
       "      <td>6b849c168bdad6f867558c3793159a81</td>\n",
       "      <td>1325376076</td>\n",
       "      <td>47.034331</td>\n",
       "      <td>-112.561071</td>\n",
       "      <td>0</td>\n",
       "    </tr>\n",
       "    <tr>\n",
       "      <th>4</th>\n",
       "      <td>2019-01-01 00:03:06</td>\n",
       "      <td>375534208663984</td>\n",
       "      <td>fraud_Keeling-Crist</td>\n",
       "      <td>misc_pos</td>\n",
       "      <td>41.96</td>\n",
       "      <td>Tyler</td>\n",
       "      <td>Garcia</td>\n",
       "      <td>M</td>\n",
       "      <td>408 Bradley Rest</td>\n",
       "      <td>Doe Hill</td>\n",
       "      <td>...</td>\n",
       "      <td>38.4207</td>\n",
       "      <td>-79.4629</td>\n",
       "      <td>99</td>\n",
       "      <td>Dance movement psychotherapist</td>\n",
       "      <td>1986-03-28</td>\n",
       "      <td>a41d7549acf90789359a9aa5346dcb46</td>\n",
       "      <td>1325376186</td>\n",
       "      <td>38.674999</td>\n",
       "      <td>-78.632459</td>\n",
       "      <td>0</td>\n",
       "    </tr>\n",
       "  </tbody>\n",
       "</table>\n",
       "<p>5 rows × 22 columns</p>\n",
       "</div>\n",
       "      <button class=\"colab-df-convert\" onclick=\"convertToInteractive('df-fb1e03e8-a5b8-4802-882a-fc9b801a22fc')\"\n",
       "              title=\"Convert this dataframe to an interactive table.\"\n",
       "              style=\"display:none;\">\n",
       "        \n",
       "  <svg xmlns=\"http://www.w3.org/2000/svg\" height=\"24px\"viewBox=\"0 0 24 24\"\n",
       "       width=\"24px\">\n",
       "    <path d=\"M0 0h24v24H0V0z\" fill=\"none\"/>\n",
       "    <path d=\"M18.56 5.44l.94 2.06.94-2.06 2.06-.94-2.06-.94-.94-2.06-.94 2.06-2.06.94zm-11 1L8.5 8.5l.94-2.06 2.06-.94-2.06-.94L8.5 2.5l-.94 2.06-2.06.94zm10 10l.94 2.06.94-2.06 2.06-.94-2.06-.94-.94-2.06-.94 2.06-2.06.94z\"/><path d=\"M17.41 7.96l-1.37-1.37c-.4-.4-.92-.59-1.43-.59-.52 0-1.04.2-1.43.59L10.3 9.45l-7.72 7.72c-.78.78-.78 2.05 0 2.83L4 21.41c.39.39.9.59 1.41.59.51 0 1.02-.2 1.41-.59l7.78-7.78 2.81-2.81c.8-.78.8-2.07 0-2.86zM5.41 20L4 18.59l7.72-7.72 1.47 1.35L5.41 20z\"/>\n",
       "  </svg>\n",
       "      </button>\n",
       "      \n",
       "  <style>\n",
       "    .colab-df-container {\n",
       "      display:flex;\n",
       "      flex-wrap:wrap;\n",
       "      gap: 12px;\n",
       "    }\n",
       "\n",
       "    .colab-df-convert {\n",
       "      background-color: #E8F0FE;\n",
       "      border: none;\n",
       "      border-radius: 50%;\n",
       "      cursor: pointer;\n",
       "      display: none;\n",
       "      fill: #1967D2;\n",
       "      height: 32px;\n",
       "      padding: 0 0 0 0;\n",
       "      width: 32px;\n",
       "    }\n",
       "\n",
       "    .colab-df-convert:hover {\n",
       "      background-color: #E2EBFA;\n",
       "      box-shadow: 0px 1px 2px rgba(60, 64, 67, 0.3), 0px 1px 3px 1px rgba(60, 64, 67, 0.15);\n",
       "      fill: #174EA6;\n",
       "    }\n",
       "\n",
       "    [theme=dark] .colab-df-convert {\n",
       "      background-color: #3B4455;\n",
       "      fill: #D2E3FC;\n",
       "    }\n",
       "\n",
       "    [theme=dark] .colab-df-convert:hover {\n",
       "      background-color: #434B5C;\n",
       "      box-shadow: 0px 1px 3px 1px rgba(0, 0, 0, 0.15);\n",
       "      filter: drop-shadow(0px 1px 2px rgba(0, 0, 0, 0.3));\n",
       "      fill: #FFFFFF;\n",
       "    }\n",
       "  </style>\n",
       "\n",
       "      <script>\n",
       "        const buttonEl =\n",
       "          document.querySelector('#df-fb1e03e8-a5b8-4802-882a-fc9b801a22fc button.colab-df-convert');\n",
       "        buttonEl.style.display =\n",
       "          google.colab.kernel.accessAllowed ? 'block' : 'none';\n",
       "\n",
       "        async function convertToInteractive(key) {\n",
       "          const element = document.querySelector('#df-fb1e03e8-a5b8-4802-882a-fc9b801a22fc');\n",
       "          const dataTable =\n",
       "            await google.colab.kernel.invokeFunction('convertToInteractive',\n",
       "                                                     [key], {});\n",
       "          if (!dataTable) return;\n",
       "\n",
       "          const docLinkHtml = 'Like what you see? Visit the ' +\n",
       "            '<a target=\"_blank\" href=https://colab.research.google.com/notebooks/data_table.ipynb>data table notebook</a>'\n",
       "            + ' to learn more about interactive tables.';\n",
       "          element.innerHTML = '';\n",
       "          dataTable['output_type'] = 'display_data';\n",
       "          await google.colab.output.renderOutput(dataTable, element);\n",
       "          const docLink = document.createElement('div');\n",
       "          docLink.innerHTML = docLinkHtml;\n",
       "          element.appendChild(docLink);\n",
       "        }\n",
       "      </script>\n",
       "    </div>\n",
       "  </div>\n",
       "  "
      ],
      "text/plain": [
       "  trans_date_trans_time            cc_num                            merchant  \\\n",
       "0   2019-01-01 00:00:18  2703186189652095          fraud_Rippin, Kub and Mann   \n",
       "1   2019-01-01 00:00:44      630423337322     fraud_Heller, Gutmann and Zieme   \n",
       "2   2019-01-01 00:00:51    38859492057661                fraud_Lind-Buckridge   \n",
       "3   2019-01-01 00:01:16  3534093764340240  fraud_Kutch, Hermiston and Farrell   \n",
       "4   2019-01-01 00:03:06   375534208663984                 fraud_Keeling-Crist   \n",
       "\n",
       "        category     amt      first     last gender  \\\n",
       "0       misc_net    4.97   Jennifer    Banks      F   \n",
       "1    grocery_pos  107.23  Stephanie     Gill      F   \n",
       "2  entertainment  220.11     Edward  Sanchez      M   \n",
       "3  gas_transport   45.00     Jeremy    White      M   \n",
       "4       misc_pos   41.96      Tyler   Garcia      M   \n",
       "\n",
       "                         street            city  ...      lat      long  \\\n",
       "0                561 Perry Cove  Moravian Falls  ...  36.0788  -81.1781   \n",
       "1  43039 Riley Greens Suite 393          Orient  ...  48.8878 -118.2105   \n",
       "2      594 White Dale Suite 530      Malad City  ...  42.1808 -112.2620   \n",
       "3   9443 Cynthia Court Apt. 038         Boulder  ...  46.2306 -112.1138   \n",
       "4              408 Bradley Rest        Doe Hill  ...  38.4207  -79.4629   \n",
       "\n",
       "   city_pop                                job         dob  \\\n",
       "0      3495          Psychologist, counselling  1988-03-09   \n",
       "1       149  Special educational needs teacher  1978-06-21   \n",
       "2      4154        Nature conservation officer  1962-01-19   \n",
       "3      1939                    Patent attorney  1967-01-12   \n",
       "4        99     Dance movement psychotherapist  1986-03-28   \n",
       "\n",
       "                          trans_num   unix_time  merch_lat  merch_long  \\\n",
       "0  0b242abb623afc578575680df30655b9  1325376018  36.011293  -82.048315   \n",
       "1  1f76529f8574734946361c461b024d99  1325376044  49.159047 -118.186462   \n",
       "2  a1a22d70485983eac12b5b88dad1cf95  1325376051  43.150704 -112.154481   \n",
       "3  6b849c168bdad6f867558c3793159a81  1325376076  47.034331 -112.561071   \n",
       "4  a41d7549acf90789359a9aa5346dcb46  1325376186  38.674999  -78.632459   \n",
       "\n",
       "   is_fraud  \n",
       "0         0  \n",
       "1         0  \n",
       "2         0  \n",
       "3         0  \n",
       "4         0  \n",
       "\n",
       "[5 rows x 22 columns]"
      ]
     },
     "execution_count": 3,
     "metadata": {},
     "output_type": "execute_result"
    }
   ],
   "source": [
    "# Read in the dataset\n",
    "\n",
    "cc_trans_df = pd.read_csv(\"/content/drive/MyDrive/Colab Notebooks/data/fraudTrain.csv\", index_col=0)\n",
    "\n",
    "\n",
    "# Inspect the data\n",
    "cc_trans_df.head()"
   ]
  },
  {
   "cell_type": "markdown",
   "metadata": {
    "id": "SdoP4rfjMSQm"
   },
   "source": [
    "### Explore The Data"
   ]
  },
  {
   "cell_type": "code",
   "execution_count": 4,
   "metadata": {
    "colab": {
     "base_uri": "https://localhost:8080/"
    },
    "executionInfo": {
     "elapsed": 10,
     "status": "ok",
     "timestamp": 1659819909311,
     "user": {
      "displayName": "Tolu O.",
      "userId": "04888393322604891463"
     },
     "user_tz": 240
    },
    "id": "bdVjCjA3_82h",
    "outputId": "bb7dbce4-e5b9-4202-b2ac-b4df019b129a"
   },
   "outputs": [
    {
     "data": {
      "text/plain": [
       "(1296675, 22)"
      ]
     },
     "execution_count": 4,
     "metadata": {},
     "output_type": "execute_result"
    }
   ],
   "source": [
    "# See the shape of the dataset\n",
    "\n",
    "cc_trans_df.shape"
   ]
  },
  {
   "cell_type": "markdown",
   "metadata": {
    "id": "_MASL5N-AASU"
   },
   "source": [
    "There are 1,296,675 rows and 22 columns in the dataset."
   ]
  },
  {
   "cell_type": "code",
   "execution_count": 5,
   "metadata": {
    "colab": {
     "base_uri": "https://localhost:8080/"
    },
    "executionInfo": {
     "elapsed": 571,
     "status": "ok",
     "timestamp": 1659819909878,
     "user": {
      "displayName": "Tolu O.",
      "userId": "04888393322604891463"
     },
     "user_tz": 240
    },
    "id": "QoWgaf9I_-y5",
    "outputId": "cda067a9-5204-40bd-9159-5f846974cb5d"
   },
   "outputs": [
    {
     "name": "stdout",
     "output_type": "stream",
     "text": [
      "<class 'pandas.core.frame.DataFrame'>\n",
      "Int64Index: 1296675 entries, 0 to 1296674\n",
      "Data columns (total 22 columns):\n",
      " #   Column                 Non-Null Count    Dtype  \n",
      "---  ------                 --------------    -----  \n",
      " 0   trans_date_trans_time  1296675 non-null  object \n",
      " 1   cc_num                 1296675 non-null  int64  \n",
      " 2   merchant               1296675 non-null  object \n",
      " 3   category               1296675 non-null  object \n",
      " 4   amt                    1296675 non-null  float64\n",
      " 5   first                  1296675 non-null  object \n",
      " 6   last                   1296675 non-null  object \n",
      " 7   gender                 1296675 non-null  object \n",
      " 8   street                 1296675 non-null  object \n",
      " 9   city                   1296675 non-null  object \n",
      " 10  state                  1296675 non-null  object \n",
      " 11  zip                    1296675 non-null  int64  \n",
      " 12  lat                    1296675 non-null  float64\n",
      " 13  long                   1296675 non-null  float64\n",
      " 14  city_pop               1296675 non-null  int64  \n",
      " 15  job                    1296675 non-null  object \n",
      " 16  dob                    1296675 non-null  object \n",
      " 17  trans_num              1296675 non-null  object \n",
      " 18  unix_time              1296675 non-null  int64  \n",
      " 19  merch_lat              1296675 non-null  float64\n",
      " 20  merch_long             1296675 non-null  float64\n",
      " 21  is_fraud               1296675 non-null  int64  \n",
      "dtypes: float64(5), int64(5), object(12)\n",
      "memory usage: 227.5+ MB\n"
     ]
    }
   ],
   "source": [
    "# Check datatypes and format\n",
    "\n",
    "cc_trans_df.info()"
   ]
  },
  {
   "cell_type": "markdown",
   "metadata": {
    "id": "o_Vy2cvgALCX"
   },
   "source": [
    "There are 10 columns that have numerical values (with floats and integers), and 12 columns that are considered categorical with \"object\" data type. By visually inspecting, the data type, there are a few columns that would need to be converted."
   ]
  },
  {
   "cell_type": "code",
   "execution_count": 6,
   "metadata": {
    "colab": {
     "base_uri": "https://localhost:8080/"
    },
    "executionInfo": {
     "elapsed": 8,
     "status": "ok",
     "timestamp": 1659819909878,
     "user": {
      "displayName": "Tolu O.",
      "userId": "04888393322604891463"
     },
     "user_tz": 240
    },
    "id": "DBsoWNTzAILb",
    "outputId": "12f74dca-f5ab-4eb9-9270-1d16d3783c98"
   },
   "outputs": [
    {
     "data": {
      "text/plain": [
       "0    1289169\n",
       "1       7506\n",
       "Name: is_fraud, dtype: int64"
      ]
     },
     "execution_count": 6,
     "metadata": {},
     "output_type": "execute_result"
    }
   ],
   "source": [
    "# See the class distribution\n",
    "\n",
    "cc_trans_df.is_fraud.value_counts()"
   ]
  },
  {
   "cell_type": "markdown",
   "metadata": {
    "id": "vdzzs4p8Akcq"
   },
   "source": [
    "Since `is_fraud` is the target variable, identifying if the transactions are fraudulent (class 1) or not fraudulent (class 0), I did a `value_counts` to see the distribution of the classes.\n",
    "\n",
    "It is clear that there is an extreme class imbalance, with class 0 taking up 99% of the data. This information will be useful for modeling."
   ]
  },
  {
   "cell_type": "code",
   "execution_count": 7,
   "metadata": {
    "colab": {
     "base_uri": "https://localhost:8080/"
    },
    "executionInfo": {
     "elapsed": 2452,
     "status": "ok",
     "timestamp": 1659819912326,
     "user": {
      "displayName": "Tolu O.",
      "userId": "04888393322604891463"
     },
     "user_tz": 240
    },
    "id": "iGd4nA1DAjWG",
    "outputId": "e6022c71-a226-4842-ed7d-9bc60bed58ba"
   },
   "outputs": [
    {
     "data": {
      "text/plain": [
       "0"
      ]
     },
     "execution_count": 7,
     "metadata": {},
     "output_type": "execute_result"
    }
   ],
   "source": [
    "# Checking for duplicates\n",
    "\n",
    "cc_trans_df.duplicated().sum()"
   ]
  },
  {
   "cell_type": "markdown",
   "metadata": {
    "id": "fVyekWWFBDog"
   },
   "source": [
    "There are no duplicated rows."
   ]
  },
  {
   "cell_type": "code",
   "execution_count": 8,
   "metadata": {
    "colab": {
     "base_uri": "https://localhost:8080/"
    },
    "executionInfo": {
     "elapsed": 1140,
     "status": "ok",
     "timestamp": 1659819913463,
     "user": {
      "displayName": "Tolu O.",
      "userId": "04888393322604891463"
     },
     "user_tz": 240
    },
    "id": "SG1PHmjFBBbz",
    "outputId": "e2560e70-9869-40fd-af7b-c85aeaefcf52"
   },
   "outputs": [
    {
     "data": {
      "text/plain": [
       "0"
      ]
     },
     "execution_count": 8,
     "metadata": {},
     "output_type": "execute_result"
    }
   ],
   "source": [
    "# Checking for null values\n",
    "\n",
    "cc_trans_df.isna().sum().sum()"
   ]
  },
  {
   "cell_type": "markdown",
   "metadata": {
    "id": "TZKuxCk7BQS6"
   },
   "source": [
    "There are also no null values in the dataset."
   ]
  },
  {
   "cell_type": "code",
   "execution_count": 9,
   "metadata": {
    "colab": {
     "base_uri": "https://localhost:8080/",
     "height": 577
    },
    "executionInfo": {
     "elapsed": 7,
     "status": "ok",
     "timestamp": 1659819913464,
     "user": {
      "displayName": "Tolu O.",
      "userId": "04888393322604891463"
     },
     "user_tz": 240
    },
    "id": "8-unSvHXBPIZ",
    "outputId": "1b34a518-9a30-4e21-a659-eece525c9dc1"
   },
   "outputs": [
    {
     "data": {
      "text/html": [
       "\n",
       "  <div id=\"df-dc86ab22-0c9c-4c2f-bbae-8bba9ffde33a\">\n",
       "    <div class=\"colab-df-container\">\n",
       "      <div>\n",
       "<style scoped>\n",
       "    .dataframe tbody tr th:only-of-type {\n",
       "        vertical-align: middle;\n",
       "    }\n",
       "\n",
       "    .dataframe tbody tr th {\n",
       "        vertical-align: top;\n",
       "    }\n",
       "\n",
       "    .dataframe thead th {\n",
       "        text-align: right;\n",
       "    }\n",
       "</style>\n",
       "<table border=\"1\" class=\"dataframe\">\n",
       "  <thead>\n",
       "    <tr style=\"text-align: right;\">\n",
       "      <th></th>\n",
       "      <th>trans_date_trans_time</th>\n",
       "      <th>cc_num</th>\n",
       "      <th>merchant</th>\n",
       "      <th>category</th>\n",
       "      <th>amt</th>\n",
       "      <th>first</th>\n",
       "      <th>last</th>\n",
       "      <th>gender</th>\n",
       "      <th>street</th>\n",
       "      <th>city</th>\n",
       "      <th>...</th>\n",
       "      <th>lat</th>\n",
       "      <th>long</th>\n",
       "      <th>city_pop</th>\n",
       "      <th>job</th>\n",
       "      <th>dob</th>\n",
       "      <th>trans_num</th>\n",
       "      <th>unix_time</th>\n",
       "      <th>merch_lat</th>\n",
       "      <th>merch_long</th>\n",
       "      <th>is_fraud</th>\n",
       "    </tr>\n",
       "  </thead>\n",
       "  <tbody>\n",
       "    <tr>\n",
       "      <th>0</th>\n",
       "      <td>2019-01-01 00:00:18</td>\n",
       "      <td>2703186189652095</td>\n",
       "      <td>fraud_Rippin, Kub and Mann</td>\n",
       "      <td>misc_net</td>\n",
       "      <td>4.97</td>\n",
       "      <td>Jennifer</td>\n",
       "      <td>Banks</td>\n",
       "      <td>F</td>\n",
       "      <td>561 Perry Cove</td>\n",
       "      <td>Moravian Falls</td>\n",
       "      <td>...</td>\n",
       "      <td>36.0788</td>\n",
       "      <td>-81.1781</td>\n",
       "      <td>3495</td>\n",
       "      <td>Psychologist, counselling</td>\n",
       "      <td>1988-03-09</td>\n",
       "      <td>0b242abb623afc578575680df30655b9</td>\n",
       "      <td>1325376018</td>\n",
       "      <td>36.011293</td>\n",
       "      <td>-82.048315</td>\n",
       "      <td>0</td>\n",
       "    </tr>\n",
       "    <tr>\n",
       "      <th>1</th>\n",
       "      <td>2019-01-01 00:00:44</td>\n",
       "      <td>630423337322</td>\n",
       "      <td>fraud_Heller, Gutmann and Zieme</td>\n",
       "      <td>grocery_pos</td>\n",
       "      <td>107.23</td>\n",
       "      <td>Stephanie</td>\n",
       "      <td>Gill</td>\n",
       "      <td>F</td>\n",
       "      <td>43039 Riley Greens Suite 393</td>\n",
       "      <td>Orient</td>\n",
       "      <td>...</td>\n",
       "      <td>48.8878</td>\n",
       "      <td>-118.2105</td>\n",
       "      <td>149</td>\n",
       "      <td>Special educational needs teacher</td>\n",
       "      <td>1978-06-21</td>\n",
       "      <td>1f76529f8574734946361c461b024d99</td>\n",
       "      <td>1325376044</td>\n",
       "      <td>49.159047</td>\n",
       "      <td>-118.186462</td>\n",
       "      <td>0</td>\n",
       "    </tr>\n",
       "    <tr>\n",
       "      <th>2</th>\n",
       "      <td>2019-01-01 00:00:51</td>\n",
       "      <td>38859492057661</td>\n",
       "      <td>fraud_Lind-Buckridge</td>\n",
       "      <td>entertainment</td>\n",
       "      <td>220.11</td>\n",
       "      <td>Edward</td>\n",
       "      <td>Sanchez</td>\n",
       "      <td>M</td>\n",
       "      <td>594 White Dale Suite 530</td>\n",
       "      <td>Malad City</td>\n",
       "      <td>...</td>\n",
       "      <td>42.1808</td>\n",
       "      <td>-112.2620</td>\n",
       "      <td>4154</td>\n",
       "      <td>Nature conservation officer</td>\n",
       "      <td>1962-01-19</td>\n",
       "      <td>a1a22d70485983eac12b5b88dad1cf95</td>\n",
       "      <td>1325376051</td>\n",
       "      <td>43.150704</td>\n",
       "      <td>-112.154481</td>\n",
       "      <td>0</td>\n",
       "    </tr>\n",
       "    <tr>\n",
       "      <th>3</th>\n",
       "      <td>2019-01-01 00:01:16</td>\n",
       "      <td>3534093764340240</td>\n",
       "      <td>fraud_Kutch, Hermiston and Farrell</td>\n",
       "      <td>gas_transport</td>\n",
       "      <td>45.00</td>\n",
       "      <td>Jeremy</td>\n",
       "      <td>White</td>\n",
       "      <td>M</td>\n",
       "      <td>9443 Cynthia Court Apt. 038</td>\n",
       "      <td>Boulder</td>\n",
       "      <td>...</td>\n",
       "      <td>46.2306</td>\n",
       "      <td>-112.1138</td>\n",
       "      <td>1939</td>\n",
       "      <td>Patent attorney</td>\n",
       "      <td>1967-01-12</td>\n",
       "      <td>6b849c168bdad6f867558c3793159a81</td>\n",
       "      <td>1325376076</td>\n",
       "      <td>47.034331</td>\n",
       "      <td>-112.561071</td>\n",
       "      <td>0</td>\n",
       "    </tr>\n",
       "    <tr>\n",
       "      <th>4</th>\n",
       "      <td>2019-01-01 00:03:06</td>\n",
       "      <td>375534208663984</td>\n",
       "      <td>fraud_Keeling-Crist</td>\n",
       "      <td>misc_pos</td>\n",
       "      <td>41.96</td>\n",
       "      <td>Tyler</td>\n",
       "      <td>Garcia</td>\n",
       "      <td>M</td>\n",
       "      <td>408 Bradley Rest</td>\n",
       "      <td>Doe Hill</td>\n",
       "      <td>...</td>\n",
       "      <td>38.4207</td>\n",
       "      <td>-79.4629</td>\n",
       "      <td>99</td>\n",
       "      <td>Dance movement psychotherapist</td>\n",
       "      <td>1986-03-28</td>\n",
       "      <td>a41d7549acf90789359a9aa5346dcb46</td>\n",
       "      <td>1325376186</td>\n",
       "      <td>38.674999</td>\n",
       "      <td>-78.632459</td>\n",
       "      <td>0</td>\n",
       "    </tr>\n",
       "  </tbody>\n",
       "</table>\n",
       "<p>5 rows × 22 columns</p>\n",
       "</div>\n",
       "      <button class=\"colab-df-convert\" onclick=\"convertToInteractive('df-dc86ab22-0c9c-4c2f-bbae-8bba9ffde33a')\"\n",
       "              title=\"Convert this dataframe to an interactive table.\"\n",
       "              style=\"display:none;\">\n",
       "        \n",
       "  <svg xmlns=\"http://www.w3.org/2000/svg\" height=\"24px\"viewBox=\"0 0 24 24\"\n",
       "       width=\"24px\">\n",
       "    <path d=\"M0 0h24v24H0V0z\" fill=\"none\"/>\n",
       "    <path d=\"M18.56 5.44l.94 2.06.94-2.06 2.06-.94-2.06-.94-.94-2.06-.94 2.06-2.06.94zm-11 1L8.5 8.5l.94-2.06 2.06-.94-2.06-.94L8.5 2.5l-.94 2.06-2.06.94zm10 10l.94 2.06.94-2.06 2.06-.94-2.06-.94-.94-2.06-.94 2.06-2.06.94z\"/><path d=\"M17.41 7.96l-1.37-1.37c-.4-.4-.92-.59-1.43-.59-.52 0-1.04.2-1.43.59L10.3 9.45l-7.72 7.72c-.78.78-.78 2.05 0 2.83L4 21.41c.39.39.9.59 1.41.59.51 0 1.02-.2 1.41-.59l7.78-7.78 2.81-2.81c.8-.78.8-2.07 0-2.86zM5.41 20L4 18.59l7.72-7.72 1.47 1.35L5.41 20z\"/>\n",
       "  </svg>\n",
       "      </button>\n",
       "      \n",
       "  <style>\n",
       "    .colab-df-container {\n",
       "      display:flex;\n",
       "      flex-wrap:wrap;\n",
       "      gap: 12px;\n",
       "    }\n",
       "\n",
       "    .colab-df-convert {\n",
       "      background-color: #E8F0FE;\n",
       "      border: none;\n",
       "      border-radius: 50%;\n",
       "      cursor: pointer;\n",
       "      display: none;\n",
       "      fill: #1967D2;\n",
       "      height: 32px;\n",
       "      padding: 0 0 0 0;\n",
       "      width: 32px;\n",
       "    }\n",
       "\n",
       "    .colab-df-convert:hover {\n",
       "      background-color: #E2EBFA;\n",
       "      box-shadow: 0px 1px 2px rgba(60, 64, 67, 0.3), 0px 1px 3px 1px rgba(60, 64, 67, 0.15);\n",
       "      fill: #174EA6;\n",
       "    }\n",
       "\n",
       "    [theme=dark] .colab-df-convert {\n",
       "      background-color: #3B4455;\n",
       "      fill: #D2E3FC;\n",
       "    }\n",
       "\n",
       "    [theme=dark] .colab-df-convert:hover {\n",
       "      background-color: #434B5C;\n",
       "      box-shadow: 0px 1px 3px 1px rgba(0, 0, 0, 0.15);\n",
       "      filter: drop-shadow(0px 1px 2px rgba(0, 0, 0, 0.3));\n",
       "      fill: #FFFFFF;\n",
       "    }\n",
       "  </style>\n",
       "\n",
       "      <script>\n",
       "        const buttonEl =\n",
       "          document.querySelector('#df-dc86ab22-0c9c-4c2f-bbae-8bba9ffde33a button.colab-df-convert');\n",
       "        buttonEl.style.display =\n",
       "          google.colab.kernel.accessAllowed ? 'block' : 'none';\n",
       "\n",
       "        async function convertToInteractive(key) {\n",
       "          const element = document.querySelector('#df-dc86ab22-0c9c-4c2f-bbae-8bba9ffde33a');\n",
       "          const dataTable =\n",
       "            await google.colab.kernel.invokeFunction('convertToInteractive',\n",
       "                                                     [key], {});\n",
       "          if (!dataTable) return;\n",
       "\n",
       "          const docLinkHtml = 'Like what you see? Visit the ' +\n",
       "            '<a target=\"_blank\" href=https://colab.research.google.com/notebooks/data_table.ipynb>data table notebook</a>'\n",
       "            + ' to learn more about interactive tables.';\n",
       "          element.innerHTML = '';\n",
       "          dataTable['output_type'] = 'display_data';\n",
       "          await google.colab.output.renderOutput(dataTable, element);\n",
       "          const docLink = document.createElement('div');\n",
       "          docLink.innerHTML = docLinkHtml;\n",
       "          element.appendChild(docLink);\n",
       "        }\n",
       "      </script>\n",
       "    </div>\n",
       "  </div>\n",
       "  "
      ],
      "text/plain": [
       "  trans_date_trans_time            cc_num                            merchant  \\\n",
       "0   2019-01-01 00:00:18  2703186189652095          fraud_Rippin, Kub and Mann   \n",
       "1   2019-01-01 00:00:44      630423337322     fraud_Heller, Gutmann and Zieme   \n",
       "2   2019-01-01 00:00:51    38859492057661                fraud_Lind-Buckridge   \n",
       "3   2019-01-01 00:01:16  3534093764340240  fraud_Kutch, Hermiston and Farrell   \n",
       "4   2019-01-01 00:03:06   375534208663984                 fraud_Keeling-Crist   \n",
       "\n",
       "        category     amt      first     last gender  \\\n",
       "0       misc_net    4.97   Jennifer    Banks      F   \n",
       "1    grocery_pos  107.23  Stephanie     Gill      F   \n",
       "2  entertainment  220.11     Edward  Sanchez      M   \n",
       "3  gas_transport   45.00     Jeremy    White      M   \n",
       "4       misc_pos   41.96      Tyler   Garcia      M   \n",
       "\n",
       "                         street            city  ...      lat      long  \\\n",
       "0                561 Perry Cove  Moravian Falls  ...  36.0788  -81.1781   \n",
       "1  43039 Riley Greens Suite 393          Orient  ...  48.8878 -118.2105   \n",
       "2      594 White Dale Suite 530      Malad City  ...  42.1808 -112.2620   \n",
       "3   9443 Cynthia Court Apt. 038         Boulder  ...  46.2306 -112.1138   \n",
       "4              408 Bradley Rest        Doe Hill  ...  38.4207  -79.4629   \n",
       "\n",
       "   city_pop                                job         dob  \\\n",
       "0      3495          Psychologist, counselling  1988-03-09   \n",
       "1       149  Special educational needs teacher  1978-06-21   \n",
       "2      4154        Nature conservation officer  1962-01-19   \n",
       "3      1939                    Patent attorney  1967-01-12   \n",
       "4        99     Dance movement psychotherapist  1986-03-28   \n",
       "\n",
       "                          trans_num   unix_time  merch_lat  merch_long  \\\n",
       "0  0b242abb623afc578575680df30655b9  1325376018  36.011293  -82.048315   \n",
       "1  1f76529f8574734946361c461b024d99  1325376044  49.159047 -118.186462   \n",
       "2  a1a22d70485983eac12b5b88dad1cf95  1325376051  43.150704 -112.154481   \n",
       "3  6b849c168bdad6f867558c3793159a81  1325376076  47.034331 -112.561071   \n",
       "4  a41d7549acf90789359a9aa5346dcb46  1325376186  38.674999  -78.632459   \n",
       "\n",
       "   is_fraud  \n",
       "0         0  \n",
       "1         0  \n",
       "2         0  \n",
       "3         0  \n",
       "4         0  \n",
       "\n",
       "[5 rows x 22 columns]"
      ]
     },
     "execution_count": 9,
     "metadata": {},
     "output_type": "execute_result"
    }
   ],
   "source": [
    "# Visually inspecting to see if there are duplicates within the columns\n",
    "\n",
    "cc_trans_df.head()"
   ]
  },
  {
   "cell_type": "markdown",
   "metadata": {
    "id": "lJnOsGEhBhPB"
   },
   "source": [
    "By visually inspecting the dataset, it doesn't look like information is duplicated in the columns."
   ]
  },
  {
   "cell_type": "markdown",
   "metadata": {
    "id": "8Xse96oQBsb8"
   },
   "source": [
    "### Converting Date Columns to DateTime\n",
    "\n",
    "As stated previously, the `trans_date_trans_time` and `dob` columns are \"object\" and these need to be changed to a `datetime64` format."
   ]
  },
  {
   "cell_type": "code",
   "execution_count": 10,
   "metadata": {
    "colab": {
     "base_uri": "https://localhost:8080/"
    },
    "executionInfo": {
     "elapsed": 1347,
     "status": "ok",
     "timestamp": 1659819915101,
     "user": {
      "displayName": "Tolu O.",
      "userId": "04888393322604891463"
     },
     "user_tz": 240
    },
    "id": "3CcAYz6HBXwi",
    "outputId": "69a84154-54bf-4242-db20-404520bd9432"
   },
   "outputs": [
    {
     "name": "stdout",
     "output_type": "stream",
     "text": [
      "<class 'pandas.core.frame.DataFrame'>\n",
      "Int64Index: 1296675 entries, 0 to 1296674\n",
      "Data columns (total 22 columns):\n",
      " #   Column                 Non-Null Count    Dtype         \n",
      "---  ------                 --------------    -----         \n",
      " 0   trans_date_trans_time  1296675 non-null  datetime64[ns]\n",
      " 1   cc_num                 1296675 non-null  int64         \n",
      " 2   merchant               1296675 non-null  object        \n",
      " 3   category               1296675 non-null  object        \n",
      " 4   amt                    1296675 non-null  float64       \n",
      " 5   first                  1296675 non-null  object        \n",
      " 6   last                   1296675 non-null  object        \n",
      " 7   gender                 1296675 non-null  object        \n",
      " 8   street                 1296675 non-null  object        \n",
      " 9   city                   1296675 non-null  object        \n",
      " 10  state                  1296675 non-null  object        \n",
      " 11  zip                    1296675 non-null  int64         \n",
      " 12  lat                    1296675 non-null  float64       \n",
      " 13  long                   1296675 non-null  float64       \n",
      " 14  city_pop               1296675 non-null  int64         \n",
      " 15  job                    1296675 non-null  object        \n",
      " 16  dob                    1296675 non-null  datetime64[ns]\n",
      " 17  trans_num              1296675 non-null  object        \n",
      " 18  unix_time              1296675 non-null  int64         \n",
      " 19  merch_lat              1296675 non-null  float64       \n",
      " 20  merch_long             1296675 non-null  float64       \n",
      " 21  is_fraud               1296675 non-null  int64         \n",
      "dtypes: datetime64[ns](2), float64(5), int64(5), object(10)\n",
      "memory usage: 227.5+ MB\n"
     ]
    }
   ],
   "source": [
    "# Converting the 'trans_date_trans_time' and 'dob' columns\n",
    "cc_trans_df['trans_date_trans_time'] = cc_trans_df['trans_date_trans_time'].astype('datetime64')\n",
    "\n",
    "cc_trans_df['dob'] = cc_trans_df['dob'].astype('datetime64')\n",
    "\n",
    "cc_trans_df.info()"
   ]
  },
  {
   "cell_type": "markdown",
   "metadata": {
    "id": "uCwD7AiqSk4-"
   },
   "source": [
    "# Data Exploration and Visualization\n",
    "\n",
    "Now that the dataset has been cleaned and formatted, the next step is to explore the relationship between the target (`is_fraud`) and features."
   ]
  },
  {
   "cell_type": "code",
   "execution_count": 11,
   "metadata": {
    "colab": {
     "base_uri": "https://localhost:8080/"
    },
    "executionInfo": {
     "elapsed": 12,
     "status": "ok",
     "timestamp": 1659819915102,
     "user": {
      "displayName": "Tolu O.",
      "userId": "04888393322604891463"
     },
     "user_tz": 240
    },
    "id": "PBjGbXXdR0C9",
    "outputId": "aea97a8b-a10e-460d-f74f-2653fa04c28e"
   },
   "outputs": [
    {
     "data": {
      "text/plain": [
       "0    99.421135\n",
       "1     0.578865\n",
       "Name: is_fraud, dtype: float64"
      ]
     },
     "execution_count": 11,
     "metadata": {},
     "output_type": "execute_result"
    }
   ],
   "source": [
    "# To see the percentage of fraudulent and non-fraudulent transactions\n",
    "\n",
    "(cc_trans_df['is_fraud'].value_counts() / cc_trans_df.shape[0]) *100"
   ]
  },
  {
   "cell_type": "code",
   "execution_count": 36,
   "metadata": {
    "colab": {
     "base_uri": "https://localhost:8080/",
     "height": 537
    },
    "executionInfo": {
     "elapsed": 243,
     "status": "ok",
     "timestamp": 1659820764892,
     "user": {
      "displayName": "Tolu O.",
      "userId": "04888393322604891463"
     },
     "user_tz": 240
    },
    "id": "B4uXTBQj-tkA",
    "outputId": "dda2c7f8-6e09-4a0f-8bfb-7c9577ec0ff1"
   },
   "outputs": [
    {
     "data": {
      "text/html": [
       "<html>\n",
       "<head><meta charset=\"utf-8\" /></head>\n",
       "<body>\n",
       "    <div>            <script src=\"https://cdnjs.cloudflare.com/ajax/libs/mathjax/2.7.5/MathJax.js?config=TeX-AMS-MML_SVG\"></script><script type=\"text/javascript\">if (window.MathJax) {MathJax.Hub.Config({SVG: {font: \"STIX-Web\"}});}</script>                <script type=\"text/javascript\">window.PlotlyConfig = {MathJaxConfig: 'local'};</script>\n",
       "        <script src=\"https://cdn.plot.ly/plotly-2.8.3.min.js\"></script>                <div id=\"63c96dfa-bee0-482e-9239-08c448f0460e\" class=\"plotly-graph-div\" style=\"height:500px; width:1500px;\"></div>            <script type=\"text/javascript\">                                    window.PLOTLYENV=window.PLOTLYENV || {};                                    if (document.getElementById(\"63c96dfa-bee0-482e-9239-08c448f0460e\")) {                    Plotly.newPlot(                        \"63c96dfa-bee0-482e-9239-08c448f0460e\",                        [{\"alignmentgroup\":\"True\",\"hovertemplate\":\"Percentage of Class(%)=%{x}<br>Non-fraudulent(0) or Fraudulent(1)=%{y}<extra></extra>\",\"legendgroup\":\"\",\"marker\":{\"color\":\"#636efa\",\"pattern\":{\"shape\":\"\"}},\"name\":\"\",\"offsetgroup\":\"\",\"orientation\":\"h\",\"showlegend\":false,\"textposition\":\"auto\",\"x\":[99.42113482561166,0.5788651743883394],\"xaxis\":\"x\",\"y\":[0,1],\"yaxis\":\"y\",\"type\":\"bar\"}],                        {\"template\":{\"data\":{\"bar\":[{\"error_x\":{\"color\":\"#2a3f5f\"},\"error_y\":{\"color\":\"#2a3f5f\"},\"marker\":{\"line\":{\"color\":\"#E5ECF6\",\"width\":0.5},\"pattern\":{\"fillmode\":\"overlay\",\"size\":10,\"solidity\":0.2}},\"type\":\"bar\"}],\"barpolar\":[{\"marker\":{\"line\":{\"color\":\"#E5ECF6\",\"width\":0.5},\"pattern\":{\"fillmode\":\"overlay\",\"size\":10,\"solidity\":0.2}},\"type\":\"barpolar\"}],\"carpet\":[{\"aaxis\":{\"endlinecolor\":\"#2a3f5f\",\"gridcolor\":\"white\",\"linecolor\":\"white\",\"minorgridcolor\":\"white\",\"startlinecolor\":\"#2a3f5f\"},\"baxis\":{\"endlinecolor\":\"#2a3f5f\",\"gridcolor\":\"white\",\"linecolor\":\"white\",\"minorgridcolor\":\"white\",\"startlinecolor\":\"#2a3f5f\"},\"type\":\"carpet\"}],\"choropleth\":[{\"colorbar\":{\"outlinewidth\":0,\"ticks\":\"\"},\"type\":\"choropleth\"}],\"contour\":[{\"colorbar\":{\"outlinewidth\":0,\"ticks\":\"\"},\"colorscale\":[[0.0,\"#0d0887\"],[0.1111111111111111,\"#46039f\"],[0.2222222222222222,\"#7201a8\"],[0.3333333333333333,\"#9c179e\"],[0.4444444444444444,\"#bd3786\"],[0.5555555555555556,\"#d8576b\"],[0.6666666666666666,\"#ed7953\"],[0.7777777777777778,\"#fb9f3a\"],[0.8888888888888888,\"#fdca26\"],[1.0,\"#f0f921\"]],\"type\":\"contour\"}],\"contourcarpet\":[{\"colorbar\":{\"outlinewidth\":0,\"ticks\":\"\"},\"type\":\"contourcarpet\"}],\"heatmap\":[{\"colorbar\":{\"outlinewidth\":0,\"ticks\":\"\"},\"colorscale\":[[0.0,\"#0d0887\"],[0.1111111111111111,\"#46039f\"],[0.2222222222222222,\"#7201a8\"],[0.3333333333333333,\"#9c179e\"],[0.4444444444444444,\"#bd3786\"],[0.5555555555555556,\"#d8576b\"],[0.6666666666666666,\"#ed7953\"],[0.7777777777777778,\"#fb9f3a\"],[0.8888888888888888,\"#fdca26\"],[1.0,\"#f0f921\"]],\"type\":\"heatmap\"}],\"heatmapgl\":[{\"colorbar\":{\"outlinewidth\":0,\"ticks\":\"\"},\"colorscale\":[[0.0,\"#0d0887\"],[0.1111111111111111,\"#46039f\"],[0.2222222222222222,\"#7201a8\"],[0.3333333333333333,\"#9c179e\"],[0.4444444444444444,\"#bd3786\"],[0.5555555555555556,\"#d8576b\"],[0.6666666666666666,\"#ed7953\"],[0.7777777777777778,\"#fb9f3a\"],[0.8888888888888888,\"#fdca26\"],[1.0,\"#f0f921\"]],\"type\":\"heatmapgl\"}],\"histogram\":[{\"marker\":{\"pattern\":{\"fillmode\":\"overlay\",\"size\":10,\"solidity\":0.2}},\"type\":\"histogram\"}],\"histogram2d\":[{\"colorbar\":{\"outlinewidth\":0,\"ticks\":\"\"},\"colorscale\":[[0.0,\"#0d0887\"],[0.1111111111111111,\"#46039f\"],[0.2222222222222222,\"#7201a8\"],[0.3333333333333333,\"#9c179e\"],[0.4444444444444444,\"#bd3786\"],[0.5555555555555556,\"#d8576b\"],[0.6666666666666666,\"#ed7953\"],[0.7777777777777778,\"#fb9f3a\"],[0.8888888888888888,\"#fdca26\"],[1.0,\"#f0f921\"]],\"type\":\"histogram2d\"}],\"histogram2dcontour\":[{\"colorbar\":{\"outlinewidth\":0,\"ticks\":\"\"},\"colorscale\":[[0.0,\"#0d0887\"],[0.1111111111111111,\"#46039f\"],[0.2222222222222222,\"#7201a8\"],[0.3333333333333333,\"#9c179e\"],[0.4444444444444444,\"#bd3786\"],[0.5555555555555556,\"#d8576b\"],[0.6666666666666666,\"#ed7953\"],[0.7777777777777778,\"#fb9f3a\"],[0.8888888888888888,\"#fdca26\"],[1.0,\"#f0f921\"]],\"type\":\"histogram2dcontour\"}],\"mesh3d\":[{\"colorbar\":{\"outlinewidth\":0,\"ticks\":\"\"},\"type\":\"mesh3d\"}],\"parcoords\":[{\"line\":{\"colorbar\":{\"outlinewidth\":0,\"ticks\":\"\"}},\"type\":\"parcoords\"}],\"pie\":[{\"automargin\":true,\"type\":\"pie\"}],\"scatter\":[{\"marker\":{\"colorbar\":{\"outlinewidth\":0,\"ticks\":\"\"}},\"type\":\"scatter\"}],\"scatter3d\":[{\"line\":{\"colorbar\":{\"outlinewidth\":0,\"ticks\":\"\"}},\"marker\":{\"colorbar\":{\"outlinewidth\":0,\"ticks\":\"\"}},\"type\":\"scatter3d\"}],\"scattercarpet\":[{\"marker\":{\"colorbar\":{\"outlinewidth\":0,\"ticks\":\"\"}},\"type\":\"scattercarpet\"}],\"scattergeo\":[{\"marker\":{\"colorbar\":{\"outlinewidth\":0,\"ticks\":\"\"}},\"type\":\"scattergeo\"}],\"scattergl\":[{\"marker\":{\"colorbar\":{\"outlinewidth\":0,\"ticks\":\"\"}},\"type\":\"scattergl\"}],\"scattermapbox\":[{\"marker\":{\"colorbar\":{\"outlinewidth\":0,\"ticks\":\"\"}},\"type\":\"scattermapbox\"}],\"scatterpolar\":[{\"marker\":{\"colorbar\":{\"outlinewidth\":0,\"ticks\":\"\"}},\"type\":\"scatterpolar\"}],\"scatterpolargl\":[{\"marker\":{\"colorbar\":{\"outlinewidth\":0,\"ticks\":\"\"}},\"type\":\"scatterpolargl\"}],\"scatterternary\":[{\"marker\":{\"colorbar\":{\"outlinewidth\":0,\"ticks\":\"\"}},\"type\":\"scatterternary\"}],\"surface\":[{\"colorbar\":{\"outlinewidth\":0,\"ticks\":\"\"},\"colorscale\":[[0.0,\"#0d0887\"],[0.1111111111111111,\"#46039f\"],[0.2222222222222222,\"#7201a8\"],[0.3333333333333333,\"#9c179e\"],[0.4444444444444444,\"#bd3786\"],[0.5555555555555556,\"#d8576b\"],[0.6666666666666666,\"#ed7953\"],[0.7777777777777778,\"#fb9f3a\"],[0.8888888888888888,\"#fdca26\"],[1.0,\"#f0f921\"]],\"type\":\"surface\"}],\"table\":[{\"cells\":{\"fill\":{\"color\":\"#EBF0F8\"},\"line\":{\"color\":\"white\"}},\"header\":{\"fill\":{\"color\":\"#C8D4E3\"},\"line\":{\"color\":\"white\"}},\"type\":\"table\"}]},\"layout\":{\"annotationdefaults\":{\"arrowcolor\":\"#2a3f5f\",\"arrowhead\":0,\"arrowwidth\":1},\"autotypenumbers\":\"strict\",\"coloraxis\":{\"colorbar\":{\"outlinewidth\":0,\"ticks\":\"\"}},\"colorscale\":{\"diverging\":[[0,\"#8e0152\"],[0.1,\"#c51b7d\"],[0.2,\"#de77ae\"],[0.3,\"#f1b6da\"],[0.4,\"#fde0ef\"],[0.5,\"#f7f7f7\"],[0.6,\"#e6f5d0\"],[0.7,\"#b8e186\"],[0.8,\"#7fbc41\"],[0.9,\"#4d9221\"],[1,\"#276419\"]],\"sequential\":[[0.0,\"#0d0887\"],[0.1111111111111111,\"#46039f\"],[0.2222222222222222,\"#7201a8\"],[0.3333333333333333,\"#9c179e\"],[0.4444444444444444,\"#bd3786\"],[0.5555555555555556,\"#d8576b\"],[0.6666666666666666,\"#ed7953\"],[0.7777777777777778,\"#fb9f3a\"],[0.8888888888888888,\"#fdca26\"],[1.0,\"#f0f921\"]],\"sequentialminus\":[[0.0,\"#0d0887\"],[0.1111111111111111,\"#46039f\"],[0.2222222222222222,\"#7201a8\"],[0.3333333333333333,\"#9c179e\"],[0.4444444444444444,\"#bd3786\"],[0.5555555555555556,\"#d8576b\"],[0.6666666666666666,\"#ed7953\"],[0.7777777777777778,\"#fb9f3a\"],[0.8888888888888888,\"#fdca26\"],[1.0,\"#f0f921\"]]},\"colorway\":[\"#636efa\",\"#EF553B\",\"#00cc96\",\"#ab63fa\",\"#FFA15A\",\"#19d3f3\",\"#FF6692\",\"#B6E880\",\"#FF97FF\",\"#FECB52\"],\"font\":{\"color\":\"#2a3f5f\"},\"geo\":{\"bgcolor\":\"white\",\"lakecolor\":\"white\",\"landcolor\":\"#E5ECF6\",\"showlakes\":true,\"showland\":true,\"subunitcolor\":\"white\"},\"hoverlabel\":{\"align\":\"left\"},\"hovermode\":\"closest\",\"mapbox\":{\"style\":\"light\"},\"paper_bgcolor\":\"white\",\"plot_bgcolor\":\"#E5ECF6\",\"polar\":{\"angularaxis\":{\"gridcolor\":\"white\",\"linecolor\":\"white\",\"ticks\":\"\"},\"bgcolor\":\"#E5ECF6\",\"radialaxis\":{\"gridcolor\":\"white\",\"linecolor\":\"white\",\"ticks\":\"\"}},\"scene\":{\"xaxis\":{\"backgroundcolor\":\"#E5ECF6\",\"gridcolor\":\"white\",\"gridwidth\":2,\"linecolor\":\"white\",\"showbackground\":true,\"ticks\":\"\",\"zerolinecolor\":\"white\"},\"yaxis\":{\"backgroundcolor\":\"#E5ECF6\",\"gridcolor\":\"white\",\"gridwidth\":2,\"linecolor\":\"white\",\"showbackground\":true,\"ticks\":\"\",\"zerolinecolor\":\"white\"},\"zaxis\":{\"backgroundcolor\":\"#E5ECF6\",\"gridcolor\":\"white\",\"gridwidth\":2,\"linecolor\":\"white\",\"showbackground\":true,\"ticks\":\"\",\"zerolinecolor\":\"white\"}},\"shapedefaults\":{\"line\":{\"color\":\"#2a3f5f\"}},\"ternary\":{\"aaxis\":{\"gridcolor\":\"white\",\"linecolor\":\"white\",\"ticks\":\"\"},\"baxis\":{\"gridcolor\":\"white\",\"linecolor\":\"white\",\"ticks\":\"\"},\"bgcolor\":\"#E5ECF6\",\"caxis\":{\"gridcolor\":\"white\",\"linecolor\":\"white\",\"ticks\":\"\"}},\"title\":{\"x\":0.05},\"xaxis\":{\"automargin\":true,\"gridcolor\":\"white\",\"linecolor\":\"white\",\"ticks\":\"\",\"title\":{\"standoff\":15},\"zerolinecolor\":\"white\",\"zerolinewidth\":2},\"yaxis\":{\"automargin\":true,\"gridcolor\":\"white\",\"linecolor\":\"white\",\"ticks\":\"\",\"title\":{\"standoff\":15},\"zerolinecolor\":\"white\",\"zerolinewidth\":2}}},\"xaxis\":{\"anchor\":\"y\",\"domain\":[0.0,1.0],\"title\":{\"text\":\"Percentage of Class(%)\"}},\"yaxis\":{\"anchor\":\"x\",\"domain\":[0.0,1.0],\"title\":{\"text\":\"Non-fraudulent(0) or Fraudulent(1)\"}},\"legend\":{\"tracegroupgap\":0},\"title\":{\"text\":\"Percentage of Non-fraudulent and Fraudulent Transactions\"},\"barmode\":\"relative\",\"height\":500,\"width\":1500},                        {\"responsive\": true}                    ).then(function(){\n",
       "                            \n",
       "var gd = document.getElementById('63c96dfa-bee0-482e-9239-08c448f0460e');\n",
       "var x = new MutationObserver(function (mutations, observer) {{\n",
       "        var display = window.getComputedStyle(gd).display;\n",
       "        if (!display || display === 'none') {{\n",
       "            console.log([gd, 'removed!']);\n",
       "            Plotly.purge(gd);\n",
       "            observer.disconnect();\n",
       "        }}\n",
       "}});\n",
       "\n",
       "// Listen for the removal of the full notebook cells\n",
       "var notebookContainer = gd.closest('#notebook-container');\n",
       "if (notebookContainer) {{\n",
       "    x.observe(notebookContainer, {childList: true});\n",
       "}}\n",
       "\n",
       "// Listen for the clearing of the current output cell\n",
       "var outputEl = gd.closest('.output');\n",
       "if (outputEl) {{\n",
       "    x.observe(outputEl, {childList: true});\n",
       "}}\n",
       "\n",
       "                        })                };                            </script>        </div>\n",
       "</body>\n",
       "</html>"
      ]
     },
     "metadata": {},
     "output_type": "display_data"
    }
   ],
   "source": [
    "# Put the percentage in a bar plot\n",
    "\n",
    "prop_fraud_trans = cc_trans_df['is_fraud'].value_counts() / cc_trans_df.shape[0]\n",
    "\n",
    "import plotly.express as px\n",
    "\n",
    "fig = px.bar(prop_fraud_trans, y=prop_fraud_trans.index, x=prop_fraud_trans.values*100, \n",
    "             orientation='h',\n",
    "             labels={'x': 'Percentage of Class(%)', 'index': 'Non-fraudulent(0) or Fraudulent(1)'},\n",
    "             title='Percentage of Non-fraudulent and Fraudulent Transactions',\n",
    "             width=1500, height=500)\n",
    "\n",
    "fig.show()"
   ]
  },
  {
   "cell_type": "markdown",
   "metadata": {
    "id": "wG8hZqUCT6oy"
   },
   "source": [
    "The figure shows that 99.4% of the data is identified as Class \"0\", which is non-fraudulent transactions. About 0.6% of the data is Class \"1\", which is fraudulent transactions. This means that the there is an extreme class imbalance in this dataset. This could affect the model's recall and precision, so during Pre-Processing I would have to find a way to balance these out as much as I can.\n",
    "\n",
    "---\n",
    "\n",
    "I want to check that the numeric columns do not contain suspicious values. I will use `describe` to get a breakdown of the summary characteristics for the numeric columns."
   ]
  },
  {
   "cell_type": "code",
   "execution_count": 13,
   "metadata": {
    "colab": {
     "base_uri": "https://localhost:8080/",
     "height": 300
    },
    "executionInfo": {
     "elapsed": 306,
     "status": "ok",
     "timestamp": 1659819915404,
     "user": {
      "displayName": "Tolu O.",
      "userId": "04888393322604891463"
     },
     "user_tz": 240
    },
    "id": "4gLJfR__TR9p",
    "outputId": "8f84751a-ad55-4656-c830-c93277a7e88b"
   },
   "outputs": [
    {
     "data": {
      "text/html": [
       "\n",
       "  <div id=\"df-61bb2ff0-29e2-4a99-95b3-7e414ade4099\">\n",
       "    <div class=\"colab-df-container\">\n",
       "      <div>\n",
       "<style scoped>\n",
       "    .dataframe tbody tr th:only-of-type {\n",
       "        vertical-align: middle;\n",
       "    }\n",
       "\n",
       "    .dataframe tbody tr th {\n",
       "        vertical-align: top;\n",
       "    }\n",
       "\n",
       "    .dataframe thead th {\n",
       "        text-align: right;\n",
       "    }\n",
       "</style>\n",
       "<table border=\"1\" class=\"dataframe\">\n",
       "  <thead>\n",
       "    <tr style=\"text-align: right;\">\n",
       "      <th></th>\n",
       "      <th>cc_num</th>\n",
       "      <th>amt</th>\n",
       "      <th>zip</th>\n",
       "      <th>lat</th>\n",
       "      <th>long</th>\n",
       "      <th>city_pop</th>\n",
       "      <th>unix_time</th>\n",
       "      <th>merch_lat</th>\n",
       "      <th>merch_long</th>\n",
       "      <th>is_fraud</th>\n",
       "    </tr>\n",
       "  </thead>\n",
       "  <tbody>\n",
       "    <tr>\n",
       "      <th>count</th>\n",
       "      <td>1.296675e+06</td>\n",
       "      <td>1.296675e+06</td>\n",
       "      <td>1.296675e+06</td>\n",
       "      <td>1.296675e+06</td>\n",
       "      <td>1.296675e+06</td>\n",
       "      <td>1.296675e+06</td>\n",
       "      <td>1.296675e+06</td>\n",
       "      <td>1.296675e+06</td>\n",
       "      <td>1.296675e+06</td>\n",
       "      <td>1.296675e+06</td>\n",
       "    </tr>\n",
       "    <tr>\n",
       "      <th>mean</th>\n",
       "      <td>4.171920e+17</td>\n",
       "      <td>7.035104e+01</td>\n",
       "      <td>4.880067e+04</td>\n",
       "      <td>3.853762e+01</td>\n",
       "      <td>-9.022634e+01</td>\n",
       "      <td>8.882444e+04</td>\n",
       "      <td>1.349244e+09</td>\n",
       "      <td>3.853734e+01</td>\n",
       "      <td>-9.022646e+01</td>\n",
       "      <td>5.788652e-03</td>\n",
       "    </tr>\n",
       "    <tr>\n",
       "      <th>std</th>\n",
       "      <td>1.308806e+18</td>\n",
       "      <td>1.603160e+02</td>\n",
       "      <td>2.689322e+04</td>\n",
       "      <td>5.075808e+00</td>\n",
       "      <td>1.375908e+01</td>\n",
       "      <td>3.019564e+05</td>\n",
       "      <td>1.284128e+07</td>\n",
       "      <td>5.109788e+00</td>\n",
       "      <td>1.377109e+01</td>\n",
       "      <td>7.586269e-02</td>\n",
       "    </tr>\n",
       "    <tr>\n",
       "      <th>min</th>\n",
       "      <td>6.041621e+10</td>\n",
       "      <td>1.000000e+00</td>\n",
       "      <td>1.257000e+03</td>\n",
       "      <td>2.002710e+01</td>\n",
       "      <td>-1.656723e+02</td>\n",
       "      <td>2.300000e+01</td>\n",
       "      <td>1.325376e+09</td>\n",
       "      <td>1.902779e+01</td>\n",
       "      <td>-1.666712e+02</td>\n",
       "      <td>0.000000e+00</td>\n",
       "    </tr>\n",
       "    <tr>\n",
       "      <th>25%</th>\n",
       "      <td>1.800429e+14</td>\n",
       "      <td>9.650000e+00</td>\n",
       "      <td>2.623700e+04</td>\n",
       "      <td>3.462050e+01</td>\n",
       "      <td>-9.679800e+01</td>\n",
       "      <td>7.430000e+02</td>\n",
       "      <td>1.338751e+09</td>\n",
       "      <td>3.473357e+01</td>\n",
       "      <td>-9.689728e+01</td>\n",
       "      <td>0.000000e+00</td>\n",
       "    </tr>\n",
       "    <tr>\n",
       "      <th>50%</th>\n",
       "      <td>3.521417e+15</td>\n",
       "      <td>4.752000e+01</td>\n",
       "      <td>4.817400e+04</td>\n",
       "      <td>3.935430e+01</td>\n",
       "      <td>-8.747690e+01</td>\n",
       "      <td>2.456000e+03</td>\n",
       "      <td>1.349250e+09</td>\n",
       "      <td>3.936568e+01</td>\n",
       "      <td>-8.743839e+01</td>\n",
       "      <td>0.000000e+00</td>\n",
       "    </tr>\n",
       "    <tr>\n",
       "      <th>75%</th>\n",
       "      <td>4.642255e+15</td>\n",
       "      <td>8.314000e+01</td>\n",
       "      <td>7.204200e+04</td>\n",
       "      <td>4.194040e+01</td>\n",
       "      <td>-8.015800e+01</td>\n",
       "      <td>2.032800e+04</td>\n",
       "      <td>1.359385e+09</td>\n",
       "      <td>4.195716e+01</td>\n",
       "      <td>-8.023680e+01</td>\n",
       "      <td>0.000000e+00</td>\n",
       "    </tr>\n",
       "    <tr>\n",
       "      <th>max</th>\n",
       "      <td>4.992346e+18</td>\n",
       "      <td>2.894890e+04</td>\n",
       "      <td>9.978300e+04</td>\n",
       "      <td>6.669330e+01</td>\n",
       "      <td>-6.795030e+01</td>\n",
       "      <td>2.906700e+06</td>\n",
       "      <td>1.371817e+09</td>\n",
       "      <td>6.751027e+01</td>\n",
       "      <td>-6.695090e+01</td>\n",
       "      <td>1.000000e+00</td>\n",
       "    </tr>\n",
       "  </tbody>\n",
       "</table>\n",
       "</div>\n",
       "      <button class=\"colab-df-convert\" onclick=\"convertToInteractive('df-61bb2ff0-29e2-4a99-95b3-7e414ade4099')\"\n",
       "              title=\"Convert this dataframe to an interactive table.\"\n",
       "              style=\"display:none;\">\n",
       "        \n",
       "  <svg xmlns=\"http://www.w3.org/2000/svg\" height=\"24px\"viewBox=\"0 0 24 24\"\n",
       "       width=\"24px\">\n",
       "    <path d=\"M0 0h24v24H0V0z\" fill=\"none\"/>\n",
       "    <path d=\"M18.56 5.44l.94 2.06.94-2.06 2.06-.94-2.06-.94-.94-2.06-.94 2.06-2.06.94zm-11 1L8.5 8.5l.94-2.06 2.06-.94-2.06-.94L8.5 2.5l-.94 2.06-2.06.94zm10 10l.94 2.06.94-2.06 2.06-.94-2.06-.94-.94-2.06-.94 2.06-2.06.94z\"/><path d=\"M17.41 7.96l-1.37-1.37c-.4-.4-.92-.59-1.43-.59-.52 0-1.04.2-1.43.59L10.3 9.45l-7.72 7.72c-.78.78-.78 2.05 0 2.83L4 21.41c.39.39.9.59 1.41.59.51 0 1.02-.2 1.41-.59l7.78-7.78 2.81-2.81c.8-.78.8-2.07 0-2.86zM5.41 20L4 18.59l7.72-7.72 1.47 1.35L5.41 20z\"/>\n",
       "  </svg>\n",
       "      </button>\n",
       "      \n",
       "  <style>\n",
       "    .colab-df-container {\n",
       "      display:flex;\n",
       "      flex-wrap:wrap;\n",
       "      gap: 12px;\n",
       "    }\n",
       "\n",
       "    .colab-df-convert {\n",
       "      background-color: #E8F0FE;\n",
       "      border: none;\n",
       "      border-radius: 50%;\n",
       "      cursor: pointer;\n",
       "      display: none;\n",
       "      fill: #1967D2;\n",
       "      height: 32px;\n",
       "      padding: 0 0 0 0;\n",
       "      width: 32px;\n",
       "    }\n",
       "\n",
       "    .colab-df-convert:hover {\n",
       "      background-color: #E2EBFA;\n",
       "      box-shadow: 0px 1px 2px rgba(60, 64, 67, 0.3), 0px 1px 3px 1px rgba(60, 64, 67, 0.15);\n",
       "      fill: #174EA6;\n",
       "    }\n",
       "\n",
       "    [theme=dark] .colab-df-convert {\n",
       "      background-color: #3B4455;\n",
       "      fill: #D2E3FC;\n",
       "    }\n",
       "\n",
       "    [theme=dark] .colab-df-convert:hover {\n",
       "      background-color: #434B5C;\n",
       "      box-shadow: 0px 1px 3px 1px rgba(0, 0, 0, 0.15);\n",
       "      filter: drop-shadow(0px 1px 2px rgba(0, 0, 0, 0.3));\n",
       "      fill: #FFFFFF;\n",
       "    }\n",
       "  </style>\n",
       "\n",
       "      <script>\n",
       "        const buttonEl =\n",
       "          document.querySelector('#df-61bb2ff0-29e2-4a99-95b3-7e414ade4099 button.colab-df-convert');\n",
       "        buttonEl.style.display =\n",
       "          google.colab.kernel.accessAllowed ? 'block' : 'none';\n",
       "\n",
       "        async function convertToInteractive(key) {\n",
       "          const element = document.querySelector('#df-61bb2ff0-29e2-4a99-95b3-7e414ade4099');\n",
       "          const dataTable =\n",
       "            await google.colab.kernel.invokeFunction('convertToInteractive',\n",
       "                                                     [key], {});\n",
       "          if (!dataTable) return;\n",
       "\n",
       "          const docLinkHtml = 'Like what you see? Visit the ' +\n",
       "            '<a target=\"_blank\" href=https://colab.research.google.com/notebooks/data_table.ipynb>data table notebook</a>'\n",
       "            + ' to learn more about interactive tables.';\n",
       "          element.innerHTML = '';\n",
       "          dataTable['output_type'] = 'display_data';\n",
       "          await google.colab.output.renderOutput(dataTable, element);\n",
       "          const docLink = document.createElement('div');\n",
       "          docLink.innerHTML = docLinkHtml;\n",
       "          element.appendChild(docLink);\n",
       "        }\n",
       "      </script>\n",
       "    </div>\n",
       "  </div>\n",
       "  "
      ],
      "text/plain": [
       "             cc_num           amt           zip           lat          long  \\\n",
       "count  1.296675e+06  1.296675e+06  1.296675e+06  1.296675e+06  1.296675e+06   \n",
       "mean   4.171920e+17  7.035104e+01  4.880067e+04  3.853762e+01 -9.022634e+01   \n",
       "std    1.308806e+18  1.603160e+02  2.689322e+04  5.075808e+00  1.375908e+01   \n",
       "min    6.041621e+10  1.000000e+00  1.257000e+03  2.002710e+01 -1.656723e+02   \n",
       "25%    1.800429e+14  9.650000e+00  2.623700e+04  3.462050e+01 -9.679800e+01   \n",
       "50%    3.521417e+15  4.752000e+01  4.817400e+04  3.935430e+01 -8.747690e+01   \n",
       "75%    4.642255e+15  8.314000e+01  7.204200e+04  4.194040e+01 -8.015800e+01   \n",
       "max    4.992346e+18  2.894890e+04  9.978300e+04  6.669330e+01 -6.795030e+01   \n",
       "\n",
       "           city_pop     unix_time     merch_lat    merch_long      is_fraud  \n",
       "count  1.296675e+06  1.296675e+06  1.296675e+06  1.296675e+06  1.296675e+06  \n",
       "mean   8.882444e+04  1.349244e+09  3.853734e+01 -9.022646e+01  5.788652e-03  \n",
       "std    3.019564e+05  1.284128e+07  5.109788e+00  1.377109e+01  7.586269e-02  \n",
       "min    2.300000e+01  1.325376e+09  1.902779e+01 -1.666712e+02  0.000000e+00  \n",
       "25%    7.430000e+02  1.338751e+09  3.473357e+01 -9.689728e+01  0.000000e+00  \n",
       "50%    2.456000e+03  1.349250e+09  3.936568e+01 -8.743839e+01  0.000000e+00  \n",
       "75%    2.032800e+04  1.359385e+09  4.195716e+01 -8.023680e+01  0.000000e+00  \n",
       "max    2.906700e+06  1.371817e+09  6.751027e+01 -6.695090e+01  1.000000e+00  "
      ]
     },
     "execution_count": 13,
     "metadata": {},
     "output_type": "execute_result"
    }
   ],
   "source": [
    "# Get breakdown of the summary statistics\n",
    "\n",
    "cc_trans_df.describe()"
   ]
  },
  {
   "cell_type": "markdown",
   "metadata": {
    "id": "RhMIR6EuTfRK"
   },
   "source": [
    "There does not appear to be any suspicious numbers in the dataset, and it is observed that all the numeric variables have the same number of occurrences in the dataset."
   ]
  },
  {
   "cell_type": "markdown",
   "metadata": {
    "id": "7dyG87aWVqPv"
   },
   "source": [
    "## Categorical Columns\n",
    "\n",
    "\n",
    "There were a lot of columns that had an 'object' data type when I used the `info()` function. This means that these columns are categorical variables. I want to visually inspect what they look like before it is transformed to numerical variable prior to modeling."
   ]
  },
  {
   "cell_type": "code",
   "execution_count": 14,
   "metadata": {
    "colab": {
     "base_uri": "https://localhost:8080/",
     "height": 206
    },
    "executionInfo": {
     "elapsed": 9,
     "status": "ok",
     "timestamp": 1659819915405,
     "user": {
      "displayName": "Tolu O.",
      "userId": "04888393322604891463"
     },
     "user_tz": 240
    },
    "id": "_ZvtBoZbT1Mz",
    "outputId": "72ca894c-cb66-430f-e9aa-efc5b7a07948"
   },
   "outputs": [
    {
     "data": {
      "text/html": [
       "\n",
       "  <div id=\"df-39676843-62b2-47b0-950f-6a5a99dde5e5\">\n",
       "    <div class=\"colab-df-container\">\n",
       "      <div>\n",
       "<style scoped>\n",
       "    .dataframe tbody tr th:only-of-type {\n",
       "        vertical-align: middle;\n",
       "    }\n",
       "\n",
       "    .dataframe tbody tr th {\n",
       "        vertical-align: top;\n",
       "    }\n",
       "\n",
       "    .dataframe thead th {\n",
       "        text-align: right;\n",
       "    }\n",
       "</style>\n",
       "<table border=\"1\" class=\"dataframe\">\n",
       "  <thead>\n",
       "    <tr style=\"text-align: right;\">\n",
       "      <th></th>\n",
       "      <th>merchant</th>\n",
       "      <th>category</th>\n",
       "      <th>first</th>\n",
       "      <th>last</th>\n",
       "      <th>gender</th>\n",
       "      <th>street</th>\n",
       "      <th>city</th>\n",
       "      <th>state</th>\n",
       "      <th>job</th>\n",
       "      <th>trans_num</th>\n",
       "    </tr>\n",
       "  </thead>\n",
       "  <tbody>\n",
       "    <tr>\n",
       "      <th>0</th>\n",
       "      <td>fraud_Rippin, Kub and Mann</td>\n",
       "      <td>misc_net</td>\n",
       "      <td>Jennifer</td>\n",
       "      <td>Banks</td>\n",
       "      <td>F</td>\n",
       "      <td>561 Perry Cove</td>\n",
       "      <td>Moravian Falls</td>\n",
       "      <td>NC</td>\n",
       "      <td>Psychologist, counselling</td>\n",
       "      <td>0b242abb623afc578575680df30655b9</td>\n",
       "    </tr>\n",
       "    <tr>\n",
       "      <th>1</th>\n",
       "      <td>fraud_Heller, Gutmann and Zieme</td>\n",
       "      <td>grocery_pos</td>\n",
       "      <td>Stephanie</td>\n",
       "      <td>Gill</td>\n",
       "      <td>F</td>\n",
       "      <td>43039 Riley Greens Suite 393</td>\n",
       "      <td>Orient</td>\n",
       "      <td>WA</td>\n",
       "      <td>Special educational needs teacher</td>\n",
       "      <td>1f76529f8574734946361c461b024d99</td>\n",
       "    </tr>\n",
       "    <tr>\n",
       "      <th>2</th>\n",
       "      <td>fraud_Lind-Buckridge</td>\n",
       "      <td>entertainment</td>\n",
       "      <td>Edward</td>\n",
       "      <td>Sanchez</td>\n",
       "      <td>M</td>\n",
       "      <td>594 White Dale Suite 530</td>\n",
       "      <td>Malad City</td>\n",
       "      <td>ID</td>\n",
       "      <td>Nature conservation officer</td>\n",
       "      <td>a1a22d70485983eac12b5b88dad1cf95</td>\n",
       "    </tr>\n",
       "    <tr>\n",
       "      <th>3</th>\n",
       "      <td>fraud_Kutch, Hermiston and Farrell</td>\n",
       "      <td>gas_transport</td>\n",
       "      <td>Jeremy</td>\n",
       "      <td>White</td>\n",
       "      <td>M</td>\n",
       "      <td>9443 Cynthia Court Apt. 038</td>\n",
       "      <td>Boulder</td>\n",
       "      <td>MT</td>\n",
       "      <td>Patent attorney</td>\n",
       "      <td>6b849c168bdad6f867558c3793159a81</td>\n",
       "    </tr>\n",
       "    <tr>\n",
       "      <th>4</th>\n",
       "      <td>fraud_Keeling-Crist</td>\n",
       "      <td>misc_pos</td>\n",
       "      <td>Tyler</td>\n",
       "      <td>Garcia</td>\n",
       "      <td>M</td>\n",
       "      <td>408 Bradley Rest</td>\n",
       "      <td>Doe Hill</td>\n",
       "      <td>VA</td>\n",
       "      <td>Dance movement psychotherapist</td>\n",
       "      <td>a41d7549acf90789359a9aa5346dcb46</td>\n",
       "    </tr>\n",
       "  </tbody>\n",
       "</table>\n",
       "</div>\n",
       "      <button class=\"colab-df-convert\" onclick=\"convertToInteractive('df-39676843-62b2-47b0-950f-6a5a99dde5e5')\"\n",
       "              title=\"Convert this dataframe to an interactive table.\"\n",
       "              style=\"display:none;\">\n",
       "        \n",
       "  <svg xmlns=\"http://www.w3.org/2000/svg\" height=\"24px\"viewBox=\"0 0 24 24\"\n",
       "       width=\"24px\">\n",
       "    <path d=\"M0 0h24v24H0V0z\" fill=\"none\"/>\n",
       "    <path d=\"M18.56 5.44l.94 2.06.94-2.06 2.06-.94-2.06-.94-.94-2.06-.94 2.06-2.06.94zm-11 1L8.5 8.5l.94-2.06 2.06-.94-2.06-.94L8.5 2.5l-.94 2.06-2.06.94zm10 10l.94 2.06.94-2.06 2.06-.94-2.06-.94-.94-2.06-.94 2.06-2.06.94z\"/><path d=\"M17.41 7.96l-1.37-1.37c-.4-.4-.92-.59-1.43-.59-.52 0-1.04.2-1.43.59L10.3 9.45l-7.72 7.72c-.78.78-.78 2.05 0 2.83L4 21.41c.39.39.9.59 1.41.59.51 0 1.02-.2 1.41-.59l7.78-7.78 2.81-2.81c.8-.78.8-2.07 0-2.86zM5.41 20L4 18.59l7.72-7.72 1.47 1.35L5.41 20z\"/>\n",
       "  </svg>\n",
       "      </button>\n",
       "      \n",
       "  <style>\n",
       "    .colab-df-container {\n",
       "      display:flex;\n",
       "      flex-wrap:wrap;\n",
       "      gap: 12px;\n",
       "    }\n",
       "\n",
       "    .colab-df-convert {\n",
       "      background-color: #E8F0FE;\n",
       "      border: none;\n",
       "      border-radius: 50%;\n",
       "      cursor: pointer;\n",
       "      display: none;\n",
       "      fill: #1967D2;\n",
       "      height: 32px;\n",
       "      padding: 0 0 0 0;\n",
       "      width: 32px;\n",
       "    }\n",
       "\n",
       "    .colab-df-convert:hover {\n",
       "      background-color: #E2EBFA;\n",
       "      box-shadow: 0px 1px 2px rgba(60, 64, 67, 0.3), 0px 1px 3px 1px rgba(60, 64, 67, 0.15);\n",
       "      fill: #174EA6;\n",
       "    }\n",
       "\n",
       "    [theme=dark] .colab-df-convert {\n",
       "      background-color: #3B4455;\n",
       "      fill: #D2E3FC;\n",
       "    }\n",
       "\n",
       "    [theme=dark] .colab-df-convert:hover {\n",
       "      background-color: #434B5C;\n",
       "      box-shadow: 0px 1px 3px 1px rgba(0, 0, 0, 0.15);\n",
       "      filter: drop-shadow(0px 1px 2px rgba(0, 0, 0, 0.3));\n",
       "      fill: #FFFFFF;\n",
       "    }\n",
       "  </style>\n",
       "\n",
       "      <script>\n",
       "        const buttonEl =\n",
       "          document.querySelector('#df-39676843-62b2-47b0-950f-6a5a99dde5e5 button.colab-df-convert');\n",
       "        buttonEl.style.display =\n",
       "          google.colab.kernel.accessAllowed ? 'block' : 'none';\n",
       "\n",
       "        async function convertToInteractive(key) {\n",
       "          const element = document.querySelector('#df-39676843-62b2-47b0-950f-6a5a99dde5e5');\n",
       "          const dataTable =\n",
       "            await google.colab.kernel.invokeFunction('convertToInteractive',\n",
       "                                                     [key], {});\n",
       "          if (!dataTable) return;\n",
       "\n",
       "          const docLinkHtml = 'Like what you see? Visit the ' +\n",
       "            '<a target=\"_blank\" href=https://colab.research.google.com/notebooks/data_table.ipynb>data table notebook</a>'\n",
       "            + ' to learn more about interactive tables.';\n",
       "          element.innerHTML = '';\n",
       "          dataTable['output_type'] = 'display_data';\n",
       "          await google.colab.output.renderOutput(dataTable, element);\n",
       "          const docLink = document.createElement('div');\n",
       "          docLink.innerHTML = docLinkHtml;\n",
       "          element.appendChild(docLink);\n",
       "        }\n",
       "      </script>\n",
       "    </div>\n",
       "  </div>\n",
       "  "
      ],
      "text/plain": [
       "                             merchant       category      first     last  \\\n",
       "0          fraud_Rippin, Kub and Mann       misc_net   Jennifer    Banks   \n",
       "1     fraud_Heller, Gutmann and Zieme    grocery_pos  Stephanie     Gill   \n",
       "2                fraud_Lind-Buckridge  entertainment     Edward  Sanchez   \n",
       "3  fraud_Kutch, Hermiston and Farrell  gas_transport     Jeremy    White   \n",
       "4                 fraud_Keeling-Crist       misc_pos      Tyler   Garcia   \n",
       "\n",
       "  gender                        street            city state  \\\n",
       "0      F                561 Perry Cove  Moravian Falls    NC   \n",
       "1      F  43039 Riley Greens Suite 393          Orient    WA   \n",
       "2      M      594 White Dale Suite 530      Malad City    ID   \n",
       "3      M   9443 Cynthia Court Apt. 038         Boulder    MT   \n",
       "4      M              408 Bradley Rest        Doe Hill    VA   \n",
       "\n",
       "                                 job                         trans_num  \n",
       "0          Psychologist, counselling  0b242abb623afc578575680df30655b9  \n",
       "1  Special educational needs teacher  1f76529f8574734946361c461b024d99  \n",
       "2        Nature conservation officer  a1a22d70485983eac12b5b88dad1cf95  \n",
       "3                    Patent attorney  6b849c168bdad6f867558c3793159a81  \n",
       "4     Dance movement psychotherapist  a41d7549acf90789359a9aa5346dcb46  "
      ]
     },
     "execution_count": 14,
     "metadata": {},
     "output_type": "execute_result"
    }
   ],
   "source": [
    "# Save all the categorical columns in one dataframe\n",
    "\n",
    "categorical_columns = cc_trans_df.select_dtypes(\"object\")\n",
    "categorical_columns.head()"
   ]
  },
  {
   "cell_type": "code",
   "execution_count": 15,
   "metadata": {
    "colab": {
     "base_uri": "https://localhost:8080/"
    },
    "executionInfo": {
     "elapsed": 9,
     "status": "ok",
     "timestamp": 1659819915406,
     "user": {
      "displayName": "Tolu O.",
      "userId": "04888393322604891463"
     },
     "user_tz": 240
    },
    "id": "UojaweqRVzgg",
    "outputId": "b874fb38-5516-4008-b507-becac7a37bc7"
   },
   "outputs": [
    {
     "data": {
      "text/plain": [
       "(1296675, 10)"
      ]
     },
     "execution_count": 15,
     "metadata": {},
     "output_type": "execute_result"
    }
   ],
   "source": [
    "# Check the shape of the categorical columns dataframe\n",
    "\n",
    "categorical_columns.shape"
   ]
  },
  {
   "cell_type": "markdown",
   "metadata": {
    "id": "acNfak8-rB4m"
   },
   "source": [
    "There are 10 categorical columns with the same number of rows as the original dataset - a little under 1.3 million.\n",
    "\n",
    "---\n",
    "\n",
    "The first thing I noticed off the bat is that the merchant column has 'fraud_' before the merchant. It would be easier to read if that wasn't there. So, I will remove it."
   ]
  },
  {
   "cell_type": "code",
   "execution_count": 16,
   "metadata": {
    "colab": {
     "base_uri": "https://localhost:8080/",
     "height": 577
    },
    "executionInfo": {
     "elapsed": 1230,
     "status": "ok",
     "timestamp": 1659819916631,
     "user": {
      "displayName": "Tolu O.",
      "userId": "04888393322604891463"
     },
     "user_tz": 240
    },
    "id": "ePL_BQNeV1sk",
    "outputId": "adac56a5-8163-4c41-fe73-b9277a8ddfaf"
   },
   "outputs": [
    {
     "data": {
      "text/html": [
       "\n",
       "  <div id=\"df-3e33ea17-a094-4e24-be5d-b666b4e6c28c\">\n",
       "    <div class=\"colab-df-container\">\n",
       "      <div>\n",
       "<style scoped>\n",
       "    .dataframe tbody tr th:only-of-type {\n",
       "        vertical-align: middle;\n",
       "    }\n",
       "\n",
       "    .dataframe tbody tr th {\n",
       "        vertical-align: top;\n",
       "    }\n",
       "\n",
       "    .dataframe thead th {\n",
       "        text-align: right;\n",
       "    }\n",
       "</style>\n",
       "<table border=\"1\" class=\"dataframe\">\n",
       "  <thead>\n",
       "    <tr style=\"text-align: right;\">\n",
       "      <th></th>\n",
       "      <th>trans_date_trans_time</th>\n",
       "      <th>cc_num</th>\n",
       "      <th>merchant</th>\n",
       "      <th>category</th>\n",
       "      <th>amt</th>\n",
       "      <th>first</th>\n",
       "      <th>last</th>\n",
       "      <th>gender</th>\n",
       "      <th>street</th>\n",
       "      <th>city</th>\n",
       "      <th>...</th>\n",
       "      <th>lat</th>\n",
       "      <th>long</th>\n",
       "      <th>city_pop</th>\n",
       "      <th>job</th>\n",
       "      <th>dob</th>\n",
       "      <th>trans_num</th>\n",
       "      <th>unix_time</th>\n",
       "      <th>merch_lat</th>\n",
       "      <th>merch_long</th>\n",
       "      <th>is_fraud</th>\n",
       "    </tr>\n",
       "  </thead>\n",
       "  <tbody>\n",
       "    <tr>\n",
       "      <th>0</th>\n",
       "      <td>2019-01-01 00:00:18</td>\n",
       "      <td>2703186189652095</td>\n",
       "      <td>Rippin, Kub and Mann</td>\n",
       "      <td>misc_net</td>\n",
       "      <td>4.97</td>\n",
       "      <td>Jennifer</td>\n",
       "      <td>Banks</td>\n",
       "      <td>F</td>\n",
       "      <td>561 Perry Cove</td>\n",
       "      <td>Moravian Falls</td>\n",
       "      <td>...</td>\n",
       "      <td>36.0788</td>\n",
       "      <td>-81.1781</td>\n",
       "      <td>3495</td>\n",
       "      <td>Psychologist, counselling</td>\n",
       "      <td>1988-03-09</td>\n",
       "      <td>0b242abb623afc578575680df30655b9</td>\n",
       "      <td>1325376018</td>\n",
       "      <td>36.011293</td>\n",
       "      <td>-82.048315</td>\n",
       "      <td>0</td>\n",
       "    </tr>\n",
       "    <tr>\n",
       "      <th>1</th>\n",
       "      <td>2019-01-01 00:00:44</td>\n",
       "      <td>630423337322</td>\n",
       "      <td>Heller, Gutmann and Zieme</td>\n",
       "      <td>grocery_pos</td>\n",
       "      <td>107.23</td>\n",
       "      <td>Stephanie</td>\n",
       "      <td>Gill</td>\n",
       "      <td>F</td>\n",
       "      <td>43039 Riley Greens Suite 393</td>\n",
       "      <td>Orient</td>\n",
       "      <td>...</td>\n",
       "      <td>48.8878</td>\n",
       "      <td>-118.2105</td>\n",
       "      <td>149</td>\n",
       "      <td>Special educational needs teacher</td>\n",
       "      <td>1978-06-21</td>\n",
       "      <td>1f76529f8574734946361c461b024d99</td>\n",
       "      <td>1325376044</td>\n",
       "      <td>49.159047</td>\n",
       "      <td>-118.186462</td>\n",
       "      <td>0</td>\n",
       "    </tr>\n",
       "    <tr>\n",
       "      <th>2</th>\n",
       "      <td>2019-01-01 00:00:51</td>\n",
       "      <td>38859492057661</td>\n",
       "      <td>Lind-Buckridge</td>\n",
       "      <td>entertainment</td>\n",
       "      <td>220.11</td>\n",
       "      <td>Edward</td>\n",
       "      <td>Sanchez</td>\n",
       "      <td>M</td>\n",
       "      <td>594 White Dale Suite 530</td>\n",
       "      <td>Malad City</td>\n",
       "      <td>...</td>\n",
       "      <td>42.1808</td>\n",
       "      <td>-112.2620</td>\n",
       "      <td>4154</td>\n",
       "      <td>Nature conservation officer</td>\n",
       "      <td>1962-01-19</td>\n",
       "      <td>a1a22d70485983eac12b5b88dad1cf95</td>\n",
       "      <td>1325376051</td>\n",
       "      <td>43.150704</td>\n",
       "      <td>-112.154481</td>\n",
       "      <td>0</td>\n",
       "    </tr>\n",
       "    <tr>\n",
       "      <th>3</th>\n",
       "      <td>2019-01-01 00:01:16</td>\n",
       "      <td>3534093764340240</td>\n",
       "      <td>Kutch, Hermiston and Farrell</td>\n",
       "      <td>gas_transport</td>\n",
       "      <td>45.00</td>\n",
       "      <td>Jeremy</td>\n",
       "      <td>White</td>\n",
       "      <td>M</td>\n",
       "      <td>9443 Cynthia Court Apt. 038</td>\n",
       "      <td>Boulder</td>\n",
       "      <td>...</td>\n",
       "      <td>46.2306</td>\n",
       "      <td>-112.1138</td>\n",
       "      <td>1939</td>\n",
       "      <td>Patent attorney</td>\n",
       "      <td>1967-01-12</td>\n",
       "      <td>6b849c168bdad6f867558c3793159a81</td>\n",
       "      <td>1325376076</td>\n",
       "      <td>47.034331</td>\n",
       "      <td>-112.561071</td>\n",
       "      <td>0</td>\n",
       "    </tr>\n",
       "    <tr>\n",
       "      <th>4</th>\n",
       "      <td>2019-01-01 00:03:06</td>\n",
       "      <td>375534208663984</td>\n",
       "      <td>Keeling-Crist</td>\n",
       "      <td>misc_pos</td>\n",
       "      <td>41.96</td>\n",
       "      <td>Tyler</td>\n",
       "      <td>Garcia</td>\n",
       "      <td>M</td>\n",
       "      <td>408 Bradley Rest</td>\n",
       "      <td>Doe Hill</td>\n",
       "      <td>...</td>\n",
       "      <td>38.4207</td>\n",
       "      <td>-79.4629</td>\n",
       "      <td>99</td>\n",
       "      <td>Dance movement psychotherapist</td>\n",
       "      <td>1986-03-28</td>\n",
       "      <td>a41d7549acf90789359a9aa5346dcb46</td>\n",
       "      <td>1325376186</td>\n",
       "      <td>38.674999</td>\n",
       "      <td>-78.632459</td>\n",
       "      <td>0</td>\n",
       "    </tr>\n",
       "  </tbody>\n",
       "</table>\n",
       "<p>5 rows × 22 columns</p>\n",
       "</div>\n",
       "      <button class=\"colab-df-convert\" onclick=\"convertToInteractive('df-3e33ea17-a094-4e24-be5d-b666b4e6c28c')\"\n",
       "              title=\"Convert this dataframe to an interactive table.\"\n",
       "              style=\"display:none;\">\n",
       "        \n",
       "  <svg xmlns=\"http://www.w3.org/2000/svg\" height=\"24px\"viewBox=\"0 0 24 24\"\n",
       "       width=\"24px\">\n",
       "    <path d=\"M0 0h24v24H0V0z\" fill=\"none\"/>\n",
       "    <path d=\"M18.56 5.44l.94 2.06.94-2.06 2.06-.94-2.06-.94-.94-2.06-.94 2.06-2.06.94zm-11 1L8.5 8.5l.94-2.06 2.06-.94-2.06-.94L8.5 2.5l-.94 2.06-2.06.94zm10 10l.94 2.06.94-2.06 2.06-.94-2.06-.94-.94-2.06-.94 2.06-2.06.94z\"/><path d=\"M17.41 7.96l-1.37-1.37c-.4-.4-.92-.59-1.43-.59-.52 0-1.04.2-1.43.59L10.3 9.45l-7.72 7.72c-.78.78-.78 2.05 0 2.83L4 21.41c.39.39.9.59 1.41.59.51 0 1.02-.2 1.41-.59l7.78-7.78 2.81-2.81c.8-.78.8-2.07 0-2.86zM5.41 20L4 18.59l7.72-7.72 1.47 1.35L5.41 20z\"/>\n",
       "  </svg>\n",
       "      </button>\n",
       "      \n",
       "  <style>\n",
       "    .colab-df-container {\n",
       "      display:flex;\n",
       "      flex-wrap:wrap;\n",
       "      gap: 12px;\n",
       "    }\n",
       "\n",
       "    .colab-df-convert {\n",
       "      background-color: #E8F0FE;\n",
       "      border: none;\n",
       "      border-radius: 50%;\n",
       "      cursor: pointer;\n",
       "      display: none;\n",
       "      fill: #1967D2;\n",
       "      height: 32px;\n",
       "      padding: 0 0 0 0;\n",
       "      width: 32px;\n",
       "    }\n",
       "\n",
       "    .colab-df-convert:hover {\n",
       "      background-color: #E2EBFA;\n",
       "      box-shadow: 0px 1px 2px rgba(60, 64, 67, 0.3), 0px 1px 3px 1px rgba(60, 64, 67, 0.15);\n",
       "      fill: #174EA6;\n",
       "    }\n",
       "\n",
       "    [theme=dark] .colab-df-convert {\n",
       "      background-color: #3B4455;\n",
       "      fill: #D2E3FC;\n",
       "    }\n",
       "\n",
       "    [theme=dark] .colab-df-convert:hover {\n",
       "      background-color: #434B5C;\n",
       "      box-shadow: 0px 1px 3px 1px rgba(0, 0, 0, 0.15);\n",
       "      filter: drop-shadow(0px 1px 2px rgba(0, 0, 0, 0.3));\n",
       "      fill: #FFFFFF;\n",
       "    }\n",
       "  </style>\n",
       "\n",
       "      <script>\n",
       "        const buttonEl =\n",
       "          document.querySelector('#df-3e33ea17-a094-4e24-be5d-b666b4e6c28c button.colab-df-convert');\n",
       "        buttonEl.style.display =\n",
       "          google.colab.kernel.accessAllowed ? 'block' : 'none';\n",
       "\n",
       "        async function convertToInteractive(key) {\n",
       "          const element = document.querySelector('#df-3e33ea17-a094-4e24-be5d-b666b4e6c28c');\n",
       "          const dataTable =\n",
       "            await google.colab.kernel.invokeFunction('convertToInteractive',\n",
       "                                                     [key], {});\n",
       "          if (!dataTable) return;\n",
       "\n",
       "          const docLinkHtml = 'Like what you see? Visit the ' +\n",
       "            '<a target=\"_blank\" href=https://colab.research.google.com/notebooks/data_table.ipynb>data table notebook</a>'\n",
       "            + ' to learn more about interactive tables.';\n",
       "          element.innerHTML = '';\n",
       "          dataTable['output_type'] = 'display_data';\n",
       "          await google.colab.output.renderOutput(dataTable, element);\n",
       "          const docLink = document.createElement('div');\n",
       "          docLink.innerHTML = docLinkHtml;\n",
       "          element.appendChild(docLink);\n",
       "        }\n",
       "      </script>\n",
       "    </div>\n",
       "  </div>\n",
       "  "
      ],
      "text/plain": [
       "  trans_date_trans_time            cc_num                      merchant  \\\n",
       "0   2019-01-01 00:00:18  2703186189652095          Rippin, Kub and Mann   \n",
       "1   2019-01-01 00:00:44      630423337322     Heller, Gutmann and Zieme   \n",
       "2   2019-01-01 00:00:51    38859492057661                Lind-Buckridge   \n",
       "3   2019-01-01 00:01:16  3534093764340240  Kutch, Hermiston and Farrell   \n",
       "4   2019-01-01 00:03:06   375534208663984                 Keeling-Crist   \n",
       "\n",
       "        category     amt      first     last gender  \\\n",
       "0       misc_net    4.97   Jennifer    Banks      F   \n",
       "1    grocery_pos  107.23  Stephanie     Gill      F   \n",
       "2  entertainment  220.11     Edward  Sanchez      M   \n",
       "3  gas_transport   45.00     Jeremy    White      M   \n",
       "4       misc_pos   41.96      Tyler   Garcia      M   \n",
       "\n",
       "                         street            city  ...      lat      long  \\\n",
       "0                561 Perry Cove  Moravian Falls  ...  36.0788  -81.1781   \n",
       "1  43039 Riley Greens Suite 393          Orient  ...  48.8878 -118.2105   \n",
       "2      594 White Dale Suite 530      Malad City  ...  42.1808 -112.2620   \n",
       "3   9443 Cynthia Court Apt. 038         Boulder  ...  46.2306 -112.1138   \n",
       "4              408 Bradley Rest        Doe Hill  ...  38.4207  -79.4629   \n",
       "\n",
       "   city_pop                                job        dob  \\\n",
       "0      3495          Psychologist, counselling 1988-03-09   \n",
       "1       149  Special educational needs teacher 1978-06-21   \n",
       "2      4154        Nature conservation officer 1962-01-19   \n",
       "3      1939                    Patent attorney 1967-01-12   \n",
       "4        99     Dance movement psychotherapist 1986-03-28   \n",
       "\n",
       "                          trans_num   unix_time  merch_lat  merch_long  \\\n",
       "0  0b242abb623afc578575680df30655b9  1325376018  36.011293  -82.048315   \n",
       "1  1f76529f8574734946361c461b024d99  1325376044  49.159047 -118.186462   \n",
       "2  a1a22d70485983eac12b5b88dad1cf95  1325376051  43.150704 -112.154481   \n",
       "3  6b849c168bdad6f867558c3793159a81  1325376076  47.034331 -112.561071   \n",
       "4  a41d7549acf90789359a9aa5346dcb46  1325376186  38.674999  -78.632459   \n",
       "\n",
       "   is_fraud  \n",
       "0         0  \n",
       "1         0  \n",
       "2         0  \n",
       "3         0  \n",
       "4         0  \n",
       "\n",
       "[5 rows x 22 columns]"
      ]
     },
     "execution_count": 16,
     "metadata": {},
     "output_type": "execute_result"
    }
   ],
   "source": [
    "# Change the format of the `merchant` information and remove the \"fraud_\"\n",
    "\n",
    "cc_trans_df['merchant'] = cc_trans_df['merchant'].str[6:]\n",
    "cc_trans_df.head()"
   ]
  },
  {
   "cell_type": "markdown",
   "metadata": {
    "id": "SF7_k08-TxpP"
   },
   "source": [
    "Now that the `merchant` column has been formatted appropriately, I will go back to analyzing the categorical columns."
   ]
  },
  {
   "cell_type": "code",
   "execution_count": 17,
   "metadata": {
    "colab": {
     "base_uri": "https://localhost:8080/",
     "height": 206
    },
    "executionInfo": {
     "elapsed": 919,
     "status": "ok",
     "timestamp": 1659819917540,
     "user": {
      "displayName": "Tolu O.",
      "userId": "04888393322604891463"
     },
     "user_tz": 240
    },
    "id": "4KA1uZcHWLEX",
    "outputId": "7796a4c9-bf8e-474d-cf85-ff5454725226"
   },
   "outputs": [
    {
     "data": {
      "text/html": [
       "\n",
       "  <div id=\"df-9d62b383-9ab8-472c-a230-59ed017d53b2\">\n",
       "    <div class=\"colab-df-container\">\n",
       "      <div>\n",
       "<style scoped>\n",
       "    .dataframe tbody tr th:only-of-type {\n",
       "        vertical-align: middle;\n",
       "    }\n",
       "\n",
       "    .dataframe tbody tr th {\n",
       "        vertical-align: top;\n",
       "    }\n",
       "\n",
       "    .dataframe thead th {\n",
       "        text-align: right;\n",
       "    }\n",
       "</style>\n",
       "<table border=\"1\" class=\"dataframe\">\n",
       "  <thead>\n",
       "    <tr style=\"text-align: right;\">\n",
       "      <th></th>\n",
       "      <th>merchant</th>\n",
       "      <th>category</th>\n",
       "      <th>first</th>\n",
       "      <th>last</th>\n",
       "      <th>gender</th>\n",
       "      <th>street</th>\n",
       "      <th>city</th>\n",
       "      <th>state</th>\n",
       "      <th>job</th>\n",
       "      <th>trans_num</th>\n",
       "    </tr>\n",
       "  </thead>\n",
       "  <tbody>\n",
       "    <tr>\n",
       "      <th>0</th>\n",
       "      <td>Rippin, Kub and Mann</td>\n",
       "      <td>misc_net</td>\n",
       "      <td>Jennifer</td>\n",
       "      <td>Banks</td>\n",
       "      <td>F</td>\n",
       "      <td>561 Perry Cove</td>\n",
       "      <td>Moravian Falls</td>\n",
       "      <td>NC</td>\n",
       "      <td>Psychologist, counselling</td>\n",
       "      <td>0b242abb623afc578575680df30655b9</td>\n",
       "    </tr>\n",
       "    <tr>\n",
       "      <th>1</th>\n",
       "      <td>Heller, Gutmann and Zieme</td>\n",
       "      <td>grocery_pos</td>\n",
       "      <td>Stephanie</td>\n",
       "      <td>Gill</td>\n",
       "      <td>F</td>\n",
       "      <td>43039 Riley Greens Suite 393</td>\n",
       "      <td>Orient</td>\n",
       "      <td>WA</td>\n",
       "      <td>Special educational needs teacher</td>\n",
       "      <td>1f76529f8574734946361c461b024d99</td>\n",
       "    </tr>\n",
       "    <tr>\n",
       "      <th>2</th>\n",
       "      <td>Lind-Buckridge</td>\n",
       "      <td>entertainment</td>\n",
       "      <td>Edward</td>\n",
       "      <td>Sanchez</td>\n",
       "      <td>M</td>\n",
       "      <td>594 White Dale Suite 530</td>\n",
       "      <td>Malad City</td>\n",
       "      <td>ID</td>\n",
       "      <td>Nature conservation officer</td>\n",
       "      <td>a1a22d70485983eac12b5b88dad1cf95</td>\n",
       "    </tr>\n",
       "    <tr>\n",
       "      <th>3</th>\n",
       "      <td>Kutch, Hermiston and Farrell</td>\n",
       "      <td>gas_transport</td>\n",
       "      <td>Jeremy</td>\n",
       "      <td>White</td>\n",
       "      <td>M</td>\n",
       "      <td>9443 Cynthia Court Apt. 038</td>\n",
       "      <td>Boulder</td>\n",
       "      <td>MT</td>\n",
       "      <td>Patent attorney</td>\n",
       "      <td>6b849c168bdad6f867558c3793159a81</td>\n",
       "    </tr>\n",
       "    <tr>\n",
       "      <th>4</th>\n",
       "      <td>Keeling-Crist</td>\n",
       "      <td>misc_pos</td>\n",
       "      <td>Tyler</td>\n",
       "      <td>Garcia</td>\n",
       "      <td>M</td>\n",
       "      <td>408 Bradley Rest</td>\n",
       "      <td>Doe Hill</td>\n",
       "      <td>VA</td>\n",
       "      <td>Dance movement psychotherapist</td>\n",
       "      <td>a41d7549acf90789359a9aa5346dcb46</td>\n",
       "    </tr>\n",
       "  </tbody>\n",
       "</table>\n",
       "</div>\n",
       "      <button class=\"colab-df-convert\" onclick=\"convertToInteractive('df-9d62b383-9ab8-472c-a230-59ed017d53b2')\"\n",
       "              title=\"Convert this dataframe to an interactive table.\"\n",
       "              style=\"display:none;\">\n",
       "        \n",
       "  <svg xmlns=\"http://www.w3.org/2000/svg\" height=\"24px\"viewBox=\"0 0 24 24\"\n",
       "       width=\"24px\">\n",
       "    <path d=\"M0 0h24v24H0V0z\" fill=\"none\"/>\n",
       "    <path d=\"M18.56 5.44l.94 2.06.94-2.06 2.06-.94-2.06-.94-.94-2.06-.94 2.06-2.06.94zm-11 1L8.5 8.5l.94-2.06 2.06-.94-2.06-.94L8.5 2.5l-.94 2.06-2.06.94zm10 10l.94 2.06.94-2.06 2.06-.94-2.06-.94-.94-2.06-.94 2.06-2.06.94z\"/><path d=\"M17.41 7.96l-1.37-1.37c-.4-.4-.92-.59-1.43-.59-.52 0-1.04.2-1.43.59L10.3 9.45l-7.72 7.72c-.78.78-.78 2.05 0 2.83L4 21.41c.39.39.9.59 1.41.59.51 0 1.02-.2 1.41-.59l7.78-7.78 2.81-2.81c.8-.78.8-2.07 0-2.86zM5.41 20L4 18.59l7.72-7.72 1.47 1.35L5.41 20z\"/>\n",
       "  </svg>\n",
       "      </button>\n",
       "      \n",
       "  <style>\n",
       "    .colab-df-container {\n",
       "      display:flex;\n",
       "      flex-wrap:wrap;\n",
       "      gap: 12px;\n",
       "    }\n",
       "\n",
       "    .colab-df-convert {\n",
       "      background-color: #E8F0FE;\n",
       "      border: none;\n",
       "      border-radius: 50%;\n",
       "      cursor: pointer;\n",
       "      display: none;\n",
       "      fill: #1967D2;\n",
       "      height: 32px;\n",
       "      padding: 0 0 0 0;\n",
       "      width: 32px;\n",
       "    }\n",
       "\n",
       "    .colab-df-convert:hover {\n",
       "      background-color: #E2EBFA;\n",
       "      box-shadow: 0px 1px 2px rgba(60, 64, 67, 0.3), 0px 1px 3px 1px rgba(60, 64, 67, 0.15);\n",
       "      fill: #174EA6;\n",
       "    }\n",
       "\n",
       "    [theme=dark] .colab-df-convert {\n",
       "      background-color: #3B4455;\n",
       "      fill: #D2E3FC;\n",
       "    }\n",
       "\n",
       "    [theme=dark] .colab-df-convert:hover {\n",
       "      background-color: #434B5C;\n",
       "      box-shadow: 0px 1px 3px 1px rgba(0, 0, 0, 0.15);\n",
       "      filter: drop-shadow(0px 1px 2px rgba(0, 0, 0, 0.3));\n",
       "      fill: #FFFFFF;\n",
       "    }\n",
       "  </style>\n",
       "\n",
       "      <script>\n",
       "        const buttonEl =\n",
       "          document.querySelector('#df-9d62b383-9ab8-472c-a230-59ed017d53b2 button.colab-df-convert');\n",
       "        buttonEl.style.display =\n",
       "          google.colab.kernel.accessAllowed ? 'block' : 'none';\n",
       "\n",
       "        async function convertToInteractive(key) {\n",
       "          const element = document.querySelector('#df-9d62b383-9ab8-472c-a230-59ed017d53b2');\n",
       "          const dataTable =\n",
       "            await google.colab.kernel.invokeFunction('convertToInteractive',\n",
       "                                                     [key], {});\n",
       "          if (!dataTable) return;\n",
       "\n",
       "          const docLinkHtml = 'Like what you see? Visit the ' +\n",
       "            '<a target=\"_blank\" href=https://colab.research.google.com/notebooks/data_table.ipynb>data table notebook</a>'\n",
       "            + ' to learn more about interactive tables.';\n",
       "          element.innerHTML = '';\n",
       "          dataTable['output_type'] = 'display_data';\n",
       "          await google.colab.output.renderOutput(dataTable, element);\n",
       "          const docLink = document.createElement('div');\n",
       "          docLink.innerHTML = docLinkHtml;\n",
       "          element.appendChild(docLink);\n",
       "        }\n",
       "      </script>\n",
       "    </div>\n",
       "  </div>\n",
       "  "
      ],
      "text/plain": [
       "                       merchant       category      first     last gender  \\\n",
       "0          Rippin, Kub and Mann       misc_net   Jennifer    Banks      F   \n",
       "1     Heller, Gutmann and Zieme    grocery_pos  Stephanie     Gill      F   \n",
       "2                Lind-Buckridge  entertainment     Edward  Sanchez      M   \n",
       "3  Kutch, Hermiston and Farrell  gas_transport     Jeremy    White      M   \n",
       "4                 Keeling-Crist       misc_pos      Tyler   Garcia      M   \n",
       "\n",
       "                         street            city state  \\\n",
       "0                561 Perry Cove  Moravian Falls    NC   \n",
       "1  43039 Riley Greens Suite 393          Orient    WA   \n",
       "2      594 White Dale Suite 530      Malad City    ID   \n",
       "3   9443 Cynthia Court Apt. 038         Boulder    MT   \n",
       "4              408 Bradley Rest        Doe Hill    VA   \n",
       "\n",
       "                                 job                         trans_num  \n",
       "0          Psychologist, counselling  0b242abb623afc578575680df30655b9  \n",
       "1  Special educational needs teacher  1f76529f8574734946361c461b024d99  \n",
       "2        Nature conservation officer  a1a22d70485983eac12b5b88dad1cf95  \n",
       "3                    Patent attorney  6b849c168bdad6f867558c3793159a81  \n",
       "4     Dance movement psychotherapist  a41d7549acf90789359a9aa5346dcb46  "
      ]
     },
     "execution_count": 17,
     "metadata": {},
     "output_type": "execute_result"
    }
   ],
   "source": [
    "categorical_columns = cc_trans_df.select_dtypes(\"object\")\n",
    "categorical_columns.head()"
   ]
  },
  {
   "cell_type": "markdown",
   "metadata": {
    "id": "XNQp8WKerWLs"
   },
   "source": [
    "That looks better. I notice that the `trans_num` column has a mix of numbers and letters. I want to see if this column is unique to each transaction (which is every row), if it is, it can be dropped since each transaction has it's own index."
   ]
  },
  {
   "cell_type": "code",
   "execution_count": 18,
   "metadata": {
    "colab": {
     "base_uri": "https://localhost:8080/"
    },
    "executionInfo": {
     "elapsed": 305,
     "status": "ok",
     "timestamp": 1659819917843,
     "user": {
      "displayName": "Tolu O.",
      "userId": "04888393322604891463"
     },
     "user_tz": 240
    },
    "id": "8rHfTky5ZnRV",
    "outputId": "cd530d70-122a-40ce-9175-1aa37e01499d"
   },
   "outputs": [
    {
     "data": {
      "text/plain": [
       "0b242abb623afc578575680df30655b9    1\n",
       "c85864e7e7cf0be6d1b8597977b8afea    1\n",
       "1a8a2a05638a5503cc6bb8d5735efcc1    1\n",
       "4556eaf1f7def06eb500325cde4d054e    1\n",
       "5e915d9f88bd09cee9655a470d9bc0bd    1\n",
       "                                   ..\n",
       "2d1aa5b21a993788ac19b697598ca44c    1\n",
       "b50dd4b47d1ad877874661afba6eb7f6    1\n",
       "5ce4e974bf15b7d9f133c6eedb81ceb1    1\n",
       "64d601ddeaf4eba8b191bd1859998209    1\n",
       "8f7c8e4ab7f25875d753b422917c98c9    1\n",
       "Name: trans_num, Length: 1296675, dtype: int64"
      ]
     },
     "execution_count": 18,
     "metadata": {},
     "output_type": "execute_result"
    }
   ],
   "source": [
    "# Checking value counts for the trans_num column\n",
    "categorical_columns['trans_num'].value_counts()"
   ]
  },
  {
   "cell_type": "markdown",
   "metadata": {
    "id": "qkYMNLuMaFKB"
   },
   "source": [
    "There are 1,296,675 unique numbers of the `trans_num`, which is the total number of rows in the dataset.\n",
    "- The `trans_num` is unique to each row, meaning this column can be dropped during pre-processing."
   ]
  },
  {
   "cell_type": "code",
   "execution_count": 19,
   "metadata": {
    "colab": {
     "base_uri": "https://localhost:8080/",
     "height": 577
    },
    "executionInfo": {
     "elapsed": 6,
     "status": "ok",
     "timestamp": 1659819917843,
     "user": {
      "displayName": "Tolu O.",
      "userId": "04888393322604891463"
     },
     "user_tz": 240
    },
    "id": "vjSDrAUBaCG-",
    "outputId": "12462205-58c0-493c-d919-9f57afdc847b"
   },
   "outputs": [
    {
     "data": {
      "text/html": [
       "\n",
       "  <div id=\"df-17461b51-854a-4697-80d8-87f1c22bbd14\">\n",
       "    <div class=\"colab-df-container\">\n",
       "      <div>\n",
       "<style scoped>\n",
       "    .dataframe tbody tr th:only-of-type {\n",
       "        vertical-align: middle;\n",
       "    }\n",
       "\n",
       "    .dataframe tbody tr th {\n",
       "        vertical-align: top;\n",
       "    }\n",
       "\n",
       "    .dataframe thead th {\n",
       "        text-align: right;\n",
       "    }\n",
       "</style>\n",
       "<table border=\"1\" class=\"dataframe\">\n",
       "  <thead>\n",
       "    <tr style=\"text-align: right;\">\n",
       "      <th></th>\n",
       "      <th>trans_date_trans_time</th>\n",
       "      <th>cc_num</th>\n",
       "      <th>merchant</th>\n",
       "      <th>category</th>\n",
       "      <th>amt</th>\n",
       "      <th>first</th>\n",
       "      <th>last</th>\n",
       "      <th>gender</th>\n",
       "      <th>street</th>\n",
       "      <th>city</th>\n",
       "      <th>...</th>\n",
       "      <th>zip</th>\n",
       "      <th>lat</th>\n",
       "      <th>long</th>\n",
       "      <th>city_pop</th>\n",
       "      <th>job</th>\n",
       "      <th>dob</th>\n",
       "      <th>unix_time</th>\n",
       "      <th>merch_lat</th>\n",
       "      <th>merch_long</th>\n",
       "      <th>is_fraud</th>\n",
       "    </tr>\n",
       "  </thead>\n",
       "  <tbody>\n",
       "    <tr>\n",
       "      <th>0</th>\n",
       "      <td>2019-01-01 00:00:18</td>\n",
       "      <td>2703186189652095</td>\n",
       "      <td>Rippin, Kub and Mann</td>\n",
       "      <td>misc_net</td>\n",
       "      <td>4.97</td>\n",
       "      <td>Jennifer</td>\n",
       "      <td>Banks</td>\n",
       "      <td>F</td>\n",
       "      <td>561 Perry Cove</td>\n",
       "      <td>Moravian Falls</td>\n",
       "      <td>...</td>\n",
       "      <td>28654</td>\n",
       "      <td>36.0788</td>\n",
       "      <td>-81.1781</td>\n",
       "      <td>3495</td>\n",
       "      <td>Psychologist, counselling</td>\n",
       "      <td>1988-03-09</td>\n",
       "      <td>1325376018</td>\n",
       "      <td>36.011293</td>\n",
       "      <td>-82.048315</td>\n",
       "      <td>0</td>\n",
       "    </tr>\n",
       "    <tr>\n",
       "      <th>1</th>\n",
       "      <td>2019-01-01 00:00:44</td>\n",
       "      <td>630423337322</td>\n",
       "      <td>Heller, Gutmann and Zieme</td>\n",
       "      <td>grocery_pos</td>\n",
       "      <td>107.23</td>\n",
       "      <td>Stephanie</td>\n",
       "      <td>Gill</td>\n",
       "      <td>F</td>\n",
       "      <td>43039 Riley Greens Suite 393</td>\n",
       "      <td>Orient</td>\n",
       "      <td>...</td>\n",
       "      <td>99160</td>\n",
       "      <td>48.8878</td>\n",
       "      <td>-118.2105</td>\n",
       "      <td>149</td>\n",
       "      <td>Special educational needs teacher</td>\n",
       "      <td>1978-06-21</td>\n",
       "      <td>1325376044</td>\n",
       "      <td>49.159047</td>\n",
       "      <td>-118.186462</td>\n",
       "      <td>0</td>\n",
       "    </tr>\n",
       "    <tr>\n",
       "      <th>2</th>\n",
       "      <td>2019-01-01 00:00:51</td>\n",
       "      <td>38859492057661</td>\n",
       "      <td>Lind-Buckridge</td>\n",
       "      <td>entertainment</td>\n",
       "      <td>220.11</td>\n",
       "      <td>Edward</td>\n",
       "      <td>Sanchez</td>\n",
       "      <td>M</td>\n",
       "      <td>594 White Dale Suite 530</td>\n",
       "      <td>Malad City</td>\n",
       "      <td>...</td>\n",
       "      <td>83252</td>\n",
       "      <td>42.1808</td>\n",
       "      <td>-112.2620</td>\n",
       "      <td>4154</td>\n",
       "      <td>Nature conservation officer</td>\n",
       "      <td>1962-01-19</td>\n",
       "      <td>1325376051</td>\n",
       "      <td>43.150704</td>\n",
       "      <td>-112.154481</td>\n",
       "      <td>0</td>\n",
       "    </tr>\n",
       "    <tr>\n",
       "      <th>3</th>\n",
       "      <td>2019-01-01 00:01:16</td>\n",
       "      <td>3534093764340240</td>\n",
       "      <td>Kutch, Hermiston and Farrell</td>\n",
       "      <td>gas_transport</td>\n",
       "      <td>45.00</td>\n",
       "      <td>Jeremy</td>\n",
       "      <td>White</td>\n",
       "      <td>M</td>\n",
       "      <td>9443 Cynthia Court Apt. 038</td>\n",
       "      <td>Boulder</td>\n",
       "      <td>...</td>\n",
       "      <td>59632</td>\n",
       "      <td>46.2306</td>\n",
       "      <td>-112.1138</td>\n",
       "      <td>1939</td>\n",
       "      <td>Patent attorney</td>\n",
       "      <td>1967-01-12</td>\n",
       "      <td>1325376076</td>\n",
       "      <td>47.034331</td>\n",
       "      <td>-112.561071</td>\n",
       "      <td>0</td>\n",
       "    </tr>\n",
       "    <tr>\n",
       "      <th>4</th>\n",
       "      <td>2019-01-01 00:03:06</td>\n",
       "      <td>375534208663984</td>\n",
       "      <td>Keeling-Crist</td>\n",
       "      <td>misc_pos</td>\n",
       "      <td>41.96</td>\n",
       "      <td>Tyler</td>\n",
       "      <td>Garcia</td>\n",
       "      <td>M</td>\n",
       "      <td>408 Bradley Rest</td>\n",
       "      <td>Doe Hill</td>\n",
       "      <td>...</td>\n",
       "      <td>24433</td>\n",
       "      <td>38.4207</td>\n",
       "      <td>-79.4629</td>\n",
       "      <td>99</td>\n",
       "      <td>Dance movement psychotherapist</td>\n",
       "      <td>1986-03-28</td>\n",
       "      <td>1325376186</td>\n",
       "      <td>38.674999</td>\n",
       "      <td>-78.632459</td>\n",
       "      <td>0</td>\n",
       "    </tr>\n",
       "  </tbody>\n",
       "</table>\n",
       "<p>5 rows × 21 columns</p>\n",
       "</div>\n",
       "      <button class=\"colab-df-convert\" onclick=\"convertToInteractive('df-17461b51-854a-4697-80d8-87f1c22bbd14')\"\n",
       "              title=\"Convert this dataframe to an interactive table.\"\n",
       "              style=\"display:none;\">\n",
       "        \n",
       "  <svg xmlns=\"http://www.w3.org/2000/svg\" height=\"24px\"viewBox=\"0 0 24 24\"\n",
       "       width=\"24px\">\n",
       "    <path d=\"M0 0h24v24H0V0z\" fill=\"none\"/>\n",
       "    <path d=\"M18.56 5.44l.94 2.06.94-2.06 2.06-.94-2.06-.94-.94-2.06-.94 2.06-2.06.94zm-11 1L8.5 8.5l.94-2.06 2.06-.94-2.06-.94L8.5 2.5l-.94 2.06-2.06.94zm10 10l.94 2.06.94-2.06 2.06-.94-2.06-.94-.94-2.06-.94 2.06-2.06.94z\"/><path d=\"M17.41 7.96l-1.37-1.37c-.4-.4-.92-.59-1.43-.59-.52 0-1.04.2-1.43.59L10.3 9.45l-7.72 7.72c-.78.78-.78 2.05 0 2.83L4 21.41c.39.39.9.59 1.41.59.51 0 1.02-.2 1.41-.59l7.78-7.78 2.81-2.81c.8-.78.8-2.07 0-2.86zM5.41 20L4 18.59l7.72-7.72 1.47 1.35L5.41 20z\"/>\n",
       "  </svg>\n",
       "      </button>\n",
       "      \n",
       "  <style>\n",
       "    .colab-df-container {\n",
       "      display:flex;\n",
       "      flex-wrap:wrap;\n",
       "      gap: 12px;\n",
       "    }\n",
       "\n",
       "    .colab-df-convert {\n",
       "      background-color: #E8F0FE;\n",
       "      border: none;\n",
       "      border-radius: 50%;\n",
       "      cursor: pointer;\n",
       "      display: none;\n",
       "      fill: #1967D2;\n",
       "      height: 32px;\n",
       "      padding: 0 0 0 0;\n",
       "      width: 32px;\n",
       "    }\n",
       "\n",
       "    .colab-df-convert:hover {\n",
       "      background-color: #E2EBFA;\n",
       "      box-shadow: 0px 1px 2px rgba(60, 64, 67, 0.3), 0px 1px 3px 1px rgba(60, 64, 67, 0.15);\n",
       "      fill: #174EA6;\n",
       "    }\n",
       "\n",
       "    [theme=dark] .colab-df-convert {\n",
       "      background-color: #3B4455;\n",
       "      fill: #D2E3FC;\n",
       "    }\n",
       "\n",
       "    [theme=dark] .colab-df-convert:hover {\n",
       "      background-color: #434B5C;\n",
       "      box-shadow: 0px 1px 3px 1px rgba(0, 0, 0, 0.15);\n",
       "      filter: drop-shadow(0px 1px 2px rgba(0, 0, 0, 0.3));\n",
       "      fill: #FFFFFF;\n",
       "    }\n",
       "  </style>\n",
       "\n",
       "      <script>\n",
       "        const buttonEl =\n",
       "          document.querySelector('#df-17461b51-854a-4697-80d8-87f1c22bbd14 button.colab-df-convert');\n",
       "        buttonEl.style.display =\n",
       "          google.colab.kernel.accessAllowed ? 'block' : 'none';\n",
       "\n",
       "        async function convertToInteractive(key) {\n",
       "          const element = document.querySelector('#df-17461b51-854a-4697-80d8-87f1c22bbd14');\n",
       "          const dataTable =\n",
       "            await google.colab.kernel.invokeFunction('convertToInteractive',\n",
       "                                                     [key], {});\n",
       "          if (!dataTable) return;\n",
       "\n",
       "          const docLinkHtml = 'Like what you see? Visit the ' +\n",
       "            '<a target=\"_blank\" href=https://colab.research.google.com/notebooks/data_table.ipynb>data table notebook</a>'\n",
       "            + ' to learn more about interactive tables.';\n",
       "          element.innerHTML = '';\n",
       "          dataTable['output_type'] = 'display_data';\n",
       "          await google.colab.output.renderOutput(dataTable, element);\n",
       "          const docLink = document.createElement('div');\n",
       "          docLink.innerHTML = docLinkHtml;\n",
       "          element.appendChild(docLink);\n",
       "        }\n",
       "      </script>\n",
       "    </div>\n",
       "  </div>\n",
       "  "
      ],
      "text/plain": [
       "  trans_date_trans_time            cc_num                      merchant  \\\n",
       "0   2019-01-01 00:00:18  2703186189652095          Rippin, Kub and Mann   \n",
       "1   2019-01-01 00:00:44      630423337322     Heller, Gutmann and Zieme   \n",
       "2   2019-01-01 00:00:51    38859492057661                Lind-Buckridge   \n",
       "3   2019-01-01 00:01:16  3534093764340240  Kutch, Hermiston and Farrell   \n",
       "4   2019-01-01 00:03:06   375534208663984                 Keeling-Crist   \n",
       "\n",
       "        category     amt      first     last gender  \\\n",
       "0       misc_net    4.97   Jennifer    Banks      F   \n",
       "1    grocery_pos  107.23  Stephanie     Gill      F   \n",
       "2  entertainment  220.11     Edward  Sanchez      M   \n",
       "3  gas_transport   45.00     Jeremy    White      M   \n",
       "4       misc_pos   41.96      Tyler   Garcia      M   \n",
       "\n",
       "                         street            city  ...    zip      lat  \\\n",
       "0                561 Perry Cove  Moravian Falls  ...  28654  36.0788   \n",
       "1  43039 Riley Greens Suite 393          Orient  ...  99160  48.8878   \n",
       "2      594 White Dale Suite 530      Malad City  ...  83252  42.1808   \n",
       "3   9443 Cynthia Court Apt. 038         Boulder  ...  59632  46.2306   \n",
       "4              408 Bradley Rest        Doe Hill  ...  24433  38.4207   \n",
       "\n",
       "       long  city_pop                                job        dob  \\\n",
       "0  -81.1781      3495          Psychologist, counselling 1988-03-09   \n",
       "1 -118.2105       149  Special educational needs teacher 1978-06-21   \n",
       "2 -112.2620      4154        Nature conservation officer 1962-01-19   \n",
       "3 -112.1138      1939                    Patent attorney 1967-01-12   \n",
       "4  -79.4629        99     Dance movement psychotherapist 1986-03-28   \n",
       "\n",
       "    unix_time  merch_lat  merch_long  is_fraud  \n",
       "0  1325376018  36.011293  -82.048315         0  \n",
       "1  1325376044  49.159047 -118.186462         0  \n",
       "2  1325376051  43.150704 -112.154481         0  \n",
       "3  1325376076  47.034331 -112.561071         0  \n",
       "4  1325376186  38.674999  -78.632459         0  \n",
       "\n",
       "[5 rows x 21 columns]"
      ]
     },
     "execution_count": 19,
     "metadata": {},
     "output_type": "execute_result"
    }
   ],
   "source": [
    "# Dropping the trans_num column\n",
    "\n",
    "cc_trans_df.drop('trans_num', axis=1, inplace=True)\n",
    "cc_trans_df.head()"
   ]
  },
  {
   "cell_type": "markdown",
   "metadata": {
    "id": "5NNio94-rwTU"
   },
   "source": [
    "Now that the `trans_num` column has been dropped. I want to check the `value_counts` for each categorical column, to see if there are any insights I can retreive."
   ]
  },
  {
   "cell_type": "code",
   "execution_count": 20,
   "metadata": {
    "executionInfo": {
     "elapsed": 5,
     "status": "ok",
     "timestamp": 1659819917843,
     "user": {
      "displayName": "Tolu O.",
      "userId": "04888393322604891463"
     },
     "user_tz": 240
    },
    "id": "e0AtyggcanD0"
   },
   "outputs": [],
   "source": [
    "# Re-define the categorical columns to include the new changes\n",
    "\n",
    "categorical_columns = cc_trans_df.select_dtypes(\"object\")"
   ]
  },
  {
   "cell_type": "markdown",
   "metadata": {
    "id": "_TrvcZnLUUq5"
   },
   "source": [
    "To save time, I will use a for loop to plot the value counts for every column in the categorical columns dataframe."
   ]
  },
  {
   "cell_type": "code",
   "execution_count": 45,
   "metadata": {
    "colab": {
     "base_uri": "https://localhost:8080/",
     "height": 1000
    },
    "executionInfo": {
     "elapsed": 1645,
     "status": "ok",
     "timestamp": 1659821643798,
     "user": {
      "displayName": "Tolu O.",
      "userId": "04888393322604891463"
     },
     "user_tz": 240
    },
    "id": "VAxEUzHNCDG3",
    "outputId": "5eb7e091-d8fe-4c1f-a87d-0cf06a33b97f"
   },
   "outputs": [
    {
     "data": {
      "text/html": [
       "<html>\n",
       "<head><meta charset=\"utf-8\" /></head>\n",
       "<body>\n",
       "    <div>            <script src=\"https://cdnjs.cloudflare.com/ajax/libs/mathjax/2.7.5/MathJax.js?config=TeX-AMS-MML_SVG\"></script><script type=\"text/javascript\">if (window.MathJax) {MathJax.Hub.Config({SVG: {font: \"STIX-Web\"}});}</script>                <script type=\"text/javascript\">window.PlotlyConfig = {MathJaxConfig: 'local'};</script>\n",
       "        <script src=\"https://cdn.plot.ly/plotly-2.8.3.min.js\"></script>                <div id=\"554c20fd-a57d-4861-96ce-4e10df511367\" class=\"plotly-graph-div\" style=\"height:1000px; width:1000px;\"></div>            <script type=\"text/javascript\">                                    window.PLOTLYENV=window.PLOTLYENV || {};                                    if (document.getElementById(\"554c20fd-a57d-4861-96ce-4e10df511367\")) {                    Plotly.newPlot(                        \"554c20fd-a57d-4861-96ce-4e10df511367\",                        [{\"alignmentgroup\":\"True\",\"hovertemplate\":\"Total Number of Occurrences=%{x}<br>merchant=%{y}<extra></extra>\",\"legendgroup\":\"\",\"marker\":{\"color\":\"#636efa\",\"pattern\":{\"shape\":\"\"}},\"name\":\"\",\"offsetgroup\":\"\",\"orientation\":\"h\",\"showlegend\":false,\"textposition\":\"auto\",\"x\":[727,753,759,775,775,776,783,785,786,787,788,795,798,800,800,800,801,802,803,804,805,805,806,807,810,812,812,816,816,819,821,821,821,822,825,825,829,829,830,831,833,834,835,836,838,843,845,846,850,864,866,874,875,877,877,880,880,881,883,884,887,895,897,897,898,898,899,899,903,906,906,906,908,908,909,910,911,912,912,913,914,914,918,921,923,923,925,928,935,936,940,940,945,947,952,960,963,963,966,1176,1191,1201,1205,1205,1222,1223,1226,1228,1228,1231,1234,1238,1239,1241,1246,1251,1256,1258,1259,1265,1266,1267,1269,1270,1274,1277,1279,1280,1283,1287,1288,1290,1291,1297,1297,1299,1300,1302,1304,1304,1305,1306,1307,1307,1317,1320,1324,1332,1524,1525,1529,1535,1535,1540,1544,1551,1553,1554,1554,1559,1564,1567,1568,1569,1571,1580,1582,1583,1583,1584,1585,1588,1590,1592,1596,1597,1598,1603,1607,1608,1609,1610,1620,1622,1628,1629,1629,1630,1639,1644,1645,1647,1650,1655,1659,1663,1665,1667,1671,1672,1673,1675,1677,1682,1683,1687,1690,1691,1693,1695,1696,1699,1699,1700,1701,1706,1706,1707,1711,1716,1716,1716,1721,1722,1723,1726,1727,1733,1734,1739,1740,1744,1746,1746,1750,1751,1751,1754,1754,1755,1755,1756,1757,1761,1763,1764,1766,1768,1768,1772,1773,1778,1779,1783,1783,1785,1785,1786,1787,1788,1788,1789,1791,1798,1799,1800,1800,1801,1802,1803,1804,1805,1805,1805,1805,1807,1807,1807,1808,1808,1812,1813,1815,1816,1816,1817,1819,1819,1820,1821,1821,1821,1821,1823,1824,1825,1825,1826,1827,1827,1827,1827,1828,1828,1828,1829,1829,1830,1832,1832,1833,1835,1835,1835,1836,1836,1836,1836,1836,1836,1837,1838,1840,1841,1842,1842,1844,1844,1844,1846,1846,1847,1849,1851,1852,1852,1853,1854,1854,1854,1857,1858,1859,1860,1861,1862,1863,1863,1864,1866,1866,1869,1870,1871,1871,1872,1874,1875,1876,1877,1881,1882,1882,1883,1884,1887,1887,1888,1888,1888,1889,1892,1892,1895,1895,1895,1896,1896,1900,1900,1901,1902,1904,1904,1904,1906,1907,1907,1908,1910,1912,1913,1915,1917,1917,1920,1923,1927,1929,1930,1934,1935,1937,1939,1943,1944,1948,1949,1949,1950,1951,1952,1953,1953,1954,1956,1968,1969,1970,1971,1973,1974,1976,1979,1983,1984,1984,1985,1986,1992,1996,2001,2003,2016,2017,2021,2033,2041,2172,2185,2192,2194,2194,2195,2197,2198,2199,2201,2208,2211,2214,2219,2230,2238,2239,2240,2244,2245,2249,2253,2254,2260,2262,2263,2266,2268,2271,2274,2274,2276,2278,2280,2280,2280,2281,2282,2282,2284,2286,2286,2289,2293,2294,2295,2297,2298,2300,2303,2304,2305,2306,2306,2309,2309,2311,2311,2312,2314,2314,2315,2318,2322,2324,2324,2325,2328,2328,2329,2329,2331,2331,2334,2337,2337,2338,2339,2340,2341,2342,2345,2351,2351,2352,2354,2355,2357,2358,2361,2362,2363,2365,2365,2366,2369,2378,2380,2381,2390,2391,2391,2394,2394,2396,2399,2404,2404,2406,2410,2410,2414,2416,2420,2421,2424,2424,2426,2430,2433,2433,2434,2434,2434,2436,2437,2438,2439,2439,2440,2444,2445,2445,2447,2449,2452,2452,2452,2455,2456,2456,2457,2458,2459,2463,2464,2466,2467,2468,2471,2471,2472,2473,2474,2476,2477,2479,2481,2483,2485,2488,2488,2489,2490,2491,2491,2492,2495,2495,2497,2499,2501,2502,2503,2503,2503,2505,2506,2507,2507,2510,2512,2513,2513,2514,2515,2519,2519,2521,2523,2524,2533,2536,2541,2542,2549,2549,2551,2552,2554,2556,2557,2558,2560,2562,2563,2568,2571,2579,2589,2593,2593,2598,2603,2613,2616,2617,2619,2620,2621,2630,2637,2639,2641,2642,2643,2645,2646,2651,2653,2655,2656,2658,2675,2676,2676,2677,2678,2679,2680,2684,2687,2705,2705,2716,2721,2723,2734,2736,3434,3493,3510,3634,3649,4403],\"xaxis\":\"x\",\"y\":[\"Hahn, Douglas and Schowalter\",\"Reichert-Weissnat\",\"Medhurst, Labadie and Gottlieb\",\"Treutel-King\",\"Douglas, DuBuque and McKenzie\",\"Satterfield-Lowe\",\"Little-Gleichner\",\"Tromp Group\",\"Ritchie, Bradtke and Stiedemann\",\"Hodkiewicz, Prohaska and Paucek\",\"Boyer-Haley\",\"Lemke and Sons\",\"Goyette-Herzog\",\"Champlin, Rolfson and Connelly\",\"Breitenberg LLC\",\"Jerde-Hermann\",\"Kessler Group\",\"Veum-Koelpin\",\"Hackett Group\",\"Kris-Kertzmann\",\"Kessler Inc\",\"Kilback, Nitzsche and Leffler\",\"Kozey-McDermott\",\"Kunze, Larkin and Mayert\",\"Ebert-Daugherty\",\"Turner LLC\",\"Reichel, Bradtke and Blanda\",\"Monahan, Hermann and Johns\",\"Hagenes, Hermann and Stroman\",\"Leannon-Nikolaus\",\"Lynch-Mohr\",\"Larson, Quitzon and Spencer\",\"Ankunding-Carroll\",\"Mosciski Group\",\"Schroeder, Wolff and Hermiston\",\"Kovacek Ltd\",\"Thiel Ltd\",\"Bahringer-Larson\",\"Ritchie, Oberbrunner and Cremin\",\"Johnston-Casper\",\"Eichmann, Hayes and Treutel\",\"Kohler, Lindgren and Koelpin\",\"Bednar Inc\",\"Tillman LLC\",\"Romaguera and Sons\",\"McLaughlin, Armstrong and Koepp\",\"Hyatt-Blick\",\"Fritsch LLC\",\"Hartmann, Rowe and Hermann\",\"Block-Hauck\",\"Pfeffer LLC\",\"McCullough Group\",\"Corwin-Romaguera\",\"Heller-Abshire\",\"Trantow PLC\",\"Hills-Olson\",\"Cummings Group\",\"Cassin-Harvey\",\"Funk Group\",\"Hintz-Bruen\",\"Rempel PLC\",\"Jaskolski-Dibbert\",\"Ortiz Group\",\"Harris, Gusikowski and Heaney\",\"Swift, Bradtke and Marquardt\",\"Wiegand-Lowe\",\"Smitham-Boehm\",\"Spinka Inc\",\"Johnston, Nikolaus and Maggio\",\"Rutherford, Homenick and Bergstrom\",\"Rowe-Vandervort\",\"Dicki Ltd\",\"Spinka-Welch\",\"Emmerich-Luettgen\",\"Smitham-Schiller\",\"Swaniawski, Bahringer and Ledner\",\"Stokes, Christiansen and Sipes\",\"Morar Inc\",\"Skiles-Ankunding\",\"Wuckert-Walter\",\"Gutmann Ltd\",\"Kutch Group\",\"Paucek-Wiza\",\"Collier Inc\",\"VonRueden Group\",\"Shields Inc\",\"Kutch-Hegmann\",\"Runolfsson and Sons\",\"Murray Ltd\",\"Towne, Walker and Borer\",\"Tromp, Kerluke and Glover\",\"Adams, Kovacek and Kuhlman\",\"Kemmer-Reinger\",\"Kling-Grant\",\"Roob LLC\",\"Ferry, Reichel and DuBuque\",\"Bernier, Streich and Jewess\",\"Morissette, Weber and Wiegand\",\"Dach-Borer\",\"Brown PLC\",\"Kerluke, Considine and Macejkovic\",\"Kerluke, Kertzmann and Wiza\",\"Ruecker Group\",\"Flatley-Durgan\",\"Kerluke PLC\",\"Mante Group\",\"Nader-Heller\",\"Kris-Weimann\",\"Bernier, Volkman and Hoeger\",\"Kunde-Sanford\",\"Jaskolski-Vandervort\",\"Greenfelder, Bartoletti and Davis\",\"Dooley-Thompson\",\"Miller-Harris\",\"Hayes, Marquardt and Dibbert\",\"Hamill-Daugherty\",\"Schmitt Ltd\",\"Dach-Nader\",\"Koelpin and Sons\",\"Welch Inc\",\"Moore, Dibbert and Koepp\",\"Rippin, Kub and Mann\",\"Jones, Sawayn and Romaguera\",\"Volkman Ltd\",\"Klocko LLC\",\"Johnson, Runolfsdottir and Mayer\",\"Rohan, White and Aufderhar\",\"McGlynn-Heathcote\",\"Durgan-Auer\",\"Kerluke Inc\",\"Parisian, Schiller and Altenwerth\",\"Stehr, Jewess and Schimmel\",\"Bogisich-Homenick\",\"Kuphal-Bartoletti\",\"Zemlak Group\",\"Donnelly PLC\",\"Herman, Treutel and Dickens\",\"Ferry, Lynch and Kautzer\",\"Kuphal-Predovic\",\"Rodriguez, Yost and Jenkins\",\"Block-Parisian\",\"Corwin-Gorczany\",\"Lehner, Mosciski and King\",\"Tillman, Fritsch and Schmitt\",\"Huel-Langworth\",\"Bednar Group\",\"Huel Ltd\",\"Lebsack and Sons\",\"Towne LLC\",\"Eichmann-Russel\",\"Turner, Ruecker and Parisian\",\"Dickinson-Rempel\",\"Monahan, Bogisich and Ledner\",\"Balistreri-Nader\",\"Cremin, Hamill and Reichel\",\"Bruen-Yost\",\"Reynolds-Schinner\",\"Boehm, Predovic and Reinger\",\"Gutmann-Upton\",\"Thiel PLC\",\"Simonis-Prohaska\",\"Boehm, Block and Jakubowski\",\"Turcotte-Halvorson\",\"Lehner, Reichert and Mills\",\"Roberts-Beahan\",\"Stiedemann Inc\",\"Terry, Johns and Bins\",\"Buckridge PLC\",\"Herman Inc\",\"McGlynn-Jaskolski\",\"Wisozk and Sons\",\"Nienow, Ankunding and Collier\",\"Spencer-Runolfsson\",\"Keeling-Crist\",\"Block Group\",\"Halvorson Group\",\"Schmeler Inc\",\"Kemmer-Buckridge\",\"McCullough LLC\",\"Maggio-Fahey\",\"Wiza LLC\",\"Torp-Lemke\",\"Howe Ltd\",\"Yost, Block and Koepp\",\"Hermann-Gaylord\",\"Wintheiser, Dietrich and Schimmel\",\"Haley Group\",\"Hermiston, Pacocha and Smith\",\"Williamson LLC\",\"Turcotte, Batz and Buckridge\",\"McDermott-Rice\",\"Smith-Stokes\",\"Christiansen-Gusikowski\",\"Stamm-Rodriguez\",\"Herzog Ltd\",\"Wiza, Schaden and Stark\",\"Jacobi Inc\",\"Runte, Green and Emard\",\"Kertzmann LLC\",\"Torphy-Kertzmann\",\"Hintz, Bauch and Smith\",\"Schroeder Group\",\"Fadel-Hilpert\",\"Reilly and Sons\",\"Dare-Gibson\",\"Flatley Group\",\"Roob-Okuneva\",\"Thompson-Gleason\",\"Graham and Sons\",\"Ziemann-Waters\",\"Klocko, Runolfsdottir and Breitenberg\",\"Fritsch and Sons\",\"Heller PLC\",\"Greenholt Ltd\",\"Mante, Luettgen and Hackett\",\"Carroll PLC\",\"Ledner, Hartmann and Feest\",\"Erdman-Durgan\",\"Cronin, Kshlerin and Weber\",\"Swaniawski, Nitzsche and Welch\",\"Shields-Wunsch\",\"Romaguera Ltd\",\"Bahringer, Osinski and Block\",\"Bahringer Group\",\"Ratke and Sons\",\"Torp, Muller and Borer\",\"Hamill-D'Amore\",\"Kub-Heaney\",\"Kulas Group\",\"Conroy, Balistreri and Gorczany\",\"Dare, Fritsch and Zboncak\",\"Dietrich-Fadel\",\"Hills, Hegmann and Schaefer\",\"Adams-Barrows\",\"Medhurst, Cartwright and Ebert\",\"Friesen Ltd\",\"Abernathy and Sons\",\"Emmerich-Rau\",\"Feil-Morar\",\"Wilkinson LLC\",\"Rippin-VonRueden\",\"Friesen-Ortiz\",\"Kihn-Schuster\",\"Fadel Inc\",\"Abbott-Steuber\",\"Schiller Ltd\",\"Zboncak LLC\",\"Brown, Homenick and Lesch\",\"Kuhn Group\",\"Schumm, McLaughlin and Carter\",\"Reichel LLC\",\"Conroy-Emard\",\"Turner, Ziemann and Lehner\",\"Schoen, Nienow and Bauch\",\"Zulauf LLC\",\"Nader-Maggio\",\"Hahn, Bahringer and McLaughlin\",\"Lubowitz, Terry and Stracke\",\"Haley, Batz and Auer\",\"Schuppe-Schuppe\",\"Langosh, Wintheiser and Hyatt\",\"Hyatt, Russel and Gleichner\",\"Homenick LLC\",\"Kihn, Brakus and Goyette\",\"Powlowski-Weimann\",\"Waters-Cruickshank\",\"Monahan-Morar\",\"O'Keefe-Wisoky\",\"Kub PLC\",\"Shanahan-Lehner\",\"Zemlak, Tillman and Cremin\",\"Deckow-Dare\",\"Schmeler-Howe\",\"Marvin-Lind\",\"Hagenes, Kohler and Hoppe\",\"Hirthe-Beier\",\"Baumbach Ltd\",\"O'Hara-Wilderman\",\"Berge, Kautzer and Harris\",\"Morissette-Schaefer\",\"Bahringer-Streich\",\"Labadie LLC\",\"Roberts, Ryan and Smith\",\"Kirlin and Sons\",\"Langworth LLC\",\"Lakin, Ferry and Beatty\",\"Erdman-Schaden\",\"Bechtelar-Rippin\",\"Bartoletti and Sons\",\"Osinski Inc\",\"McCullough, Hudson and Schuster\",\"Rolfson-Kunde\",\"Connelly PLC\",\"Watsica LLC\",\"Effertz LLC\",\"Sporer-Keebler\",\"Jakubowski Group\",\"Runte-Mohr\",\"Kutch, Steuber and Gerhold\",\"Bernhard-Lesch\",\"Schneider, Hayes and Nikolaus\",\"Larson-Moen\",\"Parker-Kunde\",\"Mueller, Gerhold and Mueller\",\"Klein Group\",\"Goldner-Lemke\",\"Feil, Hilpert and Koss\",\"Jast and Sons\",\"Kassulke Inc\",\"Schroeder, Hauck and Treutel\",\"Johns-Hoeger\",\"Kilback and Sons\",\"Harris Group\",\"Prosacco LLC\",\"Auer LLC\",\"Larkin, Stracke and Greenfelder\",\"Upton PLC\",\"Kozey-Kuhlman\",\"Leannon-Ward\",\"Ernser-Lynch\",\"Thiel-Thiel\",\"Kerluke-Abshire\",\"Hills-Boyer\",\"Haag-Blanda\",\"Donnelly LLC\",\"Weber and Sons\",\"Crooks and Sons\",\"Abbott-Rogahn\",\"Schulist Ltd\",\"McKenzie-Huels\",\"Welch, Rath and Koepp\",\"Daugherty-Thompson\",\"Lesch, D'Amore and Brown\",\"Leffler-Goldner\",\"Walter, Hettinger and Kessler\",\"Effertz, Welch and Schowalter\",\"Stiedemann Ltd\",\"Kilback Group\",\"Gottlieb-Hansen\",\"Bins-Howell\",\"Bradtke, Torp and Bahringer\",\"Dare-Marvin\",\"Heaney-Marquardt\",\"Nienow, Barrows and Romaguera\",\"Konopelski, Schneider and Hartmann\",\"Will Ltd\",\"Erdman-Ebert\",\"Howe PLC\",\"Kihn-Fritsch\",\"Kozey-Boehm\",\"Stark-Batz\",\"Kuphal-Toy\",\"Zboncak Ltd\",\"Wilkinson Ltd\",\"Koss, McLaughlin and Mayer\",\"Yost-Rogahn\",\"Turcotte, McKenzie and Koss\",\"Cormier, Stracke and Thiel\",\"Dibbert-Green\",\"Stamm-Witting\",\"Volkman PLC\",\"Becker, Harris and Harvey\",\"Kautzer and Sons\",\"Armstrong, Walter and Gottlieb\",\"Hoppe, Harris and Bednar\",\"Auer-West\",\"Nienow PLC\",\"Kihn, Abernathy and Douglas\",\"Runolfsdottir, Mueller and Hand\",\"Spencer PLC\",\"Beier LLC\",\"Cruickshank-Mills\",\"Frami Group\",\"Lind-Buckridge\",\"Abshire PLC\",\"Fadel, Mertz and Rippin\",\"Graham, Hegmann and Hammes\",\"Morissette LLC\",\"Gibson-Deckow\",\"Cummerata-Hilpert\",\"Johns Inc\",\"Padberg-Rogahn\",\"Altenwerth, Cartwright and Koss\",\"Reichert, Rowe and Mraz\",\"Grimes LLC\",\"Brown-Greenholt\",\"Reichel Inc\",\"Schuppe LLC\",\"Boyer-Reichert\",\"Reinger, Weissnat and Strosin\",\"Reichert, Huels and Hoppe\",\"Bauch-Blanda\",\"Schaefer, Fay and Hilll\",\"Kling-Ernser\",\"Douglas-White\",\"Labadie, Treutel and Bode\",\"Ankunding LLC\",\"Dibbert and Sons\",\"Baumbach, Feeney and Morar\",\"Bashirian Group\",\"Rempel Inc\",\"Greenholt, O'Hara and Balistreri\",\"Ruecker, Beer and Collier\",\"Romaguera, Cruickshank and Greenholt\",\"Goyette Inc\",\"Towne, Greenholt and Koepp\",\"Gerlach Inc\",\"Volkman-Predovic\",\"Streich, Dietrich and Barton\",\"Schmidt and Sons\",\"Mosciski, Ziemann and Farrell\",\"Kassulke PLC\",\"Jast Ltd\",\"Lemke-Gutmann\",\"Bins-Tillman\",\"Heathcote, Yost and Kertzmann\",\"Schmeler, Bashirian and Price\",\"Langworth, Boehm and Gulgowski\",\"Fisher-Schowalter\",\"Little, Gutmann and Lynch\",\"Hermiston, Russel and Price\",\"Medhurst PLC\",\"Heathcote LLC\",\"Reichert, Shanahan and Hayes\",\"Price Inc\",\"Nicolas, Hills and McGlynn\",\"Parker, Nolan and Trantow\",\"Kuhic LLC\",\"Stanton, Jakubowski and Baumbach\",\"Mohr-Bayer\",\"Terry-Huel\",\"Gottlieb, Considine and Schultz\",\"Kuhic, Bins and Pfeffer\",\"Hills-Witting\",\"Zboncak, Rowe and Murazik\",\"Predovic Inc\",\"Gleason-Macejkovic\",\"Fisher Inc\",\"Wilkinson PLC\",\"Waelchi-Wolf\",\"Nolan-Williamson\",\"Hammes-Beatty\",\"Dare, Casper and Bartoletti\",\"Breitenberg-Hermiston\",\"Windler LLC\",\"Schimmel-Olson\",\"Roberts, Daniel and Macejkovic\",\"Bednar PLC\",\"Schoen-Quigley\",\"Brown Inc\",\"Metz, Russel and Metz\",\"Ullrich Ltd\",\"Daugherty LLC\",\"Weber, Thiel and Hammes\",\"Fahey Inc\",\"Gleason and Sons\",\"Larkin Ltd\",\"Lowe, Dietrich and Erdman\",\"Rau-Robel\",\"Rau-Grant\",\"Crona and Sons\",\"Douglas, Schneider and Turner\",\"Gottlieb Group\",\"Lubowitz-Walter\",\"Beer-Jast\",\"Barrows PLC\",\"Hauck, Dietrich and Funk\",\"Waelchi Inc\",\"Jast-McDermott\",\"Denesik and Sons\",\"Lang, Towne and Schuppe\",\"Ruecker-Mayert\",\"Schaefer Ltd\",\"Streich, Rolfson and Wilderman\",\"Goyette-Gerhold\",\"Cartwright PLC\",\"Hoppe-Parisian\",\"Berge-Hills\",\"Bahringer, Schoen and Corkery\",\"Swift PLC\",\"Pacocha-Weissnat\",\"Pouros, Walker and Spencer\",\"Bode-Rempel\",\"Hudson-Grady\",\"Daugherty, Pouros and Beahan\",\"Barton LLC\",\"Dooley Inc\",\"Bode-Schuster\",\"Bernhard, Grant and Langworth\",\"Weimann-Lockman\",\"Jewess LLC\",\"Okuneva, Schneider and Rau\",\"Lynch Ltd\",\"Kris-Padberg\",\"Bogisich-Weimann\",\"Botsford Ltd\",\"Turner and Sons\",\"Baumbach, Strosin and Nicolas\",\"Pfeffer and Sons\",\"Bins, Balistreri and Beatty\",\"Torphy-Goyette\",\"Friesen Inc\",\"Pacocha-Bauch\",\"Roob, Conn and Tremblay\",\"Pagac LLC\",\"Haley, Jewess and Bechtelar\",\"Goyette, Howell and Collier\",\"Lesch Ltd\",\"Swaniawski, Lowe and Robel\",\"Watsica, Haag and Considine\",\"Romaguera, Wehner and Tromp\",\"Pouros-Haag\",\"Conroy Ltd\",\"Schoen Ltd\",\"Wuckert-Goldner\",\"Nitzsche, Kessler and Wolff\",\"Jacobi and Sons\",\"Koss, Hansen and Lueilwitz\",\"Durgan, Gislason and Spencer\",\"Champlin and Sons\",\"Willms, Kris and Bergnaum\",\"Mayert Group\",\"Bernier and Sons\",\"Metz-Boehm\",\"Pouros-Conroy\",\"Hermann and Sons\",\"Yost, Schamberger and Windler\",\"Little Ltd\",\"Mohr Inc\",\"Hilpert-Conroy\",\"Baumbach, Hodkiewicz and Walsh\",\"Beier-Hyatt\",\"Sawayn PLC\",\"Macejkovic-Lesch\",\"Moen, Reinger and Murphy\",\"Weimann, Kuhic and Beahan\",\"Schmidt-Larkin\",\"Witting, Beer and Ernser\",\"Kutch-Ferry\",\"Quitzon, Green and Bashirian\",\"Wolf Inc\",\"Morissette PLC\",\"Kihn Inc\",\"Schultz, Simonis and Little\",\"Streich Ltd\",\"O'Connell-Ullrich\",\"Koepp-Parker\",\"Cartwright-Harris\",\"Hettinger, McCullough and Fay\",\"Schuppe, Nolan and Hoeger\",\"Hickle Group\",\"Stracke-Lemke\",\"Gerhold LLC\",\"Padberg-Welch\",\"Padberg-Sauer\",\"Cole, Hills and Jewess\",\"Bailey-Morar\",\"Reilly LLC\",\"Huel, Hammes and Witting\",\"Heidenreich PLC\",\"Stoltenberg-Beatty\",\"Kuhic Inc\",\"Rowe, Batz and Goodwin\",\"Koepp-Witting\",\"Berge-Ullrich\",\"Bogisich Inc\",\"O'Keefe-Hudson\",\"Prosacco, Kreiger and Kovacek\",\"Skiles LLC\",\"Jakubowski Inc\",\"Collier LLC\",\"Barton Inc\",\"Crist, Jakubowski and Littel\",\"Kiehn Inc\",\"Ernser-Feest\",\"Windler, Goodwin and Kovacek\",\"Auer-Mosciski\",\"Moore, Williamson and Emmerich\",\"Gaylord-Powlowski\",\"Mosciski, Gislason and Mertz\",\"Kunze Inc\",\"Strosin-Cruickshank\",\"Miller-Hauck\",\"Lynch-Wisozk\",\"Wuckert, Wintheiser and Friesen\",\"Schoen, Kuphal and Nitzsche\",\"Botsford PLC\",\"Goldner, Kovacek and Abbott\",\"Kovacek, Dibbert and Ondricka\",\"Kutch and Sons\",\"Beier and Sons\",\"Vandervort-Funk\",\"Hudson-Ratke\",\"Botsford and Sons\",\"Stark-Koss\",\"Bahringer, Bergnaum and Quitzon\",\"Deckow-O'Conner\",\"Schamberger-O'Keefe\",\"Kling, Howe and Schneider\",\"Cole PLC\",\"Rutherford-Mertz\",\"Rau and Sons\",\"DuBuque LLC\",\"Gutmann, McLaughlin and Wiza\",\"Lockman Ltd\",\"McDermott, Osinski and Morar\",\"Renner Ltd\",\"Kiehn-Emmerich\",\"Champlin-Casper\",\"Kutch-Wilderman\",\"Quitzon-Goyette\",\"Heller, Gutmann and Zieme\",\"Altenwerth-Kilback\",\"Gislason Group\",\"Lockman, West and Runte\",\"White and Sons\",\"Friesen-D'Amore\",\"Osinski, Ledner and Leuschke\",\"Murray-Smitham\",\"Schumm, Bauch and Ondricka\",\"Gulgowski LLC\",\"Bauch-Raynor\",\"Casper, Hand and Zulauf\",\"Harber Inc\",\"O'Connell, Botsford and Hand\",\"Schiller, Blanda and Johnson\",\"Raynor, Feest and Miller\",\"Connelly-Carter\",\"McDermott-Weimann\",\"Pollich LLC\",\"Robel, Cummerata and Prosacco\",\"Heller-Langosh\",\"Goodwin-Nitzsche\",\"Denesik, Powlowski and Pouros\",\"Pacocha-O'Reilly\",\"Reilly, Heaney and Cole\",\"Bradtke PLC\",\"Eichmann-Kilback\",\"Medhurst Inc\",\"Marks Inc\",\"Doyle Ltd\",\"Zieme, Bode and Dooley\",\"Harris Inc\",\"O'Reilly, Mohr and Purdy\",\"Hackett-Lueilwitz\",\"Terry Ltd\",\"Schaefer, McGlynn and Bosco\",\"Lind, Huel and McClure\",\"Huels-Nolan\",\"Sporer Inc\",\"Cummings LLC\",\"Conroy-Cruickshank\",\"Kutch, Hermiston and Farrell\",\"Koss and Sons\",\"Streich, Hansen and Veum\",\"Ledner-Pfannerstill\",\"Schaefer, Maggio and Daugherty\",\"Raynor, Reinger and Hagenes\",\"Luettgen PLC\",\"Parisian and Sons\",\"Bernhard Inc\",\"Emard Inc\",\"Torp-Labadie\",\"Kuvalis Ltd\",\"Tillman, Dickinson and Labadie\",\"Mraz-Herzog\",\"Schmitt Inc\",\"Brekke and Sons\",\"Bins-Rice\",\"Greenholt, Jacobi and Gleason\",\"Eichmann, Bogan and Rodriguez\",\"Corwin-Collins\",\"Bartoletti-Wunsch\",\"Christiansen, Goyette and Schamberger\",\"Berge LLC\",\"Huels-Hahn\",\"Prohaska-Murray\",\"Friesen-Stamm\",\"Connelly, Reichert and Fritsch\",\"Kling Inc\",\"Jenkins, Hauck and Friesen\",\"Erdman-Kertzmann\",\"Rodriguez Group\",\"Stroman, Hudson and Erdman\",\"Olson, Becker and Koch\",\"Kutch LLC\",\"Cummerata-Jones\",\"Dickinson Ltd\",\"Boyer PLC\",\"Kuhn LLC\",\"Schumm PLC\",\"Cormier LLC\",\"Kilback LLC\"],\"yaxis\":\"y\",\"type\":\"bar\"}],                        {\"template\":{\"data\":{\"bar\":[{\"error_x\":{\"color\":\"#2a3f5f\"},\"error_y\":{\"color\":\"#2a3f5f\"},\"marker\":{\"line\":{\"color\":\"#E5ECF6\",\"width\":0.5},\"pattern\":{\"fillmode\":\"overlay\",\"size\":10,\"solidity\":0.2}},\"type\":\"bar\"}],\"barpolar\":[{\"marker\":{\"line\":{\"color\":\"#E5ECF6\",\"width\":0.5},\"pattern\":{\"fillmode\":\"overlay\",\"size\":10,\"solidity\":0.2}},\"type\":\"barpolar\"}],\"carpet\":[{\"aaxis\":{\"endlinecolor\":\"#2a3f5f\",\"gridcolor\":\"white\",\"linecolor\":\"white\",\"minorgridcolor\":\"white\",\"startlinecolor\":\"#2a3f5f\"},\"baxis\":{\"endlinecolor\":\"#2a3f5f\",\"gridcolor\":\"white\",\"linecolor\":\"white\",\"minorgridcolor\":\"white\",\"startlinecolor\":\"#2a3f5f\"},\"type\":\"carpet\"}],\"choropleth\":[{\"colorbar\":{\"outlinewidth\":0,\"ticks\":\"\"},\"type\":\"choropleth\"}],\"contour\":[{\"colorbar\":{\"outlinewidth\":0,\"ticks\":\"\"},\"colorscale\":[[0.0,\"#0d0887\"],[0.1111111111111111,\"#46039f\"],[0.2222222222222222,\"#7201a8\"],[0.3333333333333333,\"#9c179e\"],[0.4444444444444444,\"#bd3786\"],[0.5555555555555556,\"#d8576b\"],[0.6666666666666666,\"#ed7953\"],[0.7777777777777778,\"#fb9f3a\"],[0.8888888888888888,\"#fdca26\"],[1.0,\"#f0f921\"]],\"type\":\"contour\"}],\"contourcarpet\":[{\"colorbar\":{\"outlinewidth\":0,\"ticks\":\"\"},\"type\":\"contourcarpet\"}],\"heatmap\":[{\"colorbar\":{\"outlinewidth\":0,\"ticks\":\"\"},\"colorscale\":[[0.0,\"#0d0887\"],[0.1111111111111111,\"#46039f\"],[0.2222222222222222,\"#7201a8\"],[0.3333333333333333,\"#9c179e\"],[0.4444444444444444,\"#bd3786\"],[0.5555555555555556,\"#d8576b\"],[0.6666666666666666,\"#ed7953\"],[0.7777777777777778,\"#fb9f3a\"],[0.8888888888888888,\"#fdca26\"],[1.0,\"#f0f921\"]],\"type\":\"heatmap\"}],\"heatmapgl\":[{\"colorbar\":{\"outlinewidth\":0,\"ticks\":\"\"},\"colorscale\":[[0.0,\"#0d0887\"],[0.1111111111111111,\"#46039f\"],[0.2222222222222222,\"#7201a8\"],[0.3333333333333333,\"#9c179e\"],[0.4444444444444444,\"#bd3786\"],[0.5555555555555556,\"#d8576b\"],[0.6666666666666666,\"#ed7953\"],[0.7777777777777778,\"#fb9f3a\"],[0.8888888888888888,\"#fdca26\"],[1.0,\"#f0f921\"]],\"type\":\"heatmapgl\"}],\"histogram\":[{\"marker\":{\"pattern\":{\"fillmode\":\"overlay\",\"size\":10,\"solidity\":0.2}},\"type\":\"histogram\"}],\"histogram2d\":[{\"colorbar\":{\"outlinewidth\":0,\"ticks\":\"\"},\"colorscale\":[[0.0,\"#0d0887\"],[0.1111111111111111,\"#46039f\"],[0.2222222222222222,\"#7201a8\"],[0.3333333333333333,\"#9c179e\"],[0.4444444444444444,\"#bd3786\"],[0.5555555555555556,\"#d8576b\"],[0.6666666666666666,\"#ed7953\"],[0.7777777777777778,\"#fb9f3a\"],[0.8888888888888888,\"#fdca26\"],[1.0,\"#f0f921\"]],\"type\":\"histogram2d\"}],\"histogram2dcontour\":[{\"colorbar\":{\"outlinewidth\":0,\"ticks\":\"\"},\"colorscale\":[[0.0,\"#0d0887\"],[0.1111111111111111,\"#46039f\"],[0.2222222222222222,\"#7201a8\"],[0.3333333333333333,\"#9c179e\"],[0.4444444444444444,\"#bd3786\"],[0.5555555555555556,\"#d8576b\"],[0.6666666666666666,\"#ed7953\"],[0.7777777777777778,\"#fb9f3a\"],[0.8888888888888888,\"#fdca26\"],[1.0,\"#f0f921\"]],\"type\":\"histogram2dcontour\"}],\"mesh3d\":[{\"colorbar\":{\"outlinewidth\":0,\"ticks\":\"\"},\"type\":\"mesh3d\"}],\"parcoords\":[{\"line\":{\"colorbar\":{\"outlinewidth\":0,\"ticks\":\"\"}},\"type\":\"parcoords\"}],\"pie\":[{\"automargin\":true,\"type\":\"pie\"}],\"scatter\":[{\"marker\":{\"colorbar\":{\"outlinewidth\":0,\"ticks\":\"\"}},\"type\":\"scatter\"}],\"scatter3d\":[{\"line\":{\"colorbar\":{\"outlinewidth\":0,\"ticks\":\"\"}},\"marker\":{\"colorbar\":{\"outlinewidth\":0,\"ticks\":\"\"}},\"type\":\"scatter3d\"}],\"scattercarpet\":[{\"marker\":{\"colorbar\":{\"outlinewidth\":0,\"ticks\":\"\"}},\"type\":\"scattercarpet\"}],\"scattergeo\":[{\"marker\":{\"colorbar\":{\"outlinewidth\":0,\"ticks\":\"\"}},\"type\":\"scattergeo\"}],\"scattergl\":[{\"marker\":{\"colorbar\":{\"outlinewidth\":0,\"ticks\":\"\"}},\"type\":\"scattergl\"}],\"scattermapbox\":[{\"marker\":{\"colorbar\":{\"outlinewidth\":0,\"ticks\":\"\"}},\"type\":\"scattermapbox\"}],\"scatterpolar\":[{\"marker\":{\"colorbar\":{\"outlinewidth\":0,\"ticks\":\"\"}},\"type\":\"scatterpolar\"}],\"scatterpolargl\":[{\"marker\":{\"colorbar\":{\"outlinewidth\":0,\"ticks\":\"\"}},\"type\":\"scatterpolargl\"}],\"scatterternary\":[{\"marker\":{\"colorbar\":{\"outlinewidth\":0,\"ticks\":\"\"}},\"type\":\"scatterternary\"}],\"surface\":[{\"colorbar\":{\"outlinewidth\":0,\"ticks\":\"\"},\"colorscale\":[[0.0,\"#0d0887\"],[0.1111111111111111,\"#46039f\"],[0.2222222222222222,\"#7201a8\"],[0.3333333333333333,\"#9c179e\"],[0.4444444444444444,\"#bd3786\"],[0.5555555555555556,\"#d8576b\"],[0.6666666666666666,\"#ed7953\"],[0.7777777777777778,\"#fb9f3a\"],[0.8888888888888888,\"#fdca26\"],[1.0,\"#f0f921\"]],\"type\":\"surface\"}],\"table\":[{\"cells\":{\"fill\":{\"color\":\"#EBF0F8\"},\"line\":{\"color\":\"white\"}},\"header\":{\"fill\":{\"color\":\"#C8D4E3\"},\"line\":{\"color\":\"white\"}},\"type\":\"table\"}]},\"layout\":{\"annotationdefaults\":{\"arrowcolor\":\"#2a3f5f\",\"arrowhead\":0,\"arrowwidth\":1},\"autotypenumbers\":\"strict\",\"coloraxis\":{\"colorbar\":{\"outlinewidth\":0,\"ticks\":\"\"}},\"colorscale\":{\"diverging\":[[0,\"#8e0152\"],[0.1,\"#c51b7d\"],[0.2,\"#de77ae\"],[0.3,\"#f1b6da\"],[0.4,\"#fde0ef\"],[0.5,\"#f7f7f7\"],[0.6,\"#e6f5d0\"],[0.7,\"#b8e186\"],[0.8,\"#7fbc41\"],[0.9,\"#4d9221\"],[1,\"#276419\"]],\"sequential\":[[0.0,\"#0d0887\"],[0.1111111111111111,\"#46039f\"],[0.2222222222222222,\"#7201a8\"],[0.3333333333333333,\"#9c179e\"],[0.4444444444444444,\"#bd3786\"],[0.5555555555555556,\"#d8576b\"],[0.6666666666666666,\"#ed7953\"],[0.7777777777777778,\"#fb9f3a\"],[0.8888888888888888,\"#fdca26\"],[1.0,\"#f0f921\"]],\"sequentialminus\":[[0.0,\"#0d0887\"],[0.1111111111111111,\"#46039f\"],[0.2222222222222222,\"#7201a8\"],[0.3333333333333333,\"#9c179e\"],[0.4444444444444444,\"#bd3786\"],[0.5555555555555556,\"#d8576b\"],[0.6666666666666666,\"#ed7953\"],[0.7777777777777778,\"#fb9f3a\"],[0.8888888888888888,\"#fdca26\"],[1.0,\"#f0f921\"]]},\"colorway\":[\"#636efa\",\"#EF553B\",\"#00cc96\",\"#ab63fa\",\"#FFA15A\",\"#19d3f3\",\"#FF6692\",\"#B6E880\",\"#FF97FF\",\"#FECB52\"],\"font\":{\"color\":\"#2a3f5f\"},\"geo\":{\"bgcolor\":\"white\",\"lakecolor\":\"white\",\"landcolor\":\"#E5ECF6\",\"showlakes\":true,\"showland\":true,\"subunitcolor\":\"white\"},\"hoverlabel\":{\"align\":\"left\"},\"hovermode\":\"closest\",\"mapbox\":{\"style\":\"light\"},\"paper_bgcolor\":\"white\",\"plot_bgcolor\":\"#E5ECF6\",\"polar\":{\"angularaxis\":{\"gridcolor\":\"white\",\"linecolor\":\"white\",\"ticks\":\"\"},\"bgcolor\":\"#E5ECF6\",\"radialaxis\":{\"gridcolor\":\"white\",\"linecolor\":\"white\",\"ticks\":\"\"}},\"scene\":{\"xaxis\":{\"backgroundcolor\":\"#E5ECF6\",\"gridcolor\":\"white\",\"gridwidth\":2,\"linecolor\":\"white\",\"showbackground\":true,\"ticks\":\"\",\"zerolinecolor\":\"white\"},\"yaxis\":{\"backgroundcolor\":\"#E5ECF6\",\"gridcolor\":\"white\",\"gridwidth\":2,\"linecolor\":\"white\",\"showbackground\":true,\"ticks\":\"\",\"zerolinecolor\":\"white\"},\"zaxis\":{\"backgroundcolor\":\"#E5ECF6\",\"gridcolor\":\"white\",\"gridwidth\":2,\"linecolor\":\"white\",\"showbackground\":true,\"ticks\":\"\",\"zerolinecolor\":\"white\"}},\"shapedefaults\":{\"line\":{\"color\":\"#2a3f5f\"}},\"ternary\":{\"aaxis\":{\"gridcolor\":\"white\",\"linecolor\":\"white\",\"ticks\":\"\"},\"baxis\":{\"gridcolor\":\"white\",\"linecolor\":\"white\",\"ticks\":\"\"},\"bgcolor\":\"#E5ECF6\",\"caxis\":{\"gridcolor\":\"white\",\"linecolor\":\"white\",\"ticks\":\"\"}},\"title\":{\"x\":0.05},\"xaxis\":{\"automargin\":true,\"gridcolor\":\"white\",\"linecolor\":\"white\",\"ticks\":\"\",\"title\":{\"standoff\":15},\"zerolinecolor\":\"white\",\"zerolinewidth\":2},\"yaxis\":{\"automargin\":true,\"gridcolor\":\"white\",\"linecolor\":\"white\",\"ticks\":\"\",\"title\":{\"standoff\":15},\"zerolinecolor\":\"white\",\"zerolinewidth\":2}}},\"xaxis\":{\"anchor\":\"y\",\"domain\":[0.0,1.0],\"title\":{\"text\":\"Total Number of Occurrences\"}},\"yaxis\":{\"anchor\":\"x\",\"domain\":[0.0,1.0],\"title\":{\"text\":\"merchant\"}},\"legend\":{\"tracegroupgap\":0},\"title\":{\"text\":\"merchant Distribution\"},\"barmode\":\"relative\",\"height\":1000,\"width\":1000},                        {\"responsive\": true}                    ).then(function(){\n",
       "                            \n",
       "var gd = document.getElementById('554c20fd-a57d-4861-96ce-4e10df511367');\n",
       "var x = new MutationObserver(function (mutations, observer) {{\n",
       "        var display = window.getComputedStyle(gd).display;\n",
       "        if (!display || display === 'none') {{\n",
       "            console.log([gd, 'removed!']);\n",
       "            Plotly.purge(gd);\n",
       "            observer.disconnect();\n",
       "        }}\n",
       "}});\n",
       "\n",
       "// Listen for the removal of the full notebook cells\n",
       "var notebookContainer = gd.closest('#notebook-container');\n",
       "if (notebookContainer) {{\n",
       "    x.observe(notebookContainer, {childList: true});\n",
       "}}\n",
       "\n",
       "// Listen for the clearing of the current output cell\n",
       "var outputEl = gd.closest('.output');\n",
       "if (outputEl) {{\n",
       "    x.observe(outputEl, {childList: true});\n",
       "}}\n",
       "\n",
       "                        })                };                            </script>        </div>\n",
       "</body>\n",
       "</html>"
      ]
     },
     "metadata": {},
     "output_type": "display_data"
    },
    {
     "name": "stdout",
     "output_type": "stream",
     "text": [
      "Top 10:\n",
      "Stroman, Hudson and Erdman    2721\n",
      "Olson, Becker and Koch        2723\n",
      "Kutch LLC                     2734\n",
      "Cummerata-Jones               2736\n",
      "Dickinson Ltd                 3434\n",
      "Boyer PLC                     3493\n",
      "Kuhn LLC                      3510\n",
      "Schumm PLC                    3634\n",
      "Cormier LLC                   3649\n",
      "Kilback LLC                   4403\n",
      "Name: merchant, dtype: int64\n",
      "********************\n",
      "Bottom 10:\n",
      "Hahn, Douglas and Schowalter       727\n",
      "Reichert-Weissnat                  753\n",
      "Medhurst, Labadie and Gottlieb     759\n",
      "Treutel-King                       775\n",
      "Douglas, DuBuque and McKenzie      775\n",
      "Satterfield-Lowe                   776\n",
      "Little-Gleichner                   783\n",
      "Tromp Group                        785\n",
      "Ritchie, Bradtke and Stiedemann    786\n",
      "Hodkiewicz, Prohaska and Paucek    787\n",
      "Name: merchant, dtype: int64\n",
      "****************************************************************************************************\n"
     ]
    },
    {
     "data": {
      "text/html": [
       "<html>\n",
       "<head><meta charset=\"utf-8\" /></head>\n",
       "<body>\n",
       "    <div>            <script src=\"https://cdnjs.cloudflare.com/ajax/libs/mathjax/2.7.5/MathJax.js?config=TeX-AMS-MML_SVG\"></script><script type=\"text/javascript\">if (window.MathJax) {MathJax.Hub.Config({SVG: {font: \"STIX-Web\"}});}</script>                <script type=\"text/javascript\">window.PlotlyConfig = {MathJaxConfig: 'local'};</script>\n",
       "        <script src=\"https://cdn.plot.ly/plotly-2.8.3.min.js\"></script>                <div id=\"1122044a-ed01-4d71-8187-fa248101dd7a\" class=\"plotly-graph-div\" style=\"height:1000px; width:1000px;\"></div>            <script type=\"text/javascript\">                                    window.PLOTLYENV=window.PLOTLYENV || {};                                    if (document.getElementById(\"1122044a-ed01-4d71-8187-fa248101dd7a\")) {                    Plotly.newPlot(                        \"1122044a-ed01-4d71-8187-fa248101dd7a\",                        [{\"alignmentgroup\":\"True\",\"hovertemplate\":\"Total Number of Occurrences=%{x}<br>category=%{y}<extra></extra>\",\"legendgroup\":\"\",\"marker\":{\"color\":\"#636efa\",\"pattern\":{\"shape\":\"\"}},\"name\":\"\",\"offsetgroup\":\"\",\"orientation\":\"h\",\"showlegend\":false,\"textposition\":\"auto\",\"x\":[40507,45452,63287,79655,85879,90758,91461,94014,97543,113035,116672,123115,123638,131659],\"xaxis\":\"x\",\"y\":[\"travel\",\"grocery_net\",\"misc_net\",\"misc_pos\",\"health_fitness\",\"personal_care\",\"food_dining\",\"entertainment\",\"shopping_net\",\"kids_pets\",\"shopping_pos\",\"home\",\"grocery_pos\",\"gas_transport\"],\"yaxis\":\"y\",\"type\":\"bar\"}],                        {\"template\":{\"data\":{\"bar\":[{\"error_x\":{\"color\":\"#2a3f5f\"},\"error_y\":{\"color\":\"#2a3f5f\"},\"marker\":{\"line\":{\"color\":\"#E5ECF6\",\"width\":0.5},\"pattern\":{\"fillmode\":\"overlay\",\"size\":10,\"solidity\":0.2}},\"type\":\"bar\"}],\"barpolar\":[{\"marker\":{\"line\":{\"color\":\"#E5ECF6\",\"width\":0.5},\"pattern\":{\"fillmode\":\"overlay\",\"size\":10,\"solidity\":0.2}},\"type\":\"barpolar\"}],\"carpet\":[{\"aaxis\":{\"endlinecolor\":\"#2a3f5f\",\"gridcolor\":\"white\",\"linecolor\":\"white\",\"minorgridcolor\":\"white\",\"startlinecolor\":\"#2a3f5f\"},\"baxis\":{\"endlinecolor\":\"#2a3f5f\",\"gridcolor\":\"white\",\"linecolor\":\"white\",\"minorgridcolor\":\"white\",\"startlinecolor\":\"#2a3f5f\"},\"type\":\"carpet\"}],\"choropleth\":[{\"colorbar\":{\"outlinewidth\":0,\"ticks\":\"\"},\"type\":\"choropleth\"}],\"contour\":[{\"colorbar\":{\"outlinewidth\":0,\"ticks\":\"\"},\"colorscale\":[[0.0,\"#0d0887\"],[0.1111111111111111,\"#46039f\"],[0.2222222222222222,\"#7201a8\"],[0.3333333333333333,\"#9c179e\"],[0.4444444444444444,\"#bd3786\"],[0.5555555555555556,\"#d8576b\"],[0.6666666666666666,\"#ed7953\"],[0.7777777777777778,\"#fb9f3a\"],[0.8888888888888888,\"#fdca26\"],[1.0,\"#f0f921\"]],\"type\":\"contour\"}],\"contourcarpet\":[{\"colorbar\":{\"outlinewidth\":0,\"ticks\":\"\"},\"type\":\"contourcarpet\"}],\"heatmap\":[{\"colorbar\":{\"outlinewidth\":0,\"ticks\":\"\"},\"colorscale\":[[0.0,\"#0d0887\"],[0.1111111111111111,\"#46039f\"],[0.2222222222222222,\"#7201a8\"],[0.3333333333333333,\"#9c179e\"],[0.4444444444444444,\"#bd3786\"],[0.5555555555555556,\"#d8576b\"],[0.6666666666666666,\"#ed7953\"],[0.7777777777777778,\"#fb9f3a\"],[0.8888888888888888,\"#fdca26\"],[1.0,\"#f0f921\"]],\"type\":\"heatmap\"}],\"heatmapgl\":[{\"colorbar\":{\"outlinewidth\":0,\"ticks\":\"\"},\"colorscale\":[[0.0,\"#0d0887\"],[0.1111111111111111,\"#46039f\"],[0.2222222222222222,\"#7201a8\"],[0.3333333333333333,\"#9c179e\"],[0.4444444444444444,\"#bd3786\"],[0.5555555555555556,\"#d8576b\"],[0.6666666666666666,\"#ed7953\"],[0.7777777777777778,\"#fb9f3a\"],[0.8888888888888888,\"#fdca26\"],[1.0,\"#f0f921\"]],\"type\":\"heatmapgl\"}],\"histogram\":[{\"marker\":{\"pattern\":{\"fillmode\":\"overlay\",\"size\":10,\"solidity\":0.2}},\"type\":\"histogram\"}],\"histogram2d\":[{\"colorbar\":{\"outlinewidth\":0,\"ticks\":\"\"},\"colorscale\":[[0.0,\"#0d0887\"],[0.1111111111111111,\"#46039f\"],[0.2222222222222222,\"#7201a8\"],[0.3333333333333333,\"#9c179e\"],[0.4444444444444444,\"#bd3786\"],[0.5555555555555556,\"#d8576b\"],[0.6666666666666666,\"#ed7953\"],[0.7777777777777778,\"#fb9f3a\"],[0.8888888888888888,\"#fdca26\"],[1.0,\"#f0f921\"]],\"type\":\"histogram2d\"}],\"histogram2dcontour\":[{\"colorbar\":{\"outlinewidth\":0,\"ticks\":\"\"},\"colorscale\":[[0.0,\"#0d0887\"],[0.1111111111111111,\"#46039f\"],[0.2222222222222222,\"#7201a8\"],[0.3333333333333333,\"#9c179e\"],[0.4444444444444444,\"#bd3786\"],[0.5555555555555556,\"#d8576b\"],[0.6666666666666666,\"#ed7953\"],[0.7777777777777778,\"#fb9f3a\"],[0.8888888888888888,\"#fdca26\"],[1.0,\"#f0f921\"]],\"type\":\"histogram2dcontour\"}],\"mesh3d\":[{\"colorbar\":{\"outlinewidth\":0,\"ticks\":\"\"},\"type\":\"mesh3d\"}],\"parcoords\":[{\"line\":{\"colorbar\":{\"outlinewidth\":0,\"ticks\":\"\"}},\"type\":\"parcoords\"}],\"pie\":[{\"automargin\":true,\"type\":\"pie\"}],\"scatter\":[{\"marker\":{\"colorbar\":{\"outlinewidth\":0,\"ticks\":\"\"}},\"type\":\"scatter\"}],\"scatter3d\":[{\"line\":{\"colorbar\":{\"outlinewidth\":0,\"ticks\":\"\"}},\"marker\":{\"colorbar\":{\"outlinewidth\":0,\"ticks\":\"\"}},\"type\":\"scatter3d\"}],\"scattercarpet\":[{\"marker\":{\"colorbar\":{\"outlinewidth\":0,\"ticks\":\"\"}},\"type\":\"scattercarpet\"}],\"scattergeo\":[{\"marker\":{\"colorbar\":{\"outlinewidth\":0,\"ticks\":\"\"}},\"type\":\"scattergeo\"}],\"scattergl\":[{\"marker\":{\"colorbar\":{\"outlinewidth\":0,\"ticks\":\"\"}},\"type\":\"scattergl\"}],\"scattermapbox\":[{\"marker\":{\"colorbar\":{\"outlinewidth\":0,\"ticks\":\"\"}},\"type\":\"scattermapbox\"}],\"scatterpolar\":[{\"marker\":{\"colorbar\":{\"outlinewidth\":0,\"ticks\":\"\"}},\"type\":\"scatterpolar\"}],\"scatterpolargl\":[{\"marker\":{\"colorbar\":{\"outlinewidth\":0,\"ticks\":\"\"}},\"type\":\"scatterpolargl\"}],\"scatterternary\":[{\"marker\":{\"colorbar\":{\"outlinewidth\":0,\"ticks\":\"\"}},\"type\":\"scatterternary\"}],\"surface\":[{\"colorbar\":{\"outlinewidth\":0,\"ticks\":\"\"},\"colorscale\":[[0.0,\"#0d0887\"],[0.1111111111111111,\"#46039f\"],[0.2222222222222222,\"#7201a8\"],[0.3333333333333333,\"#9c179e\"],[0.4444444444444444,\"#bd3786\"],[0.5555555555555556,\"#d8576b\"],[0.6666666666666666,\"#ed7953\"],[0.7777777777777778,\"#fb9f3a\"],[0.8888888888888888,\"#fdca26\"],[1.0,\"#f0f921\"]],\"type\":\"surface\"}],\"table\":[{\"cells\":{\"fill\":{\"color\":\"#EBF0F8\"},\"line\":{\"color\":\"white\"}},\"header\":{\"fill\":{\"color\":\"#C8D4E3\"},\"line\":{\"color\":\"white\"}},\"type\":\"table\"}]},\"layout\":{\"annotationdefaults\":{\"arrowcolor\":\"#2a3f5f\",\"arrowhead\":0,\"arrowwidth\":1},\"autotypenumbers\":\"strict\",\"coloraxis\":{\"colorbar\":{\"outlinewidth\":0,\"ticks\":\"\"}},\"colorscale\":{\"diverging\":[[0,\"#8e0152\"],[0.1,\"#c51b7d\"],[0.2,\"#de77ae\"],[0.3,\"#f1b6da\"],[0.4,\"#fde0ef\"],[0.5,\"#f7f7f7\"],[0.6,\"#e6f5d0\"],[0.7,\"#b8e186\"],[0.8,\"#7fbc41\"],[0.9,\"#4d9221\"],[1,\"#276419\"]],\"sequential\":[[0.0,\"#0d0887\"],[0.1111111111111111,\"#46039f\"],[0.2222222222222222,\"#7201a8\"],[0.3333333333333333,\"#9c179e\"],[0.4444444444444444,\"#bd3786\"],[0.5555555555555556,\"#d8576b\"],[0.6666666666666666,\"#ed7953\"],[0.7777777777777778,\"#fb9f3a\"],[0.8888888888888888,\"#fdca26\"],[1.0,\"#f0f921\"]],\"sequentialminus\":[[0.0,\"#0d0887\"],[0.1111111111111111,\"#46039f\"],[0.2222222222222222,\"#7201a8\"],[0.3333333333333333,\"#9c179e\"],[0.4444444444444444,\"#bd3786\"],[0.5555555555555556,\"#d8576b\"],[0.6666666666666666,\"#ed7953\"],[0.7777777777777778,\"#fb9f3a\"],[0.8888888888888888,\"#fdca26\"],[1.0,\"#f0f921\"]]},\"colorway\":[\"#636efa\",\"#EF553B\",\"#00cc96\",\"#ab63fa\",\"#FFA15A\",\"#19d3f3\",\"#FF6692\",\"#B6E880\",\"#FF97FF\",\"#FECB52\"],\"font\":{\"color\":\"#2a3f5f\"},\"geo\":{\"bgcolor\":\"white\",\"lakecolor\":\"white\",\"landcolor\":\"#E5ECF6\",\"showlakes\":true,\"showland\":true,\"subunitcolor\":\"white\"},\"hoverlabel\":{\"align\":\"left\"},\"hovermode\":\"closest\",\"mapbox\":{\"style\":\"light\"},\"paper_bgcolor\":\"white\",\"plot_bgcolor\":\"#E5ECF6\",\"polar\":{\"angularaxis\":{\"gridcolor\":\"white\",\"linecolor\":\"white\",\"ticks\":\"\"},\"bgcolor\":\"#E5ECF6\",\"radialaxis\":{\"gridcolor\":\"white\",\"linecolor\":\"white\",\"ticks\":\"\"}},\"scene\":{\"xaxis\":{\"backgroundcolor\":\"#E5ECF6\",\"gridcolor\":\"white\",\"gridwidth\":2,\"linecolor\":\"white\",\"showbackground\":true,\"ticks\":\"\",\"zerolinecolor\":\"white\"},\"yaxis\":{\"backgroundcolor\":\"#E5ECF6\",\"gridcolor\":\"white\",\"gridwidth\":2,\"linecolor\":\"white\",\"showbackground\":true,\"ticks\":\"\",\"zerolinecolor\":\"white\"},\"zaxis\":{\"backgroundcolor\":\"#E5ECF6\",\"gridcolor\":\"white\",\"gridwidth\":2,\"linecolor\":\"white\",\"showbackground\":true,\"ticks\":\"\",\"zerolinecolor\":\"white\"}},\"shapedefaults\":{\"line\":{\"color\":\"#2a3f5f\"}},\"ternary\":{\"aaxis\":{\"gridcolor\":\"white\",\"linecolor\":\"white\",\"ticks\":\"\"},\"baxis\":{\"gridcolor\":\"white\",\"linecolor\":\"white\",\"ticks\":\"\"},\"bgcolor\":\"#E5ECF6\",\"caxis\":{\"gridcolor\":\"white\",\"linecolor\":\"white\",\"ticks\":\"\"}},\"title\":{\"x\":0.05},\"xaxis\":{\"automargin\":true,\"gridcolor\":\"white\",\"linecolor\":\"white\",\"ticks\":\"\",\"title\":{\"standoff\":15},\"zerolinecolor\":\"white\",\"zerolinewidth\":2},\"yaxis\":{\"automargin\":true,\"gridcolor\":\"white\",\"linecolor\":\"white\",\"ticks\":\"\",\"title\":{\"standoff\":15},\"zerolinecolor\":\"white\",\"zerolinewidth\":2}}},\"xaxis\":{\"anchor\":\"y\",\"domain\":[0.0,1.0],\"title\":{\"text\":\"Total Number of Occurrences\"}},\"yaxis\":{\"anchor\":\"x\",\"domain\":[0.0,1.0],\"title\":{\"text\":\"category\"}},\"legend\":{\"tracegroupgap\":0},\"title\":{\"text\":\"category Distribution\"},\"barmode\":\"relative\",\"height\":1000,\"width\":1000},                        {\"responsive\": true}                    ).then(function(){\n",
       "                            \n",
       "var gd = document.getElementById('1122044a-ed01-4d71-8187-fa248101dd7a');\n",
       "var x = new MutationObserver(function (mutations, observer) {{\n",
       "        var display = window.getComputedStyle(gd).display;\n",
       "        if (!display || display === 'none') {{\n",
       "            console.log([gd, 'removed!']);\n",
       "            Plotly.purge(gd);\n",
       "            observer.disconnect();\n",
       "        }}\n",
       "}});\n",
       "\n",
       "// Listen for the removal of the full notebook cells\n",
       "var notebookContainer = gd.closest('#notebook-container');\n",
       "if (notebookContainer) {{\n",
       "    x.observe(notebookContainer, {childList: true});\n",
       "}}\n",
       "\n",
       "// Listen for the clearing of the current output cell\n",
       "var outputEl = gd.closest('.output');\n",
       "if (outputEl) {{\n",
       "    x.observe(outputEl, {childList: true});\n",
       "}}\n",
       "\n",
       "                        })                };                            </script>        </div>\n",
       "</body>\n",
       "</html>"
      ]
     },
     "metadata": {},
     "output_type": "display_data"
    },
    {
     "name": "stdout",
     "output_type": "stream",
     "text": [
      "Top 10:\n",
      "health_fitness     85879\n",
      "personal_care      90758\n",
      "food_dining        91461\n",
      "entertainment      94014\n",
      "shopping_net       97543\n",
      "kids_pets         113035\n",
      "shopping_pos      116672\n",
      "home              123115\n",
      "grocery_pos       123638\n",
      "gas_transport     131659\n",
      "Name: category, dtype: int64\n",
      "********************\n",
      "Bottom 10:\n",
      "travel             40507\n",
      "grocery_net        45452\n",
      "misc_net           63287\n",
      "misc_pos           79655\n",
      "health_fitness     85879\n",
      "personal_care      90758\n",
      "food_dining        91461\n",
      "entertainment      94014\n",
      "shopping_net       97543\n",
      "kids_pets         113035\n",
      "Name: category, dtype: int64\n",
      "****************************************************************************************************\n"
     ]
    },
    {
     "data": {
      "text/html": [
       "<html>\n",
       "<head><meta charset=\"utf-8\" /></head>\n",
       "<body>\n",
       "    <div>            <script src=\"https://cdnjs.cloudflare.com/ajax/libs/mathjax/2.7.5/MathJax.js?config=TeX-AMS-MML_SVG\"></script><script type=\"text/javascript\">if (window.MathJax) {MathJax.Hub.Config({SVG: {font: \"STIX-Web\"}});}</script>                <script type=\"text/javascript\">window.PlotlyConfig = {MathJaxConfig: 'local'};</script>\n",
       "        <script src=\"https://cdn.plot.ly/plotly-2.8.3.min.js\"></script>                <div id=\"6350ddeb-cf46-43b5-852c-fca7e6251a30\" class=\"plotly-graph-div\" style=\"height:1000px; width:1000px;\"></div>            <script type=\"text/javascript\">                                    window.PLOTLYENV=window.PLOTLYENV || {};                                    if (document.getElementById(\"6350ddeb-cf46-43b5-852c-fca7e6251a30\")) {                    Plotly.newPlot(                        \"6350ddeb-cf46-43b5-852c-fca7e6251a30\",                        [{\"alignmentgroup\":\"True\",\"hovertemplate\":\"Total Number of Occurrences=%{x}<br>first=%{y}<extra></extra>\",\"legendgroup\":\"\",\"marker\":{\"color\":\"#636efa\",\"pattern\":{\"shape\":\"\"}},\"name\":\"\",\"offsetgroup\":\"\",\"orientation\":\"h\",\"showlegend\":false,\"textposition\":\"auto\",\"x\":[7,7,8,8,9,9,9,10,11,11,11,11,12,13,19,492,492,493,498,500,502,503,503,504,504,506,513,514,516,518,518,518,518,519,520,520,520,521,521,524,525,525,525,526,528,529,529,529,530,533,534,536,538,542,545,990,994,1002,1004,1007,1011,1012,1013,1022,1025,1026,1026,1027,1027,1027,1027,1028,1029,1029,1030,1031,1033,1034,1038,1039,1039,1039,1039,1039,1040,1043,1044,1046,1047,1056,1060,1061,1068,1466,1471,1497,1516,1519,1519,1522,1525,1525,1527,1528,1529,1529,1529,1530,1531,1532,1532,1535,1535,1537,1540,1543,1544,1547,1548,1549,1551,1551,1554,1556,1558,1561,1561,1562,1564,1565,1569,1571,1574,1574,1579,1580,1581,1979,2000,2001,2003,2009,2010,2017,2018,2021,2025,2026,2033,2033,2035,2036,2037,2037,2037,2046,2049,2050,2051,2052,2056,2057,2057,2059,2061,2062,2063,2064,2065,2071,2075,2080,2082,2090,2091,2092,2092,2097,2098,2525,2530,2533,2539,2542,2543,2547,2549,2552,2553,2553,2562,2569,2572,2572,2573,2574,2575,2582,2582,2588,2594,2596,2600,2603,2605,3027,3027,3029,3040,3045,3048,3052,3058,3059,3064,3068,3068,3069,3077,3081,3087,3090,3095,3098,3099,3101,3102,3106,3113,3147,3459,3540,3547,3569,3570,3574,3575,3578,3580,3587,3590,3607,3615,3620,3640,4049,4058,4070,4089,4096,4098,4099,4103,4104,4107,4126,4128,4146,4150,4154,4561,4571,4582,4583,4588,4624,4627,4627,4632,4637,4649,4704,5042,5054,5077,5082,5107,5128,5166,5204,5585,5586,5615,5628,5630,5632,5643,5644,6094,6106,6123,6139,6149,6159,6187,6199,6445,6573,6628,6630,6647,6656,6695,7035,7062,7134,7145,7152,7700,7725,7733,7738,8210,8291,8540,8713,8772,9105,9260,9261,9280,9298,9314,9725,9799,9844,10161,10254,10281,10678,11695,11788,11815,12179,12601,12831,13296,13310,13767,13867,14792,15312,16325,16346,16371,16940,19965,20009,20039,20581,21667,26669],\"xaxis\":\"x\",\"y\":[\"Samantha\",\"Angelica\",\"Phyllis\",\"Molly\",\"Arthur\",\"Cameron\",\"Calvin\",\"Deanna\",\"Dennis\",\"Ashlee\",\"Colleen\",\"Traci\",\"Austin\",\"Meagan\",\"Chelsea\",\"Sean\",\"Sheri\",\"Hailey\",\"Connor\",\"Peggy\",\"Kylie\",\"Holly\",\"Ricky\",\"Gabriella\",\"Tommy\",\"Michele\",\"Bridget\",\"Belinda\",\"Sonya\",\"Paul\",\"Veronica\",\"Tammie\",\"Leah\",\"Donald\",\"Kara\",\"Briana\",\"Guy\",\"Natalie\",\"Collin\",\"Cory\",\"Haley\",\"Nancy\",\"Alex\",\"Frederick\",\"Tabitha\",\"Walter\",\"Tiffany\",\"Ariana\",\"Mckenzie\",\"Wesley\",\"Bobby\",\"Mike\",\"Warren\",\"Sydney\",\"Angie\",\"Joel\",\"Melvin\",\"Kristin\",\"Dwayne\",\"Vanessa\",\"Deborah\",\"Philip\",\"Gerald\",\"Spencer\",\"Gloria\",\"Rita\",\"Corey\",\"Harry\",\"Sandra\",\"Bethany\",\"Adriana\",\"Dalton\",\"Melanie\",\"Katelyn\",\"Maureen\",\"Kendra\",\"Regina\",\"Jordan\",\"Willie\",\"Julian\",\"Kaitlyn\",\"Connie\",\"Sheila\",\"Brandon\",\"Douglas\",\"Cynthia\",\"Sophia\",\"Mario\",\"Johnny\",\"Alice\",\"Dakota\",\"Bradley\",\"Savannah\",\"Whitney\",\"Catherine\",\"Antonio\",\"Xavier\",\"Melinda\",\"Tamara\",\"Jim\",\"Dale\",\"Travis\",\"Brent\",\"Olivia\",\"Raymond\",\"Sally\",\"Tracy\",\"Terri\",\"Bryce\",\"Jeffery\",\"Ruth\",\"Cesar\",\"Marcia\",\"Leslie\",\"Alyssa\",\"Helen\",\"Hannah\",\"Drew\",\"Lance\",\"Judith\",\"Shawn\",\"Carl\",\"Hayden\",\"Derek\",\"Gail\",\"Jeff\",\"Diana\",\"George\",\"Jack\",\"Claire\",\"Rick\",\"Robin\",\"Derrick\",\"Kurt\",\"Jasmine\",\"Anthony\",\"Casey\",\"Kathy\",\"Denise\",\"Sherry\",\"Ian\",\"Louis\",\"Dylan\",\"Erika\",\"Zachary\",\"Eddie\",\"Roberta\",\"Beth\",\"Greg\",\"Judy\",\"Toni\",\"Bianca\",\"Randall\",\"Melody\",\"Taylor\",\"Terrance\",\"Allen\",\"Carlos\",\"Omar\",\"Candice\",\"Grace\",\"Kelly\",\"Kelsey\",\"Micheal\",\"Amy\",\"Jonathan\",\"Brandy\",\"Bill\",\"Joe\",\"April\",\"Peter\",\"Curtis\",\"Misty\",\"Tami\",\"Natasha\",\"Cristian\",\"Ellen\",\"Jesse\",\"Emily\",\"Dustin\",\"Jackie\",\"Brenda\",\"Becky\",\"Cody\",\"Ronald\",\"Debbie\",\"Francisco\",\"Christie\",\"Lawrence\",\"Paula\",\"Destiny\",\"Eric\",\"Breanna\",\"Ann\",\"Erik\",\"Vicki\",\"Carolyn\",\"Julie\",\"Julia\",\"Anna\",\"Randy\",\"Brittany\",\"Craig\",\"Diane\",\"Tanya\",\"Joanna\",\"Dorothy\",\"Billy\",\"Renee\",\"Kathryn\",\"Meredith\",\"Jill\",\"Krystal\",\"Wayne\",\"Jenna\",\"Martin\",\"Stephen\",\"Cassandra\",\"Carol\",\"Debra\",\"Lindsay\",\"Erin\",\"Jose\",\"Audrey\",\"Stanley\",\"Victoria\",\"Felicia\",\"Edward\",\"Keith\",\"Phillip\",\"Carrie\",\"Marissa\",\"Christina\",\"Brooke\",\"Christian\",\"Chris\",\"Shelby\",\"Cheryl\",\"Tanner\",\"Erica\",\"Pamela\",\"Heather\",\"Joanne\",\"Katherine\",\"Jerry\",\"Kristen\",\"Maria\",\"Tina\",\"Timothy\",\"Monique\",\"Morgan\",\"Brian\",\"Valerie\",\"Andrea\",\"Kyle\",\"Patrick\",\"Frank\",\"Bryan\",\"Brianna\",\"Kevin\",\"Kristina\",\"Aaron\",\"Alan\",\"Jodi\",\"Theresa\",\"Tara\",\"Juan\",\"Gregory\",\"Mackenzie\",\"Donna\",\"Nicholas\",\"Megan\",\"Sabrina\",\"Patricia\",\"Janet\",\"Jared\",\"Stacy\",\"Jacob\",\"Jamie\",\"Ryan\",\"Gary\",\"Richard\",\"Ana\",\"Crystal\",\"Allison\",\"Larry\",\"Elizabeth\",\"Kathleen\",\"Teresa\",\"Sara\",\"Alicia\",\"Benjamin\",\"Joshua\",\"Tammy\",\"Shannon\",\"Laura\",\"Amber\",\"Gina\",\"Sharon\",\"Karen\",\"Tyler\",\"Dawn\",\"Vincent\",\"Lori\",\"Andrew\",\"Jeremy\",\"Kayla\",\"Danielle\",\"Rachel\",\"Mark\",\"Thomas\",\"Justin\",\"Matthew\",\"Monica\",\"Jason\",\"Linda\",\"Barbara\",\"Angela\",\"Sarah\",\"Scott\",\"Charles\",\"Rebecca\",\"Jacqueline\",\"Christine\",\"Nathan\",\"Adam\",\"Susan\",\"Melissa\",\"Lauren\",\"Stephanie\",\"Kenneth\",\"Steven\",\"Kimberly\",\"Samuel\",\"Michelle\",\"Jeffrey\",\"Ashley\",\"Amanda\",\"Lisa\",\"Daniel\",\"Joseph\",\"Margaret\",\"John\",\"Mary\",\"William\",\"Jennifer\",\"David\",\"Michael\",\"James\",\"Jessica\",\"Robert\",\"Christopher\"],\"yaxis\":\"y\",\"type\":\"bar\"}],                        {\"template\":{\"data\":{\"bar\":[{\"error_x\":{\"color\":\"#2a3f5f\"},\"error_y\":{\"color\":\"#2a3f5f\"},\"marker\":{\"line\":{\"color\":\"#E5ECF6\",\"width\":0.5},\"pattern\":{\"fillmode\":\"overlay\",\"size\":10,\"solidity\":0.2}},\"type\":\"bar\"}],\"barpolar\":[{\"marker\":{\"line\":{\"color\":\"#E5ECF6\",\"width\":0.5},\"pattern\":{\"fillmode\":\"overlay\",\"size\":10,\"solidity\":0.2}},\"type\":\"barpolar\"}],\"carpet\":[{\"aaxis\":{\"endlinecolor\":\"#2a3f5f\",\"gridcolor\":\"white\",\"linecolor\":\"white\",\"minorgridcolor\":\"white\",\"startlinecolor\":\"#2a3f5f\"},\"baxis\":{\"endlinecolor\":\"#2a3f5f\",\"gridcolor\":\"white\",\"linecolor\":\"white\",\"minorgridcolor\":\"white\",\"startlinecolor\":\"#2a3f5f\"},\"type\":\"carpet\"}],\"choropleth\":[{\"colorbar\":{\"outlinewidth\":0,\"ticks\":\"\"},\"type\":\"choropleth\"}],\"contour\":[{\"colorbar\":{\"outlinewidth\":0,\"ticks\":\"\"},\"colorscale\":[[0.0,\"#0d0887\"],[0.1111111111111111,\"#46039f\"],[0.2222222222222222,\"#7201a8\"],[0.3333333333333333,\"#9c179e\"],[0.4444444444444444,\"#bd3786\"],[0.5555555555555556,\"#d8576b\"],[0.6666666666666666,\"#ed7953\"],[0.7777777777777778,\"#fb9f3a\"],[0.8888888888888888,\"#fdca26\"],[1.0,\"#f0f921\"]],\"type\":\"contour\"}],\"contourcarpet\":[{\"colorbar\":{\"outlinewidth\":0,\"ticks\":\"\"},\"type\":\"contourcarpet\"}],\"heatmap\":[{\"colorbar\":{\"outlinewidth\":0,\"ticks\":\"\"},\"colorscale\":[[0.0,\"#0d0887\"],[0.1111111111111111,\"#46039f\"],[0.2222222222222222,\"#7201a8\"],[0.3333333333333333,\"#9c179e\"],[0.4444444444444444,\"#bd3786\"],[0.5555555555555556,\"#d8576b\"],[0.6666666666666666,\"#ed7953\"],[0.7777777777777778,\"#fb9f3a\"],[0.8888888888888888,\"#fdca26\"],[1.0,\"#f0f921\"]],\"type\":\"heatmap\"}],\"heatmapgl\":[{\"colorbar\":{\"outlinewidth\":0,\"ticks\":\"\"},\"colorscale\":[[0.0,\"#0d0887\"],[0.1111111111111111,\"#46039f\"],[0.2222222222222222,\"#7201a8\"],[0.3333333333333333,\"#9c179e\"],[0.4444444444444444,\"#bd3786\"],[0.5555555555555556,\"#d8576b\"],[0.6666666666666666,\"#ed7953\"],[0.7777777777777778,\"#fb9f3a\"],[0.8888888888888888,\"#fdca26\"],[1.0,\"#f0f921\"]],\"type\":\"heatmapgl\"}],\"histogram\":[{\"marker\":{\"pattern\":{\"fillmode\":\"overlay\",\"size\":10,\"solidity\":0.2}},\"type\":\"histogram\"}],\"histogram2d\":[{\"colorbar\":{\"outlinewidth\":0,\"ticks\":\"\"},\"colorscale\":[[0.0,\"#0d0887\"],[0.1111111111111111,\"#46039f\"],[0.2222222222222222,\"#7201a8\"],[0.3333333333333333,\"#9c179e\"],[0.4444444444444444,\"#bd3786\"],[0.5555555555555556,\"#d8576b\"],[0.6666666666666666,\"#ed7953\"],[0.7777777777777778,\"#fb9f3a\"],[0.8888888888888888,\"#fdca26\"],[1.0,\"#f0f921\"]],\"type\":\"histogram2d\"}],\"histogram2dcontour\":[{\"colorbar\":{\"outlinewidth\":0,\"ticks\":\"\"},\"colorscale\":[[0.0,\"#0d0887\"],[0.1111111111111111,\"#46039f\"],[0.2222222222222222,\"#7201a8\"],[0.3333333333333333,\"#9c179e\"],[0.4444444444444444,\"#bd3786\"],[0.5555555555555556,\"#d8576b\"],[0.6666666666666666,\"#ed7953\"],[0.7777777777777778,\"#fb9f3a\"],[0.8888888888888888,\"#fdca26\"],[1.0,\"#f0f921\"]],\"type\":\"histogram2dcontour\"}],\"mesh3d\":[{\"colorbar\":{\"outlinewidth\":0,\"ticks\":\"\"},\"type\":\"mesh3d\"}],\"parcoords\":[{\"line\":{\"colorbar\":{\"outlinewidth\":0,\"ticks\":\"\"}},\"type\":\"parcoords\"}],\"pie\":[{\"automargin\":true,\"type\":\"pie\"}],\"scatter\":[{\"marker\":{\"colorbar\":{\"outlinewidth\":0,\"ticks\":\"\"}},\"type\":\"scatter\"}],\"scatter3d\":[{\"line\":{\"colorbar\":{\"outlinewidth\":0,\"ticks\":\"\"}},\"marker\":{\"colorbar\":{\"outlinewidth\":0,\"ticks\":\"\"}},\"type\":\"scatter3d\"}],\"scattercarpet\":[{\"marker\":{\"colorbar\":{\"outlinewidth\":0,\"ticks\":\"\"}},\"type\":\"scattercarpet\"}],\"scattergeo\":[{\"marker\":{\"colorbar\":{\"outlinewidth\":0,\"ticks\":\"\"}},\"type\":\"scattergeo\"}],\"scattergl\":[{\"marker\":{\"colorbar\":{\"outlinewidth\":0,\"ticks\":\"\"}},\"type\":\"scattergl\"}],\"scattermapbox\":[{\"marker\":{\"colorbar\":{\"outlinewidth\":0,\"ticks\":\"\"}},\"type\":\"scattermapbox\"}],\"scatterpolar\":[{\"marker\":{\"colorbar\":{\"outlinewidth\":0,\"ticks\":\"\"}},\"type\":\"scatterpolar\"}],\"scatterpolargl\":[{\"marker\":{\"colorbar\":{\"outlinewidth\":0,\"ticks\":\"\"}},\"type\":\"scatterpolargl\"}],\"scatterternary\":[{\"marker\":{\"colorbar\":{\"outlinewidth\":0,\"ticks\":\"\"}},\"type\":\"scatterternary\"}],\"surface\":[{\"colorbar\":{\"outlinewidth\":0,\"ticks\":\"\"},\"colorscale\":[[0.0,\"#0d0887\"],[0.1111111111111111,\"#46039f\"],[0.2222222222222222,\"#7201a8\"],[0.3333333333333333,\"#9c179e\"],[0.4444444444444444,\"#bd3786\"],[0.5555555555555556,\"#d8576b\"],[0.6666666666666666,\"#ed7953\"],[0.7777777777777778,\"#fb9f3a\"],[0.8888888888888888,\"#fdca26\"],[1.0,\"#f0f921\"]],\"type\":\"surface\"}],\"table\":[{\"cells\":{\"fill\":{\"color\":\"#EBF0F8\"},\"line\":{\"color\":\"white\"}},\"header\":{\"fill\":{\"color\":\"#C8D4E3\"},\"line\":{\"color\":\"white\"}},\"type\":\"table\"}]},\"layout\":{\"annotationdefaults\":{\"arrowcolor\":\"#2a3f5f\",\"arrowhead\":0,\"arrowwidth\":1},\"autotypenumbers\":\"strict\",\"coloraxis\":{\"colorbar\":{\"outlinewidth\":0,\"ticks\":\"\"}},\"colorscale\":{\"diverging\":[[0,\"#8e0152\"],[0.1,\"#c51b7d\"],[0.2,\"#de77ae\"],[0.3,\"#f1b6da\"],[0.4,\"#fde0ef\"],[0.5,\"#f7f7f7\"],[0.6,\"#e6f5d0\"],[0.7,\"#b8e186\"],[0.8,\"#7fbc41\"],[0.9,\"#4d9221\"],[1,\"#276419\"]],\"sequential\":[[0.0,\"#0d0887\"],[0.1111111111111111,\"#46039f\"],[0.2222222222222222,\"#7201a8\"],[0.3333333333333333,\"#9c179e\"],[0.4444444444444444,\"#bd3786\"],[0.5555555555555556,\"#d8576b\"],[0.6666666666666666,\"#ed7953\"],[0.7777777777777778,\"#fb9f3a\"],[0.8888888888888888,\"#fdca26\"],[1.0,\"#f0f921\"]],\"sequentialminus\":[[0.0,\"#0d0887\"],[0.1111111111111111,\"#46039f\"],[0.2222222222222222,\"#7201a8\"],[0.3333333333333333,\"#9c179e\"],[0.4444444444444444,\"#bd3786\"],[0.5555555555555556,\"#d8576b\"],[0.6666666666666666,\"#ed7953\"],[0.7777777777777778,\"#fb9f3a\"],[0.8888888888888888,\"#fdca26\"],[1.0,\"#f0f921\"]]},\"colorway\":[\"#636efa\",\"#EF553B\",\"#00cc96\",\"#ab63fa\",\"#FFA15A\",\"#19d3f3\",\"#FF6692\",\"#B6E880\",\"#FF97FF\",\"#FECB52\"],\"font\":{\"color\":\"#2a3f5f\"},\"geo\":{\"bgcolor\":\"white\",\"lakecolor\":\"white\",\"landcolor\":\"#E5ECF6\",\"showlakes\":true,\"showland\":true,\"subunitcolor\":\"white\"},\"hoverlabel\":{\"align\":\"left\"},\"hovermode\":\"closest\",\"mapbox\":{\"style\":\"light\"},\"paper_bgcolor\":\"white\",\"plot_bgcolor\":\"#E5ECF6\",\"polar\":{\"angularaxis\":{\"gridcolor\":\"white\",\"linecolor\":\"white\",\"ticks\":\"\"},\"bgcolor\":\"#E5ECF6\",\"radialaxis\":{\"gridcolor\":\"white\",\"linecolor\":\"white\",\"ticks\":\"\"}},\"scene\":{\"xaxis\":{\"backgroundcolor\":\"#E5ECF6\",\"gridcolor\":\"white\",\"gridwidth\":2,\"linecolor\":\"white\",\"showbackground\":true,\"ticks\":\"\",\"zerolinecolor\":\"white\"},\"yaxis\":{\"backgroundcolor\":\"#E5ECF6\",\"gridcolor\":\"white\",\"gridwidth\":2,\"linecolor\":\"white\",\"showbackground\":true,\"ticks\":\"\",\"zerolinecolor\":\"white\"},\"zaxis\":{\"backgroundcolor\":\"#E5ECF6\",\"gridcolor\":\"white\",\"gridwidth\":2,\"linecolor\":\"white\",\"showbackground\":true,\"ticks\":\"\",\"zerolinecolor\":\"white\"}},\"shapedefaults\":{\"line\":{\"color\":\"#2a3f5f\"}},\"ternary\":{\"aaxis\":{\"gridcolor\":\"white\",\"linecolor\":\"white\",\"ticks\":\"\"},\"baxis\":{\"gridcolor\":\"white\",\"linecolor\":\"white\",\"ticks\":\"\"},\"bgcolor\":\"#E5ECF6\",\"caxis\":{\"gridcolor\":\"white\",\"linecolor\":\"white\",\"ticks\":\"\"}},\"title\":{\"x\":0.05},\"xaxis\":{\"automargin\":true,\"gridcolor\":\"white\",\"linecolor\":\"white\",\"ticks\":\"\",\"title\":{\"standoff\":15},\"zerolinecolor\":\"white\",\"zerolinewidth\":2},\"yaxis\":{\"automargin\":true,\"gridcolor\":\"white\",\"linecolor\":\"white\",\"ticks\":\"\",\"title\":{\"standoff\":15},\"zerolinecolor\":\"white\",\"zerolinewidth\":2}}},\"xaxis\":{\"anchor\":\"y\",\"domain\":[0.0,1.0],\"title\":{\"text\":\"Total Number of Occurrences\"}},\"yaxis\":{\"anchor\":\"x\",\"domain\":[0.0,1.0],\"title\":{\"text\":\"first\"}},\"legend\":{\"tracegroupgap\":0},\"title\":{\"text\":\"first Distribution\"},\"barmode\":\"relative\",\"height\":1000,\"width\":1000},                        {\"responsive\": true}                    ).then(function(){\n",
       "                            \n",
       "var gd = document.getElementById('6350ddeb-cf46-43b5-852c-fca7e6251a30');\n",
       "var x = new MutationObserver(function (mutations, observer) {{\n",
       "        var display = window.getComputedStyle(gd).display;\n",
       "        if (!display || display === 'none') {{\n",
       "            console.log([gd, 'removed!']);\n",
       "            Plotly.purge(gd);\n",
       "            observer.disconnect();\n",
       "        }}\n",
       "}});\n",
       "\n",
       "// Listen for the removal of the full notebook cells\n",
       "var notebookContainer = gd.closest('#notebook-container');\n",
       "if (notebookContainer) {{\n",
       "    x.observe(notebookContainer, {childList: true});\n",
       "}}\n",
       "\n",
       "// Listen for the clearing of the current output cell\n",
       "var outputEl = gd.closest('.output');\n",
       "if (outputEl) {{\n",
       "    x.observe(outputEl, {childList: true});\n",
       "}}\n",
       "\n",
       "                        })                };                            </script>        </div>\n",
       "</body>\n",
       "</html>"
      ]
     },
     "metadata": {},
     "output_type": "display_data"
    },
    {
     "name": "stdout",
     "output_type": "stream",
     "text": [
      "Top 10:\n",
      "John           16325\n",
      "Mary           16346\n",
      "William        16371\n",
      "Jennifer       16940\n",
      "David          19965\n",
      "Michael        20009\n",
      "James          20039\n",
      "Jessica        20581\n",
      "Robert         21667\n",
      "Christopher    26669\n",
      "Name: first, dtype: int64\n",
      "********************\n",
      "Bottom 10:\n",
      "Samantha     7\n",
      "Angelica     7\n",
      "Phyllis      8\n",
      "Molly        8\n",
      "Arthur       9\n",
      "Cameron      9\n",
      "Calvin       9\n",
      "Deanna      10\n",
      "Dennis      11\n",
      "Ashlee      11\n",
      "Name: first, dtype: int64\n",
      "****************************************************************************************************\n"
     ]
    },
    {
     "data": {
      "text/html": [
       "<html>\n",
       "<head><meta charset=\"utf-8\" /></head>\n",
       "<body>\n",
       "    <div>            <script src=\"https://cdnjs.cloudflare.com/ajax/libs/mathjax/2.7.5/MathJax.js?config=TeX-AMS-MML_SVG\"></script><script type=\"text/javascript\">if (window.MathJax) {MathJax.Hub.Config({SVG: {font: \"STIX-Web\"}});}</script>                <script type=\"text/javascript\">window.PlotlyConfig = {MathJaxConfig: 'local'};</script>\n",
       "        <script src=\"https://cdn.plot.ly/plotly-2.8.3.min.js\"></script>                <div id=\"6d2ffe0b-a476-480d-8a0a-87aa5a3f7f06\" class=\"plotly-graph-div\" style=\"height:1000px; width:1000px;\"></div>            <script type=\"text/javascript\">                                    window.PLOTLYENV=window.PLOTLYENV || {};                                    if (document.getElementById(\"6d2ffe0b-a476-480d-8a0a-87aa5a3f7f06\")) {                    Plotly.newPlot(                        \"6d2ffe0b-a476-480d-8a0a-87aa5a3f7f06\",                        [{\"alignmentgroup\":\"True\",\"hovertemplate\":\"Total Number of Occurrences=%{x}<br>last=%{y}<extra></extra>\",\"legendgroup\":\"\",\"marker\":{\"color\":\"#636efa\",\"pattern\":{\"shape\":\"\"}},\"name\":\"\",\"offsetgroup\":\"\",\"orientation\":\"h\",\"showlegend\":false,\"textposition\":\"auto\",\"x\":[7,7,8,9,9,9,10,10,10,10,11,11,13,15,18,19,485,485,491,493,495,496,498,500,501,501,502,502,503,503,504,505,506,507,507,509,509,510,510,511,512,513,513,514,514,515,516,516,516,516,517,518,518,518,518,518,518,518,519,519,519,519,520,520,520,521,521,521,523,525,525,525,527,528,528,529,529,529,529,529,530,533,535,535,537,538,542,545,552,554,985,997,998,998,999,1006,1009,1010,1012,1012,1013,1014,1015,1015,1016,1017,1019,1019,1019,1020,1020,1021,1021,1023,1024,1025,1025,1026,1026,1026,1027,1027,1027,1027,1029,1029,1030,1030,1031,1032,1033,1033,1034,1034,1035,1035,1038,1038,1039,1039,1039,1039,1040,1041,1043,1045,1047,1047,1047,1049,1051,1052,1052,1054,1055,1065,1068,1494,1496,1497,1509,1514,1516,1517,1517,1518,1518,1519,1519,1520,1521,1522,1523,1523,1524,1525,1525,1525,1525,1525,1526,1527,1528,1528,1529,1529,1530,1530,1531,1531,1534,1534,1535,1535,1536,1536,1537,1537,1538,1539,1540,1541,1541,1542,1542,1543,1543,1544,1544,1547,1548,1549,1550,1552,1553,1553,1553,1553,1556,1556,1557,1557,1558,1558,1560,1564,1565,1569,1587,1959,1997,2000,2002,2002,2003,2003,2013,2015,2015,2023,2024,2026,2028,2028,2029,2030,2031,2032,2032,2032,2034,2035,2035,2036,2036,2037,2037,2038,2039,2041,2042,2043,2043,2045,2045,2045,2048,2048,2049,2049,2050,2050,2051,2051,2052,2053,2054,2057,2059,2063,2066,2069,2070,2070,2073,2074,2080,2080,2082,2083,2087,2090,2091,2094,2097,2101,2107,2466,2503,2528,2532,2537,2540,2548,2550,2550,2551,2552,2552,2553,2555,2558,2559,2560,2561,2563,2565,2566,2570,2572,2572,2573,2573,2574,2574,2578,2578,2578,2582,2582,2585,2586,2587,2587,2588,2595,2595,3006,3024,3027,3032,3035,3037,3038,3040,3054,3055,3056,3064,3067,3069,3071,3076,3080,3082,3086,3086,3098,3099,3099,3099,3100,3110,3113,3123,3147,3490,3506,3541,3558,3564,3566,3569,3570,3574,3574,3575,3581,3585,3593,3595,3596,3599,3606,3608,3608,3609,3612,3614,3622,3627,3635,3637,3641,3644,3665,3924,3956,4039,4046,4051,4057,4071,4082,4084,4087,4089,4090,4120,4137,4203,4521,4551,4565,4566,4570,4571,4579,4585,4656,4677,4698,4699,5095,5095,5116,5127,5129,5158,5169,5587,5630,5672,5990,6031,6121,6148,6159,6164,6187,6230,6539,6637,6681,6689,6738,6749,7075,7130,7147,7183,7190,7551,7746,8177,8185,8195,8210,8216,8218,8248,8715,8724,8763,9186,9254,9287,9729,10784,11252,11308,11698,11799,12753,13976,14805,17394,20034,21910,23605,28794],\"xaxis\":\"x\",\"y\":[\"Blake\",\"Schaefer\",\"Strong\",\"Contreras\",\"Peterson\",\"Wells\",\"Santiago\",\"Brewer\",\"Sellers\",\"Mathews\",\"Snow\",\"Morris\",\"Golden\",\"Le\",\"Norris\",\"Silva\",\"Alvarez\",\"Bush\",\"Schmidt\",\"Rhodes\",\"Boone\",\"Shaffer\",\"Grant\",\"Berry\",\"Alexander\",\"Daugherty\",\"Zuniga\",\"Farmer\",\"Mann\",\"Mathis\",\"Anthony\",\"Daniel\",\"Patrick\",\"Hooper\",\"Beck\",\"Webster\",\"Frank\",\"Mclean\",\"Garrett\",\"Dean\",\"Schwartz\",\"Becker\",\"Bowen\",\"Fernandez\",\"Webb\",\"Davies\",\"Jensen\",\"Mueller\",\"Odom\",\"Stanton\",\"Abbott\",\"Raymond\",\"Willis\",\"Rosales\",\"Phillips\",\"Adkins\",\"Burton\",\"Harper\",\"Fox\",\"Heath\",\"Ellis\",\"Small\",\"Frost\",\"Miles\",\"Pittman\",\"Keller\",\"Knight\",\"Watson\",\"Fitzpatrick\",\"Velasquez\",\"George\",\"Roach\",\"Montoya\",\"Reyes\",\"Mcbride\",\"Hensley\",\"Floyd\",\"Blair\",\"Osborne\",\"Combs\",\"Bridges\",\"Flynn\",\"Franco\",\"Copeland\",\"Dickerson\",\"Wilkinson\",\"Parker\",\"Pennington\",\"Conner\",\"Short\",\"Hopkins\",\"Leach\",\"Humphrey\",\"Waters\",\"Duarte\",\"Hendrix\",\"Chase\",\"Walls\",\"Love\",\"Mayer\",\"Hayden\",\"Camacho\",\"Cook\",\"Hunter\",\"Glover\",\"Garner\",\"Orozco\",\"Hart\",\"Page\",\"Dixon\",\"Huerta\",\"Rose\",\"Chandler\",\"Hawkins\",\"Mason\",\"Rowe\",\"Leblanc\",\"Bryant\",\"Tyler\",\"Walsh\",\"Harvey\",\"Prince\",\"Novak\",\"Wheeler\",\"Wise\",\"Crane\",\"Byrd\",\"Garza\",\"Ballard\",\"Simpson\",\"Holland\",\"Choi\",\"Benitez\",\"May\",\"Blanchard\",\"Middleton\",\"Warner\",\"Bentley\",\"Hickman\",\"Farley\",\"Baker\",\"Newman\",\"Goodman\",\"Delacruz\",\"Summers\",\"Parsons\",\"Price\",\"Bennett\",\"Guerra\",\"Leon\",\"Hines\",\"Terry\",\"Holt\",\"Sheppard\",\"Ross\",\"Long\",\"Wade\",\"Strickland\",\"Faulkner\",\"Koch\",\"Whitehead\",\"Collins\",\"Beltran\",\"Shah\",\"Carson\",\"Diaz\",\"Moody\",\"Gutierrez\",\"Burgess\",\"Dominguez\",\"Woods\",\"Clarke\",\"Dawson\",\"Sandoval\",\"Doyle\",\"Ryan\",\"Hayes\",\"Carter\",\"Maldonado\",\"Blankenship\",\"Padilla\",\"Ortega\",\"Werner\",\"Stephenson\",\"Lloyd\",\"Conway\",\"Bailey\",\"Luna\",\"Powers\",\"Vega\",\"Nichols\",\"Gilbert\",\"Gordon\",\"Lynch\",\"Tran\",\"Terrell\",\"Norman\",\"Cole\",\"Matthews\",\"Burns\",\"Munoz\",\"Rodgers\",\"Warren\",\"Pugh\",\"Roman\",\"Owens\",\"Jimenez\",\"Hale\",\"Conley\",\"Villegas\",\"Andrade\",\"Moss\",\"Lee\",\"Greene\",\"Cabrera\",\"Aguilar\",\"Perkins\",\"Nunez\",\"Kirk\",\"Meza\",\"Shaw\",\"Serrano\",\"Weaver\",\"Mcintyre\",\"Ray\",\"Hill\",\"Adams\",\"Kelly\",\"Drake\",\"Gross\",\"Pena\",\"Barnett\",\"Colon\",\"Nolan\",\"Patton\",\"Mcclure\",\"Ashley\",\"Nixon\",\"Horn\",\"Roy\",\"Blackwell\",\"Cross\",\"Williamson\",\"Banks\",\"Robles\",\"Parrish\",\"Nelson\",\"Best\",\"Barnes\",\"Nash\",\"James\",\"Arnold\",\"Molina\",\"Mccarthy\",\"Sutton\",\"Khan\",\"Nguyen\",\"Maxwell\",\"Flowers\",\"Hurst\",\"Bonilla\",\"Jackson\",\"Francis\",\"Pruitt\",\"Roberson\",\"Simmons\",\"Cain\",\"Curry\",\"Wolfe\",\"Mayo\",\"Rogers\",\"Chung\",\"Quinn\",\"Boyd\",\"Morales\",\"Cummings\",\"Cox\",\"Lawrence\",\"Kim\",\"Castro\",\"Cannon\",\"Waller\",\"Everett\",\"Caldwell\",\"Hunt\",\"Tapia\",\"Patel\",\"Casey\",\"Riddle\",\"Reese\",\"Skinner\",\"Forbes\",\"Mclaughlin\",\"Dickson\",\"Fowler\",\"Bernard\",\"Morrison\",\"Singh\",\"Stein\",\"Krause\",\"Hogan\",\"Mcdonald\",\"Lam\",\"Escobar\",\"Henry\",\"Vaughan\",\"Baldwin\",\"House\",\"Vargas\",\"Estrada\",\"Key\",\"Sherman\",\"Thornton\",\"Park\",\"Frey\",\"Velazquez\",\"Mcgee\",\"Massey\",\"Carrillo\",\"Castaneda\",\"Lawson\",\"Graham\",\"Fleming\",\"Wallace\",\"Eaton\",\"Yoder\",\"Dunn\",\"Potter\",\"Juarez\",\"King\",\"Salazar\",\"Melton\",\"Foley\",\"Haynes\",\"Logan\",\"Sullivan\",\"West\",\"Lin\",\"Farrell\",\"Hardy\",\"Hodges\",\"Fitzgerald\",\"Gray\",\"Gill\",\"Moore\",\"Hanson\",\"Kirby\",\"Turner\",\"Marshall\",\"Jacobs\",\"Kemp\",\"Yu\",\"Vasquez\",\"Wall\",\"Gibson\",\"Olson\",\"Scott\",\"Carr\",\"Mills\",\"Chavez\",\"Black\",\"Elliott\",\"Ayers\",\"Carroll\",\"Santos\",\"Robertson\",\"Gallagher\",\"Weber\",\"Mccormick\",\"Mitchell\",\"Perry\",\"Russell\",\"Mckee\",\"Cooper\",\"Marsh\",\"Obrien\",\"Villarreal\",\"Stevens\",\"Zimmerman\",\"Stark\",\"Dillon\",\"Preston\",\"Joseph\",\"Ford\",\"Mcmahon\",\"Butler\",\"Peters\",\"Daniels\",\"Gay\",\"Lane\",\"Wagner\",\"Young\",\"Erickson\",\"Wilson\",\"Walker\",\"Rice\",\"Gregory\",\"Grimes\",\"Ward\",\"Vance\",\"Wright\",\"Hudson\",\"Morgan\",\"Rivera\",\"Jordan\",\"Edwards\",\"Carpenter\",\"Stewart\",\"Hall\",\"Cohen\",\"Stephens\",\"Hughes\",\"Cruz\",\"Fisher\",\"Curtis\",\"Gamble\",\"Ayala\",\"Whitney\",\"Mckinney\",\"Wood\",\"Howard\",\"Howell\",\"Payne\",\"Spencer\",\"Briggs\",\"Powell\",\"Johns\",\"Brooks\",\"Evans\",\"Lopez\",\"Murray\",\"Torres\",\"Richards\",\"Washington\",\"Ramirez\",\"Myers\",\"Walters\",\"Thompson\",\"Murphy\",\"Roberts\",\"Moreno\",\"Jenkins\",\"Johnston\",\"Campbell\",\"Fuller\",\"Hernandez\",\"Flores\",\"Sanchez\",\"Lambert\",\"White\",\"Harris\",\"Mendez\",\"Patterson\",\"Brown\",\"Gomez\",\"Allen\",\"Foster\",\"Anderson\",\"Tucker\",\"Taylor\",\"Sanders\",\"Clark\",\"Thomas\",\"Mendoza\",\"Garcia\",\"Bishop\",\"Robinson\",\"Perez\",\"Bell\",\"Martin\",\"Lowe\",\"Miller\",\"Gonzalez\",\"Lewis\",\"Jones\",\"Martinez\",\"Rodriguez\",\"Johnson\",\"Davis\",\"Williams\",\"Smith\"],\"yaxis\":\"y\",\"type\":\"bar\"}],                        {\"template\":{\"data\":{\"bar\":[{\"error_x\":{\"color\":\"#2a3f5f\"},\"error_y\":{\"color\":\"#2a3f5f\"},\"marker\":{\"line\":{\"color\":\"#E5ECF6\",\"width\":0.5},\"pattern\":{\"fillmode\":\"overlay\",\"size\":10,\"solidity\":0.2}},\"type\":\"bar\"}],\"barpolar\":[{\"marker\":{\"line\":{\"color\":\"#E5ECF6\",\"width\":0.5},\"pattern\":{\"fillmode\":\"overlay\",\"size\":10,\"solidity\":0.2}},\"type\":\"barpolar\"}],\"carpet\":[{\"aaxis\":{\"endlinecolor\":\"#2a3f5f\",\"gridcolor\":\"white\",\"linecolor\":\"white\",\"minorgridcolor\":\"white\",\"startlinecolor\":\"#2a3f5f\"},\"baxis\":{\"endlinecolor\":\"#2a3f5f\",\"gridcolor\":\"white\",\"linecolor\":\"white\",\"minorgridcolor\":\"white\",\"startlinecolor\":\"#2a3f5f\"},\"type\":\"carpet\"}],\"choropleth\":[{\"colorbar\":{\"outlinewidth\":0,\"ticks\":\"\"},\"type\":\"choropleth\"}],\"contour\":[{\"colorbar\":{\"outlinewidth\":0,\"ticks\":\"\"},\"colorscale\":[[0.0,\"#0d0887\"],[0.1111111111111111,\"#46039f\"],[0.2222222222222222,\"#7201a8\"],[0.3333333333333333,\"#9c179e\"],[0.4444444444444444,\"#bd3786\"],[0.5555555555555556,\"#d8576b\"],[0.6666666666666666,\"#ed7953\"],[0.7777777777777778,\"#fb9f3a\"],[0.8888888888888888,\"#fdca26\"],[1.0,\"#f0f921\"]],\"type\":\"contour\"}],\"contourcarpet\":[{\"colorbar\":{\"outlinewidth\":0,\"ticks\":\"\"},\"type\":\"contourcarpet\"}],\"heatmap\":[{\"colorbar\":{\"outlinewidth\":0,\"ticks\":\"\"},\"colorscale\":[[0.0,\"#0d0887\"],[0.1111111111111111,\"#46039f\"],[0.2222222222222222,\"#7201a8\"],[0.3333333333333333,\"#9c179e\"],[0.4444444444444444,\"#bd3786\"],[0.5555555555555556,\"#d8576b\"],[0.6666666666666666,\"#ed7953\"],[0.7777777777777778,\"#fb9f3a\"],[0.8888888888888888,\"#fdca26\"],[1.0,\"#f0f921\"]],\"type\":\"heatmap\"}],\"heatmapgl\":[{\"colorbar\":{\"outlinewidth\":0,\"ticks\":\"\"},\"colorscale\":[[0.0,\"#0d0887\"],[0.1111111111111111,\"#46039f\"],[0.2222222222222222,\"#7201a8\"],[0.3333333333333333,\"#9c179e\"],[0.4444444444444444,\"#bd3786\"],[0.5555555555555556,\"#d8576b\"],[0.6666666666666666,\"#ed7953\"],[0.7777777777777778,\"#fb9f3a\"],[0.8888888888888888,\"#fdca26\"],[1.0,\"#f0f921\"]],\"type\":\"heatmapgl\"}],\"histogram\":[{\"marker\":{\"pattern\":{\"fillmode\":\"overlay\",\"size\":10,\"solidity\":0.2}},\"type\":\"histogram\"}],\"histogram2d\":[{\"colorbar\":{\"outlinewidth\":0,\"ticks\":\"\"},\"colorscale\":[[0.0,\"#0d0887\"],[0.1111111111111111,\"#46039f\"],[0.2222222222222222,\"#7201a8\"],[0.3333333333333333,\"#9c179e\"],[0.4444444444444444,\"#bd3786\"],[0.5555555555555556,\"#d8576b\"],[0.6666666666666666,\"#ed7953\"],[0.7777777777777778,\"#fb9f3a\"],[0.8888888888888888,\"#fdca26\"],[1.0,\"#f0f921\"]],\"type\":\"histogram2d\"}],\"histogram2dcontour\":[{\"colorbar\":{\"outlinewidth\":0,\"ticks\":\"\"},\"colorscale\":[[0.0,\"#0d0887\"],[0.1111111111111111,\"#46039f\"],[0.2222222222222222,\"#7201a8\"],[0.3333333333333333,\"#9c179e\"],[0.4444444444444444,\"#bd3786\"],[0.5555555555555556,\"#d8576b\"],[0.6666666666666666,\"#ed7953\"],[0.7777777777777778,\"#fb9f3a\"],[0.8888888888888888,\"#fdca26\"],[1.0,\"#f0f921\"]],\"type\":\"histogram2dcontour\"}],\"mesh3d\":[{\"colorbar\":{\"outlinewidth\":0,\"ticks\":\"\"},\"type\":\"mesh3d\"}],\"parcoords\":[{\"line\":{\"colorbar\":{\"outlinewidth\":0,\"ticks\":\"\"}},\"type\":\"parcoords\"}],\"pie\":[{\"automargin\":true,\"type\":\"pie\"}],\"scatter\":[{\"marker\":{\"colorbar\":{\"outlinewidth\":0,\"ticks\":\"\"}},\"type\":\"scatter\"}],\"scatter3d\":[{\"line\":{\"colorbar\":{\"outlinewidth\":0,\"ticks\":\"\"}},\"marker\":{\"colorbar\":{\"outlinewidth\":0,\"ticks\":\"\"}},\"type\":\"scatter3d\"}],\"scattercarpet\":[{\"marker\":{\"colorbar\":{\"outlinewidth\":0,\"ticks\":\"\"}},\"type\":\"scattercarpet\"}],\"scattergeo\":[{\"marker\":{\"colorbar\":{\"outlinewidth\":0,\"ticks\":\"\"}},\"type\":\"scattergeo\"}],\"scattergl\":[{\"marker\":{\"colorbar\":{\"outlinewidth\":0,\"ticks\":\"\"}},\"type\":\"scattergl\"}],\"scattermapbox\":[{\"marker\":{\"colorbar\":{\"outlinewidth\":0,\"ticks\":\"\"}},\"type\":\"scattermapbox\"}],\"scatterpolar\":[{\"marker\":{\"colorbar\":{\"outlinewidth\":0,\"ticks\":\"\"}},\"type\":\"scatterpolar\"}],\"scatterpolargl\":[{\"marker\":{\"colorbar\":{\"outlinewidth\":0,\"ticks\":\"\"}},\"type\":\"scatterpolargl\"}],\"scatterternary\":[{\"marker\":{\"colorbar\":{\"outlinewidth\":0,\"ticks\":\"\"}},\"type\":\"scatterternary\"}],\"surface\":[{\"colorbar\":{\"outlinewidth\":0,\"ticks\":\"\"},\"colorscale\":[[0.0,\"#0d0887\"],[0.1111111111111111,\"#46039f\"],[0.2222222222222222,\"#7201a8\"],[0.3333333333333333,\"#9c179e\"],[0.4444444444444444,\"#bd3786\"],[0.5555555555555556,\"#d8576b\"],[0.6666666666666666,\"#ed7953\"],[0.7777777777777778,\"#fb9f3a\"],[0.8888888888888888,\"#fdca26\"],[1.0,\"#f0f921\"]],\"type\":\"surface\"}],\"table\":[{\"cells\":{\"fill\":{\"color\":\"#EBF0F8\"},\"line\":{\"color\":\"white\"}},\"header\":{\"fill\":{\"color\":\"#C8D4E3\"},\"line\":{\"color\":\"white\"}},\"type\":\"table\"}]},\"layout\":{\"annotationdefaults\":{\"arrowcolor\":\"#2a3f5f\",\"arrowhead\":0,\"arrowwidth\":1},\"autotypenumbers\":\"strict\",\"coloraxis\":{\"colorbar\":{\"outlinewidth\":0,\"ticks\":\"\"}},\"colorscale\":{\"diverging\":[[0,\"#8e0152\"],[0.1,\"#c51b7d\"],[0.2,\"#de77ae\"],[0.3,\"#f1b6da\"],[0.4,\"#fde0ef\"],[0.5,\"#f7f7f7\"],[0.6,\"#e6f5d0\"],[0.7,\"#b8e186\"],[0.8,\"#7fbc41\"],[0.9,\"#4d9221\"],[1,\"#276419\"]],\"sequential\":[[0.0,\"#0d0887\"],[0.1111111111111111,\"#46039f\"],[0.2222222222222222,\"#7201a8\"],[0.3333333333333333,\"#9c179e\"],[0.4444444444444444,\"#bd3786\"],[0.5555555555555556,\"#d8576b\"],[0.6666666666666666,\"#ed7953\"],[0.7777777777777778,\"#fb9f3a\"],[0.8888888888888888,\"#fdca26\"],[1.0,\"#f0f921\"]],\"sequentialminus\":[[0.0,\"#0d0887\"],[0.1111111111111111,\"#46039f\"],[0.2222222222222222,\"#7201a8\"],[0.3333333333333333,\"#9c179e\"],[0.4444444444444444,\"#bd3786\"],[0.5555555555555556,\"#d8576b\"],[0.6666666666666666,\"#ed7953\"],[0.7777777777777778,\"#fb9f3a\"],[0.8888888888888888,\"#fdca26\"],[1.0,\"#f0f921\"]]},\"colorway\":[\"#636efa\",\"#EF553B\",\"#00cc96\",\"#ab63fa\",\"#FFA15A\",\"#19d3f3\",\"#FF6692\",\"#B6E880\",\"#FF97FF\",\"#FECB52\"],\"font\":{\"color\":\"#2a3f5f\"},\"geo\":{\"bgcolor\":\"white\",\"lakecolor\":\"white\",\"landcolor\":\"#E5ECF6\",\"showlakes\":true,\"showland\":true,\"subunitcolor\":\"white\"},\"hoverlabel\":{\"align\":\"left\"},\"hovermode\":\"closest\",\"mapbox\":{\"style\":\"light\"},\"paper_bgcolor\":\"white\",\"plot_bgcolor\":\"#E5ECF6\",\"polar\":{\"angularaxis\":{\"gridcolor\":\"white\",\"linecolor\":\"white\",\"ticks\":\"\"},\"bgcolor\":\"#E5ECF6\",\"radialaxis\":{\"gridcolor\":\"white\",\"linecolor\":\"white\",\"ticks\":\"\"}},\"scene\":{\"xaxis\":{\"backgroundcolor\":\"#E5ECF6\",\"gridcolor\":\"white\",\"gridwidth\":2,\"linecolor\":\"white\",\"showbackground\":true,\"ticks\":\"\",\"zerolinecolor\":\"white\"},\"yaxis\":{\"backgroundcolor\":\"#E5ECF6\",\"gridcolor\":\"white\",\"gridwidth\":2,\"linecolor\":\"white\",\"showbackground\":true,\"ticks\":\"\",\"zerolinecolor\":\"white\"},\"zaxis\":{\"backgroundcolor\":\"#E5ECF6\",\"gridcolor\":\"white\",\"gridwidth\":2,\"linecolor\":\"white\",\"showbackground\":true,\"ticks\":\"\",\"zerolinecolor\":\"white\"}},\"shapedefaults\":{\"line\":{\"color\":\"#2a3f5f\"}},\"ternary\":{\"aaxis\":{\"gridcolor\":\"white\",\"linecolor\":\"white\",\"ticks\":\"\"},\"baxis\":{\"gridcolor\":\"white\",\"linecolor\":\"white\",\"ticks\":\"\"},\"bgcolor\":\"#E5ECF6\",\"caxis\":{\"gridcolor\":\"white\",\"linecolor\":\"white\",\"ticks\":\"\"}},\"title\":{\"x\":0.05},\"xaxis\":{\"automargin\":true,\"gridcolor\":\"white\",\"linecolor\":\"white\",\"ticks\":\"\",\"title\":{\"standoff\":15},\"zerolinecolor\":\"white\",\"zerolinewidth\":2},\"yaxis\":{\"automargin\":true,\"gridcolor\":\"white\",\"linecolor\":\"white\",\"ticks\":\"\",\"title\":{\"standoff\":15},\"zerolinecolor\":\"white\",\"zerolinewidth\":2}}},\"xaxis\":{\"anchor\":\"y\",\"domain\":[0.0,1.0],\"title\":{\"text\":\"Total Number of Occurrences\"}},\"yaxis\":{\"anchor\":\"x\",\"domain\":[0.0,1.0],\"title\":{\"text\":\"last\"}},\"legend\":{\"tracegroupgap\":0},\"title\":{\"text\":\"last Distribution\"},\"barmode\":\"relative\",\"height\":1000,\"width\":1000},                        {\"responsive\": true}                    ).then(function(){\n",
       "                            \n",
       "var gd = document.getElementById('6d2ffe0b-a476-480d-8a0a-87aa5a3f7f06');\n",
       "var x = new MutationObserver(function (mutations, observer) {{\n",
       "        var display = window.getComputedStyle(gd).display;\n",
       "        if (!display || display === 'none') {{\n",
       "            console.log([gd, 'removed!']);\n",
       "            Plotly.purge(gd);\n",
       "            observer.disconnect();\n",
       "        }}\n",
       "}});\n",
       "\n",
       "// Listen for the removal of the full notebook cells\n",
       "var notebookContainer = gd.closest('#notebook-container');\n",
       "if (notebookContainer) {{\n",
       "    x.observe(notebookContainer, {childList: true});\n",
       "}}\n",
       "\n",
       "// Listen for the clearing of the current output cell\n",
       "var outputEl = gd.closest('.output');\n",
       "if (outputEl) {{\n",
       "    x.observe(outputEl, {childList: true});\n",
       "}}\n",
       "\n",
       "                        })                };                            </script>        </div>\n",
       "</body>\n",
       "</html>"
      ]
     },
     "metadata": {},
     "output_type": "display_data"
    },
    {
     "name": "stdout",
     "output_type": "stream",
     "text": [
      "Top 10:\n",
      "Miller       11698\n",
      "Gonzalez     11799\n",
      "Lewis        12753\n",
      "Jones        13976\n",
      "Martinez     14805\n",
      "Rodriguez    17394\n",
      "Johnson      20034\n",
      "Davis        21910\n",
      "Williams     23605\n",
      "Smith        28794\n",
      "Name: last, dtype: int64\n",
      "********************\n",
      "Bottom 10:\n",
      "Blake         7\n",
      "Schaefer      7\n",
      "Strong        8\n",
      "Contreras     9\n",
      "Peterson      9\n",
      "Wells         9\n",
      "Santiago     10\n",
      "Brewer       10\n",
      "Sellers      10\n",
      "Mathews      10\n",
      "Name: last, dtype: int64\n",
      "****************************************************************************************************\n"
     ]
    },
    {
     "data": {
      "text/html": [
       "<html>\n",
       "<head><meta charset=\"utf-8\" /></head>\n",
       "<body>\n",
       "    <div>            <script src=\"https://cdnjs.cloudflare.com/ajax/libs/mathjax/2.7.5/MathJax.js?config=TeX-AMS-MML_SVG\"></script><script type=\"text/javascript\">if (window.MathJax) {MathJax.Hub.Config({SVG: {font: \"STIX-Web\"}});}</script>                <script type=\"text/javascript\">window.PlotlyConfig = {MathJaxConfig: 'local'};</script>\n",
       "        <script src=\"https://cdn.plot.ly/plotly-2.8.3.min.js\"></script>                <div id=\"0b4c1879-c27a-4dad-bd43-fad4b687d4dd\" class=\"plotly-graph-div\" style=\"height:1000px; width:1000px;\"></div>            <script type=\"text/javascript\">                                    window.PLOTLYENV=window.PLOTLYENV || {};                                    if (document.getElementById(\"0b4c1879-c27a-4dad-bd43-fad4b687d4dd\")) {                    Plotly.newPlot(                        \"0b4c1879-c27a-4dad-bd43-fad4b687d4dd\",                        [{\"alignmentgroup\":\"True\",\"hovertemplate\":\"Total Number of Occurrences=%{x}<br>gender=%{y}<extra></extra>\",\"legendgroup\":\"\",\"marker\":{\"color\":\"#636efa\",\"pattern\":{\"shape\":\"\"}},\"name\":\"\",\"offsetgroup\":\"\",\"orientation\":\"h\",\"showlegend\":false,\"textposition\":\"auto\",\"x\":[586812,709863],\"xaxis\":\"x\",\"y\":[\"M\",\"F\"],\"yaxis\":\"y\",\"type\":\"bar\"}],                        {\"template\":{\"data\":{\"bar\":[{\"error_x\":{\"color\":\"#2a3f5f\"},\"error_y\":{\"color\":\"#2a3f5f\"},\"marker\":{\"line\":{\"color\":\"#E5ECF6\",\"width\":0.5},\"pattern\":{\"fillmode\":\"overlay\",\"size\":10,\"solidity\":0.2}},\"type\":\"bar\"}],\"barpolar\":[{\"marker\":{\"line\":{\"color\":\"#E5ECF6\",\"width\":0.5},\"pattern\":{\"fillmode\":\"overlay\",\"size\":10,\"solidity\":0.2}},\"type\":\"barpolar\"}],\"carpet\":[{\"aaxis\":{\"endlinecolor\":\"#2a3f5f\",\"gridcolor\":\"white\",\"linecolor\":\"white\",\"minorgridcolor\":\"white\",\"startlinecolor\":\"#2a3f5f\"},\"baxis\":{\"endlinecolor\":\"#2a3f5f\",\"gridcolor\":\"white\",\"linecolor\":\"white\",\"minorgridcolor\":\"white\",\"startlinecolor\":\"#2a3f5f\"},\"type\":\"carpet\"}],\"choropleth\":[{\"colorbar\":{\"outlinewidth\":0,\"ticks\":\"\"},\"type\":\"choropleth\"}],\"contour\":[{\"colorbar\":{\"outlinewidth\":0,\"ticks\":\"\"},\"colorscale\":[[0.0,\"#0d0887\"],[0.1111111111111111,\"#46039f\"],[0.2222222222222222,\"#7201a8\"],[0.3333333333333333,\"#9c179e\"],[0.4444444444444444,\"#bd3786\"],[0.5555555555555556,\"#d8576b\"],[0.6666666666666666,\"#ed7953\"],[0.7777777777777778,\"#fb9f3a\"],[0.8888888888888888,\"#fdca26\"],[1.0,\"#f0f921\"]],\"type\":\"contour\"}],\"contourcarpet\":[{\"colorbar\":{\"outlinewidth\":0,\"ticks\":\"\"},\"type\":\"contourcarpet\"}],\"heatmap\":[{\"colorbar\":{\"outlinewidth\":0,\"ticks\":\"\"},\"colorscale\":[[0.0,\"#0d0887\"],[0.1111111111111111,\"#46039f\"],[0.2222222222222222,\"#7201a8\"],[0.3333333333333333,\"#9c179e\"],[0.4444444444444444,\"#bd3786\"],[0.5555555555555556,\"#d8576b\"],[0.6666666666666666,\"#ed7953\"],[0.7777777777777778,\"#fb9f3a\"],[0.8888888888888888,\"#fdca26\"],[1.0,\"#f0f921\"]],\"type\":\"heatmap\"}],\"heatmapgl\":[{\"colorbar\":{\"outlinewidth\":0,\"ticks\":\"\"},\"colorscale\":[[0.0,\"#0d0887\"],[0.1111111111111111,\"#46039f\"],[0.2222222222222222,\"#7201a8\"],[0.3333333333333333,\"#9c179e\"],[0.4444444444444444,\"#bd3786\"],[0.5555555555555556,\"#d8576b\"],[0.6666666666666666,\"#ed7953\"],[0.7777777777777778,\"#fb9f3a\"],[0.8888888888888888,\"#fdca26\"],[1.0,\"#f0f921\"]],\"type\":\"heatmapgl\"}],\"histogram\":[{\"marker\":{\"pattern\":{\"fillmode\":\"overlay\",\"size\":10,\"solidity\":0.2}},\"type\":\"histogram\"}],\"histogram2d\":[{\"colorbar\":{\"outlinewidth\":0,\"ticks\":\"\"},\"colorscale\":[[0.0,\"#0d0887\"],[0.1111111111111111,\"#46039f\"],[0.2222222222222222,\"#7201a8\"],[0.3333333333333333,\"#9c179e\"],[0.4444444444444444,\"#bd3786\"],[0.5555555555555556,\"#d8576b\"],[0.6666666666666666,\"#ed7953\"],[0.7777777777777778,\"#fb9f3a\"],[0.8888888888888888,\"#fdca26\"],[1.0,\"#f0f921\"]],\"type\":\"histogram2d\"}],\"histogram2dcontour\":[{\"colorbar\":{\"outlinewidth\":0,\"ticks\":\"\"},\"colorscale\":[[0.0,\"#0d0887\"],[0.1111111111111111,\"#46039f\"],[0.2222222222222222,\"#7201a8\"],[0.3333333333333333,\"#9c179e\"],[0.4444444444444444,\"#bd3786\"],[0.5555555555555556,\"#d8576b\"],[0.6666666666666666,\"#ed7953\"],[0.7777777777777778,\"#fb9f3a\"],[0.8888888888888888,\"#fdca26\"],[1.0,\"#f0f921\"]],\"type\":\"histogram2dcontour\"}],\"mesh3d\":[{\"colorbar\":{\"outlinewidth\":0,\"ticks\":\"\"},\"type\":\"mesh3d\"}],\"parcoords\":[{\"line\":{\"colorbar\":{\"outlinewidth\":0,\"ticks\":\"\"}},\"type\":\"parcoords\"}],\"pie\":[{\"automargin\":true,\"type\":\"pie\"}],\"scatter\":[{\"marker\":{\"colorbar\":{\"outlinewidth\":0,\"ticks\":\"\"}},\"type\":\"scatter\"}],\"scatter3d\":[{\"line\":{\"colorbar\":{\"outlinewidth\":0,\"ticks\":\"\"}},\"marker\":{\"colorbar\":{\"outlinewidth\":0,\"ticks\":\"\"}},\"type\":\"scatter3d\"}],\"scattercarpet\":[{\"marker\":{\"colorbar\":{\"outlinewidth\":0,\"ticks\":\"\"}},\"type\":\"scattercarpet\"}],\"scattergeo\":[{\"marker\":{\"colorbar\":{\"outlinewidth\":0,\"ticks\":\"\"}},\"type\":\"scattergeo\"}],\"scattergl\":[{\"marker\":{\"colorbar\":{\"outlinewidth\":0,\"ticks\":\"\"}},\"type\":\"scattergl\"}],\"scattermapbox\":[{\"marker\":{\"colorbar\":{\"outlinewidth\":0,\"ticks\":\"\"}},\"type\":\"scattermapbox\"}],\"scatterpolar\":[{\"marker\":{\"colorbar\":{\"outlinewidth\":0,\"ticks\":\"\"}},\"type\":\"scatterpolar\"}],\"scatterpolargl\":[{\"marker\":{\"colorbar\":{\"outlinewidth\":0,\"ticks\":\"\"}},\"type\":\"scatterpolargl\"}],\"scatterternary\":[{\"marker\":{\"colorbar\":{\"outlinewidth\":0,\"ticks\":\"\"}},\"type\":\"scatterternary\"}],\"surface\":[{\"colorbar\":{\"outlinewidth\":0,\"ticks\":\"\"},\"colorscale\":[[0.0,\"#0d0887\"],[0.1111111111111111,\"#46039f\"],[0.2222222222222222,\"#7201a8\"],[0.3333333333333333,\"#9c179e\"],[0.4444444444444444,\"#bd3786\"],[0.5555555555555556,\"#d8576b\"],[0.6666666666666666,\"#ed7953\"],[0.7777777777777778,\"#fb9f3a\"],[0.8888888888888888,\"#fdca26\"],[1.0,\"#f0f921\"]],\"type\":\"surface\"}],\"table\":[{\"cells\":{\"fill\":{\"color\":\"#EBF0F8\"},\"line\":{\"color\":\"white\"}},\"header\":{\"fill\":{\"color\":\"#C8D4E3\"},\"line\":{\"color\":\"white\"}},\"type\":\"table\"}]},\"layout\":{\"annotationdefaults\":{\"arrowcolor\":\"#2a3f5f\",\"arrowhead\":0,\"arrowwidth\":1},\"autotypenumbers\":\"strict\",\"coloraxis\":{\"colorbar\":{\"outlinewidth\":0,\"ticks\":\"\"}},\"colorscale\":{\"diverging\":[[0,\"#8e0152\"],[0.1,\"#c51b7d\"],[0.2,\"#de77ae\"],[0.3,\"#f1b6da\"],[0.4,\"#fde0ef\"],[0.5,\"#f7f7f7\"],[0.6,\"#e6f5d0\"],[0.7,\"#b8e186\"],[0.8,\"#7fbc41\"],[0.9,\"#4d9221\"],[1,\"#276419\"]],\"sequential\":[[0.0,\"#0d0887\"],[0.1111111111111111,\"#46039f\"],[0.2222222222222222,\"#7201a8\"],[0.3333333333333333,\"#9c179e\"],[0.4444444444444444,\"#bd3786\"],[0.5555555555555556,\"#d8576b\"],[0.6666666666666666,\"#ed7953\"],[0.7777777777777778,\"#fb9f3a\"],[0.8888888888888888,\"#fdca26\"],[1.0,\"#f0f921\"]],\"sequentialminus\":[[0.0,\"#0d0887\"],[0.1111111111111111,\"#46039f\"],[0.2222222222222222,\"#7201a8\"],[0.3333333333333333,\"#9c179e\"],[0.4444444444444444,\"#bd3786\"],[0.5555555555555556,\"#d8576b\"],[0.6666666666666666,\"#ed7953\"],[0.7777777777777778,\"#fb9f3a\"],[0.8888888888888888,\"#fdca26\"],[1.0,\"#f0f921\"]]},\"colorway\":[\"#636efa\",\"#EF553B\",\"#00cc96\",\"#ab63fa\",\"#FFA15A\",\"#19d3f3\",\"#FF6692\",\"#B6E880\",\"#FF97FF\",\"#FECB52\"],\"font\":{\"color\":\"#2a3f5f\"},\"geo\":{\"bgcolor\":\"white\",\"lakecolor\":\"white\",\"landcolor\":\"#E5ECF6\",\"showlakes\":true,\"showland\":true,\"subunitcolor\":\"white\"},\"hoverlabel\":{\"align\":\"left\"},\"hovermode\":\"closest\",\"mapbox\":{\"style\":\"light\"},\"paper_bgcolor\":\"white\",\"plot_bgcolor\":\"#E5ECF6\",\"polar\":{\"angularaxis\":{\"gridcolor\":\"white\",\"linecolor\":\"white\",\"ticks\":\"\"},\"bgcolor\":\"#E5ECF6\",\"radialaxis\":{\"gridcolor\":\"white\",\"linecolor\":\"white\",\"ticks\":\"\"}},\"scene\":{\"xaxis\":{\"backgroundcolor\":\"#E5ECF6\",\"gridcolor\":\"white\",\"gridwidth\":2,\"linecolor\":\"white\",\"showbackground\":true,\"ticks\":\"\",\"zerolinecolor\":\"white\"},\"yaxis\":{\"backgroundcolor\":\"#E5ECF6\",\"gridcolor\":\"white\",\"gridwidth\":2,\"linecolor\":\"white\",\"showbackground\":true,\"ticks\":\"\",\"zerolinecolor\":\"white\"},\"zaxis\":{\"backgroundcolor\":\"#E5ECF6\",\"gridcolor\":\"white\",\"gridwidth\":2,\"linecolor\":\"white\",\"showbackground\":true,\"ticks\":\"\",\"zerolinecolor\":\"white\"}},\"shapedefaults\":{\"line\":{\"color\":\"#2a3f5f\"}},\"ternary\":{\"aaxis\":{\"gridcolor\":\"white\",\"linecolor\":\"white\",\"ticks\":\"\"},\"baxis\":{\"gridcolor\":\"white\",\"linecolor\":\"white\",\"ticks\":\"\"},\"bgcolor\":\"#E5ECF6\",\"caxis\":{\"gridcolor\":\"white\",\"linecolor\":\"white\",\"ticks\":\"\"}},\"title\":{\"x\":0.05},\"xaxis\":{\"automargin\":true,\"gridcolor\":\"white\",\"linecolor\":\"white\",\"ticks\":\"\",\"title\":{\"standoff\":15},\"zerolinecolor\":\"white\",\"zerolinewidth\":2},\"yaxis\":{\"automargin\":true,\"gridcolor\":\"white\",\"linecolor\":\"white\",\"ticks\":\"\",\"title\":{\"standoff\":15},\"zerolinecolor\":\"white\",\"zerolinewidth\":2}}},\"xaxis\":{\"anchor\":\"y\",\"domain\":[0.0,1.0],\"title\":{\"text\":\"Total Number of Occurrences\"}},\"yaxis\":{\"anchor\":\"x\",\"domain\":[0.0,1.0],\"title\":{\"text\":\"gender\"}},\"legend\":{\"tracegroupgap\":0},\"title\":{\"text\":\"gender Distribution\"},\"barmode\":\"relative\",\"height\":1000,\"width\":1000},                        {\"responsive\": true}                    ).then(function(){\n",
       "                            \n",
       "var gd = document.getElementById('0b4c1879-c27a-4dad-bd43-fad4b687d4dd');\n",
       "var x = new MutationObserver(function (mutations, observer) {{\n",
       "        var display = window.getComputedStyle(gd).display;\n",
       "        if (!display || display === 'none') {{\n",
       "            console.log([gd, 'removed!']);\n",
       "            Plotly.purge(gd);\n",
       "            observer.disconnect();\n",
       "        }}\n",
       "}});\n",
       "\n",
       "// Listen for the removal of the full notebook cells\n",
       "var notebookContainer = gd.closest('#notebook-container');\n",
       "if (notebookContainer) {{\n",
       "    x.observe(notebookContainer, {childList: true});\n",
       "}}\n",
       "\n",
       "// Listen for the clearing of the current output cell\n",
       "var outputEl = gd.closest('.output');\n",
       "if (outputEl) {{\n",
       "    x.observe(outputEl, {childList: true});\n",
       "}}\n",
       "\n",
       "                        })                };                            </script>        </div>\n",
       "</body>\n",
       "</html>"
      ]
     },
     "metadata": {},
     "output_type": "display_data"
    },
    {
     "name": "stdout",
     "output_type": "stream",
     "text": [
      "Top 10:\n",
      "M    586812\n",
      "F    709863\n",
      "Name: gender, dtype: int64\n",
      "********************\n",
      "Bottom 10:\n",
      "M    586812\n",
      "F    709863\n",
      "Name: gender, dtype: int64\n",
      "****************************************************************************************************\n"
     ]
    },
    {
     "data": {
      "text/html": [
       "<html>\n",
       "<head><meta charset=\"utf-8\" /></head>\n",
       "<body>\n",
       "    <div>            <script src=\"https://cdnjs.cloudflare.com/ajax/libs/mathjax/2.7.5/MathJax.js?config=TeX-AMS-MML_SVG\"></script><script type=\"text/javascript\">if (window.MathJax) {MathJax.Hub.Config({SVG: {font: \"STIX-Web\"}});}</script>                <script type=\"text/javascript\">window.PlotlyConfig = {MathJaxConfig: 'local'};</script>\n",
       "        <script src=\"https://cdn.plot.ly/plotly-2.8.3.min.js\"></script>                <div id=\"e4791529-2a68-41bc-979e-e2935a794082\" class=\"plotly-graph-div\" style=\"height:1000px; width:1000px;\"></div>            <script type=\"text/javascript\">                                    window.PLOTLYENV=window.PLOTLYENV || {};                                    if (document.getElementById(\"e4791529-2a68-41bc-979e-e2935a794082\")) {                    Plotly.newPlot(                        \"e4791529-2a68-41bc-979e-e2935a794082\",                        [{\"alignmentgroup\":\"True\",\"hovertemplate\":\"Total Number of Occurrences=%{x}<br>street=%{y}<extra></extra>\",\"legendgroup\":\"\",\"marker\":{\"color\":\"#636efa\",\"pattern\":{\"shape\":\"\"}},\"name\":\"\",\"offsetgroup\":\"\",\"orientation\":\"h\",\"showlegend\":false,\"textposition\":\"auto\",\"x\":[7,7,7,7,7,7,7,7,7,7,8,8,8,8,8,8,8,8,8,8,9,9,9,9,9,9,9,9,9,9,9,9,9,9,9,10,10,10,10,10,10,10,10,10,10,10,10,10,10,10,11,11,11,11,11,11,11,11,11,11,11,11,12,12,12,12,12,12,12,13,13,15,15,15,19,471,475,480,481,483,485,485,490,490,490,491,491,492,492,492,493,493,494,495,495,496,496,496,497,498,499,499,499,500,501,501,501,501,501,501,501,502,502,502,502,503,503,503,503,503,503,503,503,504,504,504,504,504,504,504,505,505,505,506,506,506,506,506,506,507,507,507,508,508,508,508,509,509,509,509,509,509,509,510,510,510,510,510,510,510,510,511,511,511,511,511,512,512,512,513,513,513,513,514,514,514,514,514,515,515,515,515,515,516,516,516,516,516,516,516,516,516,517,517,517,518,518,518,518,518,518,518,518,518,519,519,519,519,519,519,519,519,519,519,519,519,520,520,520,520,520,520,521,521,521,521,521,521,521,521,521,521,521,522,522,522,523,523,523,524,524,524,524,524,524,525,525,525,525,525,526,526,527,527,528,528,528,528,529,529,529,529,529,529,529,530,530,530,531,532,532,532,533,533,533,534,534,535,535,536,536,536,537,537,537,538,538,538,540,540,542,544,545,550,552,554,972,985,989,990,993,994,995,997,998,998,999,1000,1001,1001,1001,1002,1002,1002,1003,1003,1004,1005,1005,1006,1006,1007,1007,1007,1008,1008,1008,1008,1009,1009,1009,1009,1009,1010,1010,1010,1011,1012,1012,1012,1013,1013,1014,1014,1014,1014,1014,1014,1015,1015,1016,1016,1016,1017,1018,1019,1019,1019,1020,1020,1021,1021,1021,1021,1021,1022,1022,1022,1023,1023,1023,1023,1023,1023,1024,1024,1024,1024,1024,1025,1025,1025,1025,1026,1026,1026,1026,1026,1026,1026,1026,1026,1027,1027,1027,1027,1027,1027,1027,1028,1028,1028,1028,1028,1029,1029,1029,1029,1029,1029,1030,1030,1031,1031,1031,1031,1031,1032,1032,1033,1033,1033,1033,1033,1033,1034,1034,1034,1034,1035,1035,1035,1036,1036,1036,1036,1037,1038,1038,1038,1038,1039,1039,1039,1039,1039,1039,1039,1039,1040,1040,1040,1040,1041,1041,1041,1041,1042,1042,1043,1043,1043,1044,1044,1045,1045,1045,1045,1045,1045,1046,1046,1046,1046,1047,1047,1047,1047,1047,1048,1049,1049,1049,1050,1050,1051,1052,1052,1052,1054,1054,1054,1055,1055,1056,1058,1058,1060,1069,1070,1466,1471,1476,1491,1494,1496,1496,1497,1500,1503,1504,1505,1505,1506,1507,1509,1510,1510,1511,1512,1512,1512,1512,1512,1513,1513,1513,1513,1514,1514,1514,1514,1516,1517,1517,1517,1517,1518,1518,1519,1519,1519,1519,1519,1520,1520,1521,1522,1522,1522,1523,1523,1523,1523,1523,1524,1524,1525,1525,1525,1525,1525,1525,1526,1526,1526,1527,1527,1527,1527,1527,1527,1527,1528,1528,1528,1528,1528,1529,1529,1529,1530,1530,1531,1531,1531,1532,1533,1533,1534,1534,1535,1535,1535,1535,1535,1535,1535,1535,1535,1535,1537,1537,1537,1538,1538,1538,1538,1538,1538,1538,1539,1539,1539,1540,1540,1540,1541,1542,1542,1542,1542,1542,1543,1543,1543,1543,1543,1544,1544,1544,1544,1545,1546,1546,1547,1547,1547,1547,1548,1548,1548,1548,1549,1549,1549,1549,1549,1550,1550,1551,1551,1551,1551,1551,1552,1553,1553,1553,1554,1554,1554,1555,1555,1555,1556,1556,1556,1557,1557,1557,1557,1558,1558,1558,1558,1559,1559,1559,1559,1560,1560,1560,1561,1562,1563,1563,1563,1564,1565,1565,1566,1566,1567,1568,1569,1569,1570,1571,1572,1574,1577,1578,1581,1587,1588,1597,1959,1979,1996,2000,2001,2002,2002,2003,2003,2009,2013,2013,2014,2015,2015,2016,2016,2017,2018,2019,2021,2021,2023,2023,2024,2024,2024,2024,2024,2025,2025,2026,2027,2028,2028,2028,2029,2030,2030,2032,2032,2033,2033,2034,2034,2034,2035,2035,2035,2035,2036,2036,2037,2037,2037,2037,2038,2038,2038,2038,2039,2041,2041,2042,2042,2042,2043,2043,2044,2045,2045,2046,2046,2047,2047,2047,2048,2048,2048,2049,2049,2049,2049,2049,2050,2050,2050,2050,2051,2051,2051,2052,2052,2052,2053,2054,2054,2054,2056,2056,2057,2058,2058,2058,2059,2059,2060,2060,2062,2062,2063,2063,2064,2064,2065,2066,2068,2068,2069,2069,2069,2070,2070,2071,2073,2073,2074,2074,2075,2075,2080,2080,2080,2080,2082,2083,2087,2087,2087,2088,2089,2090,2090,2091,2092,2093,2097,2101,2102,2106,2107,2109,2456,2458,2498,2503,2519,2521,2523,2524,2524,2525,2525,2527,2530,2530,2534,2539,2540,2540,2541,2547,2548,2551,2552,2553,2553,2554,2554,2555,2555,2556,2558,2558,2559,2561,2562,2562,2562,2562,2564,2564,2564,2564,2565,2566,2566,2568,2570,2572,2572,2572,2573,2574,2576,2577,2578,2578,2582,2584,2585,2585,2587,2587,2588,2590,2591,2597,2599,2602,2603,2611,2619,2915,2918,2918,2922,2949,2949,2973,3006,3011,3023,3026,3026,3027,3027,3030,3032,3034,3038,3039,3040,3045,3046,3051,3054,3055,3056,3061,3064,3071,3072,3074,3074,3077,3080,3081,3082,3083,3087,3088,3090,3090,3095,3099,3101,3106,3107,3110,3112,3113,3117,3119,3123,3123],\"xaxis\":\"x\",\"y\":[\"27954 Hall Mill Suite 575\",\"4940 Donald Throughway Apt. 219\",\"300 Hodge Loaf\",\"7065 Whitney Mountains\",\"5124 Wendy Skyway Suite 154\",\"3437 Ross Flat Apt. 592\",\"7281 Joshua Mills Apt. 077\",\"9599 Washington Field Suite 238\",\"5273 Joseph Isle Suite 518\",\"3307 Ferguson Way\",\"48635 Paul Hills\",\"370 Lisa Estate\",\"0984 Amanda Corners Apt. 297\",\"64965 Morris Hollow Suite 323\",\"417 Parks Route\",\"024 Williams Parkway\",\"91745 Davis Crossing\",\"994 Grant Mall\",\"16104 Diane Walk Suite 352\",\"880 Andrea Greens Suite 241\",\"1206 Juan Fort Suite 424\",\"8206 Harris Extensions Apt. 996\",\"95017 Kevin Expressway\",\"741 Adams Knolls\",\"4177 Rosales Summit Apt. 973\",\"554 Harrell Ferry Suite 533\",\"8611 Tricia Fork\",\"9383 Garrison Inlet Apt. 548\",\"728 Randolph Causeway Suite 894\",\"9612 Robert Light Apt. 340\",\"4716 Tracy Bridge\",\"492 West Crossing\",\"046 Michelle Fort Suite 314\",\"01770 Kevin Lodge Suite 190\",\"754 Elliott Creek\",\"5560 Arnold Port Suite 880\",\"16220 Joseph Point Suite 096\",\"7340 Mcgrath Islands\",\"0947 Kelly Courts\",\"0582 Williams Isle Apt. 039\",\"6905 Hutchinson Inlet\",\"44417 Williams Manors\",\"644 Deborah Courts\",\"8498 Lisa Stream\",\"33010 Ford Harbor Apt. 887\",\"0467 Jerry Pines Apt. 640\",\"254 Webster Harbor\",\"3305 Angel Grove Apt. 465\",\"056 Anthony Creek Suite 406\",\"87896 Lisa Burgs\",\"93121 Zavala Extensions\",\"787 Allen Mount\",\"621 Reilly Road Apt. 756\",\"671 Cynthia Key Suite 155\",\"00378 Sarah Burgs Suite 106\",\"543 Mindy Oval\",\"368 Rollins Fort Apt. 076\",\"055 Stephanie Turnpike Suite 559\",\"24809 Cross Creek\",\"89650 Patricia Turnpike\",\"76332 Maria Squares\",\"20788 Johnson Crest\",\"446 Daniel View Suite 663\",\"48437 English Ways Suite 579\",\"740 Moses Trail Suite 452\",\"89871 Woodard Spring Suite 714\",\"362 Brown Wall\",\"56261 Keith Plaza\",\"731 Watson Spring\",\"10376 Bullock Rapid\",\"4407 Lisa Course\",\"837 Kimberly Turnpike\",\"755 Moses Harbor\",\"92811 Jared Spur Apt. 345\",\"5205 Annette Islands Apt. 043\",\"542 Finley Ports Apt. 396\",\"3312 Rachel Parks Suite 474\",\"736 Moss Motorway Suite 549\",\"1339 Johnson Landing Suite 007\",\"486 Wilkins Pines\",\"6027 Scott Meadows Suite 494\",\"1976 Tyler Underpass\",\"3786 Hale Corners\",\"4742 Alexandria Mountain\",\"87198 Macias Drive Suite 389\",\"022 Moore Island\",\"8425 Daniel Knolls Suite 288\",\"62631 Ashley Ramp Apt. 965\",\"6340 Jeffrey Dale\",\"019 Kimberly Light Apt. 039\",\"9443 Cynthia Court Apt. 038\",\"337 Michael Harbors Suite 722\",\"838 Dan Haven Suite 003\",\"539 Underwood Divide\",\"3703 Benson Wells\",\"66234 Hall Lock Suite 758\",\"14017 Thomas Plaza\",\"6313 Scott Trace\",\"4483 Sharp Ferry Apt. 468\",\"0654 Kevin Turnpike Apt. 084\",\"2887 Olson Road Suite 439\",\"3316 Cindy Land\",\"0157 Samuel Mission Suite 379\",\"517 Vasquez Lodge\",\"244 Jeffery Rapids\",\"621 Smith Hollow Apt. 738\",\"358 Pruitt Square\",\"21810 James Mall\",\"7470 John Tunnel Suite 937\",\"213 Gill Expressway\",\"852 Thomas Well Suite 339\",\"79816 Jackson Squares\",\"33165 Larry Walks Suite 960\",\"77321 Ford Via\",\"46809 Toni Flat Suite 216\",\"7644 Joseph Fields\",\"594 White Dale Suite 530\",\"97689 Davis Point Apt. 967\",\"907 Courtney Via Apt. 896\",\"933 Martin Rapids\",\"862 Anderson Highway\",\"26615 Nelson Lane\",\"610 Samantha Park Suite 149\",\"8829 Steele Station\",\"1299 Joshua Plains\",\"54220 April Union Suite 403\",\"994 Livingston Extensions Suite 918\",\"32745 Silva Springs Suite 040\",\"454 Sawyer Forks Apt. 231\",\"252 Melissa Rapids Suite 944\",\"1007 Colton Forks\",\"853 Miller Bypass Suite 802\",\"025 White Fork Apt. 633\",\"582 Rodriguez Wells\",\"557 Lynn Garden Suite 907\",\"5069 Scott Pass Apt. 654\",\"815 Heather Divide Apt. 965\",\"4602 Lopez Glens Suite 900\",\"3512 Knight Center\",\"0638 Fred Ramp Suite 086\",\"64851 Cole Turnpike\",\"7233 John Parks\",\"669 Moore Shoal\",\"969 Huerta Path Apt. 270\",\"06539 Gregory Mountains Suite 029\",\"0207 Griffith Plains Apt. 544\",\"3136 Silva Stream\",\"66035 Benjamin Villages\",\"96122 Steven Flat\",\"95793 Andrea Ville Suite 533\",\"1233 Sutton Road Suite 701\",\"5554 Mack Meadows\",\"560 Molina Path\",\"6014 Thomas Throughway\",\"4548 Werner Wells Apt. 441\",\"09419 Lewis Rapids\",\"588 Smith Lights Suite 786\",\"3160 Tina Estates Suite 234\",\"875 Amy Point\",\"334 Adam Mountains Apt. 868\",\"7529 Carter Well Suite 262\",\"622 Robert Summit\",\"08580 Jeremy Falls\",\"5278 Sarah Station Apt. 009\",\"737 Thomas Wall Apt. 502\",\"184 Miller Manors\",\"28777 Stewart Plains Apt. 495\",\"343 Joshua Views\",\"3789 Mark Walks\",\"83555 Melinda Spurs\",\"493 Todd Views\",\"384 Jonathan Hills\",\"49120 Regina Island Apt. 170\",\"433 John Heights Apt. 849\",\"6807 Jacob Skyway Apt. 331\",\"380 Martin Mission\",\"77127 Paul Station Apt. 495\",\"101 Carla Loop\",\"8929 Phillips Corners Suite 259\",\"06730 Joshua Isle Suite 555\",\"874 Fred Knolls Apt. 609\",\"31954 Eugene Lane Suite 572\",\"28223 Ward Summit Apt. 664\",\"3867 Susan Corners Apt. 883\",\"193 Catherine Ways\",\"4470 Jillian Courts\",\"919 Miller Isle\",\"79019 Taylor Cliffs\",\"445 Jerry Lights Apt. 081\",\"81446 Nicole Highway Apt. 874\",\"89297 Wilson Green Suite 601\",\"2989 Murray Inlet\",\"295 Page Creek Suite 181\",\"707 Butler Parkways Apt. 747\",\"01505 Amy Stravenue\",\"619 Jeremy Garden Apt. 681\",\"08932 Bonnie Stravenue\",\"2306 Clark Ranch Suite 515\",\"57887 Gutierrez Harbor\",\"6611 Parrish Garden Apt. 428\",\"766 Potter Well\",\"198 Candace Plaza\",\"4440 George Mills Suite 591\",\"147 Mckinney Run Apt. 743\",\"1287 Michael Roads\",\"1471 Alicia Flat Apt. 993\",\"957 Miller Falls\",\"7911 Campbell Crossing Apt. 725\",\"047 Kevin Haven\",\"63502 Brown Road Apt. 318\",\"44864 Melton Vista Suite 310\",\"03090 Fisher Forges Apt. 200\",\"9297 Victor Rest Apt. 382\",\"18316 Cannon Place\",\"265 Mullen Park Apt. 307\",\"755 Gardner Heights Apt. 420\",\"2076 Thomas Roads Suite 970\",\"82448 Tucker Cliff\",\"25360 Mcgee Forge\",\"2881 Frey Village\",\"5812 Ramos Oval Suite 598\",\"702 Tabitha Drive\",\"69459 Rachel Prairie Apt. 850\",\"3896 Gilmore Mill\",\"273 Phillip Throughway\",\"6993 Carr Lodge Apt. 311\",\"155 Gregory Mount Suite 791\",\"386 James Roads Apt. 233\",\"0900 Beverly Landing\",\"27720 Martin Hills\",\"2674 Bentley Radial\",\"995 Benjamin Bypass\",\"32600 Cobb Curve\",\"9431 Amanda Mills\",\"204 Ashley Neck Apt. 169\",\"85932 Marc Throughway Apt. 080\",\"9824 Mitchell Run\",\"58761 Brewer Rapids\",\"425 Caleb Point Apt. 050\",\"53142 Katrina Roads Suite 889\",\"00821 Joanna Meadow\",\"6458 Roberson Alley\",\"3854 Lauren Springs Suite 648\",\"646 Louis Fort Apt. 665\",\"13613 Hammond Ferry\",\"376 Brown Courts\",\"6963 Russell Causeway Suite 231\",\"05561 Farrell Crescent\",\"609 Hunt Grove\",\"575 Chapman Union\",\"976 Hubbard Lodge\",\"1125 Ray Track\",\"03921 Cole Mission Suite 882\",\"265 Christian Summit Suite 231\",\"20938 Barbara Viaduct\",\"3426 David Divide Suite 717\",\"776 Martin Ridge\",\"0688 Kevin Manor\",\"825 Martinez Springs Apt. 625\",\"44951 Williams Brooks\",\"50932 Neal Valley\",\"22502 Baker Mount Suite 241\",\"24318 Dixon Mills\",\"1447 Ryan Lodge\",\"7538 Carrie Meadow Suite 574\",\"785 Kevin Walk Suite 237\",\"550 Cunningham Squares\",\"3872 Matthew Skyway\",\"8617 Holmes Terrace Suite 651\",\"2056 Michael Wells Apt. 348\",\"47035 Murray Harbors\",\"7812 Shane Shoals Apt. 607\",\"7452 Browning Port\",\"755 Solis Isle Suite 075\",\"46095 Tara Fords\",\"3495 Williams Stream\",\"95488 Cabrera Well\",\"9242 Vanessa Ramp Apt. 525\",\"92213 Lee Well\",\"17355 Mendoza Bypass Suite 059\",\"980 Smith Gardens\",\"616 Jimenez Meadow Apt. 701\",\"28925 Powell Mountains Apt. 762\",\"053 Kim Valley Suite 928\",\"400 Zuniga Pine\",\"23656 Harris Gardens Suite 698\",\"93970 Trujillo Causeway\",\"73869 Connie Prairie\",\"9455 Kathleen Brook Apt. 651\",\"478 George Course Apt. 056\",\"7351 Cindy Well Suite 099\",\"257 Victor Stravenue\",\"6970 Blake Trail\",\"90662 Lewis Avenue\",\"4655 David Island\",\"23383 Denise Pine Apt. 099\",\"00315 Ashley Valleys\",\"44089 Carrie Crossing Suite 954\",\"15315 Vaughn Park Suite 356\",\"121 Solis Summit Apt. 934\",\"7535 Amanda Manors Suite 293\",\"210 Dean Causeway Suite 130\",\"8619 Lisa Manors Apt. 871\",\"71309 Martinez Stravenue\",\"9853 Flynn Hollow Apt. 602\",\"7683 Natasha Way Apt. 945\",\"6251 Payne Flats Apt. 581\",\"672 Randall Burg Suite 551\",\"043 Hanson Turnpike\",\"07943 Davis River\",\"1683 Davidson Freeway\",\"36366 Smith Road\",\"386 Randolph Throughway\",\"9670 Monroe Junctions\",\"56160 Nicholas Isle\",\"2497 John Motorway Suite 922\",\"490 Baldwin Alley Apt. 468\",\"383 Contreras Hills Suite 658\",\"304 Ryan Port Suite 335\",\"35737 Kirby Fall Suite 409\",\"9579 Porter Tunnel\",\"21178 Brittney Locks\",\"923 Jordan Road\",\"371 Anthony Trail Suite 354\",\"50843 Vincent Mission\",\"39787 Pamela Fall Suite 639\",\"97070 Anderson Land\",\"507 John Overpass Suite 424\",\"6888 Hicks Stream Suite 954\",\"7314 Johnson Square Apt. 296\",\"137 Adam Dale\",\"9588 Cox Rapid Apt. 257\",\"950 Dunn Squares\",\"4349 Anna Flat Suite 214\",\"86542 Jessica Fords Apt. 706\",\"0495 Baker Manors\",\"1911 Fisher Brook\",\"5884 Sandoval Square Apt. 371\",\"478 Donovan Corners Apt. 803\",\"97405 Vazquez Plains\",\"7955 Allen Orchard Apt. 336\",\"03368 Michelle Trail\",\"901 Todd Gardens Apt. 466\",\"1049 John Ports Suite 057\",\"92021 Miranda Meadows\",\"4257 Perez Mall\",\"954 Green Wall\",\"426 Mark Ports\",\"5036 Victoria Ports Suite 249\",\"75952 Wilson Course\",\"376 John Fork Suite 848\",\"246 Stewart Green Suite 149\",\"0881 Lori Pines\",\"1198 Robert Stravenue Apt. 479\",\"14601 Downs Skyway Apt. 440\",\"0043 Henry Plaza\",\"13956 Hughes Causeway Suite 124\",\"166 Lisa Fords\",\"5097 Martin Ridges\",\"622 Williams Trafficway\",\"1984 Taylor Island Suite 836\",\"88325 Brandon Greens Apt. 477\",\"296 Maria Street\",\"43809 Kenneth Circles Suite 152\",\"17819 Jose Mount Suite 657\",\"997 Cameron Meadow Apt. 980\",\"32343 Saunders Course\",\"1145 Tony Drive Suite 080\",\"69085 Short Shores\",\"1004 Willis Pass\",\"83359 Lopez Point\",\"8011 Chapman Tunnel Apt. 568\",\"0701 John Ranch\",\"24191 Elizabeth Mill\",\"797 Jennifer Loop Suite 634\",\"526 Stacy Walks\",\"36659 Smith Club Apt. 080\",\"37910 Ward Lights\",\"083 Karen Island Apt. 656\",\"172 Paula Inlet Apt. 650\",\"5097 Jodi Vista Suite 811\",\"234 Bridges Wells Apt. 389\",\"7428 Martinez Flats\",\"709 George Underpass Apt. 080\",\"5452 Patricia Inlet Apt. 280\",\"324 Donna Ridge Suite 651\",\"75703 Hernandez Corner Suite 348\",\"9331 Robert Passage Suite 327\",\"24607 Charles Mountains\",\"25713 Hamilton Grove Apt. 903\",\"04139 Johnson Prairie Suite 401\",\"82201 Bradley Radial Suite 703\",\"95351 Sullivan Viaduct Apt. 239\",\"17667 Price Spur Apt. 366\",\"329 Emily Cape\",\"0953 David Skyway\",\"715 Joy Prairie\",\"7898 Wanda Springs\",\"27823 Andrew Underpass Suite 948\",\"574 Patricia Extensions\",\"3304 Hernandez Run\",\"5758 Yates Center\",\"290 Kathryn Fall\",\"125 Kristen Dale\",\"62931 Ralph Court\",\"954 White Alley Apt. 251\",\"77944 Daniels Valley Suite 921\",\"145 Jeffrey Key Suite 668\",\"144 Martinez Curve\",\"674 Maureen Summit Apt. 276\",\"169 Edward Inlet\",\"886 Nicole Key\",\"78652 Scott Ports\",\"62934 Maria Cliffs Suite 350\",\"248 James Squares Apt. 838\",\"8149 Harris Divide\",\"154 Hernandez Keys\",\"2711 Duran Pines\",\"6157 Nichols Mews\",\"6881 King Isle Suite 228\",\"696 Matthew Ford Suite 157\",\"7377 Walton Extensions Apt. 979\",\"641 Steven Mall Apt. 299\",\"04611 Sandra Spring Suite 059\",\"431 Tracy Expressway\",\"91644 Crystal Drives\",\"152 James Centers Apt. 768\",\"1626 Susan Course\",\"31281 Thomas Inlet\",\"292 Lowe Dam Suite 858\",\"72743 Brian Run\",\"99736 Rose Shoals Apt. 504\",\"87227 Tapia Burgs\",\"240 Tracy Forges\",\"81708 Christopher Plaza\",\"838 Amy Street Suite 107\",\"37426 Olson Villages\",\"39631 Dunn Radial\",\"542 Howe Mission Apt. 092\",\"529 West Key\",\"782 Lee Crossing Apt. 209\",\"086 Pierce Cove\",\"383 Long Islands\",\"3325 Gregory Square\",\"872 Justin Views Suite 746\",\"098 Stewart Hill\",\"8030 Walker Heights\",\"401 Escobar Port\",\"82073 Jessica Camp\",\"7320 Jennifer Forges\",\"956 Paul Fields Suite 108\",\"8986 Fitzgerald Plains\",\"43075 Cohen Shoals\",\"26678 Lisa Locks Apt. 904\",\"209 Austin Stream Apt. 231\",\"7309 Sophia Causeway Suite 702\",\"5537 Jessica Plaza\",\"4923 Campbell Pines Suite 717\",\"21326 Taylor Squares Suite 708\",\"7177 Steven Forges\",\"79414 Clark Lakes Suite 966\",\"7302 Samantha Mission\",\"9047 Rodriguez Turnpike\",\"231 Flores Pass Suite 720\",\"1535 Ryan Burgs Suite 919\",\"8510 Acevedo Burgs\",\"28311 Dennis Trace\",\"0107 Clements Point\",\"0547 Russell Ford Suite 574\",\"138 Stephen Ridges Apt. 978\",\"62130 Miller Square Suite 785\",\"653 Jessica Extension Apt. 668\",\"084 Holmes Avenue Suite 206\",\"22084 Smith Roads Suite 776\",\"5270 Megan Burg Suite 756\",\"79209 Gary Dale\",\"321 Camacho Causeway\",\"83719 Wilson Shore\",\"754 Smith Isle\",\"3683 Parrish Circles\",\"826 Benjamin Stravenue\",\"2064 Tyler Fork\",\"83690 Nicholas Ports Apt. 846\",\"369 Cochran Radial\",\"078 Alex Fields\",\"13776 Hicks Plains\",\"05597 Michael Spurs\",\"40178 Lisa Mission\",\"6412 Elizabeth Gardens Suite 633\",\"5654 Peterson Land\",\"529 Joshua Knoll Apt. 511\",\"39218 Baker Shoals\",\"91542 Marissa Shores Apt. 053\",\"195 Murray Overpass Apt. 384\",\"057 Martinez Radial\",\"537 Walker Freeway\",\"06808 Ryan Valleys\",\"84033 Pitts Overpass\",\"28711 Kristine Junction Suite 309\",\"6139 Mark Rapid Apt. 651\",\"0374 Courtney Islands Apt. 400\",\"74890 Rodriguez Springs Apt. 540\",\"793 Hooper Tunnel Suite 154\",\"13299 Patrick Terrace\",\"25454 Leonard Lake\",\"0371 Aimee Neck Suite 856\",\"841 Cheryl Centers Suite 115\",\"8738 Richard Brooks\",\"12087 Michael Light\",\"079 Chelsea Rest\",\"493 Fitzgerald Fields Suite 454\",\"7566 Thompson Creek Apt. 827\",\"5572 Kelly Plains Apt. 952\",\"2632 Stevens Light Apt. 213\",\"77872 Andrea Glen Apt. 543\",\"58188 Madison Meadow Apt. 949\",\"2677 Byrd Village Suite 035\",\"172 Leonard Island\",\"551 Zachary Freeway\",\"133 Alyssa Plains\",\"16744 Campbell Wall Apt. 372\",\"298 Kayla Lights\",\"135 Joseph Mountains\",\"840 Werner Lock Apt. 852\",\"162 Jessica Row Apt. 072\",\"542 Steve Curve Suite 011\",\"2788 Brittney Island\",\"1025 Robin Square\",\"034 Kimberly Mountains\",\"44197 Jeffrey Port Suite 050\",\"7421 Serrano Lane Apt. 580\",\"23142 Montoya Island Apt. 742\",\"61107 Edwards Dam Apt. 463\",\"870 Rocha Drive\",\"865 Thomas Village\",\"25748 John Wells\",\"9016 Jordan Bypass Apt. 516\",\"5901 Foster Pine\",\"9886 Anita Drive\",\"033 Tara Brook Suite 523\",\"3423 Michael Canyon Suite 276\",\"471 Marquez Prairie Suite 680\",\"393 Carroll Route Suite 197\",\"1497 West Gateway\",\"8969 Fuentes Station Apt. 291\",\"06393 Nancy Parkways Suite 855\",\"952 Joseph Throughway\",\"27909 Peter Motorway\",\"7337 Browning Falls Suite 027\",\"868 Brady Mill Apt. 837\",\"0005 Morrison Land\",\"69252 Oconnor Alley Apt. 153\",\"663 Anna Plaza\",\"55505 Christy Via\",\"715 Courtney Pike Suite 932\",\"222 Freeman Islands\",\"8614 Reed Glen\",\"30587 Fox Shores Apt. 627\",\"25036 Contreras Turnpike Suite 270\",\"82468 Michelle Village Suite 556\",\"1561 Chase Grove\",\"6638 Lucero Mill Suite 952\",\"7854 Stephanie Island Suite 788\",\"701 Wilson Divide\",\"477 Alejandro Knolls Suite 828\",\"32941 Krystal Mill Apt. 552\",\"5045 Emily Wall\",\"5449 Brandi Heights Apt. 111\",\"502 Rice Plaza Apt. 979\",\"6274 David Oval Suite 725\",\"5517 Stacy Land\",\"78117 George Mountains\",\"168 Michael Coves Suite 343\",\"4936 Michelle Points\",\"4529 Cannon Alley\",\"7055 Fernandez Estates Apt. 676\",\"477 Wheeler Burg\",\"292 Cassidy Oval\",\"835 Reese Views Suite 884\",\"6778 Campos Field\",\"5930 Rebecca Bridge Apt. 444\",\"508 Erin Mount\",\"242 Brian Mountain\",\"148 Baker Field\",\"4900 Curtis Gardens Suite 952\",\"38352 Parrish Road Apt. 652\",\"37732 Joe Courts Apt. 752\",\"686 Linda Rest\",\"9795 Lori Island Suite 346\",\"20937 Reed Lakes Apt. 271\",\"7507 Larry Passage Suite 859\",\"3595 Susan Island Suite 063\",\"1499 Michael Rue\",\"543 Ware Path Apt. 593\",\"153 Mccullough Springs Apt. 857\",\"24255 Bryan Square\",\"5155 Mary Common Apt. 927\",\"6744 Jimmy Extensions\",\"2622 Reynolds Isle\",\"901 Ariel Points\",\"6385 Donald Square Suite 429\",\"169 Shelia Knoll Suite 753\",\"4938 Hatfield Course\",\"6278 Stephanie Unions\",\"8973 Mark Drive\",\"639 Cruz Islands\",\"17547 Stephen Turnpike Apt. 846\",\"2193 Osborne Run Apt. 789\",\"126 Underwood Drive\",\"07177 William Dale Apt. 547\",\"1742 Brandon Squares Apt. 461\",\"1852 Vincent Isle Suite 328\",\"3256 Brooks Field\",\"343 Hannah Parkway\",\"9471 Wong Islands\",\"836 Stephanie Union\",\"622 Robin Run Suite 764\",\"384 Newman Forks Apt. 370\",\"9572 Austin Forge Suite 612\",\"495 Fisher Throughway\",\"005 Cody Estates\",\"250 Carrie Throughway\",\"6366 French Field\",\"182 Sergio Summit Apt. 129\",\"88794 Mandy Lodge Apt. 874\",\"25955 Amy Via\",\"659 Nicole Cove Suite 560\",\"07712 Marcus Divide Apt. 831\",\"181 Moreno Light Apt. 215\",\"949 Smith Parkway\",\"916 Charles Road\",\"47152 Clayton Burg\",\"74835 Garner Point\",\"212 Mary Stream\",\"670 Le Meadows Suite 250\",\"0356 Sarah Light\",\"20581 Pena Walks\",\"70858 Jasmine Meadows Apt. 135\",\"34180 Lopez Plaza\",\"583 Gray Creek\",\"6003 Brady Shoal Apt. 449\",\"72030 Shelton Crossing Apt. 742\",\"682 Mills Way Apt. 814\",\"030 Seth Divide Suite 355\",\"27203 Darrell Landing\",\"587 Bradley Inlet Suite 281\",\"927 Cummings Manor Suite 318\",\"46297 Benjamin Plains Suite 703\",\"7915 Dawn Roads Apt. 544\",\"199 Patterson Fords Apt. 132\",\"2970 Flores Brooks\",\"6574 William Hill Apt. 375\",\"9134 Darryl Flat Suite 916\",\"8152 Brittany Centers\",\"31493 Garcia Summit\",\"082 Hernandez Bypass Apt. 886\",\"200 Christie Mills Apt. 307\",\"69608 Perez Mountain Apt. 006\",\"94225 Smith Springs Apt. 617\",\"8465 Reed Green Suite 559\",\"822 Austin Spur\",\"5053 Bell Crescent Apt. 255\",\"5619 Mendoza Inlet\",\"94975 David Mews Apt. 316\",\"8840 Miller Port Suite 645\",\"244 Abbott Parkway\",\"7402 West Ranch\",\"40847 Stark Junctions\",\"4739 Martin Common\",\"27386 Snyder Station\",\"7838 Jason Squares\",\"5745 Blair Locks\",\"979 Stewart Lake\",\"5364 William Harbor\",\"77921 Costa Villages\",\"3270 Scott Islands\",\"39227 Mcpherson Shoals\",\"3277 Fields Meadows Apt. 790\",\"02018 Gary Key Apt. 911\",\"54822 Hill Forks\",\"0537 Margaret Common Suite 526\",\"118 Justin Extension\",\"13108 Jennifer Passage\",\"351 Darlene Green\",\"411 Laurie Fords\",\"21447 Powell Circle\",\"268 Hayes Rue Suite 811\",\"330 Montoya Ramp\",\"5916 Susan Bridge Apt. 939\",\"35822 Clayton Street Apt. 679\",\"83685 Matthew Center Suite 870\",\"93914 Gregory Via\",\"08966 Beltran Route Suite 905\",\"558 Michael Estates\",\"8580 Moore Cove\",\"3539 Mckenzie Stream\",\"062 Poole Hollow Apt. 815\",\"285 George Lake\",\"464 Newman Crossroad\",\"065 Jones Stravenue\",\"7290 Ashlee Keys\",\"9808 Ellis Bypass\",\"67089 Caitlin Meadow Apt. 905\",\"374 Christopher Ramp Suite 855\",\"463 Willie Estates\",\"589 Matthew Brooks\",\"4511 Choi Lock\",\"230 Ryan Tunnel Apt. 025\",\"02110 Lucas Freeway Suite 517\",\"6343 Ramirez Skyway Apt. 518\",\"23220 Eaton Harbors\",\"144 Yu Locks Apt. 754\",\"748 Bryan Fields Suite 935\",\"312 Eric Expressway Apt. 014\",\"8088 Sherman Radial Suite 689\",\"2027 Snyder Track\",\"45654 Hess Rest\",\"9554 Flores Drive\",\"1250 Christopher Prairie Suite 016\",\"3326 Hannah Fords\",\"956 Sanchez Highway\",\"86882 Desiree Camp Suite 047\",\"428 Michael Tunnel Apt. 377\",\"165 Jerry Meadows Suite 460\",\"408 Bradley Rest\",\"954 Reyes Ways\",\"7921 Robert Port Suite 343\",\"9870 Collins Flat\",\"1831 Faith View Suite 653\",\"759 Erin Mount Suite 956\",\"58665 Nicholas Ford Suite 348\",\"42933 Ryan Underpass\",\"220 Frank Gardens\",\"673 Delgado Burg\",\"43576 Kristina Islands\",\"50614 Kevin Point\",\"0182 Owens Burgs Suite 480\",\"94431 Matthew Mall Suite 296\",\"6447 Johnson Estates Apt. 986\",\"26572 Hodge Villages Suite 512\",\"892 Solis Neck\",\"519 Jerry Views\",\"561 Perry Cove\",\"3337 Lisa Divide\",\"174 Jennifer Meadow Apt. 467\",\"474 Allen Haven\",\"68248 Deanna Land\",\"010 Salazar Walk\",\"4970 Michelle Burgs\",\"2851 Foster Shoals\",\"707 Anthony Causeway\",\"68276 Matthew Springs\",\"5783 Evan Roads Apt. 465\",\"47144 Roberts Keys\",\"29156 Mark Park Apt. 108\",\"555 Michael Burgs\",\"062 Carl Dam\",\"010 Weaver Land\",\"071 Wise Trace\",\"4456 Dunn Roads\",\"0362 Anderson Wall\",\"651 Miller Common\",\"658 Diane Glen Apt. 677\",\"6760 Donovan Lakes\",\"67632 Martin Gateway\",\"7020 Doyle Stream Apt. 951\",\"194 Goodman Fall Apt. 569\",\"0189 Emily Prairie\",\"84079 Thomas Burgs\",\"31701 Tucker Square Suite 893\",\"941 Adam Stravenue\",\"433 Blake Roads Suite 967\",\"6682 Green Forks\",\"75533 Tamara Valleys\",\"1833 Jeanette Stravenue\",\"95835 Garcia Rue\",\"2819 Luke Greens Suite 563\",\"25887 Martin Inlet\",\"42965 Christopher Fords Suite 659\",\"3653 Ryan Crossroad\",\"1943 Dennis Inlet Suite 145\",\"7107 Henderson Station\",\"7178 Willis Drive\",\"2918 David Spurs\",\"76752 David Lodge Apt. 064\",\"3047 Jeff Place\",\"63542 Luna Brook Apt. 012\",\"3433 Jones Branch\",\"70147 Amanda Fields\",\"81261 Garcia Underpass Suite 741\",\"478 Alexandria Mount\",\"8957 Russell Key\",\"12444 Jacob Pines\",\"1893 Katie Tunnel\",\"624 Hale Springs Apt. 572\",\"9734 Beard Fields Suite 885\",\"2161 Blankenship Freeway\",\"8925 Nicholas Points\",\"9412 Harris Mews\",\"08056 Alvarado Club Suite 699\",\"977 Rita Grove Apt. 000\",\"4215 Miranda Field Suite 326\",\"109 Brian Lights Apt. 504\",\"01479 Murray Circle\",\"7483 Navarro Flats\",\"04975 Allison Shoal\",\"28812 Charles Mill Apt. 628\",\"889 Sarah Station Suite 624\",\"180 Graves Shore\",\"4005 Dana Glens\",\"5323 Walker Island\",\"920 Patrick Light\",\"0665 Lisa Alley\",\"586 Thomas Cliffs\",\"0912 Mark Fields Apt. 080\",\"598 Martin Pine Suite 365\",\"4879 Cristina Station\",\"35440 Ryan Islands\",\"0611 Stafford Valley Suite 504\",\"950 Sheryl Spurs\",\"4725 Hurst Curve Apt. 634\",\"721 Jacqueline Brooks\",\"1323 Derek Mission\",\"566 Megan Well\",\"8850 Jessica Center\",\"9379 Vanessa Run Apt. 400\",\"56812 Francis Courts\",\"55363 Aaron Circle Suite 450\",\"4138 David Fall\",\"1632 Cohen Drive Suite 639\",\"9727 Deleon Mountain\",\"7369 Gabriel Tunnel\",\"2123 Jonathan Falls Suite 753\",\"354 Gutierrez Gateway\",\"494 Burke Ports\",\"611 Michael Rue\",\"1980 Vasquez Manors Apt. 574\",\"6114 Moran Way\",\"713 Scott Pike Apt. 712\",\"4319 Watson Shoals Suite 658\",\"53696 Laura Radial\",\"27718 Mason Bypass\",\"26975 Richardson Mills Apt. 402\",\"5569 Phillips Neck Apt. 003\",\"44259 Beth Station Suite 215\",\"524 Wu Spurs Suite 894\",\"897 Daugherty Mission\",\"3638 Marsh Union\",\"5204 Robinson Plaza Suite 897\",\"8851 Reese Neck\",\"8699 Lindsay Ford Apt. 486\",\"0423 Kirby Field Suite 623\",\"70761 Fitzpatrick Brooks Suite 631\",\"8415 Vaughn Squares Apt. 788\",\"128 Nathan Ramp\",\"63991 Destiny Rue Apt. 651\",\"85344 Smith Gateway Apt. 280\",\"41851 Victor Drives Suite 219\",\"3206 Hall Divide Suite 282\",\"4720 Anna Ways\",\"0110 Ashley Forest\",\"4503 Patricia Route\",\"2838 White Fields Apt. 473\",\"622 Bradley Knoll Apt. 758\",\"428 Morgan River\",\"663 Ramirez Trace Apt. 951\",\"87665 Karen Mill Apt. 586\",\"65417 Walsh Radial Suite 691\",\"537 Rice Square Suite 040\",\"3283 James Station\",\"9486 Joel Common Suite 554\",\"1898 Parker Fork Apt. 057\",\"974 Cindy Stream\",\"85430 Julie Trafficway Suite 792\",\"250 Benjamin Hill Apt. 026\",\"458 Phillips Island Apt. 768\",\"6911 Nicholas Keys Apt. 237\",\"3310 Davidson Spurs Apt. 107\",\"3861 Anderson Ramp Apt. 536\",\"61390 Hayes Port\",\"3603 Mitchell Court\",\"911 Sabrina Trafficway\",\"350 Stacy Glens\",\"98897 Bennett Lodge\",\"7118 Jessica Unions Apt. 789\",\"615 Clarke Spring Apt. 172\",\"861 Karen Common\",\"6602 Ortiz Pine Apt. 179\",\"572 Davis Mountains\",\"789 Herring Manors\",\"5939 Garcia Forges Suite 297\",\"821 Solis Points\",\"830 Myers Plaza Apt. 384\",\"79472 Stevens Trace Apt. 120\",\"554 Mcdonald Valley Apt. 539\",\"05050 Rogers Well Apt. 439\",\"9345 Spencer Junctions Suite 183\",\"302 Christina Islands\",\"117 Natasha Vista Suite 936\",\"31472 Cody Place Suite 740\",\"77663 Colleen Freeway\",\"4130 Tiffany Glen Apt. 562\",\"269 Sanchez Rapids\",\"16285 Jessica Lights\",\"094 Owens Underpass\",\"7188 Melissa Crest Apt. 151\",\"144 Evans Islands Apt. 683\",\"118 Cabrera Springs Apt. 105\",\"25961 Beverly Union Apt. 042\",\"2807 Parker Station Suite 080\",\"3645 Atkins Island Apt. 238\",\"319 Wendy Fort Suite 179\",\"9333 Valentine Point\",\"7600 Stephen Course Suite 031\",\"382 Williams Stream Suite 197\",\"576 House Crossroad\",\"838 Franklin Prairie Apt. 902\",\"1441 Bradley Place\",\"982 Melissa Lock\",\"57256 Raymond Ports\",\"857 Aaron Circles Suite 398\",\"3522 Park Wells Suite 528\",\"67210 Lori Creek\",\"01892 Patricia Vista Apt. 828\",\"329 Michael Extension\",\"32301 Albert River Suite 364\",\"000 Jennifer Mills\",\"725 Jo Trace Apt. 102\",\"767 Adam Mill Apt. 115\",\"1166 Castillo Mountains\",\"6296 John Keys Suite 858\",\"444 Robert Mews\",\"6983 Carrillo Isle\",\"6114 Adams Harbor Suite 096\",\"06959 Stephen Branch Suite 246\",\"43235 Mckenzie Views Apt. 837\",\"4293 Ramirez Squares\",\"908 Brooks Brook\",\"03512 Jackson Ports\",\"72269 Elizabeth Field Apt. 132\",\"17666 David Valleys\",\"899 Michele View Suite 960\",\"2924 Bobby Trafficway\",\"516 Brown Parks\",\"43039 Riley Greens Suite 393\",\"08236 Kim Hill\",\"47029 Jimmy Tunnel Apt. 106\",\"3531 Hamilton Highway\",\"03030 White Lakes\",\"320 Nicholson Orchard\",\"19838 Tonya Prairie Apt. 947\",\"742 Oneill Shore\",\"23843 Scott Island\",\"26544 Andrea Glen\",\"597 Jenny Ford Apt. 543\",\"0925 Lang Extensions\",\"372 Jeffrey Course\",\"50872 Alex Plain Suite 088\",\"5395 Colon Burgs Suite 037\",\"5796 Lee Coves Apt. 286\",\"11014 Chad Lake Apt. 573\",\"561 Little Plain Apt. 738\",\"27479 Reeves Dale\",\"2481 Mills Lock\",\"72966 Shannon Pass Apt. 391\",\"7952 Karen Pike\",\"4038 Smith Avenue\",\"7618 Gonzales Mission\",\"7202 Jeffrey Mills\",\"3379 Williams Common\",\"6033 Young Track Suite 804\",\"574 David Locks Suite 207\",\"2870 Bean Terrace Apt. 756\",\"594 Berry Lights Apt. 392\",\"40624 Rebecca Spurs\",\"854 Walker Dale Suite 488\",\"1652 James Mews\",\"29606 Martinez Views Suite 653\",\"8030 Beck Motorway\",\"4664 Sanchez Common Suite 930\",\"8172 Robertson Parkways Suite 072\",\"864 Reynolds Plains\",\"0069 Robin Brooks Apt. 695\"],\"yaxis\":\"y\",\"type\":\"bar\"}],                        {\"template\":{\"data\":{\"bar\":[{\"error_x\":{\"color\":\"#2a3f5f\"},\"error_y\":{\"color\":\"#2a3f5f\"},\"marker\":{\"line\":{\"color\":\"#E5ECF6\",\"width\":0.5},\"pattern\":{\"fillmode\":\"overlay\",\"size\":10,\"solidity\":0.2}},\"type\":\"bar\"}],\"barpolar\":[{\"marker\":{\"line\":{\"color\":\"#E5ECF6\",\"width\":0.5},\"pattern\":{\"fillmode\":\"overlay\",\"size\":10,\"solidity\":0.2}},\"type\":\"barpolar\"}],\"carpet\":[{\"aaxis\":{\"endlinecolor\":\"#2a3f5f\",\"gridcolor\":\"white\",\"linecolor\":\"white\",\"minorgridcolor\":\"white\",\"startlinecolor\":\"#2a3f5f\"},\"baxis\":{\"endlinecolor\":\"#2a3f5f\",\"gridcolor\":\"white\",\"linecolor\":\"white\",\"minorgridcolor\":\"white\",\"startlinecolor\":\"#2a3f5f\"},\"type\":\"carpet\"}],\"choropleth\":[{\"colorbar\":{\"outlinewidth\":0,\"ticks\":\"\"},\"type\":\"choropleth\"}],\"contour\":[{\"colorbar\":{\"outlinewidth\":0,\"ticks\":\"\"},\"colorscale\":[[0.0,\"#0d0887\"],[0.1111111111111111,\"#46039f\"],[0.2222222222222222,\"#7201a8\"],[0.3333333333333333,\"#9c179e\"],[0.4444444444444444,\"#bd3786\"],[0.5555555555555556,\"#d8576b\"],[0.6666666666666666,\"#ed7953\"],[0.7777777777777778,\"#fb9f3a\"],[0.8888888888888888,\"#fdca26\"],[1.0,\"#f0f921\"]],\"type\":\"contour\"}],\"contourcarpet\":[{\"colorbar\":{\"outlinewidth\":0,\"ticks\":\"\"},\"type\":\"contourcarpet\"}],\"heatmap\":[{\"colorbar\":{\"outlinewidth\":0,\"ticks\":\"\"},\"colorscale\":[[0.0,\"#0d0887\"],[0.1111111111111111,\"#46039f\"],[0.2222222222222222,\"#7201a8\"],[0.3333333333333333,\"#9c179e\"],[0.4444444444444444,\"#bd3786\"],[0.5555555555555556,\"#d8576b\"],[0.6666666666666666,\"#ed7953\"],[0.7777777777777778,\"#fb9f3a\"],[0.8888888888888888,\"#fdca26\"],[1.0,\"#f0f921\"]],\"type\":\"heatmap\"}],\"heatmapgl\":[{\"colorbar\":{\"outlinewidth\":0,\"ticks\":\"\"},\"colorscale\":[[0.0,\"#0d0887\"],[0.1111111111111111,\"#46039f\"],[0.2222222222222222,\"#7201a8\"],[0.3333333333333333,\"#9c179e\"],[0.4444444444444444,\"#bd3786\"],[0.5555555555555556,\"#d8576b\"],[0.6666666666666666,\"#ed7953\"],[0.7777777777777778,\"#fb9f3a\"],[0.8888888888888888,\"#fdca26\"],[1.0,\"#f0f921\"]],\"type\":\"heatmapgl\"}],\"histogram\":[{\"marker\":{\"pattern\":{\"fillmode\":\"overlay\",\"size\":10,\"solidity\":0.2}},\"type\":\"histogram\"}],\"histogram2d\":[{\"colorbar\":{\"outlinewidth\":0,\"ticks\":\"\"},\"colorscale\":[[0.0,\"#0d0887\"],[0.1111111111111111,\"#46039f\"],[0.2222222222222222,\"#7201a8\"],[0.3333333333333333,\"#9c179e\"],[0.4444444444444444,\"#bd3786\"],[0.5555555555555556,\"#d8576b\"],[0.6666666666666666,\"#ed7953\"],[0.7777777777777778,\"#fb9f3a\"],[0.8888888888888888,\"#fdca26\"],[1.0,\"#f0f921\"]],\"type\":\"histogram2d\"}],\"histogram2dcontour\":[{\"colorbar\":{\"outlinewidth\":0,\"ticks\":\"\"},\"colorscale\":[[0.0,\"#0d0887\"],[0.1111111111111111,\"#46039f\"],[0.2222222222222222,\"#7201a8\"],[0.3333333333333333,\"#9c179e\"],[0.4444444444444444,\"#bd3786\"],[0.5555555555555556,\"#d8576b\"],[0.6666666666666666,\"#ed7953\"],[0.7777777777777778,\"#fb9f3a\"],[0.8888888888888888,\"#fdca26\"],[1.0,\"#f0f921\"]],\"type\":\"histogram2dcontour\"}],\"mesh3d\":[{\"colorbar\":{\"outlinewidth\":0,\"ticks\":\"\"},\"type\":\"mesh3d\"}],\"parcoords\":[{\"line\":{\"colorbar\":{\"outlinewidth\":0,\"ticks\":\"\"}},\"type\":\"parcoords\"}],\"pie\":[{\"automargin\":true,\"type\":\"pie\"}],\"scatter\":[{\"marker\":{\"colorbar\":{\"outlinewidth\":0,\"ticks\":\"\"}},\"type\":\"scatter\"}],\"scatter3d\":[{\"line\":{\"colorbar\":{\"outlinewidth\":0,\"ticks\":\"\"}},\"marker\":{\"colorbar\":{\"outlinewidth\":0,\"ticks\":\"\"}},\"type\":\"scatter3d\"}],\"scattercarpet\":[{\"marker\":{\"colorbar\":{\"outlinewidth\":0,\"ticks\":\"\"}},\"type\":\"scattercarpet\"}],\"scattergeo\":[{\"marker\":{\"colorbar\":{\"outlinewidth\":0,\"ticks\":\"\"}},\"type\":\"scattergeo\"}],\"scattergl\":[{\"marker\":{\"colorbar\":{\"outlinewidth\":0,\"ticks\":\"\"}},\"type\":\"scattergl\"}],\"scattermapbox\":[{\"marker\":{\"colorbar\":{\"outlinewidth\":0,\"ticks\":\"\"}},\"type\":\"scattermapbox\"}],\"scatterpolar\":[{\"marker\":{\"colorbar\":{\"outlinewidth\":0,\"ticks\":\"\"}},\"type\":\"scatterpolar\"}],\"scatterpolargl\":[{\"marker\":{\"colorbar\":{\"outlinewidth\":0,\"ticks\":\"\"}},\"type\":\"scatterpolargl\"}],\"scatterternary\":[{\"marker\":{\"colorbar\":{\"outlinewidth\":0,\"ticks\":\"\"}},\"type\":\"scatterternary\"}],\"surface\":[{\"colorbar\":{\"outlinewidth\":0,\"ticks\":\"\"},\"colorscale\":[[0.0,\"#0d0887\"],[0.1111111111111111,\"#46039f\"],[0.2222222222222222,\"#7201a8\"],[0.3333333333333333,\"#9c179e\"],[0.4444444444444444,\"#bd3786\"],[0.5555555555555556,\"#d8576b\"],[0.6666666666666666,\"#ed7953\"],[0.7777777777777778,\"#fb9f3a\"],[0.8888888888888888,\"#fdca26\"],[1.0,\"#f0f921\"]],\"type\":\"surface\"}],\"table\":[{\"cells\":{\"fill\":{\"color\":\"#EBF0F8\"},\"line\":{\"color\":\"white\"}},\"header\":{\"fill\":{\"color\":\"#C8D4E3\"},\"line\":{\"color\":\"white\"}},\"type\":\"table\"}]},\"layout\":{\"annotationdefaults\":{\"arrowcolor\":\"#2a3f5f\",\"arrowhead\":0,\"arrowwidth\":1},\"autotypenumbers\":\"strict\",\"coloraxis\":{\"colorbar\":{\"outlinewidth\":0,\"ticks\":\"\"}},\"colorscale\":{\"diverging\":[[0,\"#8e0152\"],[0.1,\"#c51b7d\"],[0.2,\"#de77ae\"],[0.3,\"#f1b6da\"],[0.4,\"#fde0ef\"],[0.5,\"#f7f7f7\"],[0.6,\"#e6f5d0\"],[0.7,\"#b8e186\"],[0.8,\"#7fbc41\"],[0.9,\"#4d9221\"],[1,\"#276419\"]],\"sequential\":[[0.0,\"#0d0887\"],[0.1111111111111111,\"#46039f\"],[0.2222222222222222,\"#7201a8\"],[0.3333333333333333,\"#9c179e\"],[0.4444444444444444,\"#bd3786\"],[0.5555555555555556,\"#d8576b\"],[0.6666666666666666,\"#ed7953\"],[0.7777777777777778,\"#fb9f3a\"],[0.8888888888888888,\"#fdca26\"],[1.0,\"#f0f921\"]],\"sequentialminus\":[[0.0,\"#0d0887\"],[0.1111111111111111,\"#46039f\"],[0.2222222222222222,\"#7201a8\"],[0.3333333333333333,\"#9c179e\"],[0.4444444444444444,\"#bd3786\"],[0.5555555555555556,\"#d8576b\"],[0.6666666666666666,\"#ed7953\"],[0.7777777777777778,\"#fb9f3a\"],[0.8888888888888888,\"#fdca26\"],[1.0,\"#f0f921\"]]},\"colorway\":[\"#636efa\",\"#EF553B\",\"#00cc96\",\"#ab63fa\",\"#FFA15A\",\"#19d3f3\",\"#FF6692\",\"#B6E880\",\"#FF97FF\",\"#FECB52\"],\"font\":{\"color\":\"#2a3f5f\"},\"geo\":{\"bgcolor\":\"white\",\"lakecolor\":\"white\",\"landcolor\":\"#E5ECF6\",\"showlakes\":true,\"showland\":true,\"subunitcolor\":\"white\"},\"hoverlabel\":{\"align\":\"left\"},\"hovermode\":\"closest\",\"mapbox\":{\"style\":\"light\"},\"paper_bgcolor\":\"white\",\"plot_bgcolor\":\"#E5ECF6\",\"polar\":{\"angularaxis\":{\"gridcolor\":\"white\",\"linecolor\":\"white\",\"ticks\":\"\"},\"bgcolor\":\"#E5ECF6\",\"radialaxis\":{\"gridcolor\":\"white\",\"linecolor\":\"white\",\"ticks\":\"\"}},\"scene\":{\"xaxis\":{\"backgroundcolor\":\"#E5ECF6\",\"gridcolor\":\"white\",\"gridwidth\":2,\"linecolor\":\"white\",\"showbackground\":true,\"ticks\":\"\",\"zerolinecolor\":\"white\"},\"yaxis\":{\"backgroundcolor\":\"#E5ECF6\",\"gridcolor\":\"white\",\"gridwidth\":2,\"linecolor\":\"white\",\"showbackground\":true,\"ticks\":\"\",\"zerolinecolor\":\"white\"},\"zaxis\":{\"backgroundcolor\":\"#E5ECF6\",\"gridcolor\":\"white\",\"gridwidth\":2,\"linecolor\":\"white\",\"showbackground\":true,\"ticks\":\"\",\"zerolinecolor\":\"white\"}},\"shapedefaults\":{\"line\":{\"color\":\"#2a3f5f\"}},\"ternary\":{\"aaxis\":{\"gridcolor\":\"white\",\"linecolor\":\"white\",\"ticks\":\"\"},\"baxis\":{\"gridcolor\":\"white\",\"linecolor\":\"white\",\"ticks\":\"\"},\"bgcolor\":\"#E5ECF6\",\"caxis\":{\"gridcolor\":\"white\",\"linecolor\":\"white\",\"ticks\":\"\"}},\"title\":{\"x\":0.05},\"xaxis\":{\"automargin\":true,\"gridcolor\":\"white\",\"linecolor\":\"white\",\"ticks\":\"\",\"title\":{\"standoff\":15},\"zerolinecolor\":\"white\",\"zerolinewidth\":2},\"yaxis\":{\"automargin\":true,\"gridcolor\":\"white\",\"linecolor\":\"white\",\"ticks\":\"\",\"title\":{\"standoff\":15},\"zerolinecolor\":\"white\",\"zerolinewidth\":2}}},\"xaxis\":{\"anchor\":\"y\",\"domain\":[0.0,1.0],\"title\":{\"text\":\"Total Number of Occurrences\"}},\"yaxis\":{\"anchor\":\"x\",\"domain\":[0.0,1.0],\"title\":{\"text\":\"street\"}},\"legend\":{\"tracegroupgap\":0},\"title\":{\"text\":\"street Distribution\"},\"barmode\":\"relative\",\"height\":1000,\"width\":1000},                        {\"responsive\": true}                    ).then(function(){\n",
       "                            \n",
       "var gd = document.getElementById('e4791529-2a68-41bc-979e-e2935a794082');\n",
       "var x = new MutationObserver(function (mutations, observer) {{\n",
       "        var display = window.getComputedStyle(gd).display;\n",
       "        if (!display || display === 'none') {{\n",
       "            console.log([gd, 'removed!']);\n",
       "            Plotly.purge(gd);\n",
       "            observer.disconnect();\n",
       "        }}\n",
       "}});\n",
       "\n",
       "// Listen for the removal of the full notebook cells\n",
       "var notebookContainer = gd.closest('#notebook-container');\n",
       "if (notebookContainer) {{\n",
       "    x.observe(notebookContainer, {childList: true});\n",
       "}}\n",
       "\n",
       "// Listen for the clearing of the current output cell\n",
       "var outputEl = gd.closest('.output');\n",
       "if (outputEl) {{\n",
       "    x.observe(outputEl, {childList: true});\n",
       "}}\n",
       "\n",
       "                        })                };                            </script>        </div>\n",
       "</body>\n",
       "</html>"
      ]
     },
     "metadata": {},
     "output_type": "display_data"
    },
    {
     "name": "stdout",
     "output_type": "stream",
     "text": [
      "Top 10:\n",
      "594 Berry Lights Apt. 392            3101\n",
      "40624 Rebecca Spurs                  3106\n",
      "854 Walker Dale Suite 488            3107\n",
      "1652 James Mews                      3110\n",
      "29606 Martinez Views Suite 653       3112\n",
      "8030 Beck Motorway                   3113\n",
      "4664 Sanchez Common Suite 930        3117\n",
      "8172 Robertson Parkways Suite 072    3119\n",
      "864 Reynolds Plains                  3123\n",
      "0069 Robin Brooks Apt. 695           3123\n",
      "Name: street, dtype: int64\n",
      "********************\n",
      "Bottom 10:\n",
      "27954 Hall Mill Suite 575          7\n",
      "4940 Donald Throughway Apt. 219    7\n",
      "300 Hodge Loaf                     7\n",
      "7065 Whitney Mountains             7\n",
      "5124 Wendy Skyway Suite 154        7\n",
      "3437 Ross Flat Apt. 592            7\n",
      "7281 Joshua Mills Apt. 077         7\n",
      "9599 Washington Field Suite 238    7\n",
      "5273 Joseph Isle Suite 518         7\n",
      "3307 Ferguson Way                  7\n",
      "Name: street, dtype: int64\n",
      "****************************************************************************************************\n"
     ]
    },
    {
     "data": {
      "text/html": [
       "<html>\n",
       "<head><meta charset=\"utf-8\" /></head>\n",
       "<body>\n",
       "    <div>            <script src=\"https://cdnjs.cloudflare.com/ajax/libs/mathjax/2.7.5/MathJax.js?config=TeX-AMS-MML_SVG\"></script><script type=\"text/javascript\">if (window.MathJax) {MathJax.Hub.Config({SVG: {font: \"STIX-Web\"}});}</script>                <script type=\"text/javascript\">window.PlotlyConfig = {MathJaxConfig: 'local'};</script>\n",
       "        <script src=\"https://cdn.plot.ly/plotly-2.8.3.min.js\"></script>                <div id=\"471461eb-6c3d-4156-9ed0-dcf9109300bc\" class=\"plotly-graph-div\" style=\"height:1000px; width:1000px;\"></div>            <script type=\"text/javascript\">                                    window.PLOTLYENV=window.PLOTLYENV || {};                                    if (document.getElementById(\"471461eb-6c3d-4156-9ed0-dcf9109300bc\")) {                    Plotly.newPlot(                        \"471461eb-6c3d-4156-9ed0-dcf9109300bc\",                        [{\"alignmentgroup\":\"True\",\"hovertemplate\":\"Total Number of Occurrences=%{x}<br>city=%{y}<extra></extra>\",\"legendgroup\":\"\",\"marker\":{\"color\":\"#636efa\",\"pattern\":{\"shape\":\"\"}},\"name\":\"\",\"offsetgroup\":\"\",\"orientation\":\"h\",\"showlegend\":false,\"textposition\":\"auto\",\"x\":[7,7,7,7,7,7,7,8,8,8,8,8,8,8,8,8,9,9,9,9,9,9,9,9,9,9,10,10,10,10,10,10,10,10,10,10,10,10,10,11,11,11,11,11,11,11,11,12,12,12,12,12,12,13,13,15,15,19,471,475,480,481,483,485,485,490,490,490,492,492,492,493,493,494,495,495,496,496,496,497,498,499,499,500,501,501,501,501,502,502,502,502,503,503,503,503,503,503,504,504,504,504,504,505,505,505,506,506,506,507,507,507,508,508,508,508,509,509,509,509,509,510,510,510,510,510,510,510,511,511,511,511,512,512,512,512,513,513,513,513,514,514,514,514,514,515,515,515,515,516,516,516,516,516,516,516,517,517,517,518,518,518,518,518,518,519,519,519,519,519,519,519,519,520,520,520,520,520,520,521,521,521,521,521,521,521,521,521,521,522,522,522,523,523,524,524,524,524,524,524,525,525,525,525,525,526,527,528,528,529,529,529,529,529,529,530,530,530,530,531,532,532,532,533,533,533,534,535,536,536,536,537,537,537,538,538,538,540,540,550,552,553,972,985,989,990,994,995,997,998,998,999,1000,1001,1001,1001,1002,1002,1003,1003,1004,1005,1006,1006,1007,1007,1008,1008,1008,1008,1009,1009,1009,1009,1009,1010,1010,1010,1011,1012,1012,1012,1013,1014,1014,1014,1014,1014,1014,1015,1015,1016,1016,1017,1018,1019,1019,1019,1020,1021,1021,1021,1021,1021,1022,1022,1022,1023,1023,1023,1023,1023,1024,1024,1024,1024,1024,1025,1025,1025,1025,1025,1026,1026,1026,1026,1026,1026,1027,1027,1027,1027,1027,1027,1027,1028,1028,1028,1029,1029,1029,1029,1030,1030,1031,1031,1031,1031,1031,1032,1032,1033,1033,1033,1033,1033,1033,1034,1034,1034,1035,1036,1036,1036,1036,1038,1038,1038,1038,1039,1039,1039,1039,1039,1039,1039,1039,1040,1040,1040,1040,1041,1041,1041,1042,1043,1043,1044,1044,1045,1045,1045,1045,1046,1046,1046,1046,1047,1047,1047,1047,1047,1048,1049,1049,1050,1050,1051,1052,1052,1052,1054,1054,1054,1055,1055,1056,1056,1058,1058,1069,1070,1071,1466,1471,1476,1491,1494,1496,1497,1500,1503,1504,1505,1505,1506,1507,1509,1510,1511,1512,1512,1512,1512,1512,1513,1513,1513,1513,1514,1514,1514,1516,1517,1517,1517,1517,1519,1519,1519,1519,1519,1519,1520,1521,1522,1522,1522,1523,1523,1523,1523,1523,1524,1524,1525,1525,1525,1525,1526,1526,1526,1527,1527,1527,1527,1527,1527,1528,1528,1528,1528,1528,1528,1529,1529,1529,1530,1530,1531,1531,1531,1532,1533,1533,1534,1535,1535,1535,1535,1535,1535,1537,1537,1538,1538,1538,1538,1538,1538,1539,1539,1539,1540,1540,1540,1541,1542,1542,1542,1542,1542,1543,1543,1543,1543,1543,1544,1544,1544,1544,1545,1547,1547,1547,1547,1548,1548,1548,1548,1549,1549,1549,1549,1550,1551,1551,1551,1551,1552,1553,1553,1554,1554,1554,1554,1555,1555,1556,1556,1556,1557,1557,1557,1557,1558,1558,1558,1558,1559,1559,1559,1560,1560,1560,1561,1562,1563,1563,1564,1565,1565,1566,1567,1568,1569,1569,1570,1570,1571,1572,1574,1577,1578,1579,1581,1597,1979,1996,2000,2001,2002,2002,2003,2003,2013,2013,2014,2015,2015,2016,2017,2019,2021,2021,2023,2023,2024,2024,2024,2024,2024,2025,2026,2027,2028,2028,2028,2029,2029,2030,2030,2032,2032,2033,2033,2034,2034,2034,2035,2035,2035,2035,2036,2036,2037,2037,2037,2037,2038,2038,2038,2041,2041,2042,2042,2042,2043,2043,2045,2045,2047,2047,2047,2047,2048,2048,2049,2049,2049,2049,2049,2050,2050,2050,2050,2051,2051,2051,2052,2052,2053,2054,2054,2054,2056,2056,2057,2057,2058,2058,2058,2059,2059,2060,2060,2062,2062,2063,2063,2064,2064,2065,2066,2068,2068,2069,2069,2069,2070,2071,2073,2073,2074,2074,2074,2075,2075,2080,2080,2080,2080,2082,2083,2087,2087,2088,2089,2090,2090,2091,2092,2093,2097,2101,2102,2106,2109,2456,2458,2503,2519,2524,2524,2525,2525,2530,2534,2535,2539,2540,2540,2541,2543,2547,2548,2548,2551,2551,2552,2553,2553,2554,2555,2555,2556,2556,2558,2559,2561,2562,2562,2562,2563,2564,2564,2564,2564,2566,2570,2572,2572,2573,2574,2576,2577,2578,2578,2582,2584,2585,2585,2587,2587,2590,2591,2595,2597,2599,2602,2611,2614,2615,2619,2915,2918,2918,2922,2949,2949,2973,3006,3011,3026,3027,3027,3028,3034,3038,3039,3039,3040,3045,3046,3054,3055,3056,3060,3061,3064,3071,3072,3072,3074,3074,3077,3080,3081,3082,3083,3086,3087,3090,3090,3095,3105,3106,3107,3110,3110,3112,3113,3117,3119,3123,3123,3517,3527,3545,3547,3560,3584,3599,3613,3629,3635,3639,3646,3977,4044,4073,4096,4155,4159,4168,4599,4604,4613,4634,5060,5075,5105,5130,5617],\"xaxis\":\"x\",\"y\":[\"Chattanooga\",\"Norfolk\",\"Streator\",\"Bruce\",\"Claypool\",\"Vacaville\",\"Karns City\",\"Gaines\",\"Morven\",\"Noblesville\",\"Las Vegas\",\"Wappapello\",\"Crouse\",\"Irvington\",\"Pleasant Hill\",\"Buellton\",\"Medford\",\"Lockhart\",\"Nicholson\",\"East China\",\"Brookfield\",\"Freeport\",\"North East\",\"Oakton\",\"Clarion\",\"Grenola\",\"Nanuet\",\"Angwin\",\"Marshall\",\"Seattle\",\"Moss Point\",\"Isanti\",\"Orange Park\",\"Ashland\",\"Waukau\",\"Downey\",\"Greenport\",\"Mountain City\",\"Ridge Spring\",\"Mount Vernon\",\"Beacon\",\"Walkertown\",\"Phelps\",\"Roland\",\"Wartburg\",\"Madisonville\",\"Winnsboro\",\"La Grande\",\"Clinton\",\"Kaktovik\",\"Granbury\",\"Byesville\",\"Mineral\",\"West Frankfort\",\"Queen Anne\",\"Coulee Dam\",\"Melville\",\"Hubbell\",\"West Finley\",\"Stittville\",\"Humboldt\",\"De Lancey\",\"Lithopolis\",\"Early\",\"Dell City\",\"New Franken\",\"Rochester\",\"Loving\",\"Thornville\",\"Sea Island\",\"Kings Bay\",\"Boulder\",\"Michigan\",\"Webster City\",\"Palmyra\",\"Pea Ridge\",\"Jackson\",\"Rossville\",\"Loami\",\"Garfield\",\"Northport\",\"South Richmond Hill\",\"Lane\",\"Vancouver\",\"Jay\",\"Owensville\",\"Chatham\",\"Azusa\",\"Moriches\",\"Lamy\",\"Shedd\",\"Ragland\",\"Desdemona\",\"Malad City\",\"Bryant\",\"Moores Hill\",\"Nokomis\",\"Whittemore\",\"Monetta\",\"Collegeville\",\"Riverview\",\"Howes Cave\",\"Dresden\",\"Rock Glen\",\"Hopewell\",\"Broomfield\",\"Lorenzo\",\"Spirit Lake\",\"San Angelo\",\"Palmdale\",\"Hartford\",\"Lepanto\",\"Valentine\",\"Louisiana\",\"Parker Dam\",\"Bethel\",\"Premier\",\"Parker\",\"Syracuse\",\"Bynum\",\"Oakdale\",\"Mc Clellandtown\",\"Marietta\",\"Rosewood\",\"Huntington Beach\",\"Trenton\",\"Amorita\",\"Manquin\",\"Wittenberg\",\"Akron\",\"West Bethel\",\"Cardwell\",\"Aurora\",\"Putnam\",\"Liberty Mills\",\"Sunflower\",\"Kingsville\",\"Port Saint Lucie\",\"Gaithersburg\",\"Iselin\",\"Girard\",\"Wendel\",\"Woods Cross\",\"Rockwell\",\"Etlan\",\"Dexter\",\"North Brookfield\",\"Arvada\",\"Harmony\",\"Adams\",\"Moscow\",\"Williams\",\"Richland\",\"Brashear\",\"Hills\",\"Republic\",\"Dayton\",\"Omaha\",\"Greenbush\",\"Ferney\",\"West Chazy\",\"Westfir\",\"Bonita Springs\",\"Waynesfield\",\"Ehrhardt\",\"Stoneham\",\"Paxton\",\"Newport\",\"Apison\",\"Boyd\",\"West Long Branch\",\"Washoe Valley\",\"Springfield Gardens\",\"Kittery Point\",\"Ravenna\",\"Cross\",\"New Goshen\",\"De Queen\",\"Cassatt\",\"Ironton\",\"Remer\",\"Damascus\",\"Emmons\",\"Sardis\",\"Red Cliff\",\"Los Angeles\",\"Du Pont\",\"Jordan Valley\",\"Bigelow\",\"Preston\",\"Knowlesville\",\"Odessa\",\"Powell Butte\",\"Skytop\",\"Clutier\",\"Dalton\",\"Williamsburg\",\"Oakford\",\"North Las Vegas\",\"Monitor\",\"Galatia\",\"Yellowstone National Park\",\"Spring\",\"Saint Francis\",\"Annapolis\",\"Livonia\",\"Fairhope\",\"Newton\",\"Burns Flat\",\"Hazel\",\"Daniels\",\"Elk Rapids\",\"White Sulphur Springs\",\"Pearlington\",\"Claremont\",\"Dadeville\",\"Paris\",\"Benton\",\"Brainard\",\"Tuscarora\",\"Prairie Creek\",\"Achille\",\"North Haverhill\",\"Jaffrey\",\"New Memphis\",\"Mc Intosh\",\"Maria Stein\",\"Smithfield\",\"Linthicum Heights\",\"Gainesville\",\"East Rochester\",\"Pecos\",\"Winthrop\",\"Old Hickory\",\"Curlew\",\"Vienna\",\"El Paso\",\"Sprague\",\"Huslia\",\"Providence\",\"Dublin\",\"Clearwater\",\"Burrton\",\"Falls City\",\"Hovland\",\"Tryon\",\"Alton\",\"Lagrange\",\"Kingsport\",\"Reynolds\",\"Waukesha\",\"Luzerne\",\"Belmont\",\"Hedrick\",\"Mendon\",\"Grimesland\",\"Rockwood\",\"Miamisburg\",\"Leetsdale\",\"Norwich\",\"Crownpoint\",\"Humble\",\"Vanderbilt\",\"Wauchula\",\"Prosperity\",\"Glade Spring\",\"South Londonderry\",\"Harwood\",\"Tiptonville\",\"Haines City\",\"Parkers Lake\",\"Manor\",\"Lebanon\",\"Tickfaw\",\"Atglen\",\"Oriskany Falls\",\"Haynes\",\"Veedersburg\",\"Kirtland Afb\",\"Montgomery\",\"Allenhurst\",\"Schaumburg\",\"Gregory\",\"Churubusco\",\"Tamaroa\",\"Brooklin\",\"Mountain Center\",\"Newberg\",\"Canton\",\"Emporium\",\"Roseland\",\"Chester\",\"West Monroe\",\"Armonk\",\"Sterling City\",\"Brantley\",\"Alder\",\"Greenwood\",\"Ringwood\",\"Heidelberg\",\"West Eaton\",\"Falls Church\",\"Union\",\"Bay City\",\"South Hero\",\"Dongola\",\"Watertown\",\"Bolivar\",\"Portland\",\"Clune\",\"Blairsden-Graeagle\",\"Hedley\",\"Goreville\",\"Llano\",\"Minnesota Lake\",\"Shrewsbury\",\"Barnard\",\"Albuquerque\",\"Melbourne\",\"Center Tuftonboro\",\"Cross Plains\",\"Deltona\",\"Tampa\",\"West Decatur\",\"Avera\",\"Nelson\",\"Cressona\",\"Beaverdam\",\"Corona\",\"Port Charlotte\",\"Unionville\",\"Metairie\",\"Glen Rock\",\"Cuthbert\",\"Cape Coral\",\"Grand Ridge\",\"Vinton\",\"Lubbock\",\"Central\",\"Scotts Mills\",\"Phil Campbell\",\"Lakeview\",\"Saint Louis\",\"Stillwater\",\"Bethel Springs\",\"Halstad\",\"Oklahoma City\",\"Ashfield\",\"Smith River\",\"Honokaa\",\"Marion\",\"Grand Bay\",\"Rumely\",\"Westhampton Beach\",\"Milner\",\"Higganum\",\"Olmsted\",\"Montrose\",\"Aledo\",\"Eagarville\",\"Paradise Valley\",\"Auburn\",\"Jordanville\",\"Easton\",\"Pembroke\",\"Grantham\",\"Spearsville\",\"Weeping Water\",\"Port Richey\",\"Belle Fourche\",\"Slayden\",\"East Troy\",\"West Green\",\"Pikesville\",\"Downsville\",\"Mount Clemens\",\"Duncan\",\"Orr\",\"Queenstown\",\"Winslow\",\"Ashford\",\"Pewee Valley\",\"Iliff\",\"Sauk Rapids\",\"Carlisle\",\"Carroll\",\"Sixes\",\"Edinburg\",\"Gibsonville\",\"American Fork\",\"Kent\",\"Kirk\",\"Umatilla\",\"Clifton\",\"Hurley\",\"Stayton\",\"Brinson\",\"Heislerville\",\"Amsterdam\",\"Boonton\",\"Halma\",\"Colton\",\"Pueblo\",\"Beasley\",\"Alexandria\",\"Smock\",\"Pelham\",\"Pomona\",\"Maysville\",\"Alva\",\"Parks\",\"Bristow\",\"Ridgeland\",\"Lonetree\",\"Winter\",\"Oran\",\"Texarkana\",\"Albany\",\"Dubre\",\"North Tonawanda\",\"Greenville\",\"Christine\",\"Hampton\",\"Deane\",\"West Henrietta\",\"Burke\",\"Rhame\",\"Spring Church\",\"Farmington\",\"Moab\",\"Creola\",\"Belfast\",\"Varnell\",\"Waupaca\",\"Elkhart\",\"Payson\",\"Ford\",\"Cowlesville\",\"Dumont\",\"Bailey\",\"Campbell\",\"Timberville\",\"Lolita\",\"Sula\",\"Bristol\",\"Blairstown\",\"Ash Flat\",\"Hatch\",\"Collettsville\",\"Corsica\",\"Powell\",\"Bridgeport\",\"Big Creek\",\"Harrington Park\",\"Orangeburg\",\"Mooresville\",\"Cranks\",\"Eureka\",\"Matthews\",\"Minneapolis\",\"Norman Park\",\"Coyle\",\"River\",\"Mill Creek\",\"Munith\",\"Valdosta\",\"Gretna\",\"Cadiz\",\"Keller\",\"Mounds\",\"Ollie\",\"Marienville\",\"Hawley\",\"West Harrison\",\"Whigham\",\"Joliet\",\"Purmela\",\"Holloway\",\"Karnack\",\"Gardiner\",\"Highland\",\"Titusville\",\"Scarborough\",\"Paauilo\",\"Jelm\",\"Princeton\",\"June Lake\",\"Port Ewen\",\"Amanda\",\"Tower Hill\",\"Kenner\",\"Center Point\",\"Lowville\",\"Cecilton\",\"Bonfield\",\"Hopkins\",\"Paint Rock\",\"Laredo\",\"Daly City\",\"North Augusta\",\"Hahira\",\"Chester Heights\",\"Darien\",\"Turner\",\"Kilgore\",\"Mount Perry\",\"Manley\",\"Palermo\",\"Lamberton\",\"Arlington\",\"Port Gibson\",\"Jefferson\",\"Zavalla\",\"Henderson\",\"Stephensport\",\"Baroda\",\"Hawthorne\",\"Santa Monica\",\"Moro\",\"Ruidoso\",\"Comfort\",\"Newark Valley\",\"Eldridge\",\"Cedar\",\"Irvine\",\"Mansfield\",\"Belmond\",\"Randolph\",\"Margaretville\",\"Grand Junction\",\"University\",\"Clay Center\",\"New Waverly\",\"Ozawkie\",\"Laguna Hills\",\"Howells\",\"Browning\",\"Manchester\",\"Tomahawk\",\"Bowersville\",\"Cazenovia\",\"Ruth\",\"Colorado Springs\",\"Ballwin\",\"Lima\",\"Fields Landing\",\"Rule\",\"Oak Hill\",\"Irwinton\",\"Stirling\",\"Washington Court House\",\"Greendale\",\"Cuyahoga Falls\",\"Saint James City\",\"Shelter Island\",\"Paulding\",\"Jermyn\",\"Athena\",\"Smackover\",\"Quanah\",\"Viola\",\"Vero Beach\",\"Des Moines\",\"Fullerton\",\"North Judson\",\"Montandon\",\"Indian Wells\",\"Juliette\",\"Big Indian\",\"Loxahatchee\",\"Lowell\",\"West Columbia\",\"Oxford\",\"Zaleski\",\"Elizabethtown\",\"Seneca\",\"New Ellenton\",\"East Andover\",\"Eugene\",\"Independence\",\"Greenview\",\"Dieterich\",\"Mc Cracken\",\"Coleman\",\"Bay Minette\",\"Columbia\",\"Cass\",\"Moulton\",\"Harborcreek\",\"Grenada\",\"Great Mills\",\"Cherokee Village\",\"Oaks\",\"Luray\",\"Wales\",\"Deadwood\",\"Fairview\",\"West Palm Beach\",\"Clarksville\",\"Milwaukee\",\"Lake Oswego\",\"Kissee Mills\",\"Mount Morris\",\"Sturgis\",\"Beaver Falls\",\"Blackville\",\"Delhi\",\"Battle Creek\",\"Lakeport\",\"Kirby\",\"Garrattsville\",\"Phenix City\",\"Riverton\",\"Manville\",\"Helm\",\"Port Costa\",\"Arnold\",\"Cord\",\"Mallie\",\"Tyaskin\",\"Surrency\",\"Doe Hill\",\"Prairie Hill\",\"Clarinda\",\"Laramie\",\"May\",\"Sheffield\",\"Manderson\",\"Harper\",\"Shenandoah Junction\",\"Hewitt\",\"Greenwich\",\"Plymouth\",\"Roosevelt\",\"Mifflin\",\"Moravian Falls\",\"Lonsdale\",\"Avoca\",\"San Jose\",\"Saint Petersburg\",\"North Loup\",\"Mountain Park\",\"Cromona\",\"Enola\",\"Brooklyn\",\"Schaefferstown\",\"Ratcliff\",\"Falmouth\",\"Leo\",\"Afton\",\"Monmouth Beach\",\"Mayersville\",\"Altona\",\"Carlotta\",\"Coleharbor\",\"North Washington\",\"Mound City\",\"Parsonsfield\",\"Meredith\",\"Clayton\",\"Fordoche\",\"Burlington\",\"Wilton\",\"Tomales\",\"Ogdensburg\",\"Nazareth\",\"Wheaton\",\"Logan\",\"Belgrade\",\"Graniteville\",\"Kansas City\",\"Hurricane\",\"Cascade Locks\",\"Mesa\",\"Hooper\",\"Breesport\",\"Marathon\",\"Saint Bonaventure\",\"Fiddletown\",\"Notrees\",\"Southfield\",\"Bolton\",\"Westerville\",\"Nobleboro\",\"Grant\",\"Sacramento\",\"Egan\",\"West Hartford\",\"Altair\",\"O Brien\",\"Rock Tavern\",\"Tallmansville\",\"Freedom\",\"Matawan\",\"Shippingport\",\"Plantersville\",\"Bronx\",\"Georgetown\",\"Holcomb\",\"Methuen\",\"Pittsburgh\",\"Scotia\",\"Winger\",\"Mc Nabb\",\"Mc Veytown\",\"Oconto Falls\",\"Keisterville\",\"Saint Paul\",\"North Prairie\",\"Louisville\",\"Holliday\",\"Dunlevy\",\"New Boston\",\"Noonan\",\"Atlantic\",\"Brownville\",\"Corriganville\",\"Lohrville\",\"Lawn\",\"High Rolls Mountain Park\",\"Creedmoor\",\"Heiskell\",\"Pointe Aux Pins\",\"Cokeburg\",\"Summerfield\",\"Comfrey\",\"Cisco\",\"Catawba\",\"Bridger\",\"Steuben\",\"Falconer\",\"Holstein\",\"Mount Saint Joseph\",\"Sontag\",\"Mount Hope\",\"Coffeeville\",\"Grassflat\",\"Altonah\",\"Basye\",\"Barnstable\",\"Napa\",\"Wilmette\",\"Saxon\",\"Acworth\",\"Barneveld\",\"Tyler\",\"Harrodsburg\",\"Woodville\",\"Murrayville\",\"Tekoa\",\"Brunson\",\"Hancock\",\"Fort Myers\",\"Saint Amant\",\"Fayetteville\",\"Milford\",\"Redford\",\"Mulberry Grove\",\"Camden\",\"Mobile\",\"Armagh\",\"Denham Springs\",\"Oolitic\",\"Diamond\",\"Drakes Branch\",\"Springfield\",\"Romulus\",\"Fenelton\",\"Winfield\",\"Cochranton\",\"Spencer\",\"Bessemer\",\"Moriarty\",\"Blooming Grove\",\"Haw River\",\"Meadville\",\"Lake Jackson\",\"Wichita\",\"Muskegon\",\"Edmond\",\"Hannawa Falls\",\"Alpharetta\",\"Rock Springs\",\"New York City\",\"Kensington\",\"Leonard\",\"Smiths Grove\",\"Moundsville\",\"Elizabeth\",\"New Holstein\",\"Lanark Village\",\"North Wilkesboro\",\"Stanchfield\",\"Esbon\",\"Murfreesboro\",\"Bellmore\",\"Red River\",\"Scotland\",\"West Sayville\",\"Key West\",\"Grover\",\"Bagley\",\"Knoxville\",\"Johns Island\",\"Sherman\",\"Sachse\",\"San Diego\",\"Lawrence\",\"Ronceverte\",\"Issaquah\",\"Espanola\",\"Glendale\",\"Oakland\",\"Ruckersville\",\"Pembroke Township\",\"Edisto Island\",\"Clarks Mills\",\"Kingsford Heights\",\"Thida\",\"Westport\",\"Ranier\",\"Lomax\",\"Reno\",\"Sun City\",\"Manistique\",\"Sebring\",\"Topeka\",\"Newhall\",\"Roma\",\"Norman\",\"Grandview\",\"Thompson\",\"Rocky Mount\",\"Florence\",\"Goodrich\",\"Tupper Lake\",\"Shields\",\"Gadsden\",\"Sutherland\",\"Baton Rouge\",\"Thrall\",\"Walnut Ridge\",\"Norwalk\",\"Wetmore\",\"Heart Butte\",\"Whaleyville\",\"Plainfield\",\"Bauxite\",\"De Soto\",\"Jones\",\"Tulsa\",\"Centerview\",\"Littleton\",\"East Canaan\",\"Cottekill\",\"Morrisdale\",\"De Witt\",\"Bowdoin\",\"Hinckley\",\"Wilmington\",\"Hinesburg\",\"Moorhead\",\"Bradley\",\"Superior\",\"Elberta\",\"Uledi\",\"Philadelphia\",\"Fort Washakie\",\"Orient\",\"Hudson\",\"Huntsville\",\"Detroit\",\"Andrews\",\"Washington\",\"Dallas\",\"Lakeland\",\"Allentown\",\"Lahoma\",\"Fulton\",\"Brandon\",\"Indianapolis\",\"Arcadia\",\"Naples\",\"Burbank\",\"Houston\",\"Warren\",\"Cleveland\",\"Conway\",\"Thomas\",\"Meridian\",\"Phoenix\",\"Utica\",\"San Antonio\",\"Birmingham\"],\"yaxis\":\"y\",\"type\":\"bar\"}],                        {\"template\":{\"data\":{\"bar\":[{\"error_x\":{\"color\":\"#2a3f5f\"},\"error_y\":{\"color\":\"#2a3f5f\"},\"marker\":{\"line\":{\"color\":\"#E5ECF6\",\"width\":0.5},\"pattern\":{\"fillmode\":\"overlay\",\"size\":10,\"solidity\":0.2}},\"type\":\"bar\"}],\"barpolar\":[{\"marker\":{\"line\":{\"color\":\"#E5ECF6\",\"width\":0.5},\"pattern\":{\"fillmode\":\"overlay\",\"size\":10,\"solidity\":0.2}},\"type\":\"barpolar\"}],\"carpet\":[{\"aaxis\":{\"endlinecolor\":\"#2a3f5f\",\"gridcolor\":\"white\",\"linecolor\":\"white\",\"minorgridcolor\":\"white\",\"startlinecolor\":\"#2a3f5f\"},\"baxis\":{\"endlinecolor\":\"#2a3f5f\",\"gridcolor\":\"white\",\"linecolor\":\"white\",\"minorgridcolor\":\"white\",\"startlinecolor\":\"#2a3f5f\"},\"type\":\"carpet\"}],\"choropleth\":[{\"colorbar\":{\"outlinewidth\":0,\"ticks\":\"\"},\"type\":\"choropleth\"}],\"contour\":[{\"colorbar\":{\"outlinewidth\":0,\"ticks\":\"\"},\"colorscale\":[[0.0,\"#0d0887\"],[0.1111111111111111,\"#46039f\"],[0.2222222222222222,\"#7201a8\"],[0.3333333333333333,\"#9c179e\"],[0.4444444444444444,\"#bd3786\"],[0.5555555555555556,\"#d8576b\"],[0.6666666666666666,\"#ed7953\"],[0.7777777777777778,\"#fb9f3a\"],[0.8888888888888888,\"#fdca26\"],[1.0,\"#f0f921\"]],\"type\":\"contour\"}],\"contourcarpet\":[{\"colorbar\":{\"outlinewidth\":0,\"ticks\":\"\"},\"type\":\"contourcarpet\"}],\"heatmap\":[{\"colorbar\":{\"outlinewidth\":0,\"ticks\":\"\"},\"colorscale\":[[0.0,\"#0d0887\"],[0.1111111111111111,\"#46039f\"],[0.2222222222222222,\"#7201a8\"],[0.3333333333333333,\"#9c179e\"],[0.4444444444444444,\"#bd3786\"],[0.5555555555555556,\"#d8576b\"],[0.6666666666666666,\"#ed7953\"],[0.7777777777777778,\"#fb9f3a\"],[0.8888888888888888,\"#fdca26\"],[1.0,\"#f0f921\"]],\"type\":\"heatmap\"}],\"heatmapgl\":[{\"colorbar\":{\"outlinewidth\":0,\"ticks\":\"\"},\"colorscale\":[[0.0,\"#0d0887\"],[0.1111111111111111,\"#46039f\"],[0.2222222222222222,\"#7201a8\"],[0.3333333333333333,\"#9c179e\"],[0.4444444444444444,\"#bd3786\"],[0.5555555555555556,\"#d8576b\"],[0.6666666666666666,\"#ed7953\"],[0.7777777777777778,\"#fb9f3a\"],[0.8888888888888888,\"#fdca26\"],[1.0,\"#f0f921\"]],\"type\":\"heatmapgl\"}],\"histogram\":[{\"marker\":{\"pattern\":{\"fillmode\":\"overlay\",\"size\":10,\"solidity\":0.2}},\"type\":\"histogram\"}],\"histogram2d\":[{\"colorbar\":{\"outlinewidth\":0,\"ticks\":\"\"},\"colorscale\":[[0.0,\"#0d0887\"],[0.1111111111111111,\"#46039f\"],[0.2222222222222222,\"#7201a8\"],[0.3333333333333333,\"#9c179e\"],[0.4444444444444444,\"#bd3786\"],[0.5555555555555556,\"#d8576b\"],[0.6666666666666666,\"#ed7953\"],[0.7777777777777778,\"#fb9f3a\"],[0.8888888888888888,\"#fdca26\"],[1.0,\"#f0f921\"]],\"type\":\"histogram2d\"}],\"histogram2dcontour\":[{\"colorbar\":{\"outlinewidth\":0,\"ticks\":\"\"},\"colorscale\":[[0.0,\"#0d0887\"],[0.1111111111111111,\"#46039f\"],[0.2222222222222222,\"#7201a8\"],[0.3333333333333333,\"#9c179e\"],[0.4444444444444444,\"#bd3786\"],[0.5555555555555556,\"#d8576b\"],[0.6666666666666666,\"#ed7953\"],[0.7777777777777778,\"#fb9f3a\"],[0.8888888888888888,\"#fdca26\"],[1.0,\"#f0f921\"]],\"type\":\"histogram2dcontour\"}],\"mesh3d\":[{\"colorbar\":{\"outlinewidth\":0,\"ticks\":\"\"},\"type\":\"mesh3d\"}],\"parcoords\":[{\"line\":{\"colorbar\":{\"outlinewidth\":0,\"ticks\":\"\"}},\"type\":\"parcoords\"}],\"pie\":[{\"automargin\":true,\"type\":\"pie\"}],\"scatter\":[{\"marker\":{\"colorbar\":{\"outlinewidth\":0,\"ticks\":\"\"}},\"type\":\"scatter\"}],\"scatter3d\":[{\"line\":{\"colorbar\":{\"outlinewidth\":0,\"ticks\":\"\"}},\"marker\":{\"colorbar\":{\"outlinewidth\":0,\"ticks\":\"\"}},\"type\":\"scatter3d\"}],\"scattercarpet\":[{\"marker\":{\"colorbar\":{\"outlinewidth\":0,\"ticks\":\"\"}},\"type\":\"scattercarpet\"}],\"scattergeo\":[{\"marker\":{\"colorbar\":{\"outlinewidth\":0,\"ticks\":\"\"}},\"type\":\"scattergeo\"}],\"scattergl\":[{\"marker\":{\"colorbar\":{\"outlinewidth\":0,\"ticks\":\"\"}},\"type\":\"scattergl\"}],\"scattermapbox\":[{\"marker\":{\"colorbar\":{\"outlinewidth\":0,\"ticks\":\"\"}},\"type\":\"scattermapbox\"}],\"scatterpolar\":[{\"marker\":{\"colorbar\":{\"outlinewidth\":0,\"ticks\":\"\"}},\"type\":\"scatterpolar\"}],\"scatterpolargl\":[{\"marker\":{\"colorbar\":{\"outlinewidth\":0,\"ticks\":\"\"}},\"type\":\"scatterpolargl\"}],\"scatterternary\":[{\"marker\":{\"colorbar\":{\"outlinewidth\":0,\"ticks\":\"\"}},\"type\":\"scatterternary\"}],\"surface\":[{\"colorbar\":{\"outlinewidth\":0,\"ticks\":\"\"},\"colorscale\":[[0.0,\"#0d0887\"],[0.1111111111111111,\"#46039f\"],[0.2222222222222222,\"#7201a8\"],[0.3333333333333333,\"#9c179e\"],[0.4444444444444444,\"#bd3786\"],[0.5555555555555556,\"#d8576b\"],[0.6666666666666666,\"#ed7953\"],[0.7777777777777778,\"#fb9f3a\"],[0.8888888888888888,\"#fdca26\"],[1.0,\"#f0f921\"]],\"type\":\"surface\"}],\"table\":[{\"cells\":{\"fill\":{\"color\":\"#EBF0F8\"},\"line\":{\"color\":\"white\"}},\"header\":{\"fill\":{\"color\":\"#C8D4E3\"},\"line\":{\"color\":\"white\"}},\"type\":\"table\"}]},\"layout\":{\"annotationdefaults\":{\"arrowcolor\":\"#2a3f5f\",\"arrowhead\":0,\"arrowwidth\":1},\"autotypenumbers\":\"strict\",\"coloraxis\":{\"colorbar\":{\"outlinewidth\":0,\"ticks\":\"\"}},\"colorscale\":{\"diverging\":[[0,\"#8e0152\"],[0.1,\"#c51b7d\"],[0.2,\"#de77ae\"],[0.3,\"#f1b6da\"],[0.4,\"#fde0ef\"],[0.5,\"#f7f7f7\"],[0.6,\"#e6f5d0\"],[0.7,\"#b8e186\"],[0.8,\"#7fbc41\"],[0.9,\"#4d9221\"],[1,\"#276419\"]],\"sequential\":[[0.0,\"#0d0887\"],[0.1111111111111111,\"#46039f\"],[0.2222222222222222,\"#7201a8\"],[0.3333333333333333,\"#9c179e\"],[0.4444444444444444,\"#bd3786\"],[0.5555555555555556,\"#d8576b\"],[0.6666666666666666,\"#ed7953\"],[0.7777777777777778,\"#fb9f3a\"],[0.8888888888888888,\"#fdca26\"],[1.0,\"#f0f921\"]],\"sequentialminus\":[[0.0,\"#0d0887\"],[0.1111111111111111,\"#46039f\"],[0.2222222222222222,\"#7201a8\"],[0.3333333333333333,\"#9c179e\"],[0.4444444444444444,\"#bd3786\"],[0.5555555555555556,\"#d8576b\"],[0.6666666666666666,\"#ed7953\"],[0.7777777777777778,\"#fb9f3a\"],[0.8888888888888888,\"#fdca26\"],[1.0,\"#f0f921\"]]},\"colorway\":[\"#636efa\",\"#EF553B\",\"#00cc96\",\"#ab63fa\",\"#FFA15A\",\"#19d3f3\",\"#FF6692\",\"#B6E880\",\"#FF97FF\",\"#FECB52\"],\"font\":{\"color\":\"#2a3f5f\"},\"geo\":{\"bgcolor\":\"white\",\"lakecolor\":\"white\",\"landcolor\":\"#E5ECF6\",\"showlakes\":true,\"showland\":true,\"subunitcolor\":\"white\"},\"hoverlabel\":{\"align\":\"left\"},\"hovermode\":\"closest\",\"mapbox\":{\"style\":\"light\"},\"paper_bgcolor\":\"white\",\"plot_bgcolor\":\"#E5ECF6\",\"polar\":{\"angularaxis\":{\"gridcolor\":\"white\",\"linecolor\":\"white\",\"ticks\":\"\"},\"bgcolor\":\"#E5ECF6\",\"radialaxis\":{\"gridcolor\":\"white\",\"linecolor\":\"white\",\"ticks\":\"\"}},\"scene\":{\"xaxis\":{\"backgroundcolor\":\"#E5ECF6\",\"gridcolor\":\"white\",\"gridwidth\":2,\"linecolor\":\"white\",\"showbackground\":true,\"ticks\":\"\",\"zerolinecolor\":\"white\"},\"yaxis\":{\"backgroundcolor\":\"#E5ECF6\",\"gridcolor\":\"white\",\"gridwidth\":2,\"linecolor\":\"white\",\"showbackground\":true,\"ticks\":\"\",\"zerolinecolor\":\"white\"},\"zaxis\":{\"backgroundcolor\":\"#E5ECF6\",\"gridcolor\":\"white\",\"gridwidth\":2,\"linecolor\":\"white\",\"showbackground\":true,\"ticks\":\"\",\"zerolinecolor\":\"white\"}},\"shapedefaults\":{\"line\":{\"color\":\"#2a3f5f\"}},\"ternary\":{\"aaxis\":{\"gridcolor\":\"white\",\"linecolor\":\"white\",\"ticks\":\"\"},\"baxis\":{\"gridcolor\":\"white\",\"linecolor\":\"white\",\"ticks\":\"\"},\"bgcolor\":\"#E5ECF6\",\"caxis\":{\"gridcolor\":\"white\",\"linecolor\":\"white\",\"ticks\":\"\"}},\"title\":{\"x\":0.05},\"xaxis\":{\"automargin\":true,\"gridcolor\":\"white\",\"linecolor\":\"white\",\"ticks\":\"\",\"title\":{\"standoff\":15},\"zerolinecolor\":\"white\",\"zerolinewidth\":2},\"yaxis\":{\"automargin\":true,\"gridcolor\":\"white\",\"linecolor\":\"white\",\"ticks\":\"\",\"title\":{\"standoff\":15},\"zerolinecolor\":\"white\",\"zerolinewidth\":2}}},\"xaxis\":{\"anchor\":\"y\",\"domain\":[0.0,1.0],\"title\":{\"text\":\"Total Number of Occurrences\"}},\"yaxis\":{\"anchor\":\"x\",\"domain\":[0.0,1.0],\"title\":{\"text\":\"city\"}},\"legend\":{\"tracegroupgap\":0},\"title\":{\"text\":\"city Distribution\"},\"barmode\":\"relative\",\"height\":1000,\"width\":1000},                        {\"responsive\": true}                    ).then(function(){\n",
       "                            \n",
       "var gd = document.getElementById('471461eb-6c3d-4156-9ed0-dcf9109300bc');\n",
       "var x = new MutationObserver(function (mutations, observer) {{\n",
       "        var display = window.getComputedStyle(gd).display;\n",
       "        if (!display || display === 'none') {{\n",
       "            console.log([gd, 'removed!']);\n",
       "            Plotly.purge(gd);\n",
       "            observer.disconnect();\n",
       "        }}\n",
       "}});\n",
       "\n",
       "// Listen for the removal of the full notebook cells\n",
       "var notebookContainer = gd.closest('#notebook-container');\n",
       "if (notebookContainer) {{\n",
       "    x.observe(notebookContainer, {childList: true});\n",
       "}}\n",
       "\n",
       "// Listen for the clearing of the current output cell\n",
       "var outputEl = gd.closest('.output');\n",
       "if (outputEl) {{\n",
       "    x.observe(outputEl, {childList: true});\n",
       "}}\n",
       "\n",
       "                        })                };                            </script>        </div>\n",
       "</body>\n",
       "</html>"
      ]
     },
     "metadata": {},
     "output_type": "display_data"
    },
    {
     "name": "stdout",
     "output_type": "stream",
     "text": [
      "Top 10:\n",
      "Houston        4168\n",
      "Warren         4599\n",
      "Cleveland      4604\n",
      "Conway         4613\n",
      "Thomas         4634\n",
      "Meridian       5060\n",
      "Phoenix        5075\n",
      "Utica          5105\n",
      "San Antonio    5130\n",
      "Birmingham     5617\n",
      "Name: city, dtype: int64\n",
      "********************\n",
      "Bottom 10:\n",
      "Chattanooga    7\n",
      "Norfolk        7\n",
      "Streator       7\n",
      "Bruce          7\n",
      "Claypool       7\n",
      "Vacaville      7\n",
      "Karns City     7\n",
      "Gaines         8\n",
      "Morven         8\n",
      "Noblesville    8\n",
      "Name: city, dtype: int64\n",
      "****************************************************************************************************\n"
     ]
    },
    {
     "data": {
      "text/html": [
       "<html>\n",
       "<head><meta charset=\"utf-8\" /></head>\n",
       "<body>\n",
       "    <div>            <script src=\"https://cdnjs.cloudflare.com/ajax/libs/mathjax/2.7.5/MathJax.js?config=TeX-AMS-MML_SVG\"></script><script type=\"text/javascript\">if (window.MathJax) {MathJax.Hub.Config({SVG: {font: \"STIX-Web\"}});}</script>                <script type=\"text/javascript\">window.PlotlyConfig = {MathJaxConfig: 'local'};</script>\n",
       "        <script src=\"https://cdn.plot.ly/plotly-2.8.3.min.js\"></script>                <div id=\"3b1185c9-44d4-43d7-ab87-539f02575211\" class=\"plotly-graph-div\" style=\"height:1000px; width:1000px;\"></div>            <script type=\"text/javascript\">                                    window.PLOTLYENV=window.PLOTLYENV || {};                                    if (document.getElementById(\"3b1185c9-44d4-43d7-ab87-539f02575211\")) {                    Plotly.newPlot(                        \"3b1185c9-44d4-43d7-ab87-539f02575211\",                        [{\"alignmentgroup\":\"True\",\"hovertemplate\":\"Total Number of Occurrences=%{x}<br>state=%{y}<extra></extra>\",\"legendgroup\":\"\",\"marker\":{\"color\":\"#636efa\",\"pattern\":{\"shape\":\"\"}},\"name\":\"\",\"offsetgroup\":\"\",\"orientation\":\"h\",\"showlegend\":false,\"textposition\":\"auto\",\"x\":[9,550,2120,2559,3613,5545,5607,7702,8278,10699,10770,11754,11768,12324,12376,13880,14786,16407,16505,17554,18597,18924,19322,20965,21188,22996,24168,24603,25691,26063,26193,26671,26985,27580,28475,29190,29250,29368,30266,31127,31714,38403,40989,42671,43252,46154,46480,56360,79847,83501,94876],\"xaxis\":\"x\",\"y\":[\"DE\",\"RI\",\"AK\",\"HI\",\"DC\",\"ID\",\"NV\",\"CT\",\"NH\",\"UT\",\"AZ\",\"MT\",\"VT\",\"SD\",\"MA\",\"CO\",\"ND\",\"NM\",\"ME\",\"TN\",\"OR\",\"WA\",\"WY\",\"LA\",\"MS\",\"KS\",\"NE\",\"NJ\",\"WV\",\"GA\",\"MD\",\"OK\",\"IA\",\"IN\",\"KY\",\"SC\",\"VA\",\"WI\",\"NC\",\"AR\",\"MN\",\"MO\",\"AL\",\"FL\",\"IL\",\"MI\",\"OH\",\"CA\",\"PA\",\"NY\",\"TX\"],\"yaxis\":\"y\",\"type\":\"bar\"}],                        {\"template\":{\"data\":{\"bar\":[{\"error_x\":{\"color\":\"#2a3f5f\"},\"error_y\":{\"color\":\"#2a3f5f\"},\"marker\":{\"line\":{\"color\":\"#E5ECF6\",\"width\":0.5},\"pattern\":{\"fillmode\":\"overlay\",\"size\":10,\"solidity\":0.2}},\"type\":\"bar\"}],\"barpolar\":[{\"marker\":{\"line\":{\"color\":\"#E5ECF6\",\"width\":0.5},\"pattern\":{\"fillmode\":\"overlay\",\"size\":10,\"solidity\":0.2}},\"type\":\"barpolar\"}],\"carpet\":[{\"aaxis\":{\"endlinecolor\":\"#2a3f5f\",\"gridcolor\":\"white\",\"linecolor\":\"white\",\"minorgridcolor\":\"white\",\"startlinecolor\":\"#2a3f5f\"},\"baxis\":{\"endlinecolor\":\"#2a3f5f\",\"gridcolor\":\"white\",\"linecolor\":\"white\",\"minorgridcolor\":\"white\",\"startlinecolor\":\"#2a3f5f\"},\"type\":\"carpet\"}],\"choropleth\":[{\"colorbar\":{\"outlinewidth\":0,\"ticks\":\"\"},\"type\":\"choropleth\"}],\"contour\":[{\"colorbar\":{\"outlinewidth\":0,\"ticks\":\"\"},\"colorscale\":[[0.0,\"#0d0887\"],[0.1111111111111111,\"#46039f\"],[0.2222222222222222,\"#7201a8\"],[0.3333333333333333,\"#9c179e\"],[0.4444444444444444,\"#bd3786\"],[0.5555555555555556,\"#d8576b\"],[0.6666666666666666,\"#ed7953\"],[0.7777777777777778,\"#fb9f3a\"],[0.8888888888888888,\"#fdca26\"],[1.0,\"#f0f921\"]],\"type\":\"contour\"}],\"contourcarpet\":[{\"colorbar\":{\"outlinewidth\":0,\"ticks\":\"\"},\"type\":\"contourcarpet\"}],\"heatmap\":[{\"colorbar\":{\"outlinewidth\":0,\"ticks\":\"\"},\"colorscale\":[[0.0,\"#0d0887\"],[0.1111111111111111,\"#46039f\"],[0.2222222222222222,\"#7201a8\"],[0.3333333333333333,\"#9c179e\"],[0.4444444444444444,\"#bd3786\"],[0.5555555555555556,\"#d8576b\"],[0.6666666666666666,\"#ed7953\"],[0.7777777777777778,\"#fb9f3a\"],[0.8888888888888888,\"#fdca26\"],[1.0,\"#f0f921\"]],\"type\":\"heatmap\"}],\"heatmapgl\":[{\"colorbar\":{\"outlinewidth\":0,\"ticks\":\"\"},\"colorscale\":[[0.0,\"#0d0887\"],[0.1111111111111111,\"#46039f\"],[0.2222222222222222,\"#7201a8\"],[0.3333333333333333,\"#9c179e\"],[0.4444444444444444,\"#bd3786\"],[0.5555555555555556,\"#d8576b\"],[0.6666666666666666,\"#ed7953\"],[0.7777777777777778,\"#fb9f3a\"],[0.8888888888888888,\"#fdca26\"],[1.0,\"#f0f921\"]],\"type\":\"heatmapgl\"}],\"histogram\":[{\"marker\":{\"pattern\":{\"fillmode\":\"overlay\",\"size\":10,\"solidity\":0.2}},\"type\":\"histogram\"}],\"histogram2d\":[{\"colorbar\":{\"outlinewidth\":0,\"ticks\":\"\"},\"colorscale\":[[0.0,\"#0d0887\"],[0.1111111111111111,\"#46039f\"],[0.2222222222222222,\"#7201a8\"],[0.3333333333333333,\"#9c179e\"],[0.4444444444444444,\"#bd3786\"],[0.5555555555555556,\"#d8576b\"],[0.6666666666666666,\"#ed7953\"],[0.7777777777777778,\"#fb9f3a\"],[0.8888888888888888,\"#fdca26\"],[1.0,\"#f0f921\"]],\"type\":\"histogram2d\"}],\"histogram2dcontour\":[{\"colorbar\":{\"outlinewidth\":0,\"ticks\":\"\"},\"colorscale\":[[0.0,\"#0d0887\"],[0.1111111111111111,\"#46039f\"],[0.2222222222222222,\"#7201a8\"],[0.3333333333333333,\"#9c179e\"],[0.4444444444444444,\"#bd3786\"],[0.5555555555555556,\"#d8576b\"],[0.6666666666666666,\"#ed7953\"],[0.7777777777777778,\"#fb9f3a\"],[0.8888888888888888,\"#fdca26\"],[1.0,\"#f0f921\"]],\"type\":\"histogram2dcontour\"}],\"mesh3d\":[{\"colorbar\":{\"outlinewidth\":0,\"ticks\":\"\"},\"type\":\"mesh3d\"}],\"parcoords\":[{\"line\":{\"colorbar\":{\"outlinewidth\":0,\"ticks\":\"\"}},\"type\":\"parcoords\"}],\"pie\":[{\"automargin\":true,\"type\":\"pie\"}],\"scatter\":[{\"marker\":{\"colorbar\":{\"outlinewidth\":0,\"ticks\":\"\"}},\"type\":\"scatter\"}],\"scatter3d\":[{\"line\":{\"colorbar\":{\"outlinewidth\":0,\"ticks\":\"\"}},\"marker\":{\"colorbar\":{\"outlinewidth\":0,\"ticks\":\"\"}},\"type\":\"scatter3d\"}],\"scattercarpet\":[{\"marker\":{\"colorbar\":{\"outlinewidth\":0,\"ticks\":\"\"}},\"type\":\"scattercarpet\"}],\"scattergeo\":[{\"marker\":{\"colorbar\":{\"outlinewidth\":0,\"ticks\":\"\"}},\"type\":\"scattergeo\"}],\"scattergl\":[{\"marker\":{\"colorbar\":{\"outlinewidth\":0,\"ticks\":\"\"}},\"type\":\"scattergl\"}],\"scattermapbox\":[{\"marker\":{\"colorbar\":{\"outlinewidth\":0,\"ticks\":\"\"}},\"type\":\"scattermapbox\"}],\"scatterpolar\":[{\"marker\":{\"colorbar\":{\"outlinewidth\":0,\"ticks\":\"\"}},\"type\":\"scatterpolar\"}],\"scatterpolargl\":[{\"marker\":{\"colorbar\":{\"outlinewidth\":0,\"ticks\":\"\"}},\"type\":\"scatterpolargl\"}],\"scatterternary\":[{\"marker\":{\"colorbar\":{\"outlinewidth\":0,\"ticks\":\"\"}},\"type\":\"scatterternary\"}],\"surface\":[{\"colorbar\":{\"outlinewidth\":0,\"ticks\":\"\"},\"colorscale\":[[0.0,\"#0d0887\"],[0.1111111111111111,\"#46039f\"],[0.2222222222222222,\"#7201a8\"],[0.3333333333333333,\"#9c179e\"],[0.4444444444444444,\"#bd3786\"],[0.5555555555555556,\"#d8576b\"],[0.6666666666666666,\"#ed7953\"],[0.7777777777777778,\"#fb9f3a\"],[0.8888888888888888,\"#fdca26\"],[1.0,\"#f0f921\"]],\"type\":\"surface\"}],\"table\":[{\"cells\":{\"fill\":{\"color\":\"#EBF0F8\"},\"line\":{\"color\":\"white\"}},\"header\":{\"fill\":{\"color\":\"#C8D4E3\"},\"line\":{\"color\":\"white\"}},\"type\":\"table\"}]},\"layout\":{\"annotationdefaults\":{\"arrowcolor\":\"#2a3f5f\",\"arrowhead\":0,\"arrowwidth\":1},\"autotypenumbers\":\"strict\",\"coloraxis\":{\"colorbar\":{\"outlinewidth\":0,\"ticks\":\"\"}},\"colorscale\":{\"diverging\":[[0,\"#8e0152\"],[0.1,\"#c51b7d\"],[0.2,\"#de77ae\"],[0.3,\"#f1b6da\"],[0.4,\"#fde0ef\"],[0.5,\"#f7f7f7\"],[0.6,\"#e6f5d0\"],[0.7,\"#b8e186\"],[0.8,\"#7fbc41\"],[0.9,\"#4d9221\"],[1,\"#276419\"]],\"sequential\":[[0.0,\"#0d0887\"],[0.1111111111111111,\"#46039f\"],[0.2222222222222222,\"#7201a8\"],[0.3333333333333333,\"#9c179e\"],[0.4444444444444444,\"#bd3786\"],[0.5555555555555556,\"#d8576b\"],[0.6666666666666666,\"#ed7953\"],[0.7777777777777778,\"#fb9f3a\"],[0.8888888888888888,\"#fdca26\"],[1.0,\"#f0f921\"]],\"sequentialminus\":[[0.0,\"#0d0887\"],[0.1111111111111111,\"#46039f\"],[0.2222222222222222,\"#7201a8\"],[0.3333333333333333,\"#9c179e\"],[0.4444444444444444,\"#bd3786\"],[0.5555555555555556,\"#d8576b\"],[0.6666666666666666,\"#ed7953\"],[0.7777777777777778,\"#fb9f3a\"],[0.8888888888888888,\"#fdca26\"],[1.0,\"#f0f921\"]]},\"colorway\":[\"#636efa\",\"#EF553B\",\"#00cc96\",\"#ab63fa\",\"#FFA15A\",\"#19d3f3\",\"#FF6692\",\"#B6E880\",\"#FF97FF\",\"#FECB52\"],\"font\":{\"color\":\"#2a3f5f\"},\"geo\":{\"bgcolor\":\"white\",\"lakecolor\":\"white\",\"landcolor\":\"#E5ECF6\",\"showlakes\":true,\"showland\":true,\"subunitcolor\":\"white\"},\"hoverlabel\":{\"align\":\"left\"},\"hovermode\":\"closest\",\"mapbox\":{\"style\":\"light\"},\"paper_bgcolor\":\"white\",\"plot_bgcolor\":\"#E5ECF6\",\"polar\":{\"angularaxis\":{\"gridcolor\":\"white\",\"linecolor\":\"white\",\"ticks\":\"\"},\"bgcolor\":\"#E5ECF6\",\"radialaxis\":{\"gridcolor\":\"white\",\"linecolor\":\"white\",\"ticks\":\"\"}},\"scene\":{\"xaxis\":{\"backgroundcolor\":\"#E5ECF6\",\"gridcolor\":\"white\",\"gridwidth\":2,\"linecolor\":\"white\",\"showbackground\":true,\"ticks\":\"\",\"zerolinecolor\":\"white\"},\"yaxis\":{\"backgroundcolor\":\"#E5ECF6\",\"gridcolor\":\"white\",\"gridwidth\":2,\"linecolor\":\"white\",\"showbackground\":true,\"ticks\":\"\",\"zerolinecolor\":\"white\"},\"zaxis\":{\"backgroundcolor\":\"#E5ECF6\",\"gridcolor\":\"white\",\"gridwidth\":2,\"linecolor\":\"white\",\"showbackground\":true,\"ticks\":\"\",\"zerolinecolor\":\"white\"}},\"shapedefaults\":{\"line\":{\"color\":\"#2a3f5f\"}},\"ternary\":{\"aaxis\":{\"gridcolor\":\"white\",\"linecolor\":\"white\",\"ticks\":\"\"},\"baxis\":{\"gridcolor\":\"white\",\"linecolor\":\"white\",\"ticks\":\"\"},\"bgcolor\":\"#E5ECF6\",\"caxis\":{\"gridcolor\":\"white\",\"linecolor\":\"white\",\"ticks\":\"\"}},\"title\":{\"x\":0.05},\"xaxis\":{\"automargin\":true,\"gridcolor\":\"white\",\"linecolor\":\"white\",\"ticks\":\"\",\"title\":{\"standoff\":15},\"zerolinecolor\":\"white\",\"zerolinewidth\":2},\"yaxis\":{\"automargin\":true,\"gridcolor\":\"white\",\"linecolor\":\"white\",\"ticks\":\"\",\"title\":{\"standoff\":15},\"zerolinecolor\":\"white\",\"zerolinewidth\":2}}},\"xaxis\":{\"anchor\":\"y\",\"domain\":[0.0,1.0],\"title\":{\"text\":\"Total Number of Occurrences\"}},\"yaxis\":{\"anchor\":\"x\",\"domain\":[0.0,1.0],\"title\":{\"text\":\"state\"}},\"legend\":{\"tracegroupgap\":0},\"title\":{\"text\":\"state Distribution\"},\"barmode\":\"relative\",\"height\":1000,\"width\":1000},                        {\"responsive\": true}                    ).then(function(){\n",
       "                            \n",
       "var gd = document.getElementById('3b1185c9-44d4-43d7-ab87-539f02575211');\n",
       "var x = new MutationObserver(function (mutations, observer) {{\n",
       "        var display = window.getComputedStyle(gd).display;\n",
       "        if (!display || display === 'none') {{\n",
       "            console.log([gd, 'removed!']);\n",
       "            Plotly.purge(gd);\n",
       "            observer.disconnect();\n",
       "        }}\n",
       "}});\n",
       "\n",
       "// Listen for the removal of the full notebook cells\n",
       "var notebookContainer = gd.closest('#notebook-container');\n",
       "if (notebookContainer) {{\n",
       "    x.observe(notebookContainer, {childList: true});\n",
       "}}\n",
       "\n",
       "// Listen for the clearing of the current output cell\n",
       "var outputEl = gd.closest('.output');\n",
       "if (outputEl) {{\n",
       "    x.observe(outputEl, {childList: true});\n",
       "}}\n",
       "\n",
       "                        })                };                            </script>        </div>\n",
       "</body>\n",
       "</html>"
      ]
     },
     "metadata": {},
     "output_type": "display_data"
    },
    {
     "name": "stdout",
     "output_type": "stream",
     "text": [
      "Top 10:\n",
      "MO    38403\n",
      "AL    40989\n",
      "FL    42671\n",
      "IL    43252\n",
      "MI    46154\n",
      "OH    46480\n",
      "CA    56360\n",
      "PA    79847\n",
      "NY    83501\n",
      "TX    94876\n",
      "Name: state, dtype: int64\n",
      "********************\n",
      "Bottom 10:\n",
      "DE        9\n",
      "RI      550\n",
      "AK     2120\n",
      "HI     2559\n",
      "DC     3613\n",
      "ID     5545\n",
      "NV     5607\n",
      "CT     7702\n",
      "NH     8278\n",
      "UT    10699\n",
      "Name: state, dtype: int64\n",
      "****************************************************************************************************\n"
     ]
    },
    {
     "data": {
      "text/html": [
       "<html>\n",
       "<head><meta charset=\"utf-8\" /></head>\n",
       "<body>\n",
       "    <div>            <script src=\"https://cdnjs.cloudflare.com/ajax/libs/mathjax/2.7.5/MathJax.js?config=TeX-AMS-MML_SVG\"></script><script type=\"text/javascript\">if (window.MathJax) {MathJax.Hub.Config({SVG: {font: \"STIX-Web\"}});}</script>                <script type=\"text/javascript\">window.PlotlyConfig = {MathJaxConfig: 'local'};</script>\n",
       "        <script src=\"https://cdn.plot.ly/plotly-2.8.3.min.js\"></script>                <div id=\"c7903d5c-6399-4755-82ac-e3da7972fe8f\" class=\"plotly-graph-div\" style=\"height:1000px; width:1000px;\"></div>            <script type=\"text/javascript\">                                    window.PLOTLYENV=window.PLOTLYENV || {};                                    if (document.getElementById(\"c7903d5c-6399-4755-82ac-e3da7972fe8f\")) {                    Plotly.newPlot(                        \"c7903d5c-6399-4755-82ac-e3da7972fe8f\",                        [{\"alignmentgroup\":\"True\",\"hovertemplate\":\"Total Number of Occurrences=%{x}<br>job=%{y}<extra></extra>\",\"legendgroup\":\"\",\"marker\":{\"color\":\"#636efa\",\"pattern\":{\"shape\":\"\"}},\"name\":\"\",\"offsetgroup\":\"\",\"orientation\":\"h\",\"showlegend\":false,\"textposition\":\"auto\",\"x\":[7,7,7,8,8,8,9,9,10,11,11,11,12,12,12,14,15,17,19,485,492,493,496,496,498,499,504,504,505,506,508,508,509,510,510,510,511,512,513,514,514,515,516,517,518,518,518,518,518,519,519,519,519,520,520,523,524,525,527,530,530,531,533,533,533,533,534,534,535,536,536,536,537,538,540,540,545,998,1000,1001,1004,1007,1009,1009,1010,1011,1011,1012,1014,1015,1020,1023,1024,1025,1026,1027,1028,1028,1029,1030,1030,1031,1031,1033,1034,1036,1038,1038,1039,1039,1039,1041,1041,1041,1042,1042,1045,1045,1046,1049,1053,1054,1055,1058,1059,1060,1066,1069,1466,1471,1491,1497,1502,1505,1506,1517,1517,1519,1519,1519,1521,1522,1522,1526,1526,1527,1528,1530,1531,1535,1535,1535,1535,1537,1537,1540,1540,1542,1542,1542,1543,1545,1545,1547,1548,1549,1549,1551,1551,1553,1553,1553,1554,1554,1554,1555,1555,1559,1562,1562,1563,1565,1566,1566,1571,1572,1573,1574,1577,1578,1588,1979,1999,2001,2016,2016,2017,2018,2021,2023,2023,2024,2024,2024,2024,2025,2029,2030,2030,2032,2034,2034,2035,2038,2038,2038,2041,2043,2043,2043,2044,2046,2046,2048,2048,2049,2054,2055,2056,2057,2060,2063,2063,2065,2066,2067,2072,2072,2073,2073,2076,2077,2077,2080,2084,2086,2087,2088,2088,2089,2091,2092,2094,2098,2101,2102,2487,2498,2524,2524,2528,2530,2530,2530,2537,2538,2539,2545,2545,2547,2549,2554,2554,2554,2556,2557,2558,2559,2559,2559,2560,2560,2561,2561,2561,2562,2563,2564,2566,2567,2567,2571,2572,2574,2579,2579,2579,2579,2580,2580,2582,2589,2595,2596,2599,2601,2602,2605,2918,2961,2965,2994,2998,3005,3023,3023,3026,3030,3034,3039,3042,3043,3045,3049,3050,3051,3051,3053,3058,3064,3067,3071,3076,3080,3080,3083,3085,3085,3086,3087,3090,3094,3097,3100,3100,3101,3111,3120,3123,3130,3142,3526,3545,3545,3557,3558,3561,3564,3566,3573,3575,3575,3580,3581,3586,3590,3594,3595,3595,3595,3602,3603,3604,3604,3607,3612,3613,3617,3617,3633,3974,4033,4039,4059,4068,4071,4075,4077,4079,4088,4091,4095,4098,4102,4106,4112,4122,4125,4129,4130,4131,4136,4136,4138,4144,4150,4151,4167,4493,4517,4552,4576,4583,4586,4591,4594,4595,4602,4603,4606,4609,4632,4634,4641,4644,4649,4663,4673,4699,5086,5088,5089,5099,5118,5119,5120,5132,5135,5143,5161,5170,5179,5185,5203,5460,5476,5504,5517,5566,5600,5604,5609,5615,5620,5632,5634,5643,5646,5667,5668,5668,5693,5701,6049,6085,6118,6127,6151,6159,6164,6178,6178,6186,6205,6602,6635,6642,6653,6701,6730,7146,7172,7174,7210,7547,7659,7679,7700,8225,8270,8680,8684,9199,9779],\"xaxis\":\"x\",\"y\":[\"Warehouse manager\",\"Contracting civil engineer\",\"Ship broker\",\"Armed forces technical officer\",\"Veterinary surgeon\",\"Information officer\",\"Forest/woodland manager\",\"Broadcast journalist\",\"Industrial buyer\",\"Accountant, chartered\",\"Homeopath\",\"Solicitor\",\"Engineer, site\",\"Personnel officer\",\"Legal secretary\",\"Sales promotion account executive\",\"Careers adviser\",\"Air traffic controller\",\"Dancer\",\"Hydrogeologist\",\"Engineer, structural\",\"Producer, television/film/video\",\"English as a foreign language teacher\",\"Buyer, retail\",\"Tour manager\",\"Analytical chemist\",\"Writer\",\"Copy\",\"Purchasing manager\",\"Civil Service administrator\",\"Marketing executive\",\"Clinical cytogeneticist\",\"Interior and spatial designer\",\"Professor Emeritus\",\"Investment banker, operational\",\"Water quality scientist\",\"Nature conservation officer\",\"Education officer, community\",\"Primary school teacher\",\"Teacher, adult education\",\"Conservator, museum/gallery\",\"Hotel manager\",\"Data scientist\",\"Environmental manager\",\"Public relations officer\",\"Engineer, materials\",\"Air cabin crew\",\"Television camera operator\",\"Field trials officer\",\"Occupational therapist\",\"Artist\",\"Charity officer\",\"Textile designer\",\"Broadcast engineer\",\"Solicitor, Scotland\",\"Local government officer\",\"Catering manager\",\"Restaurant manager, fast food\",\"Oncologist\",\"Associate Professor\",\"Minerals surveyor\",\"Production assistant, television\",\"Magazine journalist\",\"TEFL teacher\",\"Surveyor, hydrographic\",\"Horticultural consultant\",\"Designer, television/film set\",\"Accountant, chartered certified\",\"Administrator, arts\",\"Community development worker\",\"Conservator, furniture\",\"Engineer, manufacturing\",\"Merchandiser, retail\",\"Estate manager/land agent\",\"Lawyer\",\"Engineer, civil (consulting)\",\"Geneticist, molecular\",\"Visual merchandiser\",\"Scientist, research (medical)\",\"Manufacturing systems engineer\",\"IT consultant\",\"Clinical psychologist\",\"Product manager\",\"Teacher, English as a foreign language\",\"Programmer, applications\",\"Research scientist (medical)\",\"Jewellery designer\",\"Chemist, analytical\",\"Loss adjuster, chartered\",\"Nurse, mental health\",\"Outdoor activities/education manager\",\"Chartered legal executive (England and Wales)\",\"Architectural technologist\",\"Civil Service fast streamer\",\"Ecologist\",\"Insurance claims handler\",\"Education administrator\",\"Art gallery manager\",\"Engineer, aeronautical\",\"Chief of Staff\",\"Cabin crew\",\"Advertising copywriter\",\"Production assistant, radio\",\"Engineer, building services\",\"Retail manager\",\"Air broker\",\"Environmental education officer\",\"Biochemist, clinical\",\"Hospital pharmacist\",\"Company secretary\",\"Presenter, broadcasting\",\"Stage manager\",\"Academic librarian\",\"Hydrographic surveyor\",\"Economist\",\"Pathologist\",\"Museum education officer\",\"Designer, textile\",\"Engineer, broadcasting (operations)\",\"Furniture conservator/restorer\",\"Designer, multimedia\",\"Scientist, clinical (histocompatibility and immunogenetics)\",\"Sports administrator\",\"Ambulance person\",\"Pharmacist, hospital\",\"Plant breeder/geneticist\",\"Medical technical officer\",\"Media planner\",\"Conservation officer, historic buildings\",\"Teacher, primary school\",\"Illustrator\",\"Location manager\",\"Chartered accountant\",\"Engineer, civil (contracting)\",\"Teaching laboratory technician\",\"Records manager\",\"Control and instrumentation engineer\",\"Quarry manager\",\"Rural practice surveyor\",\"Archivist\",\"Geophysicist/field seismologist\",\"Hydrologist\",\"Commissioning editor\",\"Engineer, maintenance\",\"Aeronautical engineer\",\"Public librarian\",\"Higher education careers adviser\",\"Armed forces logistics/support/administrative officer\",\"Management consultant\",\"Garment/textile technologist\",\"Mudlogger\",\"Production engineer\",\"Diagnostic radiographer\",\"Optometrist\",\"Building services engineer\",\"Physiological scientist\",\"Social research officer, government\",\"Therapist, music\",\"Environmental health practitioner\",\"Emergency planning/management officer\",\"Research scientist (maths)\",\"Set designer\",\"Interpreter\",\"Engineer, communications\",\"Field seismologist\",\"Equities trader\",\"Logistics and distribution manager\",\"Community pharmacist\",\"Training and development officer\",\"Psychiatric nurse\",\"Theatre director\",\"Network engineer\",\"Orthoptist\",\"Surveyor, mining\",\"Sales executive\",\"Theatre manager\",\"Learning mentor\",\"Psychologist, clinical\",\"Designer, interior/spatial\",\"Special effects artist\",\"Event organiser\",\"Pharmacologist\",\"Oceanographer\",\"Barista\",\"Embryologist, clinical\",\"Planning and development surveyor\",\"Advertising account executive\",\"Engineer, agricultural\",\"Acupuncturist\",\"Medical physicist\",\"Animator\",\"Health visitor\",\"Theme park manager\",\"General practice doctor\",\"Aid worker\",\"Engineer, technical sales\",\"Dance movement psychotherapist\",\"Civil engineer, contracting\",\"Information systems manager\",\"Corporate investment banker\",\"Medical secretary\",\"Volunteer coordinator\",\"Public affairs consultant\",\"Arts development officer\",\"Pharmacist, community\",\"Herpetologist\",\"Investment banker, corporate\",\"Research scientist (life sciences)\",\"Scientific laboratory technician\",\"Farm manager\",\"Biomedical engineer\",\"Horticulturist, commercial\",\"Health promotion specialist\",\"Cartographer\",\"Public house manager\",\"Community education officer\",\"Editor, magazine features\",\"Engineer, drilling\",\"Scientist, research (physical sciences)\",\"Furniture designer\",\"Animal technologist\",\"Retail banker\",\"Communications engineer\",\"Psychotherapist\",\"Architect\",\"Immigration officer\",\"Secretary/administrator\",\"Art therapist\",\"Therapist, drama\",\"Museum/gallery exhibitions officer\",\"Nutritional therapist\",\"Clinical biochemist\",\"Editor, film/video\",\"Sport and exercise psychologist\",\"Clinical research associate\",\"Politician's assistant\",\"Glass blower/designer\",\"Museum/gallery conservator\",\"Geologist, wellsite\",\"Psychiatrist\",\"Seismic interpreter\",\"Animal nutritionist\",\"Industrial/product designer\",\"Telecommunications researcher\",\"Landscape architect\",\"Psychologist, sport and exercise\",\"Scientist, physiological\",\"Pension scheme manager\",\"Charity fundraiser\",\"Retail buyer\",\"Airline pilot\",\"Chief Marketing Officer\",\"Horticultural therapist\",\"Transport planner\",\"Neurosurgeon\",\"Sports development officer\",\"Teacher, early years/pre\",\"Intelligence analyst\",\"Administrator, charities/voluntary organisations\",\"Surveyor, rural practice\",\"Therapist, horticultural\",\"Patent attorney\",\"Investment analyst\",\"Geochemist\",\"Tax adviser\",\"Waste management officer\",\"Armed forces training and education officer\",\"Product designer\",\"Paediatric nurse\",\"Engineer, petroleum\",\"Teacher, secondary school\",\"Doctor, hospital\",\"Therapist, art\",\"Maintenance engineer\",\"Web designer\",\"Mental health nurse\",\"Land\",\"Health service manager\",\"Fitness centre manager\",\"Optician, dispensing\",\"Bookseller\",\"Database administrator\",\"Building control surveyor\",\"Media buyer\",\"Chief Financial Officer\",\"Music therapist\",\"Police officer\",\"Therapist, sports\",\"Operational researcher\",\"Community arts worker\",\"Human resources officer\",\"Administrator, education\",\"Equality and diversity officer\",\"Tourism officer\",\"Health and safety adviser\",\"Soil scientist\",\"Programmer, multimedia\",\"Advice worker\",\"Chief Technology Officer\",\"Accountant, chartered public finance\",\"Doctor, general practice\",\"Nurse, children's\",\"Risk analyst\",\"Market researcher\",\"Statistician\",\"Wellsite geologist\",\"Osteopath\",\"Administrator, local government\",\"Energy manager\",\"Careers information officer\",\"Commercial/residential surveyor\",\"Lecturer, higher education\",\"Freight forwarder\",\"Gaffer\",\"Contractor\",\"Engineer, land\",\"Designer, exhibition/display\",\"Product/process development scientist\",\"Health physicist\",\"Music tutor\",\"Radiographer, diagnostic\",\"Chief Operating Officer\",\"Tax inspector\",\"Warden/ranger\",\"Commercial horticulturist\",\"Camera operator\",\"Barrister's clerk\",\"Development worker, international aid\",\"Manufacturing engineer\",\"Designer, furniture\",\"Production manager\",\"Press sub\",\"Licensed conveyancer\",\"Leisure centre manager\",\"Biomedical scientist\",\"Designer, jewellery\",\"Video editor\",\"Regulatory affairs officer\",\"Tourist information centre manager\",\"Electronics engineer\",\"Site engineer\",\"Occupational hygienist\",\"Journalist, newspaper\",\"Education officer, museum\",\"Phytotherapist\",\"Arboriculturist\",\"Producer, radio\",\"Geologist, engineering\",\"Metallurgist\",\"Television floor manager\",\"Tree surgeon\",\"Colour technologist\",\"Psychologist, counselling\",\"Amenity horticulturist\",\"Travel agency manager\",\"Structural engineer\",\"Private music teacher\",\"Research officer, trade union\",\"Heritage manager\",\"Hospital doctor\",\"Learning disability nurse\",\"Insurance broker\",\"Physicist, medical\",\"Call centre manager\",\"Lecturer, further education\",\"Operations geologist\",\"Chiropodist\",\"Retail merchandiser\",\"Systems analyst\",\"Engineer, mining\",\"Exercise physiologist\",\"Insurance risk surveyor\",\"Administrator\",\"Broadcast presenter\",\"Dispensing optician\",\"Engineer, electronics\",\"Research officer, political party\",\"Fisheries officer\",\"Forensic psychologist\",\"Editor, commissioning\",\"Facilities manager\",\"Public relations account executive\",\"Archaeologist\",\"Press photographer\",\"Radiographer, therapeutic\",\"Pilot, airline\",\"Development worker, community\",\"Herbalist\",\"Occupational psychologist\",\"Engineering geologist\",\"Lexicographer\",\"Child psychotherapist\",\"Curator\",\"Buyer, industrial\",\"Senior tax professional/tax inspector\",\"Probation officer\",\"Applications developer\",\"English as a second language teacher\",\"Designer, industrial/product\",\"Scientist, biomedical\",\"Further education lecturer\",\"Television/film/video producer\",\"Futures trader\",\"Surgeon\",\"Exhibitions officer, museum/gallery\",\"Programme researcher, broadcasting/film/video\",\"Town planner\",\"Advertising account planner\",\"Ceramics designer\",\"Educational psychologist\",\"Surveyor, minerals\",\"Therapist, occupational\",\"Radio broadcast assistant\",\"Engineer, control and instrumentation\",\"Race relations officer\",\"Teacher, special educational needs\",\"Fine artist\",\"Physiotherapist\",\"Chief Strategy Officer\",\"Radio producer\",\"Social researcher\",\"Engineer, production\",\"Toxicologist\",\"Trading standards officer\",\"Technical brewer\",\"Counselling psychologist\",\"Dealer\",\"Accounting technician\",\"Multimedia programmer\",\"Chemical engineer\",\"Cytogeneticist\",\"Scientist, marine\",\"Special educational needs teacher\",\"Television production assistant\",\"Trade mark attorney\",\"Engineer, biomedical\",\"Drilling engineer\",\"Chartered loss adjuster\",\"Medical sales representative\",\"Science writer\",\"Insurance underwriter\",\"Electrical engineer\",\"Research scientist (physical sciences)\",\"Librarian, academic\",\"Psychotherapist, child\",\"Psychologist, forensic\",\"Pensions consultant\",\"Sales professional, IT\",\"Early years teacher\",\"Firefighter\",\"Land/geomatics surveyor\",\"Secondary school teacher\",\"Counsellor\",\"Geoscientist\",\"Mechanical engineer\",\"Engineer, automotive\",\"Make\",\"Quantity surveyor\",\"Petroleum engineer\",\"Energy engineer\",\"Claims inspector/assessor\",\"Financial trader\",\"Prison officer\",\"Clothing/textile technologist\",\"Immunologist\",\"Audiological scientist\",\"Barrister\",\"Mining engineer\",\"Scientist, research (maths)\",\"Water engineer\",\"Musician\",\"Building surveyor\",\"Librarian, public\",\"Historic buildings inspector/conservation officer\",\"Magazine features editor\",\"Paramedic\",\"Agricultural consultant\",\"Podiatrist\",\"Sub\",\"Comptroller\",\"Copywriter, advertising\",\"Chief Executive Officer\",\"Scientist, audiological\",\"Chartered public finance accountant\",\"Environmental consultant\",\"Financial adviser\",\"IT trainer\",\"Systems developer\",\"Designer, ceramics/pottery\",\"Materials engineer\",\"Surveyor, land/geomatics\",\"Naval architect\",\"Exhibition designer\",\"Film/video editor\"],\"yaxis\":\"y\",\"type\":\"bar\"}],                        {\"template\":{\"data\":{\"bar\":[{\"error_x\":{\"color\":\"#2a3f5f\"},\"error_y\":{\"color\":\"#2a3f5f\"},\"marker\":{\"line\":{\"color\":\"#E5ECF6\",\"width\":0.5},\"pattern\":{\"fillmode\":\"overlay\",\"size\":10,\"solidity\":0.2}},\"type\":\"bar\"}],\"barpolar\":[{\"marker\":{\"line\":{\"color\":\"#E5ECF6\",\"width\":0.5},\"pattern\":{\"fillmode\":\"overlay\",\"size\":10,\"solidity\":0.2}},\"type\":\"barpolar\"}],\"carpet\":[{\"aaxis\":{\"endlinecolor\":\"#2a3f5f\",\"gridcolor\":\"white\",\"linecolor\":\"white\",\"minorgridcolor\":\"white\",\"startlinecolor\":\"#2a3f5f\"},\"baxis\":{\"endlinecolor\":\"#2a3f5f\",\"gridcolor\":\"white\",\"linecolor\":\"white\",\"minorgridcolor\":\"white\",\"startlinecolor\":\"#2a3f5f\"},\"type\":\"carpet\"}],\"choropleth\":[{\"colorbar\":{\"outlinewidth\":0,\"ticks\":\"\"},\"type\":\"choropleth\"}],\"contour\":[{\"colorbar\":{\"outlinewidth\":0,\"ticks\":\"\"},\"colorscale\":[[0.0,\"#0d0887\"],[0.1111111111111111,\"#46039f\"],[0.2222222222222222,\"#7201a8\"],[0.3333333333333333,\"#9c179e\"],[0.4444444444444444,\"#bd3786\"],[0.5555555555555556,\"#d8576b\"],[0.6666666666666666,\"#ed7953\"],[0.7777777777777778,\"#fb9f3a\"],[0.8888888888888888,\"#fdca26\"],[1.0,\"#f0f921\"]],\"type\":\"contour\"}],\"contourcarpet\":[{\"colorbar\":{\"outlinewidth\":0,\"ticks\":\"\"},\"type\":\"contourcarpet\"}],\"heatmap\":[{\"colorbar\":{\"outlinewidth\":0,\"ticks\":\"\"},\"colorscale\":[[0.0,\"#0d0887\"],[0.1111111111111111,\"#46039f\"],[0.2222222222222222,\"#7201a8\"],[0.3333333333333333,\"#9c179e\"],[0.4444444444444444,\"#bd3786\"],[0.5555555555555556,\"#d8576b\"],[0.6666666666666666,\"#ed7953\"],[0.7777777777777778,\"#fb9f3a\"],[0.8888888888888888,\"#fdca26\"],[1.0,\"#f0f921\"]],\"type\":\"heatmap\"}],\"heatmapgl\":[{\"colorbar\":{\"outlinewidth\":0,\"ticks\":\"\"},\"colorscale\":[[0.0,\"#0d0887\"],[0.1111111111111111,\"#46039f\"],[0.2222222222222222,\"#7201a8\"],[0.3333333333333333,\"#9c179e\"],[0.4444444444444444,\"#bd3786\"],[0.5555555555555556,\"#d8576b\"],[0.6666666666666666,\"#ed7953\"],[0.7777777777777778,\"#fb9f3a\"],[0.8888888888888888,\"#fdca26\"],[1.0,\"#f0f921\"]],\"type\":\"heatmapgl\"}],\"histogram\":[{\"marker\":{\"pattern\":{\"fillmode\":\"overlay\",\"size\":10,\"solidity\":0.2}},\"type\":\"histogram\"}],\"histogram2d\":[{\"colorbar\":{\"outlinewidth\":0,\"ticks\":\"\"},\"colorscale\":[[0.0,\"#0d0887\"],[0.1111111111111111,\"#46039f\"],[0.2222222222222222,\"#7201a8\"],[0.3333333333333333,\"#9c179e\"],[0.4444444444444444,\"#bd3786\"],[0.5555555555555556,\"#d8576b\"],[0.6666666666666666,\"#ed7953\"],[0.7777777777777778,\"#fb9f3a\"],[0.8888888888888888,\"#fdca26\"],[1.0,\"#f0f921\"]],\"type\":\"histogram2d\"}],\"histogram2dcontour\":[{\"colorbar\":{\"outlinewidth\":0,\"ticks\":\"\"},\"colorscale\":[[0.0,\"#0d0887\"],[0.1111111111111111,\"#46039f\"],[0.2222222222222222,\"#7201a8\"],[0.3333333333333333,\"#9c179e\"],[0.4444444444444444,\"#bd3786\"],[0.5555555555555556,\"#d8576b\"],[0.6666666666666666,\"#ed7953\"],[0.7777777777777778,\"#fb9f3a\"],[0.8888888888888888,\"#fdca26\"],[1.0,\"#f0f921\"]],\"type\":\"histogram2dcontour\"}],\"mesh3d\":[{\"colorbar\":{\"outlinewidth\":0,\"ticks\":\"\"},\"type\":\"mesh3d\"}],\"parcoords\":[{\"line\":{\"colorbar\":{\"outlinewidth\":0,\"ticks\":\"\"}},\"type\":\"parcoords\"}],\"pie\":[{\"automargin\":true,\"type\":\"pie\"}],\"scatter\":[{\"marker\":{\"colorbar\":{\"outlinewidth\":0,\"ticks\":\"\"}},\"type\":\"scatter\"}],\"scatter3d\":[{\"line\":{\"colorbar\":{\"outlinewidth\":0,\"ticks\":\"\"}},\"marker\":{\"colorbar\":{\"outlinewidth\":0,\"ticks\":\"\"}},\"type\":\"scatter3d\"}],\"scattercarpet\":[{\"marker\":{\"colorbar\":{\"outlinewidth\":0,\"ticks\":\"\"}},\"type\":\"scattercarpet\"}],\"scattergeo\":[{\"marker\":{\"colorbar\":{\"outlinewidth\":0,\"ticks\":\"\"}},\"type\":\"scattergeo\"}],\"scattergl\":[{\"marker\":{\"colorbar\":{\"outlinewidth\":0,\"ticks\":\"\"}},\"type\":\"scattergl\"}],\"scattermapbox\":[{\"marker\":{\"colorbar\":{\"outlinewidth\":0,\"ticks\":\"\"}},\"type\":\"scattermapbox\"}],\"scatterpolar\":[{\"marker\":{\"colorbar\":{\"outlinewidth\":0,\"ticks\":\"\"}},\"type\":\"scatterpolar\"}],\"scatterpolargl\":[{\"marker\":{\"colorbar\":{\"outlinewidth\":0,\"ticks\":\"\"}},\"type\":\"scatterpolargl\"}],\"scatterternary\":[{\"marker\":{\"colorbar\":{\"outlinewidth\":0,\"ticks\":\"\"}},\"type\":\"scatterternary\"}],\"surface\":[{\"colorbar\":{\"outlinewidth\":0,\"ticks\":\"\"},\"colorscale\":[[0.0,\"#0d0887\"],[0.1111111111111111,\"#46039f\"],[0.2222222222222222,\"#7201a8\"],[0.3333333333333333,\"#9c179e\"],[0.4444444444444444,\"#bd3786\"],[0.5555555555555556,\"#d8576b\"],[0.6666666666666666,\"#ed7953\"],[0.7777777777777778,\"#fb9f3a\"],[0.8888888888888888,\"#fdca26\"],[1.0,\"#f0f921\"]],\"type\":\"surface\"}],\"table\":[{\"cells\":{\"fill\":{\"color\":\"#EBF0F8\"},\"line\":{\"color\":\"white\"}},\"header\":{\"fill\":{\"color\":\"#C8D4E3\"},\"line\":{\"color\":\"white\"}},\"type\":\"table\"}]},\"layout\":{\"annotationdefaults\":{\"arrowcolor\":\"#2a3f5f\",\"arrowhead\":0,\"arrowwidth\":1},\"autotypenumbers\":\"strict\",\"coloraxis\":{\"colorbar\":{\"outlinewidth\":0,\"ticks\":\"\"}},\"colorscale\":{\"diverging\":[[0,\"#8e0152\"],[0.1,\"#c51b7d\"],[0.2,\"#de77ae\"],[0.3,\"#f1b6da\"],[0.4,\"#fde0ef\"],[0.5,\"#f7f7f7\"],[0.6,\"#e6f5d0\"],[0.7,\"#b8e186\"],[0.8,\"#7fbc41\"],[0.9,\"#4d9221\"],[1,\"#276419\"]],\"sequential\":[[0.0,\"#0d0887\"],[0.1111111111111111,\"#46039f\"],[0.2222222222222222,\"#7201a8\"],[0.3333333333333333,\"#9c179e\"],[0.4444444444444444,\"#bd3786\"],[0.5555555555555556,\"#d8576b\"],[0.6666666666666666,\"#ed7953\"],[0.7777777777777778,\"#fb9f3a\"],[0.8888888888888888,\"#fdca26\"],[1.0,\"#f0f921\"]],\"sequentialminus\":[[0.0,\"#0d0887\"],[0.1111111111111111,\"#46039f\"],[0.2222222222222222,\"#7201a8\"],[0.3333333333333333,\"#9c179e\"],[0.4444444444444444,\"#bd3786\"],[0.5555555555555556,\"#d8576b\"],[0.6666666666666666,\"#ed7953\"],[0.7777777777777778,\"#fb9f3a\"],[0.8888888888888888,\"#fdca26\"],[1.0,\"#f0f921\"]]},\"colorway\":[\"#636efa\",\"#EF553B\",\"#00cc96\",\"#ab63fa\",\"#FFA15A\",\"#19d3f3\",\"#FF6692\",\"#B6E880\",\"#FF97FF\",\"#FECB52\"],\"font\":{\"color\":\"#2a3f5f\"},\"geo\":{\"bgcolor\":\"white\",\"lakecolor\":\"white\",\"landcolor\":\"#E5ECF6\",\"showlakes\":true,\"showland\":true,\"subunitcolor\":\"white\"},\"hoverlabel\":{\"align\":\"left\"},\"hovermode\":\"closest\",\"mapbox\":{\"style\":\"light\"},\"paper_bgcolor\":\"white\",\"plot_bgcolor\":\"#E5ECF6\",\"polar\":{\"angularaxis\":{\"gridcolor\":\"white\",\"linecolor\":\"white\",\"ticks\":\"\"},\"bgcolor\":\"#E5ECF6\",\"radialaxis\":{\"gridcolor\":\"white\",\"linecolor\":\"white\",\"ticks\":\"\"}},\"scene\":{\"xaxis\":{\"backgroundcolor\":\"#E5ECF6\",\"gridcolor\":\"white\",\"gridwidth\":2,\"linecolor\":\"white\",\"showbackground\":true,\"ticks\":\"\",\"zerolinecolor\":\"white\"},\"yaxis\":{\"backgroundcolor\":\"#E5ECF6\",\"gridcolor\":\"white\",\"gridwidth\":2,\"linecolor\":\"white\",\"showbackground\":true,\"ticks\":\"\",\"zerolinecolor\":\"white\"},\"zaxis\":{\"backgroundcolor\":\"#E5ECF6\",\"gridcolor\":\"white\",\"gridwidth\":2,\"linecolor\":\"white\",\"showbackground\":true,\"ticks\":\"\",\"zerolinecolor\":\"white\"}},\"shapedefaults\":{\"line\":{\"color\":\"#2a3f5f\"}},\"ternary\":{\"aaxis\":{\"gridcolor\":\"white\",\"linecolor\":\"white\",\"ticks\":\"\"},\"baxis\":{\"gridcolor\":\"white\",\"linecolor\":\"white\",\"ticks\":\"\"},\"bgcolor\":\"#E5ECF6\",\"caxis\":{\"gridcolor\":\"white\",\"linecolor\":\"white\",\"ticks\":\"\"}},\"title\":{\"x\":0.05},\"xaxis\":{\"automargin\":true,\"gridcolor\":\"white\",\"linecolor\":\"white\",\"ticks\":\"\",\"title\":{\"standoff\":15},\"zerolinecolor\":\"white\",\"zerolinewidth\":2},\"yaxis\":{\"automargin\":true,\"gridcolor\":\"white\",\"linecolor\":\"white\",\"ticks\":\"\",\"title\":{\"standoff\":15},\"zerolinecolor\":\"white\",\"zerolinewidth\":2}}},\"xaxis\":{\"anchor\":\"y\",\"domain\":[0.0,1.0],\"title\":{\"text\":\"Total Number of Occurrences\"}},\"yaxis\":{\"anchor\":\"x\",\"domain\":[0.0,1.0],\"title\":{\"text\":\"job\"}},\"legend\":{\"tracegroupgap\":0},\"title\":{\"text\":\"job Distribution\"},\"barmode\":\"relative\",\"height\":1000,\"width\":1000},                        {\"responsive\": true}                    ).then(function(){\n",
       "                            \n",
       "var gd = document.getElementById('c7903d5c-6399-4755-82ac-e3da7972fe8f');\n",
       "var x = new MutationObserver(function (mutations, observer) {{\n",
       "        var display = window.getComputedStyle(gd).display;\n",
       "        if (!display || display === 'none') {{\n",
       "            console.log([gd, 'removed!']);\n",
       "            Plotly.purge(gd);\n",
       "            observer.disconnect();\n",
       "        }}\n",
       "}});\n",
       "\n",
       "// Listen for the removal of the full notebook cells\n",
       "var notebookContainer = gd.closest('#notebook-container');\n",
       "if (notebookContainer) {{\n",
       "    x.observe(notebookContainer, {childList: true});\n",
       "}}\n",
       "\n",
       "// Listen for the clearing of the current output cell\n",
       "var outputEl = gd.closest('.output');\n",
       "if (outputEl) {{\n",
       "    x.observe(outputEl, {childList: true});\n",
       "}}\n",
       "\n",
       "                        })                };                            </script>        </div>\n",
       "</body>\n",
       "</html>"
      ]
     },
     "metadata": {},
     "output_type": "display_data"
    },
    {
     "name": "stdout",
     "output_type": "stream",
     "text": [
      "Top 10:\n",
      "Environmental consultant      7547\n",
      "Financial adviser             7659\n",
      "IT trainer                    7679\n",
      "Systems developer             7700\n",
      "Designer, ceramics/pottery    8225\n",
      "Materials engineer            8270\n",
      "Surveyor, land/geomatics      8680\n",
      "Naval architect               8684\n",
      "Exhibition designer           9199\n",
      "Film/video editor             9779\n",
      "Name: job, dtype: int64\n",
      "********************\n",
      "Bottom 10:\n",
      "Warehouse manager                  7\n",
      "Contracting civil engineer         7\n",
      "Ship broker                        7\n",
      "Armed forces technical officer     8\n",
      "Veterinary surgeon                 8\n",
      "Information officer                8\n",
      "Forest/woodland manager            9\n",
      "Broadcast journalist               9\n",
      "Industrial buyer                  10\n",
      "Accountant, chartered             11\n",
      "Name: job, dtype: int64\n",
      "****************************************************************************************************\n"
     ]
    }
   ],
   "source": [
    "# Create a for loop\n",
    "for column in categorical_columns:\n",
    "\n",
    "  categorical_column = cc_trans_df[column]\n",
    "\n",
    "  categorical_column_value_counts = categorical_column.value_counts().sort_values(ascending=True)\n",
    "\n",
    "  fig = px.bar(categorical_column_value_counts, y=categorical_column_value_counts.index, x=categorical_column_value_counts.values, \n",
    "             orientation='h',\n",
    "             labels={'x': 'Total Number of Occurrences', 'index':f\"{column}\"},\n",
    "             title=f\"{column} Distribution\",\n",
    "             width=1000, height=1000)\n",
    "\n",
    "  fig.show()\n",
    "\n",
    "  # Print Count for Each Category\n",
    "  print('Top 10:')\n",
    "  print(categorical_column_value_counts.tail(10))\n",
    "  print(\"*\"*20)\n",
    "  print('Bottom 10:')\n",
    "  print(categorical_column_value_counts.head(10))\n",
    "  print(\"*\"*100)"
   ]
  },
  {
   "cell_type": "markdown",
   "metadata": {
    "id": "hY6UZ90wXirV"
   },
   "source": [
    "### Findings From Categorical Columns\n",
    "\n",
    "There are a few merchants that are frequently used by the customers in the dataset. The category with the highest number of occurrence is transactions on gas under the transport category, followed by groceries, using the POS machine. There are a few common first and last names (like Christopher, Robert, Jessica, James, Smith, Williams, etc.) within the dataset. \n",
    "\n",
    "It also looks like females tend to make more transactions than men. There are a few street addresses and cities that have more occurrences than others. In this dataset, the top 5 states with the highest number of transaction occurrence is Texas, New York, Pennsylvania, California, and Ohio.\n",
    "\n",
    "The top 5 job titles with the highest number of transaction occurrence is film/video editor, exhibition designer, naval architect, surveyor, and materials engineer. These jobs seem to require materials/props/artwork/equipment so it makes sens that they are the top 5.\n",
    "\n",
    "\n",
    "\n",
    "\n",
    "---\n",
    "\n",
    "\n",
    "\n",
    "\n"
   ]
  },
  {
   "cell_type": "markdown",
   "metadata": {
    "id": "PGqaEZG4YGMg"
   },
   "source": [
    "## Univariate Analysis - Numeric Variables\n",
    "\n",
    "\n",
    "Now that I have seen how the categorical variables are distributed and how much each variable occurs. I want to also explore all the numeric variables to observe how each numerical column is distributed."
   ]
  },
  {
   "cell_type": "code",
   "execution_count": 46,
   "metadata": {
    "colab": {
     "base_uri": "https://localhost:8080/"
    },
    "executionInfo": {
     "elapsed": 2,
     "status": "ok",
     "timestamp": 1659822288067,
     "user": {
      "displayName": "Tolu O.",
      "userId": "04888393322604891463"
     },
     "user_tz": 240
    },
    "id": "wiazs7_RXT8K",
    "outputId": "3ae76c3c-8c25-4036-ad94-f00d392e33c0"
   },
   "outputs": [
    {
     "data": {
      "text/plain": [
       "(1296675, 10)"
      ]
     },
     "execution_count": 46,
     "metadata": {},
     "output_type": "execute_result"
    }
   ],
   "source": [
    "# saving the numeric columns in one dataframe\n",
    "\n",
    "numeric_df = cc_trans_df.select_dtypes(['float', 'int'])\n",
    "numeric_df.shape"
   ]
  },
  {
   "cell_type": "code",
   "execution_count": 48,
   "metadata": {
    "colab": {
     "base_uri": "https://localhost:8080/",
     "height": 1000
    },
    "executionInfo": {
     "elapsed": 2624,
     "status": "ok",
     "timestamp": 1659822697367,
     "user": {
      "displayName": "Tolu O.",
      "userId": "04888393322604891463"
     },
     "user_tz": 240
    },
    "id": "hSofsveaYmAz",
    "outputId": "71405ed8-ea00-4457-b639-2eb2935b8c2a"
   },
   "outputs": [
    {
     "data": {
      "image/png": "[encoded data removed]",
      "text/plain": [
       "<Figure size 720x360 with 1 Axes>"
      ]
     },
     "metadata": {
      "needs_background": "light"
     },
     "output_type": "display_data"
    },
    {
     "data": {
      "image/png": "[encoded data removed]",
      "text/plain": [
       "<Figure size 720x360 with 1 Axes>"
      ]
     },
     "metadata": {
      "needs_background": "light"
     },
     "output_type": "display_data"
    },
    {
     "data": {
      "image/png": "[encoded data removed]",
      "text/plain": [
       "<Figure size 720x360 with 1 Axes>"
      ]
     },
     "metadata": {
      "needs_background": "light"
     },
     "output_type": "display_data"
    },
    {
     "data": {
      "image/png": "[encoded data removed]",
      "text/plain": [
       "<Figure size 720x360 with 1 Axes>"
      ]
     },
     "metadata": {
      "needs_background": "light"
     },
     "output_type": "display_data"
    },
    {
     "data": {
      "image/png": "[encoded data removed]",
      "text/plain": [
       "<Figure size 720x360 with 1 Axes>"
      ]
     },
     "metadata": {
      "needs_background": "light"
     },
     "output_type": "display_data"
    },
    {
     "data": {
      "image/png": "[encoded data removed]",
      "text/plain": [
       "<Figure size 720x360 with 1 Axes>"
      ]
     },
     "metadata": {
      "needs_background": "light"
     },
     "output_type": "display_data"
    },
    {
     "data": {
      "image/png": "[encoded data removed]",
      "text/plain": [
       "<Figure size 720x360 with 1 Axes>"
      ]
     },
     "metadata": {
      "needs_background": "light"
     },
     "output_type": "display_data"
    },
    {
     "data": {
      "image/png": "[encoded data removed]",
      "text/plain": [
       "<Figure size 720x360 with 1 Axes>"
      ]
     },
     "metadata": {
      "needs_background": "light"
     },
     "output_type": "display_data"
    },
    {
     "data": {
      "image/png": "[encoded data removed]",
      "text/plain": [
       "<Figure size 720x360 with 1 Axes>"
      ]
     },
     "metadata": {
      "needs_background": "light"
     },
     "output_type": "display_data"
    },
    {
     "data": {
      "image/png": "[encoded data removed]",
      "text/plain": [
       "<Figure size 720x360 with 1 Axes>"
      ]
     },
     "metadata": {
      "needs_background": "light"
     },
     "output_type": "display_data"
    }
   ],
   "source": [
    "# Plot the distributions for the numeric variables\n",
    "for column in numeric_df:\n",
    "\n",
    "  numeric_column = numeric_df[column]\n",
    "\n",
    "  # Plot\n",
    "  plt.figure(figsize=(10,5))\n",
    "  plt.hist(numeric_column, bins = 20)\n",
    "  plt.title(f\"{column} Distribution\")\n",
    "  plt.show()"
   ]
  },
  {
   "cell_type": "code",
   "execution_count": 49,
   "metadata": {
    "colab": {
     "base_uri": "https://localhost:8080/",
     "height": 363
    },
    "executionInfo": {
     "elapsed": 1074,
     "status": "ok",
     "timestamp": 1659822880260,
     "user": {
      "displayName": "Tolu O.",
      "userId": "04888393322604891463"
     },
     "user_tz": 240
    },
    "id": "ifw02ysSMcL6",
    "outputId": "fa1b5d9c-0a7c-4fb4-8de5-9967fd8033f0"
   },
   "outputs": [
    {
     "data": {
      "text/html": [
       "\n",
       "  <div id=\"df-bd052e70-57eb-4289-bf76-a97f4d9d51eb\">\n",
       "    <div class=\"colab-df-container\">\n",
       "      <div>\n",
       "<style scoped>\n",
       "    .dataframe tbody tr th:only-of-type {\n",
       "        vertical-align: middle;\n",
       "    }\n",
       "\n",
       "    .dataframe tbody tr th {\n",
       "        vertical-align: top;\n",
       "    }\n",
       "\n",
       "    .dataframe thead th {\n",
       "        text-align: right;\n",
       "    }\n",
       "</style>\n",
       "<table border=\"1\" class=\"dataframe\">\n",
       "  <thead>\n",
       "    <tr style=\"text-align: right;\">\n",
       "      <th></th>\n",
       "      <th>cc_num</th>\n",
       "      <th>amt</th>\n",
       "      <th>zip</th>\n",
       "      <th>lat</th>\n",
       "      <th>long</th>\n",
       "      <th>city_pop</th>\n",
       "      <th>unix_time</th>\n",
       "      <th>merch_lat</th>\n",
       "      <th>merch_long</th>\n",
       "      <th>is_fraud</th>\n",
       "    </tr>\n",
       "  </thead>\n",
       "  <tbody>\n",
       "    <tr>\n",
       "      <th>cc_num</th>\n",
       "      <td>1.000000</td>\n",
       "      <td>0.001769</td>\n",
       "      <td>0.041459</td>\n",
       "      <td>-0.059271</td>\n",
       "      <td>-0.048278</td>\n",
       "      <td>-0.008991</td>\n",
       "      <td>0.000354</td>\n",
       "      <td>-0.058942</td>\n",
       "      <td>-0.048252</td>\n",
       "      <td>-0.000981</td>\n",
       "    </tr>\n",
       "    <tr>\n",
       "      <th>amt</th>\n",
       "      <td>0.001769</td>\n",
       "      <td>1.000000</td>\n",
       "      <td>0.001843</td>\n",
       "      <td>-0.001926</td>\n",
       "      <td>-0.000187</td>\n",
       "      <td>0.005818</td>\n",
       "      <td>-0.000293</td>\n",
       "      <td>-0.001873</td>\n",
       "      <td>-0.000151</td>\n",
       "      <td>0.219404</td>\n",
       "    </tr>\n",
       "    <tr>\n",
       "      <th>zip</th>\n",
       "      <td>0.041459</td>\n",
       "      <td>0.001843</td>\n",
       "      <td>1.000000</td>\n",
       "      <td>-0.114290</td>\n",
       "      <td>-0.909732</td>\n",
       "      <td>0.078467</td>\n",
       "      <td>0.000670</td>\n",
       "      <td>-0.113561</td>\n",
       "      <td>-0.908924</td>\n",
       "      <td>-0.002162</td>\n",
       "    </tr>\n",
       "    <tr>\n",
       "      <th>lat</th>\n",
       "      <td>-0.059271</td>\n",
       "      <td>-0.001926</td>\n",
       "      <td>-0.114290</td>\n",
       "      <td>1.000000</td>\n",
       "      <td>-0.015533</td>\n",
       "      <td>-0.155730</td>\n",
       "      <td>0.000632</td>\n",
       "      <td>0.993592</td>\n",
       "      <td>-0.015509</td>\n",
       "      <td>0.001894</td>\n",
       "    </tr>\n",
       "    <tr>\n",
       "      <th>long</th>\n",
       "      <td>-0.048278</td>\n",
       "      <td>-0.000187</td>\n",
       "      <td>-0.909732</td>\n",
       "      <td>-0.015533</td>\n",
       "      <td>1.000000</td>\n",
       "      <td>-0.052715</td>\n",
       "      <td>-0.000642</td>\n",
       "      <td>-0.015452</td>\n",
       "      <td>0.999120</td>\n",
       "      <td>0.001721</td>\n",
       "    </tr>\n",
       "    <tr>\n",
       "      <th>city_pop</th>\n",
       "      <td>-0.008991</td>\n",
       "      <td>0.005818</td>\n",
       "      <td>0.078467</td>\n",
       "      <td>-0.155730</td>\n",
       "      <td>-0.052715</td>\n",
       "      <td>1.000000</td>\n",
       "      <td>-0.001714</td>\n",
       "      <td>-0.154781</td>\n",
       "      <td>-0.052687</td>\n",
       "      <td>0.002136</td>\n",
       "    </tr>\n",
       "    <tr>\n",
       "      <th>unix_time</th>\n",
       "      <td>0.000354</td>\n",
       "      <td>-0.000293</td>\n",
       "      <td>0.000670</td>\n",
       "      <td>0.000632</td>\n",
       "      <td>-0.000642</td>\n",
       "      <td>-0.001714</td>\n",
       "      <td>1.000000</td>\n",
       "      <td>0.000561</td>\n",
       "      <td>-0.000635</td>\n",
       "      <td>-0.005078</td>\n",
       "    </tr>\n",
       "    <tr>\n",
       "      <th>merch_lat</th>\n",
       "      <td>-0.058942</td>\n",
       "      <td>-0.001873</td>\n",
       "      <td>-0.113561</td>\n",
       "      <td>0.993592</td>\n",
       "      <td>-0.015452</td>\n",
       "      <td>-0.154781</td>\n",
       "      <td>0.000561</td>\n",
       "      <td>1.000000</td>\n",
       "      <td>-0.015431</td>\n",
       "      <td>0.001741</td>\n",
       "    </tr>\n",
       "    <tr>\n",
       "      <th>merch_long</th>\n",
       "      <td>-0.048252</td>\n",
       "      <td>-0.000151</td>\n",
       "      <td>-0.908924</td>\n",
       "      <td>-0.015509</td>\n",
       "      <td>0.999120</td>\n",
       "      <td>-0.052687</td>\n",
       "      <td>-0.000635</td>\n",
       "      <td>-0.015431</td>\n",
       "      <td>1.000000</td>\n",
       "      <td>0.001721</td>\n",
       "    </tr>\n",
       "    <tr>\n",
       "      <th>is_fraud</th>\n",
       "      <td>-0.000981</td>\n",
       "      <td>0.219404</td>\n",
       "      <td>-0.002162</td>\n",
       "      <td>0.001894</td>\n",
       "      <td>0.001721</td>\n",
       "      <td>0.002136</td>\n",
       "      <td>-0.005078</td>\n",
       "      <td>0.001741</td>\n",
       "      <td>0.001721</td>\n",
       "      <td>1.000000</td>\n",
       "    </tr>\n",
       "  </tbody>\n",
       "</table>\n",
       "</div>\n",
       "      <button class=\"colab-df-convert\" onclick=\"convertToInteractive('df-bd052e70-57eb-4289-bf76-a97f4d9d51eb')\"\n",
       "              title=\"Convert this dataframe to an interactive table.\"\n",
       "              style=\"display:none;\">\n",
       "        \n",
       "  <svg xmlns=\"http://www.w3.org/2000/svg\" height=\"24px\"viewBox=\"0 0 24 24\"\n",
       "       width=\"24px\">\n",
       "    <path d=\"M0 0h24v24H0V0z\" fill=\"none\"/>\n",
       "    <path d=\"M18.56 5.44l.94 2.06.94-2.06 2.06-.94-2.06-.94-.94-2.06-.94 2.06-2.06.94zm-11 1L8.5 8.5l.94-2.06 2.06-.94-2.06-.94L8.5 2.5l-.94 2.06-2.06.94zm10 10l.94 2.06.94-2.06 2.06-.94-2.06-.94-.94-2.06-.94 2.06-2.06.94z\"/><path d=\"M17.41 7.96l-1.37-1.37c-.4-.4-.92-.59-1.43-.59-.52 0-1.04.2-1.43.59L10.3 9.45l-7.72 7.72c-.78.78-.78 2.05 0 2.83L4 21.41c.39.39.9.59 1.41.59.51 0 1.02-.2 1.41-.59l7.78-7.78 2.81-2.81c.8-.78.8-2.07 0-2.86zM5.41 20L4 18.59l7.72-7.72 1.47 1.35L5.41 20z\"/>\n",
       "  </svg>\n",
       "      </button>\n",
       "      \n",
       "  <style>\n",
       "    .colab-df-container {\n",
       "      display:flex;\n",
       "      flex-wrap:wrap;\n",
       "      gap: 12px;\n",
       "    }\n",
       "\n",
       "    .colab-df-convert {\n",
       "      background-color: #E8F0FE;\n",
       "      border: none;\n",
       "      border-radius: 50%;\n",
       "      cursor: pointer;\n",
       "      display: none;\n",
       "      fill: #1967D2;\n",
       "      height: 32px;\n",
       "      padding: 0 0 0 0;\n",
       "      width: 32px;\n",
       "    }\n",
       "\n",
       "    .colab-df-convert:hover {\n",
       "      background-color: #E2EBFA;\n",
       "      box-shadow: 0px 1px 2px rgba(60, 64, 67, 0.3), 0px 1px 3px 1px rgba(60, 64, 67, 0.15);\n",
       "      fill: #174EA6;\n",
       "    }\n",
       "\n",
       "    [theme=dark] .colab-df-convert {\n",
       "      background-color: #3B4455;\n",
       "      fill: #D2E3FC;\n",
       "    }\n",
       "\n",
       "    [theme=dark] .colab-df-convert:hover {\n",
       "      background-color: #434B5C;\n",
       "      box-shadow: 0px 1px 3px 1px rgba(0, 0, 0, 0.15);\n",
       "      filter: drop-shadow(0px 1px 2px rgba(0, 0, 0, 0.3));\n",
       "      fill: #FFFFFF;\n",
       "    }\n",
       "  </style>\n",
       "\n",
       "      <script>\n",
       "        const buttonEl =\n",
       "          document.querySelector('#df-bd052e70-57eb-4289-bf76-a97f4d9d51eb button.colab-df-convert');\n",
       "        buttonEl.style.display =\n",
       "          google.colab.kernel.accessAllowed ? 'block' : 'none';\n",
       "\n",
       "        async function convertToInteractive(key) {\n",
       "          const element = document.querySelector('#df-bd052e70-57eb-4289-bf76-a97f4d9d51eb');\n",
       "          const dataTable =\n",
       "            await google.colab.kernel.invokeFunction('convertToInteractive',\n",
       "                                                     [key], {});\n",
       "          if (!dataTable) return;\n",
       "\n",
       "          const docLinkHtml = 'Like what you see? Visit the ' +\n",
       "            '<a target=\"_blank\" href=https://colab.research.google.com/notebooks/data_table.ipynb>data table notebook</a>'\n",
       "            + ' to learn more about interactive tables.';\n",
       "          element.innerHTML = '';\n",
       "          dataTable['output_type'] = 'display_data';\n",
       "          await google.colab.output.renderOutput(dataTable, element);\n",
       "          const docLink = document.createElement('div');\n",
       "          docLink.innerHTML = docLinkHtml;\n",
       "          element.appendChild(docLink);\n",
       "        }\n",
       "      </script>\n",
       "    </div>\n",
       "  </div>\n",
       "  "
      ],
      "text/plain": [
       "              cc_num       amt       zip       lat      long  city_pop  \\\n",
       "cc_num      1.000000  0.001769  0.041459 -0.059271 -0.048278 -0.008991   \n",
       "amt         0.001769  1.000000  0.001843 -0.001926 -0.000187  0.005818   \n",
       "zip         0.041459  0.001843  1.000000 -0.114290 -0.909732  0.078467   \n",
       "lat        -0.059271 -0.001926 -0.114290  1.000000 -0.015533 -0.155730   \n",
       "long       -0.048278 -0.000187 -0.909732 -0.015533  1.000000 -0.052715   \n",
       "city_pop   -0.008991  0.005818  0.078467 -0.155730 -0.052715  1.000000   \n",
       "unix_time   0.000354 -0.000293  0.000670  0.000632 -0.000642 -0.001714   \n",
       "merch_lat  -0.058942 -0.001873 -0.113561  0.993592 -0.015452 -0.154781   \n",
       "merch_long -0.048252 -0.000151 -0.908924 -0.015509  0.999120 -0.052687   \n",
       "is_fraud   -0.000981  0.219404 -0.002162  0.001894  0.001721  0.002136   \n",
       "\n",
       "            unix_time  merch_lat  merch_long  is_fraud  \n",
       "cc_num       0.000354  -0.058942   -0.048252 -0.000981  \n",
       "amt         -0.000293  -0.001873   -0.000151  0.219404  \n",
       "zip          0.000670  -0.113561   -0.908924 -0.002162  \n",
       "lat          0.000632   0.993592   -0.015509  0.001894  \n",
       "long        -0.000642  -0.015452    0.999120  0.001721  \n",
       "city_pop    -0.001714  -0.154781   -0.052687  0.002136  \n",
       "unix_time    1.000000   0.000561   -0.000635 -0.005078  \n",
       "merch_lat    0.000561   1.000000   -0.015431  0.001741  \n",
       "merch_long  -0.000635  -0.015431    1.000000  0.001721  \n",
       "is_fraud    -0.005078   0.001741    0.001721  1.000000  "
      ]
     },
     "execution_count": 49,
     "metadata": {},
     "output_type": "execute_result"
    }
   ],
   "source": [
    "# Check to see if there are any correlations with the numeric variables\n",
    "\n",
    "numeric_df.corr()"
   ]
  },
  {
   "cell_type": "markdown",
   "metadata": {
    "id": "5zt6GWu0jErd"
   },
   "source": [
    "There is some correlation with the amount of transaction and if the transaction is fraudulent or not. There is also correlation between the latitude and longitude of the customer and the latitude and longitude of the merchant store. Which makes sense if the customer's credit card is used in close proximity to their location. There is correlation with the different columns representing location.\n",
    "\n",
    "---"
   ]
  },
  {
   "cell_type": "markdown",
   "metadata": {
    "id": "VadHWuy6iw5y"
   },
   "source": [
    "Now that I have observed the distribution of the numeric variables, I want to observe the relationship between the features (every column except the `is_fraud` column) and the target (the `is_fraud` column). I will do this by performing bivariate analysis."
   ]
  },
  {
   "cell_type": "markdown",
   "metadata": {
    "id": "iS4pWPKqbkmo"
   },
   "source": [
    "## Bi-variate Analysis"
   ]
  },
  {
   "cell_type": "code",
   "execution_count": null,
   "metadata": {
    "executionInfo": {
     "elapsed": 11,
     "status": "aborted",
     "timestamp": 1659819958433,
     "user": {
      "displayName": "Tolu O.",
      "userId": "04888393322604891463"
     },
     "user_tz": 240
    },
    "id": "s1hlGv6SbjAb"
   },
   "outputs": [],
   "source": [
    "# Get the average of each column for fraudulent and non-fraudulent transactions\n",
    "\n",
    "cc_trans_df.groupby('is_fraud').mean()"
   ]
  },
  {
   "cell_type": "markdown",
   "metadata": {
    "id": "f2cPZAbRd4dQ"
   },
   "source": [
    "**Potential Insights from Bi-variate Analysis**\n",
    "- There is a clear difference in the mean of the `amt` column for class 0 and class 1. The mean of the amount of transaction is significantly higher for fraudulent transactions than non-fraudulent transactions. \n",
    "- The average amount of transactions for non-fraudulent transactions is $≈$ $67.\n",
    "\n",
    "- The average amount of transactions for fraudulent transactions is $\\approx$ $531. \n",
    "\n",
    "So there is a $464 difference in the average transaction amount for fraudulent and non-fraudulent transactions.\n",
    "\n",
    "- There also seems to be a difference in the average city population for both classes with a higher average city population for the fraudulent class then the non-fraudulent class. This could mean that cities with higher city populations tend to have more cases of fraudulent transactions."
   ]
  },
  {
   "cell_type": "markdown",
   "metadata": {
    "id": "lu56xtnIoQN3"
   },
   "source": [
    "**The next thing I did was to look at the percentage of fraudulent and non-fraudulent transactions for each category, to see which categories have more occurrences of fraud.**\n",
    "\n",
    "To do this, I grouped the dataframe by `category` and `is_fraud` column, and divided that by grouping the counts of just the `category` column."
   ]
  },
  {
   "cell_type": "code",
   "execution_count": null,
   "metadata": {
    "executionInfo": {
     "elapsed": 11,
     "status": "aborted",
     "timestamp": 1659819958433,
     "user": {
      "displayName": "Tolu O.",
      "userId": "04888393322604891463"
     },
     "user_tz": 240
    },
    "id": "j-4_wrK8en3S"
   },
   "outputs": [],
   "source": [
    "# Find percentage of fraudulent and non-fraudulent transactions for each category\n",
    "\n",
    "percentage_fraud_category = cc_trans_df.groupby(['category', 'is_fraud']).count()['amt'] / cc_trans_df.groupby('category').count()['amt']\n",
    "percentage_fraud_category"
   ]
  },
  {
   "cell_type": "markdown",
   "metadata": {
    "id": "vo_zV7IEoqwz"
   },
   "source": [
    "This was hard to read, so I unstacked it and sorted the values for class 1 in descending order."
   ]
  },
  {
   "cell_type": "code",
   "execution_count": null,
   "metadata": {
    "executionInfo": {
     "elapsed": 12,
     "status": "aborted",
     "timestamp": 1659819958434,
     "user": {
      "displayName": "Tolu O.",
      "userId": "04888393322604891463"
     },
     "user_tz": 240
    },
    "id": "YYbJ4tird1u1"
   },
   "outputs": [],
   "source": [
    "# Unstack to make it readable\n",
    "percentage_fraud_category.unstack().sort_values(by=1, ascending=False)"
   ]
  },
  {
   "cell_type": "code",
   "execution_count": null,
   "metadata": {
    "executionInfo": {
     "elapsed": 12,
     "status": "aborted",
     "timestamp": 1659819958434,
     "user": {
      "displayName": "Tolu O.",
      "userId": "04888393322604891463"
     },
     "user_tz": 240
    },
    "id": "AZblPGtxg8tL"
   },
   "outputs": [],
   "source": [
    "# To see it in percentage clearly\n",
    "\n",
    "unstacked_pct_fraud_category = percentage_fraud_category.unstack().sort_values(by=1, ascending=False)*100\n",
    "unstacked_pct_fraud_category"
   ]
  },
  {
   "cell_type": "markdown",
   "metadata": {
    "id": "IH5MdwSMpkMC"
   },
   "source": [
    "Next, I plotted this to make it easier to visualize the categories with the highest percentage of fraudulent transactions. Earlier on, I calculated the percentage of fraudulent transactions in the data, which was 0.6%. \n",
    "\n",
    "I added a vertical line at 0.6% to see which categories pass the overall percentage of fraudulent transactions in the dataset."
   ]
  },
  {
   "cell_type": "code",
   "execution_count": null,
   "metadata": {
    "executionInfo": {
     "elapsed": 12,
     "status": "aborted",
     "timestamp": 1659819958434,
     "user": {
      "displayName": "Tolu O.",
      "userId": "04888393322604891463"
     },
     "user_tz": 240
    },
    "id": "u35vzr_7fKx-"
   },
   "outputs": [],
   "source": [
    "# Plot just for the category column with percentage of fraudulent transactions\n",
    "plt.figure(figsize=(15,5))\n",
    "plt.barh(unstacked_pct_fraud_category.index,\n",
    "         unstacked_pct_fraud_category[1])\n",
    "\n",
    "plt.axvline(0.6, c=\"red\", label=\"Average Fraudulent Rate(%)\")\n",
    "plt.xlim(0,2)\n",
    "\n",
    "plt.title(\"Percent of Fraudulent Transactions Based on the Category of the Purchase\")\n",
    "plt.xlabel(\"Percentage of Fraudulent Transactions (%)\")\n",
    "plt.ylabel(\"Category\")\n",
    "\n",
    "plt.legend()\n",
    "plt.show()"
   ]
  },
  {
   "cell_type": "code",
   "execution_count": null,
   "metadata": {
    "executionInfo": {
     "elapsed": 11,
     "status": "aborted",
     "timestamp": 1659819958434,
     "user": {
      "displayName": "Tolu O.",
      "userId": "04888393322604891463"
     },
     "user_tz": 240
    },
    "id": "ZADT4pI1gXLs"
   },
   "outputs": [],
   "source": [
    "# For all categorical columns\n",
    "\n",
    "for column in categorical_columns:\n",
    "  if (column != 'is_fraud'):\n",
    "\n",
    "    pct_fraud = cc_trans_df.groupby([column, 'is_fraud']).count()['amt'] / cc_trans_df.groupby(column).count()['amt']\n",
    "\n",
    "    unstacked_pct_fraud = pct_fraud.unstack().sort_values(by=1, ascending=False)\n",
    "\n",
    "    plt.figure(figsize=(15,10))\n",
    "    plt.barh(unstacked_pct_fraud.index,\n",
    "             unstacked_pct_fraud[1]*100)\n",
    "    \n",
    "    plt.axvline(0.6, c='red', label=\"Average Fraudulent Rate (0.6%)\")\n",
    "    plt.xlim(0,10)\n",
    "\n",
    "    plt.title(f\"Percent of Fraudulent Transactions Based on {column}\")\n",
    "    plt.xlabel(\"Percentage of Fraudulent Transactions (%)\")\n",
    "    plt.ylabel(f\"{column}\")\n",
    "\n",
    "    plt.legend()\n",
    "    plt.show()\n",
    "\n",
    "    print(\"*\"*100)"
   ]
  },
  {
   "cell_type": "markdown",
   "metadata": {
    "id": "oGpn2oUwqEGM"
   },
   "source": [
    "### Findings from Bi-variate Analysis\n",
    "\n",
    "Overall, there are a number of categorical variables that surpass the percentage of fraudulent transactions (of 0.6%). It is hard to tell exactly which ones due to the size of categorical variables, but this will be re-evaluated after feature engineering has been conducted.\n",
    "\n",
    "\n",
    "Some categories of the transactions made surpassed the percentage of overall fraud transactions in the dataset. These are: online shopping, and online miscellaneous transactions, groceries using the POS machine, and shopping using the POS machine. It also appears that males tend to be frauded more often than females, but not significantly more."
   ]
  },
  {
   "cell_type": "markdown",
   "metadata": {
    "id": "lgaU9aIZoNL0"
   },
   "source": [
    "# Preprocessing and Feature Engineering on Each Column"
   ]
  },
  {
   "cell_type": "markdown",
   "metadata": {
    "id": "LNMAgP5BsYPX"
   },
   "source": [
    "As seen earlier, there are 10 columns containing categorical variables. These columns will need to be converted to numerical variables prior to modeling. Since `is_fraud` column is the target, I will be analyzing this column with the independent variables to see which categories have insignificant occurrences of fraud.\n",
    "\n",
    "There are over 1M rows with 99.4% being non_fraudulent and 0.6% being fraudulent. So the goal is to bring up the percentage of fraudulent transactions by reducing the percentage of non_fraudulent transactions without removing vital information.\n",
    "\n",
    "The goal with looking at each independent variable against the dependent variable is to remove categories that don't have any fraudulent transactions."
   ]
  },
  {
   "cell_type": "code",
   "execution_count": null,
   "metadata": {
    "executionInfo": {
     "elapsed": 11,
     "status": "aborted",
     "timestamp": 1659819958434,
     "user": {
      "displayName": "Tolu O.",
      "userId": "04888393322604891463"
     },
     "user_tz": 240
    },
    "id": "qk5vLiggnIBq"
   },
   "outputs": [],
   "source": [
    "# See the data\n",
    "\n",
    "cc_trans_df.head()"
   ]
  },
  {
   "cell_type": "markdown",
   "metadata": {
    "id": "dv-ZOC1x8yyI"
   },
   "source": [
    "## `merchant` Column Preprocessing\n",
    "Dropping merchants that don't contribute to the prediction of fraudulent transactions."
   ]
  },
  {
   "cell_type": "markdown",
   "metadata": {
    "id": "cHgcJ3mktuVy"
   },
   "source": [
    "**Step 1: Get total number of occurrences for each merchant**"
   ]
  },
  {
   "cell_type": "code",
   "execution_count": null,
   "metadata": {
    "executionInfo": {
     "elapsed": 11,
     "status": "aborted",
     "timestamp": 1659819958434,
     "user": {
      "displayName": "Tolu O.",
      "userId": "04888393322604891463"
     },
     "user_tz": 240
    },
    "id": "qtw90ArcoCwV"
   },
   "outputs": [],
   "source": [
    "# Finding total number of occurrences for each merchant\n",
    "cc_trans_df['merchant'].value_counts()"
   ]
  },
  {
   "cell_type": "markdown",
   "metadata": {
    "id": "iI8tSpoQt0xg"
   },
   "source": [
    "**Step 2: Group the `merchant` column and `is_fraud` column to see the total number of fraudulent transactions for each merchant.**"
   ]
  },
  {
   "cell_type": "code",
   "execution_count": null,
   "metadata": {
    "executionInfo": {
     "elapsed": 11,
     "status": "aborted",
     "timestamp": 1659819958434,
     "user": {
      "displayName": "Tolu O.",
      "userId": "04888393322604891463"
     },
     "user_tz": 240
    },
    "id": "pi2cw7Lux094"
   },
   "outputs": [],
   "source": [
    "# Group, unstack and sort by fraudulent transactions in descending order\n",
    "merchant_fraud = cc_trans_df.groupby(['merchant', 'is_fraud']).count()['amt'].unstack().sort_values(by=1, ascending=False)\n",
    "merchant_fraud"
   ]
  },
  {
   "cell_type": "markdown",
   "metadata": {
    "id": "lXo1dK2CuNew"
   },
   "source": [
    "I can see here that there are some NaNs for fraudulent transactions for some merchants, which means that some merchants did not have any fraudulent transactions and they won't be relevant in my model to predict fraudulent transactions."
   ]
  },
  {
   "cell_type": "markdown",
   "metadata": {
    "id": "1REBZW7rlEpE"
   },
   "source": [
    "**Step 3: Inspect the NaNs for fraudulent transactions**"
   ]
  },
  {
   "cell_type": "code",
   "execution_count": null,
   "metadata": {
    "executionInfo": {
     "elapsed": 11,
     "status": "aborted",
     "timestamp": 1659819958434,
     "user": {
      "displayName": "Tolu O.",
      "userId": "04888393322604891463"
     },
     "user_tz": 240
    },
    "id": "Vmq7bw9AyB7i"
   },
   "outputs": [],
   "source": [
    "# Total number of no fraudulent transactions for merchants\n",
    "merchant_fraud[1].isna().sum()"
   ]
  },
  {
   "cell_type": "code",
   "execution_count": null,
   "metadata": {
    "executionInfo": {
     "elapsed": 11,
     "status": "aborted",
     "timestamp": 1659819958434,
     "user": {
      "displayName": "Tolu O.",
      "userId": "04888393322604891463"
     },
     "user_tz": 240
    },
    "id": "VZbo2NJzy3ny"
   },
   "outputs": [],
   "source": [
    "# Show merchants that have no fraudulent transactions\n",
    "merchant_fraud[merchant_fraud[1].isna()]"
   ]
  },
  {
   "cell_type": "code",
   "execution_count": null,
   "metadata": {
    "executionInfo": {
     "elapsed": 11,
     "status": "aborted",
     "timestamp": 1659819958434,
     "user": {
      "displayName": "Tolu O.",
      "userId": "04888393322604891463"
     },
     "user_tz": 240
    },
    "id": "SpsSD2350eW8"
   },
   "outputs": [],
   "source": [
    "# Total number of transactions for merchants with no fraudulent transactions\n",
    "merchant_fraud[(merchant_fraud[1].isna())][0].sum()"
   ]
  },
  {
   "cell_type": "markdown",
   "metadata": {
    "id": "Tw-fDJAxvrs8"
   },
   "source": [
    "**There are 14 merchants out of 693 merchants, with 17,348 rows that don't have any fraudulent transactions. These rows will be dropped as it has no vital information (in terms of fraudulent transactions).**"
   ]
  },
  {
   "cell_type": "markdown",
   "metadata": {
    "id": "8ob6OO85n24r"
   },
   "source": [
    "**Step 4: Dropping some rows that might not be relevant to the performance of the model**"
   ]
  },
  {
   "cell_type": "code",
   "execution_count": null,
   "metadata": {
    "executionInfo": {
     "elapsed": 11,
     "status": "aborted",
     "timestamp": 1659819958434,
     "user": {
      "displayName": "Tolu O.",
      "userId": "04888393322604891463"
     },
     "user_tz": 240
    },
    "id": "XqRSHsPm2tSM"
   },
   "outputs": [],
   "source": [
    "# Putting the merchant names to be dropped in a list to find the index\n",
    "merchant_rows_to_drop = merchant_fraud[merchant_fraud[1].isna()].index.tolist()\n",
    "merchant_rows_to_drop"
   ]
  },
  {
   "cell_type": "code",
   "execution_count": null,
   "metadata": {
    "executionInfo": {
     "elapsed": 12,
     "status": "aborted",
     "timestamp": 1659819958435,
     "user": {
      "displayName": "Tolu O.",
      "userId": "04888393322604891463"
     },
     "user_tz": 240
    },
    "id": "Obd2pnd0wSQ8"
   },
   "outputs": [],
   "source": [
    "# Checking to make sure the right number of merchants were included\n",
    "len(merchant_rows_to_drop)"
   ]
  },
  {
   "cell_type": "code",
   "execution_count": null,
   "metadata": {
    "executionInfo": {
     "elapsed": 12,
     "status": "aborted",
     "timestamp": 1659819958435,
     "user": {
      "displayName": "Tolu O.",
      "userId": "04888393322604891463"
     },
     "user_tz": 240
    },
    "id": "bpbtC7zq5uXt"
   },
   "outputs": [],
   "source": [
    "# Put indexes of the merchants in a list\n",
    "\n",
    "list_of_indexes = []\n",
    "\n",
    "for merchant in merchant_rows_to_drop:\n",
    "  list_of_indexes.append(cc_trans_df[cc_trans_df['merchant'] == merchant].index.tolist())\n",
    "\n",
    "len(list_of_indexes)"
   ]
  },
  {
   "cell_type": "code",
   "execution_count": null,
   "metadata": {
    "executionInfo": {
     "elapsed": 12,
     "status": "aborted",
     "timestamp": 1659819958435,
     "user": {
      "displayName": "Tolu O.",
      "userId": "04888393322604891463"
     },
     "user_tz": 240
    },
    "id": "Bb5SR8Mylfcm"
   },
   "outputs": [],
   "source": [
    "list_of_indexes"
   ]
  },
  {
   "cell_type": "markdown",
   "metadata": {
    "id": "UHVISKRqllKJ"
   },
   "source": [
    "The `list_of_indexes` appears to be a list of lists, in order to drop each of these rows, I'd need to flatten the list of lists to just one list of all the indexes to be dropped. To do this, I found a code on Stack Overflow that can help with this.\n",
    "\n",
    "\n",
    "Reference for flattening the list:\n",
    "https://stackoverflow.com/questions/952914/how-do-i-make-a-flat-list-out-of-a-list-of-lists"
   ]
  },
  {
   "cell_type": "code",
   "execution_count": null,
   "metadata": {
    "executionInfo": {
     "elapsed": 12,
     "status": "aborted",
     "timestamp": 1659819958435,
     "user": {
      "displayName": "Tolu O.",
      "userId": "04888393322604891463"
     },
     "user_tz": 240
    },
    "id": "e34PBPIH6VOL"
   },
   "outputs": [],
   "source": [
    "# Flatten the list of lists\n",
    "\n",
    "flat_list_of_indexes = [item for sublist in list_of_indexes for item in sublist]"
   ]
  },
  {
   "cell_type": "code",
   "execution_count": null,
   "metadata": {
    "executionInfo": {
     "elapsed": 12,
     "status": "aborted",
     "timestamp": 1659819958435,
     "user": {
      "displayName": "Tolu O.",
      "userId": "04888393322604891463"
     },
     "user_tz": 240
    },
    "id": "Eyvj3BOX7KiT"
   },
   "outputs": [],
   "source": [
    "# Checking to make sure it worked\n",
    "\n",
    "len(flat_list_of_indexes)"
   ]
  },
  {
   "cell_type": "code",
   "execution_count": null,
   "metadata": {
    "executionInfo": {
     "elapsed": 12,
     "status": "aborted",
     "timestamp": 1659819958435,
     "user": {
      "displayName": "Tolu O.",
      "userId": "04888393322604891463"
     },
     "user_tz": 240
    },
    "id": "UKIy2TZJ7Ry3"
   },
   "outputs": [],
   "source": [
    "# Dropping the rows\n",
    "\n",
    "cc_trans_df.drop(index=flat_list_of_indexes, inplace=True)"
   ]
  },
  {
   "cell_type": "markdown",
   "metadata": {
    "id": "ZGNBHEm7oChQ"
   },
   "source": [
    "**Step 5: Checking to make sure it is dropped appropriately**"
   ]
  },
  {
   "cell_type": "code",
   "execution_count": null,
   "metadata": {
    "executionInfo": {
     "elapsed": 12,
     "status": "aborted",
     "timestamp": 1659819958435,
     "user": {
      "displayName": "Tolu O.",
      "userId": "04888393322604891463"
     },
     "user_tz": 240
    },
    "id": "wBKg4SqX8Y4C"
   },
   "outputs": [],
   "source": [
    "cc_trans_df.head()"
   ]
  },
  {
   "cell_type": "code",
   "execution_count": null,
   "metadata": {
    "executionInfo": {
     "elapsed": 12,
     "status": "aborted",
     "timestamp": 1659819958435,
     "user": {
      "displayName": "Tolu O.",
      "userId": "04888393322604891463"
     },
     "user_tz": 240
    },
    "id": "Y6k5cjMh7tnj"
   },
   "outputs": [],
   "source": [
    "# Checking the new shape\n",
    "\n",
    "\n",
    "cc_trans_df.shape"
   ]
  },
  {
   "cell_type": "code",
   "execution_count": null,
   "metadata": {
    "executionInfo": {
     "elapsed": 12,
     "status": "aborted",
     "timestamp": 1659819958435,
     "user": {
      "displayName": "Tolu O.",
      "userId": "04888393322604891463"
     },
     "user_tz": 240
    },
    "id": "Hx5ILdv_7xiF"
   },
   "outputs": [],
   "source": [
    "# Checking to make sure there are still no NaNs\n",
    "\n",
    "cc_trans_df.isna().sum().sum()"
   ]
  },
  {
   "cell_type": "code",
   "execution_count": null,
   "metadata": {
    "executionInfo": {
     "elapsed": 12,
     "status": "aborted",
     "timestamp": 1659819958435,
     "user": {
      "displayName": "Tolu O.",
      "userId": "04888393322604891463"
     },
     "user_tz": 240
    },
    "id": "jWjmnjZg8UnJ"
   },
   "outputs": [],
   "source": [
    "# Checking to make sure there are still no duplicates\n",
    "\n",
    "cc_trans_df.duplicated().sum()"
   ]
  },
  {
   "cell_type": "code",
   "execution_count": null,
   "metadata": {
    "executionInfo": {
     "elapsed": 12,
     "status": "aborted",
     "timestamp": 1659819958435,
     "user": {
      "displayName": "Tolu O.",
      "userId": "04888393322604891463"
     },
     "user_tz": 240
    },
    "id": "aE4iuD_N8ip0"
   },
   "outputs": [],
   "source": [
    "# Testing to make sure there are no NaNs when grouping the merchants with the occurrences of fraud\n",
    "\n",
    "merchant_fraud_tester = cc_trans_df.groupby(['merchant', 'is_fraud']).count()['amt'].unstack().sort_values(by=1, ascending=False)"
   ]
  },
  {
   "cell_type": "code",
   "execution_count": null,
   "metadata": {
    "executionInfo": {
     "elapsed": 12,
     "status": "aborted",
     "timestamp": 1659819958435,
     "user": {
      "displayName": "Tolu O.",
      "userId": "04888393322604891463"
     },
     "user_tz": 240
    },
    "id": "n1urb0b_8siq"
   },
   "outputs": [],
   "source": [
    "# Checking for NaNs\n",
    "\n",
    "merchant_fraud_tester[1].isna().sum()"
   ]
  },
  {
   "cell_type": "markdown",
   "metadata": {
    "id": "NxlGv4K2jcHI"
   },
   "source": [
    "**Step 5: See if there is more opportunity to remove more rows**\n",
    "\n",
    "---\n",
    "\n",
    "\n",
    "**Why am I doing this?**\n",
    "\n",
    "Initially, I only removed rows that had no fraudulent occurrences and moved on to pre-processing (converting categorical to numeric) and modeling. The modeling was taking too long to run due to the size of the dataset. So, I decided to come back to pre-processing here to remove low occurrences of fraud in the merchants."
   ]
  },
  {
   "cell_type": "code",
   "execution_count": null,
   "metadata": {
    "executionInfo": {
     "elapsed": 395,
     "status": "aborted",
     "timestamp": 1659819958818,
     "user": {
      "displayName": "Tolu O.",
      "userId": "04888393322604891463"
     },
     "user_tz": 240
    },
    "id": "2PNA062ojiUR"
   },
   "outputs": [],
   "source": [
    "merchant_fraud = cc_trans_df.groupby(['merchant', 'is_fraud']).count()['amt'].unstack().sort_values(by=0, ascending=False)\n",
    "merchant_fraud"
   ]
  },
  {
   "cell_type": "code",
   "execution_count": null,
   "metadata": {
    "executionInfo": {
     "elapsed": 395,
     "status": "aborted",
     "timestamp": 1659819958818,
     "user": {
      "displayName": "Tolu O.",
      "userId": "04888393322604891463"
     },
     "user_tz": 240
    },
    "id": "aI6hqkdsBoDe"
   },
   "outputs": [],
   "source": [
    "# Checking merchants with less than 5 fraudulent occurrences\n",
    "\n",
    "merchant_fraud[merchant_fraud[1] < 5].count()"
   ]
  },
  {
   "cell_type": "code",
   "execution_count": null,
   "metadata": {
    "executionInfo": {
     "elapsed": 396,
     "status": "aborted",
     "timestamp": 1659819958819,
     "user": {
      "displayName": "Tolu O.",
      "userId": "04888393322604891463"
     },
     "user_tz": 240
    },
    "id": "ArTJcp9iAX9g"
   },
   "outputs": [],
   "source": [
    "# Checking the total number of rows \n",
    "\n",
    "merchant_fraud[merchant_fraud[1] < 5].sum()"
   ]
  },
  {
   "cell_type": "code",
   "execution_count": null,
   "metadata": {
    "executionInfo": {
     "elapsed": 396,
     "status": "aborted",
     "timestamp": 1659819958819,
     "user": {
      "displayName": "Tolu O.",
      "userId": "04888393322604891463"
     },
     "user_tz": 240
    },
    "id": "FxtQkjDfpzDC"
   },
   "outputs": [],
   "source": [
    "cc_trans_df['is_fraud'].value_counts()"
   ]
  },
  {
   "cell_type": "markdown",
   "metadata": {
    "id": "lROSKiA7oh04"
   },
   "source": [
    "If I dropped merchants that had less than 5 fraud occurrences, it would reduce the dataset by 449,841 rows of non-fraudulent transactions out of 1,271,821 rows, and only 730 fraudulent transactions out of 7,506 rows.\n",
    "\n",
    "\n",
    "---\n",
    "\n",
    "I initially went with only dropping merchants with less than 5 fraud occurrences, but the models were still taking too long or crashing due to the size of the dataset. So, I decided to check for merchants with less than 10 fraudulent occurrences to see if those can be dropped to increase the percentage of fraudulent transactions in the dataset by dropping more of the non-fraudulent transactions. I can see that there are occurrences of 30 - almost 50 fraudulent transactions for merchants, so less than 10 occurrences seemed safe to drop for this category."
   ]
  },
  {
   "cell_type": "code",
   "execution_count": null,
   "metadata": {
    "executionInfo": {
     "elapsed": 396,
     "status": "aborted",
     "timestamp": 1659819958819,
     "user": {
      "displayName": "Tolu O.",
      "userId": "04888393322604891463"
     },
     "user_tz": 240
    },
    "id": "NadfJFxbZxet"
   },
   "outputs": [],
   "source": [
    "# Checking merchants with less than 10 fraudulent occurrences\n",
    "\n",
    "merchant_fraud[merchant_fraud[1] < 10].count()"
   ]
  },
  {
   "cell_type": "code",
   "execution_count": null,
   "metadata": {
    "executionInfo": {
     "elapsed": 396,
     "status": "aborted",
     "timestamp": 1659819958819,
     "user": {
      "displayName": "Tolu O.",
      "userId": "04888393322604891463"
     },
     "user_tz": 240
    },
    "id": "ydwn0jzhZ1bS"
   },
   "outputs": [],
   "source": [
    "# Checking the total number of rows \n",
    "\n",
    "merchant_fraud[merchant_fraud[1] < 10].sum()"
   ]
  },
  {
   "cell_type": "code",
   "execution_count": null,
   "metadata": {
    "executionInfo": {
     "elapsed": 396,
     "status": "aborted",
     "timestamp": 1659819958819,
     "user": {
      "displayName": "Tolu O.",
      "userId": "04888393322604891463"
     },
     "user_tz": 240
    },
    "id": "S1KcgJRnrRja"
   },
   "outputs": [],
   "source": [
    "# To see the merchants that will be dropped\n",
    "\n",
    "merchant_fraud[merchant_fraud[1] < 10]"
   ]
  },
  {
   "cell_type": "code",
   "execution_count": null,
   "metadata": {
    "executionInfo": {
     "elapsed": 395,
     "status": "aborted",
     "timestamp": 1659819958819,
     "user": {
      "displayName": "Tolu O.",
      "userId": "04888393322604891463"
     },
     "user_tz": 240
    },
    "id": "5nOT3WF6jiNv"
   },
   "outputs": [],
   "source": [
    "# Putting the names of the merchants to be dropped in a list\n",
    "\n",
    "merchant_to_be_dropped = merchant_fraud[merchant_fraud[1] < 10].index.tolist()\n",
    "\n",
    "len(merchant_to_be_dropped)"
   ]
  },
  {
   "cell_type": "code",
   "execution_count": null,
   "metadata": {
    "executionInfo": {
     "elapsed": 395,
     "status": "aborted",
     "timestamp": 1659819958819,
     "user": {
      "displayName": "Tolu O.",
      "userId": "04888393322604891463"
     },
     "user_tz": 240
    },
    "id": "AKBq2OrxA6RA"
   },
   "outputs": [],
   "source": [
    "# Putting the indices of the names of merchants to be dropped in a list\n",
    "\n",
    "list_of_indexes = []\n",
    "\n",
    "for merchant in merchant_to_be_dropped:\n",
    "  list_of_indexes.append(cc_trans_df[cc_trans_df['merchant'] == merchant].index.tolist())"
   ]
  },
  {
   "cell_type": "code",
   "execution_count": null,
   "metadata": {
    "executionInfo": {
     "elapsed": 395,
     "status": "aborted",
     "timestamp": 1659819958819,
     "user": {
      "displayName": "Tolu O.",
      "userId": "04888393322604891463"
     },
     "user_tz": 240
    },
    "id": "uey3c_fsCj_H"
   },
   "outputs": [],
   "source": [
    "# Checking to make sure the numbers are the same (sanity check)\n",
    "\n",
    "len(list_of_indexes)"
   ]
  },
  {
   "cell_type": "code",
   "execution_count": null,
   "metadata": {
    "executionInfo": {
     "elapsed": 395,
     "status": "aborted",
     "timestamp": 1659819958819,
     "user": {
      "displayName": "Tolu O.",
      "userId": "04888393322604891463"
     },
     "user_tz": 240
    },
    "id": "IyeshPnvBDFS"
   },
   "outputs": [],
   "source": [
    "# Checking that the total number of rows to be dropped\n",
    "# is the same as what was discovered above\n",
    "# Should be 758,779 + 1,719 = 760,498\n",
    "\n",
    "flat_list_of_indexes = [item for sublist in list_of_indexes for item in sublist]\n",
    "\n",
    "len(flat_list_of_indexes)"
   ]
  },
  {
   "cell_type": "code",
   "execution_count": null,
   "metadata": {
    "executionInfo": {
     "elapsed": 395,
     "status": "aborted",
     "timestamp": 1659819958819,
     "user": {
      "displayName": "Tolu O.",
      "userId": "04888393322604891463"
     },
     "user_tz": 240
    },
    "id": "YNHDxo9nBC_0"
   },
   "outputs": [],
   "source": [
    "# Dropping the rows\n",
    "\n",
    "cc_trans_df.drop(index=flat_list_of_indexes, inplace=True)"
   ]
  },
  {
   "cell_type": "code",
   "execution_count": null,
   "metadata": {
    "executionInfo": {
     "elapsed": 396,
     "status": "aborted",
     "timestamp": 1659819958820,
     "user": {
      "displayName": "Tolu O.",
      "userId": "04888393322604891463"
     },
     "user_tz": 240
    },
    "id": "-hAJeOlWBC6I"
   },
   "outputs": [],
   "source": [
    "# Checking the new shape of the dataset\n",
    "\n",
    "cc_trans_df.shape"
   ]
  },
  {
   "cell_type": "markdown",
   "metadata": {
    "id": "sJqBOqpSr2Sr"
   },
   "source": [
    "**The new shape of the dataset is 518,829 rows and 21 columns.**"
   ]
  },
  {
   "cell_type": "code",
   "execution_count": null,
   "metadata": {
    "executionInfo": {
     "elapsed": 396,
     "status": "aborted",
     "timestamp": 1659819958820,
     "user": {
      "displayName": "Tolu O.",
      "userId": "04888393322604891463"
     },
     "user_tz": 240
    },
    "id": "J_a9yLnKBC1I"
   },
   "outputs": [],
   "source": [
    "# See the dataset\n",
    "\n",
    "cc_trans_df.head()"
   ]
  },
  {
   "cell_type": "code",
   "execution_count": null,
   "metadata": {
    "executionInfo": {
     "elapsed": 396,
     "status": "aborted",
     "timestamp": 1659819958820,
     "user": {
      "displayName": "Tolu O.",
      "userId": "04888393322604891463"
     },
     "user_tz": 240
    },
    "id": "vVnkP4_OBCvw"
   },
   "outputs": [],
   "source": [
    "# Checking the new class distribution\n",
    "\n",
    "cc_trans_df['is_fraud'].value_counts()"
   ]
  },
  {
   "cell_type": "markdown",
   "metadata": {
    "id": "PfmZmUnTsEF9"
   },
   "source": [
    "The initial class distribution was 1,271,821 for non-fraudulent and 7,506 for fraudulent. The new class distribution dropped 758,779 rows for non-fraudulent and only 1,719 for fraudulent."
   ]
  },
  {
   "cell_type": "code",
   "execution_count": null,
   "metadata": {
    "executionInfo": {
     "elapsed": 396,
     "status": "aborted",
     "timestamp": 1659819958820,
     "user": {
      "displayName": "Tolu O.",
      "userId": "04888393322604891463"
     },
     "user_tz": 240
    },
    "id": "Xwfh23_7DMu5"
   },
   "outputs": [],
   "source": [
    "# Looking at the new value counts for the merchants\n",
    "\n",
    "cc_trans_df['merchant'].value_counts()"
   ]
  },
  {
   "cell_type": "markdown",
   "metadata": {
    "id": "WH80ATkzspf_"
   },
   "source": [
    "The initial length of the merchants (total number of merchants) was 693, now it is at 241, reducing the number of columns needed to be transformed to numeric columns by 452.\n",
    "\n",
    "---"
   ]
  },
  {
   "cell_type": "markdown",
   "metadata": {
    "id": "dkLC2w_t9YRE"
   },
   "source": [
    "**The rest of the merchant column will be encoded using OneHotEncoder prior to modeling**"
   ]
  },
  {
   "cell_type": "markdown",
   "metadata": {
    "id": "y9osxmFP9len"
   },
   "source": [
    "## `category` Column Preprocessing\n",
    "\n",
    "The same process that was done for the `merchant` column will be done for the `category` column as well."
   ]
  },
  {
   "cell_type": "markdown",
   "metadata": {
    "id": "6vAMF-MttDn1"
   },
   "source": [
    "**Step 1: Get total number of occurrences for each category**"
   ]
  },
  {
   "cell_type": "code",
   "execution_count": null,
   "metadata": {
    "executionInfo": {
     "elapsed": 396,
     "status": "aborted",
     "timestamp": 1659819958820,
     "user": {
      "displayName": "Tolu O.",
      "userId": "04888393322604891463"
     },
     "user_tz": 240
    },
    "id": "r4j26bis9Rdq"
   },
   "outputs": [],
   "source": [
    "# Finding total number of occurrences for each category\n",
    "\n",
    "cc_trans_df.groupby(['category', 'is_fraud']).count()['amt'].unstack().sort_values(by=1, ascending=False)"
   ]
  },
  {
   "cell_type": "markdown",
   "metadata": {
    "id": "NUWCfRpptPYL"
   },
   "source": [
    "**Step 2: Group the `category` column and `is_fraud` column to see the total number of fraudulent transactions for each category.**"
   ]
  },
  {
   "cell_type": "code",
   "execution_count": null,
   "metadata": {
    "executionInfo": {
     "elapsed": 396,
     "status": "aborted",
     "timestamp": 1659819958820,
     "user": {
      "displayName": "Tolu O.",
      "userId": "04888393322604891463"
     },
     "user_tz": 240
    },
    "id": "RMUsOYpwaRpB"
   },
   "outputs": [],
   "source": [
    "# Group, unstack and sort by fraudulent transactions in descending order\n",
    "\n",
    "category_fraud = cc_trans_df.groupby(['category', 'is_fraud']).count()['amt'].unstack().sort_values(by=1, ascending=False)"
   ]
  },
  {
   "cell_type": "code",
   "execution_count": null,
   "metadata": {
    "executionInfo": {
     "elapsed": 396,
     "status": "aborted",
     "timestamp": 1659819958820,
     "user": {
      "displayName": "Tolu O.",
      "userId": "04888393322604891463"
     },
     "user_tz": 240
    },
    "id": "tDLsgLB6aWY5"
   },
   "outputs": [],
   "source": [
    "# Checking total rows of categories with less than 10 fraudulent occurrences\n",
    "\n",
    "category_fraud[category_fraud[1] < 10].sum()"
   ]
  },
  {
   "cell_type": "code",
   "execution_count": null,
   "metadata": {
    "executionInfo": {
     "elapsed": 396,
     "status": "aborted",
     "timestamp": 1659819958820,
     "user": {
      "displayName": "Tolu O.",
      "userId": "04888393322604891463"
     },
     "user_tz": 240
    },
    "id": "ITIvJoyDhqnq"
   },
   "outputs": [],
   "source": [
    "# The total number of categories that will be dropped\n",
    "\n",
    "category_fraud[category_fraud[1] < 10].count()"
   ]
  },
  {
   "cell_type": "code",
   "execution_count": null,
   "metadata": {
    "executionInfo": {
     "elapsed": 396,
     "status": "aborted",
     "timestamp": 1659819958820,
     "user": {
      "displayName": "Tolu O.",
      "userId": "04888393322604891463"
     },
     "user_tz": 240
    },
    "id": "akeRXlBca-d7"
   },
   "outputs": [],
   "source": [
    "category_to_be_dropped = category_fraud[category_fraud[1] < 10].index.tolist()\n",
    "\n",
    "len(category_to_be_dropped)"
   ]
  },
  {
   "cell_type": "code",
   "execution_count": null,
   "metadata": {
    "executionInfo": {
     "elapsed": 396,
     "status": "aborted",
     "timestamp": 1659819958820,
     "user": {
      "displayName": "Tolu O.",
      "userId": "04888393322604891463"
     },
     "user_tz": 240
    },
    "id": "4KRdUw6Ha-Y_"
   },
   "outputs": [],
   "source": [
    "list_of_indexes = []\n",
    "\n",
    "for category in category_to_be_dropped:\n",
    "  list_of_indexes.append(cc_trans_df[cc_trans_df['category'] == category].index.tolist())"
   ]
  },
  {
   "cell_type": "code",
   "execution_count": null,
   "metadata": {
    "executionInfo": {
     "elapsed": 396,
     "status": "aborted",
     "timestamp": 1659819958820,
     "user": {
      "displayName": "Tolu O.",
      "userId": "04888393322604891463"
     },
     "user_tz": 240
    },
    "id": "U8DsGUhya-VE"
   },
   "outputs": [],
   "source": [
    "len(list_of_indexes)"
   ]
  },
  {
   "cell_type": "code",
   "execution_count": null,
   "metadata": {
    "executionInfo": {
     "elapsed": 397,
     "status": "aborted",
     "timestamp": 1659819958821,
     "user": {
      "displayName": "Tolu O.",
      "userId": "04888393322604891463"
     },
     "user_tz": 240
    },
    "id": "nvkStotGa-O1"
   },
   "outputs": [],
   "source": [
    "flat_list_of_indexes = [item for sublist in list_of_indexes for item in sublist]\n",
    "\n",
    "len(flat_list_of_indexes)"
   ]
  },
  {
   "cell_type": "code",
   "execution_count": null,
   "metadata": {
    "executionInfo": {
     "elapsed": 397,
     "status": "aborted",
     "timestamp": 1659819958821,
     "user": {
      "displayName": "Tolu O.",
      "userId": "04888393322604891463"
     },
     "user_tz": 240
    },
    "id": "fNxtcapYibez"
   },
   "outputs": [],
   "source": [
    "cc_trans_df.drop(index=flat_list_of_indexes, inplace=True)\n",
    "\n",
    "cc_trans_df.shape"
   ]
  },
  {
   "cell_type": "code",
   "execution_count": null,
   "metadata": {
    "executionInfo": {
     "elapsed": 397,
     "status": "aborted",
     "timestamp": 1659819958821,
     "user": {
      "displayName": "Tolu O.",
      "userId": "04888393322604891463"
     },
     "user_tz": 240
    },
    "id": "1Xm92PD_ibbK"
   },
   "outputs": [],
   "source": [
    "cc_trans_df.head()"
   ]
  },
  {
   "cell_type": "code",
   "execution_count": null,
   "metadata": {
    "executionInfo": {
     "elapsed": 397,
     "status": "aborted",
     "timestamp": 1659819958821,
     "user": {
      "displayName": "Tolu O.",
      "userId": "04888393322604891463"
     },
     "user_tz": 240
    },
    "id": "zzSFSbDiibYW"
   },
   "outputs": [],
   "source": [
    "cc_trans_df.groupby(['category', 'is_fraud']).count()['amt'].unstack().sort_values(by=1, ascending=False)"
   ]
  },
  {
   "cell_type": "code",
   "execution_count": null,
   "metadata": {
    "executionInfo": {
     "elapsed": 397,
     "status": "aborted",
     "timestamp": 1659819958821,
     "user": {
      "displayName": "Tolu O.",
      "userId": "04888393322604891463"
     },
     "user_tz": 240
    },
    "id": "ALfzJkQ4lpjR"
   },
   "outputs": [],
   "source": [
    "category_fraud = cc_trans_df.groupby(['category', 'is_fraud']).count()['amt'].unstack().sort_values(by=1, ascending=False)"
   ]
  },
  {
   "cell_type": "code",
   "execution_count": null,
   "metadata": {
    "executionInfo": {
     "elapsed": 397,
     "status": "aborted",
     "timestamp": 1659819958821,
     "user": {
      "displayName": "Tolu O.",
      "userId": "04888393322604891463"
     },
     "user_tz": 240
    },
    "id": "OQBvpXIalpg8"
   },
   "outputs": [],
   "source": [
    "category_fraud"
   ]
  },
  {
   "cell_type": "markdown",
   "metadata": {
    "id": "9qbeYQLg-YRq"
   },
   "source": [
    "## `first` and `last` Columns Preprocessing"
   ]
  },
  {
   "cell_type": "code",
   "execution_count": null,
   "metadata": {
    "executionInfo": {
     "elapsed": 396,
     "status": "aborted",
     "timestamp": 1659819958821,
     "user": {
      "displayName": "Tolu O.",
      "userId": "04888393322604891463"
     },
     "user_tz": 240
    },
    "id": "TY7qHy3195wb"
   },
   "outputs": [],
   "source": [
    "# Finding total number of occurrences for each first names\n",
    "\n",
    "cc_trans_df.groupby(['first', 'is_fraud']).count()['amt'].unstack().sort_values(by=1, ascending=False)"
   ]
  },
  {
   "cell_type": "markdown",
   "metadata": {
    "id": "GtLbRuB4-u4g"
   },
   "source": [
    "There are some first names that don't have any association with fraudulent transactions, and might not be useful for the model. I'm going to further explore and see if those rows can be removed."
   ]
  },
  {
   "cell_type": "code",
   "execution_count": null,
   "metadata": {
    "executionInfo": {
     "elapsed": 396,
     "status": "aborted",
     "timestamp": 1659819958821,
     "user": {
      "displayName": "Tolu O.",
      "userId": "04888393322604891463"
     },
     "user_tz": 240
    },
    "id": "2rKfIfGC-kSP"
   },
   "outputs": [],
   "source": [
    "# Group, unstack and sort by fraudulent transactions in descending order\n",
    "\n",
    "first_fraud = cc_trans_df.groupby(['first', 'is_fraud']).count()['amt'].unstack().sort_values(by=1, ascending=False)"
   ]
  },
  {
   "cell_type": "code",
   "execution_count": null,
   "metadata": {
    "executionInfo": {
     "elapsed": 396,
     "status": "aborted",
     "timestamp": 1659819958821,
     "user": {
      "displayName": "Tolu O.",
      "userId": "04888393322604891463"
     },
     "user_tz": 240
    },
    "id": "ZzZnram7_AvZ"
   },
   "outputs": [],
   "source": [
    "# Finding sum of rows with first names that have no fraudulent occurrences\n",
    "\n",
    "first_fraud[first_fraud[1].isna()].sum()"
   ]
  },
  {
   "cell_type": "code",
   "execution_count": null,
   "metadata": {
    "executionInfo": {
     "elapsed": 397,
     "status": "aborted",
     "timestamp": 1659819958822,
     "user": {
      "displayName": "Tolu O.",
      "userId": "04888393322604891463"
     },
     "user_tz": 240
    },
    "id": "UDibV9ruEV3B"
   },
   "outputs": [],
   "source": [
    "# Finding total number of names with no fraudulent occurrences\n",
    "\n",
    "first_fraud[first_fraud[1].isna()].count()"
   ]
  },
  {
   "cell_type": "markdown",
   "metadata": {
    "id": "rKMjdghQBWuy"
   },
   "source": [
    "**Dropping some `first` column rows**"
   ]
  },
  {
   "cell_type": "code",
   "execution_count": null,
   "metadata": {
    "executionInfo": {
     "elapsed": 397,
     "status": "aborted",
     "timestamp": 1659819958822,
     "user": {
      "displayName": "Tolu O.",
      "userId": "04888393322604891463"
     },
     "user_tz": 240
    },
    "id": "qOOjGCth_sRz"
   },
   "outputs": [],
   "source": [
    "# Bringing the table back\n",
    "\n",
    "first_fraud[first_fraud[1].isna()]"
   ]
  },
  {
   "cell_type": "code",
   "execution_count": null,
   "metadata": {
    "executionInfo": {
     "elapsed": 397,
     "status": "aborted",
     "timestamp": 1659819958822,
     "user": {
      "displayName": "Tolu O.",
      "userId": "04888393322604891463"
     },
     "user_tz": 240
    },
    "id": "niyHAx0hCxWH"
   },
   "outputs": [],
   "source": [
    "# Putting the names in a list\n",
    "\n",
    "first_fraud[first_fraud[1].isna()].index.tolist()"
   ]
  },
  {
   "cell_type": "code",
   "execution_count": null,
   "metadata": {
    "executionInfo": {
     "elapsed": 397,
     "status": "aborted",
     "timestamp": 1659819958822,
     "user": {
      "displayName": "Tolu O.",
      "userId": "04888393322604891463"
     },
     "user_tz": 240
    },
    "id": "d0BgV6VOEjym"
   },
   "outputs": [],
   "source": [
    "first_to_be_dropped = first_fraud[first_fraud[1].isna()].index.tolist()\n",
    "len(first_to_be_dropped)"
   ]
  },
  {
   "cell_type": "code",
   "execution_count": null,
   "metadata": {
    "executionInfo": {
     "elapsed": 397,
     "status": "aborted",
     "timestamp": 1659819958822,
     "user": {
      "displayName": "Tolu O.",
      "userId": "04888393322604891463"
     },
     "user_tz": 240
    },
    "id": "QfDlJS9NFUG9"
   },
   "outputs": [],
   "source": [
    "list_of_indexes_first = []\n",
    "\n",
    "for name in first_to_be_dropped:\n",
    "  list_of_indexes_first.append(cc_trans_df[cc_trans_df['first'] == name].index.tolist())"
   ]
  },
  {
   "cell_type": "code",
   "execution_count": null,
   "metadata": {
    "executionInfo": {
     "elapsed": 397,
     "status": "aborted",
     "timestamp": 1659819958822,
     "user": {
      "displayName": "Tolu O.",
      "userId": "04888393322604891463"
     },
     "user_tz": 240
    },
    "id": "ARoxvhQJF9VA"
   },
   "outputs": [],
   "source": [
    "flat_list_first = [item for sublist in list_of_indexes_first for item in sublist]\n",
    "len(flat_list_first)"
   ]
  },
  {
   "cell_type": "code",
   "execution_count": null,
   "metadata": {
    "executionInfo": {
     "elapsed": 397,
     "status": "aborted",
     "timestamp": 1659819958822,
     "user": {
      "displayName": "Tolu O.",
      "userId": "04888393322604891463"
     },
     "user_tz": 240
    },
    "id": "REEtw2KrGMte"
   },
   "outputs": [],
   "source": [
    "# Dropping the first names with no fraudulent occurrences\n",
    "\n",
    "cc_trans_df.drop(index=flat_list_first, inplace=True)\n",
    "\n",
    "# Checking the new shape of the dataset\n",
    "cc_trans_df.shape"
   ]
  },
  {
   "cell_type": "markdown",
   "metadata": {
    "id": "ksJ0UyB9Ho9C"
   },
   "source": [
    "**Checking to make sure rows were dropped appropriately**"
   ]
  },
  {
   "cell_type": "code",
   "execution_count": null,
   "metadata": {
    "executionInfo": {
     "elapsed": 397,
     "status": "aborted",
     "timestamp": 1659819958822,
     "user": {
      "displayName": "Tolu O.",
      "userId": "04888393322604891463"
     },
     "user_tz": 240
    },
    "id": "MQjBL0NAHcvT"
   },
   "outputs": [],
   "source": [
    "cc_trans_df.head()"
   ]
  },
  {
   "cell_type": "code",
   "execution_count": null,
   "metadata": {
    "executionInfo": {
     "elapsed": 397,
     "status": "aborted",
     "timestamp": 1659819958822,
     "user": {
      "displayName": "Tolu O.",
      "userId": "04888393322604891463"
     },
     "user_tz": 240
    },
    "id": "_ZzS-X2EHvhn"
   },
   "outputs": [],
   "source": [
    "cc_trans_df.isna().sum().sum()"
   ]
  },
  {
   "cell_type": "code",
   "execution_count": null,
   "metadata": {
    "executionInfo": {
     "elapsed": 397,
     "status": "aborted",
     "timestamp": 1659819958822,
     "user": {
      "displayName": "Tolu O.",
      "userId": "04888393322604891463"
     },
     "user_tz": 240
    },
    "id": "PFEl16C-H10X"
   },
   "outputs": [],
   "source": [
    "cc_trans_df.duplicated().sum()"
   ]
  },
  {
   "cell_type": "markdown",
   "metadata": {
    "id": "YL8ybj7MjNMC"
   },
   "source": [
    "**Checking to see if more `first` names can be dropped**\n",
    "\n",
    "Similar to what happened for the `merchant` column, I needed to find more opportunities to drop more rows that had low fraudulent occurrences to make my model run faster and also to increase the model's sensitivity to the patterns of fraudulent transactions."
   ]
  },
  {
   "cell_type": "code",
   "execution_count": null,
   "metadata": {
    "executionInfo": {
     "elapsed": 398,
     "status": "aborted",
     "timestamp": 1659819958823,
     "user": {
      "displayName": "Tolu O.",
      "userId": "04888393322604891463"
     },
     "user_tz": 240
    },
    "id": "fkYtvRdFD-Fb"
   },
   "outputs": [],
   "source": [
    "cc_trans_df.groupby(['first', 'is_fraud']).count()['amt'].unstack().sort_values(by=0, ascending=False)"
   ]
  },
  {
   "cell_type": "code",
   "execution_count": null,
   "metadata": {
    "executionInfo": {
     "elapsed": 398,
     "status": "aborted",
     "timestamp": 1659819958823,
     "user": {
      "displayName": "Tolu O.",
      "userId": "04888393322604891463"
     },
     "user_tz": 240
    },
    "id": "sGdL-oYED-Ax"
   },
   "outputs": [],
   "source": [
    "another_first_fraud = cc_trans_df.groupby(['first', 'is_fraud']).count()['amt'].unstack().sort_values(by=0, ascending=False)"
   ]
  },
  {
   "cell_type": "code",
   "execution_count": null,
   "metadata": {
    "executionInfo": {
     "elapsed": 398,
     "status": "aborted",
     "timestamp": 1659819958823,
     "user": {
      "displayName": "Tolu O.",
      "userId": "04888393322604891463"
     },
     "user_tz": 240
    },
    "id": "6OulgmBOFX-D"
   },
   "outputs": [],
   "source": [
    "another_first_fraud[another_first_fraud[1] < 5]"
   ]
  },
  {
   "cell_type": "code",
   "execution_count": null,
   "metadata": {
    "executionInfo": {
     "elapsed": 398,
     "status": "aborted",
     "timestamp": 1659819958823,
     "user": {
      "displayName": "Tolu O.",
      "userId": "04888393322604891463"
     },
     "user_tz": 240
    },
    "id": "hhAjFc-NEL63"
   },
   "outputs": [],
   "source": [
    "another_first_fraud[another_first_fraud[1] < 5].count()"
   ]
  },
  {
   "cell_type": "code",
   "execution_count": null,
   "metadata": {
    "executionInfo": {
     "elapsed": 398,
     "status": "aborted",
     "timestamp": 1659819958823,
     "user": {
      "displayName": "Tolu O.",
      "userId": "04888393322604891463"
     },
     "user_tz": 240
    },
    "id": "bZHWR1JOD99X"
   },
   "outputs": [],
   "source": [
    "another_first_fraud[another_first_fraud[1] < 5].sum()"
   ]
  },
  {
   "cell_type": "code",
   "execution_count": null,
   "metadata": {
    "executionInfo": {
     "elapsed": 398,
     "status": "aborted",
     "timestamp": 1659819958823,
     "user": {
      "displayName": "Tolu O.",
      "userId": "04888393322604891463"
     },
     "user_tz": 240
    },
    "id": "ldY0oLzGFfgh"
   },
   "outputs": [],
   "source": [
    "another_first_fraud[another_first_fraud[1] < 10]"
   ]
  },
  {
   "cell_type": "markdown",
   "metadata": {
    "id": "lFPFaXbHvrzc"
   },
   "source": [
    "I notice that there are some first names only have fraudulent transactions, so I need to make sure that those are kept and only focus on dropping rows that have significantly more non-fraudulent occurrences than fraudulent transactions."
   ]
  },
  {
   "cell_type": "code",
   "execution_count": null,
   "metadata": {
    "executionInfo": {
     "elapsed": 398,
     "status": "aborted",
     "timestamp": 1659819958823,
     "user": {
      "displayName": "Tolu O.",
      "userId": "04888393322604891463"
     },
     "user_tz": 240
    },
    "id": "wL6AW8cJFeF9"
   },
   "outputs": [],
   "source": [
    "# Filtering out the first names that ONLY have fraudulent occurrences\n",
    "\n",
    "another_first_fraud[(another_first_fraud[1] < 10) & (~another_first_fraud[0].isna())]"
   ]
  },
  {
   "cell_type": "code",
   "execution_count": null,
   "metadata": {
    "executionInfo": {
     "elapsed": 398,
     "status": "aborted",
     "timestamp": 1659819958823,
     "user": {
      "displayName": "Tolu O.",
      "userId": "04888393322604891463"
     },
     "user_tz": 240
    },
    "id": "jld6Rt-1D94M"
   },
   "outputs": [],
   "source": [
    "# Getting the total names to be dropped\n",
    "\n",
    "another_first_fraud[(another_first_fraud[1] < 10) & (~another_first_fraud[0].isna())].count()"
   ]
  },
  {
   "cell_type": "code",
   "execution_count": null,
   "metadata": {
    "executionInfo": {
     "elapsed": 398,
     "status": "aborted",
     "timestamp": 1659819958823,
     "user": {
      "displayName": "Tolu O.",
      "userId": "04888393322604891463"
     },
     "user_tz": 240
    },
    "id": "4hCb6isyFSCF"
   },
   "outputs": [],
   "source": [
    "# Total rows to be dropped\n",
    "\n",
    "another_first_fraud[(another_first_fraud[1] < 10) & (~another_first_fraud[0].isna())].sum()"
   ]
  },
  {
   "cell_type": "markdown",
   "metadata": {
    "id": "lKdtzYjHwTRs"
   },
   "source": [
    "Looking at the total rows to be dropped with first names that have less than 10 occurrences, it doesn't seem like a lot. So, I decided to increase the occurrence to be less than 15 instead of 10 because there are fraudulent occurrences that are in the 100s."
   ]
  },
  {
   "cell_type": "code",
   "execution_count": null,
   "metadata": {
    "executionInfo": {
     "elapsed": 398,
     "status": "aborted",
     "timestamp": 1659819958823,
     "user": {
      "displayName": "Tolu O.",
      "userId": "04888393322604891463"
     },
     "user_tz": 240
    },
    "id": "WQJZe9Q5ax_z"
   },
   "outputs": [],
   "source": [
    "another_first_fraud[(another_first_fraud[1] < 15) & (~another_first_fraud[0].isna())].sum()"
   ]
  },
  {
   "cell_type": "markdown",
   "metadata": {
    "id": "rH5F0AmJwsPl"
   },
   "source": [
    "This is more significant. 168,613 rows of non-fraudulent transactions will be dropped out of 476,425, and only 1,500 fraudulent transactions will be dropped out of 5,773."
   ]
  },
  {
   "cell_type": "code",
   "execution_count": null,
   "metadata": {
    "executionInfo": {
     "elapsed": 398,
     "status": "aborted",
     "timestamp": 1659819958823,
     "user": {
      "displayName": "Tolu O.",
      "userId": "04888393322604891463"
     },
     "user_tz": 240
    },
    "id": "i1mQ89ARFm6h"
   },
   "outputs": [],
   "source": [
    "# Checking the original class distribution\n",
    "\n",
    "cc_trans_df['is_fraud'].value_counts()"
   ]
  },
  {
   "cell_type": "code",
   "execution_count": null,
   "metadata": {
    "executionInfo": {
     "elapsed": 398,
     "status": "aborted",
     "timestamp": 1659819958824,
     "user": {
      "displayName": "Tolu O.",
      "userId": "04888393322604891463"
     },
     "user_tz": 240
    },
    "id": "E_urjzo-GFGv"
   },
   "outputs": [],
   "source": [
    "dropping_first = another_first_fraud[(another_first_fraud[1] < 15) & (~another_first_fraud[0].isna())].index.tolist()\n",
    "len(dropping_first)"
   ]
  },
  {
   "cell_type": "code",
   "execution_count": null,
   "metadata": {
    "executionInfo": {
     "elapsed": 398,
     "status": "aborted",
     "timestamp": 1659819958824,
     "user": {
      "displayName": "Tolu O.",
      "userId": "04888393322604891463"
     },
     "user_tz": 240
    },
    "id": "xN6Z4wW2GYrI"
   },
   "outputs": [],
   "source": [
    "list_of_indexes_first = []\n",
    "\n",
    "for name in dropping_first:\n",
    "  list_of_indexes_first.append(cc_trans_df[cc_trans_df['first'] == name].index.tolist())"
   ]
  },
  {
   "cell_type": "code",
   "execution_count": null,
   "metadata": {
    "executionInfo": {
     "elapsed": 398,
     "status": "aborted",
     "timestamp": 1659819958824,
     "user": {
      "displayName": "Tolu O.",
      "userId": "04888393322604891463"
     },
     "user_tz": 240
    },
    "id": "UDu8jXxAGorW"
   },
   "outputs": [],
   "source": [
    "len(list_of_indexes_first)"
   ]
  },
  {
   "cell_type": "code",
   "execution_count": null,
   "metadata": {
    "executionInfo": {
     "elapsed": 398,
     "status": "aborted",
     "timestamp": 1659819958824,
     "user": {
      "displayName": "Tolu O.",
      "userId": "04888393322604891463"
     },
     "user_tz": 240
    },
    "id": "BuLq9HdfGYma"
   },
   "outputs": [],
   "source": [
    "flat_list_first = [item for sublist in list_of_indexes_first for item in sublist]\n",
    "len(flat_list_first)"
   ]
  },
  {
   "cell_type": "code",
   "execution_count": null,
   "metadata": {
    "executionInfo": {
     "elapsed": 398,
     "status": "aborted",
     "timestamp": 1659819958824,
     "user": {
      "displayName": "Tolu O.",
      "userId": "04888393322604891463"
     },
     "user_tz": 240
    },
    "id": "UJXNDbzMGYig"
   },
   "outputs": [],
   "source": [
    "# Checking the new shape of the dataset\n",
    "\n",
    "cc_trans_df.drop(index=flat_list_first, inplace=True)\n",
    "cc_trans_df.shape"
   ]
  },
  {
   "cell_type": "code",
   "execution_count": null,
   "metadata": {
    "executionInfo": {
     "elapsed": 398,
     "status": "aborted",
     "timestamp": 1659819958824,
     "user": {
      "displayName": "Tolu O.",
      "userId": "04888393322604891463"
     },
     "user_tz": 240
    },
    "id": "zTjlwTO4G2Gd"
   },
   "outputs": [],
   "source": [
    "# Checking the new class distribution\n",
    "\n",
    "cc_trans_df.is_fraud.value_counts()"
   ]
  },
  {
   "cell_type": "markdown",
   "metadata": {
    "id": "PEnStgOkIImy"
   },
   "source": [
    "**Dropping some `last` column rows**\n"
   ]
  },
  {
   "cell_type": "code",
   "execution_count": null,
   "metadata": {
    "executionInfo": {
     "elapsed": 398,
     "status": "aborted",
     "timestamp": 1659819958824,
     "user": {
      "displayName": "Tolu O.",
      "userId": "04888393322604891463"
     },
     "user_tz": 240
    },
    "id": "nF350gR6Lui4"
   },
   "outputs": [],
   "source": [
    "last_fraud = cc_trans_df.groupby(['last', 'is_fraud']).count()['amt'].unstack().sort_values(by=1, ascending=False)\n",
    "last_fraud"
   ]
  },
  {
   "cell_type": "code",
   "execution_count": null,
   "metadata": {
    "executionInfo": {
     "elapsed": 398,
     "status": "aborted",
     "timestamp": 1659819958824,
     "user": {
      "displayName": "Tolu O.",
      "userId": "04888393322604891463"
     },
     "user_tz": 240
    },
    "id": "vIsIg-bBIBLn"
   },
   "outputs": [],
   "source": [
    "last_to_be_dropped = last_fraud[last_fraud[1].isna()].index.tolist()\n",
    "len(last_to_be_dropped)"
   ]
  },
  {
   "cell_type": "code",
   "execution_count": null,
   "metadata": {
    "executionInfo": {
     "elapsed": 398,
     "status": "aborted",
     "timestamp": 1659819958824,
     "user": {
      "displayName": "Tolu O.",
      "userId": "04888393322604891463"
     },
     "user_tz": 240
    },
    "id": "8_eEdSUGJEPP"
   },
   "outputs": [],
   "source": [
    "list_of_indexes_last = []\n",
    "\n",
    "for name in last_to_be_dropped:\n",
    "  list_of_indexes_last.append(cc_trans_df[cc_trans_df['last'] == name].index.tolist())"
   ]
  },
  {
   "cell_type": "code",
   "execution_count": null,
   "metadata": {
    "executionInfo": {
     "elapsed": 398,
     "status": "aborted",
     "timestamp": 1659819958824,
     "user": {
      "displayName": "Tolu O.",
      "userId": "04888393322604891463"
     },
     "user_tz": 240
    },
    "id": "1_XliNAEJ-aa"
   },
   "outputs": [],
   "source": [
    "len(list_of_indexes_last)"
   ]
  },
  {
   "cell_type": "code",
   "execution_count": null,
   "metadata": {
    "executionInfo": {
     "elapsed": 399,
     "status": "aborted",
     "timestamp": 1659819958825,
     "user": {
      "displayName": "Tolu O.",
      "userId": "04888393322604891463"
     },
     "user_tz": 240
    },
    "id": "rDlFtzx5Ici8"
   },
   "outputs": [],
   "source": [
    "flat_list_last = [item for sublist in list_of_indexes_last for item in sublist]\n",
    "len(flat_list_last)"
   ]
  },
  {
   "cell_type": "code",
   "execution_count": null,
   "metadata": {
    "executionInfo": {
     "elapsed": 398,
     "status": "aborted",
     "timestamp": 1659819958825,
     "user": {
      "displayName": "Tolu O.",
      "userId": "04888393322604891463"
     },
     "user_tz": 240
    },
    "id": "Xd9rMiqiMxvH"
   },
   "outputs": [],
   "source": [
    "cc_trans_df.shape"
   ]
  },
  {
   "cell_type": "code",
   "execution_count": null,
   "metadata": {
    "executionInfo": {
     "elapsed": 398,
     "status": "aborted",
     "timestamp": 1659819958825,
     "user": {
      "displayName": "Tolu O.",
      "userId": "04888393322604891463"
     },
     "user_tz": 240
    },
    "id": "x5rjfPPBI3-G"
   },
   "outputs": [],
   "source": [
    "cc_trans_df.drop(index=flat_list_last, inplace=True)\n",
    "cc_trans_df.shape"
   ]
  },
  {
   "cell_type": "code",
   "execution_count": null,
   "metadata": {
    "executionInfo": {
     "elapsed": 14,
     "status": "aborted",
     "timestamp": 1659819958825,
     "user": {
      "displayName": "Tolu O.",
      "userId": "04888393322604891463"
     },
     "user_tz": 240
    },
    "id": "h3TZnIodbeb1"
   },
   "outputs": [],
   "source": [
    "cc_trans_df.is_fraud.value_counts()"
   ]
  },
  {
   "cell_type": "markdown",
   "metadata": {
    "id": "fE7wMXkYNSse"
   },
   "source": [
    "**Checking to make sure it was dropped appropriately (last names)**"
   ]
  },
  {
   "cell_type": "code",
   "execution_count": null,
   "metadata": {
    "executionInfo": {
     "elapsed": 14,
     "status": "aborted",
     "timestamp": 1659819958825,
     "user": {
      "displayName": "Tolu O.",
      "userId": "04888393322604891463"
     },
     "user_tz": 240
    },
    "id": "ttpxFZgmNRJe"
   },
   "outputs": [],
   "source": [
    "cc_trans_df.isna().sum().sum()"
   ]
  },
  {
   "cell_type": "code",
   "execution_count": null,
   "metadata": {
    "executionInfo": {
     "elapsed": 14,
     "status": "aborted",
     "timestamp": 1659819958825,
     "user": {
      "displayName": "Tolu O.",
      "userId": "04888393322604891463"
     },
     "user_tz": 240
    },
    "id": "lnMQh5G0Nazq"
   },
   "outputs": [],
   "source": [
    "cc_trans_df.duplicated().sum()"
   ]
  },
  {
   "cell_type": "markdown",
   "metadata": {
    "id": "D-jQv3UrHZ-T"
   },
   "source": [
    "Last names are a bit more unique than first names, so I will not try to find ways to reduce the rows even more using the last names."
   ]
  },
  {
   "cell_type": "markdown",
   "metadata": {
    "id": "dKWBNtAENqtc"
   },
   "source": [
    "## `gender` Column Preprocessing"
   ]
  },
  {
   "cell_type": "code",
   "execution_count": null,
   "metadata": {
    "executionInfo": {
     "elapsed": 15,
     "status": "aborted",
     "timestamp": 1659819958826,
     "user": {
      "displayName": "Tolu O.",
      "userId": "04888393322604891463"
     },
     "user_tz": 240
    },
    "id": "5tSVhyKMNhnm"
   },
   "outputs": [],
   "source": [
    "cc_trans_df.groupby(['gender', 'is_fraud']).count()['amt']"
   ]
  },
  {
   "cell_type": "markdown",
   "metadata": {
    "id": "N2-7nULxORZv"
   },
   "source": [
    "For the `gender` column, since there are only 2 categories, with potentially useful information, this column will be encoded using OHE."
   ]
  },
  {
   "cell_type": "markdown",
   "metadata": {
    "id": "02iyBKEVOcS2"
   },
   "source": [
    "## `street` Column Preprocessing"
   ]
  },
  {
   "cell_type": "code",
   "execution_count": null,
   "metadata": {
    "executionInfo": {
     "elapsed": 15,
     "status": "aborted",
     "timestamp": 1659819958826,
     "user": {
      "displayName": "Tolu O.",
      "userId": "04888393322604891463"
     },
     "user_tz": 240
    },
    "id": "9MuF_2ULOfPJ"
   },
   "outputs": [],
   "source": [
    "cc_trans_df.groupby(['street','is_fraud']).count()['amt'].unstack().sort_values(by=1, ascending=False)"
   ]
  },
  {
   "cell_type": "code",
   "execution_count": null,
   "metadata": {
    "executionInfo": {
     "elapsed": 15,
     "status": "aborted",
     "timestamp": 1659819958826,
     "user": {
      "displayName": "Tolu O.",
      "userId": "04888393322604891463"
     },
     "user_tz": 240
    },
    "id": "O0n8A_RoOabD"
   },
   "outputs": [],
   "source": [
    "street_fraud = cc_trans_df.groupby(['street','is_fraud']).count()['amt'].unstack().sort_values(by=1, ascending=False)"
   ]
  },
  {
   "cell_type": "code",
   "execution_count": null,
   "metadata": {
    "executionInfo": {
     "elapsed": 14,
     "status": "aborted",
     "timestamp": 1659819958826,
     "user": {
      "displayName": "Tolu O.",
      "userId": "04888393322604891463"
     },
     "user_tz": 240
    },
    "id": "3uX462REbSyz"
   },
   "outputs": [],
   "source": [
    "street_fraud[street_fraud[1].isna()]"
   ]
  },
  {
   "cell_type": "code",
   "execution_count": null,
   "metadata": {
    "executionInfo": {
     "elapsed": 14,
     "status": "aborted",
     "timestamp": 1659819958826,
     "user": {
      "displayName": "Tolu O.",
      "userId": "04888393322604891463"
     },
     "user_tz": 240
    },
    "id": "rRtcK9s2a1oJ"
   },
   "outputs": [],
   "source": [
    "street_to_be_dropped = street_fraud[street_fraud[1].isna()].index.tolist()\n",
    "len(street_to_be_dropped)"
   ]
  },
  {
   "cell_type": "code",
   "execution_count": null,
   "metadata": {
    "executionInfo": {
     "elapsed": 14,
     "status": "aborted",
     "timestamp": 1659819958826,
     "user": {
      "displayName": "Tolu O.",
      "userId": "04888393322604891463"
     },
     "user_tz": 240
    },
    "id": "F1u6-QxWbPML"
   },
   "outputs": [],
   "source": [
    "list_of_indexes_street = []\n",
    "\n",
    "for name in street_to_be_dropped:\n",
    "  list_of_indexes_street.append(cc_trans_df[cc_trans_df['street'] == name].index.tolist())\n",
    "\n",
    "# Sanity check\n",
    "print(len(list_of_indexes_street))"
   ]
  },
  {
   "cell_type": "code",
   "execution_count": null,
   "metadata": {
    "executionInfo": {
     "elapsed": 14,
     "status": "aborted",
     "timestamp": 1659819958826,
     "user": {
      "displayName": "Tolu O.",
      "userId": "04888393322604891463"
     },
     "user_tz": 240
    },
    "id": "Rx-hlIjMbnZv"
   },
   "outputs": [],
   "source": [
    "flat_list_street = [item for sublist in list_of_indexes_street for item in sublist]\n",
    "len(flat_list_street)"
   ]
  },
  {
   "cell_type": "code",
   "execution_count": null,
   "metadata": {
    "executionInfo": {
     "elapsed": 14,
     "status": "aborted",
     "timestamp": 1659819958826,
     "user": {
      "displayName": "Tolu O.",
      "userId": "04888393322604891463"
     },
     "user_tz": 240
    },
    "id": "U5cNeNxUb-dv"
   },
   "outputs": [],
   "source": [
    "cc_trans_df.shape"
   ]
  },
  {
   "cell_type": "code",
   "execution_count": null,
   "metadata": {
    "executionInfo": {
     "elapsed": 14,
     "status": "aborted",
     "timestamp": 1659819958826,
     "user": {
      "displayName": "Tolu O.",
      "userId": "04888393322604891463"
     },
     "user_tz": 240
    },
    "id": "vV42olNScJcv"
   },
   "outputs": [],
   "source": [
    "cc_trans_df.drop(index=flat_list_street, inplace=True)\n",
    "cc_trans_df.shape"
   ]
  },
  {
   "cell_type": "markdown",
   "metadata": {
    "id": "gOEGvKsydIGP"
   },
   "source": [
    "**Checking to make sure it was dropped appropriately (street)**"
   ]
  },
  {
   "cell_type": "code",
   "execution_count": null,
   "metadata": {
    "executionInfo": {
     "elapsed": 14,
     "status": "aborted",
     "timestamp": 1659819958826,
     "user": {
      "displayName": "Tolu O.",
      "userId": "04888393322604891463"
     },
     "user_tz": 240
    },
    "id": "lQCr3DOfdDSd"
   },
   "outputs": [],
   "source": [
    "cc_trans_df.isna().sum().sum()"
   ]
  },
  {
   "cell_type": "code",
   "execution_count": null,
   "metadata": {
    "executionInfo": {
     "elapsed": 14,
     "status": "aborted",
     "timestamp": 1659819958826,
     "user": {
      "displayName": "Tolu O.",
      "userId": "04888393322604891463"
     },
     "user_tz": 240
    },
    "id": "tZ4BJYRtdOly"
   },
   "outputs": [],
   "source": [
    "cc_trans_df.duplicated().sum()"
   ]
  },
  {
   "cell_type": "code",
   "execution_count": null,
   "metadata": {
    "executionInfo": {
     "elapsed": 15,
     "status": "aborted",
     "timestamp": 1659819958827,
     "user": {
      "displayName": "Tolu O.",
      "userId": "04888393322604891463"
     },
     "user_tz": 240
    },
    "id": "rUJTlMsTdVVP"
   },
   "outputs": [],
   "source": [
    "cc_trans_df['is_fraud'].value_counts()"
   ]
  },
  {
   "cell_type": "markdown",
   "metadata": {
    "id": "u2VQtJCUdwMJ"
   },
   "source": [
    "## `city` Column Preprocessing"
   ]
  },
  {
   "cell_type": "code",
   "execution_count": null,
   "metadata": {
    "executionInfo": {
     "elapsed": 15,
     "status": "aborted",
     "timestamp": 1659819958827,
     "user": {
      "displayName": "Tolu O.",
      "userId": "04888393322604891463"
     },
     "user_tz": 240
    },
    "id": "2VB5nFz5dcHO"
   },
   "outputs": [],
   "source": [
    "city_fraud = cc_trans_df.groupby(['city', 'is_fraud']).count()['amt'].unstack().sort_values(by=1, ascending=False)"
   ]
  },
  {
   "cell_type": "code",
   "execution_count": null,
   "metadata": {
    "executionInfo": {
     "elapsed": 15,
     "status": "aborted",
     "timestamp": 1659819958827,
     "user": {
      "displayName": "Tolu O.",
      "userId": "04888393322604891463"
     },
     "user_tz": 240
    },
    "id": "YqFtDmqrH4sJ"
   },
   "outputs": [],
   "source": [
    "city_fraud[city_fraud[1] < 5].count()"
   ]
  },
  {
   "cell_type": "code",
   "execution_count": null,
   "metadata": {
    "executionInfo": {
     "elapsed": 15,
     "status": "aborted",
     "timestamp": 1659819958827,
     "user": {
      "displayName": "Tolu O.",
      "userId": "04888393322604891463"
     },
     "user_tz": 240
    },
    "id": "fsZKW014H4mt"
   },
   "outputs": [],
   "source": [
    "city_fraud[city_fraud[1] < 5].sum()"
   ]
  },
  {
   "cell_type": "code",
   "execution_count": null,
   "metadata": {
    "executionInfo": {
     "elapsed": 15,
     "status": "aborted",
     "timestamp": 1659819958827,
     "user": {
      "displayName": "Tolu O.",
      "userId": "04888393322604891463"
     },
     "user_tz": 240
    },
    "id": "NFox95zTH4h_"
   },
   "outputs": [],
   "source": [
    "city_fraud[city_fraud[1] < 10].count()"
   ]
  },
  {
   "cell_type": "code",
   "execution_count": null,
   "metadata": {
    "executionInfo": {
     "elapsed": 14,
     "status": "aborted",
     "timestamp": 1659819958827,
     "user": {
      "displayName": "Tolu O.",
      "userId": "04888393322604891463"
     },
     "user_tz": 240
    },
    "id": "nPetpebqIY7t"
   },
   "outputs": [],
   "source": [
    "city_fraud[city_fraud[1] < 10]"
   ]
  },
  {
   "cell_type": "code",
   "execution_count": null,
   "metadata": {
    "executionInfo": {
     "elapsed": 14,
     "status": "aborted",
     "timestamp": 1659819958827,
     "user": {
      "displayName": "Tolu O.",
      "userId": "04888393322604891463"
     },
     "user_tz": 240
    },
    "id": "7VXDApwWIY5Y"
   },
   "outputs": [],
   "source": [
    "city_fraud[(city_fraud[1] < 10) & (~city_fraud[0].isna())].count()"
   ]
  },
  {
   "cell_type": "code",
   "execution_count": null,
   "metadata": {
    "executionInfo": {
     "elapsed": 14,
     "status": "aborted",
     "timestamp": 1659819958827,
     "user": {
      "displayName": "Tolu O.",
      "userId": "04888393322604891463"
     },
     "user_tz": 240
    },
    "id": "nc4c19rfIY19"
   },
   "outputs": [],
   "source": [
    "city_fraud[(city_fraud[1] < 10) & (~city_fraud[0].isna())].sum()"
   ]
  },
  {
   "cell_type": "code",
   "execution_count": null,
   "metadata": {
    "executionInfo": {
     "elapsed": 14,
     "status": "aborted",
     "timestamp": 1659819958827,
     "user": {
      "displayName": "Tolu O.",
      "userId": "04888393322604891463"
     },
     "user_tz": 240
    },
    "id": "ZRh8yabfkUlT"
   },
   "outputs": [],
   "source": [
    "cc_trans_df['is_fraud'].value_counts()"
   ]
  },
  {
   "cell_type": "markdown",
   "metadata": {
    "id": "ykPCfvw5I2ON"
   },
   "source": [
    "**Dropping some city columns**\n",
    "\n",
    "I'll drop the city that has less than 5 instances of fraudulent transactions, instead of 10."
   ]
  },
  {
   "cell_type": "code",
   "execution_count": null,
   "metadata": {
    "executionInfo": {
     "elapsed": 14,
     "status": "aborted",
     "timestamp": 1659819958827,
     "user": {
      "displayName": "Tolu O.",
      "userId": "04888393322604891463"
     },
     "user_tz": 240
    },
    "id": "p24ZGikRJhf-"
   },
   "outputs": [],
   "source": [
    "city_fraud[city_fraud[1] < 5].sum()"
   ]
  },
  {
   "cell_type": "code",
   "execution_count": null,
   "metadata": {
    "executionInfo": {
     "elapsed": 15,
     "status": "aborted",
     "timestamp": 1659819958828,
     "user": {
      "displayName": "Tolu O.",
      "userId": "04888393322604891463"
     },
     "user_tz": 240
    },
    "id": "Q79oB43TJn_3"
   },
   "outputs": [],
   "source": [
    "city_fraud[city_fraud[1] < 5].count()"
   ]
  },
  {
   "cell_type": "code",
   "execution_count": null,
   "metadata": {
    "executionInfo": {
     "elapsed": 15,
     "status": "aborted",
     "timestamp": 1659819958828,
     "user": {
      "displayName": "Tolu O.",
      "userId": "04888393322604891463"
     },
     "user_tz": 240
    },
    "id": "qduiHYsRIYzI"
   },
   "outputs": [],
   "source": [
    "city_to_be_dropped = city_fraud[city_fraud[1] < 5].index.tolist()\n",
    "len(city_to_be_dropped)"
   ]
  },
  {
   "cell_type": "code",
   "execution_count": null,
   "metadata": {
    "executionInfo": {
     "elapsed": 15,
     "status": "aborted",
     "timestamp": 1659819958828,
     "user": {
      "displayName": "Tolu O.",
      "userId": "04888393322604891463"
     },
     "user_tz": 240
    },
    "id": "9JE0IukNJx3q"
   },
   "outputs": [],
   "source": [
    "list_of_indexes_city = []\n",
    "\n",
    "for city in city_to_be_dropped:\n",
    "  list_of_indexes_city.append(cc_trans_df[cc_trans_df['city'] == city].index.tolist())\n",
    "\n",
    "# Sanity check\n",
    "len(list_of_indexes_city)"
   ]
  },
  {
   "cell_type": "code",
   "execution_count": null,
   "metadata": {
    "executionInfo": {
     "elapsed": 15,
     "status": "aborted",
     "timestamp": 1659819958828,
     "user": {
      "displayName": "Tolu O.",
      "userId": "04888393322604891463"
     },
     "user_tz": 240
    },
    "id": "gXKsWGM5JxxJ"
   },
   "outputs": [],
   "source": [
    "flat_list_city = [item for sublist in list_of_indexes_city for item in sublist]\n",
    "len(flat_list_city)"
   ]
  },
  {
   "cell_type": "code",
   "execution_count": null,
   "metadata": {
    "executionInfo": {
     "elapsed": 15,
     "status": "aborted",
     "timestamp": 1659819958828,
     "user": {
      "displayName": "Tolu O.",
      "userId": "04888393322604891463"
     },
     "user_tz": 240
    },
    "id": "mi6liNw0Jxqm"
   },
   "outputs": [],
   "source": [
    "cc_trans_df.drop(index=flat_list_city, inplace=True)\n",
    "cc_trans_df.shape"
   ]
  },
  {
   "cell_type": "code",
   "execution_count": null,
   "metadata": {
    "executionInfo": {
     "elapsed": 15,
     "status": "aborted",
     "timestamp": 1659819958828,
     "user": {
      "displayName": "Tolu O.",
      "userId": "04888393322604891463"
     },
     "user_tz": 240
    },
    "id": "jEv8Lt2UJxiR"
   },
   "outputs": [],
   "source": [
    "cc_trans_df['is_fraud'].value_counts()"
   ]
  },
  {
   "cell_type": "markdown",
   "metadata": {
    "id": "2BWlQ3g6eLhE"
   },
   "source": [
    "## `state` Column Preprocessing"
   ]
  },
  {
   "cell_type": "code",
   "execution_count": null,
   "metadata": {
    "executionInfo": {
     "elapsed": 14,
     "status": "aborted",
     "timestamp": 1659819958828,
     "user": {
      "displayName": "Tolu O.",
      "userId": "04888393322604891463"
     },
     "user_tz": 240
    },
    "id": "3sSzeYKcdtzP"
   },
   "outputs": [],
   "source": [
    "cc_trans_df.groupby(['state', 'is_fraud']).count()['amt'].unstack().sort_values(by=1, ascending=False)"
   ]
  },
  {
   "cell_type": "code",
   "execution_count": null,
   "metadata": {
    "executionInfo": {
     "elapsed": 14,
     "status": "aborted",
     "timestamp": 1659819958828,
     "user": {
      "displayName": "Tolu O.",
      "userId": "04888393322604891463"
     },
     "user_tz": 240
    },
    "id": "ZXVs89smeYGz"
   },
   "outputs": [],
   "source": [
    "state_fraud = cc_trans_df.groupby(['state', 'is_fraud']).count()['amt'].unstack().sort_values(by=1, ascending=False)"
   ]
  },
  {
   "cell_type": "markdown",
   "metadata": {
    "id": "sSCvOn8tin1n"
   },
   "source": [
    "There is no evidence showing that the rows for the `state` columns can be dropped, due to the fact that the unique states are significantly less than the merchant, first, last, and state columns. So for now, the `state` column will be OHE. If need be, I can come back to it to see if there are ways to reduce the rows."
   ]
  },
  {
   "cell_type": "markdown",
   "metadata": {
    "id": "LXJbBaT1MLo_"
   },
   "source": [
    "## `job` Column Preprocessing"
   ]
  },
  {
   "cell_type": "code",
   "execution_count": null,
   "metadata": {
    "colab": {
     "base_uri": "https://localhost:8080/",
     "height": 455
    },
    "executionInfo": {
     "elapsed": 262,
     "status": "ok",
     "timestamp": 1659816675899,
     "user": {
      "displayName": "Tolu O.",
      "userId": "04888393322604891463"
     },
     "user_tz": 240
    },
    "id": "o9eUDkjaiuIz",
    "outputId": "e729b7e8-79f1-4a25-f539-634b94df8807"
   },
   "outputs": [
    {
     "data": {
      "text/html": [
       "\n",
       "  <div id=\"df-5bc308a7-832b-4a92-9035-ac3f99bfdcf1\">\n",
       "    <div class=\"colab-df-container\">\n",
       "      <div>\n",
       "<style scoped>\n",
       "    .dataframe tbody tr th:only-of-type {\n",
       "        vertical-align: middle;\n",
       "    }\n",
       "\n",
       "    .dataframe tbody tr th {\n",
       "        vertical-align: top;\n",
       "    }\n",
       "\n",
       "    .dataframe thead th {\n",
       "        text-align: right;\n",
       "    }\n",
       "</style>\n",
       "<table border=\"1\" class=\"dataframe\">\n",
       "  <thead>\n",
       "    <tr style=\"text-align: right;\">\n",
       "      <th>is_fraud</th>\n",
       "      <th>0</th>\n",
       "      <th>1</th>\n",
       "    </tr>\n",
       "    <tr>\n",
       "      <th>job</th>\n",
       "      <th></th>\n",
       "      <th></th>\n",
       "    </tr>\n",
       "  </thead>\n",
       "  <tbody>\n",
       "    <tr>\n",
       "      <th>Trading standards officer</th>\n",
       "      <td>1270.0</td>\n",
       "      <td>45.0</td>\n",
       "    </tr>\n",
       "    <tr>\n",
       "      <th>Scientist, biomedical</th>\n",
       "      <td>1590.0</td>\n",
       "      <td>39.0</td>\n",
       "    </tr>\n",
       "    <tr>\n",
       "      <th>Exhibition designer</th>\n",
       "      <td>3383.0</td>\n",
       "      <td>38.0</td>\n",
       "    </tr>\n",
       "    <tr>\n",
       "      <th>Materials engineer</th>\n",
       "      <td>1835.0</td>\n",
       "      <td>36.0</td>\n",
       "    </tr>\n",
       "    <tr>\n",
       "      <th>Senior tax professional/tax inspector</th>\n",
       "      <td>1416.0</td>\n",
       "      <td>35.0</td>\n",
       "    </tr>\n",
       "    <tr>\n",
       "      <th>...</th>\n",
       "      <td>...</td>\n",
       "      <td>...</td>\n",
       "    </tr>\n",
       "    <tr>\n",
       "      <th>Cabin crew</th>\n",
       "      <td>366.0</td>\n",
       "      <td>5.0</td>\n",
       "    </tr>\n",
       "    <tr>\n",
       "      <th>Colour technologist</th>\n",
       "      <td>196.0</td>\n",
       "      <td>4.0</td>\n",
       "    </tr>\n",
       "    <tr>\n",
       "      <th>Product/process development scientist</th>\n",
       "      <td>870.0</td>\n",
       "      <td>4.0</td>\n",
       "    </tr>\n",
       "    <tr>\n",
       "      <th>Programme researcher, broadcasting/film/video</th>\n",
       "      <td>869.0</td>\n",
       "      <td>4.0</td>\n",
       "    </tr>\n",
       "    <tr>\n",
       "      <th>Pathologist</th>\n",
       "      <td>375.0</td>\n",
       "      <td>1.0</td>\n",
       "    </tr>\n",
       "  </tbody>\n",
       "</table>\n",
       "<p>335 rows × 2 columns</p>\n",
       "</div>\n",
       "      <button class=\"colab-df-convert\" onclick=\"convertToInteractive('df-5bc308a7-832b-4a92-9035-ac3f99bfdcf1')\"\n",
       "              title=\"Convert this dataframe to an interactive table.\"\n",
       "              style=\"display:none;\">\n",
       "        \n",
       "  <svg xmlns=\"http://www.w3.org/2000/svg\" height=\"24px\"viewBox=\"0 0 24 24\"\n",
       "       width=\"24px\">\n",
       "    <path d=\"M0 0h24v24H0V0z\" fill=\"none\"/>\n",
       "    <path d=\"M18.56 5.44l.94 2.06.94-2.06 2.06-.94-2.06-.94-.94-2.06-.94 2.06-2.06.94zm-11 1L8.5 8.5l.94-2.06 2.06-.94-2.06-.94L8.5 2.5l-.94 2.06-2.06.94zm10 10l.94 2.06.94-2.06 2.06-.94-2.06-.94-.94-2.06-.94 2.06-2.06.94z\"/><path d=\"M17.41 7.96l-1.37-1.37c-.4-.4-.92-.59-1.43-.59-.52 0-1.04.2-1.43.59L10.3 9.45l-7.72 7.72c-.78.78-.78 2.05 0 2.83L4 21.41c.39.39.9.59 1.41.59.51 0 1.02-.2 1.41-.59l7.78-7.78 2.81-2.81c.8-.78.8-2.07 0-2.86zM5.41 20L4 18.59l7.72-7.72 1.47 1.35L5.41 20z\"/>\n",
       "  </svg>\n",
       "      </button>\n",
       "      \n",
       "  <style>\n",
       "    .colab-df-container {\n",
       "      display:flex;\n",
       "      flex-wrap:wrap;\n",
       "      gap: 12px;\n",
       "    }\n",
       "\n",
       "    .colab-df-convert {\n",
       "      background-color: #E8F0FE;\n",
       "      border: none;\n",
       "      border-radius: 50%;\n",
       "      cursor: pointer;\n",
       "      display: none;\n",
       "      fill: #1967D2;\n",
       "      height: 32px;\n",
       "      padding: 0 0 0 0;\n",
       "      width: 32px;\n",
       "    }\n",
       "\n",
       "    .colab-df-convert:hover {\n",
       "      background-color: #E2EBFA;\n",
       "      box-shadow: 0px 1px 2px rgba(60, 64, 67, 0.3), 0px 1px 3px 1px rgba(60, 64, 67, 0.15);\n",
       "      fill: #174EA6;\n",
       "    }\n",
       "\n",
       "    [theme=dark] .colab-df-convert {\n",
       "      background-color: #3B4455;\n",
       "      fill: #D2E3FC;\n",
       "    }\n",
       "\n",
       "    [theme=dark] .colab-df-convert:hover {\n",
       "      background-color: #434B5C;\n",
       "      box-shadow: 0px 1px 3px 1px rgba(0, 0, 0, 0.15);\n",
       "      filter: drop-shadow(0px 1px 2px rgba(0, 0, 0, 0.3));\n",
       "      fill: #FFFFFF;\n",
       "    }\n",
       "  </style>\n",
       "\n",
       "      <script>\n",
       "        const buttonEl =\n",
       "          document.querySelector('#df-5bc308a7-832b-4a92-9035-ac3f99bfdcf1 button.colab-df-convert');\n",
       "        buttonEl.style.display =\n",
       "          google.colab.kernel.accessAllowed ? 'block' : 'none';\n",
       "\n",
       "        async function convertToInteractive(key) {\n",
       "          const element = document.querySelector('#df-5bc308a7-832b-4a92-9035-ac3f99bfdcf1');\n",
       "          const dataTable =\n",
       "            await google.colab.kernel.invokeFunction('convertToInteractive',\n",
       "                                                     [key], {});\n",
       "          if (!dataTable) return;\n",
       "\n",
       "          const docLinkHtml = 'Like what you see? Visit the ' +\n",
       "            '<a target=\"_blank\" href=https://colab.research.google.com/notebooks/data_table.ipynb>data table notebook</a>'\n",
       "            + ' to learn more about interactive tables.';\n",
       "          element.innerHTML = '';\n",
       "          dataTable['output_type'] = 'display_data';\n",
       "          await google.colab.output.renderOutput(dataTable, element);\n",
       "          const docLink = document.createElement('div');\n",
       "          docLink.innerHTML = docLinkHtml;\n",
       "          element.appendChild(docLink);\n",
       "        }\n",
       "      </script>\n",
       "    </div>\n",
       "  </div>\n",
       "  "
      ],
      "text/plain": [
       "is_fraud                                            0     1\n",
       "job                                                        \n",
       "Trading standards officer                      1270.0  45.0\n",
       "Scientist, biomedical                          1590.0  39.0\n",
       "Exhibition designer                            3383.0  38.0\n",
       "Materials engineer                             1835.0  36.0\n",
       "Senior tax professional/tax inspector          1416.0  35.0\n",
       "...                                               ...   ...\n",
       "Cabin crew                                      366.0   5.0\n",
       "Colour technologist                             196.0   4.0\n",
       "Product/process development scientist           870.0   4.0\n",
       "Programme researcher, broadcasting/film/video   869.0   4.0\n",
       "Pathologist                                     375.0   1.0\n",
       "\n",
       "[335 rows x 2 columns]"
      ]
     },
     "execution_count": 182,
     "metadata": {},
     "output_type": "execute_result"
    }
   ],
   "source": [
    "cc_trans_df.groupby(['job', 'is_fraud']).count()['amt'].unstack().sort_values(by=1, ascending=False)"
   ]
  },
  {
   "cell_type": "code",
   "execution_count": null,
   "metadata": {
    "id": "5xj9dxh0iwh9"
   },
   "outputs": [],
   "source": [
    "job_fraud = cc_trans_df.groupby(['job', 'is_fraud']).count()['amt'].unstack().sort_values(by=1, ascending=False)"
   ]
  },
  {
   "cell_type": "markdown",
   "metadata": {
    "id": "WWHCpHYIyQCw"
   },
   "source": [
    "I notice that there are a lot of duplicated general job titles (like engineer, designer, scientist, technologist, etc) that are used throughout the dataset, but these general job titles are embedded with specific specializations, like materials engineer, multimedia designer, etc. So, I decided to separate the column by the comma (,) which is used to separate the specialization from the general job title."
   ]
  },
  {
   "cell_type": "code",
   "execution_count": null,
   "metadata": {
    "colab": {
     "base_uri": "https://localhost:8080/",
     "height": 424
    },
    "executionInfo": {
     "elapsed": 697,
     "status": "ok",
     "timestamp": 1659816862167,
     "user": {
      "displayName": "Tolu O.",
      "userId": "04888393322604891463"
     },
     "user_tz": 240
    },
    "id": "U0qlwlrT1yiV",
    "outputId": "68e0ab5f-a8a9-498b-8ce0-facd68534de1"
   },
   "outputs": [
    {
     "data": {
      "text/html": [
       "\n",
       "  <div id=\"df-8aa72148-8279-4dcb-afda-51c1c375b901\">\n",
       "    <div class=\"colab-df-container\">\n",
       "      <div>\n",
       "<style scoped>\n",
       "    .dataframe tbody tr th:only-of-type {\n",
       "        vertical-align: middle;\n",
       "    }\n",
       "\n",
       "    .dataframe tbody tr th {\n",
       "        vertical-align: top;\n",
       "    }\n",
       "\n",
       "    .dataframe thead th {\n",
       "        text-align: right;\n",
       "    }\n",
       "</style>\n",
       "<table border=\"1\" class=\"dataframe\">\n",
       "  <thead>\n",
       "    <tr style=\"text-align: right;\">\n",
       "      <th></th>\n",
       "      <th>0</th>\n",
       "      <th>1</th>\n",
       "    </tr>\n",
       "  </thead>\n",
       "  <tbody>\n",
       "    <tr>\n",
       "      <th>5</th>\n",
       "      <td>Transport planner</td>\n",
       "      <td>None</td>\n",
       "    </tr>\n",
       "    <tr>\n",
       "      <th>7</th>\n",
       "      <td>Designer</td>\n",
       "      <td>multimedia</td>\n",
       "    </tr>\n",
       "    <tr>\n",
       "      <th>9</th>\n",
       "      <td>Pathologist</td>\n",
       "      <td>None</td>\n",
       "    </tr>\n",
       "    <tr>\n",
       "      <th>12</th>\n",
       "      <td>Engineer</td>\n",
       "      <td>land</td>\n",
       "    </tr>\n",
       "    <tr>\n",
       "      <th>14</th>\n",
       "      <td>Naval architect</td>\n",
       "      <td>None</td>\n",
       "    </tr>\n",
       "    <tr>\n",
       "      <th>...</th>\n",
       "      <td>...</td>\n",
       "      <td>...</td>\n",
       "    </tr>\n",
       "    <tr>\n",
       "      <th>1296631</th>\n",
       "      <td>Public relations account executive</td>\n",
       "      <td>None</td>\n",
       "    </tr>\n",
       "    <tr>\n",
       "      <th>1296634</th>\n",
       "      <td>Special effects artist</td>\n",
       "      <td>None</td>\n",
       "    </tr>\n",
       "    <tr>\n",
       "      <th>1296639</th>\n",
       "      <td>Occupational psychologist</td>\n",
       "      <td>None</td>\n",
       "    </tr>\n",
       "    <tr>\n",
       "      <th>1296640</th>\n",
       "      <td>Higher education careers adviser</td>\n",
       "      <td>None</td>\n",
       "    </tr>\n",
       "    <tr>\n",
       "      <th>1296642</th>\n",
       "      <td>Librarian</td>\n",
       "      <td>public</td>\n",
       "    </tr>\n",
       "  </tbody>\n",
       "</table>\n",
       "<p>214275 rows × 2 columns</p>\n",
       "</div>\n",
       "      <button class=\"colab-df-convert\" onclick=\"convertToInteractive('df-8aa72148-8279-4dcb-afda-51c1c375b901')\"\n",
       "              title=\"Convert this dataframe to an interactive table.\"\n",
       "              style=\"display:none;\">\n",
       "        \n",
       "  <svg xmlns=\"http://www.w3.org/2000/svg\" height=\"24px\"viewBox=\"0 0 24 24\"\n",
       "       width=\"24px\">\n",
       "    <path d=\"M0 0h24v24H0V0z\" fill=\"none\"/>\n",
       "    <path d=\"M18.56 5.44l.94 2.06.94-2.06 2.06-.94-2.06-.94-.94-2.06-.94 2.06-2.06.94zm-11 1L8.5 8.5l.94-2.06 2.06-.94-2.06-.94L8.5 2.5l-.94 2.06-2.06.94zm10 10l.94 2.06.94-2.06 2.06-.94-2.06-.94-.94-2.06-.94 2.06-2.06.94z\"/><path d=\"M17.41 7.96l-1.37-1.37c-.4-.4-.92-.59-1.43-.59-.52 0-1.04.2-1.43.59L10.3 9.45l-7.72 7.72c-.78.78-.78 2.05 0 2.83L4 21.41c.39.39.9.59 1.41.59.51 0 1.02-.2 1.41-.59l7.78-7.78 2.81-2.81c.8-.78.8-2.07 0-2.86zM5.41 20L4 18.59l7.72-7.72 1.47 1.35L5.41 20z\"/>\n",
       "  </svg>\n",
       "      </button>\n",
       "      \n",
       "  <style>\n",
       "    .colab-df-container {\n",
       "      display:flex;\n",
       "      flex-wrap:wrap;\n",
       "      gap: 12px;\n",
       "    }\n",
       "\n",
       "    .colab-df-convert {\n",
       "      background-color: #E8F0FE;\n",
       "      border: none;\n",
       "      border-radius: 50%;\n",
       "      cursor: pointer;\n",
       "      display: none;\n",
       "      fill: #1967D2;\n",
       "      height: 32px;\n",
       "      padding: 0 0 0 0;\n",
       "      width: 32px;\n",
       "    }\n",
       "\n",
       "    .colab-df-convert:hover {\n",
       "      background-color: #E2EBFA;\n",
       "      box-shadow: 0px 1px 2px rgba(60, 64, 67, 0.3), 0px 1px 3px 1px rgba(60, 64, 67, 0.15);\n",
       "      fill: #174EA6;\n",
       "    }\n",
       "\n",
       "    [theme=dark] .colab-df-convert {\n",
       "      background-color: #3B4455;\n",
       "      fill: #D2E3FC;\n",
       "    }\n",
       "\n",
       "    [theme=dark] .colab-df-convert:hover {\n",
       "      background-color: #434B5C;\n",
       "      box-shadow: 0px 1px 3px 1px rgba(0, 0, 0, 0.15);\n",
       "      filter: drop-shadow(0px 1px 2px rgba(0, 0, 0, 0.3));\n",
       "      fill: #FFFFFF;\n",
       "    }\n",
       "  </style>\n",
       "\n",
       "      <script>\n",
       "        const buttonEl =\n",
       "          document.querySelector('#df-8aa72148-8279-4dcb-afda-51c1c375b901 button.colab-df-convert');\n",
       "        buttonEl.style.display =\n",
       "          google.colab.kernel.accessAllowed ? 'block' : 'none';\n",
       "\n",
       "        async function convertToInteractive(key) {\n",
       "          const element = document.querySelector('#df-8aa72148-8279-4dcb-afda-51c1c375b901');\n",
       "          const dataTable =\n",
       "            await google.colab.kernel.invokeFunction('convertToInteractive',\n",
       "                                                     [key], {});\n",
       "          if (!dataTable) return;\n",
       "\n",
       "          const docLinkHtml = 'Like what you see? Visit the ' +\n",
       "            '<a target=\"_blank\" href=https://colab.research.google.com/notebooks/data_table.ipynb>data table notebook</a>'\n",
       "            + ' to learn more about interactive tables.';\n",
       "          element.innerHTML = '';\n",
       "          dataTable['output_type'] = 'display_data';\n",
       "          await google.colab.output.renderOutput(dataTable, element);\n",
       "          const docLink = document.createElement('div');\n",
       "          docLink.innerHTML = docLinkHtml;\n",
       "          element.appendChild(docLink);\n",
       "        }\n",
       "      </script>\n",
       "    </div>\n",
       "  </div>\n",
       "  "
      ],
      "text/plain": [
       "                                          0            1\n",
       "5                         Transport planner         None\n",
       "7                                  Designer   multimedia\n",
       "9                               Pathologist         None\n",
       "12                                 Engineer         land\n",
       "14                          Naval architect         None\n",
       "...                                     ...          ...\n",
       "1296631  Public relations account executive         None\n",
       "1296634              Special effects artist         None\n",
       "1296639           Occupational psychologist         None\n",
       "1296640    Higher education careers adviser         None\n",
       "1296642                           Librarian       public\n",
       "\n",
       "[214275 rows x 2 columns]"
      ]
     },
     "execution_count": 185,
     "metadata": {},
     "output_type": "execute_result"
    }
   ],
   "source": [
    "# Separate the job titles by comma (,)\n",
    "\n",
    "cc_trans_df['job'].str.split(',', expand=True)"
   ]
  },
  {
   "cell_type": "code",
   "execution_count": null,
   "metadata": {
    "colab": {
     "base_uri": "https://localhost:8080/",
     "height": 595
    },
    "executionInfo": {
     "elapsed": 520,
     "status": "ok",
     "timestamp": 1659816899064,
     "user": {
      "displayName": "Tolu O.",
      "userId": "04888393322604891463"
     },
     "user_tz": 240
    },
    "id": "kQLRX9cG3CpV",
    "outputId": "1d413ced-6994-4f06-bd75-39f1305a6c27"
   },
   "outputs": [
    {
     "data": {
      "text/html": [
       "\n",
       "  <div id=\"df-fcf3e278-0c72-4dd0-81ed-4db40abcb7d3\">\n",
       "    <div class=\"colab-df-container\">\n",
       "      <div>\n",
       "<style scoped>\n",
       "    .dataframe tbody tr th:only-of-type {\n",
       "        vertical-align: middle;\n",
       "    }\n",
       "\n",
       "    .dataframe tbody tr th {\n",
       "        vertical-align: top;\n",
       "    }\n",
       "\n",
       "    .dataframe thead th {\n",
       "        text-align: right;\n",
       "    }\n",
       "</style>\n",
       "<table border=\"1\" class=\"dataframe\">\n",
       "  <thead>\n",
       "    <tr style=\"text-align: right;\">\n",
       "      <th></th>\n",
       "      <th>trans_date_trans_time</th>\n",
       "      <th>cc_num</th>\n",
       "      <th>merchant</th>\n",
       "      <th>category</th>\n",
       "      <th>amt</th>\n",
       "      <th>first</th>\n",
       "      <th>last</th>\n",
       "      <th>gender</th>\n",
       "      <th>street</th>\n",
       "      <th>city</th>\n",
       "      <th>...</th>\n",
       "      <th>zip</th>\n",
       "      <th>lat</th>\n",
       "      <th>long</th>\n",
       "      <th>city_pop</th>\n",
       "      <th>job</th>\n",
       "      <th>dob</th>\n",
       "      <th>unix_time</th>\n",
       "      <th>merch_lat</th>\n",
       "      <th>merch_long</th>\n",
       "      <th>is_fraud</th>\n",
       "    </tr>\n",
       "  </thead>\n",
       "  <tbody>\n",
       "    <tr>\n",
       "      <th>5</th>\n",
       "      <td>2019-01-01 00:04:08</td>\n",
       "      <td>4767265376804500</td>\n",
       "      <td>Stroman, Hudson and Erdman</td>\n",
       "      <td>gas_transport</td>\n",
       "      <td>94.63</td>\n",
       "      <td>Jennifer</td>\n",
       "      <td>Conner</td>\n",
       "      <td>F</td>\n",
       "      <td>4655 David Island</td>\n",
       "      <td>Dublin</td>\n",
       "      <td>...</td>\n",
       "      <td>18917</td>\n",
       "      <td>40.3750</td>\n",
       "      <td>-75.2045</td>\n",
       "      <td>2158</td>\n",
       "      <td>Transport planner</td>\n",
       "      <td>1961-06-19</td>\n",
       "      <td>1325376248</td>\n",
       "      <td>40.653382</td>\n",
       "      <td>-76.152667</td>\n",
       "      <td>0</td>\n",
       "    </tr>\n",
       "    <tr>\n",
       "      <th>7</th>\n",
       "      <td>2019-01-01 00:05:08</td>\n",
       "      <td>6011360759745864</td>\n",
       "      <td>Corwin-Collins</td>\n",
       "      <td>gas_transport</td>\n",
       "      <td>71.65</td>\n",
       "      <td>Steven</td>\n",
       "      <td>Williams</td>\n",
       "      <td>M</td>\n",
       "      <td>231 Flores Pass Suite 720</td>\n",
       "      <td>Edinburg</td>\n",
       "      <td>...</td>\n",
       "      <td>22824</td>\n",
       "      <td>38.8432</td>\n",
       "      <td>-78.6003</td>\n",
       "      <td>6018</td>\n",
       "      <td>Designer</td>\n",
       "      <td>1947-08-21</td>\n",
       "      <td>1325376308</td>\n",
       "      <td>38.948089</td>\n",
       "      <td>-78.540296</td>\n",
       "      <td>0</td>\n",
       "    </tr>\n",
       "    <tr>\n",
       "      <th>9</th>\n",
       "      <td>2019-01-01 00:06:01</td>\n",
       "      <td>2720830304681674</td>\n",
       "      <td>Schoen, Kuphal and Nitzsche</td>\n",
       "      <td>grocery_pos</td>\n",
       "      <td>198.39</td>\n",
       "      <td>Melissa</td>\n",
       "      <td>Aguilar</td>\n",
       "      <td>F</td>\n",
       "      <td>21326 Taylor Squares Suite 708</td>\n",
       "      <td>Clarksville</td>\n",
       "      <td>...</td>\n",
       "      <td>37040</td>\n",
       "      <td>36.5220</td>\n",
       "      <td>-87.3490</td>\n",
       "      <td>151785</td>\n",
       "      <td>Pathologist</td>\n",
       "      <td>1974-03-28</td>\n",
       "      <td>1325376361</td>\n",
       "      <td>37.179198</td>\n",
       "      <td>-87.485381</td>\n",
       "      <td>0</td>\n",
       "    </tr>\n",
       "    <tr>\n",
       "      <th>12</th>\n",
       "      <td>2019-01-01 00:06:56</td>\n",
       "      <td>180042946491150</td>\n",
       "      <td>Lockman Ltd</td>\n",
       "      <td>grocery_pos</td>\n",
       "      <td>71.22</td>\n",
       "      <td>Charles</td>\n",
       "      <td>Robles</td>\n",
       "      <td>M</td>\n",
       "      <td>3337 Lisa Divide</td>\n",
       "      <td>Saint Petersburg</td>\n",
       "      <td>...</td>\n",
       "      <td>33710</td>\n",
       "      <td>27.7898</td>\n",
       "      <td>-82.7243</td>\n",
       "      <td>341043</td>\n",
       "      <td>Engineer</td>\n",
       "      <td>1989-02-28</td>\n",
       "      <td>1325376416</td>\n",
       "      <td>27.630593</td>\n",
       "      <td>-82.308891</td>\n",
       "      <td>0</td>\n",
       "    </tr>\n",
       "    <tr>\n",
       "      <th>14</th>\n",
       "      <td>2019-01-01 00:09:03</td>\n",
       "      <td>3514865930894695</td>\n",
       "      <td>Beier-Hyatt</td>\n",
       "      <td>shopping_pos</td>\n",
       "      <td>7.77</td>\n",
       "      <td>Christopher</td>\n",
       "      <td>Castaneda</td>\n",
       "      <td>M</td>\n",
       "      <td>1632 Cohen Drive Suite 639</td>\n",
       "      <td>High Rolls Mountain Park</td>\n",
       "      <td>...</td>\n",
       "      <td>88325</td>\n",
       "      <td>32.9396</td>\n",
       "      <td>-105.8189</td>\n",
       "      <td>899</td>\n",
       "      <td>Naval architect</td>\n",
       "      <td>1967-08-30</td>\n",
       "      <td>1325376543</td>\n",
       "      <td>32.863258</td>\n",
       "      <td>-106.520205</td>\n",
       "      <td>0</td>\n",
       "    </tr>\n",
       "  </tbody>\n",
       "</table>\n",
       "<p>5 rows × 21 columns</p>\n",
       "</div>\n",
       "      <button class=\"colab-df-convert\" onclick=\"convertToInteractive('df-fcf3e278-0c72-4dd0-81ed-4db40abcb7d3')\"\n",
       "              title=\"Convert this dataframe to an interactive table.\"\n",
       "              style=\"display:none;\">\n",
       "        \n",
       "  <svg xmlns=\"http://www.w3.org/2000/svg\" height=\"24px\"viewBox=\"0 0 24 24\"\n",
       "       width=\"24px\">\n",
       "    <path d=\"M0 0h24v24H0V0z\" fill=\"none\"/>\n",
       "    <path d=\"M18.56 5.44l.94 2.06.94-2.06 2.06-.94-2.06-.94-.94-2.06-.94 2.06-2.06.94zm-11 1L8.5 8.5l.94-2.06 2.06-.94-2.06-.94L8.5 2.5l-.94 2.06-2.06.94zm10 10l.94 2.06.94-2.06 2.06-.94-2.06-.94-.94-2.06-.94 2.06-2.06.94z\"/><path d=\"M17.41 7.96l-1.37-1.37c-.4-.4-.92-.59-1.43-.59-.52 0-1.04.2-1.43.59L10.3 9.45l-7.72 7.72c-.78.78-.78 2.05 0 2.83L4 21.41c.39.39.9.59 1.41.59.51 0 1.02-.2 1.41-.59l7.78-7.78 2.81-2.81c.8-.78.8-2.07 0-2.86zM5.41 20L4 18.59l7.72-7.72 1.47 1.35L5.41 20z\"/>\n",
       "  </svg>\n",
       "      </button>\n",
       "      \n",
       "  <style>\n",
       "    .colab-df-container {\n",
       "      display:flex;\n",
       "      flex-wrap:wrap;\n",
       "      gap: 12px;\n",
       "    }\n",
       "\n",
       "    .colab-df-convert {\n",
       "      background-color: #E8F0FE;\n",
       "      border: none;\n",
       "      border-radius: 50%;\n",
       "      cursor: pointer;\n",
       "      display: none;\n",
       "      fill: #1967D2;\n",
       "      height: 32px;\n",
       "      padding: 0 0 0 0;\n",
       "      width: 32px;\n",
       "    }\n",
       "\n",
       "    .colab-df-convert:hover {\n",
       "      background-color: #E2EBFA;\n",
       "      box-shadow: 0px 1px 2px rgba(60, 64, 67, 0.3), 0px 1px 3px 1px rgba(60, 64, 67, 0.15);\n",
       "      fill: #174EA6;\n",
       "    }\n",
       "\n",
       "    [theme=dark] .colab-df-convert {\n",
       "      background-color: #3B4455;\n",
       "      fill: #D2E3FC;\n",
       "    }\n",
       "\n",
       "    [theme=dark] .colab-df-convert:hover {\n",
       "      background-color: #434B5C;\n",
       "      box-shadow: 0px 1px 3px 1px rgba(0, 0, 0, 0.15);\n",
       "      filter: drop-shadow(0px 1px 2px rgba(0, 0, 0, 0.3));\n",
       "      fill: #FFFFFF;\n",
       "    }\n",
       "  </style>\n",
       "\n",
       "      <script>\n",
       "        const buttonEl =\n",
       "          document.querySelector('#df-fcf3e278-0c72-4dd0-81ed-4db40abcb7d3 button.colab-df-convert');\n",
       "        buttonEl.style.display =\n",
       "          google.colab.kernel.accessAllowed ? 'block' : 'none';\n",
       "\n",
       "        async function convertToInteractive(key) {\n",
       "          const element = document.querySelector('#df-fcf3e278-0c72-4dd0-81ed-4db40abcb7d3');\n",
       "          const dataTable =\n",
       "            await google.colab.kernel.invokeFunction('convertToInteractive',\n",
       "                                                     [key], {});\n",
       "          if (!dataTable) return;\n",
       "\n",
       "          const docLinkHtml = 'Like what you see? Visit the ' +\n",
       "            '<a target=\"_blank\" href=https://colab.research.google.com/notebooks/data_table.ipynb>data table notebook</a>'\n",
       "            + ' to learn more about interactive tables.';\n",
       "          element.innerHTML = '';\n",
       "          dataTable['output_type'] = 'display_data';\n",
       "          await google.colab.output.renderOutput(dataTable, element);\n",
       "          const docLink = document.createElement('div');\n",
       "          docLink.innerHTML = docLinkHtml;\n",
       "          element.appendChild(docLink);\n",
       "        }\n",
       "      </script>\n",
       "    </div>\n",
       "  </div>\n",
       "  "
      ],
      "text/plain": [
       "   trans_date_trans_time            cc_num                     merchant  \\\n",
       "5    2019-01-01 00:04:08  4767265376804500   Stroman, Hudson and Erdman   \n",
       "7    2019-01-01 00:05:08  6011360759745864               Corwin-Collins   \n",
       "9    2019-01-01 00:06:01  2720830304681674  Schoen, Kuphal and Nitzsche   \n",
       "12   2019-01-01 00:06:56   180042946491150                  Lockman Ltd   \n",
       "14   2019-01-01 00:09:03  3514865930894695                  Beier-Hyatt   \n",
       "\n",
       "         category     amt        first       last gender  \\\n",
       "5   gas_transport   94.63     Jennifer     Conner      F   \n",
       "7   gas_transport   71.65       Steven   Williams      M   \n",
       "9     grocery_pos  198.39      Melissa    Aguilar      F   \n",
       "12    grocery_pos   71.22      Charles     Robles      M   \n",
       "14   shopping_pos    7.77  Christopher  Castaneda      M   \n",
       "\n",
       "                            street                      city  ...    zip  \\\n",
       "5                4655 David Island                    Dublin  ...  18917   \n",
       "7        231 Flores Pass Suite 720                  Edinburg  ...  22824   \n",
       "9   21326 Taylor Squares Suite 708               Clarksville  ...  37040   \n",
       "12                3337 Lisa Divide          Saint Petersburg  ...  33710   \n",
       "14      1632 Cohen Drive Suite 639  High Rolls Mountain Park  ...  88325   \n",
       "\n",
       "        lat      long  city_pop                job        dob   unix_time  \\\n",
       "5   40.3750  -75.2045      2158  Transport planner 1961-06-19  1325376248   \n",
       "7   38.8432  -78.6003      6018           Designer 1947-08-21  1325376308   \n",
       "9   36.5220  -87.3490    151785        Pathologist 1974-03-28  1325376361   \n",
       "12  27.7898  -82.7243    341043           Engineer 1989-02-28  1325376416   \n",
       "14  32.9396 -105.8189       899    Naval architect 1967-08-30  1325376543   \n",
       "\n",
       "    merch_lat  merch_long  is_fraud  \n",
       "5   40.653382  -76.152667         0  \n",
       "7   38.948089  -78.540296         0  \n",
       "9   37.179198  -87.485381         0  \n",
       "12  27.630593  -82.308891         0  \n",
       "14  32.863258 -106.520205         0  \n",
       "\n",
       "[5 rows x 21 columns]"
      ]
     },
     "execution_count": 186,
     "metadata": {},
     "output_type": "execute_result"
    }
   ],
   "source": [
    "# Only including the first part of the separation \n",
    "# which should be the general job titles for SOME jobs\n",
    "\n",
    "cc_trans_df['job'] = cc_trans_df['job'].str.split(',', expand=True)[0]\n",
    "cc_trans_df.head()"
   ]
  },
  {
   "cell_type": "code",
   "execution_count": null,
   "metadata": {
    "colab": {
     "base_uri": "https://localhost:8080/"
    },
    "executionInfo": {
     "elapsed": 112,
     "status": "ok",
     "timestamp": 1659816916748,
     "user": {
      "displayName": "Tolu O.",
      "userId": "04888393322604891463"
     },
     "user_tz": 240
    },
    "id": "MgPARXbF4Qll",
    "outputId": "2e6f99e6-5ed5-44d5-ea59-15d9e8263de8"
   },
   "outputs": [
    {
     "data": {
      "text/plain": [
       "Engineer                      9131\n",
       "Designer                      4487\n",
       "Scientist                     3533\n",
       "Exhibition designer           3421\n",
       "Therapist                     2549\n",
       "                              ... \n",
       "Contracting civil engineer       7\n",
       "Dancer                           6\n",
       "Warehouse manager                6\n",
       "Tree surgeon                     6\n",
       "Information officer              5\n",
       "Name: job, Length: 294, dtype: int64"
      ]
     },
     "execution_count": 187,
     "metadata": {},
     "output_type": "execute_result"
    }
   ],
   "source": [
    "# Checking to make sure this worked\n",
    "\n",
    "cc_trans_df['job'].value_counts()"
   ]
  },
  {
   "cell_type": "markdown",
   "metadata": {
    "id": "z2k_IK2NzD7Q"
   },
   "source": [
    "The original number of job titles was 335, the new number of job titles is 294. Meaning I was able to group 41 jobs together based on the general job titles. I can now see that Engineer has the most transactions, followed by Designer and Scentist.\n",
    "\n",
    "---\n",
    "\n",
    "Now, I can get back to looking at job titles with low fraudulent transactions occurrences."
   ]
  },
  {
   "cell_type": "code",
   "execution_count": null,
   "metadata": {
    "colab": {
     "base_uri": "https://localhost:8080/",
     "height": 455
    },
    "executionInfo": {
     "elapsed": 317,
     "status": "ok",
     "timestamp": 1659817025011,
     "user": {
      "displayName": "Tolu O.",
      "userId": "04888393322604891463"
     },
     "user_tz": 240
    },
    "id": "NObV-WBE5gCz",
    "outputId": "594f600b-c7a4-45ab-b930-8d4bb085b05f"
   },
   "outputs": [
    {
     "data": {
      "text/html": [
       "\n",
       "  <div id=\"df-7c99fc13-f770-4322-a9b5-360f447b1d8b\">\n",
       "    <div class=\"colab-df-container\">\n",
       "      <div>\n",
       "<style scoped>\n",
       "    .dataframe tbody tr th:only-of-type {\n",
       "        vertical-align: middle;\n",
       "    }\n",
       "\n",
       "    .dataframe tbody tr th {\n",
       "        vertical-align: top;\n",
       "    }\n",
       "\n",
       "    .dataframe thead th {\n",
       "        text-align: right;\n",
       "    }\n",
       "</style>\n",
       "<table border=\"1\" class=\"dataframe\">\n",
       "  <thead>\n",
       "    <tr style=\"text-align: right;\">\n",
       "      <th>is_fraud</th>\n",
       "      <th>0</th>\n",
       "      <th>1</th>\n",
       "    </tr>\n",
       "    <tr>\n",
       "      <th>job</th>\n",
       "      <th></th>\n",
       "      <th></th>\n",
       "    </tr>\n",
       "  </thead>\n",
       "  <tbody>\n",
       "    <tr>\n",
       "      <th>Engineer</th>\n",
       "      <td>8966.0</td>\n",
       "      <td>165.0</td>\n",
       "    </tr>\n",
       "    <tr>\n",
       "      <th>Scientist</th>\n",
       "      <td>3452.0</td>\n",
       "      <td>81.0</td>\n",
       "    </tr>\n",
       "    <tr>\n",
       "      <th>Designer</th>\n",
       "      <td>4417.0</td>\n",
       "      <td>70.0</td>\n",
       "    </tr>\n",
       "    <tr>\n",
       "      <th>Trading standards officer</th>\n",
       "      <td>1270.0</td>\n",
       "      <td>45.0</td>\n",
       "    </tr>\n",
       "    <tr>\n",
       "      <th>Lecturer</th>\n",
       "      <td>2407.0</td>\n",
       "      <td>38.0</td>\n",
       "    </tr>\n",
       "    <tr>\n",
       "      <th>...</th>\n",
       "      <td>...</td>\n",
       "      <td>...</td>\n",
       "    </tr>\n",
       "    <tr>\n",
       "      <th>Cabin crew</th>\n",
       "      <td>366.0</td>\n",
       "      <td>5.0</td>\n",
       "    </tr>\n",
       "    <tr>\n",
       "      <th>Product/process development scientist</th>\n",
       "      <td>870.0</td>\n",
       "      <td>4.0</td>\n",
       "    </tr>\n",
       "    <tr>\n",
       "      <th>Colour technologist</th>\n",
       "      <td>196.0</td>\n",
       "      <td>4.0</td>\n",
       "    </tr>\n",
       "    <tr>\n",
       "      <th>Programme researcher</th>\n",
       "      <td>869.0</td>\n",
       "      <td>4.0</td>\n",
       "    </tr>\n",
       "    <tr>\n",
       "      <th>Pathologist</th>\n",
       "      <td>375.0</td>\n",
       "      <td>1.0</td>\n",
       "    </tr>\n",
       "  </tbody>\n",
       "</table>\n",
       "<p>294 rows × 2 columns</p>\n",
       "</div>\n",
       "      <button class=\"colab-df-convert\" onclick=\"convertToInteractive('df-7c99fc13-f770-4322-a9b5-360f447b1d8b')\"\n",
       "              title=\"Convert this dataframe to an interactive table.\"\n",
       "              style=\"display:none;\">\n",
       "        \n",
       "  <svg xmlns=\"http://www.w3.org/2000/svg\" height=\"24px\"viewBox=\"0 0 24 24\"\n",
       "       width=\"24px\">\n",
       "    <path d=\"M0 0h24v24H0V0z\" fill=\"none\"/>\n",
       "    <path d=\"M18.56 5.44l.94 2.06.94-2.06 2.06-.94-2.06-.94-.94-2.06-.94 2.06-2.06.94zm-11 1L8.5 8.5l.94-2.06 2.06-.94-2.06-.94L8.5 2.5l-.94 2.06-2.06.94zm10 10l.94 2.06.94-2.06 2.06-.94-2.06-.94-.94-2.06-.94 2.06-2.06.94z\"/><path d=\"M17.41 7.96l-1.37-1.37c-.4-.4-.92-.59-1.43-.59-.52 0-1.04.2-1.43.59L10.3 9.45l-7.72 7.72c-.78.78-.78 2.05 0 2.83L4 21.41c.39.39.9.59 1.41.59.51 0 1.02-.2 1.41-.59l7.78-7.78 2.81-2.81c.8-.78.8-2.07 0-2.86zM5.41 20L4 18.59l7.72-7.72 1.47 1.35L5.41 20z\"/>\n",
       "  </svg>\n",
       "      </button>\n",
       "      \n",
       "  <style>\n",
       "    .colab-df-container {\n",
       "      display:flex;\n",
       "      flex-wrap:wrap;\n",
       "      gap: 12px;\n",
       "    }\n",
       "\n",
       "    .colab-df-convert {\n",
       "      background-color: #E8F0FE;\n",
       "      border: none;\n",
       "      border-radius: 50%;\n",
       "      cursor: pointer;\n",
       "      display: none;\n",
       "      fill: #1967D2;\n",
       "      height: 32px;\n",
       "      padding: 0 0 0 0;\n",
       "      width: 32px;\n",
       "    }\n",
       "\n",
       "    .colab-df-convert:hover {\n",
       "      background-color: #E2EBFA;\n",
       "      box-shadow: 0px 1px 2px rgba(60, 64, 67, 0.3), 0px 1px 3px 1px rgba(60, 64, 67, 0.15);\n",
       "      fill: #174EA6;\n",
       "    }\n",
       "\n",
       "    [theme=dark] .colab-df-convert {\n",
       "      background-color: #3B4455;\n",
       "      fill: #D2E3FC;\n",
       "    }\n",
       "\n",
       "    [theme=dark] .colab-df-convert:hover {\n",
       "      background-color: #434B5C;\n",
       "      box-shadow: 0px 1px 3px 1px rgba(0, 0, 0, 0.15);\n",
       "      filter: drop-shadow(0px 1px 2px rgba(0, 0, 0, 0.3));\n",
       "      fill: #FFFFFF;\n",
       "    }\n",
       "  </style>\n",
       "\n",
       "      <script>\n",
       "        const buttonEl =\n",
       "          document.querySelector('#df-7c99fc13-f770-4322-a9b5-360f447b1d8b button.colab-df-convert');\n",
       "        buttonEl.style.display =\n",
       "          google.colab.kernel.accessAllowed ? 'block' : 'none';\n",
       "\n",
       "        async function convertToInteractive(key) {\n",
       "          const element = document.querySelector('#df-7c99fc13-f770-4322-a9b5-360f447b1d8b');\n",
       "          const dataTable =\n",
       "            await google.colab.kernel.invokeFunction('convertToInteractive',\n",
       "                                                     [key], {});\n",
       "          if (!dataTable) return;\n",
       "\n",
       "          const docLinkHtml = 'Like what you see? Visit the ' +\n",
       "            '<a target=\"_blank\" href=https://colab.research.google.com/notebooks/data_table.ipynb>data table notebook</a>'\n",
       "            + ' to learn more about interactive tables.';\n",
       "          element.innerHTML = '';\n",
       "          dataTable['output_type'] = 'display_data';\n",
       "          await google.colab.output.renderOutput(dataTable, element);\n",
       "          const docLink = document.createElement('div');\n",
       "          docLink.innerHTML = docLinkHtml;\n",
       "          element.appendChild(docLink);\n",
       "        }\n",
       "      </script>\n",
       "    </div>\n",
       "  </div>\n",
       "  "
      ],
      "text/plain": [
       "is_fraud                                    0      1\n",
       "job                                                 \n",
       "Engineer                               8966.0  165.0\n",
       "Scientist                              3452.0   81.0\n",
       "Designer                               4417.0   70.0\n",
       "Trading standards officer              1270.0   45.0\n",
       "Lecturer                               2407.0   38.0\n",
       "...                                       ...    ...\n",
       "Cabin crew                              366.0    5.0\n",
       "Product/process development scientist   870.0    4.0\n",
       "Colour technologist                     196.0    4.0\n",
       "Programme researcher                    869.0    4.0\n",
       "Pathologist                             375.0    1.0\n",
       "\n",
       "[294 rows x 2 columns]"
      ]
     },
     "execution_count": 188,
     "metadata": {},
     "output_type": "execute_result"
    }
   ],
   "source": [
    "job_fraud = cc_trans_df.groupby(['job', 'is_fraud']).count()['amt'].unstack().sort_values(by=1, ascending=False)\n",
    "job_fraud"
   ]
  },
  {
   "cell_type": "code",
   "execution_count": null,
   "metadata": {
    "colab": {
     "base_uri": "https://localhost:8080/"
    },
    "executionInfo": {
     "elapsed": 82,
     "status": "ok",
     "timestamp": 1659817031804,
     "user": {
      "displayName": "Tolu O.",
      "userId": "04888393322604891463"
     },
     "user_tz": 240
    },
    "id": "WkJ-GXZQ54BE",
    "outputId": "1796f767-0201-40a5-feb8-2ffb5fcd2ec7"
   },
   "outputs": [
    {
     "data": {
      "text/plain": [
       "is_fraud\n",
       "0    106\n",
       "1    125\n",
       "dtype: int64"
      ]
     },
     "execution_count": 189,
     "metadata": {},
     "output_type": "execute_result"
    }
   ],
   "source": [
    "job_fraud[job_fraud[1] < 10].count()"
   ]
  },
  {
   "cell_type": "markdown",
   "metadata": {
    "id": "GMs3qfiyz8HV"
   },
   "source": [
    "The count on both classes shows that there are some NaNs in class 0, so I need to filter those out because that might be helpful in the model's sensitivity to fraudulent transactions (if there are no occurrences to non-fraudulent transactions)."
   ]
  },
  {
   "cell_type": "code",
   "execution_count": null,
   "metadata": {
    "colab": {
     "base_uri": "https://localhost:8080/"
    },
    "executionInfo": {
     "elapsed": 97,
     "status": "ok",
     "timestamp": 1659817519943,
     "user": {
      "displayName": "Tolu O.",
      "userId": "04888393322604891463"
     },
     "user_tz": 240
    },
    "id": "rL0Zna67LcG0",
    "outputId": "64d5b6d4-9449-4550-d65f-cece1a1444cf"
   },
   "outputs": [
    {
     "data": {
      "text/plain": [
       "is_fraud\n",
       "0    106\n",
       "1    106\n",
       "dtype: int64"
      ]
     },
     "execution_count": 190,
     "metadata": {},
     "output_type": "execute_result"
    }
   ],
   "source": [
    "job_fraud[(job_fraud[1] < 10) & (~job_fraud[0].isna())].count()"
   ]
  },
  {
   "cell_type": "code",
   "execution_count": null,
   "metadata": {
    "colab": {
     "base_uri": "https://localhost:8080/"
    },
    "executionInfo": {
     "elapsed": 118,
     "status": "ok",
     "timestamp": 1659817522786,
     "user": {
      "displayName": "Tolu O.",
      "userId": "04888393322604891463"
     },
     "user_tz": 240
    },
    "id": "4neZ03FWLoPJ",
    "outputId": "0efe234b-ed54-439b-aaaa-3726ef8a1c41"
   },
   "outputs": [
    {
     "data": {
      "text/plain": [
       "is_fraud\n",
       "0    47229.0\n",
       "1      740.0\n",
       "dtype: float64"
      ]
     },
     "execution_count": 191,
     "metadata": {},
     "output_type": "execute_result"
    }
   ],
   "source": [
    "job_fraud[(job_fraud[1] < 10) & (~job_fraud[0].isna())].sum()"
   ]
  },
  {
   "cell_type": "code",
   "execution_count": null,
   "metadata": {
    "colab": {
     "base_uri": "https://localhost:8080/"
    },
    "executionInfo": {
     "elapsed": 90,
     "status": "ok",
     "timestamp": 1659817527474,
     "user": {
      "displayName": "Tolu O.",
      "userId": "04888393322604891463"
     },
     "user_tz": 240
    },
    "id": "3rZnGVe0c4tI",
    "outputId": "2de47c47-2003-4ffe-ad09-ac0cf446e275"
   },
   "outputs": [
    {
     "data": {
      "text/plain": [
       "is_fraud\n",
       "0    166\n",
       "1    166\n",
       "dtype: int64"
      ]
     },
     "execution_count": 192,
     "metadata": {},
     "output_type": "execute_result"
    }
   ],
   "source": [
    "job_fraud[(job_fraud[1] < 15) & (~job_fraud[0].isna())].count()"
   ]
  },
  {
   "cell_type": "code",
   "execution_count": null,
   "metadata": {
    "colab": {
     "base_uri": "https://localhost:8080/"
    },
    "executionInfo": {
     "elapsed": 127,
     "status": "ok",
     "timestamp": 1659817531663,
     "user": {
      "displayName": "Tolu O.",
      "userId": "04888393322604891463"
     },
     "user_tz": 240
    },
    "id": "CZv5OAXec4iv",
    "outputId": "eae1bbd3-6f4c-47b0-f9cc-4d990714e9b0"
   },
   "outputs": [
    {
     "data": {
      "text/plain": [
       "is_fraud\n",
       "0    84041.0\n",
       "1     1432.0\n",
       "dtype: float64"
      ]
     },
     "execution_count": 193,
     "metadata": {},
     "output_type": "execute_result"
    }
   ],
   "source": [
    "job_fraud[(job_fraud[1] < 15) & (~job_fraud[0].isna())].sum()"
   ]
  },
  {
   "cell_type": "code",
   "execution_count": null,
   "metadata": {
    "colab": {
     "base_uri": "https://localhost:8080/"
    },
    "executionInfo": {
     "elapsed": 103,
     "status": "ok",
     "timestamp": 1659817535376,
     "user": {
      "displayName": "Tolu O.",
      "userId": "04888393322604891463"
     },
     "user_tz": 240
    },
    "id": "_fuLRui4dC9p",
    "outputId": "35030390-1099-4b8f-80b1-7c9a0c61a42c"
   },
   "outputs": [
    {
     "data": {
      "text/plain": [
       "0    210183\n",
       "1      4092\n",
       "Name: is_fraud, dtype: int64"
      ]
     },
     "execution_count": 194,
     "metadata": {},
     "output_type": "execute_result"
    }
   ],
   "source": [
    "cc_trans_df['is_fraud'].value_counts()"
   ]
  },
  {
   "cell_type": "markdown",
   "metadata": {
    "id": "qJRJRrxi1baD"
   },
   "source": [
    "I decided to drop job titles that have less than 10 fraudulent occurrences as it has less rows to drop from the fraudulent class."
   ]
  },
  {
   "cell_type": "markdown",
   "metadata": {
    "id": "9i1YJ44XL8UD"
   },
   "source": [
    "**Dropping some job columns**"
   ]
  },
  {
   "cell_type": "code",
   "execution_count": null,
   "metadata": {
    "colab": {
     "base_uri": "https://localhost:8080/"
    },
    "executionInfo": {
     "elapsed": 94,
     "status": "ok",
     "timestamp": 1659817590736,
     "user": {
      "displayName": "Tolu O.",
      "userId": "04888393322604891463"
     },
     "user_tz": 240
    },
    "id": "UjSFdX--L7jX",
    "outputId": "33a2f711-8403-4a52-e2de-9f4f88b68208"
   },
   "outputs": [
    {
     "data": {
      "text/plain": [
       "106"
      ]
     },
     "execution_count": 195,
     "metadata": {},
     "output_type": "execute_result"
    }
   ],
   "source": [
    "job_to_be_dropped = job_fraud[(job_fraud[1] < 10) & (~job_fraud[0].isna())].index.tolist()\n",
    "len(job_to_be_dropped)"
   ]
  },
  {
   "cell_type": "code",
   "execution_count": null,
   "metadata": {
    "colab": {
     "base_uri": "https://localhost:8080/"
    },
    "executionInfo": {
     "elapsed": 1768,
     "status": "ok",
     "timestamp": 1659817593843,
     "user": {
      "displayName": "Tolu O.",
      "userId": "04888393322604891463"
     },
     "user_tz": 240
    },
    "id": "1hd_Av-CL7dG",
    "outputId": "58530ccc-d4b1-4fb0-9d5e-8df3e706fbdb"
   },
   "outputs": [
    {
     "data": {
      "text/plain": [
       "106"
      ]
     },
     "execution_count": 196,
     "metadata": {},
     "output_type": "execute_result"
    }
   ],
   "source": [
    "list_of_indexes_job = []\n",
    "\n",
    "for job in job_to_be_dropped:\n",
    "  list_of_indexes_job.append(cc_trans_df[cc_trans_df['job'] == job].index.tolist())\n",
    "\n",
    "# Sanity check\n",
    "len(list_of_indexes_job)"
   ]
  },
  {
   "cell_type": "code",
   "execution_count": null,
   "metadata": {
    "colab": {
     "base_uri": "https://localhost:8080/"
    },
    "executionInfo": {
     "elapsed": 109,
     "status": "ok",
     "timestamp": 1659817595522,
     "user": {
      "displayName": "Tolu O.",
      "userId": "04888393322604891463"
     },
     "user_tz": 240
    },
    "id": "VVPz7BM4L7W3",
    "outputId": "ed71e152-499d-46b0-a0b9-31a2456c8d88"
   },
   "outputs": [
    {
     "data": {
      "text/plain": [
       "47969"
      ]
     },
     "execution_count": 197,
     "metadata": {},
     "output_type": "execute_result"
    }
   ],
   "source": [
    "flat_list_job = [item for sublist in list_of_indexes_job for item in sublist]\n",
    "len(flat_list_job)"
   ]
  },
  {
   "cell_type": "code",
   "execution_count": null,
   "metadata": {
    "colab": {
     "base_uri": "https://localhost:8080/"
    },
    "executionInfo": {
     "elapsed": 88,
     "status": "ok",
     "timestamp": 1659817620530,
     "user": {
      "displayName": "Tolu O.",
      "userId": "04888393322604891463"
     },
     "user_tz": 240
    },
    "id": "yoeqyvrINDck",
    "outputId": "4f33a007-86cb-4055-d4f9-d217ad14906b"
   },
   "outputs": [
    {
     "data": {
      "text/plain": [
       "(166306, 21)"
      ]
     },
     "execution_count": 198,
     "metadata": {},
     "output_type": "execute_result"
    }
   ],
   "source": [
    "# drop the jobs\n",
    "\n",
    "cc_trans_df.drop(index=flat_list_job, inplace=True)\n",
    "\n",
    "# Check the new shape of the dataset\n",
    "cc_trans_df.shape"
   ]
  },
  {
   "cell_type": "code",
   "execution_count": null,
   "metadata": {
    "colab": {
     "base_uri": "https://localhost:8080/"
    },
    "executionInfo": {
     "elapsed": 182,
     "status": "ok",
     "timestamp": 1659817635349,
     "user": {
      "displayName": "Tolu O.",
      "userId": "04888393322604891463"
     },
     "user_tz": 240
    },
    "id": "gbrm1yL9L7Qm",
    "outputId": "e3d1ec9e-ed33-48c1-dc42-48b5e3b508aa"
   },
   "outputs": [
    {
     "data": {
      "text/plain": [
       "0    162954\n",
       "1      3352\n",
       "Name: is_fraud, dtype: int64"
      ]
     },
     "execution_count": 199,
     "metadata": {},
     "output_type": "execute_result"
    }
   ],
   "source": [
    "# Checking the new class distribution\n",
    "\n",
    "cc_trans_df['is_fraud'].value_counts()"
   ]
  },
  {
   "cell_type": "markdown",
   "metadata": {
    "id": "KXqh_8l12ECB"
   },
   "source": [
    "I decided to go back and drop some more job titles, again due to the modeling process taking too long. So, I decided to go ahead and drop job titles that have less than 15 fraudulent occurrences."
   ]
  },
  {
   "cell_type": "code",
   "execution_count": null,
   "metadata": {
    "colab": {
     "base_uri": "https://localhost:8080/",
     "height": 455
    },
    "executionInfo": {
     "elapsed": 199,
     "status": "ok",
     "timestamp": 1659817637243,
     "user": {
      "displayName": "Tolu O.",
      "userId": "04888393322604891463"
     },
     "user_tz": 240
    },
    "id": "DW2IO9ynlDKQ",
    "outputId": "4e21cefb-f3fa-49a1-8b0e-6f4fe1b19917"
   },
   "outputs": [
    {
     "data": {
      "text/html": [
       "\n",
       "  <div id=\"df-9975a7bb-fd22-4d0d-b8e0-3aeed0950771\">\n",
       "    <div class=\"colab-df-container\">\n",
       "      <div>\n",
       "<style scoped>\n",
       "    .dataframe tbody tr th:only-of-type {\n",
       "        vertical-align: middle;\n",
       "    }\n",
       "\n",
       "    .dataframe tbody tr th {\n",
       "        vertical-align: top;\n",
       "    }\n",
       "\n",
       "    .dataframe thead th {\n",
       "        text-align: right;\n",
       "    }\n",
       "</style>\n",
       "<table border=\"1\" class=\"dataframe\">\n",
       "  <thead>\n",
       "    <tr style=\"text-align: right;\">\n",
       "      <th>is_fraud</th>\n",
       "      <th>0</th>\n",
       "      <th>1</th>\n",
       "    </tr>\n",
       "    <tr>\n",
       "      <th>job</th>\n",
       "      <th></th>\n",
       "      <th></th>\n",
       "    </tr>\n",
       "  </thead>\n",
       "  <tbody>\n",
       "    <tr>\n",
       "      <th>Engineer</th>\n",
       "      <td>8966.0</td>\n",
       "      <td>165.0</td>\n",
       "    </tr>\n",
       "    <tr>\n",
       "      <th>Scientist</th>\n",
       "      <td>3452.0</td>\n",
       "      <td>81.0</td>\n",
       "    </tr>\n",
       "    <tr>\n",
       "      <th>Designer</th>\n",
       "      <td>4417.0</td>\n",
       "      <td>70.0</td>\n",
       "    </tr>\n",
       "    <tr>\n",
       "      <th>Trading standards officer</th>\n",
       "      <td>1270.0</td>\n",
       "      <td>45.0</td>\n",
       "    </tr>\n",
       "    <tr>\n",
       "      <th>Exhibition designer</th>\n",
       "      <td>3383.0</td>\n",
       "      <td>38.0</td>\n",
       "    </tr>\n",
       "    <tr>\n",
       "      <th>...</th>\n",
       "      <td>...</td>\n",
       "      <td>...</td>\n",
       "    </tr>\n",
       "    <tr>\n",
       "      <th>Contracting civil engineer</th>\n",
       "      <td>NaN</td>\n",
       "      <td>7.0</td>\n",
       "    </tr>\n",
       "    <tr>\n",
       "      <th>Tree surgeon</th>\n",
       "      <td>NaN</td>\n",
       "      <td>6.0</td>\n",
       "    </tr>\n",
       "    <tr>\n",
       "      <th>Dancer</th>\n",
       "      <td>NaN</td>\n",
       "      <td>6.0</td>\n",
       "    </tr>\n",
       "    <tr>\n",
       "      <th>Warehouse manager</th>\n",
       "      <td>NaN</td>\n",
       "      <td>6.0</td>\n",
       "    </tr>\n",
       "    <tr>\n",
       "      <th>Information officer</th>\n",
       "      <td>NaN</td>\n",
       "      <td>5.0</td>\n",
       "    </tr>\n",
       "  </tbody>\n",
       "</table>\n",
       "<p>188 rows × 2 columns</p>\n",
       "</div>\n",
       "      <button class=\"colab-df-convert\" onclick=\"convertToInteractive('df-9975a7bb-fd22-4d0d-b8e0-3aeed0950771')\"\n",
       "              title=\"Convert this dataframe to an interactive table.\"\n",
       "              style=\"display:none;\">\n",
       "        \n",
       "  <svg xmlns=\"http://www.w3.org/2000/svg\" height=\"24px\"viewBox=\"0 0 24 24\"\n",
       "       width=\"24px\">\n",
       "    <path d=\"M0 0h24v24H0V0z\" fill=\"none\"/>\n",
       "    <path d=\"M18.56 5.44l.94 2.06.94-2.06 2.06-.94-2.06-.94-.94-2.06-.94 2.06-2.06.94zm-11 1L8.5 8.5l.94-2.06 2.06-.94-2.06-.94L8.5 2.5l-.94 2.06-2.06.94zm10 10l.94 2.06.94-2.06 2.06-.94-2.06-.94-.94-2.06-.94 2.06-2.06.94z\"/><path d=\"M17.41 7.96l-1.37-1.37c-.4-.4-.92-.59-1.43-.59-.52 0-1.04.2-1.43.59L10.3 9.45l-7.72 7.72c-.78.78-.78 2.05 0 2.83L4 21.41c.39.39.9.59 1.41.59.51 0 1.02-.2 1.41-.59l7.78-7.78 2.81-2.81c.8-.78.8-2.07 0-2.86zM5.41 20L4 18.59l7.72-7.72 1.47 1.35L5.41 20z\"/>\n",
       "  </svg>\n",
       "      </button>\n",
       "      \n",
       "  <style>\n",
       "    .colab-df-container {\n",
       "      display:flex;\n",
       "      flex-wrap:wrap;\n",
       "      gap: 12px;\n",
       "    }\n",
       "\n",
       "    .colab-df-convert {\n",
       "      background-color: #E8F0FE;\n",
       "      border: none;\n",
       "      border-radius: 50%;\n",
       "      cursor: pointer;\n",
       "      display: none;\n",
       "      fill: #1967D2;\n",
       "      height: 32px;\n",
       "      padding: 0 0 0 0;\n",
       "      width: 32px;\n",
       "    }\n",
       "\n",
       "    .colab-df-convert:hover {\n",
       "      background-color: #E2EBFA;\n",
       "      box-shadow: 0px 1px 2px rgba(60, 64, 67, 0.3), 0px 1px 3px 1px rgba(60, 64, 67, 0.15);\n",
       "      fill: #174EA6;\n",
       "    }\n",
       "\n",
       "    [theme=dark] .colab-df-convert {\n",
       "      background-color: #3B4455;\n",
       "      fill: #D2E3FC;\n",
       "    }\n",
       "\n",
       "    [theme=dark] .colab-df-convert:hover {\n",
       "      background-color: #434B5C;\n",
       "      box-shadow: 0px 1px 3px 1px rgba(0, 0, 0, 0.15);\n",
       "      filter: drop-shadow(0px 1px 2px rgba(0, 0, 0, 0.3));\n",
       "      fill: #FFFFFF;\n",
       "    }\n",
       "  </style>\n",
       "\n",
       "      <script>\n",
       "        const buttonEl =\n",
       "          document.querySelector('#df-9975a7bb-fd22-4d0d-b8e0-3aeed0950771 button.colab-df-convert');\n",
       "        buttonEl.style.display =\n",
       "          google.colab.kernel.accessAllowed ? 'block' : 'none';\n",
       "\n",
       "        async function convertToInteractive(key) {\n",
       "          const element = document.querySelector('#df-9975a7bb-fd22-4d0d-b8e0-3aeed0950771');\n",
       "          const dataTable =\n",
       "            await google.colab.kernel.invokeFunction('convertToInteractive',\n",
       "                                                     [key], {});\n",
       "          if (!dataTable) return;\n",
       "\n",
       "          const docLinkHtml = 'Like what you see? Visit the ' +\n",
       "            '<a target=\"_blank\" href=https://colab.research.google.com/notebooks/data_table.ipynb>data table notebook</a>'\n",
       "            + ' to learn more about interactive tables.';\n",
       "          element.innerHTML = '';\n",
       "          dataTable['output_type'] = 'display_data';\n",
       "          await google.colab.output.renderOutput(dataTable, element);\n",
       "          const docLink = document.createElement('div');\n",
       "          docLink.innerHTML = docLinkHtml;\n",
       "          element.appendChild(docLink);\n",
       "        }\n",
       "      </script>\n",
       "    </div>\n",
       "  </div>\n",
       "  "
      ],
      "text/plain": [
       "is_fraud                         0      1\n",
       "job                                      \n",
       "Engineer                    8966.0  165.0\n",
       "Scientist                   3452.0   81.0\n",
       "Designer                    4417.0   70.0\n",
       "Trading standards officer   1270.0   45.0\n",
       "Exhibition designer         3383.0   38.0\n",
       "...                            ...    ...\n",
       "Contracting civil engineer     NaN    7.0\n",
       "Tree surgeon                   NaN    6.0\n",
       "Dancer                         NaN    6.0\n",
       "Warehouse manager              NaN    6.0\n",
       "Information officer            NaN    5.0\n",
       "\n",
       "[188 rows x 2 columns]"
      ]
     },
     "execution_count": 200,
     "metadata": {},
     "output_type": "execute_result"
    }
   ],
   "source": [
    "job_fraud = cc_trans_df.groupby(['job', 'is_fraud']).count()['amt'].unstack().sort_values(by=1, ascending=False)\n",
    "job_fraud"
   ]
  },
  {
   "cell_type": "code",
   "execution_count": null,
   "metadata": {
    "colab": {
     "base_uri": "https://localhost:8080/"
    },
    "executionInfo": {
     "elapsed": 90,
     "status": "ok",
     "timestamp": 1659817750950,
     "user": {
      "displayName": "Tolu O.",
      "userId": "04888393322604891463"
     },
     "user_tz": 240
    },
    "id": "k_zQxoy8lDHo",
    "outputId": "d2e1a049-347b-43e0-d95d-60f9bed9b390"
   },
   "outputs": [
    {
     "data": {
      "text/plain": [
       "is_fraud\n",
       "0    60\n",
       "1    60\n",
       "dtype: int64"
      ]
     },
     "execution_count": 201,
     "metadata": {},
     "output_type": "execute_result"
    }
   ],
   "source": [
    "job_fraud[(job_fraud[1] < 15) & (~job_fraud[0].isna())].count()"
   ]
  },
  {
   "cell_type": "code",
   "execution_count": null,
   "metadata": {
    "colab": {
     "base_uri": "https://localhost:8080/"
    },
    "executionInfo": {
     "elapsed": 93,
     "status": "ok",
     "timestamp": 1659817752059,
     "user": {
      "displayName": "Tolu O.",
      "userId": "04888393322604891463"
     },
     "user_tz": 240
    },
    "id": "DIwkruNQlDBa",
    "outputId": "ccfe6878-ed69-4e21-bd2d-b8ccf5249eeb"
   },
   "outputs": [
    {
     "data": {
      "text/plain": [
       "is_fraud\n",
       "0    36812.0\n",
       "1      692.0\n",
       "dtype: float64"
      ]
     },
     "execution_count": 202,
     "metadata": {},
     "output_type": "execute_result"
    }
   ],
   "source": [
    "job_fraud[(job_fraud[1] < 15) & (~job_fraud[0].isna())].sum()"
   ]
  },
  {
   "cell_type": "code",
   "execution_count": null,
   "metadata": {
    "colab": {
     "base_uri": "https://localhost:8080/"
    },
    "executionInfo": {
     "elapsed": 83,
     "status": "ok",
     "timestamp": 1659817753734,
     "user": {
      "displayName": "Tolu O.",
      "userId": "04888393322604891463"
     },
     "user_tz": 240
    },
    "id": "JurLbd19lC-i",
    "outputId": "936e9f7e-e78b-4fdc-841a-3b33c5339981"
   },
   "outputs": [
    {
     "data": {
      "text/plain": [
       "60"
      ]
     },
     "execution_count": 203,
     "metadata": {},
     "output_type": "execute_result"
    }
   ],
   "source": [
    "job_to_be_dropped = job_fraud[(job_fraud[1] < 15) & (~job_fraud[0].isna())].index.tolist()\n",
    "len(job_to_be_dropped)"
   ]
  },
  {
   "cell_type": "code",
   "execution_count": null,
   "metadata": {
    "colab": {
     "base_uri": "https://localhost:8080/"
    },
    "executionInfo": {
     "elapsed": 903,
     "status": "ok",
     "timestamp": 1659817755974,
     "user": {
      "displayName": "Tolu O.",
      "userId": "04888393322604891463"
     },
     "user_tz": 240
    },
    "id": "Jf6CPosqlC7r",
    "outputId": "809cbada-f5ef-4590-aef2-f9cfd6418b61"
   },
   "outputs": [
    {
     "data": {
      "text/plain": [
       "60"
      ]
     },
     "execution_count": 204,
     "metadata": {},
     "output_type": "execute_result"
    }
   ],
   "source": [
    "list_of_indexes_job = []\n",
    "\n",
    "for job in job_to_be_dropped:\n",
    "  list_of_indexes_job.append(cc_trans_df[cc_trans_df['job'] == job].index.tolist())\n",
    "\n",
    "# Sanity check\n",
    "len(list_of_indexes_job)"
   ]
  },
  {
   "cell_type": "code",
   "execution_count": null,
   "metadata": {
    "colab": {
     "base_uri": "https://localhost:8080/"
    },
    "executionInfo": {
     "elapsed": 94,
     "status": "ok",
     "timestamp": 1659817757195,
     "user": {
      "displayName": "Tolu O.",
      "userId": "04888393322604891463"
     },
     "user_tz": 240
    },
    "id": "sf9ZxB27nGkc",
    "outputId": "e9a3c20a-154b-4486-e545-388d7a88eff5"
   },
   "outputs": [
    {
     "data": {
      "text/plain": [
       "37504"
      ]
     },
     "execution_count": 205,
     "metadata": {},
     "output_type": "execute_result"
    }
   ],
   "source": [
    "flat_list_job = [item for sublist in list_of_indexes_job for item in sublist]\n",
    "len(flat_list_job)"
   ]
  },
  {
   "cell_type": "code",
   "execution_count": null,
   "metadata": {
    "colab": {
     "base_uri": "https://localhost:8080/"
    },
    "executionInfo": {
     "elapsed": 137,
     "status": "ok",
     "timestamp": 1659817758762,
     "user": {
      "displayName": "Tolu O.",
      "userId": "04888393322604891463"
     },
     "user_tz": 240
    },
    "id": "1QwhRZ9jnGgu",
    "outputId": "141be9d3-3c39-420b-d083-56a31202a3cc"
   },
   "outputs": [
    {
     "data": {
      "text/plain": [
       "(128802, 21)"
      ]
     },
     "execution_count": 206,
     "metadata": {},
     "output_type": "execute_result"
    }
   ],
   "source": [
    "cc_trans_df.drop(index=flat_list_job, inplace=True)\n",
    "cc_trans_df.shape"
   ]
  },
  {
   "cell_type": "code",
   "execution_count": null,
   "metadata": {
    "colab": {
     "base_uri": "https://localhost:8080/"
    },
    "executionInfo": {
     "elapsed": 89,
     "status": "ok",
     "timestamp": 1659817760619,
     "user": {
      "displayName": "Tolu O.",
      "userId": "04888393322604891463"
     },
     "user_tz": 240
    },
    "id": "KbVEhb0HlC4T",
    "outputId": "19321256-443e-4748-c22d-1276082308fc"
   },
   "outputs": [
    {
     "data": {
      "text/plain": [
       "0    126142\n",
       "1      2660\n",
       "Name: is_fraud, dtype: int64"
      ]
     },
     "execution_count": 207,
     "metadata": {},
     "output_type": "execute_result"
    }
   ],
   "source": [
    "cc_trans_df['is_fraud'].value_counts()"
   ]
  },
  {
   "cell_type": "markdown",
   "metadata": {
    "id": "8fUriMFXNWP8"
   },
   "source": [
    "**Job Data Visualization/EDA**\n",
    "\n",
    "\n",
    "Since the Job titles had changed (with grouping some of them into one general job title), I decided to conduct some visualizations on the new job titles."
   ]
  },
  {
   "cell_type": "code",
   "execution_count": null,
   "metadata": {
    "colab": {
     "base_uri": "https://localhost:8080/",
     "height": 455
    },
    "executionInfo": {
     "elapsed": 203,
     "status": "ok",
     "timestamp": 1659817811104,
     "user": {
      "displayName": "Tolu O.",
      "userId": "04888393322604891463"
     },
     "user_tz": 240
    },
    "id": "or6Tfe7MNTNb",
    "outputId": "964d9a08-7d99-47aa-aa69-b2155b90f053"
   },
   "outputs": [
    {
     "data": {
      "text/html": [
       "\n",
       "  <div id=\"df-cb0c93ab-1d00-444e-94e6-29d3baf6722f\">\n",
       "    <div class=\"colab-df-container\">\n",
       "      <div>\n",
       "<style scoped>\n",
       "    .dataframe tbody tr th:only-of-type {\n",
       "        vertical-align: middle;\n",
       "    }\n",
       "\n",
       "    .dataframe tbody tr th {\n",
       "        vertical-align: top;\n",
       "    }\n",
       "\n",
       "    .dataframe thead th {\n",
       "        text-align: right;\n",
       "    }\n",
       "</style>\n",
       "<table border=\"1\" class=\"dataframe\">\n",
       "  <thead>\n",
       "    <tr style=\"text-align: right;\">\n",
       "      <th>is_fraud</th>\n",
       "      <th>0</th>\n",
       "      <th>1</th>\n",
       "    </tr>\n",
       "    <tr>\n",
       "      <th>job</th>\n",
       "      <th></th>\n",
       "      <th></th>\n",
       "    </tr>\n",
       "  </thead>\n",
       "  <tbody>\n",
       "    <tr>\n",
       "      <th>Engineer</th>\n",
       "      <td>8966.0</td>\n",
       "      <td>165.0</td>\n",
       "    </tr>\n",
       "    <tr>\n",
       "      <th>Scientist</th>\n",
       "      <td>3452.0</td>\n",
       "      <td>81.0</td>\n",
       "    </tr>\n",
       "    <tr>\n",
       "      <th>Designer</th>\n",
       "      <td>4417.0</td>\n",
       "      <td>70.0</td>\n",
       "    </tr>\n",
       "    <tr>\n",
       "      <th>Trading standards officer</th>\n",
       "      <td>1270.0</td>\n",
       "      <td>45.0</td>\n",
       "    </tr>\n",
       "    <tr>\n",
       "      <th>Exhibition designer</th>\n",
       "      <td>3383.0</td>\n",
       "      <td>38.0</td>\n",
       "    </tr>\n",
       "    <tr>\n",
       "      <th>...</th>\n",
       "      <td>...</td>\n",
       "      <td>...</td>\n",
       "    </tr>\n",
       "    <tr>\n",
       "      <th>Aeronautical engineer</th>\n",
       "      <td>NaN</td>\n",
       "      <td>7.0</td>\n",
       "    </tr>\n",
       "    <tr>\n",
       "      <th>Dancer</th>\n",
       "      <td>NaN</td>\n",
       "      <td>6.0</td>\n",
       "    </tr>\n",
       "    <tr>\n",
       "      <th>Tree surgeon</th>\n",
       "      <td>NaN</td>\n",
       "      <td>6.0</td>\n",
       "    </tr>\n",
       "    <tr>\n",
       "      <th>Warehouse manager</th>\n",
       "      <td>NaN</td>\n",
       "      <td>6.0</td>\n",
       "    </tr>\n",
       "    <tr>\n",
       "      <th>Information officer</th>\n",
       "      <td>NaN</td>\n",
       "      <td>5.0</td>\n",
       "    </tr>\n",
       "  </tbody>\n",
       "</table>\n",
       "<p>128 rows × 2 columns</p>\n",
       "</div>\n",
       "      <button class=\"colab-df-convert\" onclick=\"convertToInteractive('df-cb0c93ab-1d00-444e-94e6-29d3baf6722f')\"\n",
       "              title=\"Convert this dataframe to an interactive table.\"\n",
       "              style=\"display:none;\">\n",
       "        \n",
       "  <svg xmlns=\"http://www.w3.org/2000/svg\" height=\"24px\"viewBox=\"0 0 24 24\"\n",
       "       width=\"24px\">\n",
       "    <path d=\"M0 0h24v24H0V0z\" fill=\"none\"/>\n",
       "    <path d=\"M18.56 5.44l.94 2.06.94-2.06 2.06-.94-2.06-.94-.94-2.06-.94 2.06-2.06.94zm-11 1L8.5 8.5l.94-2.06 2.06-.94-2.06-.94L8.5 2.5l-.94 2.06-2.06.94zm10 10l.94 2.06.94-2.06 2.06-.94-2.06-.94-.94-2.06-.94 2.06-2.06.94z\"/><path d=\"M17.41 7.96l-1.37-1.37c-.4-.4-.92-.59-1.43-.59-.52 0-1.04.2-1.43.59L10.3 9.45l-7.72 7.72c-.78.78-.78 2.05 0 2.83L4 21.41c.39.39.9.59 1.41.59.51 0 1.02-.2 1.41-.59l7.78-7.78 2.81-2.81c.8-.78.8-2.07 0-2.86zM5.41 20L4 18.59l7.72-7.72 1.47 1.35L5.41 20z\"/>\n",
       "  </svg>\n",
       "      </button>\n",
       "      \n",
       "  <style>\n",
       "    .colab-df-container {\n",
       "      display:flex;\n",
       "      flex-wrap:wrap;\n",
       "      gap: 12px;\n",
       "    }\n",
       "\n",
       "    .colab-df-convert {\n",
       "      background-color: #E8F0FE;\n",
       "      border: none;\n",
       "      border-radius: 50%;\n",
       "      cursor: pointer;\n",
       "      display: none;\n",
       "      fill: #1967D2;\n",
       "      height: 32px;\n",
       "      padding: 0 0 0 0;\n",
       "      width: 32px;\n",
       "    }\n",
       "\n",
       "    .colab-df-convert:hover {\n",
       "      background-color: #E2EBFA;\n",
       "      box-shadow: 0px 1px 2px rgba(60, 64, 67, 0.3), 0px 1px 3px 1px rgba(60, 64, 67, 0.15);\n",
       "      fill: #174EA6;\n",
       "    }\n",
       "\n",
       "    [theme=dark] .colab-df-convert {\n",
       "      background-color: #3B4455;\n",
       "      fill: #D2E3FC;\n",
       "    }\n",
       "\n",
       "    [theme=dark] .colab-df-convert:hover {\n",
       "      background-color: #434B5C;\n",
       "      box-shadow: 0px 1px 3px 1px rgba(0, 0, 0, 0.15);\n",
       "      filter: drop-shadow(0px 1px 2px rgba(0, 0, 0, 0.3));\n",
       "      fill: #FFFFFF;\n",
       "    }\n",
       "  </style>\n",
       "\n",
       "      <script>\n",
       "        const buttonEl =\n",
       "          document.querySelector('#df-cb0c93ab-1d00-444e-94e6-29d3baf6722f button.colab-df-convert');\n",
       "        buttonEl.style.display =\n",
       "          google.colab.kernel.accessAllowed ? 'block' : 'none';\n",
       "\n",
       "        async function convertToInteractive(key) {\n",
       "          const element = document.querySelector('#df-cb0c93ab-1d00-444e-94e6-29d3baf6722f');\n",
       "          const dataTable =\n",
       "            await google.colab.kernel.invokeFunction('convertToInteractive',\n",
       "                                                     [key], {});\n",
       "          if (!dataTable) return;\n",
       "\n",
       "          const docLinkHtml = 'Like what you see? Visit the ' +\n",
       "            '<a target=\"_blank\" href=https://colab.research.google.com/notebooks/data_table.ipynb>data table notebook</a>'\n",
       "            + ' to learn more about interactive tables.';\n",
       "          element.innerHTML = '';\n",
       "          dataTable['output_type'] = 'display_data';\n",
       "          await google.colab.output.renderOutput(dataTable, element);\n",
       "          const docLink = document.createElement('div');\n",
       "          docLink.innerHTML = docLinkHtml;\n",
       "          element.appendChild(docLink);\n",
       "        }\n",
       "      </script>\n",
       "    </div>\n",
       "  </div>\n",
       "  "
      ],
      "text/plain": [
       "is_fraud                        0      1\n",
       "job                                     \n",
       "Engineer                   8966.0  165.0\n",
       "Scientist                  3452.0   81.0\n",
       "Designer                   4417.0   70.0\n",
       "Trading standards officer  1270.0   45.0\n",
       "Exhibition designer        3383.0   38.0\n",
       "...                           ...    ...\n",
       "Aeronautical engineer         NaN    7.0\n",
       "Dancer                        NaN    6.0\n",
       "Tree surgeon                  NaN    6.0\n",
       "Warehouse manager             NaN    6.0\n",
       "Information officer           NaN    5.0\n",
       "\n",
       "[128 rows x 2 columns]"
      ]
     },
     "execution_count": 208,
     "metadata": {},
     "output_type": "execute_result"
    }
   ],
   "source": [
    "job_fraud = cc_trans_df.groupby(['job', 'is_fraud']).count()['amt'].unstack().sort_values(by=1, ascending=False)\n",
    "job_fraud"
   ]
  },
  {
   "cell_type": "code",
   "execution_count": null,
   "metadata": {
    "colab": {
     "base_uri": "https://localhost:8080/",
     "height": 621
    },
    "executionInfo": {
     "elapsed": 347,
     "status": "ok",
     "timestamp": 1659817819636,
     "user": {
      "displayName": "Tolu O.",
      "userId": "04888393322604891463"
     },
     "user_tz": 240
    },
    "id": "3G5BVjjCEObO",
    "outputId": "bb48d7d7-a666-4419-f686-c0b98446b8fb"
   },
   "outputs": [
    {
     "data": {
      "image/png": "[encoded data removed]",
      "text/plain": [
       "<Figure size 1080x720 with 1 Axes>"
      ]
     },
     "metadata": {
      "needs_background": "light"
     },
     "output_type": "display_data"
    }
   ],
   "source": [
    "# Plot to see the top 20 job titles with the most fraudulent transactions\n",
    "\n",
    "plt.figure(figsize=(15,10))\n",
    "plt.barh(job_fraud.head(20).index,\n",
    "         job_fraud[1].head(20))\n",
    "plt.xlabel(\"Count\")\n",
    "plt.ylabel(\"Job Titles\")\n",
    "plt.title(\"Top 20 Job Titles with the Most Fraudulent Transactions\")\n",
    "plt.show()"
   ]
  },
  {
   "cell_type": "markdown",
   "metadata": {
    "id": "-vfpuvkp2z2I"
   },
   "source": [
    "Customers with \"engineer\" in their job titles have the most number of fraudulent transactions, significantly more than the others. After engineer, scientist, designer and trading standards officers also have high numbers of fraudulent transactions."
   ]
  },
  {
   "cell_type": "markdown",
   "metadata": {
    "id": "OxQV3hU0M4dT"
   },
   "source": [
    "The rest of the `job` will be transformed to numeric using OHE."
   ]
  },
  {
   "cell_type": "code",
   "execution_count": null,
   "metadata": {
    "colab": {
     "base_uri": "https://localhost:8080/",
     "height": 560
    },
    "executionInfo": {
     "elapsed": 89,
     "status": "ok",
     "timestamp": 1659818074090,
     "user": {
      "displayName": "Tolu O.",
      "userId": "04888393322604891463"
     },
     "user_tz": 240
    },
    "id": "D0WwWQHWM0-U",
    "outputId": "1f2f0b55-6f6a-444f-aefb-582c67dddec3"
   },
   "outputs": [
    {
     "data": {
      "text/html": [
       "\n",
       "  <div id=\"df-1d461de1-43b3-4b85-83f6-435fd67bfb25\">\n",
       "    <div class=\"colab-df-container\">\n",
       "      <div>\n",
       "<style scoped>\n",
       "    .dataframe tbody tr th:only-of-type {\n",
       "        vertical-align: middle;\n",
       "    }\n",
       "\n",
       "    .dataframe tbody tr th {\n",
       "        vertical-align: top;\n",
       "    }\n",
       "\n",
       "    .dataframe thead th {\n",
       "        text-align: right;\n",
       "    }\n",
       "</style>\n",
       "<table border=\"1\" class=\"dataframe\">\n",
       "  <thead>\n",
       "    <tr style=\"text-align: right;\">\n",
       "      <th></th>\n",
       "      <th>trans_date_trans_time</th>\n",
       "      <th>cc_num</th>\n",
       "      <th>merchant</th>\n",
       "      <th>category</th>\n",
       "      <th>amt</th>\n",
       "      <th>first</th>\n",
       "      <th>last</th>\n",
       "      <th>gender</th>\n",
       "      <th>street</th>\n",
       "      <th>city</th>\n",
       "      <th>...</th>\n",
       "      <th>zip</th>\n",
       "      <th>lat</th>\n",
       "      <th>long</th>\n",
       "      <th>city_pop</th>\n",
       "      <th>job</th>\n",
       "      <th>dob</th>\n",
       "      <th>unix_time</th>\n",
       "      <th>merch_lat</th>\n",
       "      <th>merch_long</th>\n",
       "      <th>is_fraud</th>\n",
       "    </tr>\n",
       "  </thead>\n",
       "  <tbody>\n",
       "    <tr>\n",
       "      <th>5</th>\n",
       "      <td>2019-01-01 00:04:08</td>\n",
       "      <td>4767265376804500</td>\n",
       "      <td>Stroman, Hudson and Erdman</td>\n",
       "      <td>gas_transport</td>\n",
       "      <td>94.63</td>\n",
       "      <td>Jennifer</td>\n",
       "      <td>Conner</td>\n",
       "      <td>F</td>\n",
       "      <td>4655 David Island</td>\n",
       "      <td>Dublin</td>\n",
       "      <td>...</td>\n",
       "      <td>18917</td>\n",
       "      <td>40.3750</td>\n",
       "      <td>-75.2045</td>\n",
       "      <td>2158</td>\n",
       "      <td>Transport planner</td>\n",
       "      <td>1961-06-19</td>\n",
       "      <td>1325376248</td>\n",
       "      <td>40.653382</td>\n",
       "      <td>-76.152667</td>\n",
       "      <td>0</td>\n",
       "    </tr>\n",
       "    <tr>\n",
       "      <th>7</th>\n",
       "      <td>2019-01-01 00:05:08</td>\n",
       "      <td>6011360759745864</td>\n",
       "      <td>Corwin-Collins</td>\n",
       "      <td>gas_transport</td>\n",
       "      <td>71.65</td>\n",
       "      <td>Steven</td>\n",
       "      <td>Williams</td>\n",
       "      <td>M</td>\n",
       "      <td>231 Flores Pass Suite 720</td>\n",
       "      <td>Edinburg</td>\n",
       "      <td>...</td>\n",
       "      <td>22824</td>\n",
       "      <td>38.8432</td>\n",
       "      <td>-78.6003</td>\n",
       "      <td>6018</td>\n",
       "      <td>Designer</td>\n",
       "      <td>1947-08-21</td>\n",
       "      <td>1325376308</td>\n",
       "      <td>38.948089</td>\n",
       "      <td>-78.540296</td>\n",
       "      <td>0</td>\n",
       "    </tr>\n",
       "    <tr>\n",
       "      <th>12</th>\n",
       "      <td>2019-01-01 00:06:56</td>\n",
       "      <td>180042946491150</td>\n",
       "      <td>Lockman Ltd</td>\n",
       "      <td>grocery_pos</td>\n",
       "      <td>71.22</td>\n",
       "      <td>Charles</td>\n",
       "      <td>Robles</td>\n",
       "      <td>M</td>\n",
       "      <td>3337 Lisa Divide</td>\n",
       "      <td>Saint Petersburg</td>\n",
       "      <td>...</td>\n",
       "      <td>33710</td>\n",
       "      <td>27.7898</td>\n",
       "      <td>-82.7243</td>\n",
       "      <td>341043</td>\n",
       "      <td>Engineer</td>\n",
       "      <td>1989-02-28</td>\n",
       "      <td>1325376416</td>\n",
       "      <td>27.630593</td>\n",
       "      <td>-82.308891</td>\n",
       "      <td>0</td>\n",
       "    </tr>\n",
       "    <tr>\n",
       "      <th>14</th>\n",
       "      <td>2019-01-01 00:09:03</td>\n",
       "      <td>3514865930894695</td>\n",
       "      <td>Beier-Hyatt</td>\n",
       "      <td>shopping_pos</td>\n",
       "      <td>7.77</td>\n",
       "      <td>Christopher</td>\n",
       "      <td>Castaneda</td>\n",
       "      <td>M</td>\n",
       "      <td>1632 Cohen Drive Suite 639</td>\n",
       "      <td>High Rolls Mountain Park</td>\n",
       "      <td>...</td>\n",
       "      <td>88325</td>\n",
       "      <td>32.9396</td>\n",
       "      <td>-105.8189</td>\n",
       "      <td>899</td>\n",
       "      <td>Naval architect</td>\n",
       "      <td>1967-08-30</td>\n",
       "      <td>1325376543</td>\n",
       "      <td>32.863258</td>\n",
       "      <td>-106.520205</td>\n",
       "      <td>0</td>\n",
       "    </tr>\n",
       "    <tr>\n",
       "      <th>15</th>\n",
       "      <td>2019-01-01 00:09:20</td>\n",
       "      <td>6011999606625827</td>\n",
       "      <td>Schmidt and Sons</td>\n",
       "      <td>shopping_net</td>\n",
       "      <td>3.26</td>\n",
       "      <td>Ronald</td>\n",
       "      <td>Carson</td>\n",
       "      <td>M</td>\n",
       "      <td>870 Rocha Drive</td>\n",
       "      <td>Harrington Park</td>\n",
       "      <td>...</td>\n",
       "      <td>7640</td>\n",
       "      <td>40.9918</td>\n",
       "      <td>-73.9800</td>\n",
       "      <td>4664</td>\n",
       "      <td>Radiographer</td>\n",
       "      <td>1965-06-30</td>\n",
       "      <td>1325376560</td>\n",
       "      <td>41.831174</td>\n",
       "      <td>-74.335559</td>\n",
       "      <td>0</td>\n",
       "    </tr>\n",
       "  </tbody>\n",
       "</table>\n",
       "<p>5 rows × 21 columns</p>\n",
       "</div>\n",
       "      <button class=\"colab-df-convert\" onclick=\"convertToInteractive('df-1d461de1-43b3-4b85-83f6-435fd67bfb25')\"\n",
       "              title=\"Convert this dataframe to an interactive table.\"\n",
       "              style=\"display:none;\">\n",
       "        \n",
       "  <svg xmlns=\"http://www.w3.org/2000/svg\" height=\"24px\"viewBox=\"0 0 24 24\"\n",
       "       width=\"24px\">\n",
       "    <path d=\"M0 0h24v24H0V0z\" fill=\"none\"/>\n",
       "    <path d=\"M18.56 5.44l.94 2.06.94-2.06 2.06-.94-2.06-.94-.94-2.06-.94 2.06-2.06.94zm-11 1L8.5 8.5l.94-2.06 2.06-.94-2.06-.94L8.5 2.5l-.94 2.06-2.06.94zm10 10l.94 2.06.94-2.06 2.06-.94-2.06-.94-.94-2.06-.94 2.06-2.06.94z\"/><path d=\"M17.41 7.96l-1.37-1.37c-.4-.4-.92-.59-1.43-.59-.52 0-1.04.2-1.43.59L10.3 9.45l-7.72 7.72c-.78.78-.78 2.05 0 2.83L4 21.41c.39.39.9.59 1.41.59.51 0 1.02-.2 1.41-.59l7.78-7.78 2.81-2.81c.8-.78.8-2.07 0-2.86zM5.41 20L4 18.59l7.72-7.72 1.47 1.35L5.41 20z\"/>\n",
       "  </svg>\n",
       "      </button>\n",
       "      \n",
       "  <style>\n",
       "    .colab-df-container {\n",
       "      display:flex;\n",
       "      flex-wrap:wrap;\n",
       "      gap: 12px;\n",
       "    }\n",
       "\n",
       "    .colab-df-convert {\n",
       "      background-color: #E8F0FE;\n",
       "      border: none;\n",
       "      border-radius: 50%;\n",
       "      cursor: pointer;\n",
       "      display: none;\n",
       "      fill: #1967D2;\n",
       "      height: 32px;\n",
       "      padding: 0 0 0 0;\n",
       "      width: 32px;\n",
       "    }\n",
       "\n",
       "    .colab-df-convert:hover {\n",
       "      background-color: #E2EBFA;\n",
       "      box-shadow: 0px 1px 2px rgba(60, 64, 67, 0.3), 0px 1px 3px 1px rgba(60, 64, 67, 0.15);\n",
       "      fill: #174EA6;\n",
       "    }\n",
       "\n",
       "    [theme=dark] .colab-df-convert {\n",
       "      background-color: #3B4455;\n",
       "      fill: #D2E3FC;\n",
       "    }\n",
       "\n",
       "    [theme=dark] .colab-df-convert:hover {\n",
       "      background-color: #434B5C;\n",
       "      box-shadow: 0px 1px 3px 1px rgba(0, 0, 0, 0.15);\n",
       "      filter: drop-shadow(0px 1px 2px rgba(0, 0, 0, 0.3));\n",
       "      fill: #FFFFFF;\n",
       "    }\n",
       "  </style>\n",
       "\n",
       "      <script>\n",
       "        const buttonEl =\n",
       "          document.querySelector('#df-1d461de1-43b3-4b85-83f6-435fd67bfb25 button.colab-df-convert');\n",
       "        buttonEl.style.display =\n",
       "          google.colab.kernel.accessAllowed ? 'block' : 'none';\n",
       "\n",
       "        async function convertToInteractive(key) {\n",
       "          const element = document.querySelector('#df-1d461de1-43b3-4b85-83f6-435fd67bfb25');\n",
       "          const dataTable =\n",
       "            await google.colab.kernel.invokeFunction('convertToInteractive',\n",
       "                                                     [key], {});\n",
       "          if (!dataTable) return;\n",
       "\n",
       "          const docLinkHtml = 'Like what you see? Visit the ' +\n",
       "            '<a target=\"_blank\" href=https://colab.research.google.com/notebooks/data_table.ipynb>data table notebook</a>'\n",
       "            + ' to learn more about interactive tables.';\n",
       "          element.innerHTML = '';\n",
       "          dataTable['output_type'] = 'display_data';\n",
       "          await google.colab.output.renderOutput(dataTable, element);\n",
       "          const docLink = document.createElement('div');\n",
       "          docLink.innerHTML = docLinkHtml;\n",
       "          element.appendChild(docLink);\n",
       "        }\n",
       "      </script>\n",
       "    </div>\n",
       "  </div>\n",
       "  "
      ],
      "text/plain": [
       "   trans_date_trans_time            cc_num                    merchant  \\\n",
       "5    2019-01-01 00:04:08  4767265376804500  Stroman, Hudson and Erdman   \n",
       "7    2019-01-01 00:05:08  6011360759745864              Corwin-Collins   \n",
       "12   2019-01-01 00:06:56   180042946491150                 Lockman Ltd   \n",
       "14   2019-01-01 00:09:03  3514865930894695                 Beier-Hyatt   \n",
       "15   2019-01-01 00:09:20  6011999606625827            Schmidt and Sons   \n",
       "\n",
       "         category    amt        first       last gender  \\\n",
       "5   gas_transport  94.63     Jennifer     Conner      F   \n",
       "7   gas_transport  71.65       Steven   Williams      M   \n",
       "12    grocery_pos  71.22      Charles     Robles      M   \n",
       "14   shopping_pos   7.77  Christopher  Castaneda      M   \n",
       "15   shopping_net   3.26       Ronald     Carson      M   \n",
       "\n",
       "                        street                      city  ...    zip      lat  \\\n",
       "5            4655 David Island                    Dublin  ...  18917  40.3750   \n",
       "7    231 Flores Pass Suite 720                  Edinburg  ...  22824  38.8432   \n",
       "12            3337 Lisa Divide          Saint Petersburg  ...  33710  27.7898   \n",
       "14  1632 Cohen Drive Suite 639  High Rolls Mountain Park  ...  88325  32.9396   \n",
       "15             870 Rocha Drive           Harrington Park  ...   7640  40.9918   \n",
       "\n",
       "        long  city_pop                job        dob   unix_time  merch_lat  \\\n",
       "5   -75.2045      2158  Transport planner 1961-06-19  1325376248  40.653382   \n",
       "7   -78.6003      6018           Designer 1947-08-21  1325376308  38.948089   \n",
       "12  -82.7243    341043           Engineer 1989-02-28  1325376416  27.630593   \n",
       "14 -105.8189       899    Naval architect 1967-08-30  1325376543  32.863258   \n",
       "15  -73.9800      4664       Radiographer 1965-06-30  1325376560  41.831174   \n",
       "\n",
       "    merch_long  is_fraud  \n",
       "5   -76.152667         0  \n",
       "7   -78.540296         0  \n",
       "12  -82.308891         0  \n",
       "14 -106.520205         0  \n",
       "15  -74.335559         0  \n",
       "\n",
       "[5 rows x 21 columns]"
      ]
     },
     "execution_count": 211,
     "metadata": {},
     "output_type": "execute_result"
    }
   ],
   "source": [
    "# Checking the new dataset\n",
    "\n",
    "cc_trans_df.head()"
   ]
  },
  {
   "cell_type": "code",
   "execution_count": null,
   "metadata": {
    "colab": {
     "base_uri": "https://localhost:8080/"
    },
    "executionInfo": {
     "elapsed": 94,
     "status": "ok",
     "timestamp": 1659818096030,
     "user": {
      "displayName": "Tolu O.",
      "userId": "04888393322604891463"
     },
     "user_tz": 240
    },
    "id": "NMQsVsX4NO9d",
    "outputId": "32d32f87-5b5b-4a4d-8342-cb47a26b1d28"
   },
   "outputs": [
    {
     "data": {
      "text/plain": [
       "(128802, 21)"
      ]
     },
     "execution_count": 212,
     "metadata": {},
     "output_type": "execute_result"
    }
   ],
   "source": [
    "# Checking the shape of the final dataset\n",
    "\n",
    "cc_trans_df.shape"
   ]
  },
  {
   "cell_type": "code",
   "execution_count": null,
   "metadata": {
    "colab": {
     "base_uri": "https://localhost:8080/"
    },
    "executionInfo": {
     "elapsed": 81,
     "status": "ok",
     "timestamp": 1659818120863,
     "user": {
      "displayName": "Tolu O.",
      "userId": "04888393322604891463"
     },
     "user_tz": 240
    },
    "id": "EJrV8rQpNnJv",
    "outputId": "272f7575-e872-41a9-eaaf-26522c3de5f2"
   },
   "outputs": [
    {
     "data": {
      "text/plain": [
       "0    126142\n",
       "1      2660\n",
       "Name: is_fraud, dtype: int64"
      ]
     },
     "execution_count": 213,
     "metadata": {},
     "output_type": "execute_result"
    }
   ],
   "source": [
    "# Checking the class distribution of the final dataset\n",
    "\n",
    "cc_trans_df.is_fraud.value_counts()"
   ]
  },
  {
   "cell_type": "markdown",
   "metadata": {
    "id": "CJSHIDrPNDkj"
   },
   "source": [
    "\n",
    "**The next notebook will be on final pre-processing of the dataset, mostly transforming the categorical columns to numeric columns.**\n",
    "\n",
    "**First, I'll save this cleaned version for data visualization in Tableau.**"
   ]
  },
  {
   "cell_type": "markdown",
   "metadata": {
    "id": "H5Bu3J4RNWg0"
   },
   "source": [
    "# Saving Cleaned Dataset into csv File"
   ]
  },
  {
   "cell_type": "code",
   "execution_count": null,
   "metadata": {
    "colab": {
     "base_uri": "https://localhost:8080/"
    },
    "executionInfo": {
     "elapsed": 1991,
     "status": "ok",
     "timestamp": 1659243481474,
     "user": {
      "displayName": "Tolu O.",
      "userId": "04888393322604891463"
     },
     "user_tz": 240
    },
    "id": "qqwCrtnsNOLJ",
    "outputId": "90f02a8f-3851-43e3-d6da-aa82f09a3b75"
   },
   "outputs": [
    {
     "name": "stdout",
     "output_type": "stream",
     "text": [
      "Drive already mounted at drive; to attempt to forcibly remount, call drive.mount(\"drive\", force_remount=True).\n"
     ]
    }
   ],
   "source": [
    "from google.colab import drive\n",
    "drive.mount('drive')"
   ]
  },
  {
   "cell_type": "code",
   "execution_count": null,
   "metadata": {
    "id": "8AKmGJzwNrpz"
   },
   "outputs": [],
   "source": [
    "cc_trans_df.to_csv('cleaned_cc_trans_df.csv')\n",
    "!cp cleaned_cc_trans_df.csv \"/content/drive/MyDrive/Colab Notebooks/data\""
   ]
  },
  {
   "cell_type": "markdown",
   "metadata": {
    "id": "YfTkxB_aM-Th"
   },
   "source": [
    "# Summary\n",
    "\n",
    "In this notebook, I prepared the dataset for exploration and conducted exploratory data analysis on the data. I also conducted feature engineering by analyzing the relationship between the dependent and independent variables. I did some preprocessing on the independent variables, removing rows with little to no fraudulent occurrences to potentially increase the model's sensitivity to fraudulent transactions (increasing the percentage of Class 1), and also to make fitting models faster with a smaller dataset.\n",
    "\n",
    "In the next notebook: **'Tolulope_Oludemi - Notebook #2** - Preprocessing', I will be transforming the categorical columns to numeric, preparing this cleaned dataset to be model ready."
   ]
  }
 ],
 "metadata": {
  "colab": {
   "authorship_tag": "ABX9TyOsKhw+KfTnwUwBm3qQDcXD",
   "collapsed_sections": [],
   "machine_shape": "hm",
   "name": "Tolulope_Oludemi - Notebook #1 - Cleaning and EDA.ipynb",
   "provenance": [],
   "toc_visible": true
  },
  "gpuClass": "standard",
  "kernelspec": {
   "display_name": "Python 3 (ipykernel)",
   "language": "python",
   "name": "python3"
  },
  "language_info": {
   "codemirror_mode": {
    "name": "ipython",
    "version": 3
   },
   "file_extension": ".py",
   "mimetype": "text/x-python",
   "name": "python",
   "nbconvert_exporter": "python",
   "pygments_lexer": "ipython3",
   "version": "3.9.7"
  },
  "toc": {
   "base_numbering": 1,
   "nav_menu": {},
   "number_sections": true,
   "sideBar": true,
   "skip_h1_title": false,
   "title_cell": "Table of Contents",
   "title_sidebar": "Contents",
   "toc_cell": false,
   "toc_position": {
    "height": "calc(100% - 180px)",
    "left": "10px",
    "top": "150px",
    "width": "415.825px"
   },
   "toc_section_display": true,
   "toc_window_display": false
  }
 },
 "nbformat": 4,
 "nbformat_minor": 1
}
