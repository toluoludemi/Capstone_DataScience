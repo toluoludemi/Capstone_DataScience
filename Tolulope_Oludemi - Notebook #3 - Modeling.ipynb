{
 "cells": [
  {
   "cell_type": "markdown",
   "metadata": {
    "id": "BKfT1wD213wh"
   },
   "source": [
    "# Capstone Project: Predicting Fraudulent Transactions Using Machine Learning - Modeling\n",
    "\n",
    "### Author: Tolulope Oludemi\n",
    "\n",
    "### Date: August 8, 2022\n",
    "\n",
    "\n",
    "---\n",
    "**Notebook: Fitting Different Models on Dataset**\n",
    "\n",
    "In this notebook, I loaded the pre-processed, model ready dataset and fitted it on the following models:\n",
    "- Decision Tree\n",
    "- KNN\n",
    "- Logistic Regression\n",
    "- Random Forest\n",
    "- XGBoost\n",
    "- Neural Network\n",
    "\n",
    "The goal of this, is to identify the best performing model. The chosen model will then be optimized to see if an even better performance can be observed.\n",
    "\n",
    "---"
   ]
  },
  {
   "cell_type": "markdown",
   "metadata": {},
   "source": [
    "\n",
    "# Table of Contents\n",
    "\n",
    "---\n",
    "\n",
    "[I. Process To Getting Here](#Process-to-Getting-Here) <br>\n",
    "\n",
    "[II. Import Libraries and Dataset](#Import-Libraries-and-Dataset)<br>\n",
    "\n",
    "[III. Checking Dataset](#Checking-Dataset)<br>\n",
    "\n",
    "[IV. Train-Test Split](#Train-Test-Split)<br>\n",
    "\n",
    "[V. Fitting the Models](#Fitting-the-Models)<br>\n",
    "- [Decision Tree](#1.-Decision-Tree)<br>\n",
    "- [KNN](#2.-KNN)<br>\n",
    "- [Logistic Regression](#3.-Logistic-Regression)<br>\n",
    "\n",
    "[VI. Ensemble Models](#Ensemble-Models)<br>\n",
    "- [Random Forest](#Random-Forest)<br>\n",
    "- [XGBoost](#XGBoost)<br>\n",
    "\n",
    "[VII. Comparison of Base Models](#Comparison-of-Base-Models)<br>\n",
    "\n",
    "[VIII. Neural Networks](#Neural-Networks)<br>\n",
    "\n",
    "[IX. Comparison of All Models](#Comparison-of-All-Models)<br>\n",
    "\n",
    "[X. Optimizing XGBoost for Better Results](#Optimizing-XGBoost-for-Better-Results)<br>\n",
    "- [Downsampling](#Downsampling)<br>\n",
    "- [Upsampling](#Upsampling)<br>\n",
    "\n",
    "[XI. Comparison of XGBoost Models](#Comparison-of-XGBoost-Models)<br>\n",
    "- [Optimizing the Parameters of the Best Performing XGBoost Model](#Optimizing-the-Parameters-of-the-Best-Performing-XGBoost-Model)<br>\n",
    "\n",
    "[XII. Final Models](#Final-Models---Scoring-on-Test-Set-for-Comparison)<br>\n",
    "- [KNN](#KNN)<br>\n",
    "- [Decision Tree](#Decision-Tree)<br>\n",
    "- [Logistic Regression](#Logistic-Regression)<br>\n",
    "- [Random Forest](#Random-Forest)<br>\n",
    "- [XGBoost](#XGBoost)<br>\n",
    "    - [Original Class Distribution](#Original-Class-Distribution)<br>\n",
    "    - [Downsampled](#Downsampled-Data)<br>\n",
    "    - [Upsampled (Original)](#Upsampled-Data-(Original))<br>\n",
    "    - [Optimized Parameters for XGBoost](#Optimized-Parameters-for-XGBoost)<br>\n",
    "\n",
    "[XIII. Comparison of Models on Test Set Vs. Validation Set](#Comparison-of-Models-on-Test-Set-VS-Models-on-Validation-Set)<br>\n",
    "\n",
    "[XIV. Summary of Notebook](#Summary)<br>"
   ]
  },
  {
   "cell_type": "markdown",
   "metadata": {
    "id": "O48ncyAO3qMO"
   },
   "source": [
    "# Process to Getting Here\n",
    "\n",
    "Initially, in a separare notebook, I started fitting each model using GridSearchCV to find the best parameters for each model, specifically KNN and Logistic Regression. \n",
    "\n",
    "My approach was to fit a KNN model on the original class distribution, upsampled data and downsampled data model using GridSearchCV, with the same approach as Logistic Regression (original class distribution, upsampled data, and downsampled data). \n",
    "\n",
    "This process was taking too long due to the constant need to check for the best parameters for each model. I decided to use the default parameters and fit as many models as I can, then optimize the best performing model to see if I could get better results.\n",
    "\n",
    "This notebook will use the default parameters on the models listed above and the best performing model will then be optimized."
   ]
  },
  {
   "cell_type": "markdown",
   "metadata": {
    "id": "9gmIGAyyReuR"
   },
   "source": [
    "# Import Libraries and Dataset"
   ]
  },
  {
   "cell_type": "code",
   "execution_count": 1,
   "metadata": {
    "executionInfo": {
     "elapsed": 144,
     "status": "ok",
     "timestamp": 1659813611650,
     "user": {
      "displayName": "Tolu O.",
      "userId": "04888393322604891463"
     },
     "user_tz": 240
    },
    "id": "PE0pdWKDQSrJ"
   },
   "outputs": [],
   "source": [
    "# import necessary libraries\n",
    "\n",
    "import seaborn as sns\n",
    "import numpy as np\n",
    "import matplotlib.pyplot as plt\n",
    "import pandas as pd\n",
    "\n",
    "import warnings\n",
    "warnings.filterwarnings('ignore')"
   ]
  },
  {
   "cell_type": "code",
   "execution_count": 2,
   "metadata": {
    "colab": {
     "base_uri": "https://localhost:8080/"
    },
    "executionInfo": {
     "elapsed": 17592,
     "status": "ok",
     "timestamp": 1659813629393,
     "user": {
      "displayName": "Tolu O.",
      "userId": "04888393322604891463"
     },
     "user_tz": 240
    },
    "id": "QTm25MvhQ7rq",
    "outputId": "56c35d47-2d28-4ff7-b73b-fa27fa497bd5"
   },
   "outputs": [
    {
     "name": "stdout",
     "output_type": "stream",
     "text": [
      "Mounted at /content/drive\n"
     ]
    }
   ],
   "source": [
    "# Using GoogleColab so I need to set a path for where the data is located\n",
    "from google.colab import drive\n",
    "\n",
    "drive.mount('/content/drive')"
   ]
  },
  {
   "cell_type": "code",
   "execution_count": 3,
   "metadata": {
    "colab": {
     "base_uri": "https://localhost:8080/",
     "height": 317
    },
    "executionInfo": {
     "elapsed": 12866,
     "status": "ok",
     "timestamp": 1659813642253,
     "user": {
      "displayName": "Tolu O.",
      "userId": "04888393322604891463"
     },
     "user_tz": 240
    },
    "id": "dteCQiHkRHos",
    "outputId": "5b9e878a-503d-4b64-c6f8-abd0ce48e5e0"
   },
   "outputs": [
    {
     "data": {
      "text/html": [
       "\n",
       "  <div id=\"df-5caa20bb-3704-4daf-b101-2e7445265372\">\n",
       "    <div class=\"colab-df-container\">\n",
       "      <div>\n",
       "<style scoped>\n",
       "    .dataframe tbody tr th:only-of-type {\n",
       "        vertical-align: middle;\n",
       "    }\n",
       "\n",
       "    .dataframe tbody tr th {\n",
       "        vertical-align: top;\n",
       "    }\n",
       "\n",
       "    .dataframe thead th {\n",
       "        text-align: right;\n",
       "    }\n",
       "</style>\n",
       "<table border=\"1\" class=\"dataframe\">\n",
       "  <thead>\n",
       "    <tr style=\"text-align: right;\">\n",
       "      <th></th>\n",
       "      <th>cc_num</th>\n",
       "      <th>amt</th>\n",
       "      <th>zip</th>\n",
       "      <th>lat</th>\n",
       "      <th>long</th>\n",
       "      <th>city_pop</th>\n",
       "      <th>unix_time</th>\n",
       "      <th>merch_lat</th>\n",
       "      <th>merch_long</th>\n",
       "      <th>is_fraud</th>\n",
       "      <th>...</th>\n",
       "      <th>job_transform__x0_Surveyor</th>\n",
       "      <th>job_transform__x0_Teacher</th>\n",
       "      <th>job_transform__x0_Television production assistant</th>\n",
       "      <th>job_transform__x0_Television/film/video producer</th>\n",
       "      <th>job_transform__x0_Therapist</th>\n",
       "      <th>job_transform__x0_Trading standards officer</th>\n",
       "      <th>job_transform__x0_Transport planner</th>\n",
       "      <th>job_transform__x0_Tree surgeon</th>\n",
       "      <th>job_transform__x0_Veterinary surgeon</th>\n",
       "      <th>job_transform__x0_Warehouse manager</th>\n",
       "    </tr>\n",
       "  </thead>\n",
       "  <tbody>\n",
       "    <tr>\n",
       "      <th>5</th>\n",
       "      <td>4767265376804500</td>\n",
       "      <td>94.63</td>\n",
       "      <td>18917</td>\n",
       "      <td>40.3750</td>\n",
       "      <td>-75.2045</td>\n",
       "      <td>2158</td>\n",
       "      <td>1325376248</td>\n",
       "      <td>40.653382</td>\n",
       "      <td>-76.152667</td>\n",
       "      <td>0</td>\n",
       "      <td>...</td>\n",
       "      <td>0.0</td>\n",
       "      <td>0.0</td>\n",
       "      <td>0.0</td>\n",
       "      <td>0.0</td>\n",
       "      <td>0.0</td>\n",
       "      <td>0.0</td>\n",
       "      <td>1.0</td>\n",
       "      <td>0.0</td>\n",
       "      <td>0.0</td>\n",
       "      <td>0.0</td>\n",
       "    </tr>\n",
       "    <tr>\n",
       "      <th>7</th>\n",
       "      <td>6011360759745864</td>\n",
       "      <td>71.65</td>\n",
       "      <td>22824</td>\n",
       "      <td>38.8432</td>\n",
       "      <td>-78.6003</td>\n",
       "      <td>6018</td>\n",
       "      <td>1325376308</td>\n",
       "      <td>38.948089</td>\n",
       "      <td>-78.540296</td>\n",
       "      <td>0</td>\n",
       "      <td>...</td>\n",
       "      <td>0.0</td>\n",
       "      <td>0.0</td>\n",
       "      <td>0.0</td>\n",
       "      <td>0.0</td>\n",
       "      <td>0.0</td>\n",
       "      <td>0.0</td>\n",
       "      <td>0.0</td>\n",
       "      <td>0.0</td>\n",
       "      <td>0.0</td>\n",
       "      <td>0.0</td>\n",
       "    </tr>\n",
       "    <tr>\n",
       "      <th>12</th>\n",
       "      <td>180042946491150</td>\n",
       "      <td>71.22</td>\n",
       "      <td>33710</td>\n",
       "      <td>27.7898</td>\n",
       "      <td>-82.7243</td>\n",
       "      <td>341043</td>\n",
       "      <td>1325376416</td>\n",
       "      <td>27.630593</td>\n",
       "      <td>-82.308891</td>\n",
       "      <td>0</td>\n",
       "      <td>...</td>\n",
       "      <td>0.0</td>\n",
       "      <td>0.0</td>\n",
       "      <td>0.0</td>\n",
       "      <td>0.0</td>\n",
       "      <td>0.0</td>\n",
       "      <td>0.0</td>\n",
       "      <td>0.0</td>\n",
       "      <td>0.0</td>\n",
       "      <td>0.0</td>\n",
       "      <td>0.0</td>\n",
       "    </tr>\n",
       "    <tr>\n",
       "      <th>14</th>\n",
       "      <td>3514865930894695</td>\n",
       "      <td>7.77</td>\n",
       "      <td>88325</td>\n",
       "      <td>32.9396</td>\n",
       "      <td>-105.8189</td>\n",
       "      <td>899</td>\n",
       "      <td>1325376543</td>\n",
       "      <td>32.863258</td>\n",
       "      <td>-106.520205</td>\n",
       "      <td>0</td>\n",
       "      <td>...</td>\n",
       "      <td>0.0</td>\n",
       "      <td>0.0</td>\n",
       "      <td>0.0</td>\n",
       "      <td>0.0</td>\n",
       "      <td>0.0</td>\n",
       "      <td>0.0</td>\n",
       "      <td>0.0</td>\n",
       "      <td>0.0</td>\n",
       "      <td>0.0</td>\n",
       "      <td>0.0</td>\n",
       "    </tr>\n",
       "    <tr>\n",
       "      <th>15</th>\n",
       "      <td>6011999606625827</td>\n",
       "      <td>3.26</td>\n",
       "      <td>7640</td>\n",
       "      <td>40.9918</td>\n",
       "      <td>-73.9800</td>\n",
       "      <td>4664</td>\n",
       "      <td>1325376560</td>\n",
       "      <td>41.831174</td>\n",
       "      <td>-74.335559</td>\n",
       "      <td>0</td>\n",
       "      <td>...</td>\n",
       "      <td>0.0</td>\n",
       "      <td>0.0</td>\n",
       "      <td>0.0</td>\n",
       "      <td>0.0</td>\n",
       "      <td>0.0</td>\n",
       "      <td>0.0</td>\n",
       "      <td>0.0</td>\n",
       "      <td>0.0</td>\n",
       "      <td>0.0</td>\n",
       "      <td>0.0</td>\n",
       "    </tr>\n",
       "  </tbody>\n",
       "</table>\n",
       "<p>5 rows × 783 columns</p>\n",
       "</div>\n",
       "      <button class=\"colab-df-convert\" onclick=\"convertToInteractive('df-5caa20bb-3704-4daf-b101-2e7445265372')\"\n",
       "              title=\"Convert this dataframe to an interactive table.\"\n",
       "              style=\"display:none;\">\n",
       "        \n",
       "  <svg xmlns=\"http://www.w3.org/2000/svg\" height=\"24px\"viewBox=\"0 0 24 24\"\n",
       "       width=\"24px\">\n",
       "    <path d=\"M0 0h24v24H0V0z\" fill=\"none\"/>\n",
       "    <path d=\"M18.56 5.44l.94 2.06.94-2.06 2.06-.94-2.06-.94-.94-2.06-.94 2.06-2.06.94zm-11 1L8.5 8.5l.94-2.06 2.06-.94-2.06-.94L8.5 2.5l-.94 2.06-2.06.94zm10 10l.94 2.06.94-2.06 2.06-.94-2.06-.94-.94-2.06-.94 2.06-2.06.94z\"/><path d=\"M17.41 7.96l-1.37-1.37c-.4-.4-.92-.59-1.43-.59-.52 0-1.04.2-1.43.59L10.3 9.45l-7.72 7.72c-.78.78-.78 2.05 0 2.83L4 21.41c.39.39.9.59 1.41.59.51 0 1.02-.2 1.41-.59l7.78-7.78 2.81-2.81c.8-.78.8-2.07 0-2.86zM5.41 20L4 18.59l7.72-7.72 1.47 1.35L5.41 20z\"/>\n",
       "  </svg>\n",
       "      </button>\n",
       "      \n",
       "  <style>\n",
       "    .colab-df-container {\n",
       "      display:flex;\n",
       "      flex-wrap:wrap;\n",
       "      gap: 12px;\n",
       "    }\n",
       "\n",
       "    .colab-df-convert {\n",
       "      background-color: #E8F0FE;\n",
       "      border: none;\n",
       "      border-radius: 50%;\n",
       "      cursor: pointer;\n",
       "      display: none;\n",
       "      fill: #1967D2;\n",
       "      height: 32px;\n",
       "      padding: 0 0 0 0;\n",
       "      width: 32px;\n",
       "    }\n",
       "\n",
       "    .colab-df-convert:hover {\n",
       "      background-color: #E2EBFA;\n",
       "      box-shadow: 0px 1px 2px rgba(60, 64, 67, 0.3), 0px 1px 3px 1px rgba(60, 64, 67, 0.15);\n",
       "      fill: #174EA6;\n",
       "    }\n",
       "\n",
       "    [theme=dark] .colab-df-convert {\n",
       "      background-color: #3B4455;\n",
       "      fill: #D2E3FC;\n",
       "    }\n",
       "\n",
       "    [theme=dark] .colab-df-convert:hover {\n",
       "      background-color: #434B5C;\n",
       "      box-shadow: 0px 1px 3px 1px rgba(0, 0, 0, 0.15);\n",
       "      filter: drop-shadow(0px 1px 2px rgba(0, 0, 0, 0.3));\n",
       "      fill: #FFFFFF;\n",
       "    }\n",
       "  </style>\n",
       "\n",
       "      <script>\n",
       "        const buttonEl =\n",
       "          document.querySelector('#df-5caa20bb-3704-4daf-b101-2e7445265372 button.colab-df-convert');\n",
       "        buttonEl.style.display =\n",
       "          google.colab.kernel.accessAllowed ? 'block' : 'none';\n",
       "\n",
       "        async function convertToInteractive(key) {\n",
       "          const element = document.querySelector('#df-5caa20bb-3704-4daf-b101-2e7445265372');\n",
       "          const dataTable =\n",
       "            await google.colab.kernel.invokeFunction('convertToInteractive',\n",
       "                                                     [key], {});\n",
       "          if (!dataTable) return;\n",
       "\n",
       "          const docLinkHtml = 'Like what you see? Visit the ' +\n",
       "            '<a target=\"_blank\" href=https://colab.research.google.com/notebooks/data_table.ipynb>data table notebook</a>'\n",
       "            + ' to learn more about interactive tables.';\n",
       "          element.innerHTML = '';\n",
       "          dataTable['output_type'] = 'display_data';\n",
       "          await google.colab.output.renderOutput(dataTable, element);\n",
       "          const docLink = document.createElement('div');\n",
       "          docLink.innerHTML = docLinkHtml;\n",
       "          element.appendChild(docLink);\n",
       "        }\n",
       "      </script>\n",
       "    </div>\n",
       "  </div>\n",
       "  "
      ],
      "text/plain": [
       "              cc_num    amt    zip      lat      long  city_pop   unix_time  \\\n",
       "5   4767265376804500  94.63  18917  40.3750  -75.2045      2158  1325376248   \n",
       "7   6011360759745864  71.65  22824  38.8432  -78.6003      6018  1325376308   \n",
       "12   180042946491150  71.22  33710  27.7898  -82.7243    341043  1325376416   \n",
       "14  3514865930894695   7.77  88325  32.9396 -105.8189       899  1325376543   \n",
       "15  6011999606625827   3.26   7640  40.9918  -73.9800      4664  1325376560   \n",
       "\n",
       "    merch_lat  merch_long  is_fraud  ...  job_transform__x0_Surveyor  \\\n",
       "5   40.653382  -76.152667         0  ...                         0.0   \n",
       "7   38.948089  -78.540296         0  ...                         0.0   \n",
       "12  27.630593  -82.308891         0  ...                         0.0   \n",
       "14  32.863258 -106.520205         0  ...                         0.0   \n",
       "15  41.831174  -74.335559         0  ...                         0.0   \n",
       "\n",
       "    job_transform__x0_Teacher  \\\n",
       "5                         0.0   \n",
       "7                         0.0   \n",
       "12                        0.0   \n",
       "14                        0.0   \n",
       "15                        0.0   \n",
       "\n",
       "    job_transform__x0_Television production assistant  \\\n",
       "5                                                 0.0   \n",
       "7                                                 0.0   \n",
       "12                                                0.0   \n",
       "14                                                0.0   \n",
       "15                                                0.0   \n",
       "\n",
       "    job_transform__x0_Television/film/video producer  \\\n",
       "5                                                0.0   \n",
       "7                                                0.0   \n",
       "12                                               0.0   \n",
       "14                                               0.0   \n",
       "15                                               0.0   \n",
       "\n",
       "    job_transform__x0_Therapist  job_transform__x0_Trading standards officer  \\\n",
       "5                           0.0                                          0.0   \n",
       "7                           0.0                                          0.0   \n",
       "12                          0.0                                          0.0   \n",
       "14                          0.0                                          0.0   \n",
       "15                          0.0                                          0.0   \n",
       "\n",
       "    job_transform__x0_Transport planner  job_transform__x0_Tree surgeon  \\\n",
       "5                                   1.0                             0.0   \n",
       "7                                   0.0                             0.0   \n",
       "12                                  0.0                             0.0   \n",
       "14                                  0.0                             0.0   \n",
       "15                                  0.0                             0.0   \n",
       "\n",
       "    job_transform__x0_Veterinary surgeon  job_transform__x0_Warehouse manager  \n",
       "5                                    0.0                                  0.0  \n",
       "7                                    0.0                                  0.0  \n",
       "12                                   0.0                                  0.0  \n",
       "14                                   0.0                                  0.0  \n",
       "15                                   0.0                                  0.0  \n",
       "\n",
       "[5 rows x 783 columns]"
      ]
     },
     "execution_count": 3,
     "metadata": {},
     "output_type": "execute_result"
    }
   ],
   "source": [
    "cc_df = pd.read_csv(\"/content/drive/MyDrive/Colab Notebooks/data/model_ready_dataset.csv\", index_col=0)\n",
    "\n",
    "cc_df.head()"
   ]
  },
  {
   "cell_type": "markdown",
   "metadata": {
    "id": "EeEMLuZ-RSPD"
   },
   "source": [
    "# Checking Dataset\n",
    "\n"
   ]
  },
  {
   "cell_type": "code",
   "execution_count": 4,
   "metadata": {
    "colab": {
     "base_uri": "https://localhost:8080/"
    },
    "executionInfo": {
     "elapsed": 9,
     "status": "ok",
     "timestamp": 1659813642253,
     "user": {
      "displayName": "Tolu O.",
      "userId": "04888393322604891463"
     },
     "user_tz": 240
    },
    "id": "x_RaVwjuRUky",
    "outputId": "afbd34af-5169-4acd-94a4-a8921d618500"
   },
   "outputs": [
    {
     "data": {
      "text/plain": [
       "(128802, 783)"
      ]
     },
     "execution_count": 4,
     "metadata": {},
     "output_type": "execute_result"
    }
   ],
   "source": [
    "# Double check the number of rows and columns\n",
    "cc_df.shape"
   ]
  },
  {
   "cell_type": "code",
   "execution_count": 5,
   "metadata": {
    "colab": {
     "base_uri": "https://localhost:8080/"
    },
    "executionInfo": {
     "elapsed": 5,
     "status": "ok",
     "timestamp": 1659813642253,
     "user": {
      "displayName": "Tolu O.",
      "userId": "04888393322604891463"
     },
     "user_tz": 240
    },
    "id": "YfubSTtFRYh7",
    "outputId": "144a9827-cdb8-4f95-c5a5-27e6db67b670"
   },
   "outputs": [
    {
     "name": "stdout",
     "output_type": "stream",
     "text": [
      "<class 'pandas.core.frame.DataFrame'>\n",
      "Int64Index: 128802 entries, 5 to 1296642\n",
      "Columns: 783 entries, cc_num to job_transform__x0_Warehouse manager\n",
      "dtypes: float64(773), int64(10)\n",
      "memory usage: 770.4 MB\n"
     ]
    }
   ],
   "source": [
    "# Make sure the data types are numeric before fitting a model\n",
    "cc_df.info()"
   ]
  },
  {
   "cell_type": "code",
   "execution_count": 6,
   "metadata": {
    "colab": {
     "base_uri": "https://localhost:8080/"
    },
    "executionInfo": {
     "elapsed": 212,
     "status": "ok",
     "timestamp": 1659813642463,
     "user": {
      "displayName": "Tolu O.",
      "userId": "04888393322604891463"
     },
     "user_tz": 240
    },
    "id": "XxUw3nfrRYVZ",
    "outputId": "5e7fd26e-dc1d-4628-d6a1-d99e989b53ce"
   },
   "outputs": [
    {
     "data": {
      "text/plain": [
       "0"
      ]
     },
     "execution_count": 6,
     "metadata": {},
     "output_type": "execute_result"
    }
   ],
   "source": [
    "#Checking to make sure there are no NaNs in the dataset\n",
    "cc_df.isna().sum().sum()"
   ]
  },
  {
   "cell_type": "code",
   "execution_count": 7,
   "metadata": {
    "colab": {
     "base_uri": "https://localhost:8080/"
    },
    "executionInfo": {
     "elapsed": 2214,
     "status": "ok",
     "timestamp": 1659813644676,
     "user": {
      "displayName": "Tolu O.",
      "userId": "04888393322604891463"
     },
     "user_tz": 240
    },
    "id": "yAf7o-ErRUf1",
    "outputId": "2b8afd6e-1aea-43c1-baa7-74670982271a"
   },
   "outputs": [
    {
     "data": {
      "text/plain": [
       "0"
      ]
     },
     "execution_count": 7,
     "metadata": {},
     "output_type": "execute_result"
    }
   ],
   "source": [
    "# Checking to make sure there are no duplicated rows in the dataset\n",
    "cc_df.duplicated().sum()"
   ]
  },
  {
   "cell_type": "markdown",
   "metadata": {
    "id": "5HNUEPzZRQHn"
   },
   "source": [
    "# Train-Test Split"
   ]
  },
  {
   "cell_type": "code",
   "execution_count": 8,
   "metadata": {
    "executionInfo": {
     "elapsed": 153,
     "status": "ok",
     "timestamp": 1659813644944,
     "user": {
      "displayName": "Tolu O.",
      "userId": "04888393322604891463"
     },
     "user_tz": 240
    },
    "id": "j8gWHp4wRKOS"
   },
   "outputs": [],
   "source": [
    "# Defined Independent and dependent variables\n",
    "\n",
    "X = cc_df.drop('is_fraud', axis=1)\n",
    "y = cc_df['is_fraud']"
   ]
  },
  {
   "cell_type": "code",
   "execution_count": 9,
   "metadata": {
    "colab": {
     "base_uri": "https://localhost:8080/"
    },
    "executionInfo": {
     "elapsed": 11,
     "status": "ok",
     "timestamp": 1659813644944,
     "user": {
      "displayName": "Tolu O.",
      "userId": "04888393322604891463"
     },
     "user_tz": 240
    },
    "id": "k-PP8EXlRPX-",
    "outputId": "983b66ff-0f5f-4d53-8b0b-1947e4d86a8a"
   },
   "outputs": [
    {
     "name": "stdout",
     "output_type": "stream",
     "text": [
      "(128802, 782) (128802,)\n"
     ]
    }
   ],
   "source": [
    "# Checked the shape of the independent and dependent variables\n",
    "\n",
    "print(X.shape, y.shape)"
   ]
  },
  {
   "cell_type": "code",
   "execution_count": 10,
   "metadata": {
    "colab": {
     "base_uri": "https://localhost:8080/"
    },
    "executionInfo": {
     "elapsed": 3,
     "status": "ok",
     "timestamp": 1659813644944,
     "user": {
      "displayName": "Tolu O.",
      "userId": "04888393322604891463"
     },
     "user_tz": 240
    },
    "id": "I_-LTF_CRwL_",
    "outputId": "c5e176f6-1222-4a68-f25d-a352fad13f48"
   },
   "outputs": [
    {
     "data": {
      "text/plain": [
       "0    126142\n",
       "1      2660\n",
       "Name: is_fraud, dtype: int64"
      ]
     },
     "execution_count": 10,
     "metadata": {},
     "output_type": "execute_result"
    }
   ],
   "source": [
    "# To see the distribution of non-fraudulent and fraudulent transactions\n",
    "y.value_counts()"
   ]
  },
  {
   "cell_type": "markdown",
   "metadata": {
    "id": "PWRgN4rP-zRo"
   },
   "source": [
    "There are 126,142 cases of non-fraudulent transactions and 2,660 cases of non-fraudulent transactions in the dataset."
   ]
  },
  {
   "cell_type": "markdown",
   "metadata": {
    "id": "VzLvWHAF_egi"
   },
   "source": [
    "---\n",
    "\n",
    "When conducting a train, validation, and test set, I stratified on the dependent variable (target) to keep the class distribution the same throughout the sets."
   ]
  },
  {
   "cell_type": "code",
   "execution_count": 11,
   "metadata": {
    "executionInfo": {
     "elapsed": 903,
     "status": "ok",
     "timestamp": 1659813645845,
     "user": {
      "displayName": "Tolu O.",
      "userId": "04888393322604891463"
     },
     "user_tz": 240
    },
    "id": "HT-SeCgWRwyA"
   },
   "outputs": [],
   "source": [
    "# Split the data into test and remainder (for train and val sets) sets\n",
    "# The test set will be 20% of the entire dataset\n",
    "\n",
    "from sklearn.model_selection import train_test_split\n",
    "\n",
    "X_remainder, X_test, y_remainder, y_test = train_test_split(X, \n",
    "                                                            y, \n",
    "                                                            test_size = 0.2,\n",
    "                                                            random_state=1,\n",
    "                                                           stratify=y)"
   ]
  },
  {
   "cell_type": "code",
   "execution_count": 12,
   "metadata": {
    "executionInfo": {
     "elapsed": 674,
     "status": "ok",
     "timestamp": 1659813646516,
     "user": {
      "displayName": "Tolu O.",
      "userId": "04888393322604891463"
     },
     "user_tz": 240
    },
    "id": "018R1v2eR1Wc"
   },
   "outputs": [],
   "source": [
    "# Split the remainder set into train and validagtion sets\n",
    "# The validation set will be 30% of the remainder set\n",
    "\n",
    "X_train, X_val, y_train, y_val = train_test_split(X_remainder, \n",
    "                                                  y_remainder,\n",
    "                                                  test_size = 0.3,\n",
    "                                                  random_state=1,\n",
    "                                                  stratify=y_remainder)"
   ]
  },
  {
   "cell_type": "code",
   "execution_count": 13,
   "metadata": {
    "colab": {
     "base_uri": "https://localhost:8080/"
    },
    "executionInfo": {
     "elapsed": 5,
     "status": "ok",
     "timestamp": 1659813646516,
     "user": {
      "displayName": "Tolu O.",
      "userId": "04888393322604891463"
     },
     "user_tz": 240
    },
    "id": "rUNn-b8wR7gu",
    "outputId": "bed095e3-ccc8-4b5f-bbb2-c5d3dcf8c6db"
   },
   "outputs": [
    {
     "name": "stdout",
     "output_type": "stream",
     "text": [
      "Shape of test set: (25761, 782)\n",
      "Shape of validation set: (30913, 782)\n",
      "Shape of train set: (72128, 782)\n"
     ]
    }
   ],
   "source": [
    "# Print the shape of each set (test, validation, and train)\n",
    "\n",
    "print(f'Shape of test set: {X_test.shape}')\n",
    "print(f'Shape of validation set: {X_val.shape}')\n",
    "print(f'Shape of train set: {X_train.shape}')"
   ]
  },
  {
   "cell_type": "code",
   "execution_count": 14,
   "metadata": {
    "colab": {
     "base_uri": "https://localhost:8080/"
    },
    "executionInfo": {
     "elapsed": 3,
     "status": "ok",
     "timestamp": 1659813646516,
     "user": {
      "displayName": "Tolu O.",
      "userId": "04888393322604891463"
     },
     "user_tz": 240
    },
    "id": "crEwfvEFR-kB",
    "outputId": "b5cbcfc7-3b53-4c3b-e9e3-bbbaa0a4645c"
   },
   "outputs": [
    {
     "name": "stdout",
     "output_type": "stream",
     "text": [
      "Fraud value counts in test set:\n",
      "0    25229\n",
      "1      532\n",
      "Name: is_fraud, dtype: int64\n",
      "\n",
      "Fraud value counts in validation set:\n",
      "0    30275\n",
      "1      638\n",
      "Name: is_fraud, dtype: int64\n",
      "\n",
      "Fraud value counts in train set:\n",
      "0    70638\n",
      "1     1490\n",
      "Name: is_fraud, dtype: int64\n"
     ]
    }
   ],
   "source": [
    "# Observe the class distribution of each set\n",
    "\n",
    "print(f'Fraud value counts in test set:\\n{y_test.value_counts()}')\n",
    "print(f'\\nFraud value counts in validation set:\\n{y_val.value_counts()}')\n",
    "print(f'\\nFraud value counts in train set:\\n{y_train.value_counts()}')"
   ]
  },
  {
   "cell_type": "markdown",
   "metadata": {
    "id": "BaW8NGFM_4rI"
   },
   "source": [
    "The class distribution throughout the train, validation, and test set are the same. The next step is to fit the models on the train set, and score/predict on the validation set."
   ]
  },
  {
   "cell_type": "markdown",
   "metadata": {
    "id": "j8eviQ2PSP8i"
   },
   "source": [
    "# Fitting the Models\n",
    "\n",
    "The evaluation metrics that will be used to evaluate the performance of the models is the recall score, f1-score and the AUC score. \n",
    "\n",
    "My goal is to identify as many fraudulent transactions as possible, without misclassifying too many non-fraudulent transactions as fraudulent, so a good f1-score as well. \n",
    "\n",
    "These metrics will determine the best performing model."
   ]
  },
  {
   "cell_type": "markdown",
   "metadata": {
    "id": "8pR2ylcTSXlV"
   },
   "source": [
    "## 1. Decision Tree"
   ]
  },
  {
   "cell_type": "code",
   "execution_count": 15,
   "metadata": {
    "colab": {
     "base_uri": "https://localhost:8080/"
    },
    "executionInfo": {
     "elapsed": 7526,
     "status": "ok",
     "timestamp": 1659813654040,
     "user": {
      "displayName": "Tolu O.",
      "userId": "04888393322604891463"
     },
     "user_tz": 240
    },
    "id": "jF0EJhJxSPKA",
    "outputId": "7c917495-cae4-4e85-bb82-6030eff48ab2"
   },
   "outputs": [
    {
     "name": "stdout",
     "output_type": "stream",
     "text": [
      "Train accuracy: 1.0\n",
      "Validation accuracy: 0.998059069000097\n"
     ]
    }
   ],
   "source": [
    "# import the model from sklearn\n",
    "from sklearn.tree import DecisionTreeClassifier\n",
    "\n",
    "# instantiate and fit the model on the train set\n",
    "DT_model = DecisionTreeClassifier(random_state=1).fit(X_train, y_train)\n",
    "\n",
    "# score the train and validation set\n",
    "print(f\"Train accuracy: {DT_model.score(X_train, y_train)}\")\n",
    "print(f\"Validation accuracy: {DT_model.score(X_val, y_val)}\")"
   ]
  },
  {
   "cell_type": "markdown",
   "metadata": {
    "id": "PxhphZPdATN0"
   },
   "source": [
    "The scores on the train and validation set looks good, it doesn't appear to be overfitting. Due to the extreme class imbalance in the dataset, I can't assume that the accuracy score alone is a good evaluation metric of how well my model performed.\n",
    "\n",
    "---\n",
    "Next, I looked at the classification report to see the precision, recall, and f1 score for both classes"
   ]
  },
  {
   "cell_type": "code",
   "execution_count": 16,
   "metadata": {
    "colab": {
     "base_uri": "https://localhost:8080/"
    },
    "executionInfo": {
     "elapsed": 193,
     "status": "ok",
     "timestamp": 1659813654219,
     "user": {
      "displayName": "Tolu O.",
      "userId": "04888393322604891463"
     },
     "user_tz": 240
    },
    "id": "jPBgzOLhWsKn",
    "outputId": "eb155480-27d6-4a76-9657-ee275a9854d9"
   },
   "outputs": [
    {
     "name": "stdout",
     "output_type": "stream",
     "text": [
      "              precision    recall  f1-score   support\n",
      "\n",
      "           0       1.00      1.00      1.00     30275\n",
      "           1       0.96      0.95      0.95       638\n",
      "\n",
      "    accuracy                           1.00     30913\n",
      "   macro avg       0.98      0.97      0.98     30913\n",
      "weighted avg       1.00      1.00      1.00     30913\n",
      "\n"
     ]
    }
   ],
   "source": [
    "from sklearn.metrics import classification_report\n",
    "\n",
    "y_pred = DT_model.predict(X_val)\n",
    "\n",
    "report_initial = classification_report(y_val, y_pred)\n",
    "print(report_initial)"
   ]
  },
  {
   "cell_type": "markdown",
   "metadata": {
    "id": "0AnzZWXpArHP"
   },
   "source": [
    "This is a pretty good model! The model is 96% precise in predicting fraud, and able to recall 95% fraudulent instances, with a solid f1 score. Next, I displayed and plotted the confusion matrix, to see exactly how many instances the model was able to predict and how accurate the predictions were."
   ]
  },
  {
   "cell_type": "code",
   "execution_count": 17,
   "metadata": {
    "colab": {
     "base_uri": "https://localhost:8080/",
     "height": 166
    },
    "executionInfo": {
     "elapsed": 10,
     "status": "ok",
     "timestamp": 1659813654220,
     "user": {
      "displayName": "Tolu O.",
      "userId": "04888393322604891463"
     },
     "user_tz": 240
    },
    "id": "TdSjCxBUehDf",
    "outputId": "244218f9-b1d8-4d3e-d303-444b7d825158"
   },
   "outputs": [
    {
     "data": {
      "text/plain": [
       "0    30275\n",
       "1      638\n",
       "Name: is_fraud, dtype: int64"
      ]
     },
     "metadata": {},
     "output_type": "display_data"
    },
    {
     "data": {
      "text/html": [
       "\n",
       "  <div id=\"df-032b517d-bf6e-4691-b581-0533d5aa006e\">\n",
       "    <div class=\"colab-df-container\">\n",
       "      <div>\n",
       "<style scoped>\n",
       "    .dataframe tbody tr th:only-of-type {\n",
       "        vertical-align: middle;\n",
       "    }\n",
       "\n",
       "    .dataframe tbody tr th {\n",
       "        vertical-align: top;\n",
       "    }\n",
       "\n",
       "    .dataframe thead th {\n",
       "        text-align: right;\n",
       "    }\n",
       "</style>\n",
       "<table border=\"1\" class=\"dataframe\">\n",
       "  <thead>\n",
       "    <tr style=\"text-align: right;\">\n",
       "      <th></th>\n",
       "      <th>Predicted Non-fraudulent</th>\n",
       "      <th>Predicted Fraudulent</th>\n",
       "    </tr>\n",
       "  </thead>\n",
       "  <tbody>\n",
       "    <tr>\n",
       "      <th>True Non-fraudulent</th>\n",
       "      <td>30249</td>\n",
       "      <td>26</td>\n",
       "    </tr>\n",
       "    <tr>\n",
       "      <th>True Fraudulent</th>\n",
       "      <td>34</td>\n",
       "      <td>604</td>\n",
       "    </tr>\n",
       "  </tbody>\n",
       "</table>\n",
       "</div>\n",
       "      <button class=\"colab-df-convert\" onclick=\"convertToInteractive('df-032b517d-bf6e-4691-b581-0533d5aa006e')\"\n",
       "              title=\"Convert this dataframe to an interactive table.\"\n",
       "              style=\"display:none;\">\n",
       "        \n",
       "  <svg xmlns=\"http://www.w3.org/2000/svg\" height=\"24px\"viewBox=\"0 0 24 24\"\n",
       "       width=\"24px\">\n",
       "    <path d=\"M0 0h24v24H0V0z\" fill=\"none\"/>\n",
       "    <path d=\"M18.56 5.44l.94 2.06.94-2.06 2.06-.94-2.06-.94-.94-2.06-.94 2.06-2.06.94zm-11 1L8.5 8.5l.94-2.06 2.06-.94-2.06-.94L8.5 2.5l-.94 2.06-2.06.94zm10 10l.94 2.06.94-2.06 2.06-.94-2.06-.94-.94-2.06-.94 2.06-2.06.94z\"/><path d=\"M17.41 7.96l-1.37-1.37c-.4-.4-.92-.59-1.43-.59-.52 0-1.04.2-1.43.59L10.3 9.45l-7.72 7.72c-.78.78-.78 2.05 0 2.83L4 21.41c.39.39.9.59 1.41.59.51 0 1.02-.2 1.41-.59l7.78-7.78 2.81-2.81c.8-.78.8-2.07 0-2.86zM5.41 20L4 18.59l7.72-7.72 1.47 1.35L5.41 20z\"/>\n",
       "  </svg>\n",
       "      </button>\n",
       "      \n",
       "  <style>\n",
       "    .colab-df-container {\n",
       "      display:flex;\n",
       "      flex-wrap:wrap;\n",
       "      gap: 12px;\n",
       "    }\n",
       "\n",
       "    .colab-df-convert {\n",
       "      background-color: #E8F0FE;\n",
       "      border: none;\n",
       "      border-radius: 50%;\n",
       "      cursor: pointer;\n",
       "      display: none;\n",
       "      fill: #1967D2;\n",
       "      height: 32px;\n",
       "      padding: 0 0 0 0;\n",
       "      width: 32px;\n",
       "    }\n",
       "\n",
       "    .colab-df-convert:hover {\n",
       "      background-color: #E2EBFA;\n",
       "      box-shadow: 0px 1px 2px rgba(60, 64, 67, 0.3), 0px 1px 3px 1px rgba(60, 64, 67, 0.15);\n",
       "      fill: #174EA6;\n",
       "    }\n",
       "\n",
       "    [theme=dark] .colab-df-convert {\n",
       "      background-color: #3B4455;\n",
       "      fill: #D2E3FC;\n",
       "    }\n",
       "\n",
       "    [theme=dark] .colab-df-convert:hover {\n",
       "      background-color: #434B5C;\n",
       "      box-shadow: 0px 1px 3px 1px rgba(0, 0, 0, 0.15);\n",
       "      filter: drop-shadow(0px 1px 2px rgba(0, 0, 0, 0.3));\n",
       "      fill: #FFFFFF;\n",
       "    }\n",
       "  </style>\n",
       "\n",
       "      <script>\n",
       "        const buttonEl =\n",
       "          document.querySelector('#df-032b517d-bf6e-4691-b581-0533d5aa006e button.colab-df-convert');\n",
       "        buttonEl.style.display =\n",
       "          google.colab.kernel.accessAllowed ? 'block' : 'none';\n",
       "\n",
       "        async function convertToInteractive(key) {\n",
       "          const element = document.querySelector('#df-032b517d-bf6e-4691-b581-0533d5aa006e');\n",
       "          const dataTable =\n",
       "            await google.colab.kernel.invokeFunction('convertToInteractive',\n",
       "                                                     [key], {});\n",
       "          if (!dataTable) return;\n",
       "\n",
       "          const docLinkHtml = 'Like what you see? Visit the ' +\n",
       "            '<a target=\"_blank\" href=https://colab.research.google.com/notebooks/data_table.ipynb>data table notebook</a>'\n",
       "            + ' to learn more about interactive tables.';\n",
       "          element.innerHTML = '';\n",
       "          dataTable['output_type'] = 'display_data';\n",
       "          await google.colab.output.renderOutput(dataTable, element);\n",
       "          const docLink = document.createElement('div');\n",
       "          docLink.innerHTML = docLinkHtml;\n",
       "          element.appendChild(docLink);\n",
       "        }\n",
       "      </script>\n",
       "    </div>\n",
       "  </div>\n",
       "  "
      ],
      "text/plain": [
       "                     Predicted Non-fraudulent  Predicted Fraudulent\n",
       "True Non-fraudulent                     30249                    26\n",
       "True Fraudulent                            34                   604"
      ]
     },
     "metadata": {},
     "output_type": "display_data"
    }
   ],
   "source": [
    "# import confusion matrix\n",
    "from sklearn.metrics import confusion_matrix\n",
    "\n",
    "# display the class distribution to see the totals for each class\n",
    "display(y_val.value_counts())\n",
    "\n",
    "# display confusion matrix\n",
    "con_matrix = pd.DataFrame(\n",
    "    data = confusion_matrix(y_val, y_pred),\n",
    "    index = ['True Non-fraudulent', 'True Fraudulent'],\n",
    "    columns = ['Predicted Non-fraudulent', 'Predicted Fraudulent']\n",
    ")\n",
    "display(con_matrix)"
   ]
  },
  {
   "cell_type": "markdown",
   "metadata": {
    "id": "bow7P4XfB3jr"
   },
   "source": [
    "Out of 638 fraudulent transactions, the model was able to accurately predict 604 cases. The model missed 34 fraudulent transactions, and predicted those transactions as non-fraudulent.\n",
    "\n",
    "The model was also able to predict 30,249 non-fraudulent transactions as non-fraudulent, but misclassified 26 non-fraudulent transactions as fraudulent. But overall, this is a good model."
   ]
  },
  {
   "cell_type": "code",
   "execution_count": 18,
   "metadata": {
    "colab": {
     "base_uri": "https://localhost:8080/",
     "height": 282
    },
    "executionInfo": {
     "elapsed": 272,
     "status": "ok",
     "timestamp": 1659813654486,
     "user": {
      "displayName": "Tolu O.",
      "userId": "04888393322604891463"
     },
     "user_tz": 240
    },
    "id": "-KMw-N6XfHFC",
    "outputId": "10ed8ccd-1117-4454-cb0b-4a6d2ecd5692"
   },
   "outputs": [
    {
     "data": {
      "image/png": "[encoded data removed]",
      "text/plain": [
       "<Figure size 432x288 with 2 Axes>"
      ]
     },
     "metadata": {
      "needs_background": "light"
     },
     "output_type": "display_data"
    }
   ],
   "source": [
    "# plot the confusion matrix\n",
    "from sklearn.metrics import plot_confusion_matrix\n",
    "\n",
    "plot_confusion_matrix(DT_model, X_val, y_val);"
   ]
  },
  {
   "cell_type": "code",
   "execution_count": 19,
   "metadata": {
    "colab": {
     "base_uri": "https://localhost:8080/",
     "height": 295
    },
    "executionInfo": {
     "elapsed": 323,
     "status": "ok",
     "timestamp": 1659813654807,
     "user": {
      "displayName": "Tolu O.",
      "userId": "04888393322604891463"
     },
     "user_tz": 240
    },
    "id": "gp4MDau-0Jw9",
    "outputId": "16fd59b2-c652-4f81-a41f-0e7a8299eba4"
   },
   "outputs": [
    {
     "data": {
      "image/png": "[encoded data removed]",
      "text/plain": [
       "<Figure size 432x288 with 1 Axes>"
      ]
     },
     "metadata": {
      "needs_background": "light"
     },
     "output_type": "display_data"
    }
   ],
   "source": [
    "from sklearn.metrics import roc_curve, roc_auc_score\n",
    "\n",
    "# probabilistic prediction\n",
    "y_val_proba = DT_model.predict_proba(X_val)[:,1]\n",
    "\n",
    "# ROC arrays\n",
    "fprs, tprs, thresholds = roc_curve(y_val, y_val_proba)\n",
    "\n",
    "# AUC\n",
    "roc_auc = roc_auc_score(y_val, y_val_proba)\n",
    "\n",
    "# plot\n",
    "plt.figure()\n",
    "sns.lineplot(fprs, tprs, color='red', lw=2, label=f'ROC (AUC = {roc_auc:0.2f})')\n",
    "sns.lineplot([0, 1], [0, 1], color='black', lw=2, label='random guess') # random guess\n",
    "plt.xlabel('FPR')\n",
    "plt.ylabel('Recall or TPR')\n",
    "plt.title('ROC Curve for Credit Card Fraud Prediction for Decision Tree Model')\n",
    "plt.legend(loc='best')\n",
    "plt.show()"
   ]
  },
  {
   "cell_type": "markdown",
   "metadata": {
    "id": "_RdDSbg7HjjJ"
   },
   "source": [
    "The ROC for this model has a good AUC score too, with an AUC score of 97%, meaning that the model does a good job of distinguishing between the positive and negative classes."
   ]
  },
  {
   "cell_type": "markdown",
   "metadata": {
    "id": "9IjpMsxcXeWC"
   },
   "source": [
    "## 2. KNN"
   ]
  },
  {
   "cell_type": "code",
   "execution_count": 20,
   "metadata": {
    "executionInfo": {
     "elapsed": 1043,
     "status": "ok",
     "timestamp": 1659813655848,
     "user": {
      "displayName": "Tolu O.",
      "userId": "04888393322604891463"
     },
     "user_tz": 240
    },
    "id": "CBCdRk8VXg1Q"
   },
   "outputs": [],
   "source": [
    "# import the model from sklearn and standardscaler\n",
    "\n",
    "from sklearn.neighbors import KNeighborsClassifier\n",
    "from sklearn.preprocessing import StandardScaler\n",
    "\n",
    "# instantiate the scaler\n",
    "scaler = StandardScaler().fit(X_train)\n",
    "\n",
    "# transform the train and validation set\n",
    "X_train_ss = scaler.transform(X_train)\n",
    "X_val_ss = scaler.transform(X_val)"
   ]
  },
  {
   "cell_type": "code",
   "execution_count": 21,
   "metadata": {
    "colab": {
     "base_uri": "https://localhost:8080/"
    },
    "executionInfo": {
     "elapsed": 212198,
     "status": "ok",
     "timestamp": 1659813868044,
     "user": {
      "displayName": "Tolu O.",
      "userId": "04888393322604891463"
     },
     "user_tz": 240
    },
    "id": "meKBCesBaLY6",
    "outputId": "d24f7f95-7d8a-49c4-d415-592ae3549843"
   },
   "outputs": [
    {
     "name": "stdout",
     "output_type": "stream",
     "text": [
      "Number of Neighbors: 5\n",
      "Train accuracy: 0.9835292812777284\n",
      "Validation accuracy: 0.9826933652508654\n"
     ]
    }
   ],
   "source": [
    "# instantiate the KNN model and fit it on the scaled data\n",
    "\n",
    "KNN_model = KNeighborsClassifier().fit(X_train_ss, y_train)\n",
    "\n",
    "\n",
    "# print out the train and validation scores\n",
    "print(f\"Number of Neighbors: {KNN_model.n_neighbors}\")\n",
    "print(f\"Train accuracy: {KNN_model.score(X_train_ss, y_train)}\")\n",
    "print(f\"Validation accuracy: {KNN_model.score(X_val_ss, y_val)}\")"
   ]
  },
  {
   "cell_type": "markdown",
   "metadata": {
    "id": "VDoMOFdBLCl-"
   },
   "source": [
    "The train and validation accuracies are really good! But it is not a good evaluation metric for this imbalanced data. I will look at the classification report to see if the model was able to accuractely detect the fraudulent transactions."
   ]
  },
  {
   "cell_type": "code",
   "execution_count": 22,
   "metadata": {
    "colab": {
     "base_uri": "https://localhost:8080/"
    },
    "executionInfo": {
     "elapsed": 63649,
     "status": "ok",
     "timestamp": 1659813931680,
     "user": {
      "displayName": "Tolu O.",
      "userId": "04888393322604891463"
     },
     "user_tz": 240
    },
    "id": "0fy1SI2DZN19",
    "outputId": "3d49f0eb-d280-49b2-cab0-4fabd293618d"
   },
   "outputs": [
    {
     "name": "stdout",
     "output_type": "stream",
     "text": [
      "              precision    recall  f1-score   support\n",
      "\n",
      "           0       0.98      1.00      0.99     30275\n",
      "           1       0.95      0.17      0.29       638\n",
      "\n",
      "    accuracy                           0.98     30913\n",
      "   macro avg       0.97      0.59      0.64     30913\n",
      "weighted avg       0.98      0.98      0.98     30913\n",
      "\n"
     ]
    }
   ],
   "source": [
    "# classification report\n",
    "y_pred = KNN_model.predict(X_val_ss)\n",
    "\n",
    "report_initial = classification_report(y_val, y_pred)\n",
    "print(report_initial)"
   ]
  },
  {
   "cell_type": "markdown",
   "metadata": {
    "id": "xFVsKWB8LY05"
   },
   "source": [
    "Although the train and validation accuracies were really good, the model only has a 17% recall score, meaning that it was only able to correctly identify 17% of the total fraudulent transactions.\n",
    "\n",
    "The precision is 95% meaning that out of the 17% correctly identified, the model is 95% confident in its precision of identifying fraudulent transactions.\n",
    "\n",
    "The harmonic mean (F1 score) is only 29% despite the precision being high at 95%. Meaning that the balance between the precision and recall is very low.\n",
    "\n",
    "Next, I will get the confusion matrix to see exactly how many non-fraudulent and fraudulent transactions the model was able to predict correctly and incorrectly."
   ]
  },
  {
   "cell_type": "code",
   "execution_count": 23,
   "metadata": {
    "colab": {
     "base_uri": "https://localhost:8080/",
     "height": 166
    },
    "executionInfo": {
     "elapsed": 62,
     "status": "ok",
     "timestamp": 1659813931681,
     "user": {
      "displayName": "Tolu O.",
      "userId": "04888393322604891463"
     },
     "user_tz": 240
    },
    "id": "N2BQtGzEfRTG",
    "outputId": "4999f179-c50d-43cb-c5d5-bd826bb53aad"
   },
   "outputs": [
    {
     "data": {
      "text/plain": [
       "0    30275\n",
       "1      638\n",
       "Name: is_fraud, dtype: int64"
      ]
     },
     "metadata": {},
     "output_type": "display_data"
    },
    {
     "data": {
      "text/html": [
       "\n",
       "  <div id=\"df-7810fa75-ce89-4529-8342-0e473a7451a0\">\n",
       "    <div class=\"colab-df-container\">\n",
       "      <div>\n",
       "<style scoped>\n",
       "    .dataframe tbody tr th:only-of-type {\n",
       "        vertical-align: middle;\n",
       "    }\n",
       "\n",
       "    .dataframe tbody tr th {\n",
       "        vertical-align: top;\n",
       "    }\n",
       "\n",
       "    .dataframe thead th {\n",
       "        text-align: right;\n",
       "    }\n",
       "</style>\n",
       "<table border=\"1\" class=\"dataframe\">\n",
       "  <thead>\n",
       "    <tr style=\"text-align: right;\">\n",
       "      <th></th>\n",
       "      <th>Predicted Non-fraudulent</th>\n",
       "      <th>Predicted Fraudulent</th>\n",
       "    </tr>\n",
       "  </thead>\n",
       "  <tbody>\n",
       "    <tr>\n",
       "      <th>True Non-fraudulent</th>\n",
       "      <td>30269</td>\n",
       "      <td>6</td>\n",
       "    </tr>\n",
       "    <tr>\n",
       "      <th>True Fraudulent</th>\n",
       "      <td>529</td>\n",
       "      <td>109</td>\n",
       "    </tr>\n",
       "  </tbody>\n",
       "</table>\n",
       "</div>\n",
       "      <button class=\"colab-df-convert\" onclick=\"convertToInteractive('df-7810fa75-ce89-4529-8342-0e473a7451a0')\"\n",
       "              title=\"Convert this dataframe to an interactive table.\"\n",
       "              style=\"display:none;\">\n",
       "        \n",
       "  <svg xmlns=\"http://www.w3.org/2000/svg\" height=\"24px\"viewBox=\"0 0 24 24\"\n",
       "       width=\"24px\">\n",
       "    <path d=\"M0 0h24v24H0V0z\" fill=\"none\"/>\n",
       "    <path d=\"M18.56 5.44l.94 2.06.94-2.06 2.06-.94-2.06-.94-.94-2.06-.94 2.06-2.06.94zm-11 1L8.5 8.5l.94-2.06 2.06-.94-2.06-.94L8.5 2.5l-.94 2.06-2.06.94zm10 10l.94 2.06.94-2.06 2.06-.94-2.06-.94-.94-2.06-.94 2.06-2.06.94z\"/><path d=\"M17.41 7.96l-1.37-1.37c-.4-.4-.92-.59-1.43-.59-.52 0-1.04.2-1.43.59L10.3 9.45l-7.72 7.72c-.78.78-.78 2.05 0 2.83L4 21.41c.39.39.9.59 1.41.59.51 0 1.02-.2 1.41-.59l7.78-7.78 2.81-2.81c.8-.78.8-2.07 0-2.86zM5.41 20L4 18.59l7.72-7.72 1.47 1.35L5.41 20z\"/>\n",
       "  </svg>\n",
       "      </button>\n",
       "      \n",
       "  <style>\n",
       "    .colab-df-container {\n",
       "      display:flex;\n",
       "      flex-wrap:wrap;\n",
       "      gap: 12px;\n",
       "    }\n",
       "\n",
       "    .colab-df-convert {\n",
       "      background-color: #E8F0FE;\n",
       "      border: none;\n",
       "      border-radius: 50%;\n",
       "      cursor: pointer;\n",
       "      display: none;\n",
       "      fill: #1967D2;\n",
       "      height: 32px;\n",
       "      padding: 0 0 0 0;\n",
       "      width: 32px;\n",
       "    }\n",
       "\n",
       "    .colab-df-convert:hover {\n",
       "      background-color: #E2EBFA;\n",
       "      box-shadow: 0px 1px 2px rgba(60, 64, 67, 0.3), 0px 1px 3px 1px rgba(60, 64, 67, 0.15);\n",
       "      fill: #174EA6;\n",
       "    }\n",
       "\n",
       "    [theme=dark] .colab-df-convert {\n",
       "      background-color: #3B4455;\n",
       "      fill: #D2E3FC;\n",
       "    }\n",
       "\n",
       "    [theme=dark] .colab-df-convert:hover {\n",
       "      background-color: #434B5C;\n",
       "      box-shadow: 0px 1px 3px 1px rgba(0, 0, 0, 0.15);\n",
       "      filter: drop-shadow(0px 1px 2px rgba(0, 0, 0, 0.3));\n",
       "      fill: #FFFFFF;\n",
       "    }\n",
       "  </style>\n",
       "\n",
       "      <script>\n",
       "        const buttonEl =\n",
       "          document.querySelector('#df-7810fa75-ce89-4529-8342-0e473a7451a0 button.colab-df-convert');\n",
       "        buttonEl.style.display =\n",
       "          google.colab.kernel.accessAllowed ? 'block' : 'none';\n",
       "\n",
       "        async function convertToInteractive(key) {\n",
       "          const element = document.querySelector('#df-7810fa75-ce89-4529-8342-0e473a7451a0');\n",
       "          const dataTable =\n",
       "            await google.colab.kernel.invokeFunction('convertToInteractive',\n",
       "                                                     [key], {});\n",
       "          if (!dataTable) return;\n",
       "\n",
       "          const docLinkHtml = 'Like what you see? Visit the ' +\n",
       "            '<a target=\"_blank\" href=https://colab.research.google.com/notebooks/data_table.ipynb>data table notebook</a>'\n",
       "            + ' to learn more about interactive tables.';\n",
       "          element.innerHTML = '';\n",
       "          dataTable['output_type'] = 'display_data';\n",
       "          await google.colab.output.renderOutput(dataTable, element);\n",
       "          const docLink = document.createElement('div');\n",
       "          docLink.innerHTML = docLinkHtml;\n",
       "          element.appendChild(docLink);\n",
       "        }\n",
       "      </script>\n",
       "    </div>\n",
       "  </div>\n",
       "  "
      ],
      "text/plain": [
       "                     Predicted Non-fraudulent  Predicted Fraudulent\n",
       "True Non-fraudulent                     30269                     6\n",
       "True Fraudulent                           529                   109"
      ]
     },
     "metadata": {},
     "output_type": "display_data"
    }
   ],
   "source": [
    "# display the number of fraudulent and non-fraudulent transactions\n",
    "display(y_val.value_counts())\n",
    "\n",
    "# confusion matrix\n",
    "con_matrix = pd.DataFrame(\n",
    "    data = confusion_matrix(y_val, y_pred),\n",
    "    index = ['True Non-fraudulent', 'True Fraudulent'],\n",
    "    columns = ['Predicted Non-fraudulent', 'Predicted Fraudulent']\n",
    ")\n",
    "display(con_matrix)"
   ]
  },
  {
   "cell_type": "code",
   "execution_count": 24,
   "metadata": {
    "colab": {
     "base_uri": "https://localhost:8080/",
     "height": 281
    },
    "executionInfo": {
     "elapsed": 63716,
     "status": "ok",
     "timestamp": 1659813995340,
     "user": {
      "displayName": "Tolu O.",
      "userId": "04888393322604891463"
     },
     "user_tz": 240
    },
    "id": "e7MslhKWfROx",
    "outputId": "bb0f2b44-f5ca-4f79-8813-516a0d89856c"
   },
   "outputs": [
    {
     "data": {
      "image/png": "[encoded data removed]",
      "text/plain": [
       "<Figure size 432x288 with 2 Axes>"
      ]
     },
     "metadata": {
      "needs_background": "light"
     },
     "output_type": "display_data"
    }
   ],
   "source": [
    "plot_confusion_matrix(KNN_model, X_val_ss, y_val);"
   ]
  },
  {
   "cell_type": "markdown",
   "metadata": {
    "id": "e61p-kwmMgM4"
   },
   "source": [
    "Here, the model accurately classified 30,269 non-fraudulent transactions out of 30,275 non-fraudulent transactions. The model misclassified 6 non-fraudulent transactions as fraudulent.\n",
    "\n",
    "The model accurately classified 109 fraudulent transactions out of 638 fraudulent transactions, and misclassified 529 fraudulent transactions as non-fraudulent.\n",
    "\n",
    "Based on the classification report, the Decision Tree is a better model than KNN.\n",
    "\n",
    "Next, I will plot the ROC curve for the KNN model."
   ]
  },
  {
   "cell_type": "code",
   "execution_count": 25,
   "metadata": {
    "colab": {
     "base_uri": "https://localhost:8080/",
     "height": 295
    },
    "executionInfo": {
     "elapsed": 62697,
     "status": "ok",
     "timestamp": 1659814058023,
     "user": {
      "displayName": "Tolu O.",
      "userId": "04888393322604891463"
     },
     "user_tz": 240
    },
    "id": "pcrEnpI_0YYa",
    "outputId": "bfa95f0c-7601-4544-9a96-7043e7769009"
   },
   "outputs": [
    {
     "data": {
      "image/png": "[encoded data removed]",
      "text/plain": [
       "<Figure size 432x288 with 1 Axes>"
      ]
     },
     "metadata": {
      "needs_background": "light"
     },
     "output_type": "display_data"
    }
   ],
   "source": [
    "# probabilistic prediction\n",
    "y_val_proba = KNN_model.predict_proba(X_val_ss)[:,1] \n",
    "\n",
    "# ROC arrays\n",
    "fprs, tprs, thresholds = roc_curve(y_val, y_val_proba)\n",
    "\n",
    "# AUC\n",
    "roc_auc = roc_auc_score(y_val, y_val_proba)\n",
    "\n",
    "# plot\n",
    "plt.figure()\n",
    "sns.lineplot(fprs, tprs, color='red', lw=2, label=f'ROC (AUC = {roc_auc:0.2f})')\n",
    "sns.lineplot([0, 1], [0, 1], color='black', lw=2, label='random guess') # random guess\n",
    "plt.xlabel('FPR')\n",
    "plt.ylabel('Recall or TPR')\n",
    "plt.title('ROC Curve for Credit Card Fraud Prediction for KNN Model')\n",
    "plt.legend(loc='best')\n",
    "plt.show()"
   ]
  },
  {
   "cell_type": "markdown",
   "metadata": {
    "id": "YLXonKaXNdW5"
   },
   "source": [
    "The AUC curve is only 65%. So far, the Decision Tree model is better at detecting fraudulent transactions than KNN."
   ]
  },
  {
   "cell_type": "markdown",
   "metadata": {
    "id": "oZFQlWMzZwjT"
   },
   "source": [
    "## 3. Logistic Regression"
   ]
  },
  {
   "cell_type": "code",
   "execution_count": 26,
   "metadata": {
    "colab": {
     "base_uri": "https://localhost:8080/"
    },
    "executionInfo": {
     "elapsed": 4043,
     "status": "ok",
     "timestamp": 1659814062057,
     "user": {
      "displayName": "Tolu O.",
      "userId": "04888393322604891463"
     },
     "user_tz": 240
    },
    "id": "NNBMTyNTZx65",
    "outputId": "982fc285-ea6f-43bd-9c1e-f8398127eef7"
   },
   "outputs": [
    {
     "name": "stdout",
     "output_type": "stream",
     "text": [
      "Train accuracy: 0.9874805900621118\n",
      "Validation accuracy: 0.9868016692006599\n"
     ]
    }
   ],
   "source": [
    "# import the logistic regression model from sklearn\n",
    "\n",
    "from sklearn.linear_model import LogisticRegression\n",
    "\n",
    "\n",
    "# instantiate the model and fit it on the scaled data\n",
    "LR_model = LogisticRegression(random_state=1).fit(X_train_ss, y_train)\n",
    "\n",
    "# print out the train and validation accuracy scores\n",
    "print(f\"Train accuracy: {LR_model.score(X_train_ss, y_train)}\")\n",
    "print(f\"Validation accuracy: {LR_model.score(X_val_ss, y_val)}\")"
   ]
  },
  {
   "cell_type": "markdown",
   "metadata": {
    "id": "pLxJaVpKN5aV"
   },
   "source": [
    "Again, the train and validation scores are really good, but like KNN it could be misleading.\n",
    "\n",
    "So, I will go ahead and display the classification report for the model to see how well it performs at detecting fraudulent transactions."
   ]
  },
  {
   "cell_type": "code",
   "execution_count": 27,
   "metadata": {
    "colab": {
     "base_uri": "https://localhost:8080/"
    },
    "executionInfo": {
     "elapsed": 46,
     "status": "ok",
     "timestamp": 1659814062057,
     "user": {
      "displayName": "Tolu O.",
      "userId": "04888393322604891463"
     },
     "user_tz": 240
    },
    "id": "fX7eMg0Wb7i4",
    "outputId": "2a827f5f-fd26-4cb0-e7c4-2c99e4ea9ceb"
   },
   "outputs": [
    {
     "name": "stdout",
     "output_type": "stream",
     "text": [
      "              precision    recall  f1-score   support\n",
      "\n",
      "           0       0.99      1.00      0.99     30275\n",
      "           1       0.82      0.46      0.59       638\n",
      "\n",
      "    accuracy                           0.99     30913\n",
      "   macro avg       0.90      0.73      0.79     30913\n",
      "weighted avg       0.99      0.99      0.98     30913\n",
      "\n"
     ]
    }
   ],
   "source": [
    "# get the classification report\n",
    "y_pred = LR_model.predict(X_val_ss)\n",
    "\n",
    "report_initial = classification_report(y_val, y_pred)\n",
    "print(report_initial)"
   ]
  },
  {
   "cell_type": "markdown",
   "metadata": {
    "id": "Gi63tJQKPRcD"
   },
   "source": [
    "So far, this model is better at correctly identifying fraudulent transactions then KNN but still not better than Decision Tree.\n",
    "\n",
    "It was able to correctly identify only 46% of the fraudulent transactions. I will display the confusion matrix to see exactly how many non-fraudulent and fraudulent transactions were classified correctly and incorrectly."
   ]
  },
  {
   "cell_type": "code",
   "execution_count": 28,
   "metadata": {
    "colab": {
     "base_uri": "https://localhost:8080/",
     "height": 166
    },
    "executionInfo": {
     "elapsed": 22,
     "status": "ok",
     "timestamp": 1659814062058,
     "user": {
      "displayName": "Tolu O.",
      "userId": "04888393322604891463"
     },
     "user_tz": 240
    },
    "id": "_cwIvR8LjWbz",
    "outputId": "eb52f86c-c1d4-41b0-a057-af42773369f0"
   },
   "outputs": [
    {
     "data": {
      "text/plain": [
       "0    30275\n",
       "1      638\n",
       "Name: is_fraud, dtype: int64"
      ]
     },
     "metadata": {},
     "output_type": "display_data"
    },
    {
     "data": {
      "text/html": [
       "\n",
       "  <div id=\"df-56c83be0-309f-42c1-8e5b-aaa0e7b34edb\">\n",
       "    <div class=\"colab-df-container\">\n",
       "      <div>\n",
       "<style scoped>\n",
       "    .dataframe tbody tr th:only-of-type {\n",
       "        vertical-align: middle;\n",
       "    }\n",
       "\n",
       "    .dataframe tbody tr th {\n",
       "        vertical-align: top;\n",
       "    }\n",
       "\n",
       "    .dataframe thead th {\n",
       "        text-align: right;\n",
       "    }\n",
       "</style>\n",
       "<table border=\"1\" class=\"dataframe\">\n",
       "  <thead>\n",
       "    <tr style=\"text-align: right;\">\n",
       "      <th></th>\n",
       "      <th>Predicted Non-fraudulent</th>\n",
       "      <th>Predicted Fraudulent</th>\n",
       "    </tr>\n",
       "  </thead>\n",
       "  <tbody>\n",
       "    <tr>\n",
       "      <th>True Non-fraudulent</th>\n",
       "      <td>30211</td>\n",
       "      <td>64</td>\n",
       "    </tr>\n",
       "    <tr>\n",
       "      <th>True Fraudulent</th>\n",
       "      <td>344</td>\n",
       "      <td>294</td>\n",
       "    </tr>\n",
       "  </tbody>\n",
       "</table>\n",
       "</div>\n",
       "      <button class=\"colab-df-convert\" onclick=\"convertToInteractive('df-56c83be0-309f-42c1-8e5b-aaa0e7b34edb')\"\n",
       "              title=\"Convert this dataframe to an interactive table.\"\n",
       "              style=\"display:none;\">\n",
       "        \n",
       "  <svg xmlns=\"http://www.w3.org/2000/svg\" height=\"24px\"viewBox=\"0 0 24 24\"\n",
       "       width=\"24px\">\n",
       "    <path d=\"M0 0h24v24H0V0z\" fill=\"none\"/>\n",
       "    <path d=\"M18.56 5.44l.94 2.06.94-2.06 2.06-.94-2.06-.94-.94-2.06-.94 2.06-2.06.94zm-11 1L8.5 8.5l.94-2.06 2.06-.94-2.06-.94L8.5 2.5l-.94 2.06-2.06.94zm10 10l.94 2.06.94-2.06 2.06-.94-2.06-.94-.94-2.06-.94 2.06-2.06.94z\"/><path d=\"M17.41 7.96l-1.37-1.37c-.4-.4-.92-.59-1.43-.59-.52 0-1.04.2-1.43.59L10.3 9.45l-7.72 7.72c-.78.78-.78 2.05 0 2.83L4 21.41c.39.39.9.59 1.41.59.51 0 1.02-.2 1.41-.59l7.78-7.78 2.81-2.81c.8-.78.8-2.07 0-2.86zM5.41 20L4 18.59l7.72-7.72 1.47 1.35L5.41 20z\"/>\n",
       "  </svg>\n",
       "      </button>\n",
       "      \n",
       "  <style>\n",
       "    .colab-df-container {\n",
       "      display:flex;\n",
       "      flex-wrap:wrap;\n",
       "      gap: 12px;\n",
       "    }\n",
       "\n",
       "    .colab-df-convert {\n",
       "      background-color: #E8F0FE;\n",
       "      border: none;\n",
       "      border-radius: 50%;\n",
       "      cursor: pointer;\n",
       "      display: none;\n",
       "      fill: #1967D2;\n",
       "      height: 32px;\n",
       "      padding: 0 0 0 0;\n",
       "      width: 32px;\n",
       "    }\n",
       "\n",
       "    .colab-df-convert:hover {\n",
       "      background-color: #E2EBFA;\n",
       "      box-shadow: 0px 1px 2px rgba(60, 64, 67, 0.3), 0px 1px 3px 1px rgba(60, 64, 67, 0.15);\n",
       "      fill: #174EA6;\n",
       "    }\n",
       "\n",
       "    [theme=dark] .colab-df-convert {\n",
       "      background-color: #3B4455;\n",
       "      fill: #D2E3FC;\n",
       "    }\n",
       "\n",
       "    [theme=dark] .colab-df-convert:hover {\n",
       "      background-color: #434B5C;\n",
       "      box-shadow: 0px 1px 3px 1px rgba(0, 0, 0, 0.15);\n",
       "      filter: drop-shadow(0px 1px 2px rgba(0, 0, 0, 0.3));\n",
       "      fill: #FFFFFF;\n",
       "    }\n",
       "  </style>\n",
       "\n",
       "      <script>\n",
       "        const buttonEl =\n",
       "          document.querySelector('#df-56c83be0-309f-42c1-8e5b-aaa0e7b34edb button.colab-df-convert');\n",
       "        buttonEl.style.display =\n",
       "          google.colab.kernel.accessAllowed ? 'block' : 'none';\n",
       "\n",
       "        async function convertToInteractive(key) {\n",
       "          const element = document.querySelector('#df-56c83be0-309f-42c1-8e5b-aaa0e7b34edb');\n",
       "          const dataTable =\n",
       "            await google.colab.kernel.invokeFunction('convertToInteractive',\n",
       "                                                     [key], {});\n",
       "          if (!dataTable) return;\n",
       "\n",
       "          const docLinkHtml = 'Like what you see? Visit the ' +\n",
       "            '<a target=\"_blank\" href=https://colab.research.google.com/notebooks/data_table.ipynb>data table notebook</a>'\n",
       "            + ' to learn more about interactive tables.';\n",
       "          element.innerHTML = '';\n",
       "          dataTable['output_type'] = 'display_data';\n",
       "          await google.colab.output.renderOutput(dataTable, element);\n",
       "          const docLink = document.createElement('div');\n",
       "          docLink.innerHTML = docLinkHtml;\n",
       "          element.appendChild(docLink);\n",
       "        }\n",
       "      </script>\n",
       "    </div>\n",
       "  </div>\n",
       "  "
      ],
      "text/plain": [
       "                     Predicted Non-fraudulent  Predicted Fraudulent\n",
       "True Non-fraudulent                     30211                    64\n",
       "True Fraudulent                           344                   294"
      ]
     },
     "metadata": {},
     "output_type": "display_data"
    }
   ],
   "source": [
    "display(y_val.value_counts())\n",
    "\n",
    "# confusion matrix\n",
    "con_matrix = pd.DataFrame(\n",
    "    data = confusion_matrix(y_val, y_pred),\n",
    "    index = ['True Non-fraudulent', 'True Fraudulent'],\n",
    "    columns = ['Predicted Non-fraudulent', 'Predicted Fraudulent']\n",
    ")\n",
    "display(con_matrix)"
   ]
  },
  {
   "cell_type": "code",
   "execution_count": 29,
   "metadata": {
    "colab": {
     "base_uri": "https://localhost:8080/",
     "height": 282
    },
    "executionInfo": {
     "elapsed": 189,
     "status": "ok",
     "timestamp": 1659814062355,
     "user": {
      "displayName": "Tolu O.",
      "userId": "04888393322604891463"
     },
     "user_tz": 240
    },
    "id": "U8jJDkIFjWVl",
    "outputId": "ae86533e-7d03-4cb0-da30-f9b5e00e09c2"
   },
   "outputs": [
    {
     "data": {
      "image/png": "[encoded data removed]",
      "text/plain": [
       "<Figure size 432x288 with 2 Axes>"
      ]
     },
     "metadata": {
      "needs_background": "light"
     },
     "output_type": "display_data"
    }
   ],
   "source": [
    "plot_confusion_matrix(LR_model, X_val_ss, y_val);"
   ]
  },
  {
   "cell_type": "markdown",
   "metadata": {
    "id": "is0W6iW4Px8A"
   },
   "source": [
    "The model was able to accurately detect 294 fraudulent transactions out of 638. But it misclassified 344 fraudulent transactions as non-fraudulent.\n",
    "\n",
    "The model was able to accurately detect 30,211 non-fraudulent transactions as non-fraudulent out of 30,275. But, it misclassified 64 non-fraudulent transactions as fraudulent.\n",
    "\n",
    "Next, I will plot the ROC curve for the Logistic Regression model."
   ]
  },
  {
   "cell_type": "code",
   "execution_count": 30,
   "metadata": {
    "colab": {
     "base_uri": "https://localhost:8080/",
     "height": 295
    },
    "executionInfo": {
     "elapsed": 7077,
     "status": "ok",
     "timestamp": 1659814069430,
     "user": {
      "displayName": "Tolu O.",
      "userId": "04888393322604891463"
     },
     "user_tz": 240
    },
    "id": "4pIagpw80iMx",
    "outputId": "bc6fdb35-ead9-4a27-fb27-ac3e215f6aea"
   },
   "outputs": [
    {
     "data": {
      "image/png": "[encoded data removed]",
      "text/plain": [
       "<Figure size 432x288 with 1 Axes>"
      ]
     },
     "metadata": {
      "needs_background": "light"
     },
     "output_type": "display_data"
    }
   ],
   "source": [
    "# probabilistic prediction\n",
    "y_val_proba = LR_model.predict_proba(X_val_ss)[:,1] # probabilities of data points being in the positive class\n",
    "\n",
    "# ROC arrays\n",
    "fprs, tprs, thresholds = roc_curve(y_val, y_val_proba)\n",
    "\n",
    "# AUC\n",
    "roc_auc = roc_auc_score(y_val, y_val_proba)\n",
    "\n",
    "# plot\n",
    "plt.figure()\n",
    "sns.lineplot(fprs, tprs, color='red', lw=2, label=f'ROC (AUC = {roc_auc:0.2f})')\n",
    "sns.lineplot([0, 1], [0, 1], color='black', lw=2, label='random guess') # random guess\n",
    "plt.xlabel('FPR')\n",
    "plt.ylabel('Recall or TPR')\n",
    "plt.title('ROC Curve for Credit Card Fraud Prediction for Logistic Model')\n",
    "plt.legend(loc='best')\n",
    "plt.show()"
   ]
  },
  {
   "cell_type": "markdown",
   "metadata": {
    "id": "fKTH42ETQuEO"
   },
   "source": [
    "The AUC curve is pretty good, at 90% which is deceptive as the model was only able to correctly detect 46% of the fraudulent transactions. \n",
    "\n",
    "So far, Decision Tree has been the best performing model so far. Next, I will be using ensemble models to see if I can get an even better model to detect fraudulent transactions."
   ]
  },
  {
   "cell_type": "markdown",
   "metadata": {
    "id": "YCynHjI0_GwV"
   },
   "source": [
    "# Ensemble Models\n",
    "\n",
    "For the ensemble models, I will be using Random Forest and XGBoost. "
   ]
  },
  {
   "cell_type": "markdown",
   "metadata": {
    "id": "_d6R4lHDb-st"
   },
   "source": [
    "## Random Forest"
   ]
  },
  {
   "cell_type": "code",
   "execution_count": 31,
   "metadata": {
    "colab": {
     "base_uri": "https://localhost:8080/"
    },
    "executionInfo": {
     "elapsed": 38329,
     "status": "ok",
     "timestamp": 1659814107755,
     "user": {
      "displayName": "Tolu O.",
      "userId": "04888393322604891463"
     },
     "user_tz": 240
    },
    "id": "uA8zy2uhcAND",
    "outputId": "68ae9ae9-9222-4305-b3bf-f2f70789abe0"
   },
   "outputs": [
    {
     "name": "stdout",
     "output_type": "stream",
     "text": [
      "Number of Trees in the Forest: 100\n",
      "Train accuracy: 1.0\n",
      "Validation accuracy: 0.9964416265001779\n"
     ]
    }
   ],
   "source": [
    "# import the classifier\n",
    "\n",
    "from sklearn.ensemble import RandomForestClassifier\n",
    "\n",
    "# instantiate the model and fit the model to the scaled data\n",
    "RF_model = RandomForestClassifier(random_state=1).fit(X_train_ss, y_train)\n",
    "\n",
    "\n",
    "# print the train and validation scores\n",
    "print(f\"Number of Trees in the Forest: {RF_model.n_estimators}\")\n",
    "print(f\"Train accuracy: {RF_model.score(X_train_ss, y_train)}\")\n",
    "print(f\"Validation accuracy: {RF_model.score(X_val_ss, y_val)}\")"
   ]
  },
  {
   "cell_type": "markdown",
   "metadata": {
    "id": "FA6gQZhsWiqw"
   },
   "source": [
    "The train and validation accuracy are really good. Next, I will look at the classification report to see what the recall, F1 score and precision score look like."
   ]
  },
  {
   "cell_type": "code",
   "execution_count": 32,
   "metadata": {
    "colab": {
     "base_uri": "https://localhost:8080/"
    },
    "executionInfo": {
     "elapsed": 1150,
     "status": "ok",
     "timestamp": 1659814108875,
     "user": {
      "displayName": "Tolu O.",
      "userId": "04888393322604891463"
     },
     "user_tz": 240
    },
    "id": "Qx4cS9xKp5U3",
    "outputId": "1c098172-6ad9-477a-f8c1-bad8023599be"
   },
   "outputs": [
    {
     "name": "stdout",
     "output_type": "stream",
     "text": [
      "              precision    recall  f1-score   support\n",
      "\n",
      "           0       1.00      1.00      1.00     30275\n",
      "           1       0.99      0.83      0.91       638\n",
      "\n",
      "    accuracy                           1.00     30913\n",
      "   macro avg       0.99      0.92      0.95     30913\n",
      "weighted avg       1.00      1.00      1.00     30913\n",
      "\n"
     ]
    }
   ],
   "source": [
    "y_pred = RF_model.predict(X_val_ss)\n",
    "\n",
    "report_initial = classification_report(y_val, y_pred)\n",
    "print(report_initial)"
   ]
  },
  {
   "cell_type": "markdown",
   "metadata": {
    "id": "zeJkYPADXDBH"
   },
   "source": [
    "This model is the best so far! With an 83% recall, 99% precision and 91% f1-score. The model was able to detect 83% of the fraudulent transactions. \n",
    "\n",
    "I will look at the classification report to see how many non-fraudulent and fraudulent transactions were classified correctly and incorrectly."
   ]
  },
  {
   "cell_type": "code",
   "execution_count": 33,
   "metadata": {
    "colab": {
     "base_uri": "https://localhost:8080/",
     "height": 166
    },
    "executionInfo": {
     "elapsed": 15,
     "status": "ok",
     "timestamp": 1659814108876,
     "user": {
      "displayName": "Tolu O.",
      "userId": "04888393322604891463"
     },
     "user_tz": 240
    },
    "id": "2l2-SXOCqVh-",
    "outputId": "26c19c93-f672-42eb-d264-3855f6aaa0c9"
   },
   "outputs": [
    {
     "data": {
      "text/plain": [
       "0    30275\n",
       "1      638\n",
       "Name: is_fraud, dtype: int64"
      ]
     },
     "metadata": {},
     "output_type": "display_data"
    },
    {
     "data": {
      "text/html": [
       "\n",
       "  <div id=\"df-e207f982-850b-4a90-a28c-c8c55bee2047\">\n",
       "    <div class=\"colab-df-container\">\n",
       "      <div>\n",
       "<style scoped>\n",
       "    .dataframe tbody tr th:only-of-type {\n",
       "        vertical-align: middle;\n",
       "    }\n",
       "\n",
       "    .dataframe tbody tr th {\n",
       "        vertical-align: top;\n",
       "    }\n",
       "\n",
       "    .dataframe thead th {\n",
       "        text-align: right;\n",
       "    }\n",
       "</style>\n",
       "<table border=\"1\" class=\"dataframe\">\n",
       "  <thead>\n",
       "    <tr style=\"text-align: right;\">\n",
       "      <th></th>\n",
       "      <th>Predicted Non-fraudulent</th>\n",
       "      <th>Predicted Fraudulent</th>\n",
       "    </tr>\n",
       "  </thead>\n",
       "  <tbody>\n",
       "    <tr>\n",
       "      <th>True Non-fraudulent</th>\n",
       "      <td>30271</td>\n",
       "      <td>4</td>\n",
       "    </tr>\n",
       "    <tr>\n",
       "      <th>True Fraudulent</th>\n",
       "      <td>106</td>\n",
       "      <td>532</td>\n",
       "    </tr>\n",
       "  </tbody>\n",
       "</table>\n",
       "</div>\n",
       "      <button class=\"colab-df-convert\" onclick=\"convertToInteractive('df-e207f982-850b-4a90-a28c-c8c55bee2047')\"\n",
       "              title=\"Convert this dataframe to an interactive table.\"\n",
       "              style=\"display:none;\">\n",
       "        \n",
       "  <svg xmlns=\"http://www.w3.org/2000/svg\" height=\"24px\"viewBox=\"0 0 24 24\"\n",
       "       width=\"24px\">\n",
       "    <path d=\"M0 0h24v24H0V0z\" fill=\"none\"/>\n",
       "    <path d=\"M18.56 5.44l.94 2.06.94-2.06 2.06-.94-2.06-.94-.94-2.06-.94 2.06-2.06.94zm-11 1L8.5 8.5l.94-2.06 2.06-.94-2.06-.94L8.5 2.5l-.94 2.06-2.06.94zm10 10l.94 2.06.94-2.06 2.06-.94-2.06-.94-.94-2.06-.94 2.06-2.06.94z\"/><path d=\"M17.41 7.96l-1.37-1.37c-.4-.4-.92-.59-1.43-.59-.52 0-1.04.2-1.43.59L10.3 9.45l-7.72 7.72c-.78.78-.78 2.05 0 2.83L4 21.41c.39.39.9.59 1.41.59.51 0 1.02-.2 1.41-.59l7.78-7.78 2.81-2.81c.8-.78.8-2.07 0-2.86zM5.41 20L4 18.59l7.72-7.72 1.47 1.35L5.41 20z\"/>\n",
       "  </svg>\n",
       "      </button>\n",
       "      \n",
       "  <style>\n",
       "    .colab-df-container {\n",
       "      display:flex;\n",
       "      flex-wrap:wrap;\n",
       "      gap: 12px;\n",
       "    }\n",
       "\n",
       "    .colab-df-convert {\n",
       "      background-color: #E8F0FE;\n",
       "      border: none;\n",
       "      border-radius: 50%;\n",
       "      cursor: pointer;\n",
       "      display: none;\n",
       "      fill: #1967D2;\n",
       "      height: 32px;\n",
       "      padding: 0 0 0 0;\n",
       "      width: 32px;\n",
       "    }\n",
       "\n",
       "    .colab-df-convert:hover {\n",
       "      background-color: #E2EBFA;\n",
       "      box-shadow: 0px 1px 2px rgba(60, 64, 67, 0.3), 0px 1px 3px 1px rgba(60, 64, 67, 0.15);\n",
       "      fill: #174EA6;\n",
       "    }\n",
       "\n",
       "    [theme=dark] .colab-df-convert {\n",
       "      background-color: #3B4455;\n",
       "      fill: #D2E3FC;\n",
       "    }\n",
       "\n",
       "    [theme=dark] .colab-df-convert:hover {\n",
       "      background-color: #434B5C;\n",
       "      box-shadow: 0px 1px 3px 1px rgba(0, 0, 0, 0.15);\n",
       "      filter: drop-shadow(0px 1px 2px rgba(0, 0, 0, 0.3));\n",
       "      fill: #FFFFFF;\n",
       "    }\n",
       "  </style>\n",
       "\n",
       "      <script>\n",
       "        const buttonEl =\n",
       "          document.querySelector('#df-e207f982-850b-4a90-a28c-c8c55bee2047 button.colab-df-convert');\n",
       "        buttonEl.style.display =\n",
       "          google.colab.kernel.accessAllowed ? 'block' : 'none';\n",
       "\n",
       "        async function convertToInteractive(key) {\n",
       "          const element = document.querySelector('#df-e207f982-850b-4a90-a28c-c8c55bee2047');\n",
       "          const dataTable =\n",
       "            await google.colab.kernel.invokeFunction('convertToInteractive',\n",
       "                                                     [key], {});\n",
       "          if (!dataTable) return;\n",
       "\n",
       "          const docLinkHtml = 'Like what you see? Visit the ' +\n",
       "            '<a target=\"_blank\" href=https://colab.research.google.com/notebooks/data_table.ipynb>data table notebook</a>'\n",
       "            + ' to learn more about interactive tables.';\n",
       "          element.innerHTML = '';\n",
       "          dataTable['output_type'] = 'display_data';\n",
       "          await google.colab.output.renderOutput(dataTable, element);\n",
       "          const docLink = document.createElement('div');\n",
       "          docLink.innerHTML = docLinkHtml;\n",
       "          element.appendChild(docLink);\n",
       "        }\n",
       "      </script>\n",
       "    </div>\n",
       "  </div>\n",
       "  "
      ],
      "text/plain": [
       "                     Predicted Non-fraudulent  Predicted Fraudulent\n",
       "True Non-fraudulent                     30271                     4\n",
       "True Fraudulent                           106                   532"
      ]
     },
     "metadata": {},
     "output_type": "display_data"
    }
   ],
   "source": [
    "display(y_val.value_counts())\n",
    "\n",
    "# confusion matrix\n",
    "con_matrix = pd.DataFrame(\n",
    "    data = confusion_matrix(y_val, y_pred),\n",
    "    index = ['True Non-fraudulent', 'True Fraudulent'],\n",
    "    columns = ['Predicted Non-fraudulent', 'Predicted Fraudulent']\n",
    ")\n",
    "display(con_matrix)"
   ]
  },
  {
   "cell_type": "code",
   "execution_count": 34,
   "metadata": {
    "colab": {
     "base_uri": "https://localhost:8080/",
     "height": 281
    },
    "executionInfo": {
     "elapsed": 1236,
     "status": "ok",
     "timestamp": 1659814110106,
     "user": {
      "displayName": "Tolu O.",
      "userId": "04888393322604891463"
     },
     "user_tz": 240
    },
    "id": "MOgO6U2IqkMi",
    "outputId": "7ccc15ff-9b6b-4407-ab83-ac64da76b19b"
   },
   "outputs": [
    {
     "data": {
      "image/png": "[encoded data removed]",
      "text/plain": [
       "<Figure size 432x288 with 2 Axes>"
      ]
     },
     "metadata": {
      "needs_background": "light"
     },
     "output_type": "display_data"
    }
   ],
   "source": [
    "plot_confusion_matrix(RF_model, X_val_ss, y_val);"
   ]
  },
  {
   "cell_type": "markdown",
   "metadata": {
    "id": "VZ2tAY0EXk1u"
   },
   "source": [
    "The model was able to classify 532 fraudulent transactions out of 638. But, it misclassified 4 non-fraudulent transactions as fraudulent.\n",
    "\n",
    "The model was able to classify 30,271 non-fraudulent transactions as non-fraudulent, but misclassified 106 fraudulent transactions as non-fraudulent. Based on this information, Decision Tree still performs better than this model.\n",
    "\n",
    "Next, I will plot the ROC curve."
   ]
  },
  {
   "cell_type": "code",
   "execution_count": 35,
   "metadata": {
    "colab": {
     "base_uri": "https://localhost:8080/",
     "height": 295
    },
    "executionInfo": {
     "elapsed": 1566,
     "status": "ok",
     "timestamp": 1659814111671,
     "user": {
      "displayName": "Tolu O.",
      "userId": "04888393322604891463"
     },
     "user_tz": 240
    },
    "id": "rF6_fvE80spA",
    "outputId": "c3d7521d-70e7-4407-a647-8b364b6e52f2"
   },
   "outputs": [
    {
     "data": {
      "image/png": "[encoded data removed]",
      "text/plain": [
       "<Figure size 432x288 with 1 Axes>"
      ]
     },
     "metadata": {
      "needs_background": "light"
     },
     "output_type": "display_data"
    }
   ],
   "source": [
    "# probabilistic prediction\n",
    "y_val_proba = RF_model.predict_proba(X_val_ss)[:,1] # probabilities of data points being in the positive class\n",
    "\n",
    "# ROC arrays\n",
    "fprs, tprs, thresholds = roc_curve(y_val, y_val_proba)\n",
    "\n",
    "# AUC\n",
    "roc_auc = roc_auc_score(y_val, y_val_proba)\n",
    "\n",
    "# plot\n",
    "plt.figure()\n",
    "sns.lineplot(fprs, tprs, color='red', lw=2, label=f'ROC (AUC = {roc_auc:0.2f})')\n",
    "sns.lineplot([0, 1], [0, 1], color='black', lw=2, label='random guess') # random guess\n",
    "plt.xlabel('FPR')\n",
    "plt.ylabel('Recall or TPR')\n",
    "plt.title('ROC Curve for Credit Card Fraud Prediction for Random Forest Model')\n",
    "plt.legend(loc='best')\n",
    "plt.show()"
   ]
  },
  {
   "cell_type": "markdown",
   "metadata": {
    "id": "3vHqsA7VZuar"
   },
   "source": [
    "This is interesting, the AUC score for this model is 1.00, so 100%. But the Decision Tree model did better than this model according to the evaluation metric set to determine the better model, and it only had a 97% AUC score."
   ]
  },
  {
   "cell_type": "markdown",
   "metadata": {
    "id": "Q2OEEXt35Gkv"
   },
   "source": [
    "## XGBoost"
   ]
  },
  {
   "cell_type": "code",
   "execution_count": 36,
   "metadata": {
    "colab": {
     "base_uri": "https://localhost:8080/"
    },
    "executionInfo": {
     "elapsed": 111885,
     "status": "ok",
     "timestamp": 1659814223554,
     "user": {
      "displayName": "Tolu O.",
      "userId": "04888393322604891463"
     },
     "user_tz": 240
    },
    "id": "TVPsJd0Gqq2P",
    "outputId": "0d1a15cb-9138-483e-cefb-1c34d2d27f70"
   },
   "outputs": [
    {
     "name": "stdout",
     "output_type": "stream",
     "text": [
      "Train accuracy: 0.9987660825199645\n",
      "Validation accuracy: 0.9984796040500761\n"
     ]
    }
   ],
   "source": [
    "# import the classifier\n",
    "\n",
    "from xgboost import XGBClassifier\n",
    "\n",
    "# instantiate and fit the model\n",
    "XGB_model = XGBClassifier().fit(X_train, y_train)\n",
    "\n",
    "# print the scores\n",
    "print(f\"Train accuracy: {XGB_model.score(X_train, y_train)}\")\n",
    "print(f\"Validation accuracy: {XGB_model.score(X_val, y_val)}\")"
   ]
  },
  {
   "cell_type": "code",
   "execution_count": 37,
   "metadata": {
    "colab": {
     "base_uri": "https://localhost:8080/"
    },
    "executionInfo": {
     "elapsed": 414,
     "status": "ok",
     "timestamp": 1659814223940,
     "user": {
      "displayName": "Tolu O.",
      "userId": "04888393322604891463"
     },
     "user_tz": 240
    },
    "id": "dE0LxhsV84sI",
    "outputId": "274771f8-f1a2-4dc5-ca6e-b68890172a96"
   },
   "outputs": [
    {
     "name": "stdout",
     "output_type": "stream",
     "text": [
      "              precision    recall  f1-score   support\n",
      "\n",
      "           0       1.00      1.00      1.00     30275\n",
      "           1       0.97      0.95      0.96       638\n",
      "\n",
      "    accuracy                           1.00     30913\n",
      "   macro avg       0.99      0.98      0.98     30913\n",
      "weighted avg       1.00      1.00      1.00     30913\n",
      "\n"
     ]
    }
   ],
   "source": [
    "# display the classification report\n",
    "y_pred = XGB_model.predict(X_val)\n",
    "\n",
    "report_initial = classification_report(y_val, y_pred)\n",
    "print(report_initial)"
   ]
  },
  {
   "cell_type": "markdown",
   "metadata": {
    "id": "bPVcvHLgf-BG"
   },
   "source": [
    "This is the best performing model yet (better than Decision Tree) with 95% recall, 96% f1-score, and 97% precision. Let's take a look at the confusion matrix to see how many transactions were classified correctly and incorrectly."
   ]
  },
  {
   "cell_type": "code",
   "execution_count": 38,
   "metadata": {
    "colab": {
     "base_uri": "https://localhost:8080/",
     "height": 166
    },
    "executionInfo": {
     "elapsed": 5,
     "status": "ok",
     "timestamp": 1659814223941,
     "user": {
      "displayName": "Tolu O.",
      "userId": "04888393322604891463"
     },
     "user_tz": 240
    },
    "id": "d3oCNp909Ebs",
    "outputId": "3cdc16a3-dd6d-45dc-af41-756dd1be9136"
   },
   "outputs": [
    {
     "data": {
      "text/plain": [
       "0    30275\n",
       "1      638\n",
       "Name: is_fraud, dtype: int64"
      ]
     },
     "metadata": {},
     "output_type": "display_data"
    },
    {
     "data": {
      "text/html": [
       "\n",
       "  <div id=\"df-5f72c0df-0cca-4c14-a0e6-3c078a1cfe16\">\n",
       "    <div class=\"colab-df-container\">\n",
       "      <div>\n",
       "<style scoped>\n",
       "    .dataframe tbody tr th:only-of-type {\n",
       "        vertical-align: middle;\n",
       "    }\n",
       "\n",
       "    .dataframe tbody tr th {\n",
       "        vertical-align: top;\n",
       "    }\n",
       "\n",
       "    .dataframe thead th {\n",
       "        text-align: right;\n",
       "    }\n",
       "</style>\n",
       "<table border=\"1\" class=\"dataframe\">\n",
       "  <thead>\n",
       "    <tr style=\"text-align: right;\">\n",
       "      <th></th>\n",
       "      <th>Predicted Non-fraudulent</th>\n",
       "      <th>Predicted Fraudulent</th>\n",
       "    </tr>\n",
       "  </thead>\n",
       "  <tbody>\n",
       "    <tr>\n",
       "      <th>True Non-fraudulent</th>\n",
       "      <td>30259</td>\n",
       "      <td>16</td>\n",
       "    </tr>\n",
       "    <tr>\n",
       "      <th>True Fraudulent</th>\n",
       "      <td>31</td>\n",
       "      <td>607</td>\n",
       "    </tr>\n",
       "  </tbody>\n",
       "</table>\n",
       "</div>\n",
       "      <button class=\"colab-df-convert\" onclick=\"convertToInteractive('df-5f72c0df-0cca-4c14-a0e6-3c078a1cfe16')\"\n",
       "              title=\"Convert this dataframe to an interactive table.\"\n",
       "              style=\"display:none;\">\n",
       "        \n",
       "  <svg xmlns=\"http://www.w3.org/2000/svg\" height=\"24px\"viewBox=\"0 0 24 24\"\n",
       "       width=\"24px\">\n",
       "    <path d=\"M0 0h24v24H0V0z\" fill=\"none\"/>\n",
       "    <path d=\"M18.56 5.44l.94 2.06.94-2.06 2.06-.94-2.06-.94-.94-2.06-.94 2.06-2.06.94zm-11 1L8.5 8.5l.94-2.06 2.06-.94-2.06-.94L8.5 2.5l-.94 2.06-2.06.94zm10 10l.94 2.06.94-2.06 2.06-.94-2.06-.94-.94-2.06-.94 2.06-2.06.94z\"/><path d=\"M17.41 7.96l-1.37-1.37c-.4-.4-.92-.59-1.43-.59-.52 0-1.04.2-1.43.59L10.3 9.45l-7.72 7.72c-.78.78-.78 2.05 0 2.83L4 21.41c.39.39.9.59 1.41.59.51 0 1.02-.2 1.41-.59l7.78-7.78 2.81-2.81c.8-.78.8-2.07 0-2.86zM5.41 20L4 18.59l7.72-7.72 1.47 1.35L5.41 20z\"/>\n",
       "  </svg>\n",
       "      </button>\n",
       "      \n",
       "  <style>\n",
       "    .colab-df-container {\n",
       "      display:flex;\n",
       "      flex-wrap:wrap;\n",
       "      gap: 12px;\n",
       "    }\n",
       "\n",
       "    .colab-df-convert {\n",
       "      background-color: #E8F0FE;\n",
       "      border: none;\n",
       "      border-radius: 50%;\n",
       "      cursor: pointer;\n",
       "      display: none;\n",
       "      fill: #1967D2;\n",
       "      height: 32px;\n",
       "      padding: 0 0 0 0;\n",
       "      width: 32px;\n",
       "    }\n",
       "\n",
       "    .colab-df-convert:hover {\n",
       "      background-color: #E2EBFA;\n",
       "      box-shadow: 0px 1px 2px rgba(60, 64, 67, 0.3), 0px 1px 3px 1px rgba(60, 64, 67, 0.15);\n",
       "      fill: #174EA6;\n",
       "    }\n",
       "\n",
       "    [theme=dark] .colab-df-convert {\n",
       "      background-color: #3B4455;\n",
       "      fill: #D2E3FC;\n",
       "    }\n",
       "\n",
       "    [theme=dark] .colab-df-convert:hover {\n",
       "      background-color: #434B5C;\n",
       "      box-shadow: 0px 1px 3px 1px rgba(0, 0, 0, 0.15);\n",
       "      filter: drop-shadow(0px 1px 2px rgba(0, 0, 0, 0.3));\n",
       "      fill: #FFFFFF;\n",
       "    }\n",
       "  </style>\n",
       "\n",
       "      <script>\n",
       "        const buttonEl =\n",
       "          document.querySelector('#df-5f72c0df-0cca-4c14-a0e6-3c078a1cfe16 button.colab-df-convert');\n",
       "        buttonEl.style.display =\n",
       "          google.colab.kernel.accessAllowed ? 'block' : 'none';\n",
       "\n",
       "        async function convertToInteractive(key) {\n",
       "          const element = document.querySelector('#df-5f72c0df-0cca-4c14-a0e6-3c078a1cfe16');\n",
       "          const dataTable =\n",
       "            await google.colab.kernel.invokeFunction('convertToInteractive',\n",
       "                                                     [key], {});\n",
       "          if (!dataTable) return;\n",
       "\n",
       "          const docLinkHtml = 'Like what you see? Visit the ' +\n",
       "            '<a target=\"_blank\" href=https://colab.research.google.com/notebooks/data_table.ipynb>data table notebook</a>'\n",
       "            + ' to learn more about interactive tables.';\n",
       "          element.innerHTML = '';\n",
       "          dataTable['output_type'] = 'display_data';\n",
       "          await google.colab.output.renderOutput(dataTable, element);\n",
       "          const docLink = document.createElement('div');\n",
       "          docLink.innerHTML = docLinkHtml;\n",
       "          element.appendChild(docLink);\n",
       "        }\n",
       "      </script>\n",
       "    </div>\n",
       "  </div>\n",
       "  "
      ],
      "text/plain": [
       "                     Predicted Non-fraudulent  Predicted Fraudulent\n",
       "True Non-fraudulent                     30259                    16\n",
       "True Fraudulent                            31                   607"
      ]
     },
     "metadata": {},
     "output_type": "display_data"
    }
   ],
   "source": [
    "display(y_val.value_counts())\n",
    "\n",
    "# confusion matrix\n",
    "con_matrix = pd.DataFrame(\n",
    "    data = confusion_matrix(y_val, y_pred),\n",
    "    index = ['True Non-fraudulent', 'True Fraudulent'],\n",
    "    columns = ['Predicted Non-fraudulent', 'Predicted Fraudulent']\n",
    ")\n",
    "display(con_matrix)"
   ]
  },
  {
   "cell_type": "code",
   "execution_count": 39,
   "metadata": {
    "colab": {
     "base_uri": "https://localhost:8080/",
     "height": 281
    },
    "executionInfo": {
     "elapsed": 676,
     "status": "ok",
     "timestamp": 1659814224613,
     "user": {
      "displayName": "Tolu O.",
      "userId": "04888393322604891463"
     },
     "user_tz": 240
    },
    "id": "L3EG9IJN9Iki",
    "outputId": "617b2ae7-fba0-4cbf-f088-6fd08d70a43e"
   },
   "outputs": [
    {
     "data": {
      "image/png": "[encoded data removed]",
      "text/plain": [
       "<Figure size 432x288 with 2 Axes>"
      ]
     },
     "metadata": {
      "needs_background": "light"
     },
     "output_type": "display_data"
    }
   ],
   "source": [
    "plot_confusion_matrix(XGB_model, X_val, y_val);"
   ]
  },
  {
   "cell_type": "markdown",
   "metadata": {
    "id": "qMGWUg45gWRw"
   },
   "source": [
    "The model was able to accurately detect 607 fraudulent transactions out of 638, which is great! The model only misclassified 31 fraudulent transactions as non-fraudulent. The model also only misclassified 16 non-fraudulent transactions as fraudulent, and was able to correctly detect 30,259 non-fraudulent as non-fraudulent.\n",
    "\n",
    "Let's take a look at the ROC curve."
   ]
  },
  {
   "cell_type": "code",
   "execution_count": 40,
   "metadata": {
    "colab": {
     "base_uri": "https://localhost:8080/",
     "height": 295
    },
    "executionInfo": {
     "elapsed": 1629,
     "status": "ok",
     "timestamp": 1659814226239,
     "user": {
      "displayName": "Tolu O.",
      "userId": "04888393322604891463"
     },
     "user_tz": 240
    },
    "id": "eOI9NW1z_zY6",
    "outputId": "449890f8-ff40-44eb-82bd-e90d982576ca"
   },
   "outputs": [
    {
     "data": {
      "image/png": "[encoded data removed]",
      "text/plain": [
       "<Figure size 432x288 with 1 Axes>"
      ]
     },
     "metadata": {
      "needs_background": "light"
     },
     "output_type": "display_data"
    }
   ],
   "source": [
    "# probabilistic prediction\n",
    "y_val_proba = XGB_model.predict_proba(X_val)[:,1] # probabilities of data points being in the positive class\n",
    "\n",
    "# ROC arrays\n",
    "fprs, tprs, thresholds = roc_curve(y_val, y_val_proba)\n",
    "\n",
    "# AUC\n",
    "roc_auc = roc_auc_score(y_val, y_val_proba)\n",
    "\n",
    "# plot\n",
    "plt.figure()\n",
    "sns.lineplot(fprs, tprs, color='red', lw=2, label=f'ROC (AUC = {roc_auc:0.2f})')\n",
    "sns.lineplot([0, 1], [0, 1], color='black', lw=2, label='random guess') # random guess\n",
    "plt.xlabel('FPR')\n",
    "plt.ylabel('Recall or TPR')\n",
    "plt.title('ROC Curve for Credit Card Fraud Prediction using XGBoost Model')\n",
    "plt.legend(loc='best')\n",
    "plt.show()"
   ]
  },
  {
   "cell_type": "markdown",
   "metadata": {
    "id": "kl0KBE21hA9_"
   },
   "source": [
    "The ROC curve is really good, with the AUC curve of 100%. Based on the set evaluation metric of priority on detecting as many fraudulent transactions as possible, while having a good f1 score for the harmonic mean of recall and precision, this model, XGBoost performs better than the other models."
   ]
  },
  {
   "cell_type": "markdown",
   "metadata": {
    "id": "tCZ0_ZSr9QvN"
   },
   "source": [
    "# Comparison of Base Models\n",
    "\n",
    "Now that the base models have been completed with default parameters, I created the table below to compare the scores from each model.\n",
    "\n",
    "\n",
    "Model                | Precision | Recall | F1 Score \n",
    "-------------------  |-----------|------- | ---------\n",
    "Decision Tree        | 96%       | 95%    | 95%\n",
    "KNN                  | 95%       | 17%    | 29%\n",
    "Logistic Regression  | 82%       | 46%    | 59%\n",
    "Random Forest        | 99%       | 83%    | 91%\n",
    "XGBOOST              | 97%       | 95%    | 96%\n",
    "\n",
    "So far, the XGBoost model performs better than the other models, having the highest recall and f1-score over the other models. It had the same recall score as Decision Tree, but had an overall better score on all three evaluation metrics."
   ]
  },
  {
   "cell_type": "markdown",
   "metadata": {
    "id": "AlvzBuUEpvWi"
   },
   "source": [
    "# Neural Networks\n",
    "\n",
    "Next thing I wanted to do was try out neural network on the model to see if it would outperform the other models."
   ]
  },
  {
   "cell_type": "code",
   "execution_count": 41,
   "metadata": {
    "executionInfo": {
     "elapsed": 2243,
     "status": "ok",
     "timestamp": 1659814228481,
     "user": {
      "displayName": "Tolu O.",
      "userId": "04888393322604891463"
     },
     "user_tz": 240
    },
    "id": "oWOBIHFNOBeU"
   },
   "outputs": [],
   "source": [
    "# import the required modules\n",
    "\n",
    "import tensorflow as tf\n",
    "from tensorflow import keras\n",
    "from tensorflow.keras import layers"
   ]
  },
  {
   "cell_type": "code",
   "execution_count": 42,
   "metadata": {
    "executionInfo": {
     "elapsed": 291,
     "status": "ok",
     "timestamp": 1659814228768,
     "user": {
      "displayName": "Tolu O.",
      "userId": "04888393322604891463"
     },
     "user_tz": 240
    },
    "id": "SZRcaINevSdy"
   },
   "outputs": [],
   "source": [
    "# Create a new sequential model\n",
    "model = keras.Sequential()\n",
    "\n",
    "#regularizer = keras.regularizers.l2(0.005)\n",
    "\n",
    "# Declare the hidden layers\n",
    "model.add(layers.Dense(200, input_shape=(X_train.shape[1],), activation=\"relu\"))\n",
    "#model.add(layers.Dropout(0.2))\n",
    "model.add(layers.Dense(150, activation=\"relu\"))\n",
    "#model.add(layers.Dropout(0.2))\n",
    "model.add(layers.Dense(100, activation=\"relu\"))\n",
    "model.add(layers.Dense(50, activation=\"relu\"))\n",
    "model.add(layers.Dense(25, activation=\"relu\"))\n",
    "model.add(layers.Dense(5, activation=\"relu\"))\n",
    "\n",
    "# Declare the output layer\n",
    "model.add(layers.Dense(1, activation=\"sigmoid\"))\n",
    "\n",
    "\n",
    "# Compile the model\n",
    "model.compile(\n",
    "    optimizer=keras.optimizers.Adam(),  \n",
    "    loss=keras.losses.BinaryCrossentropy(),\n",
    "    metrics=[keras.metrics.BinaryAccuracy()]\n",
    ")"
   ]
  },
  {
   "cell_type": "code",
   "execution_count": 43,
   "metadata": {
    "executionInfo": {
     "elapsed": 633897,
     "status": "ok",
     "timestamp": 1659814862661,
     "user": {
      "displayName": "Tolu O.",
      "userId": "04888393322604891463"
     },
     "user_tz": 240
    },
    "id": "qvJ2G7GY3P5C"
   },
   "outputs": [],
   "source": [
    "history = model.fit(X_train, y_train,epochs=100, verbose=0)"
   ]
  },
  {
   "cell_type": "code",
   "execution_count": 44,
   "metadata": {
    "colab": {
     "base_uri": "https://localhost:8080/"
    },
    "executionInfo": {
     "elapsed": 2111,
     "status": "ok",
     "timestamp": 1659814864747,
     "user": {
      "displayName": "Tolu O.",
      "userId": "04888393322604891463"
     },
     "user_tz": 240
    },
    "id": "Y7Ytox_VXrRK",
    "outputId": "0fa04a6d-4a74-4c82-9766-fa57063d276d"
   },
   "outputs": [
    {
     "name": "stdout",
     "output_type": "stream",
     "text": [
      "Train Accuracy: 0.9793\n",
      "Test Accuracy: 0.9794\n"
     ]
    }
   ],
   "source": [
    "train_accuracy = history.history[\"binary_accuracy\"][-1]\n",
    "result = model.evaluate(X_val,y_val, verbose=0)\n",
    "\n",
    "print(f\"Train Accuracy: {train_accuracy:.4f}\")\n",
    "print(f\"Test Accuracy: {result[1]:.4f}\")"
   ]
  },
  {
   "cell_type": "code",
   "execution_count": 45,
   "metadata": {
    "colab": {
     "base_uri": "https://localhost:8080/"
    },
    "executionInfo": {
     "elapsed": 1838,
     "status": "ok",
     "timestamp": 1659814866579,
     "user": {
      "displayName": "Tolu O.",
      "userId": "04888393322604891463"
     },
     "user_tz": 240
    },
    "id": "fNY57nVv6sm9",
    "outputId": "0e782784-8eed-4359-ab97-8ff6dc29b223"
   },
   "outputs": [
    {
     "name": "stdout",
     "output_type": "stream",
     "text": [
      "[[30275     0]\n",
      " [  638     0]]\n"
     ]
    }
   ],
   "source": [
    "preds = np.round(model.predict(X_val),0)\n",
    "\n",
    "print(confusion_matrix(y_val, preds))"
   ]
  },
  {
   "cell_type": "code",
   "execution_count": 46,
   "metadata": {
    "colab": {
     "base_uri": "https://localhost:8080/"
    },
    "executionInfo": {
     "elapsed": 14,
     "status": "ok",
     "timestamp": 1659814866580,
     "user": {
      "displayName": "Tolu O.",
      "userId": "04888393322604891463"
     },
     "user_tz": 240
    },
    "id": "lxTdqqLIFiB7",
    "outputId": "64160544-2433-485a-bd33-515dab8ae595"
   },
   "outputs": [
    {
     "name": "stdout",
     "output_type": "stream",
     "text": [
      "              precision    recall  f1-score   support\n",
      "\n",
      "           0       0.98      1.00      0.99     30275\n",
      "           1       0.00      0.00      0.00       638\n",
      "\n",
      "    accuracy                           0.98     30913\n",
      "   macro avg       0.49      0.50      0.49     30913\n",
      "weighted avg       0.96      0.98      0.97     30913\n",
      "\n"
     ]
    }
   ],
   "source": [
    "print(classification_report(y_val, preds))"
   ]
  },
  {
   "cell_type": "markdown",
   "metadata": {
    "id": "9TE6vPjNjG0V"
   },
   "source": [
    "After trying multiple models and regularizations, the neural network was not able to detect any fraudulent transactions. This might mean that the model is just not strong enough to detect the fraudulent transactions due to the class imbalance. So, I will move forward with the other models prior to building the neural network."
   ]
  },
  {
   "cell_type": "markdown",
   "metadata": {
    "id": "WZ3aFvaX46DB"
   },
   "source": [
    "# Comparison of All Models\n",
    "\n",
    "Model                | Precision | Recall | F1 Score \n",
    "-------------------  |-----------|------- | ---------\n",
    "Decision Tree        | 96%       | 95%    | 95%\n",
    "KNN                  | 95%       | 17%    | 29%\n",
    "Logistic Regression  | 82%       | 46%    | 59%\n",
    "Random Forest        | 99%       | 83%    | 91%\n",
    "XGBOOST              | 97%       | 95%    | 96%\n",
    "Neural Network       | 0%        | 0%     | 0%"
   ]
  },
  {
   "cell_type": "markdown",
   "metadata": {
    "id": "ThqBREBYjczX"
   },
   "source": [
    "Since I know that the XGBoost model is the best perfoming model, I will go ahead and try to optimize the model to get better results."
   ]
  },
  {
   "cell_type": "markdown",
   "metadata": {
    "id": "rtwnU08fzJTK"
   },
   "source": [
    "# Optimizing XGBoost for Better Results\n",
    "\n",
    "---\n",
    "\n",
    "My plan on optimizing XGBoost is to first correct the imbalance and see if the model will perform better. This includes downsampling and upsampling.\n",
    "\n",
    "Based on the three XGBoost models (default parameters, correcting imbalance by downsampling and upsampling). I will choose the best performing model and optimize the parameters using GridSearchCV to get the best parameters."
   ]
  },
  {
   "cell_type": "markdown",
   "metadata": {
    "id": "mujIAI7fzmN9"
   },
   "source": [
    "## Downsampling\n",
    "\n",
    "To downsample, I need to use resample from sklearn to get the distribution of class 0 to match the distribution of class 1, simply meaning that both class 0 and class 1 would have the same number of occurrences."
   ]
  },
  {
   "cell_type": "code",
   "execution_count": 47,
   "metadata": {
    "colab": {
     "base_uri": "https://localhost:8080/"
    },
    "executionInfo": {
     "elapsed": 168,
     "status": "ok",
     "timestamp": 1659814866741,
     "user": {
      "displayName": "Tolu O.",
      "userId": "04888393322604891463"
     },
     "user_tz": 240
    },
    "id": "KSqtuE4rzNBg",
    "outputId": "0dba2a57-e9b4-4fe6-bf66-4055a4510134"
   },
   "outputs": [
    {
     "name": "stdout",
     "output_type": "stream",
     "text": [
      "Number of Class 0 Examples Before: 70638\n",
      "Number of Class 0 Examples After: 1490\n"
     ]
    }
   ],
   "source": [
    "# import resampled\n",
    "from sklearn.utils import resample\n",
    "\n",
    "# print out original distribution to compare\n",
    "print(\"Number of Class 0 Examples Before:\", X_train[y_train==0].shape[0])\n",
    "\n",
    "# resample the data to reduce the number of class 0 observations to match\n",
    "# class 1 observations\n",
    "X_downsampled, y_downsampled = resample(X_train[y_train==0],\n",
    "                                        y_train[y_train==0],\n",
    "                                        replace=True,\n",
    "                                        n_samples=X_train[y_train==1].shape[0],\n",
    "                                        random_state=1)\n",
    "\n",
    "# print out new distribution\n",
    "print(\"Number of Class 0 Examples After:\", X_downsampled.shape[0])\n",
    "\n",
    "# combine the downsampled data with the original data\n",
    "X_down = np.vstack((X_train[y_train==1], X_downsampled))\n",
    "y_down = np.hstack((y_train[y_train==1], y_downsampled))"
   ]
  },
  {
   "cell_type": "code",
   "execution_count": 48,
   "metadata": {
    "colab": {
     "base_uri": "https://localhost:8080/",
     "height": 178
    },
    "executionInfo": {
     "elapsed": 157,
     "status": "ok",
     "timestamp": 1659814866894,
     "user": {
      "displayName": "Tolu O.",
      "userId": "04888393322604891463"
     },
     "user_tz": 240
    },
    "id": "3BUmoyFazwbO",
    "outputId": "52743290-65b7-4d45-9e4f-23da5cbda6a3"
   },
   "outputs": [
    {
     "name": "stdout",
     "output_type": "stream",
     "text": [
      "Original class distribution\n"
     ]
    },
    {
     "data": {
      "text/plain": [
       "0    70638\n",
       "1     1490\n",
       "Name: is_fraud, dtype: int64"
      ]
     },
     "metadata": {},
     "output_type": "display_data"
    },
    {
     "name": "stdout",
     "output_type": "stream",
     "text": [
      "\n",
      "Resampled class distribution (Downsampled)\n"
     ]
    },
    {
     "data": {
      "text/plain": [
       "0    1490\n",
       "1    1490\n",
       "dtype: int64"
      ]
     },
     "metadata": {},
     "output_type": "display_data"
    }
   ],
   "source": [
    "# check downsampled data\n",
    "\n",
    "print('Original class distribution')\n",
    "display(pd.Series(y_train).value_counts().sort_index())\n",
    "\n",
    "print('\\nResampled class distribution (Downsampled)')\n",
    "display(pd.Series(y_down).value_counts().sort_index())"
   ]
  },
  {
   "cell_type": "markdown",
   "metadata": {
    "id": "S_TOxliglS07"
   },
   "source": [
    "The resampled class distribution is now equally 1,490 for both class 0 and class 1. Now, I will use this new set to train and score the model (using default parameters, as this gave the best performing model)."
   ]
  },
  {
   "cell_type": "code",
   "execution_count": 49,
   "metadata": {
    "colab": {
     "base_uri": "https://localhost:8080/"
    },
    "executionInfo": {
     "elapsed": 5023,
     "status": "ok",
     "timestamp": 1659814871914,
     "user": {
      "displayName": "Tolu O.",
      "userId": "04888393322604891463"
     },
     "user_tz": 240
    },
    "id": "R5GUArVz1eZJ",
    "outputId": "02edd144-5a9c-47f7-c2f5-f24cec10542b"
   },
   "outputs": [
    {
     "name": "stdout",
     "output_type": "stream",
     "text": [
      "Train Accuracy: 0.998993288590604\n",
      "Validation Accuracy: 0.9930126484003494\n"
     ]
    }
   ],
   "source": [
    "# instantiate and fit the model\n",
    "XGB_model_down = XGBClassifier().fit(X_down, y_down)\n",
    "\n",
    "# print the scores\n",
    "print(f\"Train Accuracy: {XGB_model_down.score(X_down, y_down)}\")\n",
    "print(f\"Validation Accuracy: {XGB_model_down.score(X_val.values, y_val)}\")"
   ]
  },
  {
   "cell_type": "code",
   "execution_count": 50,
   "metadata": {
    "colab": {
     "base_uri": "https://localhost:8080/"
    },
    "executionInfo": {
     "elapsed": 524,
     "status": "ok",
     "timestamp": 1659814872419,
     "user": {
      "displayName": "Tolu O.",
      "userId": "04888393322604891463"
     },
     "user_tz": 240
    },
    "id": "BzacYuz41o8H",
    "outputId": "7b89eb50-55f6-4b1d-b1c0-da6d28d9ad51"
   },
   "outputs": [
    {
     "name": "stdout",
     "output_type": "stream",
     "text": [
      "              precision    recall  f1-score   support\n",
      "\n",
      "           0       1.00      0.99      1.00     30275\n",
      "           1       0.75      0.99      0.85       638\n",
      "\n",
      "    accuracy                           0.99     30913\n",
      "   macro avg       0.87      0.99      0.93     30913\n",
      "weighted avg       0.99      0.99      0.99     30913\n",
      "\n"
     ]
    }
   ],
   "source": [
    "# get the classificaiton report\n",
    "y_pred_down = XGB_model_down.predict(X_val.values)\n",
    "\n",
    "report_downsampled = classification_report(y_val, y_pred_down)\n",
    "print(report_downsampled)"
   ]
  },
  {
   "cell_type": "code",
   "execution_count": 51,
   "metadata": {
    "colab": {
     "base_uri": "https://localhost:8080/"
    },
    "executionInfo": {
     "elapsed": 11,
     "status": "ok",
     "timestamp": 1659814872420,
     "user": {
      "displayName": "Tolu O.",
      "userId": "04888393322604891463"
     },
     "user_tz": 240
    },
    "id": "9F9kRblR1p19",
    "outputId": "0c2a2de3-9b0b-433e-f012-23cd831c18ee"
   },
   "outputs": [
    {
     "name": "stdout",
     "output_type": "stream",
     "text": [
      "Precision Score: 0.7494089834515366\n",
      "Recall Score: 0.9937304075235109\n",
      "F1 Score: 0.8544474393530996\n"
     ]
    }
   ],
   "source": [
    "from sklearn.metrics import precision_score, recall_score, f1_score\n",
    "\n",
    "print(f\"Precision Score: {precision_score(y_val,y_pred_down)}\")\n",
    "print(f\"Recall Score: {recall_score(y_val, y_pred_down)}\")\n",
    "print(f\"F1 Score: {f1_score(y_val, y_pred_down)}\")"
   ]
  },
  {
   "cell_type": "code",
   "execution_count": 52,
   "metadata": {
    "colab": {
     "base_uri": "https://localhost:8080/",
     "height": 166
    },
    "executionInfo": {
     "elapsed": 7,
     "status": "ok",
     "timestamp": 1659814872420,
     "user": {
      "displayName": "Tolu O.",
      "userId": "04888393322604891463"
     },
     "user_tz": 240
    },
    "id": "FXSzmgJa1sSd",
    "outputId": "d8848286-f9a7-4d4c-fe45-8aee1d9f6a74"
   },
   "outputs": [
    {
     "data": {
      "text/plain": [
       "0    30275\n",
       "1      638\n",
       "Name: is_fraud, dtype: int64"
      ]
     },
     "metadata": {},
     "output_type": "display_data"
    },
    {
     "data": {
      "text/html": [
       "\n",
       "  <div id=\"df-5503182e-e528-4035-bc8f-3ee78ec37dfe\">\n",
       "    <div class=\"colab-df-container\">\n",
       "      <div>\n",
       "<style scoped>\n",
       "    .dataframe tbody tr th:only-of-type {\n",
       "        vertical-align: middle;\n",
       "    }\n",
       "\n",
       "    .dataframe tbody tr th {\n",
       "        vertical-align: top;\n",
       "    }\n",
       "\n",
       "    .dataframe thead th {\n",
       "        text-align: right;\n",
       "    }\n",
       "</style>\n",
       "<table border=\"1\" class=\"dataframe\">\n",
       "  <thead>\n",
       "    <tr style=\"text-align: right;\">\n",
       "      <th></th>\n",
       "      <th>Predicted Non-fraudulent</th>\n",
       "      <th>Predicted Fraudulent</th>\n",
       "    </tr>\n",
       "  </thead>\n",
       "  <tbody>\n",
       "    <tr>\n",
       "      <th>True Non-fraudulent</th>\n",
       "      <td>30063</td>\n",
       "      <td>212</td>\n",
       "    </tr>\n",
       "    <tr>\n",
       "      <th>True Fraudulent</th>\n",
       "      <td>4</td>\n",
       "      <td>634</td>\n",
       "    </tr>\n",
       "  </tbody>\n",
       "</table>\n",
       "</div>\n",
       "      <button class=\"colab-df-convert\" onclick=\"convertToInteractive('df-5503182e-e528-4035-bc8f-3ee78ec37dfe')\"\n",
       "              title=\"Convert this dataframe to an interactive table.\"\n",
       "              style=\"display:none;\">\n",
       "        \n",
       "  <svg xmlns=\"http://www.w3.org/2000/svg\" height=\"24px\"viewBox=\"0 0 24 24\"\n",
       "       width=\"24px\">\n",
       "    <path d=\"M0 0h24v24H0V0z\" fill=\"none\"/>\n",
       "    <path d=\"M18.56 5.44l.94 2.06.94-2.06 2.06-.94-2.06-.94-.94-2.06-.94 2.06-2.06.94zm-11 1L8.5 8.5l.94-2.06 2.06-.94-2.06-.94L8.5 2.5l-.94 2.06-2.06.94zm10 10l.94 2.06.94-2.06 2.06-.94-2.06-.94-.94-2.06-.94 2.06-2.06.94z\"/><path d=\"M17.41 7.96l-1.37-1.37c-.4-.4-.92-.59-1.43-.59-.52 0-1.04.2-1.43.59L10.3 9.45l-7.72 7.72c-.78.78-.78 2.05 0 2.83L4 21.41c.39.39.9.59 1.41.59.51 0 1.02-.2 1.41-.59l7.78-7.78 2.81-2.81c.8-.78.8-2.07 0-2.86zM5.41 20L4 18.59l7.72-7.72 1.47 1.35L5.41 20z\"/>\n",
       "  </svg>\n",
       "      </button>\n",
       "      \n",
       "  <style>\n",
       "    .colab-df-container {\n",
       "      display:flex;\n",
       "      flex-wrap:wrap;\n",
       "      gap: 12px;\n",
       "    }\n",
       "\n",
       "    .colab-df-convert {\n",
       "      background-color: #E8F0FE;\n",
       "      border: none;\n",
       "      border-radius: 50%;\n",
       "      cursor: pointer;\n",
       "      display: none;\n",
       "      fill: #1967D2;\n",
       "      height: 32px;\n",
       "      padding: 0 0 0 0;\n",
       "      width: 32px;\n",
       "    }\n",
       "\n",
       "    .colab-df-convert:hover {\n",
       "      background-color: #E2EBFA;\n",
       "      box-shadow: 0px 1px 2px rgba(60, 64, 67, 0.3), 0px 1px 3px 1px rgba(60, 64, 67, 0.15);\n",
       "      fill: #174EA6;\n",
       "    }\n",
       "\n",
       "    [theme=dark] .colab-df-convert {\n",
       "      background-color: #3B4455;\n",
       "      fill: #D2E3FC;\n",
       "    }\n",
       "\n",
       "    [theme=dark] .colab-df-convert:hover {\n",
       "      background-color: #434B5C;\n",
       "      box-shadow: 0px 1px 3px 1px rgba(0, 0, 0, 0.15);\n",
       "      filter: drop-shadow(0px 1px 2px rgba(0, 0, 0, 0.3));\n",
       "      fill: #FFFFFF;\n",
       "    }\n",
       "  </style>\n",
       "\n",
       "      <script>\n",
       "        const buttonEl =\n",
       "          document.querySelector('#df-5503182e-e528-4035-bc8f-3ee78ec37dfe button.colab-df-convert');\n",
       "        buttonEl.style.display =\n",
       "          google.colab.kernel.accessAllowed ? 'block' : 'none';\n",
       "\n",
       "        async function convertToInteractive(key) {\n",
       "          const element = document.querySelector('#df-5503182e-e528-4035-bc8f-3ee78ec37dfe');\n",
       "          const dataTable =\n",
       "            await google.colab.kernel.invokeFunction('convertToInteractive',\n",
       "                                                     [key], {});\n",
       "          if (!dataTable) return;\n",
       "\n",
       "          const docLinkHtml = 'Like what you see? Visit the ' +\n",
       "            '<a target=\"_blank\" href=https://colab.research.google.com/notebooks/data_table.ipynb>data table notebook</a>'\n",
       "            + ' to learn more about interactive tables.';\n",
       "          element.innerHTML = '';\n",
       "          dataTable['output_type'] = 'display_data';\n",
       "          await google.colab.output.renderOutput(dataTable, element);\n",
       "          const docLink = document.createElement('div');\n",
       "          docLink.innerHTML = docLinkHtml;\n",
       "          element.appendChild(docLink);\n",
       "        }\n",
       "      </script>\n",
       "    </div>\n",
       "  </div>\n",
       "  "
      ],
      "text/plain": [
       "                     Predicted Non-fraudulent  Predicted Fraudulent\n",
       "True Non-fraudulent                     30063                   212\n",
       "True Fraudulent                             4                   634"
      ]
     },
     "metadata": {},
     "output_type": "display_data"
    }
   ],
   "source": [
    "display(y_val.value_counts())\n",
    "\n",
    "# confusion matrix\n",
    "con_matrix = pd.DataFrame(\n",
    "    data = confusion_matrix(y_val, y_pred_down),\n",
    "    index = ['True Non-fraudulent', 'True Fraudulent'],\n",
    "    columns = ['Predicted Non-fraudulent', 'Predicted Fraudulent']\n",
    ")\n",
    "display(con_matrix)"
   ]
  },
  {
   "cell_type": "code",
   "execution_count": 53,
   "metadata": {
    "colab": {
     "base_uri": "https://localhost:8080/",
     "height": 283
    },
    "executionInfo": {
     "elapsed": 652,
     "status": "ok",
     "timestamp": 1659814873067,
     "user": {
      "displayName": "Tolu O.",
      "userId": "04888393322604891463"
     },
     "user_tz": 240
    },
    "id": "mFL3l7wm1uwR",
    "outputId": "56074cfe-0c0f-4adb-9dce-8cb479266e2f"
   },
   "outputs": [
    {
     "data": {
      "image/png": "[encoded data removed]",
      "text/plain": [
       "<Figure size 432x288 with 2 Axes>"
      ]
     },
     "metadata": {
      "needs_background": "light"
     },
     "output_type": "display_data"
    }
   ],
   "source": [
    "plot_confusion_matrix(XGB_model_down, X_val.values, y_val);"
   ]
  },
  {
   "cell_type": "code",
   "execution_count": 54,
   "metadata": {
    "colab": {
     "base_uri": "https://localhost:8080/",
     "height": 295
    },
    "executionInfo": {
     "elapsed": 2994,
     "status": "ok",
     "timestamp": 1659814876059,
     "user": {
      "displayName": "Tolu O.",
      "userId": "04888393322604891463"
     },
     "user_tz": 240
    },
    "id": "461YX3nq1xTj",
    "outputId": "d1668674-b23d-4530-adfb-3e53d4753f9f"
   },
   "outputs": [
    {
     "data": {
      "image/png": "[encoded data removed]",
      "text/plain": [
       "<Figure size 432x288 with 1 Axes>"
      ]
     },
     "metadata": {
      "needs_background": "light"
     },
     "output_type": "display_data"
    }
   ],
   "source": [
    "# probabilistic prediction\n",
    "y_val_proba = XGB_model_down.predict_proba(X_val.values)[:,1] # probabilities of data points being in the positive class\n",
    "\n",
    "# ROC arrays\n",
    "fprs, tprs, thresholds = roc_curve(y_val, y_val_proba)\n",
    "\n",
    "# AUC\n",
    "roc_auc = roc_auc_score(y_val, y_val_proba)\n",
    "\n",
    "# plot\n",
    "plt.figure()\n",
    "sns.lineplot(fprs, tprs, color='red', lw=2, label=f'ROC (AUC = {roc_auc:0.2f})')\n",
    "sns.lineplot([0, 1], [0, 1], color='black', lw=2, label='random guess') # random guess\n",
    "plt.xlabel('FPR')\n",
    "plt.ylabel('Recall or TPR')\n",
    "plt.title('ROC Curve for Credit Card Fraud Prediction for XGBoost (Downsampled Data)')\n",
    "plt.legend(loc='best')\n",
    "plt.show()"
   ]
  },
  {
   "cell_type": "markdown",
   "metadata": {
    "id": "iephuNGfltoO"
   },
   "source": [
    "This downsampled model definitely was able to correctly detect 99% of fraudulent transactions, but it misclassified 212 non-fraudulent transactions as fraudulent. So, the precision score is lower than the best performing model from earlier. The f1-score also reduced due to the lower score of precision.\n",
    "\n",
    "I will correct the imbalanced data using upsampling to see if I get better results."
   ]
  },
  {
   "cell_type": "markdown",
   "metadata": {
    "id": "h5pvTwai2PYR"
   },
   "source": [
    "## Upsampling"
   ]
  },
  {
   "cell_type": "code",
   "execution_count": 55,
   "metadata": {
    "colab": {
     "base_uri": "https://localhost:8080/"
    },
    "executionInfo": {
     "elapsed": 964,
     "status": "ok",
     "timestamp": 1659814877019,
     "user": {
      "displayName": "Tolu O.",
      "userId": "04888393322604891463"
     },
     "user_tz": 240
    },
    "id": "c1y9996Y2N-d",
    "outputId": "5a6d3bf7-abc2-4147-edf6-505b65be9794"
   },
   "outputs": [
    {
     "name": "stdout",
     "output_type": "stream",
     "text": [
      "Number of Class 1 Examples Before: 1490\n",
      "Number of Class 1 Examples After: 70638\n"
     ]
    }
   ],
   "source": [
    "# Similar to downsampling, I increased the class 1 distribution\n",
    "# to match the number of observations for class 0\n",
    "\n",
    "\n",
    "# print the original class 1 distribution\n",
    "print('Number of Class 1 Examples Before:', X_train[y_train==1].shape[0])\n",
    "\n",
    "\n",
    "# resample the data to upsample the class 1 distribution\n",
    "X_upsampled, y_upsampled = resample(X_train[y_train==1],\n",
    "                                    y_train[y_train==1],\n",
    "                                    replace=True,\n",
    "                                    n_samples=X_train[y_train==0].shape[0],\n",
    "                                    random_state=1)\n",
    "\n",
    "# print out the new class 1 distribution\n",
    "print('Number of Class 1 Examples After:', X_upsampled.shape[0])\n",
    "\n",
    "# combine the upsampled data with the original data\n",
    "X_up = np.vstack((X_train[y_train==0], X_upsampled))\n",
    "y_up = np.hstack((y_train[y_train==0], y_upsampled))"
   ]
  },
  {
   "cell_type": "code",
   "execution_count": 56,
   "metadata": {
    "colab": {
     "base_uri": "https://localhost:8080/",
     "height": 178
    },
    "executionInfo": {
     "elapsed": 14,
     "status": "ok",
     "timestamp": 1659814877020,
     "user": {
      "displayName": "Tolu O.",
      "userId": "04888393322604891463"
     },
     "user_tz": 240
    },
    "id": "vaRTkE1I2UAZ",
    "outputId": "b668d0f3-aac3-4a5a-d2d2-74f7503565cc"
   },
   "outputs": [
    {
     "name": "stdout",
     "output_type": "stream",
     "text": [
      "Original class distribution\n"
     ]
    },
    {
     "data": {
      "text/plain": [
       "0    70638\n",
       "1     1490\n",
       "Name: is_fraud, dtype: int64"
      ]
     },
     "metadata": {},
     "output_type": "display_data"
    },
    {
     "name": "stdout",
     "output_type": "stream",
     "text": [
      "\n",
      "Resampled class distribution (Upsampled)\n"
     ]
    },
    {
     "data": {
      "text/plain": [
       "0    70638\n",
       "1    70638\n",
       "dtype: int64"
      ]
     },
     "metadata": {},
     "output_type": "display_data"
    }
   ],
   "source": [
    "# check upsampled data\n",
    "\n",
    "print('Original class distribution')\n",
    "display(pd.Series(y_train).value_counts().sort_index())\n",
    "\n",
    "print('\\nResampled class distribution (Upsampled)')\n",
    "display(pd.Series(y_up).value_counts().sort_index())"
   ]
  },
  {
   "cell_type": "markdown",
   "metadata": {
    "id": "n0gtnib7momt"
   },
   "source": [
    "The new class 1 distribution now matches the original class 0 distribution. Both classes now have equally 70,638 observations."
   ]
  },
  {
   "cell_type": "code",
   "execution_count": 57,
   "metadata": {
    "colab": {
     "base_uri": "https://localhost:8080/"
    },
    "executionInfo": {
     "elapsed": 220642,
     "status": "ok",
     "timestamp": 1659815097656,
     "user": {
      "displayName": "Tolu O.",
      "userId": "04888393322604891463"
     },
     "user_tz": 240
    },
    "id": "OpAmx7ED2V5O",
    "outputId": "87f685f8-42c4-4113-c78e-168ad2535e92"
   },
   "outputs": [
    {
     "name": "stdout",
     "output_type": "stream",
     "text": [
      "Train Accuracy: 0.9979755938729862\n",
      "Validation Accuracy: 0.9961504868501925\n"
     ]
    }
   ],
   "source": [
    "# instantiate and fit the model on the upsampled data\n",
    "XGB_model_up = XGBClassifier().fit(X_up, y_up)\n",
    "\n",
    "# print scores\n",
    "print(f\"Train Accuracy: {XGB_model_up.score(X_up, y_up)}\")\n",
    "print(f\"Validation Accuracy: {XGB_model_up.score(X_val.values, y_val)}\")"
   ]
  },
  {
   "cell_type": "code",
   "execution_count": 58,
   "metadata": {
    "colab": {
     "base_uri": "https://localhost:8080/"
    },
    "executionInfo": {
     "elapsed": 485,
     "status": "ok",
     "timestamp": 1659815098122,
     "user": {
      "displayName": "Tolu O.",
      "userId": "04888393322604891463"
     },
     "user_tz": 240
    },
    "id": "ZNa68hvw2X5F",
    "outputId": "fe802003-12b7-421c-dea3-326c45056b87"
   },
   "outputs": [
    {
     "name": "stdout",
     "output_type": "stream",
     "text": [
      "              precision    recall  f1-score   support\n",
      "\n",
      "           0       1.00      1.00      1.00     30275\n",
      "           1       0.85      0.99      0.91       638\n",
      "\n",
      "    accuracy                           1.00     30913\n",
      "   macro avg       0.93      0.99      0.96     30913\n",
      "weighted avg       1.00      1.00      1.00     30913\n",
      "\n"
     ]
    }
   ],
   "source": [
    "# display the classification report\n",
    "\n",
    "y_pred_up = XGB_model_up.predict(X_val.values)\n",
    "\n",
    "report_upsampled = classification_report(y_val, y_pred_up)\n",
    "print(report_upsampled)"
   ]
  },
  {
   "cell_type": "code",
   "execution_count": 59,
   "metadata": {
    "colab": {
     "base_uri": "https://localhost:8080/"
    },
    "executionInfo": {
     "elapsed": 21,
     "status": "ok",
     "timestamp": 1659815098123,
     "user": {
      "displayName": "Tolu O.",
      "userId": "04888393322604891463"
     },
     "user_tz": 240
    },
    "id": "fu5-xNHl2aYN",
    "outputId": "71a02bfa-d5b1-4c13-c16a-97b02c66dabc"
   },
   "outputs": [
    {
     "name": "stdout",
     "output_type": "stream",
     "text": [
      "Precision Score: 0.851150202976996\n",
      "Recall Score: 0.9858934169278997\n",
      "F1 Score: 0.9135802469135802\n"
     ]
    }
   ],
   "source": [
    "print(f\"Precision Score: {precision_score(y_val,y_pred_up)}\")\n",
    "print(f\"Recall Score: {recall_score(y_val, y_pred_up)}\")\n",
    "print(f\"F1 Score: {f1_score(y_val, y_pred_up)}\")"
   ]
  },
  {
   "cell_type": "code",
   "execution_count": 60,
   "metadata": {
    "colab": {
     "base_uri": "https://localhost:8080/",
     "height": 166
    },
    "executionInfo": {
     "elapsed": 15,
     "status": "ok",
     "timestamp": 1659815098123,
     "user": {
      "displayName": "Tolu O.",
      "userId": "04888393322604891463"
     },
     "user_tz": 240
    },
    "id": "bgv9t8ZD2cG4",
    "outputId": "428fbd7c-7572-40e1-95f7-18cb5b48488c"
   },
   "outputs": [
    {
     "data": {
      "text/plain": [
       "0    30275\n",
       "1      638\n",
       "Name: is_fraud, dtype: int64"
      ]
     },
     "metadata": {},
     "output_type": "display_data"
    },
    {
     "data": {
      "text/html": [
       "\n",
       "  <div id=\"df-88a81e98-13e0-4e15-a117-c25c030787a9\">\n",
       "    <div class=\"colab-df-container\">\n",
       "      <div>\n",
       "<style scoped>\n",
       "    .dataframe tbody tr th:only-of-type {\n",
       "        vertical-align: middle;\n",
       "    }\n",
       "\n",
       "    .dataframe tbody tr th {\n",
       "        vertical-align: top;\n",
       "    }\n",
       "\n",
       "    .dataframe thead th {\n",
       "        text-align: right;\n",
       "    }\n",
       "</style>\n",
       "<table border=\"1\" class=\"dataframe\">\n",
       "  <thead>\n",
       "    <tr style=\"text-align: right;\">\n",
       "      <th></th>\n",
       "      <th>Predicted Non-fraudulent</th>\n",
       "      <th>Predicted Fraudulent</th>\n",
       "    </tr>\n",
       "  </thead>\n",
       "  <tbody>\n",
       "    <tr>\n",
       "      <th>True Non-fraudulent</th>\n",
       "      <td>30165</td>\n",
       "      <td>110</td>\n",
       "    </tr>\n",
       "    <tr>\n",
       "      <th>True Fraudulent</th>\n",
       "      <td>9</td>\n",
       "      <td>629</td>\n",
       "    </tr>\n",
       "  </tbody>\n",
       "</table>\n",
       "</div>\n",
       "      <button class=\"colab-df-convert\" onclick=\"convertToInteractive('df-88a81e98-13e0-4e15-a117-c25c030787a9')\"\n",
       "              title=\"Convert this dataframe to an interactive table.\"\n",
       "              style=\"display:none;\">\n",
       "        \n",
       "  <svg xmlns=\"http://www.w3.org/2000/svg\" height=\"24px\"viewBox=\"0 0 24 24\"\n",
       "       width=\"24px\">\n",
       "    <path d=\"M0 0h24v24H0V0z\" fill=\"none\"/>\n",
       "    <path d=\"M18.56 5.44l.94 2.06.94-2.06 2.06-.94-2.06-.94-.94-2.06-.94 2.06-2.06.94zm-11 1L8.5 8.5l.94-2.06 2.06-.94-2.06-.94L8.5 2.5l-.94 2.06-2.06.94zm10 10l.94 2.06.94-2.06 2.06-.94-2.06-.94-.94-2.06-.94 2.06-2.06.94z\"/><path d=\"M17.41 7.96l-1.37-1.37c-.4-.4-.92-.59-1.43-.59-.52 0-1.04.2-1.43.59L10.3 9.45l-7.72 7.72c-.78.78-.78 2.05 0 2.83L4 21.41c.39.39.9.59 1.41.59.51 0 1.02-.2 1.41-.59l7.78-7.78 2.81-2.81c.8-.78.8-2.07 0-2.86zM5.41 20L4 18.59l7.72-7.72 1.47 1.35L5.41 20z\"/>\n",
       "  </svg>\n",
       "      </button>\n",
       "      \n",
       "  <style>\n",
       "    .colab-df-container {\n",
       "      display:flex;\n",
       "      flex-wrap:wrap;\n",
       "      gap: 12px;\n",
       "    }\n",
       "\n",
       "    .colab-df-convert {\n",
       "      background-color: #E8F0FE;\n",
       "      border: none;\n",
       "      border-radius: 50%;\n",
       "      cursor: pointer;\n",
       "      display: none;\n",
       "      fill: #1967D2;\n",
       "      height: 32px;\n",
       "      padding: 0 0 0 0;\n",
       "      width: 32px;\n",
       "    }\n",
       "\n",
       "    .colab-df-convert:hover {\n",
       "      background-color: #E2EBFA;\n",
       "      box-shadow: 0px 1px 2px rgba(60, 64, 67, 0.3), 0px 1px 3px 1px rgba(60, 64, 67, 0.15);\n",
       "      fill: #174EA6;\n",
       "    }\n",
       "\n",
       "    [theme=dark] .colab-df-convert {\n",
       "      background-color: #3B4455;\n",
       "      fill: #D2E3FC;\n",
       "    }\n",
       "\n",
       "    [theme=dark] .colab-df-convert:hover {\n",
       "      background-color: #434B5C;\n",
       "      box-shadow: 0px 1px 3px 1px rgba(0, 0, 0, 0.15);\n",
       "      filter: drop-shadow(0px 1px 2px rgba(0, 0, 0, 0.3));\n",
       "      fill: #FFFFFF;\n",
       "    }\n",
       "  </style>\n",
       "\n",
       "      <script>\n",
       "        const buttonEl =\n",
       "          document.querySelector('#df-88a81e98-13e0-4e15-a117-c25c030787a9 button.colab-df-convert');\n",
       "        buttonEl.style.display =\n",
       "          google.colab.kernel.accessAllowed ? 'block' : 'none';\n",
       "\n",
       "        async function convertToInteractive(key) {\n",
       "          const element = document.querySelector('#df-88a81e98-13e0-4e15-a117-c25c030787a9');\n",
       "          const dataTable =\n",
       "            await google.colab.kernel.invokeFunction('convertToInteractive',\n",
       "                                                     [key], {});\n",
       "          if (!dataTable) return;\n",
       "\n",
       "          const docLinkHtml = 'Like what you see? Visit the ' +\n",
       "            '<a target=\"_blank\" href=https://colab.research.google.com/notebooks/data_table.ipynb>data table notebook</a>'\n",
       "            + ' to learn more about interactive tables.';\n",
       "          element.innerHTML = '';\n",
       "          dataTable['output_type'] = 'display_data';\n",
       "          await google.colab.output.renderOutput(dataTable, element);\n",
       "          const docLink = document.createElement('div');\n",
       "          docLink.innerHTML = docLinkHtml;\n",
       "          element.appendChild(docLink);\n",
       "        }\n",
       "      </script>\n",
       "    </div>\n",
       "  </div>\n",
       "  "
      ],
      "text/plain": [
       "                     Predicted Non-fraudulent  Predicted Fraudulent\n",
       "True Non-fraudulent                     30165                   110\n",
       "True Fraudulent                             9                   629"
      ]
     },
     "metadata": {},
     "output_type": "display_data"
    }
   ],
   "source": [
    "display(y_val.value_counts())\n",
    "\n",
    "# confusion matrix\n",
    "con_matrix = pd.DataFrame(\n",
    "    data = confusion_matrix(y_val, y_pred_up),\n",
    "    index = ['True Non-fraudulent', 'True Fraudulent'],\n",
    "    columns = ['Predicted Non-fraudulent', 'Predicted Fraudulent']\n",
    ")\n",
    "display(con_matrix)"
   ]
  },
  {
   "cell_type": "code",
   "execution_count": 61,
   "metadata": {
    "colab": {
     "base_uri": "https://localhost:8080/",
     "height": 282
    },
    "executionInfo": {
     "elapsed": 529,
     "status": "ok",
     "timestamp": 1659815098640,
     "user": {
      "displayName": "Tolu O.",
      "userId": "04888393322604891463"
     },
     "user_tz": 240
    },
    "id": "PFZAy2yG2eFc",
    "outputId": "b830747c-d229-44c3-8a42-9203cdf2b153"
   },
   "outputs": [
    {
     "data": {
      "image/png": "[encoded data removed]",
      "text/plain": [
       "<Figure size 432x288 with 2 Axes>"
      ]
     },
     "metadata": {
      "needs_background": "light"
     },
     "output_type": "display_data"
    }
   ],
   "source": [
    "plot_confusion_matrix(XGB_model_up, X_val.values, y_val);"
   ]
  },
  {
   "cell_type": "code",
   "execution_count": 62,
   "metadata": {
    "colab": {
     "base_uri": "https://localhost:8080/",
     "height": 295
    },
    "executionInfo": {
     "elapsed": 1727,
     "status": "ok",
     "timestamp": 1659815100510,
     "user": {
      "displayName": "Tolu O.",
      "userId": "04888393322604891463"
     },
     "user_tz": 240
    },
    "id": "9tU9vtsz2gPM",
    "outputId": "782e6453-0622-4ea9-def2-02988314895c"
   },
   "outputs": [
    {
     "data": {
      "image/png": "[encoded data removed]",
      "text/plain": [
       "<Figure size 432x288 with 1 Axes>"
      ]
     },
     "metadata": {
      "needs_background": "light"
     },
     "output_type": "display_data"
    }
   ],
   "source": [
    "# probabilistic prediction\n",
    "y_val_proba = XGB_model_up.predict_proba(X_val.values)[:,1] # probabilities of data points being in the positive class\n",
    "\n",
    "# ROC arrays\n",
    "fprs, tprs, thresholds = roc_curve(y_val, y_val_proba)\n",
    "\n",
    "# AUC\n",
    "roc_auc = roc_auc_score(y_val, y_val_proba)\n",
    "\n",
    "# plot\n",
    "plt.figure()\n",
    "sns.lineplot(fprs, tprs, color='red', lw=2, label=f'ROC (AUC = {roc_auc:0.2f})')\n",
    "sns.lineplot([0, 1], [0, 1], color='black', lw=2, label='random guess') # random guess\n",
    "plt.xlabel('FPR')\n",
    "plt.ylabel('Recall or TPR')\n",
    "plt.title('ROC Curve for Credit Card Fraud Prediction for XGBoost (Upsampled Data)')\n",
    "plt.legend(loc='best')\n",
    "plt.show()"
   ]
  },
  {
   "cell_type": "markdown",
   "metadata": {
    "id": "Nef_ON7anFTI"
   },
   "source": [
    "The upsampled model did a better job at detecting fraudulent transactions than the downsampled model. The upsampled model was able to detect 99% of the fraudulent transactions like the downsampled model, but the upsampled model had a higher f1-score of 91% and a higher precision score of 85%."
   ]
  },
  {
   "cell_type": "markdown",
   "metadata": {
    "id": "KlfsxPwo2oqG"
   },
   "source": [
    "# Comparison of XGBoost Models\n",
    "\n",
    "These are the three models done for XGBoost. Out of the three, the upsampled XGBoost model performs the best.\n",
    "\n",
    "\n",
    "Model           | Precision | Recall | F1 Score \n",
    "----------------|-----------|------- | ---------\n",
    "Original        | 97%       | 95%    | 96%\n",
    "Upsampled       | 85%       | 99%    | 91%\n",
    "Downsampled     | 75%       | 99%    | 85%\n",
    "\n",
    "Going forward, I will optimize the parameters of the upsampled XGBoost model using GridSearch to see if I can have an even better performing model."
   ]
  },
  {
   "cell_type": "markdown",
   "metadata": {
    "id": "xZpCzBB8-pAZ"
   },
   "source": [
    "## Optimizing the Parameters of the Best Performing XGBoost Model\n",
    "\n",
    "\n",
    "The evaluation metric I am using is prioritizing recall, being able to detect as many fraudulent transactions as possible, without trading too much of precision - so making the F1 score (the harmonic mean of both) a second priority.\n",
    "\n",
    "In this case, both Upsampled Model and Downsampled Model have 99% recall, which is great! But, Downsampled model has 75% precision and 85% F1 score, while upsampled model has 85% precision and 91% F1 Score. Based on the evaluation metric I set, the Upsampled model is the best performing model.\n",
    "\n",
    "The next step, is to see if I can optimize the model even further, perhaps maintaining the recall score but finding ways to increase the precision and F1 score."
   ]
  },
  {
   "cell_type": "code",
   "execution_count": 63,
   "metadata": {
    "executionInfo": {
     "elapsed": 10,
     "status": "ok",
     "timestamp": 1659815100511,
     "user": {
      "displayName": "Tolu O.",
      "userId": "04888393322604891463"
     },
     "user_tz": 240
    },
    "id": "1Ymx5gQf_lsT"
   },
   "outputs": [],
   "source": [
    "# Start by importing required libraries\n",
    "\n",
    "from sklearn.pipeline import Pipeline\n",
    "from sklearn.preprocessing import StandardScaler, MinMaxScaler\n",
    "from sklearn.model_selection import GridSearchCV"
   ]
  },
  {
   "cell_type": "code",
   "execution_count": 64,
   "metadata": {
    "executionInfo": {
     "elapsed": 8,
     "status": "ok",
     "timestamp": 1659815100511,
     "user": {
      "displayName": "Tolu O.",
      "userId": "04888393322604891463"
     },
     "user_tz": 240
    },
    "id": "ert7sezh_7On"
   },
   "outputs": [],
   "source": [
    "# define the estimators and pipe for the pipeline\n",
    "estimators = [(\"normalise\", None),\n",
    "              (\"model\", XGBClassifier())]\n",
    "\n",
    "pipe = Pipeline(estimators)"
   ]
  },
  {
   "cell_type": "markdown",
   "metadata": {
    "id": "Gg1rLgpvoBV_"
   },
   "source": [
    "The next step was to define the parameter grid, instantiate GridSearchCV and fit the upsampled model.\n",
    "\n",
    "**Note that this block of code will take 8 hours to run if you decide to run it**"
   ]
  },
  {
   "cell_type": "code",
   "execution_count": 65,
   "metadata": {
    "executionInfo": {
     "elapsed": 29306767,
     "status": "ok",
     "timestamp": 1659844407271,
     "user": {
      "displayName": "Tolu O.",
      "userId": "04888393322604891463"
     },
     "user_tz": 240
    },
    "id": "dua14vinAaMZ"
   },
   "outputs": [],
   "source": [
    "# define the parameter grid with other parameters to see which one\n",
    "# is the best\n",
    "\n",
    "param_grid = [\n",
    "    {'normalise': [None],\n",
    "     'model__eta': [0.1, 0.3],\n",
    "     'model__gamma': [0, 2],\n",
    "     'model__max_depth': [6, 8],\n",
    "     'model__min_child_weight': [1, 3]}]\n",
    "\n",
    "grid = GridSearchCV(pipe, param_grid, cv=5)\n",
    "\n",
    "fitted_grid = grid.fit(X_up, y_up)"
   ]
  },
  {
   "cell_type": "markdown",
   "metadata": {
    "id": "P9PBISBFoPNA"
   },
   "source": [
    "The best parameters were then printed out:"
   ]
  },
  {
   "cell_type": "code",
   "execution_count": 66,
   "metadata": {
    "colab": {
     "base_uri": "https://localhost:8080/"
    },
    "executionInfo": {
     "elapsed": 45,
     "status": "ok",
     "timestamp": 1659844407272,
     "user": {
      "displayName": "Tolu O.",
      "userId": "04888393322604891463"
     },
     "user_tz": 240
    },
    "id": "BdL69eOn8rMx",
    "outputId": "8f5ac37d-3c06-4132-89c3-d30b31ab44c9"
   },
   "outputs": [
    {
     "data": {
      "text/plain": [
       "{'model__eta': 0.1,\n",
       " 'model__gamma': 0,\n",
       " 'model__max_depth': 8,\n",
       " 'model__min_child_weight': 1,\n",
       " 'normalise': None}"
      ]
     },
     "execution_count": 66,
     "metadata": {},
     "output_type": "execute_result"
    }
   ],
   "source": [
    "# The best hyperparameters\n",
    "fitted_grid.best_params_"
   ]
  },
  {
   "cell_type": "markdown",
   "metadata": {
    "id": "CAdkWfwPoS0O"
   },
   "source": [
    "The best parameters were then used in the model to see how well it performs."
   ]
  },
  {
   "cell_type": "code",
   "execution_count": 67,
   "metadata": {
    "colab": {
     "base_uri": "https://localhost:8080/"
    },
    "executionInfo": {
     "elapsed": 502752,
     "status": "ok",
     "timestamp": 1659844910003,
     "user": {
      "displayName": "Tolu O.",
      "userId": "04888393322604891463"
     },
     "user_tz": 240
    },
    "id": "TekAXhIS8rHU",
    "outputId": "61dfd9f5-1ee4-4d9b-8c08-87bd13ae05df"
   },
   "outputs": [
    {
     "name": "stdout",
     "output_type": "stream",
     "text": [
      "Train accuracy: 0.9999009031965798\n",
      "Validation accuracy: 0.9984472552000776\n"
     ]
    }
   ],
   "source": [
    "# fit the model with the best parameters from GridSearchCV\n",
    "XGB_model_best_params = XGBClassifier(eta=0.1, gamma=0, \n",
    "                                      max_depth=8, min_child_weight=1).fit(X_up, y_up)\n",
    "\n",
    "# print out the scores\n",
    "print(f\"Train accuracy: {XGB_model_best_params.score(X_up, y_up)}\")\n",
    "print(f\"Validation accuracy: {XGB_model_best_params.score(X_val.values, y_val)}\")"
   ]
  },
  {
   "cell_type": "code",
   "execution_count": 68,
   "metadata": {
    "colab": {
     "base_uri": "https://localhost:8080/"
    },
    "executionInfo": {
     "elapsed": 457,
     "status": "ok",
     "timestamp": 1659844910456,
     "user": {
      "displayName": "Tolu O.",
      "userId": "04888393322604891463"
     },
     "user_tz": 240
    },
    "id": "PrpxLFIz8rAk",
    "outputId": "a3cf794b-9f1f-4440-f9f4-df4d4bfcc322"
   },
   "outputs": [
    {
     "name": "stdout",
     "output_type": "stream",
     "text": [
      "              precision    recall  f1-score   support\n",
      "\n",
      "           0       1.00      1.00      1.00     30275\n",
      "           1       0.95      0.98      0.96       638\n",
      "\n",
      "    accuracy                           1.00     30913\n",
      "   macro avg       0.97      0.99      0.98     30913\n",
      "weighted avg       1.00      1.00      1.00     30913\n",
      "\n"
     ]
    }
   ],
   "source": [
    "# display the classification report\n",
    "y_pred = XGB_model_best_params.predict(X_val.values)\n",
    "\n",
    "report_XGB = classification_report(y_val, y_pred)\n",
    "print(report_XGB)"
   ]
  },
  {
   "cell_type": "code",
   "execution_count": 69,
   "metadata": {
    "colab": {
     "base_uri": "https://localhost:8080/",
     "height": 166
    },
    "executionInfo": {
     "elapsed": 8,
     "status": "ok",
     "timestamp": 1659844910457,
     "user": {
      "displayName": "Tolu O.",
      "userId": "04888393322604891463"
     },
     "user_tz": 240
    },
    "id": "q4EBOB7IAmEH",
    "outputId": "6606942f-1612-4fc4-b892-07d83f918bd1"
   },
   "outputs": [
    {
     "data": {
      "text/plain": [
       "0    30275\n",
       "1      638\n",
       "Name: is_fraud, dtype: int64"
      ]
     },
     "metadata": {},
     "output_type": "display_data"
    },
    {
     "data": {
      "text/html": [
       "\n",
       "  <div id=\"df-1588314d-74f8-40e4-ad4d-f8100b18f5d2\">\n",
       "    <div class=\"colab-df-container\">\n",
       "      <div>\n",
       "<style scoped>\n",
       "    .dataframe tbody tr th:only-of-type {\n",
       "        vertical-align: middle;\n",
       "    }\n",
       "\n",
       "    .dataframe tbody tr th {\n",
       "        vertical-align: top;\n",
       "    }\n",
       "\n",
       "    .dataframe thead th {\n",
       "        text-align: right;\n",
       "    }\n",
       "</style>\n",
       "<table border=\"1\" class=\"dataframe\">\n",
       "  <thead>\n",
       "    <tr style=\"text-align: right;\">\n",
       "      <th></th>\n",
       "      <th>Predicted Non-fraudulent</th>\n",
       "      <th>Predicted Fraudulent</th>\n",
       "    </tr>\n",
       "  </thead>\n",
       "  <tbody>\n",
       "    <tr>\n",
       "      <th>True Non-fraudulent</th>\n",
       "      <td>30241</td>\n",
       "      <td>34</td>\n",
       "    </tr>\n",
       "    <tr>\n",
       "      <th>True Fraudulent</th>\n",
       "      <td>14</td>\n",
       "      <td>624</td>\n",
       "    </tr>\n",
       "  </tbody>\n",
       "</table>\n",
       "</div>\n",
       "      <button class=\"colab-df-convert\" onclick=\"convertToInteractive('df-1588314d-74f8-40e4-ad4d-f8100b18f5d2')\"\n",
       "              title=\"Convert this dataframe to an interactive table.\"\n",
       "              style=\"display:none;\">\n",
       "        \n",
       "  <svg xmlns=\"http://www.w3.org/2000/svg\" height=\"24px\"viewBox=\"0 0 24 24\"\n",
       "       width=\"24px\">\n",
       "    <path d=\"M0 0h24v24H0V0z\" fill=\"none\"/>\n",
       "    <path d=\"M18.56 5.44l.94 2.06.94-2.06 2.06-.94-2.06-.94-.94-2.06-.94 2.06-2.06.94zm-11 1L8.5 8.5l.94-2.06 2.06-.94-2.06-.94L8.5 2.5l-.94 2.06-2.06.94zm10 10l.94 2.06.94-2.06 2.06-.94-2.06-.94-.94-2.06-.94 2.06-2.06.94z\"/><path d=\"M17.41 7.96l-1.37-1.37c-.4-.4-.92-.59-1.43-.59-.52 0-1.04.2-1.43.59L10.3 9.45l-7.72 7.72c-.78.78-.78 2.05 0 2.83L4 21.41c.39.39.9.59 1.41.59.51 0 1.02-.2 1.41-.59l7.78-7.78 2.81-2.81c.8-.78.8-2.07 0-2.86zM5.41 20L4 18.59l7.72-7.72 1.47 1.35L5.41 20z\"/>\n",
       "  </svg>\n",
       "      </button>\n",
       "      \n",
       "  <style>\n",
       "    .colab-df-container {\n",
       "      display:flex;\n",
       "      flex-wrap:wrap;\n",
       "      gap: 12px;\n",
       "    }\n",
       "\n",
       "    .colab-df-convert {\n",
       "      background-color: #E8F0FE;\n",
       "      border: none;\n",
       "      border-radius: 50%;\n",
       "      cursor: pointer;\n",
       "      display: none;\n",
       "      fill: #1967D2;\n",
       "      height: 32px;\n",
       "      padding: 0 0 0 0;\n",
       "      width: 32px;\n",
       "    }\n",
       "\n",
       "    .colab-df-convert:hover {\n",
       "      background-color: #E2EBFA;\n",
       "      box-shadow: 0px 1px 2px rgba(60, 64, 67, 0.3), 0px 1px 3px 1px rgba(60, 64, 67, 0.15);\n",
       "      fill: #174EA6;\n",
       "    }\n",
       "\n",
       "    [theme=dark] .colab-df-convert {\n",
       "      background-color: #3B4455;\n",
       "      fill: #D2E3FC;\n",
       "    }\n",
       "\n",
       "    [theme=dark] .colab-df-convert:hover {\n",
       "      background-color: #434B5C;\n",
       "      box-shadow: 0px 1px 3px 1px rgba(0, 0, 0, 0.15);\n",
       "      filter: drop-shadow(0px 1px 2px rgba(0, 0, 0, 0.3));\n",
       "      fill: #FFFFFF;\n",
       "    }\n",
       "  </style>\n",
       "\n",
       "      <script>\n",
       "        const buttonEl =\n",
       "          document.querySelector('#df-1588314d-74f8-40e4-ad4d-f8100b18f5d2 button.colab-df-convert');\n",
       "        buttonEl.style.display =\n",
       "          google.colab.kernel.accessAllowed ? 'block' : 'none';\n",
       "\n",
       "        async function convertToInteractive(key) {\n",
       "          const element = document.querySelector('#df-1588314d-74f8-40e4-ad4d-f8100b18f5d2');\n",
       "          const dataTable =\n",
       "            await google.colab.kernel.invokeFunction('convertToInteractive',\n",
       "                                                     [key], {});\n",
       "          if (!dataTable) return;\n",
       "\n",
       "          const docLinkHtml = 'Like what you see? Visit the ' +\n",
       "            '<a target=\"_blank\" href=https://colab.research.google.com/notebooks/data_table.ipynb>data table notebook</a>'\n",
       "            + ' to learn more about interactive tables.';\n",
       "          element.innerHTML = '';\n",
       "          dataTable['output_type'] = 'display_data';\n",
       "          await google.colab.output.renderOutput(dataTable, element);\n",
       "          const docLink = document.createElement('div');\n",
       "          docLink.innerHTML = docLinkHtml;\n",
       "          element.appendChild(docLink);\n",
       "        }\n",
       "      </script>\n",
       "    </div>\n",
       "  </div>\n",
       "  "
      ],
      "text/plain": [
       "                     Predicted Non-fraudulent  Predicted Fraudulent\n",
       "True Non-fraudulent                     30241                    34\n",
       "True Fraudulent                            14                   624"
      ]
     },
     "metadata": {},
     "output_type": "display_data"
    }
   ],
   "source": [
    "display(y_val.value_counts())\n",
    "\n",
    "# confusion matrix\n",
    "con_matrix = pd.DataFrame(\n",
    "    data = confusion_matrix(y_val, y_pred),\n",
    "    index = ['True Non-fraudulent', 'True Fraudulent'],\n",
    "    columns = ['Predicted Non-fraudulent', 'Predicted Fraudulent']\n",
    ")\n",
    "display(con_matrix)"
   ]
  },
  {
   "cell_type": "code",
   "execution_count": 70,
   "metadata": {
    "colab": {
     "base_uri": "https://localhost:8080/",
     "height": 282
    },
    "executionInfo": {
     "elapsed": 636,
     "status": "ok",
     "timestamp": 1659844911089,
     "user": {
      "displayName": "Tolu O.",
      "userId": "04888393322604891463"
     },
     "user_tz": 240
    },
    "id": "9OrGbgaEAl7Q",
    "outputId": "127dff53-932a-4d0c-9033-2c8989d65ba0"
   },
   "outputs": [
    {
     "data": {
      "image/png": "[encoded data removed]",
      "text/plain": [
       "<Figure size 432x288 with 2 Axes>"
      ]
     },
     "metadata": {
      "needs_background": "light"
     },
     "output_type": "display_data"
    }
   ],
   "source": [
    "plot_confusion_matrix(XGB_model_best_params, X_val.values, y_val);"
   ]
  },
  {
   "cell_type": "code",
   "execution_count": 71,
   "metadata": {
    "colab": {
     "base_uri": "https://localhost:8080/",
     "height": 295
    },
    "executionInfo": {
     "elapsed": 1508,
     "status": "ok",
     "timestamp": 1659844912595,
     "user": {
      "displayName": "Tolu O.",
      "userId": "04888393322604891463"
     },
     "user_tz": 240
    },
    "id": "1ublv2teBJUq",
    "outputId": "0443b06b-1fa0-47c6-d9e4-7aefee7c5f3e"
   },
   "outputs": [
    {
     "data": {
      "image/png": "[encoded data removed]",
      "text/plain": [
       "<Figure size 432x288 with 1 Axes>"
      ]
     },
     "metadata": {
      "needs_background": "light"
     },
     "output_type": "display_data"
    }
   ],
   "source": [
    "# probabilistic prediction\n",
    "y_val_proba = XGB_model_best_params.predict_proba(X_val.values)[:,1] # probabilities of data points being in the positive class\n",
    "\n",
    "# ROC arrays\n",
    "fprs, tprs, thresholds = roc_curve(y_val, y_val_proba)\n",
    "\n",
    "# AUC\n",
    "roc_auc = roc_auc_score(y_val, y_val_proba)\n",
    "\n",
    "# plot\n",
    "plt.figure()\n",
    "sns.lineplot(fprs, tprs, color='red', lw=2, label=f'ROC (AUC = {roc_auc:0.2f})')\n",
    "sns.lineplot([0, 1], [0, 1], color='black', lw=2, label='random guess') # random guess\n",
    "plt.xlabel('FPR')\n",
    "plt.ylabel('Recall or TPR')\n",
    "plt.title('ROC Curve for Credit Card Fraud Prediction using XGBoost Model')\n",
    "plt.legend(loc='best')\n",
    "plt.show()"
   ]
  },
  {
   "cell_type": "markdown",
   "metadata": {
    "id": "mAudZYoJojqV"
   },
   "source": [
    "This is great! The model has a great recall score of 98%, with an f1-score of 96%, and precision of 95%. It was able to detect 624 fraudulent cases out of 638, only misclassifying 14 fraudulent cases as fraudulent. It was also able to detect 30,241 non-fraudulent cases out of 30,275 non-fraudulent cases, only misclassifying 34 non-fraudulent cases as fraudulent.\n",
    "\n",
    "The best performing model can now be confirmed as the Upsampled XGBoost Model with optimized parameters."
   ]
  },
  {
   "cell_type": "markdown",
   "metadata": {
    "id": "865P42A-R_lQ"
   },
   "source": [
    "# Final Models - Scoring on Test Set for Comparison\n",
    "---\n",
    "\n",
    "Since the final model has been completed and the best performing model has been chosen, I will now go through the models done and test it on the test set (never before seen data) to really see how well my model performed on data it has never seen before."
   ]
  },
  {
   "cell_type": "markdown",
   "metadata": {
    "id": "SfhNuoKoSGv2"
   },
   "source": [
    "## KNN"
   ]
  },
  {
   "cell_type": "code",
   "execution_count": 72,
   "metadata": {
    "colab": {
     "base_uri": "https://localhost:8080/"
    },
    "executionInfo": {
     "elapsed": 268911,
     "status": "ok",
     "timestamp": 1659845181505,
     "user": {
      "displayName": "Tolu O.",
      "userId": "04888393322604891463"
     },
     "user_tz": 240
    },
    "id": "l_WkQHRXSEys",
    "outputId": "1ef4c2ed-1a99-46d9-a306-b6faaffb6bfc"
   },
   "outputs": [
    {
     "name": "stdout",
     "output_type": "stream",
     "text": [
      "Train accuracy: 0.9835292812777284\n",
      "Validation accuracy: 0.9826933652508654\n",
      "Test accuracy: 0.9825317340165366\n"
     ]
    }
   ],
   "source": [
    "# Scale the data\n",
    "scaler = StandardScaler().fit(X_train)\n",
    "\n",
    "# Transform the sets\n",
    "X_train_ss = scaler.transform(X_train)\n",
    "X_val_ss = scaler.transform(X_val)\n",
    "X_test_ss = scaler.transform(X_test)\n",
    "\n",
    "# Fit the model\n",
    "KNN_model = KNeighborsClassifier().fit(X_train_ss, y_train)\n",
    "\n",
    "\n",
    "# Score the sets\n",
    "print(f\"Train accuracy: {KNN_model.score(X_train_ss, y_train)}\")\n",
    "print(f\"Validation accuracy: {KNN_model.score(X_val_ss, y_val)}\")\n",
    "print(f\"Test accuracy: {KNN_model.score(X_test_ss, y_test)}\")"
   ]
  },
  {
   "cell_type": "code",
   "execution_count": 73,
   "metadata": {
    "colab": {
     "base_uri": "https://localhost:8080/"
    },
    "executionInfo": {
     "elapsed": 57302,
     "status": "ok",
     "timestamp": 1659845238787,
     "user": {
      "displayName": "Tolu O.",
      "userId": "04888393322604891463"
     },
     "user_tz": 240
    },
    "id": "Oveo6vOHCVpS",
    "outputId": "50c1e607-3b56-4063-892a-e6abcb59fee6"
   },
   "outputs": [
    {
     "name": "stdout",
     "output_type": "stream",
     "text": [
      "              precision    recall  f1-score   support\n",
      "\n",
      "           0       0.98      1.00      0.99     25229\n",
      "           1       0.94      0.17      0.28       532\n",
      "\n",
      "    accuracy                           0.98     25761\n",
      "   macro avg       0.96      0.58      0.64     25761\n",
      "weighted avg       0.98      0.98      0.98     25761\n",
      "\n"
     ]
    }
   ],
   "source": [
    "y_pred = KNN_model.predict(X_test_ss)\n",
    "\n",
    "report_KNN = classification_report(y_test, y_pred)\n",
    "print(report_KNN)"
   ]
  },
  {
   "cell_type": "code",
   "execution_count": 74,
   "metadata": {
    "colab": {
     "base_uri": "https://localhost:8080/",
     "height": 166
    },
    "executionInfo": {
     "elapsed": 11,
     "status": "ok",
     "timestamp": 1659845238788,
     "user": {
      "displayName": "Tolu O.",
      "userId": "04888393322604891463"
     },
     "user_tz": 240
    },
    "id": "2C21Unin_0OP",
    "outputId": "e226f3db-2596-430c-8a24-3515b70275a6"
   },
   "outputs": [
    {
     "data": {
      "text/plain": [
       "0    25229\n",
       "1      532\n",
       "Name: is_fraud, dtype: int64"
      ]
     },
     "metadata": {},
     "output_type": "display_data"
    },
    {
     "data": {
      "text/html": [
       "\n",
       "  <div id=\"df-fc40e54c-e35c-43b0-8e7b-34afb26d4d43\">\n",
       "    <div class=\"colab-df-container\">\n",
       "      <div>\n",
       "<style scoped>\n",
       "    .dataframe tbody tr th:only-of-type {\n",
       "        vertical-align: middle;\n",
       "    }\n",
       "\n",
       "    .dataframe tbody tr th {\n",
       "        vertical-align: top;\n",
       "    }\n",
       "\n",
       "    .dataframe thead th {\n",
       "        text-align: right;\n",
       "    }\n",
       "</style>\n",
       "<table border=\"1\" class=\"dataframe\">\n",
       "  <thead>\n",
       "    <tr style=\"text-align: right;\">\n",
       "      <th></th>\n",
       "      <th>Predicted Non-fraudulent</th>\n",
       "      <th>Predicted Fraudulent</th>\n",
       "    </tr>\n",
       "  </thead>\n",
       "  <tbody>\n",
       "    <tr>\n",
       "      <th>True Non-fraudulent</th>\n",
       "      <td>25223</td>\n",
       "      <td>6</td>\n",
       "    </tr>\n",
       "    <tr>\n",
       "      <th>True Fraudulent</th>\n",
       "      <td>444</td>\n",
       "      <td>88</td>\n",
       "    </tr>\n",
       "  </tbody>\n",
       "</table>\n",
       "</div>\n",
       "      <button class=\"colab-df-convert\" onclick=\"convertToInteractive('df-fc40e54c-e35c-43b0-8e7b-34afb26d4d43')\"\n",
       "              title=\"Convert this dataframe to an interactive table.\"\n",
       "              style=\"display:none;\">\n",
       "        \n",
       "  <svg xmlns=\"http://www.w3.org/2000/svg\" height=\"24px\"viewBox=\"0 0 24 24\"\n",
       "       width=\"24px\">\n",
       "    <path d=\"M0 0h24v24H0V0z\" fill=\"none\"/>\n",
       "    <path d=\"M18.56 5.44l.94 2.06.94-2.06 2.06-.94-2.06-.94-.94-2.06-.94 2.06-2.06.94zm-11 1L8.5 8.5l.94-2.06 2.06-.94-2.06-.94L8.5 2.5l-.94 2.06-2.06.94zm10 10l.94 2.06.94-2.06 2.06-.94-2.06-.94-.94-2.06-.94 2.06-2.06.94z\"/><path d=\"M17.41 7.96l-1.37-1.37c-.4-.4-.92-.59-1.43-.59-.52 0-1.04.2-1.43.59L10.3 9.45l-7.72 7.72c-.78.78-.78 2.05 0 2.83L4 21.41c.39.39.9.59 1.41.59.51 0 1.02-.2 1.41-.59l7.78-7.78 2.81-2.81c.8-.78.8-2.07 0-2.86zM5.41 20L4 18.59l7.72-7.72 1.47 1.35L5.41 20z\"/>\n",
       "  </svg>\n",
       "      </button>\n",
       "      \n",
       "  <style>\n",
       "    .colab-df-container {\n",
       "      display:flex;\n",
       "      flex-wrap:wrap;\n",
       "      gap: 12px;\n",
       "    }\n",
       "\n",
       "    .colab-df-convert {\n",
       "      background-color: #E8F0FE;\n",
       "      border: none;\n",
       "      border-radius: 50%;\n",
       "      cursor: pointer;\n",
       "      display: none;\n",
       "      fill: #1967D2;\n",
       "      height: 32px;\n",
       "      padding: 0 0 0 0;\n",
       "      width: 32px;\n",
       "    }\n",
       "\n",
       "    .colab-df-convert:hover {\n",
       "      background-color: #E2EBFA;\n",
       "      box-shadow: 0px 1px 2px rgba(60, 64, 67, 0.3), 0px 1px 3px 1px rgba(60, 64, 67, 0.15);\n",
       "      fill: #174EA6;\n",
       "    }\n",
       "\n",
       "    [theme=dark] .colab-df-convert {\n",
       "      background-color: #3B4455;\n",
       "      fill: #D2E3FC;\n",
       "    }\n",
       "\n",
       "    [theme=dark] .colab-df-convert:hover {\n",
       "      background-color: #434B5C;\n",
       "      box-shadow: 0px 1px 3px 1px rgba(0, 0, 0, 0.15);\n",
       "      filter: drop-shadow(0px 1px 2px rgba(0, 0, 0, 0.3));\n",
       "      fill: #FFFFFF;\n",
       "    }\n",
       "  </style>\n",
       "\n",
       "      <script>\n",
       "        const buttonEl =\n",
       "          document.querySelector('#df-fc40e54c-e35c-43b0-8e7b-34afb26d4d43 button.colab-df-convert');\n",
       "        buttonEl.style.display =\n",
       "          google.colab.kernel.accessAllowed ? 'block' : 'none';\n",
       "\n",
       "        async function convertToInteractive(key) {\n",
       "          const element = document.querySelector('#df-fc40e54c-e35c-43b0-8e7b-34afb26d4d43');\n",
       "          const dataTable =\n",
       "            await google.colab.kernel.invokeFunction('convertToInteractive',\n",
       "                                                     [key], {});\n",
       "          if (!dataTable) return;\n",
       "\n",
       "          const docLinkHtml = 'Like what you see? Visit the ' +\n",
       "            '<a target=\"_blank\" href=https://colab.research.google.com/notebooks/data_table.ipynb>data table notebook</a>'\n",
       "            + ' to learn more about interactive tables.';\n",
       "          element.innerHTML = '';\n",
       "          dataTable['output_type'] = 'display_data';\n",
       "          await google.colab.output.renderOutput(dataTable, element);\n",
       "          const docLink = document.createElement('div');\n",
       "          docLink.innerHTML = docLinkHtml;\n",
       "          element.appendChild(docLink);\n",
       "        }\n",
       "      </script>\n",
       "    </div>\n",
       "  </div>\n",
       "  "
      ],
      "text/plain": [
       "                     Predicted Non-fraudulent  Predicted Fraudulent\n",
       "True Non-fraudulent                     25223                     6\n",
       "True Fraudulent                           444                    88"
      ]
     },
     "metadata": {},
     "output_type": "display_data"
    }
   ],
   "source": [
    "display(y_test.value_counts())\n",
    "\n",
    "# confusion matrix\n",
    "con_matrix_KNN = pd.DataFrame(\n",
    "    data = confusion_matrix(y_test, y_pred),\n",
    "    index = ['True Non-fraudulent', 'True Fraudulent'],\n",
    "    columns = ['Predicted Non-fraudulent', 'Predicted Fraudulent']\n",
    ")\n",
    "display(con_matrix_KNN)"
   ]
  },
  {
   "cell_type": "code",
   "execution_count": 75,
   "metadata": {
    "colab": {
     "base_uri": "https://localhost:8080/",
     "height": 281
    },
    "executionInfo": {
     "elapsed": 53568,
     "status": "ok",
     "timestamp": 1659845292347,
     "user": {
      "displayName": "Tolu O.",
      "userId": "04888393322604891463"
     },
     "user_tz": 240
    },
    "id": "hHaTi8zn__mF",
    "outputId": "841853db-6b75-4e21-c96a-19e4a5fbd2f6"
   },
   "outputs": [
    {
     "data": {
      "image/png": "[encoded data removed]",
      "text/plain": [
       "<Figure size 432x288 with 2 Axes>"
      ]
     },
     "metadata": {
      "needs_background": "light"
     },
     "output_type": "display_data"
    }
   ],
   "source": [
    "plot_confusion_matrix(KNN_model, X_test_ss, y_test);"
   ]
  },
  {
   "cell_type": "code",
   "execution_count": 76,
   "metadata": {
    "colab": {
     "base_uri": "https://localhost:8080/",
     "height": 295
    },
    "executionInfo": {
     "elapsed": 52316,
     "status": "ok",
     "timestamp": 1659845344661,
     "user": {
      "displayName": "Tolu O.",
      "userId": "04888393322604891463"
     },
     "user_tz": 240
    },
    "id": "fy5ZeV1gAJZL",
    "outputId": "23a9c9c7-1118-4d66-8038-d6ceb0c8d56b"
   },
   "outputs": [
    {
     "data": {
      "image/png": "[encoded data removed]",
      "text/plain": [
       "<Figure size 432x288 with 1 Axes>"
      ]
     },
     "metadata": {
      "needs_background": "light"
     },
     "output_type": "display_data"
    }
   ],
   "source": [
    "# probabilistic prediction\n",
    "y_test_proba_KNN = KNN_model.predict_proba(X_test_ss)[:,1] # probabilities of data points being in the positive class\n",
    "\n",
    "# ROC arrays\n",
    "fprs, tprs, thresholds = roc_curve(y_test, y_test_proba_KNN)\n",
    "\n",
    "# AUC\n",
    "roc_auc = roc_auc_score(y_test, y_test_proba_KNN)\n",
    "\n",
    "# plot\n",
    "plt.figure()\n",
    "sns.lineplot(fprs, tprs, color='red', lw=2, label=f'ROC (AUC = {roc_auc:0.2f})')\n",
    "sns.lineplot([0, 1], [0, 1], color='black', lw=2, label='random guess') # random guess\n",
    "plt.xlabel('FPR')\n",
    "plt.ylabel('Recall or TPR')\n",
    "plt.title('ROC Curve for Credit Card Fraud Prediction for KNN Model')\n",
    "plt.legend(loc='best')\n",
    "plt.show()"
   ]
  },
  {
   "cell_type": "markdown",
   "metadata": {
    "id": "wQhxIjaVSJbd"
   },
   "source": [
    "## Decision Tree"
   ]
  },
  {
   "cell_type": "code",
   "execution_count": 77,
   "metadata": {
    "colab": {
     "base_uri": "https://localhost:8080/"
    },
    "executionInfo": {
     "elapsed": 8215,
     "status": "ok",
     "timestamp": 1659845352869,
     "user": {
      "displayName": "Tolu O.",
      "userId": "04888393322604891463"
     },
     "user_tz": 240
    },
    "id": "wsb2aE1wSK6t",
    "outputId": "62a9314e-52c8-4219-98f2-09905a9eb178"
   },
   "outputs": [
    {
     "name": "stdout",
     "output_type": "stream",
     "text": [
      "Train accuracy: 1.0\n",
      "Validation accuracy: 0.998059069000097\n",
      "Test accuracy: 0.9979814448196886\n"
     ]
    }
   ],
   "source": [
    "# instantiate and fit the model on the train set\n",
    "DT_model = DecisionTreeClassifier(random_state=1).fit(X_train, y_train)\n",
    "\n",
    "# score the train and validation set\n",
    "print(f\"Train accuracy: {DT_model.score(X_train, y_train)}\")\n",
    "print(f\"Validation accuracy: {DT_model.score(X_val, y_val)}\")\n",
    "print(f\"Test accuracy: {DT_model.score(X_test, y_test)}\")"
   ]
  },
  {
   "cell_type": "code",
   "execution_count": 78,
   "metadata": {
    "colab": {
     "base_uri": "https://localhost:8080/"
    },
    "executionInfo": {
     "elapsed": 28,
     "status": "ok",
     "timestamp": 1659845352869,
     "user": {
      "displayName": "Tolu O.",
      "userId": "04888393322604891463"
     },
     "user_tz": 240
    },
    "id": "-HYGPMqpAdcQ",
    "outputId": "54a27c08-828c-44e8-a5d8-78b073110b8d"
   },
   "outputs": [
    {
     "name": "stdout",
     "output_type": "stream",
     "text": [
      "              precision    recall  f1-score   support\n",
      "\n",
      "           0       1.00      1.00      1.00     25229\n",
      "           1       0.95      0.95      0.95       532\n",
      "\n",
      "    accuracy                           1.00     25761\n",
      "   macro avg       0.97      0.98      0.98     25761\n",
      "weighted avg       1.00      1.00      1.00     25761\n",
      "\n"
     ]
    }
   ],
   "source": [
    "y_pred_DT = DT_model.predict(X_test)\n",
    "\n",
    "report_DT = classification_report(y_test, y_pred_DT)\n",
    "print(report_DT)"
   ]
  },
  {
   "cell_type": "code",
   "execution_count": 79,
   "metadata": {
    "colab": {
     "base_uri": "https://localhost:8080/",
     "height": 166
    },
    "executionInfo": {
     "elapsed": 24,
     "status": "ok",
     "timestamp": 1659845352870,
     "user": {
      "displayName": "Tolu O.",
      "userId": "04888393322604891463"
     },
     "user_tz": 240
    },
    "id": "XSHID3pMECZ5",
    "outputId": "fc4e305d-90af-41c0-9e11-84d02ff00595"
   },
   "outputs": [
    {
     "data": {
      "text/plain": [
       "0    25229\n",
       "1      532\n",
       "Name: is_fraud, dtype: int64"
      ]
     },
     "metadata": {},
     "output_type": "display_data"
    },
    {
     "data": {
      "text/html": [
       "\n",
       "  <div id=\"df-d690c646-6ec3-4441-8491-8e1af35a0dd8\">\n",
       "    <div class=\"colab-df-container\">\n",
       "      <div>\n",
       "<style scoped>\n",
       "    .dataframe tbody tr th:only-of-type {\n",
       "        vertical-align: middle;\n",
       "    }\n",
       "\n",
       "    .dataframe tbody tr th {\n",
       "        vertical-align: top;\n",
       "    }\n",
       "\n",
       "    .dataframe thead th {\n",
       "        text-align: right;\n",
       "    }\n",
       "</style>\n",
       "<table border=\"1\" class=\"dataframe\">\n",
       "  <thead>\n",
       "    <tr style=\"text-align: right;\">\n",
       "      <th></th>\n",
       "      <th>Predicted Non-fraudulent</th>\n",
       "      <th>Predicted Fraudulent</th>\n",
       "    </tr>\n",
       "  </thead>\n",
       "  <tbody>\n",
       "    <tr>\n",
       "      <th>True Non-fraudulent</th>\n",
       "      <td>25202</td>\n",
       "      <td>27</td>\n",
       "    </tr>\n",
       "    <tr>\n",
       "      <th>True Fraudulent</th>\n",
       "      <td>25</td>\n",
       "      <td>507</td>\n",
       "    </tr>\n",
       "  </tbody>\n",
       "</table>\n",
       "</div>\n",
       "      <button class=\"colab-df-convert\" onclick=\"convertToInteractive('df-d690c646-6ec3-4441-8491-8e1af35a0dd8')\"\n",
       "              title=\"Convert this dataframe to an interactive table.\"\n",
       "              style=\"display:none;\">\n",
       "        \n",
       "  <svg xmlns=\"http://www.w3.org/2000/svg\" height=\"24px\"viewBox=\"0 0 24 24\"\n",
       "       width=\"24px\">\n",
       "    <path d=\"M0 0h24v24H0V0z\" fill=\"none\"/>\n",
       "    <path d=\"M18.56 5.44l.94 2.06.94-2.06 2.06-.94-2.06-.94-.94-2.06-.94 2.06-2.06.94zm-11 1L8.5 8.5l.94-2.06 2.06-.94-2.06-.94L8.5 2.5l-.94 2.06-2.06.94zm10 10l.94 2.06.94-2.06 2.06-.94-2.06-.94-.94-2.06-.94 2.06-2.06.94z\"/><path d=\"M17.41 7.96l-1.37-1.37c-.4-.4-.92-.59-1.43-.59-.52 0-1.04.2-1.43.59L10.3 9.45l-7.72 7.72c-.78.78-.78 2.05 0 2.83L4 21.41c.39.39.9.59 1.41.59.51 0 1.02-.2 1.41-.59l7.78-7.78 2.81-2.81c.8-.78.8-2.07 0-2.86zM5.41 20L4 18.59l7.72-7.72 1.47 1.35L5.41 20z\"/>\n",
       "  </svg>\n",
       "      </button>\n",
       "      \n",
       "  <style>\n",
       "    .colab-df-container {\n",
       "      display:flex;\n",
       "      flex-wrap:wrap;\n",
       "      gap: 12px;\n",
       "    }\n",
       "\n",
       "    .colab-df-convert {\n",
       "      background-color: #E8F0FE;\n",
       "      border: none;\n",
       "      border-radius: 50%;\n",
       "      cursor: pointer;\n",
       "      display: none;\n",
       "      fill: #1967D2;\n",
       "      height: 32px;\n",
       "      padding: 0 0 0 0;\n",
       "      width: 32px;\n",
       "    }\n",
       "\n",
       "    .colab-df-convert:hover {\n",
       "      background-color: #E2EBFA;\n",
       "      box-shadow: 0px 1px 2px rgba(60, 64, 67, 0.3), 0px 1px 3px 1px rgba(60, 64, 67, 0.15);\n",
       "      fill: #174EA6;\n",
       "    }\n",
       "\n",
       "    [theme=dark] .colab-df-convert {\n",
       "      background-color: #3B4455;\n",
       "      fill: #D2E3FC;\n",
       "    }\n",
       "\n",
       "    [theme=dark] .colab-df-convert:hover {\n",
       "      background-color: #434B5C;\n",
       "      box-shadow: 0px 1px 3px 1px rgba(0, 0, 0, 0.15);\n",
       "      filter: drop-shadow(0px 1px 2px rgba(0, 0, 0, 0.3));\n",
       "      fill: #FFFFFF;\n",
       "    }\n",
       "  </style>\n",
       "\n",
       "      <script>\n",
       "        const buttonEl =\n",
       "          document.querySelector('#df-d690c646-6ec3-4441-8491-8e1af35a0dd8 button.colab-df-convert');\n",
       "        buttonEl.style.display =\n",
       "          google.colab.kernel.accessAllowed ? 'block' : 'none';\n",
       "\n",
       "        async function convertToInteractive(key) {\n",
       "          const element = document.querySelector('#df-d690c646-6ec3-4441-8491-8e1af35a0dd8');\n",
       "          const dataTable =\n",
       "            await google.colab.kernel.invokeFunction('convertToInteractive',\n",
       "                                                     [key], {});\n",
       "          if (!dataTable) return;\n",
       "\n",
       "          const docLinkHtml = 'Like what you see? Visit the ' +\n",
       "            '<a target=\"_blank\" href=https://colab.research.google.com/notebooks/data_table.ipynb>data table notebook</a>'\n",
       "            + ' to learn more about interactive tables.';\n",
       "          element.innerHTML = '';\n",
       "          dataTable['output_type'] = 'display_data';\n",
       "          await google.colab.output.renderOutput(dataTable, element);\n",
       "          const docLink = document.createElement('div');\n",
       "          docLink.innerHTML = docLinkHtml;\n",
       "          element.appendChild(docLink);\n",
       "        }\n",
       "      </script>\n",
       "    </div>\n",
       "  </div>\n",
       "  "
      ],
      "text/plain": [
       "                     Predicted Non-fraudulent  Predicted Fraudulent\n",
       "True Non-fraudulent                     25202                    27\n",
       "True Fraudulent                            25                   507"
      ]
     },
     "metadata": {},
     "output_type": "display_data"
    }
   ],
   "source": [
    "# display the class distribution to see the totals for each class\n",
    "display(y_test.value_counts())\n",
    "\n",
    "# display confusion matrix\n",
    "con_matrix_DT = pd.DataFrame(\n",
    "    data = confusion_matrix(y_test, y_pred_DT),\n",
    "    index = ['True Non-fraudulent', 'True Fraudulent'],\n",
    "    columns = ['Predicted Non-fraudulent', 'Predicted Fraudulent']\n",
    ")\n",
    "display(con_matrix_DT)"
   ]
  },
  {
   "cell_type": "code",
   "execution_count": 80,
   "metadata": {
    "colab": {
     "base_uri": "https://localhost:8080/",
     "height": 282
    },
    "executionInfo": {
     "elapsed": 414,
     "status": "ok",
     "timestamp": 1659845353262,
     "user": {
      "displayName": "Tolu O.",
      "userId": "04888393322604891463"
     },
     "user_tz": 240
    },
    "id": "IBk2iOgqEKNp",
    "outputId": "b6365eba-23eb-4aae-f96c-f845561be84f"
   },
   "outputs": [
    {
     "data": {
      "image/png": "[encoded data removed]",
      "text/plain": [
       "<Figure size 432x288 with 2 Axes>"
      ]
     },
     "metadata": {
      "needs_background": "light"
     },
     "output_type": "display_data"
    }
   ],
   "source": [
    "plot_confusion_matrix(DT_model, X_test, y_test);"
   ]
  },
  {
   "cell_type": "code",
   "execution_count": 81,
   "metadata": {
    "colab": {
     "base_uri": "https://localhost:8080/",
     "height": 295
    },
    "executionInfo": {
     "elapsed": 291,
     "status": "ok",
     "timestamp": 1659845353552,
     "user": {
      "displayName": "Tolu O.",
      "userId": "04888393322604891463"
     },
     "user_tz": 240
    },
    "id": "kqQp-v1wEeQ_",
    "outputId": "6c12d4a8-787e-4959-d6b4-7cd613ddb7fd"
   },
   "outputs": [
    {
     "data": {
      "image/png": "[encoded data removed]",
      "text/plain": [
       "<Figure size 432x288 with 1 Axes>"
      ]
     },
     "metadata": {
      "needs_background": "light"
     },
     "output_type": "display_data"
    }
   ],
   "source": [
    "# probabilistic prediction\n",
    "y_test_proba_DT = DT_model.predict_proba(X_test)[:,1] # probabilities of data points being in the positive class\n",
    "\n",
    "# ROC arrays\n",
    "fprs, tprs, thresholds = roc_curve(y_test, y_test_proba_DT)\n",
    "\n",
    "# AUC\n",
    "roc_auc = roc_auc_score(y_test, y_test_proba_DT)\n",
    "\n",
    "# plot\n",
    "plt.figure()\n",
    "sns.lineplot(fprs, tprs, color='red', lw=2, label=f'ROC (AUC = {roc_auc:0.2f})')\n",
    "sns.lineplot([0, 1], [0, 1], color='black', lw=2, label='random guess') # random guess\n",
    "plt.xlabel('FPR')\n",
    "plt.ylabel('Recall or TPR')\n",
    "plt.title('ROC Curve for Credit Card Fraud Prediction for Decision Tree Model')\n",
    "plt.legend(loc='best')\n",
    "plt.show()"
   ]
  },
  {
   "cell_type": "markdown",
   "metadata": {
    "id": "0a0ajktvSL2a"
   },
   "source": [
    "## Logistic Regression"
   ]
  },
  {
   "cell_type": "code",
   "execution_count": 82,
   "metadata": {
    "colab": {
     "base_uri": "https://localhost:8080/"
    },
    "executionInfo": {
     "elapsed": 4078,
     "status": "ok",
     "timestamp": 1659845357627,
     "user": {
      "displayName": "Tolu O.",
      "userId": "04888393322604891463"
     },
     "user_tz": 240
    },
    "id": "xA4aC9KnSLcp",
    "outputId": "0d46da9b-b193-4d18-99af-0f8c34a6fb3a"
   },
   "outputs": [
    {
     "name": "stdout",
     "output_type": "stream",
     "text": [
      "Train accuracy: 0.9874805900621118\n",
      "Validation accuracy: 0.9868016692006599\n",
      "Test accuracy: 0.9855207484181515\n"
     ]
    }
   ],
   "source": [
    "LR_model = LogisticRegression(random_state=1).fit(X_train_ss, y_train)\n",
    "\n",
    "print(f\"Train accuracy: {LR_model.score(X_train_ss, y_train)}\")\n",
    "print(f\"Validation accuracy: {LR_model.score(X_val_ss, y_val)}\")\n",
    "print(f\"Test accuracy: {LR_model.score(X_test_ss, y_test)}\")"
   ]
  },
  {
   "cell_type": "code",
   "execution_count": 83,
   "metadata": {
    "colab": {
     "base_uri": "https://localhost:8080/"
    },
    "executionInfo": {
     "elapsed": 155,
     "status": "ok",
     "timestamp": 1659845357774,
     "user": {
      "displayName": "Tolu O.",
      "userId": "04888393322604891463"
     },
     "user_tz": 240
    },
    "id": "TlOWH1gFFFwi",
    "outputId": "b3b80f64-306c-47f6-9969-21ea414f4b08"
   },
   "outputs": [
    {
     "name": "stdout",
     "output_type": "stream",
     "text": [
      "              precision    recall  f1-score   support\n",
      "\n",
      "           0       0.99      1.00      0.99     25229\n",
      "           1       0.77      0.43      0.55       532\n",
      "\n",
      "    accuracy                           0.99     25761\n",
      "   macro avg       0.88      0.71      0.77     25761\n",
      "weighted avg       0.98      0.99      0.98     25761\n",
      "\n"
     ]
    }
   ],
   "source": [
    "y_pred_LR = LR_model.predict(X_test_ss)\n",
    "\n",
    "report_LR = classification_report(y_test, y_pred_LR)\n",
    "print(report_LR)"
   ]
  },
  {
   "cell_type": "code",
   "execution_count": 84,
   "metadata": {
    "colab": {
     "base_uri": "https://localhost:8080/",
     "height": 166
    },
    "executionInfo": {
     "elapsed": 4,
     "status": "ok",
     "timestamp": 1659845357774,
     "user": {
      "displayName": "Tolu O.",
      "userId": "04888393322604891463"
     },
     "user_tz": 240
    },
    "id": "PFDYnUv4FFs5",
    "outputId": "dfbd635b-46cc-48fa-b708-c7fa3143dd27"
   },
   "outputs": [
    {
     "data": {
      "text/plain": [
       "0    25229\n",
       "1      532\n",
       "Name: is_fraud, dtype: int64"
      ]
     },
     "metadata": {},
     "output_type": "display_data"
    },
    {
     "data": {
      "text/html": [
       "\n",
       "  <div id=\"df-f4fbdc4c-e6f5-49d3-8667-34f7f6bef8b5\">\n",
       "    <div class=\"colab-df-container\">\n",
       "      <div>\n",
       "<style scoped>\n",
       "    .dataframe tbody tr th:only-of-type {\n",
       "        vertical-align: middle;\n",
       "    }\n",
       "\n",
       "    .dataframe tbody tr th {\n",
       "        vertical-align: top;\n",
       "    }\n",
       "\n",
       "    .dataframe thead th {\n",
       "        text-align: right;\n",
       "    }\n",
       "</style>\n",
       "<table border=\"1\" class=\"dataframe\">\n",
       "  <thead>\n",
       "    <tr style=\"text-align: right;\">\n",
       "      <th></th>\n",
       "      <th>Predicted Non-fraudulent</th>\n",
       "      <th>Predicted Fraudulent</th>\n",
       "    </tr>\n",
       "  </thead>\n",
       "  <tbody>\n",
       "    <tr>\n",
       "      <th>True Non-fraudulent</th>\n",
       "      <td>25159</td>\n",
       "      <td>70</td>\n",
       "    </tr>\n",
       "    <tr>\n",
       "      <th>True Fraudulent</th>\n",
       "      <td>303</td>\n",
       "      <td>229</td>\n",
       "    </tr>\n",
       "  </tbody>\n",
       "</table>\n",
       "</div>\n",
       "      <button class=\"colab-df-convert\" onclick=\"convertToInteractive('df-f4fbdc4c-e6f5-49d3-8667-34f7f6bef8b5')\"\n",
       "              title=\"Convert this dataframe to an interactive table.\"\n",
       "              style=\"display:none;\">\n",
       "        \n",
       "  <svg xmlns=\"http://www.w3.org/2000/svg\" height=\"24px\"viewBox=\"0 0 24 24\"\n",
       "       width=\"24px\">\n",
       "    <path d=\"M0 0h24v24H0V0z\" fill=\"none\"/>\n",
       "    <path d=\"M18.56 5.44l.94 2.06.94-2.06 2.06-.94-2.06-.94-.94-2.06-.94 2.06-2.06.94zm-11 1L8.5 8.5l.94-2.06 2.06-.94-2.06-.94L8.5 2.5l-.94 2.06-2.06.94zm10 10l.94 2.06.94-2.06 2.06-.94-2.06-.94-.94-2.06-.94 2.06-2.06.94z\"/><path d=\"M17.41 7.96l-1.37-1.37c-.4-.4-.92-.59-1.43-.59-.52 0-1.04.2-1.43.59L10.3 9.45l-7.72 7.72c-.78.78-.78 2.05 0 2.83L4 21.41c.39.39.9.59 1.41.59.51 0 1.02-.2 1.41-.59l7.78-7.78 2.81-2.81c.8-.78.8-2.07 0-2.86zM5.41 20L4 18.59l7.72-7.72 1.47 1.35L5.41 20z\"/>\n",
       "  </svg>\n",
       "      </button>\n",
       "      \n",
       "  <style>\n",
       "    .colab-df-container {\n",
       "      display:flex;\n",
       "      flex-wrap:wrap;\n",
       "      gap: 12px;\n",
       "    }\n",
       "\n",
       "    .colab-df-convert {\n",
       "      background-color: #E8F0FE;\n",
       "      border: none;\n",
       "      border-radius: 50%;\n",
       "      cursor: pointer;\n",
       "      display: none;\n",
       "      fill: #1967D2;\n",
       "      height: 32px;\n",
       "      padding: 0 0 0 0;\n",
       "      width: 32px;\n",
       "    }\n",
       "\n",
       "    .colab-df-convert:hover {\n",
       "      background-color: #E2EBFA;\n",
       "      box-shadow: 0px 1px 2px rgba(60, 64, 67, 0.3), 0px 1px 3px 1px rgba(60, 64, 67, 0.15);\n",
       "      fill: #174EA6;\n",
       "    }\n",
       "\n",
       "    [theme=dark] .colab-df-convert {\n",
       "      background-color: #3B4455;\n",
       "      fill: #D2E3FC;\n",
       "    }\n",
       "\n",
       "    [theme=dark] .colab-df-convert:hover {\n",
       "      background-color: #434B5C;\n",
       "      box-shadow: 0px 1px 3px 1px rgba(0, 0, 0, 0.15);\n",
       "      filter: drop-shadow(0px 1px 2px rgba(0, 0, 0, 0.3));\n",
       "      fill: #FFFFFF;\n",
       "    }\n",
       "  </style>\n",
       "\n",
       "      <script>\n",
       "        const buttonEl =\n",
       "          document.querySelector('#df-f4fbdc4c-e6f5-49d3-8667-34f7f6bef8b5 button.colab-df-convert');\n",
       "        buttonEl.style.display =\n",
       "          google.colab.kernel.accessAllowed ? 'block' : 'none';\n",
       "\n",
       "        async function convertToInteractive(key) {\n",
       "          const element = document.querySelector('#df-f4fbdc4c-e6f5-49d3-8667-34f7f6bef8b5');\n",
       "          const dataTable =\n",
       "            await google.colab.kernel.invokeFunction('convertToInteractive',\n",
       "                                                     [key], {});\n",
       "          if (!dataTable) return;\n",
       "\n",
       "          const docLinkHtml = 'Like what you see? Visit the ' +\n",
       "            '<a target=\"_blank\" href=https://colab.research.google.com/notebooks/data_table.ipynb>data table notebook</a>'\n",
       "            + ' to learn more about interactive tables.';\n",
       "          element.innerHTML = '';\n",
       "          dataTable['output_type'] = 'display_data';\n",
       "          await google.colab.output.renderOutput(dataTable, element);\n",
       "          const docLink = document.createElement('div');\n",
       "          docLink.innerHTML = docLinkHtml;\n",
       "          element.appendChild(docLink);\n",
       "        }\n",
       "      </script>\n",
       "    </div>\n",
       "  </div>\n",
       "  "
      ],
      "text/plain": [
       "                     Predicted Non-fraudulent  Predicted Fraudulent\n",
       "True Non-fraudulent                     25159                    70\n",
       "True Fraudulent                           303                   229"
      ]
     },
     "metadata": {},
     "output_type": "display_data"
    }
   ],
   "source": [
    "display(y_test.value_counts())\n",
    "\n",
    "# confusion matrix\n",
    "con_matrix_LR = pd.DataFrame(\n",
    "    data = confusion_matrix(y_test, y_pred_LR),\n",
    "    index = ['True Non-fraudulent', 'True Fraudulent'],\n",
    "    columns = ['Predicted Non-fraudulent', 'Predicted Fraudulent']\n",
    ")\n",
    "display(con_matrix_LR)"
   ]
  },
  {
   "cell_type": "code",
   "execution_count": 85,
   "metadata": {
    "colab": {
     "base_uri": "https://localhost:8080/",
     "height": 282
    },
    "executionInfo": {
     "elapsed": 301,
     "status": "ok",
     "timestamp": 1659845358072,
     "user": {
      "displayName": "Tolu O.",
      "userId": "04888393322604891463"
     },
     "user_tz": 240
    },
    "id": "QqfOGsClFFpA",
    "outputId": "bd598397-d2d3-4a15-c2b1-9e0a8138eb54"
   },
   "outputs": [
    {
     "data": {
      "image/png": "[encoded data removed]",
      "text/plain": [
       "<Figure size 432x288 with 2 Axes>"
      ]
     },
     "metadata": {
      "needs_background": "light"
     },
     "output_type": "display_data"
    }
   ],
   "source": [
    "plot_confusion_matrix(LR_model, X_test_ss, y_test);"
   ]
  },
  {
   "cell_type": "code",
   "execution_count": 86,
   "metadata": {
    "colab": {
     "base_uri": "https://localhost:8080/",
     "height": 295
    },
    "executionInfo": {
     "elapsed": 6500,
     "status": "ok",
     "timestamp": 1659845364570,
     "user": {
      "displayName": "Tolu O.",
      "userId": "04888393322604891463"
     },
     "user_tz": 240
    },
    "id": "fQKoGq0PFZwC",
    "outputId": "6ef0339b-ffed-40d0-eb2b-db5636fca6a3"
   },
   "outputs": [
    {
     "data": {
      "image/png": "[encoded data removed]",
      "text/plain": [
       "<Figure size 432x288 with 1 Axes>"
      ]
     },
     "metadata": {
      "needs_background": "light"
     },
     "output_type": "display_data"
    }
   ],
   "source": [
    "# probabilistic prediction\n",
    "y_test_proba_LR = LR_model.predict_proba(X_test_ss)[:,1] # probabilities of data points being in the positive class\n",
    "\n",
    "# ROC arrays\n",
    "fprs, tprs, thresholds = roc_curve(y_test, y_test_proba_LR)\n",
    "\n",
    "# AUC\n",
    "roc_auc = roc_auc_score(y_test, y_test_proba_LR)\n",
    "\n",
    "# plot\n",
    "plt.figure()\n",
    "sns.lineplot(fprs, tprs, color='red', lw=2, label=f'ROC (AUC = {roc_auc:0.2f})')\n",
    "sns.lineplot([0, 1], [0, 1], color='black', lw=2, label='random guess') # random guess\n",
    "plt.xlabel('FPR')\n",
    "plt.ylabel('Recall or TPR')\n",
    "plt.title('ROC Curve for Credit Card Fraud Prediction for Logistic Model')\n",
    "plt.legend(loc='best')\n",
    "plt.show()"
   ]
  },
  {
   "cell_type": "markdown",
   "metadata": {
    "id": "MgUVItiNSOqo"
   },
   "source": [
    "## Random Forest"
   ]
  },
  {
   "cell_type": "code",
   "execution_count": 87,
   "metadata": {
    "colab": {
     "base_uri": "https://localhost:8080/"
    },
    "executionInfo": {
     "elapsed": 40162,
     "status": "ok",
     "timestamp": 1659845404728,
     "user": {
      "displayName": "Tolu O.",
      "userId": "04888393322604891463"
     },
     "user_tz": 240
    },
    "id": "Lww0Li4XSQ5j",
    "outputId": "ee128d3e-7973-42dc-bf46-bef68257680c"
   },
   "outputs": [
    {
     "name": "stdout",
     "output_type": "stream",
     "text": [
      "Number of Trees in the Forest: 100\n",
      "Train accuracy: 1.0\n",
      "Validation accuracy: 0.9964416265001779\n",
      "Test accuracy: 0.995846434532821\n"
     ]
    }
   ],
   "source": [
    "RF_model = RandomForestClassifier(random_state=1).fit(X_train_ss, y_train)\n",
    "\n",
    "print(f\"Number of Trees in the Forest: {RF_model.n_estimators}\")\n",
    "print(f\"Train accuracy: {RF_model.score(X_train_ss, y_train)}\")\n",
    "print(f\"Validation accuracy: {RF_model.score(X_val_ss, y_val)}\")\n",
    "print(f\"Test accuracy: {RF_model.score(X_test_ss, y_test)}\")"
   ]
  },
  {
   "cell_type": "code",
   "execution_count": 88,
   "metadata": {
    "colab": {
     "base_uri": "https://localhost:8080/"
    },
    "executionInfo": {
     "elapsed": 981,
     "status": "ok",
     "timestamp": 1659845405687,
     "user": {
      "displayName": "Tolu O.",
      "userId": "04888393322604891463"
     },
     "user_tz": 240
    },
    "id": "hzqR9WnrFxKI",
    "outputId": "7aba8414-7ab4-4491-b07e-017b6581271f"
   },
   "outputs": [
    {
     "name": "stdout",
     "output_type": "stream",
     "text": [
      "              precision    recall  f1-score   support\n",
      "\n",
      "           0       1.00      1.00      1.00     25229\n",
      "           1       0.99      0.81      0.89       532\n",
      "\n",
      "    accuracy                           1.00     25761\n",
      "   macro avg       0.99      0.90      0.94     25761\n",
      "weighted avg       1.00      1.00      1.00     25761\n",
      "\n"
     ]
    }
   ],
   "source": [
    "y_pred_RF = RF_model.predict(X_test_ss)\n",
    "\n",
    "report_RF = classification_report(y_test, y_pred_RF)\n",
    "print(report_RF)"
   ]
  },
  {
   "cell_type": "code",
   "execution_count": 89,
   "metadata": {
    "colab": {
     "base_uri": "https://localhost:8080/",
     "height": 166
    },
    "executionInfo": {
     "elapsed": 11,
     "status": "ok",
     "timestamp": 1659845405689,
     "user": {
      "displayName": "Tolu O.",
      "userId": "04888393322604891463"
     },
     "user_tz": 240
    },
    "id": "_r_470BaFxHi",
    "outputId": "e61aeca8-3706-48c9-9147-5ba68175b2d3"
   },
   "outputs": [
    {
     "data": {
      "text/plain": [
       "0    25229\n",
       "1      532\n",
       "Name: is_fraud, dtype: int64"
      ]
     },
     "metadata": {},
     "output_type": "display_data"
    },
    {
     "data": {
      "text/html": [
       "\n",
       "  <div id=\"df-f8ee50b4-b416-432d-9187-fc8cd7d17b2d\">\n",
       "    <div class=\"colab-df-container\">\n",
       "      <div>\n",
       "<style scoped>\n",
       "    .dataframe tbody tr th:only-of-type {\n",
       "        vertical-align: middle;\n",
       "    }\n",
       "\n",
       "    .dataframe tbody tr th {\n",
       "        vertical-align: top;\n",
       "    }\n",
       "\n",
       "    .dataframe thead th {\n",
       "        text-align: right;\n",
       "    }\n",
       "</style>\n",
       "<table border=\"1\" class=\"dataframe\">\n",
       "  <thead>\n",
       "    <tr style=\"text-align: right;\">\n",
       "      <th></th>\n",
       "      <th>Predicted Non-fraudulent</th>\n",
       "      <th>Predicted Fraudulent</th>\n",
       "    </tr>\n",
       "  </thead>\n",
       "  <tbody>\n",
       "    <tr>\n",
       "      <th>True Non-fraudulent</th>\n",
       "      <td>25225</td>\n",
       "      <td>4</td>\n",
       "    </tr>\n",
       "    <tr>\n",
       "      <th>True Fraudulent</th>\n",
       "      <td>103</td>\n",
       "      <td>429</td>\n",
       "    </tr>\n",
       "  </tbody>\n",
       "</table>\n",
       "</div>\n",
       "      <button class=\"colab-df-convert\" onclick=\"convertToInteractive('df-f8ee50b4-b416-432d-9187-fc8cd7d17b2d')\"\n",
       "              title=\"Convert this dataframe to an interactive table.\"\n",
       "              style=\"display:none;\">\n",
       "        \n",
       "  <svg xmlns=\"http://www.w3.org/2000/svg\" height=\"24px\"viewBox=\"0 0 24 24\"\n",
       "       width=\"24px\">\n",
       "    <path d=\"M0 0h24v24H0V0z\" fill=\"none\"/>\n",
       "    <path d=\"M18.56 5.44l.94 2.06.94-2.06 2.06-.94-2.06-.94-.94-2.06-.94 2.06-2.06.94zm-11 1L8.5 8.5l.94-2.06 2.06-.94-2.06-.94L8.5 2.5l-.94 2.06-2.06.94zm10 10l.94 2.06.94-2.06 2.06-.94-2.06-.94-.94-2.06-.94 2.06-2.06.94z\"/><path d=\"M17.41 7.96l-1.37-1.37c-.4-.4-.92-.59-1.43-.59-.52 0-1.04.2-1.43.59L10.3 9.45l-7.72 7.72c-.78.78-.78 2.05 0 2.83L4 21.41c.39.39.9.59 1.41.59.51 0 1.02-.2 1.41-.59l7.78-7.78 2.81-2.81c.8-.78.8-2.07 0-2.86zM5.41 20L4 18.59l7.72-7.72 1.47 1.35L5.41 20z\"/>\n",
       "  </svg>\n",
       "      </button>\n",
       "      \n",
       "  <style>\n",
       "    .colab-df-container {\n",
       "      display:flex;\n",
       "      flex-wrap:wrap;\n",
       "      gap: 12px;\n",
       "    }\n",
       "\n",
       "    .colab-df-convert {\n",
       "      background-color: #E8F0FE;\n",
       "      border: none;\n",
       "      border-radius: 50%;\n",
       "      cursor: pointer;\n",
       "      display: none;\n",
       "      fill: #1967D2;\n",
       "      height: 32px;\n",
       "      padding: 0 0 0 0;\n",
       "      width: 32px;\n",
       "    }\n",
       "\n",
       "    .colab-df-convert:hover {\n",
       "      background-color: #E2EBFA;\n",
       "      box-shadow: 0px 1px 2px rgba(60, 64, 67, 0.3), 0px 1px 3px 1px rgba(60, 64, 67, 0.15);\n",
       "      fill: #174EA6;\n",
       "    }\n",
       "\n",
       "    [theme=dark] .colab-df-convert {\n",
       "      background-color: #3B4455;\n",
       "      fill: #D2E3FC;\n",
       "    }\n",
       "\n",
       "    [theme=dark] .colab-df-convert:hover {\n",
       "      background-color: #434B5C;\n",
       "      box-shadow: 0px 1px 3px 1px rgba(0, 0, 0, 0.15);\n",
       "      filter: drop-shadow(0px 1px 2px rgba(0, 0, 0, 0.3));\n",
       "      fill: #FFFFFF;\n",
       "    }\n",
       "  </style>\n",
       "\n",
       "      <script>\n",
       "        const buttonEl =\n",
       "          document.querySelector('#df-f8ee50b4-b416-432d-9187-fc8cd7d17b2d button.colab-df-convert');\n",
       "        buttonEl.style.display =\n",
       "          google.colab.kernel.accessAllowed ? 'block' : 'none';\n",
       "\n",
       "        async function convertToInteractive(key) {\n",
       "          const element = document.querySelector('#df-f8ee50b4-b416-432d-9187-fc8cd7d17b2d');\n",
       "          const dataTable =\n",
       "            await google.colab.kernel.invokeFunction('convertToInteractive',\n",
       "                                                     [key], {});\n",
       "          if (!dataTable) return;\n",
       "\n",
       "          const docLinkHtml = 'Like what you see? Visit the ' +\n",
       "            '<a target=\"_blank\" href=https://colab.research.google.com/notebooks/data_table.ipynb>data table notebook</a>'\n",
       "            + ' to learn more about interactive tables.';\n",
       "          element.innerHTML = '';\n",
       "          dataTable['output_type'] = 'display_data';\n",
       "          await google.colab.output.renderOutput(dataTable, element);\n",
       "          const docLink = document.createElement('div');\n",
       "          docLink.innerHTML = docLinkHtml;\n",
       "          element.appendChild(docLink);\n",
       "        }\n",
       "      </script>\n",
       "    </div>\n",
       "  </div>\n",
       "  "
      ],
      "text/plain": [
       "                     Predicted Non-fraudulent  Predicted Fraudulent\n",
       "True Non-fraudulent                     25225                     4\n",
       "True Fraudulent                           103                   429"
      ]
     },
     "metadata": {},
     "output_type": "display_data"
    }
   ],
   "source": [
    "display(y_test.value_counts())\n",
    "\n",
    "# confusion matrix\n",
    "con_matrix_RF = pd.DataFrame(\n",
    "    data = confusion_matrix(y_test, y_pred_RF),\n",
    "    index = ['True Non-fraudulent', 'True Fraudulent'],\n",
    "    columns = ['Predicted Non-fraudulent', 'Predicted Fraudulent']\n",
    ")\n",
    "display(con_matrix_RF)"
   ]
  },
  {
   "cell_type": "code",
   "execution_count": 90,
   "metadata": {
    "colab": {
     "base_uri": "https://localhost:8080/",
     "height": 281
    },
    "executionInfo": {
     "elapsed": 1004,
     "status": "ok",
     "timestamp": 1659845406684,
     "user": {
      "displayName": "Tolu O.",
      "userId": "04888393322604891463"
     },
     "user_tz": 240
    },
    "id": "WzHcx9KhFxFA",
    "outputId": "b7d6c4b6-8ab2-4082-e80a-ae3be9db5036"
   },
   "outputs": [
    {
     "data": {
      "image/png": "[encoded data removed]",
      "text/plain": [
       "<Figure size 432x288 with 2 Axes>"
      ]
     },
     "metadata": {
      "needs_background": "light"
     },
     "output_type": "display_data"
    }
   ],
   "source": [
    "plot_confusion_matrix(RF_model, X_test_ss, y_test);"
   ]
  },
  {
   "cell_type": "code",
   "execution_count": 91,
   "metadata": {
    "colab": {
     "base_uri": "https://localhost:8080/",
     "height": 295
    },
    "executionInfo": {
     "elapsed": 1297,
     "status": "ok",
     "timestamp": 1659845407977,
     "user": {
      "displayName": "Tolu O.",
      "userId": "04888393322604891463"
     },
     "user_tz": 240
    },
    "id": "JB6-2TW6FxCV",
    "outputId": "df412758-9b38-49f1-b736-ce6f8c135455"
   },
   "outputs": [
    {
     "data": {
      "image/png": "[encoded data removed]",
      "text/plain": [
       "<Figure size 432x288 with 1 Axes>"
      ]
     },
     "metadata": {
      "needs_background": "light"
     },
     "output_type": "display_data"
    }
   ],
   "source": [
    "# probabilistic prediction\n",
    "y_test_proba_RF = RF_model.predict_proba(X_test_ss)[:,1] # probabilities of data points being in the positive class\n",
    "\n",
    "# ROC arrays\n",
    "fprs, tprs, thresholds = roc_curve(y_test, y_test_proba_RF)\n",
    "\n",
    "# AUC\n",
    "roc_auc = roc_auc_score(y_test, y_test_proba_RF)\n",
    "\n",
    "# plot\n",
    "plt.figure()\n",
    "sns.lineplot(fprs, tprs, color='red', lw=2, label=f'ROC (AUC = {roc_auc:0.2f})')\n",
    "sns.lineplot([0, 1], [0, 1], color='black', lw=2, label='random guess') # random guess\n",
    "plt.xlabel('FPR')\n",
    "plt.ylabel('Recall or TPR')\n",
    "plt.title('ROC Curve for Credit Card Fraud Prediction for Random Forest Model')\n",
    "plt.legend(loc='best')\n",
    "plt.show()"
   ]
  },
  {
   "cell_type": "markdown",
   "metadata": {
    "id": "sxTR9x_7SRwi"
   },
   "source": [
    "## XGBoost"
   ]
  },
  {
   "cell_type": "markdown",
   "metadata": {
    "id": "JOysuJdeHps-"
   },
   "source": [
    "### Original Class Distribution"
   ]
  },
  {
   "cell_type": "code",
   "execution_count": 92,
   "metadata": {
    "colab": {
     "base_uri": "https://localhost:8080/"
    },
    "executionInfo": {
     "elapsed": 116614,
     "status": "ok",
     "timestamp": 1659845524582,
     "user": {
      "displayName": "Tolu O.",
      "userId": "04888393322604891463"
     },
     "user_tz": 240
    },
    "id": "SgiquISJSTBu",
    "outputId": "1f857790-fe33-4227-ddee-54345d4504f8"
   },
   "outputs": [
    {
     "name": "stdout",
     "output_type": "stream",
     "text": [
      "Train accuracy: 0.9987660825199645\n",
      "Validation accuracy: 0.9984796040500761\n",
      "Test accuracy: 0.9982919917705058\n"
     ]
    }
   ],
   "source": [
    "XGB_model = XGBClassifier().fit(X_train, y_train)\n",
    "\n",
    "print(f\"Train accuracy: {XGB_model.score(X_train, y_train)}\")\n",
    "print(f\"Validation accuracy: {XGB_model.score(X_val, y_val)}\")\n",
    "print(f\"Test accuracy: {XGB_model.score(X_test, y_test)}\")"
   ]
  },
  {
   "cell_type": "code",
   "execution_count": 93,
   "metadata": {
    "colab": {
     "base_uri": "https://localhost:8080/"
    },
    "executionInfo": {
     "elapsed": 437,
     "status": "ok",
     "timestamp": 1659845524997,
     "user": {
      "displayName": "Tolu O.",
      "userId": "04888393322604891463"
     },
     "user_tz": 240
    },
    "id": "YxbOBVh9HxoW",
    "outputId": "c8d51d5e-02ff-46c5-8f17-d318ea329c42"
   },
   "outputs": [
    {
     "name": "stdout",
     "output_type": "stream",
     "text": [
      "              precision    recall  f1-score   support\n",
      "\n",
      "           0       1.00      1.00      1.00     25229\n",
      "           1       0.96      0.96      0.96       532\n",
      "\n",
      "    accuracy                           1.00     25761\n",
      "   macro avg       0.98      0.98      0.98     25761\n",
      "weighted avg       1.00      1.00      1.00     25761\n",
      "\n"
     ]
    }
   ],
   "source": [
    "y_pred_XGB = XGB_model.predict(X_test)\n",
    "\n",
    "report_XGB = classification_report(y_test, y_pred_XGB)\n",
    "print(report_XGB)"
   ]
  },
  {
   "cell_type": "code",
   "execution_count": 94,
   "metadata": {
    "colab": {
     "base_uri": "https://localhost:8080/",
     "height": 166
    },
    "executionInfo": {
     "elapsed": 7,
     "status": "ok",
     "timestamp": 1659845524998,
     "user": {
      "displayName": "Tolu O.",
      "userId": "04888393322604891463"
     },
     "user_tz": 240
    },
    "id": "81CcJtJxPwoK",
    "outputId": "99044d60-a262-4440-b74f-e88e4053035b"
   },
   "outputs": [
    {
     "data": {
      "text/plain": [
       "0    25229\n",
       "1      532\n",
       "Name: is_fraud, dtype: int64"
      ]
     },
     "metadata": {},
     "output_type": "display_data"
    },
    {
     "data": {
      "text/html": [
       "\n",
       "  <div id=\"df-4c14557f-d114-44af-b9d7-6efe3552276d\">\n",
       "    <div class=\"colab-df-container\">\n",
       "      <div>\n",
       "<style scoped>\n",
       "    .dataframe tbody tr th:only-of-type {\n",
       "        vertical-align: middle;\n",
       "    }\n",
       "\n",
       "    .dataframe tbody tr th {\n",
       "        vertical-align: top;\n",
       "    }\n",
       "\n",
       "    .dataframe thead th {\n",
       "        text-align: right;\n",
       "    }\n",
       "</style>\n",
       "<table border=\"1\" class=\"dataframe\">\n",
       "  <thead>\n",
       "    <tr style=\"text-align: right;\">\n",
       "      <th></th>\n",
       "      <th>Predicted Non-fraudulent</th>\n",
       "      <th>Predicted Fraudulent</th>\n",
       "    </tr>\n",
       "  </thead>\n",
       "  <tbody>\n",
       "    <tr>\n",
       "      <th>True Non-fraudulent</th>\n",
       "      <td>25208</td>\n",
       "      <td>21</td>\n",
       "    </tr>\n",
       "    <tr>\n",
       "      <th>True Fraudulent</th>\n",
       "      <td>23</td>\n",
       "      <td>509</td>\n",
       "    </tr>\n",
       "  </tbody>\n",
       "</table>\n",
       "</div>\n",
       "      <button class=\"colab-df-convert\" onclick=\"convertToInteractive('df-4c14557f-d114-44af-b9d7-6efe3552276d')\"\n",
       "              title=\"Convert this dataframe to an interactive table.\"\n",
       "              style=\"display:none;\">\n",
       "        \n",
       "  <svg xmlns=\"http://www.w3.org/2000/svg\" height=\"24px\"viewBox=\"0 0 24 24\"\n",
       "       width=\"24px\">\n",
       "    <path d=\"M0 0h24v24H0V0z\" fill=\"none\"/>\n",
       "    <path d=\"M18.56 5.44l.94 2.06.94-2.06 2.06-.94-2.06-.94-.94-2.06-.94 2.06-2.06.94zm-11 1L8.5 8.5l.94-2.06 2.06-.94-2.06-.94L8.5 2.5l-.94 2.06-2.06.94zm10 10l.94 2.06.94-2.06 2.06-.94-2.06-.94-.94-2.06-.94 2.06-2.06.94z\"/><path d=\"M17.41 7.96l-1.37-1.37c-.4-.4-.92-.59-1.43-.59-.52 0-1.04.2-1.43.59L10.3 9.45l-7.72 7.72c-.78.78-.78 2.05 0 2.83L4 21.41c.39.39.9.59 1.41.59.51 0 1.02-.2 1.41-.59l7.78-7.78 2.81-2.81c.8-.78.8-2.07 0-2.86zM5.41 20L4 18.59l7.72-7.72 1.47 1.35L5.41 20z\"/>\n",
       "  </svg>\n",
       "      </button>\n",
       "      \n",
       "  <style>\n",
       "    .colab-df-container {\n",
       "      display:flex;\n",
       "      flex-wrap:wrap;\n",
       "      gap: 12px;\n",
       "    }\n",
       "\n",
       "    .colab-df-convert {\n",
       "      background-color: #E8F0FE;\n",
       "      border: none;\n",
       "      border-radius: 50%;\n",
       "      cursor: pointer;\n",
       "      display: none;\n",
       "      fill: #1967D2;\n",
       "      height: 32px;\n",
       "      padding: 0 0 0 0;\n",
       "      width: 32px;\n",
       "    }\n",
       "\n",
       "    .colab-df-convert:hover {\n",
       "      background-color: #E2EBFA;\n",
       "      box-shadow: 0px 1px 2px rgba(60, 64, 67, 0.3), 0px 1px 3px 1px rgba(60, 64, 67, 0.15);\n",
       "      fill: #174EA6;\n",
       "    }\n",
       "\n",
       "    [theme=dark] .colab-df-convert {\n",
       "      background-color: #3B4455;\n",
       "      fill: #D2E3FC;\n",
       "    }\n",
       "\n",
       "    [theme=dark] .colab-df-convert:hover {\n",
       "      background-color: #434B5C;\n",
       "      box-shadow: 0px 1px 3px 1px rgba(0, 0, 0, 0.15);\n",
       "      filter: drop-shadow(0px 1px 2px rgba(0, 0, 0, 0.3));\n",
       "      fill: #FFFFFF;\n",
       "    }\n",
       "  </style>\n",
       "\n",
       "      <script>\n",
       "        const buttonEl =\n",
       "          document.querySelector('#df-4c14557f-d114-44af-b9d7-6efe3552276d button.colab-df-convert');\n",
       "        buttonEl.style.display =\n",
       "          google.colab.kernel.accessAllowed ? 'block' : 'none';\n",
       "\n",
       "        async function convertToInteractive(key) {\n",
       "          const element = document.querySelector('#df-4c14557f-d114-44af-b9d7-6efe3552276d');\n",
       "          const dataTable =\n",
       "            await google.colab.kernel.invokeFunction('convertToInteractive',\n",
       "                                                     [key], {});\n",
       "          if (!dataTable) return;\n",
       "\n",
       "          const docLinkHtml = 'Like what you see? Visit the ' +\n",
       "            '<a target=\"_blank\" href=https://colab.research.google.com/notebooks/data_table.ipynb>data table notebook</a>'\n",
       "            + ' to learn more about interactive tables.';\n",
       "          element.innerHTML = '';\n",
       "          dataTable['output_type'] = 'display_data';\n",
       "          await google.colab.output.renderOutput(dataTable, element);\n",
       "          const docLink = document.createElement('div');\n",
       "          docLink.innerHTML = docLinkHtml;\n",
       "          element.appendChild(docLink);\n",
       "        }\n",
       "      </script>\n",
       "    </div>\n",
       "  </div>\n",
       "  "
      ],
      "text/plain": [
       "                     Predicted Non-fraudulent  Predicted Fraudulent\n",
       "True Non-fraudulent                     25208                    21\n",
       "True Fraudulent                            23                   509"
      ]
     },
     "metadata": {},
     "output_type": "display_data"
    }
   ],
   "source": [
    "display(y_test.value_counts())\n",
    "\n",
    "# confusion matrix\n",
    "con_matrix_XGB = pd.DataFrame(\n",
    "    data = confusion_matrix(y_test, y_pred_XGB),\n",
    "    index = ['True Non-fraudulent', 'True Fraudulent'],\n",
    "    columns = ['Predicted Non-fraudulent', 'Predicted Fraudulent']\n",
    ")\n",
    "display(con_matrix_XGB)"
   ]
  },
  {
   "cell_type": "code",
   "execution_count": 95,
   "metadata": {
    "colab": {
     "base_uri": "https://localhost:8080/",
     "height": 282
    },
    "executionInfo": {
     "elapsed": 521,
     "status": "ok",
     "timestamp": 1659845525514,
     "user": {
      "displayName": "Tolu O.",
      "userId": "04888393322604891463"
     },
     "user_tz": 240
    },
    "id": "HNj1a9xdP5rB",
    "outputId": "c568b5d7-0360-4afa-e932-b3bd94591e0a"
   },
   "outputs": [
    {
     "data": {
      "image/png": "[encoded data removed]",
      "text/plain": [
       "<Figure size 432x288 with 2 Axes>"
      ]
     },
     "metadata": {
      "needs_background": "light"
     },
     "output_type": "display_data"
    }
   ],
   "source": [
    "plot_confusion_matrix(XGB_model, X_test, y_test);"
   ]
  },
  {
   "cell_type": "code",
   "execution_count": 96,
   "metadata": {
    "colab": {
     "base_uri": "https://localhost:8080/",
     "height": 295
    },
    "executionInfo": {
     "elapsed": 1574,
     "status": "ok",
     "timestamp": 1659845527084,
     "user": {
      "displayName": "Tolu O.",
      "userId": "04888393322604891463"
     },
     "user_tz": 240
    },
    "id": "DB7grf7bP5no",
    "outputId": "29ba92ff-8633-4236-9cb1-e2998643859f"
   },
   "outputs": [
    {
     "data": {
      "image/png": "[encoded data removed]",
      "text/plain": [
       "<Figure size 432x288 with 1 Axes>"
      ]
     },
     "metadata": {
      "needs_background": "light"
     },
     "output_type": "display_data"
    }
   ],
   "source": [
    "# probabilistic prediction\n",
    "y_test_proba_XGB = XGB_model.predict_proba(X_test)[:,1] # probabilities of data points being in the positive class\n",
    "\n",
    "# ROC arrays\n",
    "fprs, tprs, thresholds = roc_curve(y_test, y_test_proba_XGB)\n",
    "\n",
    "# AUC\n",
    "roc_auc = roc_auc_score(y_test, y_test_proba_XGB)\n",
    "\n",
    "# plot\n",
    "plt.figure()\n",
    "sns.lineplot(fprs, tprs, color='red', lw=2, label=f'ROC (AUC = {roc_auc:0.2f})')\n",
    "sns.lineplot([0, 1], [0, 1], color='black', lw=2, label='random guess') # random guess\n",
    "plt.xlabel('FPR')\n",
    "plt.ylabel('Recall or TPR')\n",
    "plt.title('ROC Curve for Credit Card Fraud Prediction using XGBoost Model')\n",
    "plt.legend(loc='best')\n",
    "plt.show()"
   ]
  },
  {
   "cell_type": "markdown",
   "metadata": {
    "id": "wXgJ5ATO14uF"
   },
   "source": [
    "### Downsampled Data"
   ]
  },
  {
   "cell_type": "code",
   "execution_count": 97,
   "metadata": {
    "colab": {
     "base_uri": "https://localhost:8080/",
     "height": 178
    },
    "executionInfo": {
     "elapsed": 10,
     "status": "ok",
     "timestamp": 1659845527085,
     "user": {
      "displayName": "Tolu O.",
      "userId": "04888393322604891463"
     },
     "user_tz": 240
    },
    "id": "vI_qTPkLP5kA",
    "outputId": "3681b12b-6aa3-48f9-aa78-5f2e71da0e70"
   },
   "outputs": [
    {
     "name": "stdout",
     "output_type": "stream",
     "text": [
      "Original class distribution\n"
     ]
    },
    {
     "data": {
      "text/plain": [
       "0    70638\n",
       "1     1490\n",
       "Name: is_fraud, dtype: int64"
      ]
     },
     "metadata": {},
     "output_type": "display_data"
    },
    {
     "name": "stdout",
     "output_type": "stream",
     "text": [
      "\n",
      "Resampled class distribution (Downsampled)\n"
     ]
    },
    {
     "data": {
      "text/plain": [
       "0    1490\n",
       "1    1490\n",
       "dtype: int64"
      ]
     },
     "metadata": {},
     "output_type": "display_data"
    }
   ],
   "source": [
    "print('Original class distribution')\n",
    "display(pd.Series(y_train).value_counts().sort_index())\n",
    "\n",
    "print('\\nResampled class distribution (Downsampled)')\n",
    "display(pd.Series(y_down).value_counts().sort_index())"
   ]
  },
  {
   "cell_type": "code",
   "execution_count": 98,
   "metadata": {
    "colab": {
     "base_uri": "https://localhost:8080/"
    },
    "executionInfo": {
     "elapsed": 5672,
     "status": "ok",
     "timestamp": 1659845532750,
     "user": {
      "displayName": "Tolu O.",
      "userId": "04888393322604891463"
     },
     "user_tz": 240
    },
    "id": "8d6Bkn892Q1s",
    "outputId": "1d22bdd0-a6af-43f8-baae-daae5f381cb4"
   },
   "outputs": [
    {
     "name": "stdout",
     "output_type": "stream",
     "text": [
      "Train Accuracy: 0.998993288590604\n",
      "Validation Accuracy: 0.9930126484003494\n",
      "Test Accuracy: 0.9915764139590855\n"
     ]
    }
   ],
   "source": [
    "XGB_model_down = XGBClassifier().fit(X_down, y_down)\n",
    "\n",
    "print(f\"Train Accuracy: {XGB_model_down.score(X_down, y_down)}\")\n",
    "print(f\"Validation Accuracy: {XGB_model_down.score(X_val.values, y_val)}\")\n",
    "print(f\"Test Accuracy: {XGB_model_down.score(X_test.values, y_test)}\")"
   ]
  },
  {
   "cell_type": "code",
   "execution_count": 99,
   "metadata": {
    "colab": {
     "base_uri": "https://localhost:8080/"
    },
    "executionInfo": {
     "elapsed": 481,
     "status": "ok",
     "timestamp": 1659845533210,
     "user": {
      "displayName": "Tolu O.",
      "userId": "04888393322604891463"
     },
     "user_tz": 240
    },
    "id": "czcD179l2Qyh",
    "outputId": "0b98ea08-2fec-40da-9fd2-069d73292e02"
   },
   "outputs": [
    {
     "name": "stdout",
     "output_type": "stream",
     "text": [
      "              precision    recall  f1-score   support\n",
      "\n",
      "           0       1.00      0.99      1.00     25229\n",
      "           1       0.71      1.00      0.83       532\n",
      "\n",
      "    accuracy                           0.99     25761\n",
      "   macro avg       0.86      0.99      0.91     25761\n",
      "weighted avg       0.99      0.99      0.99     25761\n",
      "\n"
     ]
    }
   ],
   "source": [
    "y_pred_down = XGB_model_down.predict(X_test.values)\n",
    "\n",
    "report_downsampled = classification_report(y_test, y_pred_down)\n",
    "print(report_downsampled)"
   ]
  },
  {
   "cell_type": "code",
   "execution_count": 100,
   "metadata": {
    "colab": {
     "base_uri": "https://localhost:8080/",
     "height": 166
    },
    "executionInfo": {
     "elapsed": 5,
     "status": "ok",
     "timestamp": 1659845533210,
     "user": {
      "displayName": "Tolu O.",
      "userId": "04888393322604891463"
     },
     "user_tz": 240
    },
    "id": "zc0n1EIu2Qu6",
    "outputId": "575a6de8-9450-4a77-8832-1e807141bc33"
   },
   "outputs": [
    {
     "data": {
      "text/plain": [
       "0    30275\n",
       "1      638\n",
       "Name: is_fraud, dtype: int64"
      ]
     },
     "metadata": {},
     "output_type": "display_data"
    },
    {
     "data": {
      "text/html": [
       "\n",
       "  <div id=\"df-da029835-a59f-4309-8376-96b9f41445d0\">\n",
       "    <div class=\"colab-df-container\">\n",
       "      <div>\n",
       "<style scoped>\n",
       "    .dataframe tbody tr th:only-of-type {\n",
       "        vertical-align: middle;\n",
       "    }\n",
       "\n",
       "    .dataframe tbody tr th {\n",
       "        vertical-align: top;\n",
       "    }\n",
       "\n",
       "    .dataframe thead th {\n",
       "        text-align: right;\n",
       "    }\n",
       "</style>\n",
       "<table border=\"1\" class=\"dataframe\">\n",
       "  <thead>\n",
       "    <tr style=\"text-align: right;\">\n",
       "      <th></th>\n",
       "      <th>Predicted Non-fraudulent</th>\n",
       "      <th>Predicted Fraudulent</th>\n",
       "    </tr>\n",
       "  </thead>\n",
       "  <tbody>\n",
       "    <tr>\n",
       "      <th>True Non-fraudulent</th>\n",
       "      <td>25013</td>\n",
       "      <td>216</td>\n",
       "    </tr>\n",
       "    <tr>\n",
       "      <th>True Fraudulent</th>\n",
       "      <td>1</td>\n",
       "      <td>531</td>\n",
       "    </tr>\n",
       "  </tbody>\n",
       "</table>\n",
       "</div>\n",
       "      <button class=\"colab-df-convert\" onclick=\"convertToInteractive('df-da029835-a59f-4309-8376-96b9f41445d0')\"\n",
       "              title=\"Convert this dataframe to an interactive table.\"\n",
       "              style=\"display:none;\">\n",
       "        \n",
       "  <svg xmlns=\"http://www.w3.org/2000/svg\" height=\"24px\"viewBox=\"0 0 24 24\"\n",
       "       width=\"24px\">\n",
       "    <path d=\"M0 0h24v24H0V0z\" fill=\"none\"/>\n",
       "    <path d=\"M18.56 5.44l.94 2.06.94-2.06 2.06-.94-2.06-.94-.94-2.06-.94 2.06-2.06.94zm-11 1L8.5 8.5l.94-2.06 2.06-.94-2.06-.94L8.5 2.5l-.94 2.06-2.06.94zm10 10l.94 2.06.94-2.06 2.06-.94-2.06-.94-.94-2.06-.94 2.06-2.06.94z\"/><path d=\"M17.41 7.96l-1.37-1.37c-.4-.4-.92-.59-1.43-.59-.52 0-1.04.2-1.43.59L10.3 9.45l-7.72 7.72c-.78.78-.78 2.05 0 2.83L4 21.41c.39.39.9.59 1.41.59.51 0 1.02-.2 1.41-.59l7.78-7.78 2.81-2.81c.8-.78.8-2.07 0-2.86zM5.41 20L4 18.59l7.72-7.72 1.47 1.35L5.41 20z\"/>\n",
       "  </svg>\n",
       "      </button>\n",
       "      \n",
       "  <style>\n",
       "    .colab-df-container {\n",
       "      display:flex;\n",
       "      flex-wrap:wrap;\n",
       "      gap: 12px;\n",
       "    }\n",
       "\n",
       "    .colab-df-convert {\n",
       "      background-color: #E8F0FE;\n",
       "      border: none;\n",
       "      border-radius: 50%;\n",
       "      cursor: pointer;\n",
       "      display: none;\n",
       "      fill: #1967D2;\n",
       "      height: 32px;\n",
       "      padding: 0 0 0 0;\n",
       "      width: 32px;\n",
       "    }\n",
       "\n",
       "    .colab-df-convert:hover {\n",
       "      background-color: #E2EBFA;\n",
       "      box-shadow: 0px 1px 2px rgba(60, 64, 67, 0.3), 0px 1px 3px 1px rgba(60, 64, 67, 0.15);\n",
       "      fill: #174EA6;\n",
       "    }\n",
       "\n",
       "    [theme=dark] .colab-df-convert {\n",
       "      background-color: #3B4455;\n",
       "      fill: #D2E3FC;\n",
       "    }\n",
       "\n",
       "    [theme=dark] .colab-df-convert:hover {\n",
       "      background-color: #434B5C;\n",
       "      box-shadow: 0px 1px 3px 1px rgba(0, 0, 0, 0.15);\n",
       "      filter: drop-shadow(0px 1px 2px rgba(0, 0, 0, 0.3));\n",
       "      fill: #FFFFFF;\n",
       "    }\n",
       "  </style>\n",
       "\n",
       "      <script>\n",
       "        const buttonEl =\n",
       "          document.querySelector('#df-da029835-a59f-4309-8376-96b9f41445d0 button.colab-df-convert');\n",
       "        buttonEl.style.display =\n",
       "          google.colab.kernel.accessAllowed ? 'block' : 'none';\n",
       "\n",
       "        async function convertToInteractive(key) {\n",
       "          const element = document.querySelector('#df-da029835-a59f-4309-8376-96b9f41445d0');\n",
       "          const dataTable =\n",
       "            await google.colab.kernel.invokeFunction('convertToInteractive',\n",
       "                                                     [key], {});\n",
       "          if (!dataTable) return;\n",
       "\n",
       "          const docLinkHtml = 'Like what you see? Visit the ' +\n",
       "            '<a target=\"_blank\" href=https://colab.research.google.com/notebooks/data_table.ipynb>data table notebook</a>'\n",
       "            + ' to learn more about interactive tables.';\n",
       "          element.innerHTML = '';\n",
       "          dataTable['output_type'] = 'display_data';\n",
       "          await google.colab.output.renderOutput(dataTable, element);\n",
       "          const docLink = document.createElement('div');\n",
       "          docLink.innerHTML = docLinkHtml;\n",
       "          element.appendChild(docLink);\n",
       "        }\n",
       "      </script>\n",
       "    </div>\n",
       "  </div>\n",
       "  "
      ],
      "text/plain": [
       "                     Predicted Non-fraudulent  Predicted Fraudulent\n",
       "True Non-fraudulent                     25013                   216\n",
       "True Fraudulent                             1                   531"
      ]
     },
     "metadata": {},
     "output_type": "display_data"
    }
   ],
   "source": [
    "display(y_val.value_counts())\n",
    "\n",
    "# confusion matrix\n",
    "con_matrix = pd.DataFrame(\n",
    "    data = confusion_matrix(y_test, y_pred_down),\n",
    "    index = ['True Non-fraudulent', 'True Fraudulent'],\n",
    "    columns = ['Predicted Non-fraudulent', 'Predicted Fraudulent']\n",
    ")\n",
    "display(con_matrix)"
   ]
  },
  {
   "cell_type": "code",
   "execution_count": 101,
   "metadata": {
    "colab": {
     "base_uri": "https://localhost:8080/",
     "height": 283
    },
    "executionInfo": {
     "elapsed": 639,
     "status": "ok",
     "timestamp": 1659845533846,
     "user": {
      "displayName": "Tolu O.",
      "userId": "04888393322604891463"
     },
     "user_tz": 240
    },
    "id": "aZ0kmh-P2QN4",
    "outputId": "a8806bcf-9e17-4a9b-ac25-dec589f6471f"
   },
   "outputs": [
    {
     "data": {
      "image/png": "[encoded data removed]",
      "text/plain": [
       "<Figure size 432x288 with 2 Axes>"
      ]
     },
     "metadata": {
      "needs_background": "light"
     },
     "output_type": "display_data"
    }
   ],
   "source": [
    "plot_confusion_matrix(XGB_model_down, X_test.values, y_test);"
   ]
  },
  {
   "cell_type": "code",
   "execution_count": 102,
   "metadata": {
    "colab": {
     "base_uri": "https://localhost:8080/",
     "height": 295
    },
    "executionInfo": {
     "elapsed": 2554,
     "status": "ok",
     "timestamp": 1659845536398,
     "user": {
      "displayName": "Tolu O.",
      "userId": "04888393322604891463"
     },
     "user_tz": 240
    },
    "id": "ctyWQUqy3f4J",
    "outputId": "6f86313d-9483-4541-e488-41c1a746c7cf"
   },
   "outputs": [
    {
     "data": {
      "image/png": "[encoded data removed]",
      "text/plain": [
       "<Figure size 432x288 with 1 Axes>"
      ]
     },
     "metadata": {
      "needs_background": "light"
     },
     "output_type": "display_data"
    }
   ],
   "source": [
    "# probabilistic prediction\n",
    "y_test_proba = XGB_model_down.predict_proba(X_test.values)[:,1] # probabilities of data points being in the positive class\n",
    "\n",
    "# ROC arrays\n",
    "fprs, tprs, thresholds = roc_curve(y_test, y_test_proba)\n",
    "\n",
    "# AUC\n",
    "roc_auc = roc_auc_score(y_test, y_test_proba)\n",
    "\n",
    "# plot\n",
    "plt.figure()\n",
    "sns.lineplot(fprs, tprs, color='red', lw=2, label=f'ROC (AUC = {roc_auc:0.2f})')\n",
    "sns.lineplot([0, 1], [0, 1], color='black', lw=2, label='random guess') # random guess\n",
    "plt.xlabel('FPR')\n",
    "plt.ylabel('Recall or TPR')\n",
    "plt.title('ROC Curve for Credit Card Fraud Prediction for XGBoost (Downsampled Data)')\n",
    "plt.legend(loc='best')\n",
    "plt.show()"
   ]
  },
  {
   "cell_type": "markdown",
   "metadata": {
    "id": "R9cxwsoU2EiN"
   },
   "source": [
    "### Upsampled Data (Original)"
   ]
  },
  {
   "cell_type": "code",
   "execution_count": 103,
   "metadata": {
    "colab": {
     "base_uri": "https://localhost:8080/",
     "height": 178
    },
    "executionInfo": {
     "elapsed": 4,
     "status": "ok",
     "timestamp": 1659845536398,
     "user": {
      "displayName": "Tolu O.",
      "userId": "04888393322604891463"
     },
     "user_tz": 240
    },
    "id": "eyVfYDgW2Gi4",
    "outputId": "cac56239-f7ed-4bbc-8d11-d7fa3915de03"
   },
   "outputs": [
    {
     "name": "stdout",
     "output_type": "stream",
     "text": [
      "Original class distribution\n"
     ]
    },
    {
     "data": {
      "text/plain": [
       "0    70638\n",
       "1     1490\n",
       "Name: is_fraud, dtype: int64"
      ]
     },
     "metadata": {},
     "output_type": "display_data"
    },
    {
     "name": "stdout",
     "output_type": "stream",
     "text": [
      "\n",
      "Resampled class distribution (Upsampled)\n"
     ]
    },
    {
     "data": {
      "text/plain": [
       "0    70638\n",
       "1    70638\n",
       "dtype: int64"
      ]
     },
     "metadata": {},
     "output_type": "display_data"
    }
   ],
   "source": [
    "print('Original class distribution')\n",
    "display(pd.Series(y_train).value_counts().sort_index())\n",
    "\n",
    "print('\\nResampled class distribution (Upsampled)')\n",
    "display(pd.Series(y_up).value_counts().sort_index())"
   ]
  },
  {
   "cell_type": "code",
   "execution_count": 104,
   "metadata": {
    "colab": {
     "base_uri": "https://localhost:8080/"
    },
    "executionInfo": {
     "elapsed": 221880,
     "status": "ok",
     "timestamp": 1659845758276,
     "user": {
      "displayName": "Tolu O.",
      "userId": "04888393322604891463"
     },
     "user_tz": 240
    },
    "id": "L40cuuJ04utc",
    "outputId": "3f3b9f27-b195-4d84-ad7b-8e3a05ffa5ba"
   },
   "outputs": [
    {
     "name": "stdout",
     "output_type": "stream",
     "text": [
      "Train Accuracy: 0.9979755938729862\n",
      "Validation Accuracy: 0.9961504868501925\n",
      "Test Accuracy: 0.9956523426885602\n"
     ]
    }
   ],
   "source": [
    "XGB_model_up = XGBClassifier().fit(X_up, y_up)\n",
    "\n",
    "print(f\"Train Accuracy: {XGB_model_up.score(X_up, y_up)}\")\n",
    "print(f\"Validation Accuracy: {XGB_model_up.score(X_val.values, y_val)}\")\n",
    "print(f\"Test Accuracy: {XGB_model_up.score(X_test.values, y_test)}\")"
   ]
  },
  {
   "cell_type": "code",
   "execution_count": 105,
   "metadata": {
    "colab": {
     "base_uri": "https://localhost:8080/"
    },
    "executionInfo": {
     "elapsed": 487,
     "status": "ok",
     "timestamp": 1659845758748,
     "user": {
      "displayName": "Tolu O.",
      "userId": "04888393322604891463"
     },
     "user_tz": 240
    },
    "id": "xwpLH0LA49mE",
    "outputId": "05a4e3c0-d1d4-47b3-8d51-6223c86b9f35"
   },
   "outputs": [
    {
     "name": "stdout",
     "output_type": "stream",
     "text": [
      "              precision    recall  f1-score   support\n",
      "\n",
      "           0       1.00      1.00      1.00     25229\n",
      "           1       0.83      0.99      0.90       532\n",
      "\n",
      "    accuracy                           1.00     25761\n",
      "   macro avg       0.92      0.99      0.95     25761\n",
      "weighted avg       1.00      1.00      1.00     25761\n",
      "\n"
     ]
    }
   ],
   "source": [
    "y_pred_up = XGB_model_up.predict(X_test.values)\n",
    "\n",
    "report_upsampled = classification_report(y_test, y_pred_up)\n",
    "print(report_upsampled)"
   ]
  },
  {
   "cell_type": "code",
   "execution_count": 106,
   "metadata": {
    "colab": {
     "base_uri": "https://localhost:8080/",
     "height": 166
    },
    "executionInfo": {
     "elapsed": 11,
     "status": "ok",
     "timestamp": 1659845758749,
     "user": {
      "displayName": "Tolu O.",
      "userId": "04888393322604891463"
     },
     "user_tz": 240
    },
    "id": "HdRQM_s94uqD",
    "outputId": "71aeeb36-b843-4abc-d2e7-26d5aa4e5f76"
   },
   "outputs": [
    {
     "data": {
      "text/plain": [
       "0    25229\n",
       "1      532\n",
       "Name: is_fraud, dtype: int64"
      ]
     },
     "metadata": {},
     "output_type": "display_data"
    },
    {
     "data": {
      "text/html": [
       "\n",
       "  <div id=\"df-c4f413dd-2d9e-4c62-9d05-9d52a1398f36\">\n",
       "    <div class=\"colab-df-container\">\n",
       "      <div>\n",
       "<style scoped>\n",
       "    .dataframe tbody tr th:only-of-type {\n",
       "        vertical-align: middle;\n",
       "    }\n",
       "\n",
       "    .dataframe tbody tr th {\n",
       "        vertical-align: top;\n",
       "    }\n",
       "\n",
       "    .dataframe thead th {\n",
       "        text-align: right;\n",
       "    }\n",
       "</style>\n",
       "<table border=\"1\" class=\"dataframe\">\n",
       "  <thead>\n",
       "    <tr style=\"text-align: right;\">\n",
       "      <th></th>\n",
       "      <th>Predicted Non-fraudulent</th>\n",
       "      <th>Predicted Fraudulent</th>\n",
       "    </tr>\n",
       "  </thead>\n",
       "  <tbody>\n",
       "    <tr>\n",
       "      <th>True Non-fraudulent</th>\n",
       "      <td>25121</td>\n",
       "      <td>108</td>\n",
       "    </tr>\n",
       "    <tr>\n",
       "      <th>True Fraudulent</th>\n",
       "      <td>4</td>\n",
       "      <td>528</td>\n",
       "    </tr>\n",
       "  </tbody>\n",
       "</table>\n",
       "</div>\n",
       "      <button class=\"colab-df-convert\" onclick=\"convertToInteractive('df-c4f413dd-2d9e-4c62-9d05-9d52a1398f36')\"\n",
       "              title=\"Convert this dataframe to an interactive table.\"\n",
       "              style=\"display:none;\">\n",
       "        \n",
       "  <svg xmlns=\"http://www.w3.org/2000/svg\" height=\"24px\"viewBox=\"0 0 24 24\"\n",
       "       width=\"24px\">\n",
       "    <path d=\"M0 0h24v24H0V0z\" fill=\"none\"/>\n",
       "    <path d=\"M18.56 5.44l.94 2.06.94-2.06 2.06-.94-2.06-.94-.94-2.06-.94 2.06-2.06.94zm-11 1L8.5 8.5l.94-2.06 2.06-.94-2.06-.94L8.5 2.5l-.94 2.06-2.06.94zm10 10l.94 2.06.94-2.06 2.06-.94-2.06-.94-.94-2.06-.94 2.06-2.06.94z\"/><path d=\"M17.41 7.96l-1.37-1.37c-.4-.4-.92-.59-1.43-.59-.52 0-1.04.2-1.43.59L10.3 9.45l-7.72 7.72c-.78.78-.78 2.05 0 2.83L4 21.41c.39.39.9.59 1.41.59.51 0 1.02-.2 1.41-.59l7.78-7.78 2.81-2.81c.8-.78.8-2.07 0-2.86zM5.41 20L4 18.59l7.72-7.72 1.47 1.35L5.41 20z\"/>\n",
       "  </svg>\n",
       "      </button>\n",
       "      \n",
       "  <style>\n",
       "    .colab-df-container {\n",
       "      display:flex;\n",
       "      flex-wrap:wrap;\n",
       "      gap: 12px;\n",
       "    }\n",
       "\n",
       "    .colab-df-convert {\n",
       "      background-color: #E8F0FE;\n",
       "      border: none;\n",
       "      border-radius: 50%;\n",
       "      cursor: pointer;\n",
       "      display: none;\n",
       "      fill: #1967D2;\n",
       "      height: 32px;\n",
       "      padding: 0 0 0 0;\n",
       "      width: 32px;\n",
       "    }\n",
       "\n",
       "    .colab-df-convert:hover {\n",
       "      background-color: #E2EBFA;\n",
       "      box-shadow: 0px 1px 2px rgba(60, 64, 67, 0.3), 0px 1px 3px 1px rgba(60, 64, 67, 0.15);\n",
       "      fill: #174EA6;\n",
       "    }\n",
       "\n",
       "    [theme=dark] .colab-df-convert {\n",
       "      background-color: #3B4455;\n",
       "      fill: #D2E3FC;\n",
       "    }\n",
       "\n",
       "    [theme=dark] .colab-df-convert:hover {\n",
       "      background-color: #434B5C;\n",
       "      box-shadow: 0px 1px 3px 1px rgba(0, 0, 0, 0.15);\n",
       "      filter: drop-shadow(0px 1px 2px rgba(0, 0, 0, 0.3));\n",
       "      fill: #FFFFFF;\n",
       "    }\n",
       "  </style>\n",
       "\n",
       "      <script>\n",
       "        const buttonEl =\n",
       "          document.querySelector('#df-c4f413dd-2d9e-4c62-9d05-9d52a1398f36 button.colab-df-convert');\n",
       "        buttonEl.style.display =\n",
       "          google.colab.kernel.accessAllowed ? 'block' : 'none';\n",
       "\n",
       "        async function convertToInteractive(key) {\n",
       "          const element = document.querySelector('#df-c4f413dd-2d9e-4c62-9d05-9d52a1398f36');\n",
       "          const dataTable =\n",
       "            await google.colab.kernel.invokeFunction('convertToInteractive',\n",
       "                                                     [key], {});\n",
       "          if (!dataTable) return;\n",
       "\n",
       "          const docLinkHtml = 'Like what you see? Visit the ' +\n",
       "            '<a target=\"_blank\" href=https://colab.research.google.com/notebooks/data_table.ipynb>data table notebook</a>'\n",
       "            + ' to learn more about interactive tables.';\n",
       "          element.innerHTML = '';\n",
       "          dataTable['output_type'] = 'display_data';\n",
       "          await google.colab.output.renderOutput(dataTable, element);\n",
       "          const docLink = document.createElement('div');\n",
       "          docLink.innerHTML = docLinkHtml;\n",
       "          element.appendChild(docLink);\n",
       "        }\n",
       "      </script>\n",
       "    </div>\n",
       "  </div>\n",
       "  "
      ],
      "text/plain": [
       "                     Predicted Non-fraudulent  Predicted Fraudulent\n",
       "True Non-fraudulent                     25121                   108\n",
       "True Fraudulent                             4                   528"
      ]
     },
     "metadata": {},
     "output_type": "display_data"
    }
   ],
   "source": [
    "display(y_test.value_counts())\n",
    "\n",
    "# confusion matrix\n",
    "con_matrix = pd.DataFrame(\n",
    "    data = confusion_matrix(y_test, y_pred_up),\n",
    "    index = ['True Non-fraudulent', 'True Fraudulent'],\n",
    "    columns = ['Predicted Non-fraudulent', 'Predicted Fraudulent']\n",
    ")\n",
    "display(con_matrix)"
   ]
  },
  {
   "cell_type": "code",
   "execution_count": 107,
   "metadata": {
    "colab": {
     "base_uri": "https://localhost:8080/",
     "height": 282
    },
    "executionInfo": {
     "elapsed": 435,
     "status": "ok",
     "timestamp": 1659845759178,
     "user": {
      "displayName": "Tolu O.",
      "userId": "04888393322604891463"
     },
     "user_tz": 240
    },
    "id": "X98sPvyj4um8",
    "outputId": "714294f2-e743-49b8-fde8-d67b71ad35f3"
   },
   "outputs": [
    {
     "data": {
      "image/png": "[encoded data removed]",
      "text/plain": [
       "<Figure size 432x288 with 2 Axes>"
      ]
     },
     "metadata": {
      "needs_background": "light"
     },
     "output_type": "display_data"
    }
   ],
   "source": [
    "plot_confusion_matrix(XGB_model_up, X_test.values, y_test);"
   ]
  },
  {
   "cell_type": "code",
   "execution_count": 108,
   "metadata": {
    "colab": {
     "base_uri": "https://localhost:8080/",
     "height": 295
    },
    "executionInfo": {
     "elapsed": 1826,
     "status": "ok",
     "timestamp": 1659845761003,
     "user": {
      "displayName": "Tolu O.",
      "userId": "04888393322604891463"
     },
     "user_tz": 240
    },
    "id": "JlOl8F4159MH",
    "outputId": "8b2b1fc2-06d2-4052-c68d-ee913a34ea63"
   },
   "outputs": [
    {
     "data": {
      "image/png": "[encoded data removed]",
      "text/plain": [
       "<Figure size 432x288 with 1 Axes>"
      ]
     },
     "metadata": {
      "needs_background": "light"
     },
     "output_type": "display_data"
    }
   ],
   "source": [
    "# probabilistic prediction\n",
    "y_test_proba = XGB_model_up.predict_proba(X_test.values)[:,1] # probabilities of data points being in the positive class\n",
    "\n",
    "# ROC arrays\n",
    "fprs, tprs, thresholds = roc_curve(y_test, y_test_proba)\n",
    "\n",
    "# AUC\n",
    "roc_auc = roc_auc_score(y_test, y_test_proba)\n",
    "\n",
    "# plot\n",
    "plt.figure()\n",
    "sns.lineplot(fprs, tprs, color='red', lw=2, label=f'ROC (AUC = {roc_auc:0.2f})')\n",
    "sns.lineplot([0, 1], [0, 1], color='black', lw=2, label='random guess') # random guess\n",
    "plt.xlabel('FPR')\n",
    "plt.ylabel('Recall or TPR')\n",
    "plt.title('ROC Curve for Credit Card Fraud Prediction for XGBoost (Upsampled Data)')\n",
    "plt.legend(loc='best')\n",
    "plt.show()"
   ]
  },
  {
   "cell_type": "markdown",
   "metadata": {
    "id": "eBntMgKi2G9L"
   },
   "source": [
    "### Optimized Parameters for XGBoost"
   ]
  },
  {
   "cell_type": "code",
   "execution_count": 109,
   "metadata": {
    "colab": {
     "base_uri": "https://localhost:8080/"
    },
    "executionInfo": {
     "elapsed": 500825,
     "status": "ok",
     "timestamp": 1659846261826,
     "user": {
      "displayName": "Tolu O.",
      "userId": "04888393322604891463"
     },
     "user_tz": 240
    },
    "id": "DGe1dtws2K-s",
    "outputId": "3cc74029-87bd-4fec-cc8b-bbe55fc7dab8"
   },
   "outputs": [
    {
     "name": "stdout",
     "output_type": "stream",
     "text": [
      "Train accuracy: 0.9999009031965798\n",
      "Validation accuracy: 0.9984472552000776\n",
      "Test accuracy: 0.9985249019836187\n"
     ]
    }
   ],
   "source": [
    "XGB_model_best_params = XGBClassifier(eta=0.1, gamma=0, \n",
    "                                      max_depth=8, min_child_weight=1).fit(X_up, y_up)\n",
    "\n",
    "print(f\"Train accuracy: {XGB_model_best_params.score(X_up, y_up)}\")\n",
    "print(f\"Validation accuracy: {XGB_model_best_params.score(X_val.values, y_val)}\")\n",
    "print(f\"Test accuracy: {XGB_model_best_params.score(X_test.values, y_test)}\")"
   ]
  },
  {
   "cell_type": "code",
   "execution_count": 110,
   "metadata": {
    "colab": {
     "base_uri": "https://localhost:8080/"
    },
    "executionInfo": {
     "elapsed": 317,
     "status": "ok",
     "timestamp": 1659846262138,
     "user": {
      "displayName": "Tolu O.",
      "userId": "04888393322604891463"
     },
     "user_tz": 240
    },
    "id": "N78kQgbv4Moc",
    "outputId": "2d99f5eb-0175-461b-885d-d2731cc87cba"
   },
   "outputs": [
    {
     "name": "stdout",
     "output_type": "stream",
     "text": [
      "              precision    recall  f1-score   support\n",
      "\n",
      "           0       1.00      1.00      1.00     25229\n",
      "           1       0.94      0.99      0.97       532\n",
      "\n",
      "    accuracy                           1.00     25761\n",
      "   macro avg       0.97      0.99      0.98     25761\n",
      "weighted avg       1.00      1.00      1.00     25761\n",
      "\n"
     ]
    }
   ],
   "source": [
    "y_pred = XGB_model_best_params.predict(X_test.values)\n",
    "\n",
    "report_XGB_best = classification_report(y_test, y_pred)\n",
    "print(report_XGB_best)"
   ]
  },
  {
   "cell_type": "code",
   "execution_count": 111,
   "metadata": {
    "colab": {
     "base_uri": "https://localhost:8080/",
     "height": 166
    },
    "executionInfo": {
     "elapsed": 4,
     "status": "ok",
     "timestamp": 1659846262138,
     "user": {
      "displayName": "Tolu O.",
      "userId": "04888393322604891463"
     },
     "user_tz": 240
    },
    "id": "fwBWSNVx4TDL",
    "outputId": "9b2cd5fb-9864-453a-f6b4-cec9d4f53365"
   },
   "outputs": [
    {
     "data": {
      "text/plain": [
       "0    25229\n",
       "1      532\n",
       "Name: is_fraud, dtype: int64"
      ]
     },
     "metadata": {},
     "output_type": "display_data"
    },
    {
     "data": {
      "text/html": [
       "\n",
       "  <div id=\"df-d7c1ff04-d146-4371-97d7-cd1e725ef39c\">\n",
       "    <div class=\"colab-df-container\">\n",
       "      <div>\n",
       "<style scoped>\n",
       "    .dataframe tbody tr th:only-of-type {\n",
       "        vertical-align: middle;\n",
       "    }\n",
       "\n",
       "    .dataframe tbody tr th {\n",
       "        vertical-align: top;\n",
       "    }\n",
       "\n",
       "    .dataframe thead th {\n",
       "        text-align: right;\n",
       "    }\n",
       "</style>\n",
       "<table border=\"1\" class=\"dataframe\">\n",
       "  <thead>\n",
       "    <tr style=\"text-align: right;\">\n",
       "      <th></th>\n",
       "      <th>Predicted Non-fraudulent</th>\n",
       "      <th>Predicted Fraudulent</th>\n",
       "    </tr>\n",
       "  </thead>\n",
       "  <tbody>\n",
       "    <tr>\n",
       "      <th>True Non-fraudulent</th>\n",
       "      <td>25196</td>\n",
       "      <td>33</td>\n",
       "    </tr>\n",
       "    <tr>\n",
       "      <th>True Fraudulent</th>\n",
       "      <td>5</td>\n",
       "      <td>527</td>\n",
       "    </tr>\n",
       "  </tbody>\n",
       "</table>\n",
       "</div>\n",
       "      <button class=\"colab-df-convert\" onclick=\"convertToInteractive('df-d7c1ff04-d146-4371-97d7-cd1e725ef39c')\"\n",
       "              title=\"Convert this dataframe to an interactive table.\"\n",
       "              style=\"display:none;\">\n",
       "        \n",
       "  <svg xmlns=\"http://www.w3.org/2000/svg\" height=\"24px\"viewBox=\"0 0 24 24\"\n",
       "       width=\"24px\">\n",
       "    <path d=\"M0 0h24v24H0V0z\" fill=\"none\"/>\n",
       "    <path d=\"M18.56 5.44l.94 2.06.94-2.06 2.06-.94-2.06-.94-.94-2.06-.94 2.06-2.06.94zm-11 1L8.5 8.5l.94-2.06 2.06-.94-2.06-.94L8.5 2.5l-.94 2.06-2.06.94zm10 10l.94 2.06.94-2.06 2.06-.94-2.06-.94-.94-2.06-.94 2.06-2.06.94z\"/><path d=\"M17.41 7.96l-1.37-1.37c-.4-.4-.92-.59-1.43-.59-.52 0-1.04.2-1.43.59L10.3 9.45l-7.72 7.72c-.78.78-.78 2.05 0 2.83L4 21.41c.39.39.9.59 1.41.59.51 0 1.02-.2 1.41-.59l7.78-7.78 2.81-2.81c.8-.78.8-2.07 0-2.86zM5.41 20L4 18.59l7.72-7.72 1.47 1.35L5.41 20z\"/>\n",
       "  </svg>\n",
       "      </button>\n",
       "      \n",
       "  <style>\n",
       "    .colab-df-container {\n",
       "      display:flex;\n",
       "      flex-wrap:wrap;\n",
       "      gap: 12px;\n",
       "    }\n",
       "\n",
       "    .colab-df-convert {\n",
       "      background-color: #E8F0FE;\n",
       "      border: none;\n",
       "      border-radius: 50%;\n",
       "      cursor: pointer;\n",
       "      display: none;\n",
       "      fill: #1967D2;\n",
       "      height: 32px;\n",
       "      padding: 0 0 0 0;\n",
       "      width: 32px;\n",
       "    }\n",
       "\n",
       "    .colab-df-convert:hover {\n",
       "      background-color: #E2EBFA;\n",
       "      box-shadow: 0px 1px 2px rgba(60, 64, 67, 0.3), 0px 1px 3px 1px rgba(60, 64, 67, 0.15);\n",
       "      fill: #174EA6;\n",
       "    }\n",
       "\n",
       "    [theme=dark] .colab-df-convert {\n",
       "      background-color: #3B4455;\n",
       "      fill: #D2E3FC;\n",
       "    }\n",
       "\n",
       "    [theme=dark] .colab-df-convert:hover {\n",
       "      background-color: #434B5C;\n",
       "      box-shadow: 0px 1px 3px 1px rgba(0, 0, 0, 0.15);\n",
       "      filter: drop-shadow(0px 1px 2px rgba(0, 0, 0, 0.3));\n",
       "      fill: #FFFFFF;\n",
       "    }\n",
       "  </style>\n",
       "\n",
       "      <script>\n",
       "        const buttonEl =\n",
       "          document.querySelector('#df-d7c1ff04-d146-4371-97d7-cd1e725ef39c button.colab-df-convert');\n",
       "        buttonEl.style.display =\n",
       "          google.colab.kernel.accessAllowed ? 'block' : 'none';\n",
       "\n",
       "        async function convertToInteractive(key) {\n",
       "          const element = document.querySelector('#df-d7c1ff04-d146-4371-97d7-cd1e725ef39c');\n",
       "          const dataTable =\n",
       "            await google.colab.kernel.invokeFunction('convertToInteractive',\n",
       "                                                     [key], {});\n",
       "          if (!dataTable) return;\n",
       "\n",
       "          const docLinkHtml = 'Like what you see? Visit the ' +\n",
       "            '<a target=\"_blank\" href=https://colab.research.google.com/notebooks/data_table.ipynb>data table notebook</a>'\n",
       "            + ' to learn more about interactive tables.';\n",
       "          element.innerHTML = '';\n",
       "          dataTable['output_type'] = 'display_data';\n",
       "          await google.colab.output.renderOutput(dataTable, element);\n",
       "          const docLink = document.createElement('div');\n",
       "          docLink.innerHTML = docLinkHtml;\n",
       "          element.appendChild(docLink);\n",
       "        }\n",
       "      </script>\n",
       "    </div>\n",
       "  </div>\n",
       "  "
      ],
      "text/plain": [
       "                     Predicted Non-fraudulent  Predicted Fraudulent\n",
       "True Non-fraudulent                     25196                    33\n",
       "True Fraudulent                             5                   527"
      ]
     },
     "metadata": {},
     "output_type": "display_data"
    }
   ],
   "source": [
    "display(y_test.value_counts())\n",
    "\n",
    "# confusion matrix\n",
    "con_matrix = pd.DataFrame(\n",
    "    data = confusion_matrix(y_test, y_pred),\n",
    "    index = ['True Non-fraudulent', 'True Fraudulent'],\n",
    "    columns = ['Predicted Non-fraudulent', 'Predicted Fraudulent']\n",
    ")\n",
    "display(con_matrix)"
   ]
  },
  {
   "cell_type": "code",
   "execution_count": 112,
   "metadata": {
    "colab": {
     "base_uri": "https://localhost:8080/",
     "height": 282
    },
    "executionInfo": {
     "elapsed": 664,
     "status": "ok",
     "timestamp": 1659846262799,
     "user": {
      "displayName": "Tolu O.",
      "userId": "04888393322604891463"
     },
     "user_tz": 240
    },
    "id": "SpXwTBtb4auU",
    "outputId": "17aedef7-e057-4e5e-efaf-d010861f3597"
   },
   "outputs": [
    {
     "data": {
      "image/png": "[encoded data removed]",
      "text/plain": [
       "<Figure size 432x288 with 2 Axes>"
      ]
     },
     "metadata": {
      "needs_background": "light"
     },
     "output_type": "display_data"
    }
   ],
   "source": [
    "plot_confusion_matrix(XGB_model_best_params, X_test.values, y_test);"
   ]
  },
  {
   "cell_type": "code",
   "execution_count": 113,
   "metadata": {
    "colab": {
     "base_uri": "https://localhost:8080/",
     "height": 295
    },
    "executionInfo": {
     "elapsed": 1446,
     "status": "ok",
     "timestamp": 1659846264241,
     "user": {
      "displayName": "Tolu O.",
      "userId": "04888393322604891463"
     },
     "user_tz": 240
    },
    "id": "uqsIpmXT4dPM",
    "outputId": "e63167b7-e615-41e7-8f0b-c75cde6a1dc9"
   },
   "outputs": [
    {
     "data": {
      "image/png": "[encoded data removed]",
      "text/plain": [
       "<Figure size 432x288 with 1 Axes>"
      ]
     },
     "metadata": {
      "needs_background": "light"
     },
     "output_type": "display_data"
    }
   ],
   "source": [
    "# probabilistic prediction\n",
    "y_test_proba = XGB_model_best_params.predict_proba(X_test.values)[:,1] # probabilities of data points being in the positive class\n",
    "\n",
    "# ROC arrays\n",
    "fprs, tprs, thresholds = roc_curve(y_test, y_test_proba)\n",
    "\n",
    "# AUC\n",
    "roc_auc = roc_auc_score(y_test, y_test_proba)\n",
    "\n",
    "# plot\n",
    "plt.figure()\n",
    "sns.lineplot(fprs, tprs, color='red', lw=2, label=f'ROC (AUC = {roc_auc:0.2f})')\n",
    "sns.lineplot([0, 1], [0, 1], color='black', lw=2, label='random guess') # random guess\n",
    "plt.xlabel('FPR')\n",
    "plt.ylabel('Recall or TPR')\n",
    "plt.title('ROC Curve for Credit Card Fraud Prediction using XGBoost Model')\n",
    "plt.legend(loc='best')\n",
    "plt.show()"
   ]
  },
  {
   "cell_type": "markdown",
   "metadata": {
    "id": "lLhBKjU6payr"
   },
   "source": [
    "# Comparison of Models on Test Set VS Models on Validation Set\n",
    "\n",
    "\n",
    "**Original Base Models on Validation Set**\n",
    "\n",
    "Model                | Precision | Recall | F1 Score \n",
    "-------------------  |-----------|------- | ---------\n",
    "Decision Tree        | 96%       | 95%    | 95%\n",
    "KNN                  | 95%       | 17%    | 29%\n",
    "Logistic Regression  | 82%       | 46%    | 59%\n",
    "Random Forest        | 99%       | 83%    | 91%\n",
    "XGBOOST              | 97%       | 95%    | 96%\n",
    "Neural Network       | 0%        | 0%     | 0%\n",
    "\n",
    "\n",
    "**XGBoost Models on Validation Set**\n",
    "\n",
    "Model           | Precision | Recall | F1 Score \n",
    "----------------|-----------|------- | ---------\n",
    "Original        | 97%       | 95%    | 96%\n",
    "Upsampled       | 85%       | 99%    | 91%\n",
    "Downsampled     | 75%       | 99%    | 85%\n",
    "\n",
    "\n",
    "**All Models on Test Set**\n",
    "\n",
    "Model                | Precision | Recall | F1 Score \n",
    "-------------------  |-----------|------- | ---------\n",
    "Decision Tree        | 95%       | 95%    | 95%\n",
    "KNN                  | 94%       | 17%    | 28%\n",
    "Logistic Regression  | 77%       | 43%    | 65%\n",
    "Random Forest        | 99%       | 81%    | 89%\n",
    "XGBoost (Original)   | 96%       | 96%    | 96%\n",
    "XGBoost (Downsampled)| 71%       | 100%   | 83%\n",
    "XGBoost (Upsampled)  | 83%       | 99%    | 90%\n",
    "XGBoost (Optimized)  | 94%       | 99%    | 97%\n",
    "\n",
    "---"
   ]
  },
  {
   "cell_type": "markdown",
   "metadata": {
    "id": "wYkxF3LEUIRG"
   },
   "source": [
    "# Summary\n",
    "\n",
    "In this notebook, I conducted different models on the dataset to determine which model is the best performing with regards to correctly detecting fraudulent transactions without trading precision.\n",
    "\n",
    "Depending on the financial institution, there might be more emphasis on being able to detect 100% of the fraudulent transactions, despite misclassifying non-fraudulent transactions.\n",
    "\n",
    "In this case, the evaluation metric I chose to use was to be able to identify as many fraudulent cases as possible without having a low f1-score or precision score. With the optimized XGBoost model, it was able to detect 99% of the fraudulent cases with an impressive 94% precision score as well.\n",
    "\n",
    "The next step would be to deploy the best performing model to be used in real-life cases.\n",
    "\n",
    "**Practical Applications:**\n",
    "\n",
    "This model can be used in financial institutions, FinTech companies, and credit card companies to detect credit card fraudulent transactions.\n",
    "\n",
    "**Potential Future Direction:**\n",
    "\n",
    "Some Potential future direction for my project would be being able to predict customers with increased likelihood of being defrauded - based on their financial state (i.e. the customer's amount of debt)\n",
    "\n",
    "Another is to further develop the model not just on credit card transactions, but on other types of transactions/payment or even much further in spam detection."
   ]
  }
 ],
 "metadata": {
  "colab": {
   "authorship_tag": "ABX9TyNj6S/9yvfKX4q28jv4O448",
   "collapsed_sections": [],
   "machine_shape": "hm",
   "name": "Tolulope_Oludemi - Notebook #3 - Modeling.ipynb",
   "provenance": [],
   "toc_visible": true
  },
  "gpuClass": "standard",
  "kernelspec": {
   "display_name": "Python 3 (ipykernel)",
   "language": "python",
   "name": "python3"
  },
  "language_info": {
   "codemirror_mode": {
    "name": "ipython",
    "version": 3
   },
   "file_extension": ".py",
   "mimetype": "text/x-python",
   "name": "python",
   "nbconvert_exporter": "python",
   "pygments_lexer": "ipython3",
   "version": "3.9.7"
  },
  "toc": {
   "base_numbering": 1,
   "nav_menu": {},
   "number_sections": true,
   "sideBar": true,
   "skip_h1_title": false,
   "title_cell": "Table of Contents",
   "title_sidebar": "Contents",
   "toc_cell": false,
   "toc_position": {
    "height": "calc(100% - 180px)",
    "left": "10px",
    "top": "150px",
    "width": "288px"
   },
   "toc_section_display": true,
   "toc_window_display": false
  }
 },
 "nbformat": 4,
 "nbformat_minor": 1
}
